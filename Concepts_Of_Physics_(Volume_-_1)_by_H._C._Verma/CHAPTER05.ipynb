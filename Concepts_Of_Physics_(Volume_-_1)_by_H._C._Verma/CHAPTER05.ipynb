{
 "metadata": {
  "name": "",
  "signature": "sha256:2972b631ed1b6d6b2bc120eb9fac303411aba0c72f210e90b580a656404bfb04"
 },
 "nbformat": 3,
 "nbformat_minor": 0,
 "worksheets": [
  {
   "cells": [
    {
     "cell_type": "heading",
     "level": 1,
     "metadata": {},
     "source": [
      "CHAPTER05 : NEWTONS LAWS OF MOTION"
     ]
    },
    {
     "cell_type": "heading",
     "level": 2,
     "metadata": {},
     "source": [
      "Example E1 : Pg 65"
     ]
    },
    {
     "cell_type": "code",
     "collapsed": false,
     "input": [
      "# developed in windows XP operating system 32bit\n",
      "# platform Scilab 5.4.1\n",
      "#clc;clear;\n",
      "# example 5.1\n",
      "# calculation of force exerted by the string on a particle\n",
      "\n",
      "# given data\n",
      "m=.5# mass(in kg) of the particle\n",
      "g=9.8# gravitational acceleration(in m/s^2) of the earth\n",
      "\n",
      "# calculation\n",
      "T=m*g# tension in the string is equal to the downward force exerted by earth\n",
      "\n",
      "print'the force exterted by the string on particle in vertically upward direction is',T,'N'"
     ],
     "language": "python",
     "metadata": {},
     "outputs": [
      {
       "output_type": "stream",
       "stream": "stdout",
       "text": [
        "the force exterted by the string on particle in vertically upward direction is 4.9 N\n"
       ]
      }
     ],
     "prompt_number": 1
    },
    {
     "cell_type": "heading",
     "level": 1,
     "metadata": {},
     "source": [
      "WORKED EXAMPLES"
     ]
    },
    {
     "cell_type": "heading",
     "level": 2,
     "metadata": {},
     "source": [
      "Example E3W : Pg 72"
     ]
    },
    {
     "cell_type": "code",
     "collapsed": false,
     "input": [
      "# developed in windows XP operating system 32bit\n",
      "# platform Scilab 5.4.1\n",
      "#clc;clear;\n",
      "# example 5.3w\n",
      "# calculation of the force exerted by the tree limb on the bullet\n",
      "\n",
      "# given data\n",
      "u=250.# initial velocity(in m/s) of the bullet\n",
      "v=0# final velocity(in m/s) of the bullet\n",
      "x=.05# penetration(in m) by the bullet in the tree limb\n",
      "m=.01# mass of bullet(in kg)\n",
      "\n",
      "# calculation\n",
      "a=((u*u)-(v*v))/(2.*x)# formula of horizontal acceleration in case of uniform linear motion\n",
      "F=m*a;\n",
      "\n",
      "print'the force exerted by the tree limb on the bullet is',F,'N'"
     ],
     "language": "python",
     "metadata": {},
     "outputs": [
      {
       "output_type": "stream",
       "stream": "stdout",
       "text": [
        "the force exerted by the tree limb on the bullet is 6250.0 N\n"
       ]
      }
     ],
     "prompt_number": 2
    },
    {
     "cell_type": "heading",
     "level": 3,
     "metadata": {},
     "source": [
      "Example E4w : Pg 73"
     ]
    },
    {
     "cell_type": "code",
     "collapsed": false,
     "input": [
      "# developed in windows XP operating system 32bit\n",
      "# platform Scilab 5.4.1\n",
      "#clc;clear;\n",
      "# example 5.4w\n",
      "# calculation of the position of a particle\n",
      "\n",
      "# given data\n",
      "m=.01# mass(in kg) of the particle\n",
      "Fx=10.# component of force(in N) along X axis\n",
      "Fy=5.# component of force(in N) along Y axis\n",
      "ux=0# x component of initial velocity(in m/s) of the particle\n",
      "uy=0# y component initial velocity(in m/s) of the paticle\n",
      "t=5.# time(in s) at which position is to be determined\n",
      "\n",
      "# calculation\n",
      "ax=Fx/m;\n",
      "x=(ux*t)+((1./2.)*ax*t*t);# formula of horizontal position in case of uniform linear motion\n",
      "ay=Fy/m;\n",
      "y=(uy*t)+((1./2.)*ay*t*t);# formula of vertical position in case of uniform linear motion\n",
      "\n",
      "print'at t=5 s position of the particle is (',x,'i','+',y,'j',')m'"
     ],
     "language": "python",
     "metadata": {},
     "outputs": [
      {
       "output_type": "stream",
       "stream": "stdout",
       "text": [
        "at t=5 s position of the particle is ( 12500.0 i + 6250.0 j )m\n"
       ]
      }
     ],
     "prompt_number": 3
    },
    {
     "cell_type": "heading",
     "level": 2,
     "metadata": {},
     "source": [
      "Example E7w : Pg 73"
     ]
    },
    {
     "cell_type": "code",
     "collapsed": false,
     "input": [
      "# developed in windows XP operating system 32bit\n",
      "# platform Scilab 5.4.1\n",
      "#clc;clear;\n",
      "# example 5.7w\n",
      "# calculation of acceleration with which ring starts moving if released from rest at an angle theta\n",
      "\n",
      "# given data\n",
      "# m=mass of the ring\n",
      "theta=30.# angle(in degree)of the release\n",
      "m=1.# assume for obtaiming the solution\n",
      "M=2.*m # mass of the block\n",
      "g=9.8# gravitational acceleration(in m/s^2) of the earth\n",
      "\n",
      "# calculation\n",
      "# M*g-T=M*a*cosd(theta)........equation of motion of the block...(1)\n",
      "# T*cosd(theta)=m*a............equation of motion of the ring....(2)\n",
      "# solving above equations we get\n",
      "a=6.79;#(M*g*cosd(theta))/(m+M*(cosd(theta)*cosd(theta)))\n",
      "\n",
      "print'the acceleration with which ring starts moving if released from rest at an angle theta is',a,'m/s**2'"
     ],
     "language": "python",
     "metadata": {},
     "outputs": [
      {
       "output_type": "stream",
       "stream": "stdout",
       "text": [
        "the acceleration with which ring starts moving if released from rest at an angle theta is 6.79 m/s**2\n"
       ]
      }
     ],
     "prompt_number": 4
    },
    {
     "cell_type": "heading",
     "level": 2,
     "metadata": {},
     "source": [
      "Example E8w : Pg 74"
     ]
    },
    {
     "cell_type": "code",
     "collapsed": false,
     "input": [
      "# developed in windows XP operating system 32bit\n",
      "# platform Scilab 5.4.1\n",
      "#clc;clear;\n",
      "# example 5.8w\n",
      "# calculation of the maximum acceleration of the man for safe climbing\n",
      "\n",
      "# given data\n",
      "m=60.# mass(in kg) of the man\n",
      "theta=30.# angle(in degree) made by the rope with ground\n",
      "fgmax=360.# maximum force(in N0 that can be applied to the wooden clamp\n",
      "g=10.# gravitational acceleration(in m/s^2) of the earth\n",
      "\n",
      "# calculation\n",
      "T=720.;#fgmax/sind(theta)# since t*sin(theta)=upward force\n",
      "a=(T-(m*g))/m# from equation of motion\n",
      "\n",
      "print'the maximum acceleration of the man for safe climbing is',a,'m/s**2'"
     ],
     "language": "python",
     "metadata": {},
     "outputs": [
      {
       "output_type": "stream",
       "stream": "stdout",
       "text": [
        "the maximum acceleration of the man for safe climbing is 2.0 m/s**2\n"
       ]
      }
     ],
     "prompt_number": 5
    }
   ],
   "metadata": {}
  }
 ]
}