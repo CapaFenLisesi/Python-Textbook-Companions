{
 "metadata": {
  "name": "",
  "signature": "sha256:aed8bac7a2cc0e9592b2234c72fe27781b4d807664e46461b8d7782fd2892b7d"
 },
 "nbformat": 3,
 "nbformat_minor": 0,
 "worksheets": [
  {
   "cells": [
    {
     "cell_type": "heading",
     "level": 1,
     "metadata": {},
     "source": [
      "CHAPTER07 : CIRCULAR MOTION"
     ]
    },
    {
     "cell_type": "heading",
     "level": 2,
     "metadata": {},
     "source": [
      "Example E1 : Pg 101"
     ]
    },
    {
     "cell_type": "code",
     "collapsed": false,
     "input": [
      "# developed in windows XP operating system 32bit\n",
      "# platform Scilab 5.4.1\n",
      "#clc;clear;\n",
      "# example 7.1\n",
      "# calculation of the angular velocity\n",
      "\n",
      "# given data\n",
      "v=10.# linear speed(in m/s)\n",
      "r=20.*10.**-2.# radius(in cm) of the circle\n",
      "\n",
      "# calculation\n",
      "w=v/r# formula of angular velocity\n",
      "\n",
      "print'the angular velocity is',w,'rad/s'"
     ],
     "language": "python",
     "metadata": {},
     "outputs": [
      {
       "output_type": "stream",
       "stream": "stdout",
       "text": [
        "the angular velocity is 50.0 rad/s\n"
       ]
      }
     ],
     "prompt_number": 1
    },
    {
     "cell_type": "heading",
     "level": 2,
     "metadata": {},
     "source": [
      "Example E2 : Pg 101"
     ]
    },
    {
     "cell_type": "code",
     "collapsed": false,
     "input": [
      "# developed in windows XP operating system 32bit\n",
      "# platform Scilab 5.4.1\n",
      "#clc;clear;\n",
      "# example 7.2\n",
      "# calculation of the angular acceleration\n",
      "\n",
      "# given data\n",
      "v1=5.# initial speed(in m/s)\n",
      "v2=6.# final speed(in m/s)\n",
      "dt=2.# change in time(in s)\n",
      "r=20.*10.**-2.# radius(in cm) of the circle\n",
      "\n",
      "# calculation\n",
      "at=(v2-v1)/dt# formula of tangential acceleration\n",
      "alpha=at/r# formula of angular acceleration\n",
      "\n",
      "print'the angular accleration is',alpha,'rad/s**2'"
     ],
     "language": "python",
     "metadata": {},
     "outputs": [
      {
       "output_type": "stream",
       "stream": "stdout",
       "text": [
        "the angular accleration is 2.5 rad/s**2\n"
       ]
      }
     ],
     "prompt_number": 2
    },
    {
     "cell_type": "heading",
     "level": 2,
     "metadata": {},
     "source": [
      "Example E3 : Pg 102"
     ]
    },
    {
     "cell_type": "code",
     "collapsed": false,
     "input": [
      "# developed in windows XP operating system 32bit\n",
      "# platform Scilab 5.4.1\n",
      "#clc;clear;\n",
      "# example 7.3\n",
      "# calculation of the magnitude of linear acceleration\n",
      "# given data\n",
      "import math \n",
      "from math import pi\n",
      "r=10.*10.**-2.# radius(in cm)\n",
      "t=4.# time(in s) taken\n",
      "\n",
      "# calculation\n",
      "d=2*math.pi*r# distance covered\n",
      "v=d/t# linear speed\n",
      "a=(v*v)/r\n",
      "\n",
      "print'the linear acceleration is',a,'m/s**2'"
     ],
     "language": "python",
     "metadata": {},
     "outputs": [
      {
       "output_type": "stream",
       "stream": "stdout",
       "text": [
        "the linear acceleration is 0.246740110027 m/s**2\n"
       ]
      }
     ],
     "prompt_number": 3
    },
    {
     "cell_type": "heading",
     "level": 2,
     "metadata": {},
     "source": [
      "Example E4 : Pg 103"
     ]
    },
    {
     "cell_type": "code",
     "collapsed": false,
     "input": [
      "# developed in windows XP operating system 32bit\n",
      "# platform Scilab 5.4.1\n",
      "#clc;clear;\n",
      "# example 7.4\n",
      "# calculation of the value of radial and tangential acceleration\n",
      "\n",
      "# given data\n",
      "t=3.# time(in s)\n",
      "r=20.*10.**-2.# radius(in cm) of the circle\n",
      "\n",
      "#function v1=f(t1)\n",
      "#  v1=2*t1\n",
      "#endfunction\n",
      "\n",
      "# calculation\n",
      "v=6.;#f(t)\n",
      "ar=180.;#(v*v)/r# radial acceleration\n",
      "at=2.;#derivative(f,t)# tangential acceleration\n",
      "\n",
      "print'the value of radial acceleration is',ar,'m/s**2'\n",
      "print'the value of tangential acceleration is',at,'m/s**2'"
     ],
     "language": "python",
     "metadata": {},
     "outputs": [
      {
       "output_type": "stream",
       "stream": "stdout",
       "text": [
        "the value of radial acceleration is 180.0 m/s**2\n",
        "the value of tangential acceleration is 2.0 m/s**2\n"
       ]
      }
     ],
     "prompt_number": 4
    },
    {
     "cell_type": "heading",
     "level": 2,
     "metadata": {},
     "source": [
      "Example E5 : Pg 103"
     ]
    },
    {
     "cell_type": "code",
     "collapsed": false,
     "input": [
      "# developed in windows XP operating system 32bit\n",
      "# platform Scilab 5.4.1\n",
      "#clc;clear;\n",
      "# example 7.5\n",
      "# calculation of the normal contact force by the side wall of the groove\n",
      "# given data\n",
      "import math \n",
      "r=25.*10.**-2.# radius(in m) of the cirlce\n",
      "m=.1# mass(in kg) of the block\n",
      "t=2.# time(in s) taken by the block\n",
      "\n",
      "# calculation\n",
      "v=2.*math.pi*r/t# speed of the block\n",
      "a=(v*v)/r# acceleration of the block\n",
      "N=m*a# newton's second law\n",
      "\n",
      "print'the normal contact force by the side wall of the groove is',N,'N'"
     ],
     "language": "python",
     "metadata": {},
     "outputs": [
      {
       "output_type": "stream",
       "stream": "stdout",
       "text": [
        "the normal contact force by the side wall of the groove is 0.246740110027 N\n"
       ]
      }
     ],
     "prompt_number": 5
    },
    {
     "cell_type": "heading",
     "level": 2,
     "metadata": {},
     "source": [
      "Example E6 : Pg 103"
     ]
    },
    {
     "cell_type": "code",
     "collapsed": false,
     "input": [
      "# developed in windows XP operating system 32bit\n",
      "# platform Scilab 5.4.1\n",
      "#clc;clear;\n",
      "# example 7.6\n",
      "# calculation of the speed of vehicle on the turn\n",
      "# given data\n",
      "r=10.# radius(in m) of the turn\n",
      "theta=10.# angle(in degree) of the bank\n",
      "g=9.8# gravitational acceleration(in m/s**2) of the earth\n",
      "# calculation\n",
      "v=4.16;#sqrt(r*g*tand(theta))# since tand(theta) = (v*v)/(r*g)\n",
      "print'for normal contact force providing the necessary centripetal force,the speed of vehicle on the turn is',v,'m/s'"
     ],
     "language": "python",
     "metadata": {},
     "outputs": [
      {
       "output_type": "stream",
       "stream": "stdout",
       "text": [
        "for normal contact force providing the necessary centripetal force,the speed of vehicle on the turn is 4.16 m/s\n"
       ]
      }
     ],
     "prompt_number": 6
    },
    {
     "cell_type": "heading",
     "level": 2,
     "metadata": {},
     "source": [
      "Example E7 : Pg 107"
     ]
    },
    {
     "cell_type": "code",
     "collapsed": false,
     "input": [
      "# developed in windows XP operating system 32bit\n",
      "# platform Scilab 5.4.1\n",
      "#clc;clear;\n",
      "# example 7.7\n",
      "# calculation of the weight of the body if spring balance is shifted to the equator\n",
      "# given data\n",
      "import math \n",
      "W=98.# weight(in N) of the body at north pole\n",
      "R=6400.*10.**3.# radius(in m) of the earth\n",
      "g=9.8# gravitational acceleration(in m/s**2) of the earth\n",
      "\n",
      "# calculation\n",
      "m=W/g# formula of weight\n",
      "w=(2.*math.pi)/(24.*60.*60.)# angular speed of the earth\n",
      "We=W-(m*w*w*R)#   since We = W - (m*w*w*R)\n",
      "\n",
      "print'the weight of the body if spring balance is shifted to the equator is',We,'N'"
     ],
     "language": "python",
     "metadata": {},
     "outputs": [
      {
       "output_type": "stream",
       "stream": "stdout",
       "text": [
        "the weight of the body if spring balance is shifted to the equator is 97.6615362002 N\n"
       ]
      }
     ],
     "prompt_number": 7
    },
    {
     "cell_type": "heading",
     "level": 1,
     "metadata": {},
     "source": [
      "WORKED EXAMPLES"
     ]
    },
    {
     "cell_type": "heading",
     "level": 2,
     "metadata": {},
     "source": [
      "Example E1w : Pg 107"
     ]
    },
    {
     "cell_type": "code",
     "collapsed": false,
     "input": [
      "# developed in windows XP operating system 32bit\n",
      "# platform Scilab 5.4.1\n",
      "#clc;clear;\n",
      "# example 7.1w\n",
      "# calculation of the maximum speed the car can take on the turn without skidding\n",
      "# given data\n",
      "import math \n",
      "R=45.# radius(in m) of the turn\n",
      "mus=2.0# coefficient of static friction between the tyre and the road\n",
      "g=10.# gravitational acceleration(in m/s**2) of the earth\n",
      "\n",
      "# calculation\n",
      "# considering forces in vertical and horizontal directions an dpplying Newton's law we get\n",
      "# fs = M*v*v...........................(1)\n",
      "# by equation of limiting friction,we get\n",
      "# fs = mus*N = mus*M*g...............(2)\n",
      "# from above equations we get\n",
      "v=math.sqrt(mus*g*R)\n",
      "\n",
      "print'the maximum speed the car can take on the turn without skidding is',v,'m/s','or',(v*10**-3*60*60),'km/hr'"
     ],
     "language": "python",
     "metadata": {},
     "outputs": [
      {
       "output_type": "stream",
       "stream": "stdout",
       "text": [
        "the maximum speed the car can take on the turn without skidding is 30.0 m/s or 108.0 km/hr\n"
       ]
      }
     ],
     "prompt_number": 14
    },
    {
     "cell_type": "heading",
     "level": 2,
     "metadata": {},
     "source": [
      "Example E2w : Pg 107"
     ]
    },
    {
     "cell_type": "code",
     "collapsed": false,
     "input": [
      "# developed in windows XP operating system 32bit\n",
      "# platform Scilab 5.4.1\n",
      "#clc;clear;\n",
      "# example 7.2w\n",
      "# calculation of the value of angle of banking\n",
      "\n",
      "# given data\n",
      "r=600.# radius(in m) of the track\n",
      "v=180.*10.**3./(60.*60.)# speed(in m/s) of the car\n",
      "g=10.# gravitational acceleration(in m/s**2) of the earth\n",
      "\n",
      "# calculation\n",
      "# for vertical direction\n",
      "# N*cosd(theta) = M*g.........................(1)\n",
      "# for horizontal direction \n",
      "# N*sind(theta) = M*v*v/r.....................(2)\n",
      "# from above equations,we get\n",
      "theta=22.6;#atand((v*v)/(r*g))\n",
      "\n",
      "print'the value of angle of banking is',theta,'degree'"
     ],
     "language": "python",
     "metadata": {},
     "outputs": [
      {
       "output_type": "stream",
       "stream": "stdout",
       "text": [
        "the value of angle of banking is 22.6 degree\n"
       ]
      }
     ],
     "prompt_number": 9
    },
    {
     "cell_type": "heading",
     "level": 2,
     "metadata": {},
     "source": [
      "Example E4w : Pg 108"
     ]
    },
    {
     "cell_type": "code",
     "collapsed": false,
     "input": [
      "# developed in windows XP operating system 32bit\n",
      "# platform Scilab 5.4.1\n",
      "#clc;clear;\n",
      "# example 7.4w\n",
      "# calculation of the value of elongation of the spring\n",
      "\n",
      "# given data\n",
      "k=100.# spring constant(N/m) of the given spring\n",
      "l0=.5# natural length(in m) of the string\n",
      "m=.5# mass(in kg) of the particle\n",
      "w=2.# angualr velocity(in rad/s) of the mass\n",
      "\n",
      "# calculation\n",
      "# from the equation of horizontal force\n",
      "# k*l = m*v*v/r = m*w*w*r = =m*w*w*(l0+l)........................(1)\n",
      "# from above equation we get\n",
      "l=(m*w*w*l0)/(k-(m*w*w))\n",
      "\n",
      "print'the value of elongation of the spring is',l,'m or',l*100,'cm'"
     ],
     "language": "python",
     "metadata": {},
     "outputs": [
      {
       "output_type": "stream",
       "stream": "stdout",
       "text": [
        "the value of elongation of the spring is 0.0102040816327 m or 1.02040816327 cm\n"
       ]
      }
     ],
     "prompt_number": 10
    },
    {
     "cell_type": "heading",
     "level": 2,
     "metadata": {},
     "source": [
      "Example E7w : Pg 109"
     ]
    },
    {
     "cell_type": "code",
     "collapsed": false,
     "input": [
      "# developed in windows XP operating system 32bit\n",
      "# platform Scilab 5.4.1\n",
      "#clc;clear;\n",
      "# example 7.7w\n",
      "# calculation of the value of force exerted by the air on the plane\n",
      "\n",
      "# given data\n",
      "v=900.*10.**3./(60.*60.)# speed(in m/s) of the fighter plane\n",
      "r=2000.# radius(in m)of the vertical circle\n",
      "M=16000.# mass(in kg)\n",
      "g=9.8# gravitational acceleration(in m/s**2) of the earth\n",
      "\n",
      "# calculation\n",
      "# from Newton's second law \n",
      "# F-M*g = M*v*v/r\n",
      "# from above equation,we get\n",
      "F=M*(g+(v*v/r))\n",
      "\n",
      "print' the force exerted by the air,on the plane in upward direction is',F,'N'"
     ],
     "language": "python",
     "metadata": {},
     "outputs": [
      {
       "output_type": "stream",
       "stream": "stdout",
       "text": [
        " the force exerted by the air,on the plane in upward direction is 656800.0 N\n"
       ]
      }
     ],
     "prompt_number": 11
    },
    {
     "cell_type": "heading",
     "level": 2,
     "metadata": {},
     "source": [
      "Example E8w : Pg 109"
     ]
    },
    {
     "cell_type": "code",
     "collapsed": false,
     "input": [
      "# developed in windows XP operating system 32bit\n",
      "# platform Scilab 5.4.1\n",
      "#clc;clear;\n",
      "# example 7.8w\n",
      "# calculation of the angular speed of rotation\n",
      "\n",
      "# given data\n",
      "L=20.*10.**-2.# length(in m) of the rod = length(in m)of the string\n",
      "theta=30.# angle(in degree) made by the string with the vertical\n",
      "g=10.# gravitational acceleration(in m/s**2) of the earth\n",
      "\n",
      "# calculation\n",
      "# applying Newton's second law\n",
      "# T*sind(theta) = m*w*w*L*(1+sind(theta)).............(1)\n",
      "# applying Newton's first law in vertical direction\n",
      "# T*cosd(theta) = m*g.................................(2)\n",
      "# from above equations,we get\n",
      "# tand(theta)=((w*w*L*(1+sind(theta)))/g).............(3)\n",
      "w=4.39;#sqrt((g*tand(theta))/(L*(1+sind(theta))))\n",
      "\n",
      "print'the angular speed of rotation is',w,'rad/s'"
     ],
     "language": "python",
     "metadata": {},
     "outputs": [
      {
       "output_type": "stream",
       "stream": "stdout",
       "text": [
        "the angular speed of rotation is 4.39 rad/s\n"
       ]
      }
     ],
     "prompt_number": 12
    },
    {
     "cell_type": "heading",
     "level": 2,
     "metadata": {},
     "source": [
      "Example E10w : Pg 110"
     ]
    },
    {
     "cell_type": "code",
     "collapsed": false,
     "input": [
      "# developed in windows XP operating system 32bit\n",
      "# platform Scilab 5.4.1\n",
      "#clc;clear;\n",
      "# example 7.10w\n",
      "# calculation of the minimum speed at which floor may be removed\n",
      "# given data\n",
      "import math \n",
      "r=2.# radius(in m) of the rotor\n",
      "mus=0.2# coefficient of static friction between the wall and the person\n",
      "g=10.# gravitational acceleration(in m/s^2) of the earth\n",
      "\n",
      "# calculation\n",
      "# by applying Newton's second law for horizontal direction\n",
      "# fs = m*g...................................(1)\n",
      "# by limiting friction\n",
      "# mus*N = m*g or mus*m*v*v/r = m*g...........(2)\n",
      "# from above equations,we get\n",
      "v=math.sqrt(r*g/mus)\n",
      "\n",
      "print'the minimum speed at which floor may be removed is',v,'m/s'"
     ],
     "language": "python",
     "metadata": {},
     "outputs": [
      {
       "output_type": "stream",
       "stream": "stdout",
       "text": [
        "the minimum speed at which floor may be removed is 10.0 m/s\n"
       ]
      }
     ],
     "prompt_number": 13
    }
   ],
   "metadata": {}
  }
 ]
}