{
 "metadata": {
  "name": "",
  "signature": "sha256:4ac985dce6113f5458eb1021f90bb0504bf21f8dfeb85b226c13fbc69b2d0446"
 },
 "nbformat": 3,
 "nbformat_minor": 0,
 "worksheets": [
  {
   "cells": [
    {
     "cell_type": "heading",
     "level": 1,
     "metadata": {},
     "source": [
      "CHAPTER06 : FRICTION"
     ]
    },
    {
     "cell_type": "heading",
     "level": 2,
     "metadata": {},
     "source": [
      "Example E1 : Pg 85"
     ]
    },
    {
     "cell_type": "code",
     "collapsed": false,
     "input": [
      "# developed in windows XP operating system 32bit\n",
      "# platform Scilab 5.4.1\n",
      "#clc;clear;\n",
      "# example 6.1\n",
      "# calculation of the angle made by the contact force with the vertical and the magnitude of contact force\n",
      "# given data\n",
      "import math \n",
      "M=.4# mass(in kg) of the body\n",
      "f=3.# frictional force(in N)\n",
      "g=10.# gravitational acceleration(in m/s^2) of the earth\n",
      "\n",
      "# calculation\n",
      "N=M*g# formula of normal force\n",
      "theta=36.9;#atand(f/N)# angle made by the contact force with the vertical\n",
      "F=math.sqrt((N*N)+(f*f))\n",
      "\n",
      "print'the angle made by the contact force with the vertical is',theta,'degree','\\nthe magnitude of contact force is',F,'N'"
     ],
     "language": "python",
     "metadata": {},
     "outputs": [
      {
       "output_type": "stream",
       "stream": "stdout",
       "text": [
        "the angle made by the contact force with the vertical is 36.9 degree \n",
        "the magnitude of contact force is 5.0 N\n"
       ]
      }
     ],
     "prompt_number": 1
    },
    {
     "cell_type": "heading",
     "level": 2,
     "metadata": {},
     "source": [
      "Example E2 : Pg 86"
     ]
    },
    {
     "cell_type": "code",
     "collapsed": false,
     "input": [
      "# developed in windows XP operating system 32bit\n",
      "# platform Scilab 5.4.1\n",
      "#clc;clear;\n",
      "# example 6.2\n",
      "# calculation of the force of friction exerted by the horizontal surface on the box\n",
      "\n",
      "# given data\n",
      "M=20.# mass(in kg) of the box\n",
      "muk=.25# coefficient of kinetic friction\n",
      "g=9.8# gravitational acceleration(in m/s^2) of the earth\n",
      "\n",
      "# calculation\n",
      "fk=muk*M*g# formula of kinetic friction\n",
      "\n",
      "print'the force of friction exerted by the horizontal surface on the box,in opposite direction to the pull is',fk,'N'"
     ],
     "language": "python",
     "metadata": {},
     "outputs": [
      {
       "output_type": "stream",
       "stream": "stdout",
       "text": [
        "the force of friction exerted by the horizontal surface on the box,in opposite direction to the pull is 49.0 N\n"
       ]
      }
     ],
     "prompt_number": 2
    },
    {
     "cell_type": "heading",
     "level": 2,
     "metadata": {},
     "source": [
      "Example E3 : Pg 87"
     ]
    },
    {
     "cell_type": "code",
     "collapsed": false,
     "input": [
      "# developed in windows XP operating system 32bit\n",
      "# platform Scilab 5.4.1\n",
      "#clc;clear;\n",
      "# example 6.3\n",
      "# calculation of the force of friction exerted by the horse and condition of boy for sliding back\n",
      "\n",
      "# given data\n",
      "M=30.# mass(in kg) of the boy\n",
      "a=2.# average acceleration(in m/s^2) of the horse\n",
      "g=10.# gravitational acceleration(in m/s^2) of the earth\n",
      "\n",
      "# calculation\n",
      "fs=M*a# Newton's second law\n",
      "musmax=fs/(M*g)# equation of static friction\n",
      "\n",
      "print'the force of friction exerted by the horse on the boy is',fs,'N'\n",
      "print'for the boy sliding back during acceleration, the value of coefficient of static friction is less than',musmax"
     ],
     "language": "python",
     "metadata": {},
     "outputs": [
      {
       "output_type": "stream",
       "stream": "stdout",
       "text": [
        "the force of friction exerted by the horse on the boy is 60.0 N\n",
        "for the boy sliding back during acceleration, the value of coefficient of static friction is less than 0.2\n"
       ]
      }
     ],
     "prompt_number": 3
    },
    {
     "cell_type": "heading",
     "level": 2,
     "metadata": {},
     "source": [
      "Example E4 : Pg 90"
     ]
    },
    {
     "cell_type": "code",
     "collapsed": false,
     "input": [
      "# developed in windows XP operating system 32bit\n",
      "# platform Scilab 5.4.1\n",
      "#clc;clear;\n",
      "# example 6.4\n",
      "# calculation of coefficient of static friction and kinetic friction between the block and the plank\n",
      "\n",
      "# given data\n",
      "theta1=18# angle of plank(in degree) with horizontal when block starts slipping\n",
      "theta2=15# angle of plank(in degree) with horizontal when block slips with uniform speed\n",
      "\n",
      "# calculation\n",
      "mus=0.325;#tand(theta1)# formula of coefficient of static friction \n",
      "muk=0.268;#tand(theta2)# formula of coefficient of kinetic friction\n",
      "\n",
      "print'the coefficient of static friction between the block and the plank is tan(',theta1,')=',mus\n",
      "print'the coefficient of kinetic friction between the block and the plank is tan(',theta2,')=',muk"
     ],
     "language": "python",
     "metadata": {},
     "outputs": [
      {
       "output_type": "stream",
       "stream": "stdout",
       "text": [
        "the coefficient of static friction between the block and the plank is tan( 18 )= 0.325\n",
        "the coefficient of kinetic friction between the block and the plank is tan( 15 )= 0.268\n"
       ]
      }
     ],
     "prompt_number": 4
    },
    {
     "cell_type": "heading",
     "level": 1,
     "metadata": {},
     "source": [
      "WORKED EXAMPLES"
     ]
    },
    {
     "cell_type": "heading",
     "level": 2,
     "metadata": {},
     "source": [
      "Example E1w : Pg 91"
     ]
    },
    {
     "cell_type": "code",
     "collapsed": false,
     "input": [
      "# developed in windows XP operating system 32bit\n",
      "# platform Scilab 5.4.1\n",
      "#clc;clear;\n",
      "# example 6.1w\n",
      "# calculation of the maximum angle to prevent slipping\n",
      "\n",
      "# given data\n",
      "mus=.3# coefficient of static friction\n",
      "\n",
      "# calculation\n",
      "thetamax=16.7;#atand(mus)\n",
      "\n",
      "print'the maximum angle to prevent slipping is',thetamax"
     ],
     "language": "python",
     "metadata": {},
     "outputs": [
      {
       "output_type": "stream",
       "stream": "stdout",
       "text": [
        "the maximum angle to prevent slipping is 16.7\n"
       ]
      }
     ],
     "prompt_number": 5
    },
    {
     "cell_type": "heading",
     "level": 2,
     "metadata": {},
     "source": [
      "Example E2w : Pg 91"
     ]
    },
    {
     "cell_type": "code",
     "collapsed": false,
     "input": [
      "# developed in windows XP operating system 32bit\n",
      "# platform Scilab 5.4.1\n",
      "#clc;clear;\n",
      "# example 6.2w\n",
      "# calculation of frictional force and minimum value of coefficient of static friction\n",
      "\n",
      "# given data\n",
      "m=4.# mass(in kg) of the block\n",
      "f=20.# frictional force(in N)=horizontal force(in N)\n",
      "g=10.# gravitational acceleration(in m/s^2) of the earth\n",
      "\n",
      "# calculation\n",
      "N=m*g# normal force\n",
      "musmin=f/N\n",
      "\n",
      "print'the frictional force on the block,in opposite direction to the applied force is',f,'N'\n",
      "print'the coefficient of static friction between the block and the table is greater than or equal to',musmin"
     ],
     "language": "python",
     "metadata": {},
     "outputs": [
      {
       "output_type": "stream",
       "stream": "stdout",
       "text": [
        "the frictional force on the block,in opposite direction to the applied force is 20.0 N\n",
        "the coefficient of static friction between the block and the table is greater than or equal to 0.5\n"
       ]
      }
     ],
     "prompt_number": 6
    },
    {
     "cell_type": "heading",
     "level": 2,
     "metadata": {},
     "source": [
      "Example E3w : Pg 91"
     ]
    },
    {
     "cell_type": "code",
     "collapsed": false,
     "input": [
      "# developed in windows XP operating system 32bit\n",
      "# platform Scilab 5.4.1\n",
      "#clc;clear;\n",
      "# example 6.3w\n",
      "# calculation of the maximum value of mass of the block\n",
      "\n",
      "# given data\n",
      "mus=.2# coefficient of static friction between the block and the table\n",
      "M=2.# mass(in kg) of one block \n",
      "g=10.# gravitational acceleration(in m/s^2) of the earth\n",
      "\n",
      "# calculation\n",
      "N=M*g# normal force\n",
      "# T=m*g          tension in the string                      (1)\n",
      "# fs=mus*N       frictional force                           (2)\n",
      "# f=T            from equlibrium equation of 2 kg block     (3)\n",
      "# from above equations,we get\n",
      "m=(mus*N)/g\n",
      "\n",
      "print'the maximum value of mass of the block is',m,'kg'"
     ],
     "language": "python",
     "metadata": {},
     "outputs": [
      {
       "output_type": "stream",
       "stream": "stdout",
       "text": [
        "the maximum value of mass of the block is 0.4 kg\n"
       ]
      }
     ],
     "prompt_number": 7
    },
    {
     "cell_type": "heading",
     "level": 2,
     "metadata": {},
     "source": [
      "Example E5w : Pg 92"
     ]
    },
    {
     "cell_type": "code",
     "collapsed": false,
     "input": [
      "# developed in windows XP operating system 32bit\n",
      "# platform Scilab 5.4.1\n",
      "#clc;clear;\n",
      "# example 6.5w\n",
      "# calculation of the coefficient of kinetic friction \n",
      "\n",
      "# given data\n",
      "theta=30.# angle(in degree)f the incline\n",
      "g=10.#gravitational acceleration(in m/s^2) of the earth\n",
      "\n",
      "# calculation\n",
      "a=g/4.# acceleration(in m/s^2) of the block.....given\n",
      "# f=m*g/4................taking parallel components to the incline\n",
      "# N=m*g*cosd(theta)......taking vertical components to the incline\n",
      "# from above equations,we get\n",
      "muk=0.289;#1./(4.*cosd(theta))#      muk=f/N   equation of static friction\n",
      "\n",
      "print'the coefficient of kinetic friction is',muk"
     ],
     "language": "python",
     "metadata": {},
     "outputs": [
      {
       "output_type": "stream",
       "stream": "stdout",
       "text": [
        "the coefficient of kinetic friction is 0.289\n"
       ]
      }
     ],
     "prompt_number": 8
    },
    {
     "cell_type": "heading",
     "level": 2,
     "metadata": {},
     "source": [
      "Example E6w : Pg 93"
     ]
    },
    {
     "cell_type": "code",
     "collapsed": false,
     "input": [
      "# developed in windows XP operating system 32bit\n",
      "# platform Scilab 5.4.1\n",
      "#clc;clear;\n",
      "# example 6.6w\n",
      "# calculation of the values of coefficient of static and kinetic friction\n",
      "\n",
      "# given data\n",
      "M=2.5# mass(in kg) of the block\n",
      "F=15.# horizontal force(in N)\n",
      "g=10.# gravitational acceleration(in m/s^2) of the earth\n",
      "x=10.# displacement(in m) of the block\n",
      "t=5.# time(in s) required by the block\n",
      "\n",
      "# calculation\n",
      "mus=F/(M*g)\n",
      "a=(2.*x)/(t*t)# acceleration of the block from equation of uniform linear motion\n",
      "# F-muk*M*g=M*a.....newton's second law\n",
      "muk=(F-(M*a))/(M*g)\n",
      "\n",
      "print'the coefficient of static friction between the block and the surface is',mus\n",
      "print'the coefficient of kinetic friction between the block and the surface is',muk"
     ],
     "language": "python",
     "metadata": {},
     "outputs": [
      {
       "output_type": "stream",
       "stream": "stdout",
       "text": [
        "the coefficient of static friction between the block and the surface is 0.6\n",
        "the coefficient of kinetic friction between the block and the surface is 0.52\n"
       ]
      }
     ],
     "prompt_number": 9
    },
    {
     "cell_type": "heading",
     "level": 2,
     "metadata": {},
     "source": [
      "Example E10w : Pg 94"
     ]
    },
    {
     "cell_type": "code",
     "collapsed": false,
     "input": [
      "# developed in windows XP operating system 32bit\n",
      "# platform Scilab 5.4.1\n",
      "#clc;clear;\n",
      "# example 6.10w\n",
      "# calculation of mimimum and maximum values of m(mass) and the acceleration if given a gentle push\n",
      "# given data\n",
      "import math \n",
      "from math import sqrt\n",
      "mus=.28# the value of coefficient of static friction between the block and the surface\n",
      "muk=.25# the value of coefficient of kinetic friction between the block and the surface\n",
      "M=2.# mass(in kg) of one block\n",
      "g=9.8# gravitational acceleration(in m/s^2) of the earth\n",
      "\n",
      "# calculation\n",
      "# T=(M*g*(1-mus))/sqrt(2)................taking components along incline for block1......(1)\n",
      "# T=(M*g*(1+mus))/sqrt(2)................taking components along incline for block2......(2)\n",
      "# from above equations,we get\n",
      "m1=((1.-mus)*M)/(1.+mus)# minimum value of m...............................................(3)\n",
      "m2=((1.+mus)*M)/(1.-mus)# maximum value of m obtained by taking reverse direction of friction in above equations\n",
      "\n",
      "# (M*g/sqrt(2)) - T = M*a.........newton's second law for M block........................(4)\n",
      "# T - (m*g/sqrt(2)) = m*a.........newton's second law for m block........................(5)\n",
      "# adding equations (4) and (5)\n",
      "# ((M*g*(1-muk))/sqrt(2)) - ((m*g*(1+muk))/sqrt(2)) = (M+m)*a\n",
      "a=(((M*(1.-muk))-(m1*(1.+muk)))*g)/(sqrt(2.)*(M+m1))# calculating acceleration for minimum value of m if gently pushed......given\n",
      "\n",
      "print'the minimum value of m for which the system remains at rest is',m1,'kg'\n",
      "print'the maximum value of m for which the system remains at rest is',m2,'kg'\n",
      "print'the acceleration of either block for minimum value of m and if gently pushed up the incline is',a,'m/s**2'"
     ],
     "language": "python",
     "metadata": {},
     "outputs": [
      {
       "output_type": "stream",
       "stream": "stdout",
       "text": [
        "the minimum value of m for which the system remains at rest is 1.125 kg\n",
        "the maximum value of m for which the system remains at rest is 3.55555555556 kg\n",
        "the acceleration of either block for minimum value of m and if gently pushed up the incline is 0.207889393669 m/s**2\n"
       ]
      }
     ],
     "prompt_number": 10
    }
   ],
   "metadata": {}
  }
 ]
}