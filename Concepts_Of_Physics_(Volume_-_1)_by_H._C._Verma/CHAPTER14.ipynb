{
 "metadata": {
  "name": "",
  "signature": "sha256:b1c82e8458463390ea0013f6169c01280bf7b4a2afb2472e5cdf5f4e73e8746a"
 },
 "nbformat": 3,
 "nbformat_minor": 0,
 "worksheets": [
  {
   "cells": [
    {
     "cell_type": "heading",
     "level": 1,
     "metadata": {},
     "source": [
      "CHAPTER14 : SOME MECHANICAL PROPERTIES OF MATTER "
     ]
    },
    {
     "cell_type": "heading",
     "level": 2,
     "metadata": {},
     "source": [
      "Example E1 : Pg 279"
     ]
    },
    {
     "cell_type": "code",
     "collapsed": false,
     "input": [
      "import math \n",
      "#example 14.1\n",
      "#calculation of the tensile stress developed in the wire\n",
      "\n",
      "#given data\n",
      "m=4.#mass(in kg) of the load\n",
      "r=2.*10.**-3.#radius(in m) of the wire\n",
      "g=3.1*math.pi#gravitational acceleration(in m/s**2) of the earth\n",
      "\n",
      "#calculation\n",
      "F=m*g#gravitational force\n",
      "A=math.pi*r**2.#area\n",
      "St=F/A#tensile stress\n",
      "\n",
      "print '%s %.2f %s' %('the tensile stress developed in the wire is',St,'N/m**2\\n')"
     ],
     "language": "python",
     "metadata": {},
     "outputs": [
      {
       "output_type": "stream",
       "stream": "stdout",
       "text": [
        "the tensile stress developed in the wire is 3100000.00 N/m**2\n",
        "\n"
       ]
      }
     ],
     "prompt_number": 1
    },
    {
     "cell_type": "heading",
     "level": 2,
     "metadata": {},
     "source": [
      "Example E2 : Pg 281"
     ]
    },
    {
     "cell_type": "code",
     "collapsed": false,
     "input": [
      "import math \n",
      "#example 14.2\n",
      "#calculation of the value of Young modulus\n",
      "\n",
      "#given data\n",
      "m=4.#mass(in kg) of the load\n",
      "l=20.#length(in m) of the steel wire\n",
      "r=2.*10.**-3.#radius(in m) of the steel wire\n",
      "dl=.031*10.**-3.#increase in the length(in m)\n",
      "g=3.1*math.pi#gravitational acceleration(in m/s**2) of the earth\n",
      "\n",
      "#calculation\n",
      "Ssl=(m*g)/(math.pi*r**2.)#longitudinal stress\n",
      "Stl=dl/l#longitudinal strain\n",
      "Y=Ssl/Stl#Young  modulus\n",
      "\n",
      "print '%s %.2f %s' %('the value of Young modulus is',Y,'N/m**2\\n')"
     ],
     "language": "python",
     "metadata": {},
     "outputs": [
      {
       "output_type": "stream",
       "stream": "stdout",
       "text": [
        "the value of Young modulus is 2000000000000.00 N/m**2\n",
        "\n"
       ]
      }
     ],
     "prompt_number": 2
    },
    {
     "cell_type": "heading",
     "level": 2,
     "metadata": {},
     "source": [
      "Example E3 : Pg 283"
     ]
    },
    {
     "cell_type": "code",
     "collapsed": false,
     "input": [
      "#example 14.3\n",
      "#calculation of the elastic potential energy stored in the stretched steel wire\n",
      "#given data\n",
      "l=2.#length(in m) of the steel wire\n",
      "A=4.*10.**-6.#cross sectional area(in m**2) of the steel wire\n",
      "dl=2.*10.**-3.#increase in the length(in m)\n",
      "Y=2.*10.**11.#Young modulus(in N/m**2)\n",
      "\n",
      "#calculation\n",
      "St=dl/l#strain in the wire\n",
      "Ss=Y*St#stress in the wire\n",
      "V=A*l#volume of the steel wire\n",
      "U=Ss*St*V/2.\n",
      "\n",
      "print '%s %.2f %s' %('the elastic potential energy stored in the stretched steel wire is',U,'J\\n')"
     ],
     "language": "python",
     "metadata": {},
     "outputs": [
      {
       "output_type": "stream",
       "stream": "stdout",
       "text": [
        "the elastic potential energy stored in the stretched steel wire is 0.80 J\n",
        "\n"
       ]
      }
     ],
     "prompt_number": 3
    },
    {
     "cell_type": "heading",
     "level": 2,
     "metadata": {},
     "source": [
      "Example E4 : Pg 285"
     ]
    },
    {
     "cell_type": "code",
     "collapsed": false,
     "input": [
      "#example 14.4\n",
      "#calculation of the force by which the surface on one side of the diameter pulls the suface on the other side\n",
      "#given data\n",
      "r=5.*10.**-2.#radius(in m) of the beaker\n",
      "S=.075#surface tension(in N/m) of the water\n",
      "\n",
      "#calculation\n",
      "l=2.*r#length of diameter of the surface\n",
      "F=S*l#force\n",
      "\n",
      "print '%s %.2f %s' %('the force by which the surface on one side of the diameter pulls the suface on the other side is',F,'N\\n')"
     ],
     "language": "python",
     "metadata": {},
     "outputs": [
      {
       "output_type": "stream",
       "stream": "stdout",
       "text": [
        "the force by which the surface on one side of the diameter pulls the suface on the other side is 0.01 N\n",
        "\n"
       ]
      }
     ],
     "prompt_number": 4
    },
    {
     "cell_type": "heading",
     "level": 2,
     "metadata": {},
     "source": [
      "Example E5 : Pg 286"
     ]
    },
    {
     "cell_type": "code",
     "collapsed": false,
     "input": [
      "#example 14.5\n",
      "#calculation of the gain in the surface energy\n",
      "import math \n",
      "#given data\n",
      "R=10.**-2.#radius(in m) of the drop\n",
      "n=1000.#number of droplets formed\n",
      "S=.075#surface tension(in N/m) of the water\n",
      "\n",
      "#calculation\n",
      "#volume of original drop = total volume of all droplets formed\n",
      "r=R/n**(1./3.)#radius of each droplet\n",
      "A1=4.*math.pi*R**2.#surface area of drop\n",
      "A2=n*(4.*math.pi*r**2.)#surface area of each droplet\n",
      "deltaA=A2-A1#change in suface area\n",
      "deltaU=deltaA*S#change in surface energy\n",
      "\n",
      "print '%s %.4f %s' %('the gain in the surface energy is',deltaU,'J\\n')"
     ],
     "language": "python",
     "metadata": {},
     "outputs": [
      {
       "output_type": "stream",
       "stream": "stdout",
       "text": [
        "the gain in the surface energy is 0.0008 J\n",
        "\n"
       ]
      }
     ],
     "prompt_number": 5
    },
    {
     "cell_type": "heading",
     "level": 2,
     "metadata": {},
     "source": [
      "Example E6 : Pg 288"
     ]
    },
    {
     "cell_type": "code",
     "collapsed": false,
     "input": [
      "#example 14.6\n",
      "#calculation of the excess pressure inside a mercury drop \n",
      "#given data\n",
      "R=2.*10.**-3.#radius(in m) of the drop\n",
      "S=.464#surface tension(in N/m) of the drop\n",
      "\n",
      "#calculation\n",
      "deltaP=2.*S/R#excess pressure\n",
      "\n",
      "print '%s %.2f %s' %('the excess pressure inside a mercury drop is',deltaP,'N/m**2\\n')"
     ],
     "language": "python",
     "metadata": {},
     "outputs": [
      {
       "output_type": "stream",
       "stream": "stdout",
       "text": [
        "the excess pressure inside a mercury drop is 464.00 N/m**2\n",
        "\n"
       ]
      }
     ],
     "prompt_number": 6
    },
    {
     "cell_type": "heading",
     "level": 2,
     "metadata": {},
     "source": [
      "Example E7 : Pg 288"
     ]
    },
    {
     "cell_type": "code",
     "collapsed": false,
     "input": [
      "#example 14.7\n",
      "#calculation of the density of the liquid\n",
      "#given data\n",
      "h=.02*10.**-2.#height(in m) of the column of liquid\n",
      "R=7.5*10.**-3.#radius(in m) of the soap bubble\n",
      "S=.03#surface tension(in N/m) of the soap solution\n",
      "g=9.8#gravitational acceleration(in m/s**2) of the earth\n",
      "\n",
      "#calculation\n",
      "deltaP=4.*S/R#excess pressure inside the soap bubble\n",
      "rho=deltaP/(h*g)#densiy\n",
      "\n",
      "print '%s %.2f %s' %('the density of the liquid is',rho,'kg/m**3\\n')"
     ],
     "language": "python",
     "metadata": {},
     "outputs": [
      {
       "output_type": "stream",
       "stream": "stdout",
       "text": [
        "the density of the liquid is 8163.27 kg/m**3\n",
        "\n"
       ]
      }
     ],
     "prompt_number": 7
    },
    {
     "cell_type": "heading",
     "level": 2,
     "metadata": {},
     "source": [
      "Example E8 : Pg 290"
     ]
    },
    {
     "cell_type": "code",
     "collapsed": false,
     "input": [
      "import math\n",
      "#example 14.8\n",
      "#calculation of the height of the water in the column\n",
      "\n",
      "#given data\n",
      "r=.2*10.**-3.#radius(in m) of the tube\n",
      "S=.075#surface tension(in N/m) of the water\n",
      "g=10.#gravitational acceleration(in m/s**2) of the earth\n",
      "rho=1000.#density of the water(in kg/m**3)\n",
      "theta=0#tube dipped vertically\n",
      "\n",
      "#calculation\n",
      "h=(2.*S*math.cos(theta)*57.3)/(r*rho*g)#height in column\n",
      "\n",
      "print '%s %.2f %s' %('the height of the water in the column is',h*10**2,'cm\\n')"
     ],
     "language": "python",
     "metadata": {},
     "outputs": [
      {
       "output_type": "stream",
       "stream": "stdout",
       "text": [
        "the height of the water in the column is 429.75 cm\n",
        "\n"
       ]
      }
     ],
     "prompt_number": 8
    },
    {
     "cell_type": "heading",
     "level": 2,
     "metadata": {},
     "source": [
      "Example E9 : Pg 292"
     ]
    },
    {
     "cell_type": "code",
     "collapsed": false,
     "input": [
      "#example 14.9\n",
      "#calculation of the value of the coefficient of viscosity of the solution\n",
      "#given data\n",
      "d=2.*10.**-3.#diameter(in m) of the air bubble\n",
      "sigma=1750.#density(in kg/m**3) of the solution\n",
      "v=.35*10.**-2.#rate of flow(in m/s)\n",
      "g=9.8#gravitational acceleration(in m/s**2) of the earth\n",
      "\n",
      "#calculation\n",
      "r=d/2.#radius of the air bubble\n",
      "#force of buoyancy is........B = (4/3)*%pi*r**3*sigma*g\n",
      "#viscous force is............F = 6*%pi*eta*r*v\n",
      "#above two forces are equal,thus we get\n",
      "eta=(2.*r**2.*sigma*g)/(9.*v)#coefficient of viscosity\n",
      "\n",
      "print '%s %.2f %s' %('the value of the coefficient of viscosity of the solution is',round(eta*10),'poise\\n')#0 1 poise = .1 N-s/m**2"
     ],
     "language": "python",
     "metadata": {},
     "outputs": [
      {
       "output_type": "stream",
       "stream": "stdout",
       "text": [
        "the value of the coefficient of viscosity of the solution is 11.00 poise\n",
        "\n"
       ]
      }
     ],
     "prompt_number": 9
    },
    {
     "cell_type": "heading",
     "level": 1,
     "metadata": {},
     "source": [
      "WORKED EXAMPLES "
     ]
    },
    {
     "cell_type": "heading",
     "level": 2,
     "metadata": {},
     "source": [
      "Example E1w : Pg 293"
     ]
    },
    {
     "cell_type": "code",
     "collapsed": false,
     "input": [
      "#example 14.1w\n",
      "#calculation of the extension of the wire\n",
      "#given data\n",
      "L=2.#lengh(in m)of the wire\n",
      "A=.2*10.**-4.#area(in m**2)\n",
      "m=4.8#mass(in kg)\n",
      "Y=2.*10.**11.#Young modulus of steel\n",
      "g=10.#gravitational acceleration(in m/s**2) of the earth\n",
      "\n",
      "#calculation\n",
      "T=m*g#weight\n",
      "l=(T*L)/(A*Y)#exension\n",
      "\n",
      "print '%s %.6f %s' %('the extension of the wire is',l,'m\\n')"
     ],
     "language": "python",
     "metadata": {},
     "outputs": [
      {
       "output_type": "stream",
       "stream": "stdout",
       "text": [
        "the extension of the wire is 0.000024 m\n",
        "\n"
       ]
      }
     ],
     "prompt_number": 12
    },
    {
     "cell_type": "heading",
     "level": 2,
     "metadata": {},
     "source": [
      "Example E2w : Pg 293"
     ]
    },
    {
     "cell_type": "code",
     "collapsed": false,
     "input": [
      "#example 14.2w\n",
      "#calculation of the elongation of the rope and corresponding change in the diameter\n",
      "import math \n",
      "#given data\n",
      "L=4.5#length(in m) of the nylon rope\n",
      "d=6.*10.**-3.#diameter(in m) of the nylon rope\n",
      "T=100.#weight(in N) of the monkey\n",
      "Y=4.8*10.**11.#Young modulus(in N/m**2) of the rope\n",
      "Pr=.2#Poission ratio of nylon\n",
      "\n",
      "#calculation\n",
      "A=math.pi*(d/2.)**2.#area of cross section\n",
      "l=(T*L)/(A*Y)#elongation\n",
      "deltad=(Pr*l*d)/(L)#change in diameter\n",
      "\n",
      "print '%s %.6f %s' %('the elongation of the rope is',l,'m\\n')\n",
      "print '%s %.6f %s' %('the corresponding change in the diameter is',deltad,'m\\n')"
     ],
     "language": "python",
     "metadata": {},
     "outputs": [
      {
       "output_type": "stream",
       "stream": "stdout",
       "text": [
        "the elongation of the rope is 0.000033 m\n",
        "\n",
        "the corresponding change in the diameter is 0.000000 m\n",
        "\n"
       ]
      }
     ],
     "prompt_number": 13
    },
    {
     "cell_type": "heading",
     "level": 2,
     "metadata": {},
     "source": [
      "Example E3w : Pg 293"
     ]
    },
    {
     "cell_type": "code",
     "collapsed": false,
     "input": [
      "\n",
      "#example 14.3w\n",
      "#calculation of the minimum radius of the wire used if it is not to break\n",
      "import math \n",
      "#given data\n",
      "m1=1.#mass(in kg) of block1\n",
      "m2=2.#mass(in kg) of block2\n",
      "Ss=2.*10.**9.#breaking stress(in N/m**2)  of the metal\n",
      "g=10.#gravitational acceleration(in m/s**2) of the earth\n",
      "\n",
      "#calculation\n",
      "#using equation ....stress = tension / Area of cross secion\n",
      "#T - (m1*g) = m1 * a...........(1)\n",
      "#(m2*g) - T = m2*a.............(2)\n",
      "#Adding equation (1) and equation (2),we get\n",
      "a=((m2*g)-(m1*g))/(m1+m2)\n",
      "T=(m1*g)+(m1*a)#tension in the string from equation (1)\n",
      "r=math.sqrt(T/(Ss*math.pi))#radius\n",
      "\n",
      "print '%s %.6f %s' %('the minimum radius of the wire used if it is not to break is',r,'m\\n')"
     ],
     "language": "python",
     "metadata": {},
     "outputs": [
      {
       "output_type": "stream",
       "stream": "stdout",
       "text": [
        "the minimum radius of the wire used if it is not to break is 0.000046 m\n",
        "\n"
       ]
      }
     ],
     "prompt_number": 14
    },
    {
     "cell_type": "heading",
     "level": 2,
     "metadata": {},
     "source": [
      "Example E4w : Pg 294"
     ]
    },
    {
     "cell_type": "code",
     "collapsed": false,
     "input": [
      "#example 14.4w\n",
      "#calculation of the ratio of the lengths of the two wire\n",
      "#given data\n",
      "Ys=2.*10.**11.#Young modulus(in N/m**2) of the steel wire\n",
      "Yc=1.1*10.**11.#Young modulus(in N/m**2) of the copper wire\n",
      "\n",
      "#calculation\n",
      "#r = Ls/Lc......required ratio\n",
      "r=Ys/Yc#required ratio\n",
      "\n",
      "print '%s %.2f %s' %('the ratio of the lengths of the two wire(Ls/Lc) is',r,': 1')"
     ],
     "language": "python",
     "metadata": {},
     "outputs": [
      {
       "output_type": "stream",
       "stream": "stdout",
       "text": [
        "the ratio of the lengths of the two wire(Ls/Lc) is 1.82 : 1\n"
       ]
      }
     ],
     "prompt_number": 15
    },
    {
     "cell_type": "heading",
     "level": 2,
     "metadata": {},
     "source": [
      "Example E5w : Pg 294"
     ]
    },
    {
     "cell_type": "code",
     "collapsed": false,
     "input": [
      "#example 14.5w\n",
      "#calculation of the decrease in the volume of the sample of water\n",
      "#given data\n",
      "V1=1000.*10.**-6.#initial volume(in m**3)\n",
      "P1=10.**5.#initial pressure(in N/m**2)\n",
      "P2=10.**6.#final pressure(in N/m**2)\n",
      "C=50.*10.**-11.#compressibility(in m**2/N)of the water\n",
      "\n",
      "#calculation\n",
      "deltap=P2-P1#change in pressure\n",
      "#compressibility = 1/Bulk modulus = -(deltaV/V)/deltaP\n",
      "deltaV=-(C*deltap*V1)\n",
      "\n",
      "print '%s %.2f %s' %('the decrease in the volume of the sample of water is',-deltaV*10**6,'cm**3\\n')"
     ],
     "language": "python",
     "metadata": {},
     "outputs": [
      {
       "output_type": "stream",
       "stream": "stdout",
       "text": [
        "the decrease in the volume of the sample of water is 0.45 cm**3\n",
        "\n"
       ]
      }
     ],
     "prompt_number": 16
    },
    {
     "cell_type": "heading",
     "level": 2,
     "metadata": {},
     "source": [
      "Example E6w : Pg 294"
     ]
    },
    {
     "cell_type": "code",
     "collapsed": false,
     "input": [
      "#example 14.6w\n",
      "#calculation of the longitudinal strain in two wires\n",
      "#given data\n",
      "m1=1.#mass(in kg) of load 1\n",
      "m2=2.#mass(in kg) of load 2\n",
      "A=.005*10.**-4.#area(in m**2) of the cross section\n",
      "Y=2.*10.**11.#/Young modulus(in N/m**2) of the wire\n",
      "g=10.#gravitational acceleration(in m/s**2) of the earth\n",
      "\n",
      "#calculation\n",
      "T1=m1*g#tension in wire 1\n",
      "Ss1=T1/A#longitudinal stress\n",
      "St1=Ss1/Y#longitudinal strain\n",
      "T2=(m2*g)+T1#tension in wire 2\n",
      "Ss2=T2/A#longitudinal stress\n",
      "St2=Ss2/Y#longitudinal strain\n",
      "\n",
      "print '%s %.4f %s' %('the longitudinal strain in wire 1 is',St1,'\\n')\n",
      "print '%s %.4f %s' %('the longitudinal strain in wire 2 is',St2,'\\n')"
     ],
     "language": "python",
     "metadata": {},
     "outputs": [
      {
       "output_type": "stream",
       "stream": "stdout",
       "text": [
        "the longitudinal strain in wire 1 is 0.0001 \n",
        "\n",
        "the longitudinal strain in wire 2 is 0.0003 \n",
        "\n"
       ]
      }
     ],
     "prompt_number": 17
    },
    {
     "cell_type": "heading",
     "level": 2,
     "metadata": {},
     "source": [
      "Example E7w : Pg 294"
     ]
    },
    {
     "cell_type": "code",
     "collapsed": false,
     "input": [
      "#example 14.7w\n",
      "#calculation of the longitudinal strain developed in each wire\n",
      "#given data\n",
      "m=3.#mass(in kg) of each block\n",
      "A=.005*10.**-4.#area(in m**2) of the cross section\n",
      "Y=2.*10.**11.#/Young modulus(in N/m**2) of the wire\n",
      "g=10.#gravitational acceleration(in m/s**2) of the earth\n",
      "\n",
      "#calculation\n",
      "#using equation of motion,\n",
      "#TA = m*a..............(1)\n",
      "#TB - TA = m*a.........(2)\n",
      "#m*g - TB = m*a........(3)\n",
      "#adding equation (2) and equation (3) and substituting TA from equation (1),we get\n",
      "a=(m*g)/(3*m)#acceleration \n",
      "TA=m*a#Tension(in N) in wire A\n",
      "TB=(m*a)+TA#Tension(in N) in wire B..from equation (2)\n",
      "StA=(TA)/(A*Y)#longitudinal strain in wire A\n",
      "StB=(TB)/(A*Y)#longitudinal strain in wire B\n",
      "\n",
      "print '%s %.2f %s' %('the longitudinal strain developed in wire A is',StA,'\\n')\n",
      "print '%s %.2f %s' %('the longitudinal strain developed in wire B is',StB,'\\n')"
     ],
     "language": "python",
     "metadata": {},
     "outputs": [
      {
       "output_type": "stream",
       "stream": "stdout",
       "text": [
        "the longitudinal strain developed in wire A is 0.00 \n",
        "\n",
        "the longitudinal strain developed in wire B is 0.00 \n",
        "\n"
       ]
      }
     ],
     "prompt_number": 18
    },
    {
     "cell_type": "heading",
     "level": 2,
     "metadata": {},
     "source": [
      "Example E8w : Pg 295"
     ]
    },
    {
     "cell_type": "code",
     "collapsed": false,
     "input": [
      "#example 14.8w\n",
      "#calculation of the elastic potential energy stored in the wire\n",
      "#given data\n",
      "A=3.*10.**-6.#area(in m**2) of the cross section\n",
      "l=50.*10.**-2.#natural length(in m)\n",
      "m=2.1#mass(in kg) hanged\n",
      "Y=1.9*10.**11.#/Young modulus(in N/m**2) of the wire\n",
      "g=10.#gravitational acceleration(in m/s**2) of the earth\n",
      "\n",
      "#calculation\n",
      "V=A*l#volume of the wire\n",
      "T=m*g#tension in the wire\n",
      "Ss=T/A#stress\n",
      "St=Ss/Y#strain\n",
      "U=(Ss*St*V/2.)#elastic potential energy\n",
      "\n",
      "print '%s %.5f %s' %('the elastic potential energy stored in the wire is',U,'J\\n')"
     ],
     "language": "python",
     "metadata": {},
     "outputs": [
      {
       "output_type": "stream",
       "stream": "stdout",
       "text": [
        "the elastic potential energy stored in the wire is 0.00019 J\n",
        "\n"
       ]
      }
     ],
     "prompt_number": 19
    },
    {
     "cell_type": "heading",
     "level": 2,
     "metadata": {},
     "source": [
      "Example E9w : Pg 295"
     ]
    },
    {
     "cell_type": "code",
     "collapsed": false,
     "input": [
      "#example 14.9w\n",
      "#calculation of the elongation of the wire \n",
      "#given data\n",
      "W=10.#weight(in N) of the block\n",
      "A=3.*10.**-6.#area(in m**2) of the cross section\n",
      "r=20.*10.**-2.#radius(in m) of the circle of rotation\n",
      "v=2.#speed(in m/s) of the block\n",
      "Y=2.*10.**11.#/Young modulus(in N/m**2) of the wire\n",
      "g=10.#gravitational acceleration(in m/s**2) of the earth\n",
      "\n",
      "#calculation\n",
      "m=W/g#mass of the block\n",
      "T=W+(m*v*v/r)#tension\n",
      "L=r\n",
      "l=(T*L)/(A*Y)#elongation\n",
      "\n",
      "print '%s %.5f %s' %('the elongation of the wire is',l*10**2,'cm\\n')"
     ],
     "language": "python",
     "metadata": {},
     "outputs": [
      {
       "output_type": "stream",
       "stream": "stdout",
       "text": [
        "the elongation of the wire is 0.00100 cm\n",
        "\n"
       ]
      }
     ],
     "prompt_number": 20
    },
    {
     "cell_type": "heading",
     "level": 2,
     "metadata": {},
     "source": [
      "Example E11w : Pg 295"
     ]
    },
    {
     "cell_type": "code",
     "collapsed": false,
     "input": [
      "#example 14.11w\n",
      "#calculation of the amount by which the pressure inside the bubble is greater than the atmospheric pressure\n",
      "\n",
      "#given data\n",
      "r=1.*10.**-3.#radius(in m) of the air bubble \n",
      "S=.075#suface tension(in N/m)\n",
      "rho=1000.#density(in kg/m**3) of the liquid\n",
      "h=10.*10.**-2.#depth(in m) of the bubble\n",
      "g=9.8#gravitational acceleration(in m/s**2) of the earth\n",
      "\n",
      "#calculation\n",
      "#P = P0 +(h*rho*g)........(1)\n",
      "#Pdash = P + (2*S/r)......(2)\n",
      "#deltaP = Pdash - P0\n",
      "deltaP=(h*rho*g)+(2.*S/r)#difference in the pressure\n",
      "\n",
      "print '%s %.2f %s' %('the pressure inside the bubble is greater than the atmospheric pressure by',deltaP,'Pa\\n')"
     ],
     "language": "python",
     "metadata": {},
     "outputs": [
      {
       "output_type": "stream",
       "stream": "stdout",
       "text": [
        "the pressure inside the bubble is greater than the atmospheric pressure by 1130.00 Pa\n",
        "\n"
       ]
      }
     ],
     "prompt_number": 21
    },
    {
     "cell_type": "heading",
     "level": 2,
     "metadata": {},
     "source": [
      "Example E12w : Pg 296"
     ]
    },
    {
     "cell_type": "code",
     "collapsed": false,
     "input": [
      "#example 14.12w\n",
      "#calculation of the load W suspended from wire to keep it in equilibrium\n",
      "\n",
      "#given data\n",
      "l=10.*10.**-2.#length(in m) of the wire\n",
      "#1 dyne = 10**-5 N\n",
      "S=25.*10.**-5.*10.**2.#suface tension(in N/m) of the soap solution\n",
      "g=10.#gravitational acceleration(in m/s**2) of the earth\n",
      "\n",
      "#calculation\n",
      "F=2.*l*S#force exerted by the film on the wire\n",
      "m=F/g#mass of the load\n",
      "\n",
      "print '%s %.2f %s' %('the load W suspended from wire to keep it in equilibrium should be',F,'N\\n')\n",
      "print '%s %.4f %s %.2f %s' %('the mass of the load suspended from wire to keep it in equilibrium should be',m,'kg or',m*10**3,'g')"
     ],
     "language": "python",
     "metadata": {},
     "outputs": [
      {
       "output_type": "stream",
       "stream": "stdout",
       "text": [
        "the load W suspended from wire to keep it in equilibrium should be 0.01 N\n",
        "\n",
        "the mass of the load suspended from wire to keep it in equilibrium should be 0.0005 kg or 0.50 g\n"
       ]
      }
     ],
     "prompt_number": 22
    },
    {
     "cell_type": "heading",
     "level": 2,
     "metadata": {},
     "source": [
      "Example E13w : Pg 296"
     ]
    },
    {
     "cell_type": "code",
     "collapsed": false,
     "input": [
      "#example 14.13w\n",
      "#calculation of the radius of the capillary tube\n",
      "import math\n",
      "from math import cos\n",
      "#given data\n",
      "h=7.5*10.**-2.#height(in m) by which the capillary rises\n",
      "S=7.5*10.**-2.#suface tension(in N/m) of water\n",
      "theta=0#contact angle(in degree) between water and glass\n",
      "g=10.#gravitational acceleration(in m/s**2) of the earth\n",
      "rho=1000.#density(in kg/m**3) of water \n",
      "\n",
      "#calculation\n",
      "r=(2.*S*cos(theta)*57.3)/(h*rho*g)#from formula of height in capillary tube\n",
      "\n",
      "print '%s %.2f %s' %('the radius of the capillary tube is',r*10**3,'mm\\n')"
     ],
     "language": "python",
     "metadata": {},
     "outputs": [
      {
       "output_type": "stream",
       "stream": "stdout",
       "text": [
        "the radius of the capillary tube is 11.46 mm\n",
        "\n"
       ]
      }
     ],
     "prompt_number": 23
    },
    {
     "cell_type": "heading",
     "level": 2,
     "metadata": {},
     "source": [
      "Example E15w : Pg 296"
     ]
    },
    {
     "cell_type": "code",
     "collapsed": false,
     "input": [
      "#example 14.15w\n",
      "#calculation of the tangential force needed to keep the plate moving\n",
      "#given data\n",
      "A=10.#area(in m**2) of the plate\n",
      "v=2.#speed(in m/s) of the plate\n",
      "d=1.#depth(in m) of the river\n",
      "# 1 poise = .1 N-s/m**2...unit of viscosity\n",
      "eta=10.**-2.*10.**-1.#coefficient of viscosity(in N-s/m**2)\n",
      "\n",
      "#calculation\n",
      "dvbydx=v/d#velocity gradient\n",
      "F=eta*dvbydx*A#force exerted\n",
      "\n",
      "print '%s %.2f %s' %('the tangential force needed to keep the plate moving is',F,'N\\n')"
     ],
     "language": "python",
     "metadata": {},
     "outputs": [
      {
       "output_type": "stream",
       "stream": "stdout",
       "text": [
        "the tangential force needed to keep the plate moving is 0.02 N\n",
        "\n"
       ]
      }
     ],
     "prompt_number": 24
    },
    {
     "cell_type": "heading",
     "level": 2,
     "metadata": {},
     "source": [
      "Example E16w : Pg 296"
     ]
    },
    {
     "cell_type": "code",
     "collapsed": false,
     "input": [
      "#example 14.16w\n",
      "#calculation of the shearing stress between the horizontal layers of water\n",
      "#given data\n",
      "v=18.*10.**3./(60.*60.)#velocity(in m/s) of the water in river\n",
      "d=5.#depth(in m) of the river\n",
      "# 1 poise = 0.1 N-s/m**2\n",
      "eta=10.**-2.*10.**-1.#coefficient of viscosity(in N-s/m**2) of the water\n",
      "\n",
      "#calculation\n",
      "dvbydx=v/d#velocity gradient\n",
      "#force of viscosity ......F=eta*A*(dvbydx)\n",
      "#shearing stress..........Ss=F/A\n",
      "Ss=eta*(dvbydx)\n",
      "\n",
      "print '%s %.4f %s' %('the shearing stress between the horizontal layers of water is',Ss,'N/m**2\\n')"
     ],
     "language": "python",
     "metadata": {},
     "outputs": [
      {
       "output_type": "stream",
       "stream": "stdout",
       "text": [
        "the shearing stress between the horizontal layers of water is 0.0010 N/m**2\n",
        "\n"
       ]
      }
     ],
     "prompt_number": 25
    },
    {
     "cell_type": "heading",
     "level": 2,
     "metadata": {},
     "source": [
      "Example E17w : Pg 297"
     ]
    },
    {
     "cell_type": "code",
     "collapsed": false,
     "input": [
      "#example 14.17w\n",
      "#calculation of the terminal velocity of the rain drop\n",
      "#given data\n",
      "r=.01*10.**-3.#radius(in m) of the drop\n",
      "eta=1.8*10.**-5.#coefficient of viscosity(in N-s/m**2) of the air\n",
      "rho=1.2#density(in kg/m**3) of the air\n",
      "rho0=1000.#density(in kg/m**3) of the water\n",
      "g=10.#gravitational acceleration(in m/s**2) of the earth\n",
      "\n",
      "#calculation\n",
      "#at terminal velocity.........6*%pi*eta*r*v = (4/3)*%pi*r**3*rho*g\n",
      "v=(2.*r**2.*rho0*g)/(9.*eta)#terminal velocity\n",
      "\n",
      "print '%s %.2f %s' %('the terminal velocity of the rain drop is',v*10**2,'cm/s**2\\n')"
     ],
     "language": "python",
     "metadata": {},
     "outputs": [
      {
       "output_type": "stream",
       "stream": "stdout",
       "text": [
        "the terminal velocity of the rain drop is 1.23 cm/s**2\n",
        "\n"
       ]
      }
     ],
     "prompt_number": 26
    }
   ],
   "metadata": {}
  }
 ]
}