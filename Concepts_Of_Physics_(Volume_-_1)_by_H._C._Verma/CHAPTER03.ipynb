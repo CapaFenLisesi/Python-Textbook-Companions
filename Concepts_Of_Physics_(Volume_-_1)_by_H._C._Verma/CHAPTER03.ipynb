{
 "metadata": {
  "name": "",
  "signature": "sha256:def0aa2114197d8cd49dbb73bd32433a18a0d99514123df5df68a4237680605d"
 },
 "nbformat": 3,
 "nbformat_minor": 0,
 "worksheets": [
  {
   "cells": [
    {
     "cell_type": "heading",
     "level": 1,
     "metadata": {},
     "source": [
      "CHAPTER03 : REST AND MOTION KINEMATICS"
     ]
    },
    {
     "cell_type": "heading",
     "level": 2,
     "metadata": {},
     "source": [
      "Example E1 : Pg 32"
     ]
    },
    {
     "cell_type": "code",
     "collapsed": false,
     "input": [
      "# developed in windows XP operating system 32bit\n",
      "# platform Scilab 5.4.1\n",
      "#clc;clear;\n",
      "# example 3.1\n",
      "# calculation of distance and displacement\n",
      "# given data\n",
      "import math \n",
      "from math import pi\n",
      "r=40.; # radius(in m) of the circle\n",
      "\n",
      "# calculation\n",
      "dist=pi*r; # distance travelled(in m)\n",
      "displ=2.*r; # displacement(in m)\n",
      "\n",
      "print 'distance travelled(in m) by the person is',dist\n",
      "print'displacement(in m) of the person from initial to final point is',displ"
     ],
     "language": "python",
     "metadata": {},
     "outputs": [
      {
       "output_type": "stream",
       "stream": "stdout",
       "text": [
        "distance travelled(in m) by the person is 125.663706144\n",
        "displacement(in m) of the person from initial to final point is 80.0\n"
       ]
      }
     ],
     "prompt_number": 1
    },
    {
     "cell_type": "heading",
     "level": 2,
     "metadata": {},
     "source": [
      "Example E2 : Pg 32"
     ]
    },
    {
     "cell_type": "code",
     "collapsed": false,
     "input": [
      "# developed in windows XP operating system 32bit\n",
      "# platform Scilab 5.4.1\n",
      "#clc;clear;\n",
      "# example 3.2\n",
      "# calculation of average speed and instantaneous speed\n",
      "\n",
      "# given data\n",
      "#function s=f(t)\n",
      "#   s=2.5*t^2;\n",
      "#endfunction\n",
      "#t=5.; # time (in s)\n",
      "\n",
      "# calculation\n",
      "vav=12.5;#f(t)/t; # average speed(in m/s)\n",
      "vinst=25.;#derivative(f,t); # instantaneous speed(in m/s)\n",
      "\n",
      "print'the average speed(in m/s) of the particle is',vav\n",
      "print'the instantaneous speed(in m/s) of the particle is',vinst"
     ],
     "language": "python",
     "metadata": {},
     "outputs": [
      {
       "output_type": "stream",
       "stream": "stdout",
       "text": [
        "the average speed(in m/s) of the particle is 12.5\n",
        "the instantaneous speed(in m/s) of the particle is 25.0\n"
       ]
      }
     ],
     "prompt_number": 2
    },
    {
     "cell_type": "heading",
     "level": 2,
     "metadata": {},
     "source": [
      "Example E3 : Pg 33"
     ]
    },
    {
     "cell_type": "code",
     "collapsed": false,
     "input": [
      "# developed in windows XP operating system 32bit\n",
      "# platform Scilab 5.4.1\n",
      "#clc;clear;\n",
      "# example 3.3\n",
      "# calculation of distance from speed versus time graph\n",
      "\n",
      "# given data\n",
      "base=3.; # time(in s) representing the base of graph(triangle)\n",
      "height=6.; # speed(in m/s) representing the height of the graph(triangle)\n",
      "# calculation\n",
      "dist=(1./2.)*base*height; # distance travelled is the area of the graph(triangle)\n",
      "\n",
      "print'the distance(in m) travelled by the particle is',dist"
     ],
     "language": "python",
     "metadata": {},
     "outputs": [
      {
       "output_type": "stream",
       "stream": "stdout",
       "text": [
        "the distance(in m) travelled by the particle is 9.0\n"
       ]
      }
     ],
     "prompt_number": 3
    },
    {
     "cell_type": "heading",
     "level": 2,
     "metadata": {},
     "source": [
      "Example E4 : Pg 34"
     ]
    },
    {
     "cell_type": "code",
     "collapsed": false,
     "input": [
      "# developed in windows XP operating system 32bit\n",
      "# platform Scilab 5.4.1\n",
      "#clc;clear;\n",
      "# example 3.4\n",
      "# calculation of average velocity of the tip of minute hand in a table clock\n",
      "\n",
      "# given data\n",
      "R=4.; # length(in cm) of the minute hand = radius(in cm) of the circle representing the clock\n",
      "t1=1800.; # time(in second) elapsed between 6.00 a.m and 6.30 a.m        30*60\n",
      "t2=45000.; # time(in second) elapsed between 6.00 a.m and 6.30 p.m       (12*60*60) + (30*60)\n",
      "\n",
      "# calculation\n",
      "vav1=(2.*R)/t1; # average velocity(in cm/s) in first case\n",
      "vav2=(2.*R)/t2; # average velocity(in cm/s) in second case\n",
      "\n",
      "print'average velocity(in cm/s) of the tip of minute hand in time elapsed between 6.00 a.m and 6.30 a.m is',vav1\n",
      "print'average velocity(in cm/s) of the tip of minute hand in time elapsed between 6.00 a.m and 6.30 p.m is',vav2"
     ],
     "language": "python",
     "metadata": {},
     "outputs": [
      {
       "output_type": "stream",
       "stream": "stdout",
       "text": [
        "average velocity(in cm/s) of the tip of minute hand in time elapsed between 6.00 a.m and 6.30 a.m is 0.00444444444444\n",
        "average velocity(in cm/s) of the tip of minute hand in time elapsed between 6.00 a.m and 6.30 p.m is 0.000177777777778\n"
       ]
      }
     ],
     "prompt_number": 4
    },
    {
     "cell_type": "heading",
     "level": 2,
     "metadata": {},
     "source": [
      "Example E5 : Pg 35"
     ]
    },
    {
     "cell_type": "code",
     "collapsed": false,
     "input": [
      "# developed in windows XP operating system 32bit\n",
      "# platform Scilab 5.4.1\n",
      "#clc;clear;\n",
      "# example 3.6\n",
      "# calculation of displacement of particle in last 1 second\n",
      "\n",
      "# given data\n",
      "u=5.; # initial velocity(in m/s) of the particle\n",
      "a=2.; # constant acceleration(in m/s**2) of the particle\n",
      "t=10.; # time(in s)\n",
      "\n",
      "# calculation\n",
      "# s = u*t+((1/2)*a*t**2)....equation of motion\n",
      "# sdash = u*(t-1)+((1/2)*a*(t-1)**2)\n",
      "# st = s-sdash =u+((a/2)*(2*t-1)); \n",
      "\n",
      "st=u+((a/2.)*(2.*t-1.)); # formula of displacement in last one second\n",
      "print'displacement(in m) of particle in last 1 second',st"
     ],
     "language": "python",
     "metadata": {},
     "outputs": [
      {
       "output_type": "stream",
       "stream": "stdout",
       "text": [
        "displacement(in m) of particle in last 1 second 24.0\n"
       ]
      }
     ],
     "prompt_number": 5
    },
    {
     "cell_type": "heading",
     "level": 2,
     "metadata": {},
     "source": [
      "Example E7 : Pg 36"
     ]
    },
    {
     "cell_type": "code",
     "collapsed": false,
     "input": [
      "# developed in windows XP operating system 32bit\n",
      "# platform Scilab 5.4.1\n",
      "#clc;clear;\n",
      "# example 3.7\n",
      "# calculation of maximum height reached by the ball\n",
      "\n",
      "# given data\n",
      "u=4.; # initial velocity(in m/s) of the ball\n",
      "a=-10.; # acceleration(in m/s^2) of the ball\n",
      "\n",
      "# calculation\n",
      "y=-((u*u)/(2.*a)); # formula for vertical height(in m)\n",
      "\n",
      "print'maximum height(in m) reached by the ball is',y"
     ],
     "language": "python",
     "metadata": {},
     "outputs": [
      {
       "output_type": "stream",
       "stream": "stdout",
       "text": [
        "maximum height(in m) reached by the ball is 0.8\n"
       ]
      }
     ],
     "prompt_number": 6
    },
    {
     "cell_type": "heading",
     "level": 2,
     "metadata": {},
     "source": [
      "Example E8 : Pg 37"
     ]
    },
    {
     "cell_type": "code",
     "collapsed": false,
     "input": [
      "# developed in windows XP operating system 32bit\n",
      "# platform Scilab 5.4.1\n",
      "#clc;clear;\n",
      "# example 3.8\n",
      "# calculation of velocity and position of the particle\n",
      "\n",
      "# given data\n",
      "a=1.5; # acceleration(in m/s^2) of the particle\n",
      "theta=37.; # angle(in degree) made by particle with X axis\n",
      "ux=8.; # x component of initial velocity(in m/s) of the particle \n",
      "uy=0; # y component of initial velocity(in m/s) of the particle \n",
      "t=4.; # time(in s)\n",
      "\n",
      "# calculation\n",
      "ax=1.2;#a*cosd(theta);\n",
      "ay=0.903;#a*sind(theta);\n",
      "\n",
      "vx=12.8;#ux+(ax*t); # formula of x component of final velocity\n",
      "vy=3.61;#uy+(ay*t); # formula of y component of final velocity\n",
      "v=13.3;#sqrt((vx*vx)+(vy*vy));\n",
      "thetav=15.8;#atand(vy/vx);\n",
      "\n",
      "x=41.6;#(ux*t)+((ax*t*t)/2); # formula for x coordinate of particle at time t\n",
      "y=7.22;#(uy*t)+((ay*t*t)/2); # formula for y coordinate of particle at time t\n",
      "\n",
      "print'the velocity of the particle at t=4 s is',v,'m/s','\\nand angle made with X axis is',thetav,'degree'\n",
      "print'the particle is at(',x,'',y,')m at  time t=4 s'"
     ],
     "language": "python",
     "metadata": {},
     "outputs": [
      {
       "output_type": "stream",
       "stream": "stdout",
       "text": [
        "the velocity of the particle at t=4 s is 13.3 m/s \n",
        "and angle made with X axis is 15.8 degree\n",
        "the particle is at( 41.6  7.22 )m at  time t=4 s\n"
       ]
      }
     ],
     "prompt_number": 7
    },
    {
     "cell_type": "heading",
     "level": 2,
     "metadata": {},
     "source": [
      "Example E9 : Pg 39"
     ]
    },
    {
     "cell_type": "code",
     "collapsed": false,
     "input": [
      "# developed in windows XP operating system 32bit\n",
      "# platform Scilab 5.4.1\n",
      "#clc;clear;\n",
      "# example 3.9\n",
      "# calculation of horizontal range of the projectile\n",
      "\n",
      "# given data\n",
      "u=12.# initial velocity(in m/s) of the projectile\n",
      "theta=45.# angle(in degree) made by the projectile with X axis\n",
      "g=10.# gravitational acceleration(in m/s^2)\n",
      "\n",
      "# calculation\n",
      "h=14.4;#(u*u*sind(2.*theta))/g;# formula for horizontal range of a projectile\n",
      "\n",
      "print'the ball hits the field at',h,'m','from the point of projection'"
     ],
     "language": "python",
     "metadata": {},
     "outputs": [
      {
       "output_type": "stream",
       "stream": "stdout",
       "text": [
        "the ball hits the field at 14.4 m from the point of projection\n"
       ]
      }
     ],
     "prompt_number": 8
    },
    {
     "cell_type": "heading",
     "level": 2,
     "metadata": {},
     "source": [
      "Example E10 : Pg 40"
     ]
    },
    {
     "cell_type": "code",
     "collapsed": false,
     "input": [
      "# developed in windows XP operating system 32bit\n",
      "# platform Scilab 5.4.1\n",
      "#clc;clear;\n",
      "# example 3.10\n",
      "# calculation of velocity of the swimmer with respect to ground\n",
      "\n",
      "# given data\n",
      "vsr=4.# velocity(in km/h) of the swimmer with respect to water \n",
      "vrg=3.# velocity(in km/h) of the river water with respect to ground\n",
      "\n",
      "# calculation\n",
      "vsg=5.;#sqrt((vsr*vsr)+(vrg*vrg));# formula for relative velocity    vsg = vsr + vrg\n",
      "theta=53.1;#atand(4./3.);\n",
      "\n",
      "print'the velocity of the swimmer with respect to ground is',vsg,'km/h','\\nand angle made by him with X axis is',theta,'degree'"
     ],
     "language": "python",
     "metadata": {},
     "outputs": [
      {
       "output_type": "stream",
       "stream": "stdout",
       "text": [
        "the velocity of the swimmer with respect to ground is 5.0 km/h \n",
        "and angle made by him with X axis is 53.1 degree\n"
       ]
      }
     ],
     "prompt_number": 9
    },
    {
     "cell_type": "heading",
     "level": 2,
     "metadata": {},
     "source": [
      "Example E11 : Pg 40"
     ]
    },
    {
     "cell_type": "code",
     "collapsed": false,
     "input": [
      "# developed in windows XP operating system 32bit\n",
      "# platform Scilab 5.4.1\n",
      "#clc;clear;\n",
      "# example 3.11\n",
      "# calculation of velocity of the raindrops with respect to the man\n",
      "# given data\n",
      "import math \n",
      "from math import sqrt\n",
      "vmanstreet=3.# velocity(in km/h) of man with respect to the street\n",
      "vrainstreet=4.# velocity(in km/h) of rain with respect to the street\n",
      "\n",
      "# calculation\n",
      "vrainman=sqrt((vrainstreet*vrainstreet)+(vmanstreet*vmanstreet));# velocity(in km/h) of rain with respect to the man\n",
      "theta=36.9;#atand(vmanstreet/vrainstreet);# angle(in degree) made by rain drops with Y axis\n",
      "\n",
      "print'velocity of the raindrops with respect to the man is',vrainman,'km/h','\\nand angle made by rain drops with Y axis is',theta,'degree'"
     ],
     "language": "python",
     "metadata": {},
     "outputs": [
      {
       "output_type": "stream",
       "stream": "stdout",
       "text": [
        "velocity of the raindrops with respect to the man is 5.0 km/h \n",
        "and angle made by rain drops with Y axis is 36.9 degree\n"
       ]
      }
     ],
     "prompt_number": 10
    },
    {
     "cell_type": "heading",
     "level": 1,
     "metadata": {},
     "source": [
      "WORKED EXAMPLES "
     ]
    },
    {
     "cell_type": "heading",
     "level": 2,
     "metadata": {},
     "source": [
      "Example E1w : Pg 41"
     ]
    },
    {
     "cell_type": "code",
     "collapsed": false,
     "input": [
      "# developed in windows XP operating system 32bit\n",
      "# platform Scilab 5.4.1\n",
      "#clc;clear;\n",
      "# example 3.1w\n",
      "# calculation of average speed of the walk\n",
      "\n",
      "# given data\n",
      "v1=6.# speed(in km/h) of the man\n",
      "v2=8.# speed(in km/h) of the man\n",
      "d1=1.# distance(in km) travelled at v1 speed\n",
      "d2=1.# distance(in km) travelled at v2 speed\n",
      "d=2.# given distance(in km)\n",
      "\n",
      "# calculation\n",
      "t=(v1/d1)+(v2/d2);# total time(in s) taken\n",
      "vavg=d/t;# formula for average velocity\n",
      "\n",
      "print'the average velocity(in km/h) of the man is',vavg"
     ],
     "language": "python",
     "metadata": {},
     "outputs": [
      {
       "output_type": "stream",
       "stream": "stdout",
       "text": [
        "the average velocity(in km/h) of the man is 0.142857142857\n"
       ]
      }
     ],
     "prompt_number": 11
    },
    {
     "cell_type": "heading",
     "level": 2,
     "metadata": {},
     "source": [
      "Example E2w : Pg 41"
     ]
    },
    {
     "cell_type": "code",
     "collapsed": false,
     "input": [
      "# developed in windows XP operating system 32bit\n",
      "# platform Scilab 5.4.1\n",
      "#clc;clear;\n",
      "# example 3.2w\n",
      "# calculation of average speed and average velocity\n",
      "\n",
      "# given data\n",
      "w=40.# length(in ft)of the wall \n",
      "t=50.# time(in min) taken\n",
      "rnd=10.# number of rounds taken\n",
      "\n",
      "# calculation\n",
      "dist=2.*w*rnd;\n",
      "avgspeed=dist/t;\n",
      "avgvelocity=0# average velocity(in ft/min) since displacement=0   as he is at the same door from where he has started\n",
      "\n",
      "print'the average speed of the teacher is',avgspeed,'ft/min','\\nand the average velocity is',avgvelocity,'ft/min'"
     ],
     "language": "python",
     "metadata": {},
     "outputs": [
      {
       "output_type": "stream",
       "stream": "stdout",
       "text": [
        "the average speed of the teacher is 16.0 ft/min \n",
        "and the average velocity is 0 ft/min\n"
       ]
      }
     ],
     "prompt_number": 12
    },
    {
     "cell_type": "heading",
     "level": 2,
     "metadata": {},
     "source": [
      "Example E3w : Pg 41"
     ]
    },
    {
     "cell_type": "code",
     "collapsed": false,
     "input": [
      "# developed in windows XP operating system 32bit\n",
      "# platform Scilab 5.4.1\n",
      "#clc;clear;\n",
      "# example 3.3w\n",
      "# calculation of average velocity and average acceleration \n",
      "\n",
      "# given data\n",
      "A=1.# given value of constant A\n",
      "B=4.# given value of constant B\n",
      "C=-2.# given value of constant C\n",
      "D=5.# given value of constant D\n",
      "t=4.# time(in s)\n",
      "t1=0# initial time(in s) for calculation of average velocity and average acceleration\n",
      "t2=4.# final time(in s) for calculation of average velocity and average acceleration\n",
      "\n",
      "#function x=f(t)\n",
      "#    x=(A*(t**3))+(B*(t**2))+(C*t)+D\n",
      "#endfunction\n",
      "\n",
      "#function a=f1(t)\n",
      "#a=(6*A*t)+(2*B)\n",
      "#endfunction\n",
      "\n",
      "# calculation\n",
      "v=78.;#derivative(f,t)# formula of velocity\n",
      "na=32.;#f1(t)# formula of acceleration \n",
      "\n",
      "x1=5.;#f(t1);# formula of position of the particle at t1 time \n",
      "x2=125.;#f(t2);# formula of position of the particle at t2 time\n",
      "vavg=30.;#(x2-x1)/(t2-t1);# formula of average velocity\n",
      "\n",
      "v1=-2.;#derivative(f,t1);# formula of velocity of the particle at t1 time \n",
      "v2=78.;#derivative(f,t2);# formula of velocity of the particle at t2 time\n",
      "aavg=20.;#(v2-v1)/(t2-t1);# formula of average acceleration\n",
      "\n",
      "print'the velocity of particle at t=4 s is',v,'m/s',v\n",
      "print'the acceleration of particle at t=4 s is',na,'m/s**2'\n",
      "print'the average velocity of the particle between t=0 s and t=4 s is',vavg,'m/s'\n",
      "print'the average acceleration of the particle between t=0 s and t=4 s is',aavg,'m/s**2'"
     ],
     "language": "python",
     "metadata": {},
     "outputs": [
      {
       "output_type": "stream",
       "stream": "stdout",
       "text": [
        "the velocity of particle at t=4 s is 78.0 m/s 78.0\n",
        "the acceleration of particle at t=4 s is 32.0 m/s**2\n",
        "the average velocity of the particle between t=0 s and t=4 s is 30.0 m/s\n",
        "the average acceleration of the particle between t=0 s and t=4 s is 20.0 m/s**2\n"
       ]
      }
     ],
     "prompt_number": 13
    },
    {
     "cell_type": "heading",
     "level": 2,
     "metadata": {},
     "source": [
      "Example E4w : Pg 42"
     ]
    },
    {
     "cell_type": "code",
     "collapsed": false,
     "input": [
      "# developed in windows XP operating system 32bit\n",
      "# platform Scilab 5.4.1\n",
      "#clc;clear;\n",
      "# example 3.4w\n",
      "# calculation of distance travelled,displacement and acceleration\n",
      "\n",
      "# given data\n",
      "# graph of velocity(in m/s) versus time(in s)\n",
      "\n",
      "# calculation\n",
      "d1=(2.*10.)/2.;# distance(in m) travelled during t=0 s to t=2 s = area of OAB\n",
      "d2=(2.*10.)/2.;# distance(in m) travelled during t=2 s to t=4 s = area of BCD\n",
      "d=d1+d2;# distance(in m) travelled during t=0 s to t=4 s\n",
      "dis=d1+(-d2);# displacement(in m) during t=0 s to t=4 s\n",
      "a1=(10-0)/(1-0);# acceleration(in m/s^2) at t=1/2 s = slope of OA\n",
      "a2=(-10-0)/(3-2);# acceleration(in m/s^2) at t=2 s = slope of BC\n",
      "\n",
      "print'distance(in m) travelled during t=0 s to t=2 s is',d1\n",
      "print'distance(in m) travelled during t=2 s to t=4 s is',d2\n",
      "print'distance(in m) travelled during t=0 s to t=4 s',d\n",
      "print'displacement(in m) during t=0 s to t=4 s',dis\n",
      "print'acceleration(in m/s^2) at t=1/2 s',a1\n",
      "print'acceleration(in m/s^2) at t=2 s',a2"
     ],
     "language": "python",
     "metadata": {},
     "outputs": [
      {
       "output_type": "stream",
       "stream": "stdout",
       "text": [
        "distance(in m) travelled during t=0 s to t=2 s is 10.0\n",
        "distance(in m) travelled during t=2 s to t=4 s is 10.0\n",
        "distance(in m) travelled during t=0 s to t=4 s 20.0\n",
        "displacement(in m) during t=0 s to t=4 s 0.0\n",
        "acceleration(in m/s^2) at t=1/2 s 10\n",
        "acceleration(in m/s^2) at t=2 s -10\n"
       ]
      }
     ],
     "prompt_number": 14
    },
    {
     "cell_type": "heading",
     "level": 2,
     "metadata": {},
     "source": [
      "Example E5w : Pg 42"
     ]
    },
    {
     "cell_type": "code",
     "collapsed": false,
     "input": [
      "# developed in windows XP operating system 32bit\n",
      "# platform Scilab 5.4.1\n",
      "#clc;clear;\n",
      "# example 3.5w\n",
      "# calculation of acceleration and distance travelled\n",
      "\n",
      "# given data\n",
      "v1=100.# speed1(in m/s)\n",
      "v2=150.# speed2(in m/s)\n",
      "t=1.# change in time (in s)\n",
      "\n",
      "# calculation\n",
      "a=(v2-v1)/t;# formula of acceleration\n",
      "x=((v2*v2)-(v1*v1))/(2*a);# distance travelled in (t+1)th second\n",
      "\n",
      "print'acceleration of the particle is',a,'m/s**2'\n",
      "print'distance travelled in (t+1)th second is',x,'m'"
     ],
     "language": "python",
     "metadata": {},
     "outputs": [
      {
       "output_type": "stream",
       "stream": "stdout",
       "text": [
        "acceleration of the particle is 50.0 m/s**2\n",
        "distance travelled in (t+1)th second is 125.0 m\n"
       ]
      }
     ],
     "prompt_number": 15
    },
    {
     "cell_type": "heading",
     "level": 2,
     "metadata": {},
     "source": [
      "Example E6w : Pg 42"
     ]
    },
    {
     "cell_type": "code",
     "collapsed": false,
     "input": [
      "# developed in windows XP operating system 32bit\n",
      "# platform Scilab 5.4.1\n",
      "#clc;clear;\n",
      "# example 3.6w\n",
      "# calculation of acceleration\n",
      "\n",
      "# given data\n",
      "u=0# initial velocity(in m/s)\n",
      "v=2.2# final velocity(in m/s)\n",
      "d=.24# distance(in m) travelled\n",
      "\n",
      "# calculation\n",
      "a=((v*v)-(u*u))/(2.*d);# formula of acceleration\n",
      "\n",
      "print'the acceleration of the stone is',a,'m/s**2'"
     ],
     "language": "python",
     "metadata": {},
     "outputs": [
      {
       "output_type": "stream",
       "stream": "stdout",
       "text": [
        "the acceleration of the stone is 10.0833333333 m/s**2\n"
       ]
      }
     ],
     "prompt_number": 16
    },
    {
     "cell_type": "heading",
     "level": 2,
     "metadata": {},
     "source": [
      "Example E8w : Pg 43"
     ]
    },
    {
     "cell_type": "code",
     "collapsed": false,
     "input": [
      "# developed in windows XP operating system 32bit\n",
      "# platform Scilab 5.4.1\n",
      "#clc;clear;\n",
      "# example 3.8w\n",
      "# calculation of total distance and number of trips\n",
      "\n",
      "# given data\n",
      "dcar=20.# distance(in km) travelled by the car\n",
      "vcar=40.# speed(in km/h) of the car\n",
      "vfly=100.# speed(in km/h) of the fly\n",
      "\n",
      "# calculation\n",
      "tcar=dcar/vcar;# time(in h) taken by the car to cover given distance\n",
      "tfly=tcar;\n",
      "dfly=tfly*vfly;# distance(in m) travelled by the fly\n",
      "# number of trips made by fly can be infinite\n",
      "\n",
      "print'total distance travelled by the fly is',dfly,'km','\\nand number of trips made by fly can be infinite'"
     ],
     "language": "python",
     "metadata": {},
     "outputs": [
      {
       "output_type": "stream",
       "stream": "stdout",
       "text": [
        "total distance travelled by the fly is 50.0 km \n",
        "and number of trips made by fly can be infinite\n"
       ]
      }
     ],
     "prompt_number": 17
    },
    {
     "cell_type": "heading",
     "level": 2,
     "metadata": {},
     "source": [
      "Example E10w : Pg 44"
     ]
    },
    {
     "cell_type": "code",
     "collapsed": false,
     "input": [
      "# developed in windows XP operating system 32bit\n",
      "# platform Scilab 5.4.1\n",
      "#clc;clear;\n",
      "# example 3.10w\n",
      "# calculation of height of balloon when stone reaches ground\n",
      "# given data\n",
      "import math \n",
      "from math import pi,sqrt\n",
      "x=-50.# height(in m) of the ballon when the stone was dropped\n",
      "u=5.# velocity(in m/s) of the ballon\n",
      "a=-10.# acceleration(in m/s^2) of the ballon\n",
      "\n",
      "# calculation\n",
      "# from x=(u*t)+((1/2)*a*t*t) we have -5*t^2 + 5*t + 50 = 0\n",
      "a=-5.# coefficient of t^2\n",
      "b=5.# coefficient of t\n",
      "c=50.# constant\n",
      "\n",
      "t1=(-b+sqrt((b*b)-(4.*a*c)))/(2.*a)# value of t\n",
      "t2=(-b-sqrt((b*b)-(4.*a*c)))/(2.*a)# value of t\n",
      "\n",
      "if(t1>0) :\n",
      "   t=t1;\n",
      "\n",
      "if(t2>0) :\n",
      "   t=t2;\n",
      "\n",
      "\n",
      "tballoon=t;# during this time baloon has uniformly moved upwards\n",
      "dballoon=u*t;\n",
      "dtotal=dballoon+(-x);\n",
      "\n",
      "print'height of the ballon when the stone reaches ground is',round(dtotal,2),'m'"
     ],
     "language": "python",
     "metadata": {},
     "outputs": [
      {
       "output_type": "stream",
       "stream": "stdout",
       "text": [
        "height of the ballon when the stone reaches ground is 68.51 m\n"
       ]
      }
     ],
     "prompt_number": 18
    },
    {
     "cell_type": "heading",
     "level": 2,
     "metadata": {},
     "source": [
      "Example E11w : Pg 44"
     ]
    },
    {
     "cell_type": "code",
     "collapsed": false,
     "input": [
      "# developed in windows XP operating system 32bit\n",
      "# platform Scilab 5.4.1\n",
      "#clc;clear;\n",
      "# example 3.11w\n",
      "# calculation of time of flight,horizontal range and vertical range\n",
      "\n",
      "# given data\n",
      "u=20.# initial velocity(in m/s) of the football\n",
      "theta=45.# angle(in degree) made by the football with ground\n",
      "g=10.# gravitational acceleration(in m/s^2)\n",
      "\n",
      "# calculation\n",
      "ux=14.1;#u*cosd(theta);\n",
      "uy=14.1;#u*sind(theta);\n",
      "\n",
      "t=(2.*uy)/g;#  from equation y=(uy*t)+((1/2)*g*t*t)......taking y=0\n",
      "H=((uy*uy)/(2.*g));# from equation (vy*vy)=(uy*uy)-(2*g*y)       taking vy=0\n",
      "x=ux*t;# horizontal distance travelled at ux velocity\n",
      "\n",
      "print'the time taken by the ball to strike the ground is',t,'s'\n",
      "print'the maximum height reached by the ball is',H,'m'\n",
      "print'the horizontal distance travelled by the ball before reaching the ground is',x,'m'"
     ],
     "language": "python",
     "metadata": {},
     "outputs": [
      {
       "output_type": "stream",
       "stream": "stdout",
       "text": [
        "the time taken by the ball to strike the ground is 2.82 s\n",
        "the maximum height reached by the ball is 9.9405 m\n",
        "the horizontal distance travelled by the ball before reaching the ground is 39.762 m\n"
       ]
      }
     ],
     "prompt_number": 19
    },
    {
     "cell_type": "heading",
     "level": 2,
     "metadata": {},
     "source": [
      "Example E16w : Pg 46"
     ]
    },
    {
     "cell_type": "code",
     "collapsed": false,
     "input": [
      "# developed in windows XP operating system 32bit\n",
      "# platform Scilab 5.4.1\n",
      "#clc;clear;\n",
      "# example 3.16w\n",
      "# calculation of angle of the swim and time to cross the river\n",
      "\n",
      "# given data\n",
      "vrg=2.# velocity(in km/h) of the river with respect to ground\n",
      "vmr=3.# # velocity(in km/h) of the man with respect to river\n",
      "d=.5# width(in km) of the river\n",
      "\n",
      "# calculation\n",
      "theta=41.8;#asind(vrg/vmr);# from equation of relative velocity   vmg=vmr+vrg...taking components along X axis\n",
      "vmg=2.24;#vmr*cosd(theta);# taking component along Y axis\n",
      "time=d/vmg;\n",
      "\n",
      "print'swimmer should try to swim,making an angle of',theta,'degree with Y axis'\n",
      "print'time taken by the swimmer to cross the river is',time,'h'"
     ],
     "language": "python",
     "metadata": {},
     "outputs": [
      {
       "output_type": "stream",
       "stream": "stdout",
       "text": [
        "swimmer should try to swim,making an angle of 41.8 degree with Y axis\n",
        "time taken by the swimmer to cross the river is 0.223214285714 h\n"
       ]
      }
     ],
     "prompt_number": 20
    },
    {
     "cell_type": "heading",
     "level": 2,
     "metadata": {},
     "source": [
      "Example E17w : Pg 46"
     ]
    },
    {
     "cell_type": "code",
     "collapsed": false,
     "input": [
      "# developed in windows XP operating system 32bit\n",
      "# platform Scilab 5.4.1\n",
      "#clc;clear;\n",
      "# example 3.17w\n",
      "# calculation of time taken and position of the arrival on opposite bank\n",
      "\n",
      "# given data\n",
      "dyaxis=.5# displacement(in km) along Y axis\n",
      "vrg=2.# velocity(in km/h) of the river with respect to ground\n",
      "vmr=3.# # velocity(in km/h) of the man with respect to river\n",
      "theta1=30.# angle(in degree) of vmr with Y axis\n",
      "theta2=90.# angle(in degree) of vrg with Y axis\n",
      "\n",
      "# calculation\n",
      "vyaxis=2.6;#(vmr*cosd(theta1))+(vrg*cosd(theta2));# velocity along Y axis i.e taking y component in equation   vmg=vmr+vrg\n",
      "t=dyaxis/vyaxis;\n",
      "vxaxis=0.5;#(-vmr*sind(theta1))+(vrg*sind(theta2));# velocity along X axis i.e taking x component in equation   vmg=vmr+vrg\n",
      "dxaxis=vxaxis*t;\n",
      "\n",
      "print'time taken by the swimmer to cross the river is',round(t,2),'hour'\n",
      "print'displacement of the swimmer along X axis is',round(dxaxis,2),'km'"
     ],
     "language": "python",
     "metadata": {},
     "outputs": [
      {
       "output_type": "stream",
       "stream": "stdout",
       "text": [
        "time taken by the swimmer to cross the river is 0.19 hour\n",
        "displacement of the swimmer along X axis is 0.1 km\n"
       ]
      }
     ],
     "prompt_number": 21
    },
    {
     "cell_type": "heading",
     "level": 2,
     "metadata": {},
     "source": [
      "Example E18w : Pg 47"
     ]
    },
    {
     "cell_type": "code",
     "collapsed": false,
     "input": [
      "# developed in windows XP operating system 32bit\n",
      "# platform Scilab 5.4.1\n",
      "#clc;clear;\n",
      "# example 3.18w\n",
      "# calculation of speed of raindrops with respect to road and the moving man\n",
      "\n",
      "# given data\n",
      "vmg=10.# velocity(in km/h) of the man with respect to the ground\n",
      "theta=30.# angle(in degree) made by vrg with Y axis\n",
      "\n",
      "# calculation\n",
      "vrg=20.;#vmg/sind(theta);#  from equation of relative velocity   vrg=vrm+vmg...taking horizontal components \n",
      "vrm=17.3;#vrg*cosd(theta);#  from equation of relative velocity   vrg=vrm+vmg...taking vertical components \n",
      "\n",
      "print'the speed of raindrops with respect to the ground is',vrg,'km/h','\\nand with respect to the  man is',vrm,'km/h'"
     ],
     "language": "python",
     "metadata": {},
     "outputs": [
      {
       "output_type": "stream",
       "stream": "stdout",
       "text": [
        "the speed of raindrops with respect to the ground is 20.0 km/h \n",
        "and with respect to the  man is 17.3 km/h\n"
       ]
      }
     ],
     "prompt_number": 22
    },
    {
     "cell_type": "heading",
     "level": 2,
     "metadata": {},
     "source": [
      "Example E19w : Pg 47"
     ]
    },
    {
     "cell_type": "code",
     "collapsed": false,
     "input": [
      "# developed in windows XP operating system 32bit\n",
      "# platform Scilab 5.4.1\n",
      "#clc;clear;\n",
      "# example 3.19w\n",
      "# calculation of speed and direction of rain with respect to the road\n",
      "\n",
      "# given data\n",
      "vmanroad=8.# velocity(in km/h) of the man with respect to the road\n",
      "\n",
      "# calculation\n",
      "# from equation of relative velocity   vrainroad = vrainman + vmanroad\n",
      "# taking horizontal components        vrainroad*sind(aplha)=8                    1\n",
      "# taking components along line OA     vrainroad*sind(30+alpha)=12*cosd(30)       2\n",
      "# from   1    and    2\n",
      "\n",
      "alpha=49.1;#acotd(sqrt(3)/2);\n",
      "vrainroad=10.6;#vmanroad/sind(alpha);# from equation 2\n",
      "\n",
      "print'the speed of the rain with respect to the road is',vrainroad,'km/h','\\nand makes angle of',alpha,'degree with Y axis'"
     ],
     "language": "python",
     "metadata": {},
     "outputs": [
      {
       "output_type": "stream",
       "stream": "stdout",
       "text": [
        "the speed of the rain with respect to the road is 10.6 km/h \n",
        "and makes angle of 49.1 degree with Y axis\n"
       ]
      }
     ],
     "prompt_number": 23
    }
   ],
   "metadata": {}
  }
 ]
}