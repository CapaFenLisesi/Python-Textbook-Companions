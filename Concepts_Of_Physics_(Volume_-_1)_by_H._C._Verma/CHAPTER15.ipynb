{
 "metadata": {
  "name": "",
  "signature": "sha256:63f04b5c8ce33a0b7e8beedbf88a9cdc91e0bc17a0ae9deaed975118bb6a8582"
 },
 "nbformat": 3,
 "nbformat_minor": 0,
 "worksheets": [
  {
   "cells": [
    {
     "cell_type": "heading",
     "level": 1,
     "metadata": {},
     "source": [
      "CHAPTER15 : WAVE MOTION AND WAVES ON A STRING"
     ]
    },
    {
     "cell_type": "heading",
     "level": 2,
     "metadata": {},
     "source": [
      "Example E1 : Pg 305"
     ]
    },
    {
     "cell_type": "code",
     "collapsed": false,
     "input": [
      "#example 15.1\n",
      "#calculation of the velocity,function f(t) giving displacement,function g(x) giving shape\n",
      "#given data\n",
      "#y = y0*exp-(((t/T) - (x/lambda))**2)\n",
      "y0=4.*10.**-3.#value of y0(in m)\n",
      "T=1#value of T(in s)\n",
      "lambd=4.*10.**-2.#value of lambda(in m)\n",
      "\n",
      "#calculation\n",
      "v=lambd/T#velocity of the wave\n",
      "#by putting x=0 in equation (1)......f(t) = y0*exp-((t/T)**2)\n",
      "#by putting t=0 in equation (1)......g(x) = y0*exp-((x/lambda)**2)\n",
      "\n",
      "print '%s %.2f %s' %('the velocity of the wave is',v*10**2,'cm/s\\n')\n",
      "print '%s' %('the function f(t) giving displacement is -->> f(t) = y0*exp-((t/T)**2)\\n')\n",
      "print '%s' %('the function g(x) giving shape of the string at t=0 is --->> g(x) = y0*exp-((x/lambda)**2)\\n')"
     ],
     "language": "python",
     "metadata": {},
     "outputs": [
      {
       "output_type": "stream",
       "stream": "stdout",
       "text": [
        "the velocity of the wave is 4.00 cm/s\n",
        "\n",
        "the function f(t) giving displacement is -->> f(t) = y0*exp-((t/T)**2)\n",
        "\n",
        "the function g(x) giving shape of the string at t=0 is --->> g(x) = y0*exp-((x/lambda)**2)\n",
        "\n"
       ]
      }
     ],
     "prompt_number": 1
    },
    {
     "cell_type": "heading",
     "level": 2,
     "metadata": {},
     "source": [
      "Example E2 : Pg 306"
     ]
    },
    {
     "cell_type": "code",
     "collapsed": false,
     "input": [
      "#example 15.2\n",
      "#calculation of the amplitude,wave number,wavelength,frequency,time period,wave velocity\n",
      "#given data\n",
      "#given equation......y = (5mm)*sin((1cm**-1)*x - (60 s**-1)*t)\n",
      "w=60.#angular frequency\n",
      "import math \n",
      "#calculation\n",
      "A=5.#amplitude(in cm)\n",
      "k=1.#wave number(in cm**-1)\n",
      "lambd=(2.*math.pi)/k#wavelength(in cm)\n",
      "nu=w/(2.*math.pi)#frequency(in Hz)\n",
      "T=1./nu#Time period(in s)\n",
      "v=nu*lambd#wave velocity(in cm/s)\n",
      "\n",
      "print '%s %.2f %s' %('the amplitude is',A,'mm\\n')\n",
      "print '%s %.2f %s' %('the wave number is',k,'cm**-1\\n')\n",
      "print '%s %.2f %s' %('the wavelength is',lambd,'cm\\n')\n",
      "print '%s %.2f %s' %('the frequency is',nu,'Hz\\n')\n",
      "print '%s %.2f %s' %('the time period is',T,'s\\n')\n",
      "print '%s %.2f %s' %('the wave velocity is',v,'cm/s\\n')"
     ],
     "language": "python",
     "metadata": {},
     "outputs": [
      {
       "output_type": "stream",
       "stream": "stdout",
       "text": [
        "the amplitude is 5.00 mm\n",
        "\n",
        "the wave number is 1.00 cm**-1\n",
        "\n",
        "the wavelength is 6.28 cm\n",
        "\n",
        "the frequency is 9.55 Hz\n",
        "\n",
        "the time period is 0.10 s\n",
        "\n",
        "the wave velocity is 60.00 cm/s\n",
        "\n"
       ]
      }
     ],
     "prompt_number": 2
    },
    {
     "cell_type": "heading",
     "level": 2,
     "metadata": {},
     "source": [
      "Example E3 : Pg 307"
     ]
    },
    {
     "cell_type": "code",
     "collapsed": false,
     "input": [
      "#example 15.3\n",
      "#calculation of the time taken by the pulse in travelling through a distance\n",
      "#given data\n",
      "import math\n",
      "m=1.#mass(in kg) of the block\n",
      "mu=1.*10.**-3.*10.**2.#mass density(in kg/m)\n",
      "l=50.*10.**-2.#disatnce(in m) travelled\n",
      "g=10.#gravitational acceleration(in m/s**2) of the earth\n",
      "\n",
      "#calculation\n",
      "F=m*g#tension in the string\n",
      "v=math.sqrt(F/mu)#wave velocity\n",
      "T=l/v#time taken\n",
      "\n",
      "print '%s %.2f %s' %('the time taken by the pulse in travelling through a distance of 50 cm is',T,'s\\n')"
     ],
     "language": "python",
     "metadata": {},
     "outputs": [
      {
       "output_type": "stream",
       "stream": "stdout",
       "text": [
        "the time taken by the pulse in travelling through a distance of 50 cm is 0.05 s\n",
        "\n"
       ]
      }
     ],
     "prompt_number": 3
    },
    {
     "cell_type": "heading",
     "level": 2,
     "metadata": {},
     "source": [
      "Example E4 : Pg 308"
     ]
    },
    {
     "cell_type": "code",
     "collapsed": false,
     "input": [
      "#example 15.4\n",
      "#calculation of the power transmitted through a given point\n",
      "#given data\n",
      "P1=.20#average power(in W)\n",
      "A1=2.#amplitude(in mm) at this point\n",
      "A2=3.#amplitude(in mm)\n",
      "\n",
      "#calculation\n",
      "#transmitted power is proportional to the square of the amplitude\n",
      "P2=P1*(A2/A1)**2.\n",
      "\n",
      "print '%s %.2f %s' %('the power transmitted through the given point is',P2,'W\\n')"
     ],
     "language": "python",
     "metadata": {},
     "outputs": [
      {
       "output_type": "stream",
       "stream": "stdout",
       "text": [
        "the power transmitted through the given point is 0.45 W\n",
        "\n"
       ]
      }
     ],
     "prompt_number": 4
    },
    {
     "cell_type": "heading",
     "level": 2,
     "metadata": {},
     "source": [
      "Example E5 : Pg 310"
     ]
    },
    {
     "cell_type": "code",
     "collapsed": false,
     "input": [
      "#example 15.5\n",
      "#calculation of the phase difference between the waves and amplitude of the resultant wave\n",
      "#given data\n",
      "#equations of the wave are\n",
      "#y1 = A1*sin(k(x-v*t))...........(1)\n",
      "#y2 = A2*sin(k(x-v*t+x0))........(2)\n",
      "k=6.28*10.**2.#wave number(in m**-1)\n",
      "x0=1.50*10.**-2.#value of x0(in m)\n",
      "A1=5.*10.**-3.#amplitude(in m) of wave 1\n",
      "A2=4.*10.**-3.#amplitude(in m) of wave 2\n",
      "\n",
      "#calculation\n",
      "deltaP=k*x0#phase difference\n",
      "deltaA=abs(A1-A2)#amplitude of the wave\n",
      "\n",
      "print '%s %.2f %s' %('the phase difference between the waves is',deltaP,'rad\\n')\n",
      "print '%s %.2f %s' %('the amplitude of the resultant wave is',deltaA*10**3,'mm\\n')"
     ],
     "language": "python",
     "metadata": {},
     "outputs": [
      {
       "output_type": "stream",
       "stream": "stdout",
       "text": [
        "the phase difference between the waves is 9.42 rad\n",
        "\n",
        "the amplitude of the resultant wave is 1.00 mm\n",
        "\n"
       ]
      }
     ],
     "prompt_number": 5
    },
    {
     "cell_type": "heading",
     "level": 2,
     "metadata": {},
     "source": [
      "Example E6 : Pg 312"
     ]
    },
    {
     "cell_type": "code",
     "collapsed": false,
     "input": [
      "import math \n",
      "#example 15.6\n",
      "#calculation of the velocity,node closest to origin,antinode closest to origin,amplitude at x\n",
      "\n",
      "#given data\n",
      "#equation of the wave is......y = A*cosd(k*x)*sind(w*t)\n",
      "A=1.#amplitude(in mm)\n",
      "k=1.57#value of k(in cm**-1)\n",
      "w=78.5#angular velocity(in s**-1)\n",
      "x=2.33#value of x(in cm)\n",
      "\n",
      "#calculation\n",
      "v=w/k#wave velocity\n",
      "xn=math.pi/(2*k)#for a node ...cosd(kx) = 0\n",
      "xa=math.pi/k#for a antinode ...|cosd(kx)| = 1\n",
      "Ar=A*abs(math.cos(k*x))\n",
      "\n",
      "print '%s %.2f %s' %('the velocity of the wave is',v,'cm/s\\n')\n",
      "print '%s %.2f %s' %('the node closest to the origin is located at x=',xn,'cm\\n')\n",
      "print '%s %.2f %s' %('the antinode closest to the origin is located at x=',xa,'cm\\n')\n",
      "print '%s %.2f %s' %('the amplitude at x=2.33 is',Ar,'mm\\n')"
     ],
     "language": "python",
     "metadata": {},
     "outputs": [
      {
       "output_type": "stream",
       "stream": "stdout",
       "text": [
        "the velocity of the wave is 50.00 cm/s\n",
        "\n",
        "the node closest to the origin is located at x= 1.00 cm\n",
        "\n",
        "the antinode closest to the origin is located at x= 2.00 cm\n",
        "\n",
        "the amplitude at x=2.33 is 0.87 mm\n",
        "\n"
       ]
      }
     ],
     "prompt_number": 6
    },
    {
     "cell_type": "heading",
     "level": 2,
     "metadata": {},
     "source": [
      "Example E7 : Pg 313"
     ]
    },
    {
     "cell_type": "code",
     "collapsed": false,
     "input": [
      "#example 15.7\n",
      "#calculation of the fundamental frequency of the portion of the string between the wall and the pulley \n",
      "#given data\n",
      "import math\n",
      "m=1.6#mass(in kg) of the load\n",
      "mw=20.*10.**-3.#mass(in kg) of the wire\n",
      "l=50.*10.**-2.#length(in kg/m) of wire\n",
      "g=10.#gravitational acceleration(in m/s**2) of the earth\n",
      "L=40.*10.**-2.#length(in m) of the string between the wall and the pulley \n",
      "\n",
      "#calculation\n",
      "F=m*g#tension in the string\n",
      "mu=mw/l#linear mass density\n",
      "nu0=(1./(2.*L))*math.sqrt(F/mu)#fundamental frequency\n",
      "\n",
      "print '%s %.2f %s' %('the fundamental frequency of the portion of the string between the wall and the pulley is',nu0,'Hz\\n')"
     ],
     "language": "python",
     "metadata": {},
     "outputs": [
      {
       "output_type": "stream",
       "stream": "stdout",
       "text": [
        "the fundamental frequency of the portion of the string between the wall and the pulley is 25.00 Hz\n",
        "\n"
       ]
      }
     ],
     "prompt_number": 7
    },
    {
     "cell_type": "heading",
     "level": 2,
     "metadata": {},
     "source": [
      "Example E8 : Pg 317"
     ]
    },
    {
     "cell_type": "code",
     "collapsed": false,
     "input": [
      "#example 15.8\n",
      "#calculation of the length of the experimental wire to get the resonance\n",
      "#given data\n",
      "nu1=256.#frequency(in Hz) of the tunning fork 1\n",
      "nu2=384.#frequency(in Hz) of the tunning fork 2\n",
      "l1=21.#length(in cm) of the wire for tunning fork 1\n",
      "\n",
      "#calculation\n",
      "l2=(nu1/nu2)*l1#law of length\n",
      "\n",
      "print '%s %.2f %s' %('the length of the experimental wire to get the resonance is',l2,'cm\\n')"
     ],
     "language": "python",
     "metadata": {},
     "outputs": [
      {
       "output_type": "stream",
       "stream": "stdout",
       "text": [
        "the length of the experimental wire to get the resonance is 14.00 cm\n",
        "\n"
       ]
      }
     ],
     "prompt_number": 8
    },
    {
     "cell_type": "heading",
     "level": 1,
     "metadata": {},
     "source": [
      "WORKED EXAMPLES"
     ]
    },
    {
     "cell_type": "heading",
     "level": 2,
     "metadata": {},
     "source": [
      "Example E1w : Pg 318"
     ]
    },
    {
     "cell_type": "code",
     "collapsed": false,
     "input": [
      "#example 15.1w\n",
      "#calculation of the amplitude,wavelength,frequency,speed of the wave\n",
      "#given data\n",
      "#given wave equation is.....y = (3.0cm)*sin(6.28(.50*x - 50*t))\n",
      "#calculation\n",
      "#comparing with standard equation of wave....y = A*sin*2*%pi*((x/lambda) - (t/T)),we get\n",
      "A=3.#amplitude(in cm)\n",
      "lambd=(1./0.50)#wavelength(in cm)\n",
      "T=1./50.#time period(in s)\n",
      "nu=1./T#frequency(in Hz)\n",
      "v=nu*lambd#wave velocity(in cm s**-1)\n",
      "\n",
      "print '%s %.2f %s' %('the amplitude is',A,'cm\\n')\n",
      "print '%s %.2f %s' %('the wavelength is',lambd,'cm\\n')\n",
      "print '%s %.2f %s' %('the frequency is',nu,'Hz\\n')\n",
      "print '%s %.2f %s' %('the wave velocity is',v,'cm/s\\n')"
     ],
     "language": "python",
     "metadata": {},
     "outputs": [
      {
       "output_type": "stream",
       "stream": "stdout",
       "text": [
        "the amplitude is 3.00 cm\n",
        "\n",
        "the wavelength is 2.00 cm\n",
        "\n",
        "the frequency is 50.00 Hz\n",
        "\n",
        "the wave velocity is 100.00 cm/s\n",
        "\n"
       ]
      }
     ],
     "prompt_number": 9
    },
    {
     "cell_type": "heading",
     "level": 2,
     "metadata": {},
     "source": [
      "Example E2w : Pg 318"
     ]
    },
    {
     "cell_type": "code",
     "collapsed": false,
     "input": [
      "#example 15.2w\n",
      "#calculation of the maximum velocity and acceleraion of the particle\n",
      "#given data\n",
      "#given wave equation is.....y = (3.0cm)*sind((3.14cm**-1)x - (3.14 s**-1)*t))\n",
      "import math \n",
      "t=0#time taken(in s)\n",
      "t1=.11#time(in s) for acceleration\n",
      "def f(t):\n",
      "\tyv = (3.0)*math.sin(-(3.14)*t)\n",
      "\treturn yv\n",
      "#calculation\n",
      "#V = dy/dt\n",
      "vmax=-9.42;#derivative(f,t)\n",
      "#vn=(-9.4)*(314)*(sin((3.14*x)+(314*t)))......take x=6(after derivative)...for acceleration at x=6 cm\n",
      "a=-(2952)*math.sin(6.*math.pi-11.*math.pi)\n",
      "\n",
      "print '%s %.2f %s' %('the maximum velocity is',vmax,'m/s\\n')\n",
      "print '%s %.2f %s' %('\\nthe acceleration at t=0.11 s and x= 6 cm is',a,'cm**2/s\\n')"
     ],
     "language": "python",
     "metadata": {},
     "outputs": [
      {
       "output_type": "stream",
       "stream": "stdout",
       "text": [
        "the maximum velocity is -9.42 m/s\n",
        "\n",
        "\n",
        "the acceleration at t=0.11 s and x= 6 cm is 0.00 cm**2/s\n",
        "\n"
       ]
      }
     ],
     "prompt_number": 10
    },
    {
     "cell_type": "heading",
     "level": 2,
     "metadata": {},
     "source": [
      "Example E3w : Pg 319"
     ]
    },
    {
     "cell_type": "code",
     "collapsed": false,
     "input": [
      "#developed in windows XP operating system 32bit\n",
      "#calculation of the speed and displacement of the particle\n",
      "#given data\n",
      "import math\n",
      "A=.80*10.**-6.#area(im m**2) of the string\n",
      "rho=12.5*10.**-3.*10.**6.#density(in kg/m**3)\n",
      "nu=20.#transverse frequency(in Hz)\n",
      "F=64.#tension(in N)\n",
      "\n",
      "#calculation\n",
      "mu=A*1.*rho#mass of 1 m of the string = linear mass density\n",
      "v=math.sqrt(F/mu)#wave speed\n",
      "w=2.*math.pi*nu#angular velocity\n",
      "#substituting above values equation becomes.....y = (1.0cm)*cos(125*(t-(x/v))) \n",
      "def f(t,x):\n",
      "\ty=1.*math.cos(2.*math.pi*nu*(t-(x/v)))\n",
      "\treturn y\n",
      "t=0.05#time taken(in s)\n",
      "x=50.*10.**-2. #displacement(in m)\n",
      "yn=f(t,x)\n",
      "def yfv(t,x):\n",
      "\tyfv=1*math.cos(2*math.pi*nu*(t-((50.*10.**-2.)/v)))\n",
      "\treturn yfv\n",
      "\n",
      "vn=88.9;#derivative(ffv,t)\n",
      "\n",
      "print '%s %.2f %s' %('the wave speed is',v,'m/s\\n')\n",
      "print '%s %.2f %s %.2f %s' %('the wave equation is --->>  y = (1.0cm)*cos(',w,'*(t-(x/',v,')))\\n')\n",
      "print '%s %.2f %s' %('the displacement of the particle at x=50 cm at time t=0.05 s is',yn,'cm\\n')\n",
      "print '%s %.2f %s' %('the velocity of the particle at that position is',round(vn),'cm/s\\n')"
     ],
     "language": "python",
     "metadata": {},
     "outputs": [
      {
       "output_type": "stream",
       "stream": "stdout",
       "text": [
        "the wave speed is 80.00 m/s\n",
        "\n",
        "the wave equation is --->>  y = (1.0cm)*cos( 125.66 *(t-(x/ 80.00 )))\n",
        "\n",
        "the displacement of the particle at x=50 cm at time t=0.05 s is 0.71 cm\n",
        "\n",
        "the velocity of the particle at that position is 89.00 cm/s\n",
        "\n"
       ]
      }
     ],
     "prompt_number": 11
    },
    {
     "cell_type": "heading",
     "level": 2,
     "metadata": {},
     "source": [
      "Example E4w : Pg 319"
     ]
    },
    {
     "cell_type": "code",
     "collapsed": false,
     "input": [
      "#example 15.4w\n",
      "#calculation of the extension of the wire over its natural length\n",
      "#given data\n",
      "m=5.*10.**-3.#mass(in kg) of the wire\n",
      "L=50.*10.**-2.#length(in cm) of the wire\n",
      "v=80.#speed(in m/s) of the wave\n",
      "Y=16.*10.**11.#Young modulus(in N/m**2)\n",
      "A=1*10**-6#area(in m**2) of cross section of the wire\n",
      "\n",
      "#calculation\n",
      "mu=m/L#linear mass density\n",
      "F=mu*v**2#tension in the wire\n",
      "deltaL=(F*L)/(A*Y)#extension in the length of wire\n",
      "\n",
      "print '%s %.2f %s' %('the extension of the wire over its natural length is',deltaL*10**3,'mm\\n')"
     ],
     "language": "python",
     "metadata": {},
     "outputs": [
      {
       "output_type": "stream",
       "stream": "stdout",
       "text": [
        "the extension of the wire over its natural length is 0.02 mm\n",
        "\n"
       ]
      }
     ],
     "prompt_number": 12
    },
    {
     "cell_type": "heading",
     "level": 2,
     "metadata": {},
     "source": [
      "Example E5w : Pg 319"
     ]
    },
    {
     "cell_type": "code",
     "collapsed": false,
     "input": [
      "#example 15.5w\n",
      "#calculation of the wavelength of the pulse when it reaches the top of the rope\n",
      "#given data\n",
      "import math\n",
      "lr=12.#length(in m) of the rope\n",
      "mr=6.#mass(in kg) of the rope\n",
      "mb=2.#mass(in kg) of the block\n",
      "lambd=.06#wavelength(in m) of the wave produced at the lower end\n",
      "\n",
      "#calculation\n",
      "#from equation .......v = nu*lambda\n",
      "#putting v = sqrt(F/lambda)....we get\n",
      "#sqrt(F/lambda) = nu*sqrt(mu)....using this equation,we get\n",
      "lambda1=lambd*math.sqrt((mr+mb)/mb)\n",
      "\n",
      "print '%s %.2f %s' %('the wavelength of the pulse when it reaches the top of the rope is',lambda1,'m\\n')"
     ],
     "language": "python",
     "metadata": {},
     "outputs": [
      {
       "output_type": "stream",
       "stream": "stdout",
       "text": [
        "the wavelength of the pulse when it reaches the top of the rope is 0.12 m\n",
        "\n"
       ]
      }
     ],
     "prompt_number": 13
    },
    {
     "cell_type": "heading",
     "level": 2,
     "metadata": {},
     "source": [
      "Example E6w : Pg 320"
     ]
    },
    {
     "cell_type": "code",
     "collapsed": false,
     "input": [
      "#example 15.6w\n",
      "#calculation of the displacement of the particle\n",
      "#given data\n",
      "#given equations are\n",
      "#y1 = (1.0 cm)*sin((3.14 cm-1)*x - (157 s**-1)*t)...........(1)\n",
      "#y2 = (1.5 cm)*sin((1.57 cm-1)*x - (314 s**-1)*t)...........(2)\n",
      "#calculation\n",
      "import math\n",
      "def f1(t,x):\n",
      "\ty1=1.*math.sin((3.14*x)-(157*t))\n",
      "\treturn y1\n",
      "def f2(t,x):\n",
      "\ty2=1.5*math.sin((1.57*x)-(314*t))\n",
      "\treturn y2\n",
      "\n",
      "\n",
      "x=4.5#given value of x(in cm)\n",
      "t=5.*10.**-3.#given value of t(in s)\n",
      "#y = y1 + y2.......net displacement\n",
      "y=f1(t,x)+f2(t,x)\n",
      "\n",
      "print '%s %.2f %s' %('the displacement of the particle at x=4.5 cm and t=5.0 ms is',y,'cm\\n')"
     ],
     "language": "python",
     "metadata": {},
     "outputs": [
      {
       "output_type": "stream",
       "stream": "stdout",
       "text": [
        "the displacement of the particle at x=4.5 cm and t=5.0 ms is -0.36 cm\n",
        "\n"
       ]
      }
     ],
     "prompt_number": 14
    },
    {
     "cell_type": "heading",
     "level": 2,
     "metadata": {},
     "source": [
      "Example E7w : Pg 320"
     ]
    },
    {
     "cell_type": "code",
     "collapsed": false,
     "input": [
      "#example 15.7w\n",
      "#calculation of the maximum displacement,wavelengths and wave speed,velocity,nodes and antinodes,number of loops\n",
      "#given data\n",
      "#given equation is ....y = (5.00 mm)*sin(1.57 cm**-1)*sin((314 s**-1)*t)\n",
      "#calculation\n",
      "#at x=5.66 cm\n",
      "import math \n",
      "A=(5.*10.**-3.)*math.sin(1.57*5.66)#amplitude\n",
      "k=1.57#value of k(in cm**-1)\n",
      "w=314.#angular frequency(in s**-1)\n",
      "lambd=(2.*math.pi)/k#wavelength\n",
      "nu=(w)/(2.*math.pi)#frequency\n",
      "#v = dy/dt = (157 cm/s)*sin(1.57 cm**-1*x)*cos((314 s**-1)*t)\n",
      "def f(t,x) :\n",
      "\tv=157*math.sin(1.57*x)*math.cos((314)*t)\n",
      "\treturn v\n",
      "x=5.66#value of x (in cm)\n",
      "t=2.#value of t (in s)\n",
      "vn=f(t,x)#velocity of the particle\n",
      "\n",
      "#for nodes......sin(1.57 cm**-1)*x = 0..........gives x=2*n\n",
      "#since l=10 cm..nodes occur at 0 cm,2 cm,4 cm,6 cm,8 cm,10 cm\n",
      "#antinodes occur in between at 1 cm,3 cm,5 cm,7 cm,9 cm\n",
      "nloops=10.*(1./2.)\n",
      "\n",
      "print '%s %.2f %s' %('the amplitude is',10**3*A,'mm\\n')\n",
      "print '%s %.2f %s' %('the wavelength is',lambd,'cm\\n')\n",
      "print '%s %.2f %s' %('the velocity is',vn,'cm/s\\n')# Textbook Correction : correct answer is 76.48 cm/s\n",
      "print '%s' %('nodes occur at 0 cm,2 cm,4 cm,6 cm,8 cm,10 cm\\n')\n",
      "print '%s' %('antinodes occur in between at 1 cm,3 cm,5 cm,7 cm,9 cm\\n')\n",
      "print '%s %.2f %s' %('the number of loops is',nloops,'\\n')"
     ],
     "language": "python",
     "metadata": {},
     "outputs": [
      {
       "output_type": "stream",
       "stream": "stdout",
       "text": [
        "the amplitude is 2.56 mm\n",
        "\n",
        "the wavelength is 4.00 cm\n",
        "\n",
        "the velocity is 76.48 cm/s\n",
        "\n",
        "nodes occur at 0 cm,2 cm,4 cm,6 cm,8 cm,10 cm\n",
        "\n",
        "antinodes occur in between at 1 cm,3 cm,5 cm,7 cm,9 cm\n",
        "\n",
        "the number of loops is 5.00 \n",
        "\n"
       ]
      }
     ],
     "prompt_number": 15
    },
    {
     "cell_type": "heading",
     "level": 2,
     "metadata": {},
     "source": [
      "Example E8w : Pg 320"
     ]
    },
    {
     "cell_type": "code",
     "collapsed": false,
     "input": [
      "#example 15.8w\n",
      "#calculation of the pressing in the guitar to produce required fundamental frequency\n",
      "#given data\n",
      "L1=90.#length(in cm) of the guitar string\n",
      "nu1=124.#fundamental frequency(in Hz) for L1\n",
      "nu2=186.#required fundamental frequency(in Hz)\n",
      "\n",
      "#calculation\n",
      "#from equation of fundamental frequency....nu = (1/(2*L))*sqrt(F/mu)\n",
      "L2=L1*(nu1/nu2)\n",
      "\n",
      "print '%s %.2f %s' %('the pressing in the guitar to produce the fundamental frequency of 186 Hz is',L2,'cm\\n')"
     ],
     "language": "python",
     "metadata": {},
     "outputs": [
      {
       "output_type": "stream",
       "stream": "stdout",
       "text": [
        "the pressing in the guitar to produce the fundamental frequency of 186 Hz is 60.00 cm\n",
        "\n"
       ]
      }
     ],
     "prompt_number": 16
    },
    {
     "cell_type": "heading",
     "level": 2,
     "metadata": {},
     "source": [
      "Example E9w : Pg 321"
     ]
    },
    {
     "cell_type": "code",
     "collapsed": false,
     "input": [
      "#example 15.9w\n",
      "#calculation of the position of bridges in sonometer wire\n",
      "#given data\n",
      "#nu1 : nu2 : nu3 = 1 : 2 : 3\n",
      "L=1.#length(in m) of the sonometer wire\n",
      "m1=1.#taking value from ratio\n",
      "m2=2.#taking value from ratio\n",
      "m3=3.#taking value from ratio\n",
      "\n",
      "#calculation\n",
      "#from formula of fundamental frequency.....nu = (1/(2*L))*sqrt(F/mu)\n",
      "L1=L/((1./m1)+(1./m2)+(1./m3))#position of bridge 1 from one end\n",
      "L2=L1/2.\n",
      "L3=L1/3.#position of bridge 2 from the other end\n",
      "\n",
      "print '%s %.2f %s' %('the position of bridge 1 from one end is',L1,'m\\n')\n",
      "print '%s %.2f %s' %('the position of bridge 2 from the other end is',L3,'m\\n')"
     ],
     "language": "python",
     "metadata": {},
     "outputs": [
      {
       "output_type": "stream",
       "stream": "stdout",
       "text": [
        "the position of bridge 1 from one end is 0.55 m\n",
        "\n",
        "the position of bridge 2 from the other end is 0.18 m\n",
        "\n"
       ]
      }
     ],
     "prompt_number": 17
    },
    {
     "cell_type": "heading",
     "level": 2,
     "metadata": {},
     "source": [
      "Example E10w : Pg 321"
     ]
    },
    {
     "cell_type": "code",
     "collapsed": false,
     "input": [
      "#example 15.10w\n",
      "#calculation of the length of the wire\n",
      "#given data\n",
      "import math\n",
      "mu=5.*10.**-3.#mass density(in kg/m) of the wire\n",
      "F=450.#tension(in N) produced in the wire\n",
      "nu1=420.#frequency(in Hz) of nth harmonic\n",
      "nu2=490.#frequency(in Hz) of (n+1)th harmonic\n",
      "\n",
      "#calculation\n",
      "#from formula of fundamental frequency.....nu = (1/(2*L))*sqrt(F/mu)......(1)\n",
      "n=nu1/(nu2-nu1)#value of n\n",
      "L=(n/(2.*nu1))*math.sqrt(F/mu)#erom equation (1)\n",
      "\n",
      "print '%s %.2f %s' %('the length of the wire is',L,'m\\n')"
     ],
     "language": "python",
     "metadata": {},
     "outputs": [
      {
       "output_type": "stream",
       "stream": "stdout",
       "text": [
        "the length of the wire is 2.14 m\n",
        "\n"
       ]
      }
     ],
     "prompt_number": 18
    }
   ],
   "metadata": {}
  }
 ]
}