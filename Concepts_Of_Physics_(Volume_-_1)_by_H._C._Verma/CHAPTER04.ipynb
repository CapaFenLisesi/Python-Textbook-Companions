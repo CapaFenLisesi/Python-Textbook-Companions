{
 "metadata": {
  "name": "",
  "signature": "sha256:3354962b4850caf256aa8774fac9a0421b5b1c9df454f803a8e6a6696fd3b275"
 },
 "nbformat": 3,
 "nbformat_minor": 0,
 "worksheets": [
  {
   "cells": [
    {
     "cell_type": "heading",
     "level": 1,
     "metadata": {},
     "source": [
      "CHAPTER04 : THE FORCES "
     ]
    },
    {
     "cell_type": "heading",
     "level": 2,
     "metadata": {},
     "source": [
      "Example E1 : Pg 59"
     ]
    },
    {
     "cell_type": "code",
     "collapsed": false,
     "input": [
      "# developed in windows XP operating system 32bit\n",
      "# platform Scilab 5.4.1\n",
      "#clc;clear;\n",
      "# example 4.1\n",
      "# calculation of coulomb force\n",
      "\n",
      "# given data\n",
      "np=26.# number of protops in an iron atom\n",
      "na=6.*10.**26.# number of atome in 58 kg iron\n",
      "mi=58.# mass(in kg) of iron\n",
      "e=1.6*10.**(-19.)# charge(in coulomb) on an electron\n",
      "perdiff=1.# percentage of charge of electron less than that of proton\n",
      "r=1.# separation(in m) between the two blocks\n",
      "\n",
      "# calculation\n",
      "poschrg=(na*np*e*perdiff)/(mi*100.)\n",
      "fc=(9.*10.**9.*poschrg*poschrg)/(r*r)\n",
      "\n",
      "print'the coulomb force(in newton) between the two blocks is newton',fc"
     ],
     "language": "python",
     "metadata": {},
     "outputs": [
      {
       "output_type": "stream",
       "stream": "stdout",
       "text": [
        "the coulomb force(in newton) between the two blocks is newton 1.66677003567e+21\n"
       ]
      }
     ],
     "prompt_number": 1
    },
    {
     "cell_type": "heading",
     "level": 1,
     "metadata": {},
     "source": [
      "WORKED EXAMPLES"
     ]
    },
    {
     "cell_type": "heading",
     "level": 2,
     "metadata": {},
     "source": [
      "Example E3w : Pg 61"
     ]
    },
    {
     "cell_type": "code",
     "collapsed": false,
     "input": [
      "# developed in windows XP operating system 32bit\n",
      "# platform Scilab 5.4.1\n",
      "#clc;clear;\n",
      "# example 4.3w\n",
      "# calculation of ratio of the electrical force to the gravitational force between two electrons\n",
      "\n",
      "# given data\n",
      "me=9.1*10.**-31.# mass(in kg)of an electron\n",
      "e=1.6*10.**-19.# charge(in coulomb)of an electron\n",
      "k=9.*10.**9.# value of ratio 1/(4*%pi*epsilonzero)   (in N m**2/C**2)\n",
      "G=6.67*10.**-11.# value of universal gravitational constant   (in N m**2/kg**2)\n",
      "\n",
      "# calculation\n",
      "ratio=(k*e*e)/(G*me*me)# ratio = electric force / gravitational force\n",
      "\n",
      "print'the ratio of electric to gravitational force between two electrons is',ratio"
     ],
     "language": "python",
     "metadata": {},
     "outputs": [
      {
       "output_type": "stream",
       "stream": "stdout",
       "text": [
        "the ratio of electric to gravitational force between two electrons is 4.1713233469e+42\n"
       ]
      }
     ],
     "prompt_number": 2
    }
   ],
   "metadata": {}
  }
 ]
}