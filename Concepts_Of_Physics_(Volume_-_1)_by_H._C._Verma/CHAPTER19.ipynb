{
 "metadata": {
  "name": "",
  "signature": "sha256:ba237800ffecb49b97c268164a24c7d44947f4125982e3200817c1784b657b7d"
 },
 "nbformat": 3,
 "nbformat_minor": 0,
 "worksheets": [
  {
   "cells": [
    {
     "cell_type": "heading",
     "level": 1,
     "metadata": {},
     "source": [
      "CHAPTER19 : OPTICAL INSTRUMENTS "
     ]
    },
    {
     "cell_type": "heading",
     "level": 2,
     "metadata": {},
     "source": [
      "Example E1 : Pg 420"
     ]
    },
    {
     "cell_type": "code",
     "collapsed": false,
     "input": [
      "# developed in windows XP operating system 32bit\n",
      "# platform Scilab 5.4.1\n",
      "#clc;clear;\n",
      "# example 19.1\n",
      "# determining which boy appears taller \n",
      "\n",
      "# given data\n",
      "d1=4.# distance(in m) of boy1 from the eye\n",
      "d2=5.# distance(in m) of boy2 from the eye\n",
      "h1=52.# height(in inch) of boy1\n",
      "h2=55.# height(in inch) of boy2\n",
      "\n",
      "# calculation\n",
      "alpha1=h1/d1# angle subtended by the first boy on the eye\n",
      "alpha2=h2/d2# angle subtended by the second boy on the eye\n",
      "if(alpha1>alpha2) :\n",
      "    print'the first boy will look taller to the eye'\n",
      "if(alpha1<alpha2) :\n",
      "    print'the second boy will look taller to the eye'\n",
      "else :\n",
      "    print'Both boys will appear same in height to the eye'"
     ],
     "language": "python",
     "metadata": {},
     "outputs": [
      {
       "output_type": "stream",
       "stream": "stdout",
       "text": [
        "the first boy will look taller to the eye\n",
        "Both boys will appear same in height to the eye\n"
       ]
      }
     ],
     "prompt_number": 1
    },
    {
     "cell_type": "heading",
     "level": 2,
     "metadata": {},
     "source": [
      "Example E2 : Pg 422"
     ]
    },
    {
     "cell_type": "code",
     "collapsed": false,
     "input": [
      "# developed in windows XP operating system 32bit\n",
      "# platform Scilab 5.4.1\n",
      "#clc;clear;\n",
      "# example 19.2\n",
      "# calculation of the angular magnification and the length of the microscope tube\n",
      "\n",
      "# given data\n",
      "fo=1.*10.**-2.# focal length(in m) of the objective lens\n",
      "fe=2.5*10.**-2.# focal length(in m) of the eyepiece\n",
      "u=-1.2*10.**-2.# object distance(in m)\n",
      "D=25.*10.**-2.# least distance(in m) for the clear vision\n",
      "\n",
      "# calculation\n",
      "v=1./((1./fo)+(1./u))# distance where the first image is formed ....by the lens formula\n",
      "m=(v*D)/(u*fe)# angular magnification\n",
      "L=v+fe# length of the tube\n",
      "\n",
      "print'the angular magnification is ',round(m)\n",
      "print'\\nthe length of the microscope tube is cm',L*10**2"
     ],
     "language": "python",
     "metadata": {},
     "outputs": [
      {
       "output_type": "stream",
       "stream": "stdout",
       "text": [
        "the angular magnification is  -50.0\n",
        "\n",
        "the length of the microscope tube is cm 8.5\n"
       ]
      }
     ],
     "prompt_number": 2
    },
    {
     "cell_type": "heading",
     "level": 2,
     "metadata": {},
     "source": [
      "Example E3 : Pg 426"
     ]
    },
    {
     "cell_type": "code",
     "collapsed": false,
     "input": [
      "# developed in windows XP operating system 32bit\n",
      "# platform Scilab 5.4.1\n",
      "#clc;clear;\n",
      "# example 19.3\n",
      "# calculation of the power of lens for the spectacles\n",
      "\n",
      "# given data\n",
      "d=1.5# distance(in m) upto which the man can clearly see objects \n",
      "\n",
      "# calculation\n",
      "f=-d# focal length of the lens\n",
      "P=1./f# definition of power of the lens\n",
      "\n",
      "print'the power of lens for the spectacles is D',P"
     ],
     "language": "python",
     "metadata": {},
     "outputs": [
      {
       "output_type": "stream",
       "stream": "stdout",
       "text": [
        "the power of lens for the spectacles is D -0.666666666667\n"
       ]
      }
     ],
     "prompt_number": 3
    },
    {
     "cell_type": "heading",
     "level": 1,
     "metadata": {},
     "source": [
      "WORKED EXAMPLES "
     ]
    },
    {
     "cell_type": "heading",
     "level": 2,
     "metadata": {},
     "source": [
      "Example E1w : Pg 427"
     ]
    },
    {
     "cell_type": "code",
     "collapsed": false,
     "input": [
      "# developed in windows XP operating system 32bit\n",
      "# platform Scilab 5.4.1\n",
      "#clc;clear;\n",
      "# example 19.1w\n",
      "# calculation of the angular magnification \n",
      "\n",
      "# given data\n",
      "f=12.*10.**-2.# focal length(in m) of the simple microscope\n",
      "D=25.*10.**-2.# distance(in m) at which the image is formed away from the eye\n",
      "\n",
      "# calculation\n",
      "m=1.+(D/f)# angular magnification\n",
      "\n",
      "print'the angular magnification is %3.2f',m"
     ],
     "language": "python",
     "metadata": {},
     "outputs": [
      {
       "output_type": "stream",
       "stream": "stdout",
       "text": [
        "the angular magnification is %3.2f 3.08333333333\n"
       ]
      }
     ],
     "prompt_number": 4
    },
    {
     "cell_type": "heading",
     "level": 2,
     "metadata": {},
     "source": [
      "Example E2w : Pg 427"
     ]
    },
    {
     "cell_type": "code",
     "collapsed": false,
     "input": [
      "# developed in windows XP operating system 32bit\n",
      "# platform Scilab 5.4.1\n",
      "#clc;clear;\n",
      "# example 19.2w\n",
      "# calculation of the object distance to obtain maximum angular magnification for a normal eye\n",
      "\n",
      "# given data\n",
      "D=10.# power(in D) of the lens\n",
      "v=-25.*10.**-2.# image distance(in m) i.e at the near point\n",
      "\n",
      "# calculation\n",
      "f=1./D# focal length\n",
      "u=1./((1./v)-(1./f))# lens formula\n",
      "\n",
      "print'the object distance to obtain maximum angular magnification for a normal eye is cm',u*10**2"
     ],
     "language": "python",
     "metadata": {},
     "outputs": [
      {
       "output_type": "stream",
       "stream": "stdout",
       "text": [
        "the object distance to obtain maximum angular magnification for a normal eye is cm -7.14285714286\n"
       ]
      }
     ],
     "prompt_number": 5
    },
    {
     "cell_type": "heading",
     "level": 2,
     "metadata": {},
     "source": [
      "Example E3w : Pg 428"
     ]
    },
    {
     "cell_type": "code",
     "collapsed": false,
     "input": [
      "# developed in windows XP operating system 32bit\n",
      "# platform Scilab 5.4.1\n",
      "#clc;clear;\n",
      "# example 19.3w\n",
      "# calculation of the position of the image ,linear magnification and the angular magnification\n",
      "\n",
      "# given data\n",
      "u=-3.6*10.**-2.# object distance(in m) \n",
      "f=4.*10.**-2.# focal length(in m)\n",
      "D=25.*10.**-2.# least distance for clear vision\n",
      "\n",
      "# calculation\n",
      "v=1./((1./f)+(1./u))# lens formula\n",
      "m=v/u# linear magnification\n",
      "alpha=D/abs(u)# angular magnification\n",
      "\n",
      "print'the image distance is cm',v*10**2\n",
      "print'the linear magnification is',m\n",
      "print'the angular magnification is',round(alpha)"
     ],
     "language": "python",
     "metadata": {},
     "outputs": [
      {
       "output_type": "stream",
       "stream": "stdout",
       "text": [
        "the image distance is cm -36.0\n",
        "the linear magnification is 10.0\n",
        "the angular magnification is 7.0\n"
       ]
      }
     ],
     "prompt_number": 6
    },
    {
     "cell_type": "heading",
     "level": 2,
     "metadata": {},
     "source": [
      "Example E4w : Pg 428"
     ]
    },
    {
     "cell_type": "code",
     "collapsed": false,
     "input": [
      "# developed in windows XP operating system 32bit\n",
      "# platform Scilab 5.4.1\n",
      "#clc;clear;\n",
      "# example 19.4w\n",
      "# calculation of the object distance and the angular magnification\n",
      "\n",
      "# given data\n",
      "fo=1.*10.**-2.# focal length(in m) of the objective lens\n",
      "fe=5.*10.**-2.# focal length(in m) of the eyepiece\n",
      "d=12.2*10.**-2.# separation(in m) between the objective lens and the eyepiece\n",
      "D=25.*10.**-2.# least distance(in m) for the clear visio\n",
      "\n",
      "# calculation\n",
      "ve=-D# image distance for the eyepiece\n",
      "ue=1./((1./ve)-(1./fe))# object distance for eyepiece....by the lens formula\n",
      "vo=d-abs(ue)# image distance for objective lens\n",
      "uo=1./((1./vo)-(1./fo))# object distance for objective lens....by the lens formula\n",
      "m=(vo/uo)*(1.+(D/fe))# angular magnification\n",
      "\n",
      "print'the object should be placed at a distance of cm from the objective lens to focus it properly',abs(uo*10**2)\n",
      "print'the angular magnification is ',m"
     ],
     "language": "python",
     "metadata": {},
     "outputs": [
      {
       "output_type": "stream",
       "stream": "stdout",
       "text": [
        "the object should be placed at a distance of cm from the objective lens to focus it properly 1.14218009479\n",
        "the angular magnification is  -42.2\n"
       ]
      }
     ],
     "prompt_number": 7
    },
    {
     "cell_type": "heading",
     "level": 2,
     "metadata": {},
     "source": [
      "Example E5w :Pg 428"
     ]
    },
    {
     "cell_type": "code",
     "collapsed": false,
     "input": [
      "# developed in windows XP operating system 32bit\n",
      "# platform Scilab 5.4.1\n",
      "#clc;clear;\n",
      "# example 19.5w\n",
      "# calculation of the object distance and the angular magnification for the least strain in the eyes\n",
      "\n",
      "# given data\n",
      "fo=.5*10.**-2.# focal length(in m) of the objective lens\n",
      "fe=5*10.**-2.# focal length(in m) of the eyepiece\n",
      "d=7*10.**-2.# separation(in m) between the objective lens and the eyepiece\n",
      "D=25*10.**-2.# least distance(in m) for the clear vision\n",
      "\n",
      "# calculation\n",
      "v=d-fe# distance at which the first image should be formed\n",
      "u=1./((1./v)-(1./fo))# lens formula for the objective lens\n",
      "m=(v*D)/(u*fe)# angular magnification\n",
      "\n",
      "print'the object distance for the least strain in the eyes is cm',abs(u*10**2)\n",
      "print'the angular magnification for the least strain in the eyes is',m"
     ],
     "language": "python",
     "metadata": {},
     "outputs": [
      {
       "output_type": "stream",
       "stream": "stdout",
       "text": [
        "the object distance for the least strain in the eyes is cm 0.666666666667\n",
        "the angular magnification for the least strain in the eyes is -15.0\n"
       ]
      }
     ],
     "prompt_number": 8
    },
    {
     "cell_type": "heading",
     "level": 2,
     "metadata": {},
     "source": [
      "Example E6w : Pg 429 "
     ]
    },
    {
     "cell_type": "code",
     "collapsed": false,
     "input": [
      "# developed in windows XP operating system 32bit\n",
      "# platform Scilab 5.4.1\n",
      "#clc;clear;\n",
      "# example 19.6w\n",
      "# calculation of the length of the tube and the angular magnification produced by the telescope\n",
      "\n",
      "# given data\n",
      "fo=200.*10.**-2.# focal length(in m) of the objective lens\n",
      "fe=4.*10.**-2.# focal length(in m) of the eyepiece\n",
      "u=10.*10.**3.# object distance(in m)\n",
      "\n",
      "# calculation\n",
      "L=fo+fe# length of the tube\n",
      "m=-fo/fe# angular magnification\n",
      "\n",
      "print'the length of the tube is cm',L*10**2\n",
      "print'the angular magnification is',m"
     ],
     "language": "python",
     "metadata": {},
     "outputs": [
      {
       "output_type": "stream",
       "stream": "stdout",
       "text": [
        "the length of the tube is cm 204.0\n",
        "the angular magnification is -50.0\n"
       ]
      }
     ],
     "prompt_number": 9
    },
    {
     "cell_type": "heading",
     "level": 2,
     "metadata": {},
     "source": [
      "Example E7w : Pg 429 "
     ]
    },
    {
     "cell_type": "code",
     "collapsed": false,
     "input": [
      "# developed in windows XP operating system 32bit\n",
      "# platform Scilab 5.4.1\n",
      "#clc;clear;\n",
      "# example 19.7w\n",
      "# calculation of the tube length,magnifying power and angular magnification\n",
      "\n",
      "# given data\n",
      "fo=50.*10.**-2.# focal length(in m) of the objective lens\n",
      "fe=-5.*10.**-2.# focal length(in m) of the eyepiece\n",
      "u=-2.# object distance(in m)\n",
      "\n",
      "# calculation\n",
      "L=fo-abs(fe)# length of the tube\n",
      "m=-fo/fe# magnifying power\n",
      "v=1./((1./fo)+(1./u))# by lens formula for the objective lens\n",
      "Ldash=v-abs(fe)# tube length\n",
      "mdash=v/abs(fe)# angular magnification\n",
      "\n",
      "print'the tube length for large distance viewing is cm',L*10**2\n",
      "print'the magnifying power for the large distance viewing is',m\n",
      "print'the tube length for viewing object at 2 m is cm',Ldash*10**2\n",
      "print'the angular magnification for viewing object at 2 m is',mdash"
     ],
     "language": "python",
     "metadata": {},
     "outputs": [
      {
       "output_type": "stream",
       "stream": "stdout",
       "text": [
        "the tube length for large distance viewing is cm 45.0\n",
        "the magnifying power for the large distance viewing is 10.0\n",
        "the tube length for viewing object at 2 m is cm 61.6666666667\n",
        "the angular magnification for viewing object at 2 m is 13.3333333333\n"
       ]
      }
     ],
     "prompt_number": 10
    },
    {
     "cell_type": "heading",
     "level": 2,
     "metadata": {},
     "source": [
      "Example E8w : Pg 429 "
     ]
    },
    {
     "cell_type": "code",
     "collapsed": false,
     "input": [
      "# developed in windows XP operating system 32bit\n",
      "# platform Scilab 5.4.1\n",
      "#clc;clear;\n",
      "# example 19.8w\n",
      "# calculation of the angular magnification due to the converging lens\n",
      "\n",
      "# given data\n",
      "f=50.*10.**-2.# focal length(in m) of the converging lens\n",
      "d=25.*10.**-2.# distance(in m) from where the image can be seen by unaided eye\n",
      "\n",
      "# calculation\n",
      "# linear size = f*alpha\n",
      "# angle formed .....abs(beta) = f*abs(alpha)/d\n",
      "m=-f/d# angular magnification...m = -abs(beta)/abs(alpha)\n",
      "\n",
      "print'the angular magnification due to the converging lens is',m"
     ],
     "language": "python",
     "metadata": {},
     "outputs": [
      {
       "output_type": "stream",
       "stream": "stdout",
       "text": [
        "the angular magnification due to the converging lens is -2.0\n"
       ]
      }
     ],
     "prompt_number": 11
    },
    {
     "cell_type": "heading",
     "level": 2,
     "metadata": {},
     "source": [
      "Example E9w : Pg 429"
     ]
    },
    {
     "cell_type": "code",
     "collapsed": false,
     "input": [
      "# developed in windows XP operating system 32bit\n",
      "# platform Scilab 5.4.1\n",
      "#clc;clear;\n",
      "# example 19.9w\n",
      "# calculation of the power of lens and maximum distance that can be seen clearly\n",
      "\n",
      "# given data\n",
      "u=-25.*10.**-2.# object distance(in m)\n",
      "v=-40.*10.**-2.# image distance(in m)....i.e equal to near point distance\n",
      "vdash=-250.*10.**-2.# maximum distance(in m) that an unaided eye can see....i.e equal to far point distance\n",
      "\n",
      "# calculation\n",
      "f=1./((1./v)-(1./u))# focal length ....by using the lens formula\n",
      "P=1./f# power of the lens\n",
      "d=1./((1./vdash)-(1./f))# maximum distance for clear vision.... by using the lens formula\n",
      "\n",
      "print'the power of the lens is D',P\n",
      "print'the maximum distance upto which,the person will be able to see clearly is %d cm',round(abs(d*10**2))"
     ],
     "language": "python",
     "metadata": {},
     "outputs": [
      {
       "output_type": "stream",
       "stream": "stdout",
       "text": [
        "the power of the lens is D 1.5\n",
        "the maximum distance upto which,the person will be able to see clearly is %d cm 53.0\n"
       ]
      }
     ],
     "prompt_number": 12
    },
    {
     "cell_type": "heading",
     "level": 2,
     "metadata": {},
     "source": [
      "Example E10w : Pg 430 "
     ]
    },
    {
     "cell_type": "code",
     "collapsed": false,
     "input": [
      "# developed in windows XP operating system 32bit\n",
      "# platform Scilab 5.4.1\n",
      "#clc;clear;\n",
      "# example 19.10w\n",
      "# calculation of the near point and the distance of the retina from the lens \n",
      "\n",
      "# given data\n",
      "P1=50.# power1(in D) of the lens\n",
      "P2=60.# power2(in D) of the lens\n",
      "\n",
      "# calculation\n",
      "# for the eye in fully relaxed condition,the focal length is the largest.\n",
      "# larger the focal length,smaller is the power of lens\n",
      "if(P1<P2) :\n",
      "    P=P1\n",
      "else :\n",
      "    P=P2\n",
      "f=1./P# distance of the retina from lens ,equal to the focal length\n",
      "# for eye focused at near point the power is maximum\n",
      "if(P1>P2) :\n",
      "    Pdash=P1\n",
      "else :\n",
      "    Pdash=P2\n",
      "fdash=1./Pdash# focal length\n",
      "v=abs(f)# image is formed at the retina\n",
      "u=1./((1./v)-(1./fdash))# near point......using the lens formula\n",
      "\n",
      "print'the distance of the retina from the lens is cm',f*10**2\n",
      "print'the near point is at cm',abs(u*10**2)"
     ],
     "language": "python",
     "metadata": {},
     "outputs": [
      {
       "output_type": "stream",
       "stream": "stdout",
       "text": [
        "the distance of the retina from the lens is cm 2.0\n",
        "the near point is at cm 10.0\n"
       ]
      }
     ],
     "prompt_number": 13
    }
   ],
   "metadata": {}
  }
 ]
}