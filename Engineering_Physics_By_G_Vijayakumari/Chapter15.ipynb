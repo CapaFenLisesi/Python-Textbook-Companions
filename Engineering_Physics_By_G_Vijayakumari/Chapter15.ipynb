{
 "cells": [
  {
   "cell_type": "markdown",
   "metadata": {},
   "source": [
    "#15: Non Destructive Testing"
   ]
  },
  {
   "cell_type": "markdown",
   "metadata": {},
   "source": [
    "##Example number 15.1, Page number 412"
   ]
  },
  {
   "cell_type": "code",
   "execution_count": 3,
   "metadata": {
    "collapsed": false
   },
   "outputs": [
    {
     "name": "stdout",
     "output_type": "stream",
     "text": [
      "The frequency to which a piezo electric oscillator circuit should be turned is 2.7451 *10**6 Hz\n"
     ]
    }
   ],
   "source": [
    "#importing modules\n",
    "import math\n",
    "from __future__ import division\n",
    "\n",
    "#Variable declaration\n",
    "t=0.1*10**-2;   #thickness of piezo electric crystal(m)\n",
    "E=80*10**9;     #Young's modulus of crystal(pa)\n",
    "d=2654;     #density of material of crystal(Kgm^-3)\n",
    "\n",
    "#Calculation\n",
    "f=1/(2*t)*math.sqrt(E/d);     #The frequency to which a piezo electric oscillator circuit should be turned(Hz)\n",
    "\n",
    "#Result\n",
    "print \"The frequency to which a piezo electric oscillator circuit should be turned is\",round(f/10**6,4),\"*10**6 Hz\""
   ]
  }
 ],
 "metadata": {
  "kernelspec": {
   "display_name": "Python 2",
   "language": "python",
   "name": "python2"
  },
  "language_info": {
   "codemirror_mode": {
    "name": "ipython",
    "version": 2
   },
   "file_extension": ".py",
   "mimetype": "text/x-python",
   "name": "python",
   "nbconvert_exporter": "python",
   "pygments_lexer": "ipython2",
   "version": "2.7.9"
  }
 },
 "nbformat": 4,
 "nbformat_minor": 0
}
