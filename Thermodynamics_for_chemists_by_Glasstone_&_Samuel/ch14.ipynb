{
 "cells": [
  {
   "cell_type": "markdown",
   "metadata": {},
   "source": [
    "# Chapter 14 : The Properties of Solution"
   ]
  },
  {
   "cell_type": "markdown",
   "metadata": {},
   "source": [
    "## Example 14.1 Page No : 322"
   ]
  },
  {
   "cell_type": "code",
   "execution_count": 2,
   "metadata": {
    "collapsed": false
   },
   "outputs": [
    {
     "name": "stdout",
     "output_type": "stream",
     "text": [
      "partial pressure of benzene  = 64 mm\n",
      " partial pressure of toulene  = 16.8 mm\n",
      " weight proportions  = 3.22 \n"
     ]
    }
   ],
   "source": [
    "\n",
    "# Variables\n",
    "import math \n",
    "M2 = 92. \t\t\t#gms\n",
    "M1 = 78. \t\t\t#gms\n",
    "pb = 118.2 \t\t\t#mm\n",
    "pt = 36.7 \t\t\t#mm\n",
    "\n",
    "# Calculations\n",
    "n1 = M2/(M1+M2)\n",
    "n2 = 1-n1\n",
    "p1 = n1*pb\n",
    "p2 = n2*pt\n",
    "w = p1*M1/(p2*M2)\n",
    "\n",
    "# Results\n",
    "print  'partial pressure of benzene  = %.f mm'%(p1)\n",
    "print  ' partial pressure of toulene  = %.1f mm'%(p2)\n",
    "print  ' weight proportions  = %.2f '%(w)\n"
   ]
  },
  {
   "cell_type": "markdown",
   "metadata": {},
   "source": [
    "## Example 14.2 Page No : 325"
   ]
  },
  {
   "cell_type": "code",
   "execution_count": 3,
   "metadata": {
    "collapsed": false
   },
   "outputs": [
    {
     "name": "stdout",
     "output_type": "stream",
     "text": [
      "Ideal solubility of ethane  = 0.024 mole fraction\n"
     ]
    }
   ],
   "source": [
    "\n",
    "# Variables\n",
    "vpe = 42 \t\t\t#atm\n",
    "p2 = 1. \t\t\t#atm\n",
    "\n",
    "# Calculations\n",
    "N2 = p2/vpe\n",
    "\n",
    "# Results\n",
    "print  'Ideal solubility of ethane  = %.3f mole fraction'%(N2)\n"
   ]
  },
  {
   "cell_type": "markdown",
   "metadata": {},
   "source": [
    "## Example 14.3 Page No : 325"
   ]
  },
  {
   "cell_type": "code",
   "execution_count": 4,
   "metadata": {
    "collapsed": false
   },
   "outputs": [
    {
     "name": "stdout",
     "output_type": "stream",
     "text": [
      "Heat of reaction  = 2039 cal mole**-1\n",
      " pressure  = 309 atm\n",
      " Solubility of methane  = 0.00323 \n"
     ]
    }
   ],
   "source": [
    "\n",
    "# Variables\n",
    "import math \n",
    "p1 = 25.7 \t\t\t#atm\n",
    "p2 = 11.84 \t\t\t#atm\n",
    "T1 = 173. \t\t\t#K\n",
    "T2 = 153. \t\t\t#K\n",
    "T3 = 25. \t\t\t#C\n",
    "\n",
    "# Calculations\n",
    "dH = math.log10(p1/p2)*4.579*T1*T2/(T1-T2)\n",
    "p =  p1*10**((dH/4.576)*(273+T3-T1)/((273+T3)*T1))\n",
    "s = 1./p\n",
    "\n",
    "# Results\n",
    "print  'Heat of reaction  = %d cal mole**-1'%(dH)\n",
    "print  ' pressure  = %d atm'%(p)\n",
    "print  ' Solubility of methane  = %.5f '%(s)\n",
    "\n",
    "# note : rounding error is there. please check. "
   ]
  },
  {
   "cell_type": "markdown",
   "metadata": {},
   "source": [
    "## Example 14.4 Page No : 329"
   ]
  },
  {
   "cell_type": "code",
   "execution_count": 5,
   "metadata": {
    "collapsed": false
   },
   "outputs": [
    {
     "name": "stdout",
     "output_type": "stream",
     "text": [
      "ideal solubility of napthalene  = 0.266 \n"
     ]
    }
   ],
   "source": [
    "\n",
    "# Variables\n",
    "T1 = 20. \t\t\t#C\n",
    "T2 = 80. \t\t\t#C\n",
    "H1 = 4540. \t\t\t#cal mole**-1\n",
    "\n",
    "# Calculations\n",
    "n = 10**(H1*(-T2+T1)/(4.576*(273+T1)*(273+T2)))\n",
    "\n",
    "# Results\n",
    "print  'ideal solubility of napthalene  = %.3f '%(n)\n"
   ]
  },
  {
   "cell_type": "markdown",
   "metadata": {},
   "source": [
    "## Example 14.5 Page No : 342"
   ]
  },
  {
   "cell_type": "code",
   "execution_count": 6,
   "metadata": {
    "collapsed": false
   },
   "outputs": [
    {
     "name": "stdout",
     "output_type": "stream",
     "text": [
      "molal depression consmath.tant  = 5.11 \n",
      " molality  = 0.0247 \n",
      " molecular weight of solute  = 245 gms\n"
     ]
    }
   ],
   "source": [
    "\n",
    "# Variables\n",
    "R = 1.987 \t\t\t#cal mole**-1 K**-1\n",
    "T = 278.6 \t\t\t#K\n",
    "dH = 30.2 \t\t\t#cal g**-1\n",
    "m = 6.054 \t\t\t#gms\n",
    "a = 0.1263 \t\t\t#degrees\n",
    "\n",
    "# Calculations\n",
    "l = R*T**2/(1000*dH)\n",
    "m1 = a/l\n",
    "M2 = m/m1\n",
    "\n",
    "# Results\n",
    "print  'molal depression consmath.tant  = %.2f '%(l)\n",
    "print  ' molality  = %.4f '%(m1)\n",
    "print  ' molecular weight of solute  = %.f gms'%(M2)\n"
   ]
  }
 ],
 "metadata": {
  "kernelspec": {
   "display_name": "Python 2",
   "language": "python",
   "name": "python2"
  },
  "language_info": {
   "codemirror_mode": {
    "name": "ipython",
    "version": 2
   },
   "file_extension": ".py",
   "mimetype": "text/x-python",
   "name": "python",
   "nbconvert_exporter": "python",
   "pygments_lexer": "ipython2",
   "version": "2.7.6"
  }
 },
 "nbformat": 4,
 "nbformat_minor": 0
}
