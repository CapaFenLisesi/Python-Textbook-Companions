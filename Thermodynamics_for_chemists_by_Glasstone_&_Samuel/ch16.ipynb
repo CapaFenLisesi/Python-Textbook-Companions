{
 "cells": [
  {
   "cell_type": "markdown",
   "metadata": {},
   "source": [
    "# Chapter 16 : Solutions of Electrolytes"
   ]
  },
  {
   "cell_type": "markdown",
   "metadata": {},
   "source": [
    "## Example 16.1 Page No : 380"
   ]
  },
  {
   "cell_type": "code",
   "execution_count": 1,
   "metadata": {
    "collapsed": false
   },
   "outputs": [
    {
     "name": "stdout",
     "output_type": "stream",
     "text": [
      "mean ionic molality  = 0.5 \n",
      " mean ionic molality  = 0.794 \n"
     ]
    }
   ],
   "source": [
    "\n",
    "# Variables\n",
    "v = 1.\n",
    "m = 0.5\n",
    "\n",
    "# Calculations\n",
    "m1  = 2*m\n",
    "m2  = 1*m\n",
    "v1  = 2*v\n",
    "v2  = 1*v\n",
    "M  = (m1**2*m2)**(1/(v1+v2))\n",
    "\n",
    "# Results\n",
    "print  'mean ionic molality  = %.1f '%(m2)\n",
    "print  ' mean ionic molality  = %.3f '%(M)\n"
   ]
  },
  {
   "cell_type": "markdown",
   "metadata": {},
   "source": [
    "## Example 16.2 Page No : 399"
   ]
  },
  {
   "cell_type": "code",
   "execution_count": 1,
   "metadata": {
    "collapsed": false
   },
   "outputs": [
    {
     "name": "stdout",
     "output_type": "stream",
     "text": [
      "mean ionic molality  = 0.831 \n"
     ]
    }
   ],
   "source": [
    "\n",
    "# Variables\n",
    "n = 2\n",
    "m = 0.01422\n",
    "m1 = 0.00869\n",
    "m2 = 0.025\n",
    "\n",
    "# Calculations\n",
    "M  = m2+m1\n",
    "M1 = (M*m1)**(1./n)\n",
    "r = m/M1\n",
    "\n",
    "# Results\n",
    "print  'mean ionic molality  = %.3f '%(r)\n"
   ]
  },
  {
   "cell_type": "markdown",
   "metadata": {},
   "source": [
    "## Example 16.3 Page No : 400"
   ]
  },
  {
   "cell_type": "code",
   "execution_count": 3,
   "metadata": {
    "collapsed": false
   },
   "outputs": [
    {
     "name": "stdout",
     "output_type": "stream",
     "text": [
      "ionic strength of solution  = 1 *m\n",
      " ionic strength of solution  = 3 *m\n",
      " ionic strength of solution  = 4 *m\n"
     ]
    }
   ],
   "source": [
    "\n",
    "# Variables\n",
    "mu = 1\n",
    "mb = 2\n",
    "m = 1 \n",
    "m1 = 2\n",
    "\n",
    "# Calculations\n",
    "ym1 = 0.5*(mu*m**2+mu*m**2)\n",
    "ym2 = 0.5*(mb*m**2+m*m1**2)\n",
    "ym3 = 0.5*(mu*m1**2+mu*m1**2)\n",
    "\n",
    "# Results\n",
    "print  'ionic strength of solution  = %.f *m'%(ym1)\n",
    "print  ' ionic strength of solution  = %.f *m'%(ym2)\n",
    "print  ' ionic strength of solution  = %.f *m'%(ym3)\n"
   ]
  }
 ],
 "metadata": {
  "kernelspec": {
   "display_name": "Python 2",
   "language": "python",
   "name": "python2"
  },
  "language_info": {
   "codemirror_mode": {
    "name": "ipython",
    "version": 2
   },
   "file_extension": ".py",
   "mimetype": "text/x-python",
   "name": "python",
   "nbconvert_exporter": "python",
   "pygments_lexer": "ipython2",
   "version": "2.7.6"
  }
 },
 "nbformat": 4,
 "nbformat_minor": 0
}
