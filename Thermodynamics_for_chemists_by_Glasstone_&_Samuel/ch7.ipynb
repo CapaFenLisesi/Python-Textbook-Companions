{
 "cells": [
  {
   "cell_type": "markdown",
   "metadata": {},
   "source": [
    "# Chapter 7 : The second law of thermodynamics"
   ]
  },
  {
   "cell_type": "markdown",
   "metadata": {},
   "source": [
    "## Example 7.1 Page No : 137"
   ]
  },
  {
   "cell_type": "code",
   "execution_count": 1,
   "metadata": {
    "collapsed": false
   },
   "outputs": [
    {
     "name": "stdout",
     "output_type": "stream",
     "text": [
      "Efficiency  = 0.174 \n",
      " Efficiency  = 0.428 \n"
     ]
    }
   ],
   "source": [
    "\n",
    "# Variables\n",
    "T1 = 308 \t\t\t#K\n",
    "T2 = 373. \t\t\t#K\n",
    "T3 = 538. \t\t\t#K\n",
    "\n",
    "# Calculations\n",
    "e1 = (T2-T1)/T2\n",
    "e2 = (T3-T1)/T3\n",
    "\n",
    "# Results\n",
    "print  'Efficiency  = %.3f '%(e1)\n",
    "print  ' Efficiency  = %.3f '%(e2)\n"
   ]
  },
  {
   "cell_type": "markdown",
   "metadata": {},
   "source": [
    "## Example 7.2 Page No : 139"
   ]
  },
  {
   "cell_type": "code",
   "execution_count": 2,
   "metadata": {
    "collapsed": false
   },
   "outputs": [
    {
     "name": "stdout",
     "output_type": "stream",
     "text": [
      "Work required  = 7.3 cal\n",
      " Work required  = 3.05e+08 ergs\n"
     ]
    }
   ],
   "source": [
    "\n",
    "# Variables\n",
    "T = 25  \t\t\t#C\n",
    "T1 = 0. \t\t\t#C\n",
    "h = 79.8 \t\t\t#cal g**-1\n",
    "j = 4.18*10**7 \t\t\t#ergs\n",
    "\n",
    "# Calculations\n",
    "Wc = (T-T1)*h/(273+T1)\n",
    "W = (T-T1)*h*j/(273+T1)\n",
    "\n",
    "# Results\n",
    "print  'Work required  = %.1f cal'%(Wc)\n",
    "print  ' Work required  = %.2e ergs'%(W)\n"
   ]
  },
  {
   "cell_type": "markdown",
   "metadata": {},
   "source": [
    "## Example 7.3 Page No : 151"
   ]
  },
  {
   "cell_type": "code",
   "execution_count": 3,
   "metadata": {
    "collapsed": false
   },
   "outputs": [
    {
     "name": "stdout",
     "output_type": "stream",
     "text": [
      "Entropy  = 4.38 cal deg**-1 mole**-1\n"
     ]
    }
   ],
   "source": [
    "\n",
    "# Variables\n",
    "import math \n",
    "R = 1.98 \t\t\t#cal\t\t\t#mol K\n",
    "x = 0.75\n",
    "n = 9\n",
    "\n",
    "# Calculations\n",
    "dS = -R*(n*(x/n)*math.log(x/n)+(1-x)*math.log(1-x))\n",
    "\n",
    "# Results\n",
    "print  'Entropy  = %.2f cal deg**-1 mole**-1'%(dS)\n"
   ]
  }
 ],
 "metadata": {
  "kernelspec": {
   "display_name": "Python 2",
   "language": "python",
   "name": "python2"
  },
  "language_info": {
   "codemirror_mode": {
    "name": "ipython",
    "version": 2
   },
   "file_extension": ".py",
   "mimetype": "text/x-python",
   "name": "python",
   "nbconvert_exporter": "python",
   "pygments_lexer": "ipython2",
   "version": "2.7.6"
  }
 },
 "nbformat": 4,
 "nbformat_minor": 0
}
