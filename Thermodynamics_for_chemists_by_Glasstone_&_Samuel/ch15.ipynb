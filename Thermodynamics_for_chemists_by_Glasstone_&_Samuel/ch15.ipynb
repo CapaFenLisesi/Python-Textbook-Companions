{
 "cells": [
  {
   "cell_type": "markdown",
   "metadata": {},
   "source": [
    "# Chapter 15 : Activities and Activity coefficients"
   ]
  },
  {
   "cell_type": "markdown",
   "metadata": {},
   "source": [
    "## Example 15.1 Page No : 357"
   ]
  },
  {
   "cell_type": "code",
   "execution_count": 1,
   "metadata": {
    "collapsed": false
   },
   "outputs": [
    {
     "name": "stdout",
     "output_type": "stream",
     "text": [
      "activity  = 0.9821 \n",
      " activity coefficient  = 0.9823 \n"
     ]
    }
   ],
   "source": [
    "\n",
    "# Variables\n",
    "p1 = 17.222 \t\t\t#mm\n",
    "p2 = 17.535 \t\t\t#mm\n",
    "n = 1.       \t\t\t#mole\n",
    "m = 1000 \t    \t\t#gms\n",
    "M = 18.016 \t\t    \t#gms\n",
    "\n",
    "# Calculations\n",
    "a = p1/p2\n",
    "N1 = (m/M)/(n+(m/M))\n",
    "\n",
    "# Results\n",
    "print  'activity  = %.4f '%(a)\n",
    "print  ' activity coefficient  = %.4f '%(N1)\n"
   ]
  },
  {
   "cell_type": "markdown",
   "metadata": {},
   "source": [
    "## Example 15.2 Page No : 361"
   ]
  },
  {
   "cell_type": "code",
   "execution_count": 2,
   "metadata": {
    "collapsed": false
   },
   "outputs": [
    {
     "name": "stdout",
     "output_type": "stream",
     "text": [
      "activity  = 0.9967 \n"
     ]
    }
   ],
   "source": [
    "\n",
    "# Variables\n",
    "import math \n",
    "M = 0.1 \t\t\t#molal\n",
    "Tf = 0.345 \t\t\t#C\n",
    "k = -9.702*10**-3\n",
    "k1 = -5.2*10**-6\n",
    "\n",
    "# Calculations\n",
    "a = math.e**(k*Tf+k1*Tf**2)\n",
    "\n",
    "# Results\n",
    "print  'activity  = %.4f '%(a)\n"
   ]
  },
  {
   "cell_type": "markdown",
   "metadata": {},
   "source": [
    "## Example 15.3 Page No : 366"
   ]
  },
  {
   "cell_type": "code",
   "execution_count": 3,
   "metadata": {
    "collapsed": false
   },
   "outputs": [
    {
     "name": "stdout",
     "output_type": "stream",
     "text": [
      "a2/N2  = 2.820 \n",
      " a2  = 0.2780 \n"
     ]
    }
   ],
   "source": [
    "\n",
    "# Variables\n",
    "import math \n",
    "R = 1.98*10**-4 \t\t\t#cal mole**-1 deg**-1\n",
    "T = 20.          \t\t\t#C\n",
    "E = -0.11118 \t    \t\t#volt\n",
    "n2 = 0.00326\n",
    "n21 = 0.0986\n",
    "\n",
    "# Calculations\n",
    "r = 10**((-E/(R*(273.16+T)))-math.log10(n21)+math.log10(n2))+n21\n",
    "a2 = r*n21\n",
    "\n",
    "# Results\n",
    "print  'a2/N2  = %.3f '%(r)\n",
    "print  ' a2  = %.4f '%(a2)\n",
    "\n"
   ]
  },
  {
   "cell_type": "markdown",
   "metadata": {},
   "source": [
    "## Example 15.4 Page No : 367"
   ]
  },
  {
   "cell_type": "code",
   "execution_count": 4,
   "metadata": {
    "collapsed": false
   },
   "outputs": [
    {
     "name": "stdout",
     "output_type": "stream",
     "text": [
      "a2/N2  = 0.929 \n"
     ]
    }
   ],
   "source": [
    "\n",
    "# Variables\n",
    "n1 = 0.424 \t\t\t#mole fraction\n",
    "a2 = 3.268\n",
    "n = 8.3\n",
    "\n",
    "# Calculations\n",
    "r = a2/(n*n1)\n",
    "\n",
    "# Results\n",
    "print  'a2/N2  = %.3f '%(r)\n"
   ]
  },
  {
   "cell_type": "markdown",
   "metadata": {},
   "source": [
    "## Example 15.5 Page No : 368"
   ]
  },
  {
   "cell_type": "code",
   "execution_count": 5,
   "metadata": {
    "collapsed": false
   },
   "outputs": [
    {
     "name": "stdout",
     "output_type": "stream",
     "text": [
      "activity coefficient  = 1.21 \n"
     ]
    }
   ],
   "source": [
    "\n",
    "# Variables\n",
    "e = 0.7865 \t    \t\t#volt\n",
    "emf = 0.8085 \t\t\t#emf\n",
    "T = 500.    \t\t\t#C\n",
    "R = 1.98*10**-4 \t\t\t#cal mol6-1 deg**-1\n",
    "n2 = 0.5937\n",
    "\n",
    "# Calculations\n",
    "a2 = 10**((e-emf)/(R*(273+T)))\n",
    "r = a2/n2\n",
    "\n",
    "# Results\n",
    "print  'activity coefficient  = %.2f '%(r)\n"
   ]
  },
  {
   "cell_type": "markdown",
   "metadata": {},
   "source": [
    "## Example 15.6 Page No : 371"
   ]
  },
  {
   "cell_type": "code",
   "execution_count": 7,
   "metadata": {
    "collapsed": false
   },
   "outputs": [
    {
     "name": "stdout",
     "output_type": "stream",
     "text": [
      "Constant  = 0.5037 \n"
     ]
    }
   ],
   "source": [
    "\n",
    "# Variables\n",
    "import math \n",
    "ac = 1.211\n",
    "n2 = 0.5937\n",
    "\n",
    "# Calculations\n",
    "b = math.log10(ac)/(1-n2)**2\n",
    "\n",
    "# Results\n",
    "print  'Constant  = %.4f '%(b)\n"
   ]
  }
 ],
 "metadata": {
  "kernelspec": {
   "display_name": "Python 2",
   "language": "python",
   "name": "python2"
  },
  "language_info": {
   "codemirror_mode": {
    "name": "ipython",
    "version": 2
   },
   "file_extension": ".py",
   "mimetype": "text/x-python",
   "name": "python",
   "nbconvert_exporter": "python",
   "pygments_lexer": "ipython2",
   "version": "2.7.6"
  }
 },
 "nbformat": 4,
 "nbformat_minor": 0
}
