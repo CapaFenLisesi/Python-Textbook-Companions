{
 "cells": [
  {
   "cell_type": "markdown",
   "metadata": {},
   "source": [
    "# Chapter 9 : Entropy determination and Significance"
   ]
  },
  {
   "cell_type": "markdown",
   "metadata": {},
   "source": [
    "## Example 9.1 Page No : 191"
   ]
  },
  {
   "cell_type": "code",
   "execution_count": 2,
   "metadata": {
    "collapsed": false
   },
   "outputs": [
    {
     "name": "stdout",
     "output_type": "stream",
     "text": [
      "Standard entropy  = 39.4 cal deg**-1 g atom**-1\n"
     ]
    }
   ],
   "source": [
    "\n",
    "# Variables\n",
    "import math \n",
    "w = 35.46 \t\t\t#gms\n",
    "T = 298.2 \t\t\t#K\n",
    "Qc = 4.03 \n",
    "\n",
    "# Calculations\n",
    "S = 4.576*(1.5*math.log10(w)+2.5*math.log10(T)+math.log10(Qc)-0.5055)\n",
    "\n",
    "# Results\n",
    "print  'Standard entropy  = %.1f cal deg**-1 g atom**-1'%(S)\n"
   ]
  },
  {
   "cell_type": "markdown",
   "metadata": {},
   "source": [
    "## Example 9.2 Page No : 195"
   ]
  },
  {
   "cell_type": "code",
   "execution_count": 3,
   "metadata": {
    "collapsed": false
   },
   "outputs": [
    {
     "name": "stdout",
     "output_type": "stream",
     "text": [
      "Standard entropy  = 35.9 E.U.mole**-1\n",
      " Standard entropy  = 9.8 E.U.mole**-1\n"
     ]
    }
   ],
   "source": [
    "\n",
    "# Variables\n",
    "import math \n",
    "M = 28.  \t    \t    \t#gms\n",
    "T = 25.     \t    \t\t#C\n",
    "I = 13.9*10**-40 \t\t\t# gcm**2\n",
    "s = 2\n",
    "\n",
    "# Calculations\n",
    "S = 4.576*(1.5*math.log10(M)+2.5*math.log10(273.2+T)-0.5055)\n",
    "S1 = 4.576*(math.log10(I)+math.log10(273.2+T)-math.log10(s)+38.82)\n",
    "\n",
    "# Results\n",
    "print  'Standard entropy  = %.1f E.U.mole**-1'%(S)\n",
    "print  ' Standard entropy  = %.1f E.U.mole**-1'%(S1)\n"
   ]
  },
  {
   "cell_type": "markdown",
   "metadata": {},
   "source": [
    "## Example 9.3 Page No : 196"
   ]
  },
  {
   "cell_type": "code",
   "execution_count": 4,
   "metadata": {
    "collapsed": false
   },
   "outputs": [
    {
     "name": "stdout",
     "output_type": "stream",
     "text": [
      "Standard entropy  = 11.5 cal deg**-1 mole**-1\n"
     ]
    }
   ],
   "source": [
    "\n",
    "# Variables\n",
    "import math \n",
    "T = 25.          \t\t\t#C\n",
    "I = 4.33*10**-40 \t\t\t# gcm**2\n",
    "I1 = 2.78*10**-40 \t\t\t#g cm**2\n",
    "s = 3\n",
    "\n",
    "# Calculations\n",
    "S = 4.576*(0.5*math.log10(I1**2*I)+1.5*math.log10(273.2+T)-math.log10(s)+58.51)\n",
    "\n",
    "# Results\n",
    "print  'Standard entropy  = %.1f cal deg**-1 mole**-1'%(S)\n"
   ]
  },
  {
   "cell_type": "markdown",
   "metadata": {},
   "source": [
    "## Example 9.4 Page No : 198"
   ]
  },
  {
   "cell_type": "code",
   "execution_count": 5,
   "metadata": {
    "collapsed": false
   },
   "outputs": [
    {
     "name": "stdout",
     "output_type": "stream",
     "text": [
      "Standard entropy  = 60.40 cal deg**-1 mole**-1\n"
     ]
    }
   ],
   "source": [
    "\n",
    "# Variables\n",
    "Sco = 47.3 \t\t    \t#cal deg**-1 \n",
    "Sh2 = 31.21 \t\t\t#cal deg**-1\n",
    "Sc = 1.36 \t\t    \t#cal deg**-1\n",
    "Sho  = 16.75 \t\t\t#cal deg**-1\n",
    "\n",
    "# Calculations\n",
    "S = Sco+Sh2-Sc-Sho\n",
    "\n",
    "# Results\n",
    "print  'Standard entropy  = %.2f cal deg**-1 mole**-1'%(S)\n"
   ]
  }
 ],
 "metadata": {
  "kernelspec": {
   "display_name": "Python 2",
   "language": "python",
   "name": "python2"
  },
  "language_info": {
   "codemirror_mode": {
    "name": "ipython",
    "version": 2
   },
   "file_extension": ".py",
   "mimetype": "text/x-python",
   "name": "python",
   "nbconvert_exporter": "python",
   "pygments_lexer": "ipython2",
   "version": "2.7.6"
  }
 },
 "nbformat": 4,
 "nbformat_minor": 0
}
