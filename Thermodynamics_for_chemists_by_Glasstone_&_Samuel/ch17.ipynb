{
 "cells": [
  {
   "cell_type": "markdown",
   "metadata": {},
   "source": [
    "# Chapter 17 : The Debye Huckel Theory"
   ]
  },
  {
   "cell_type": "markdown",
   "metadata": {},
   "source": [
    "## Example 17.1 Page No : 416"
   ]
  },
  {
   "cell_type": "code",
   "execution_count": 1,
   "metadata": {
    "collapsed": false
   },
   "outputs": [
    {
     "name": "stdout",
     "output_type": "stream",
     "text": [
      "Solubility  = 1.87e-04 mole litre**-1\n"
     ]
    }
   ],
   "source": [
    "\n",
    "# Variables\n",
    "import math \n",
    "s = 1.771*10**-4 \t\t\t#mole litre**-1\n",
    "s1 = 0.3252*10**-2 \t\t\t#mole litre**-1\n",
    "\n",
    "# Calculations\n",
    "S = s*10**(0.509*(math.sqrt(s+s1)-math.sqrt(s)))\n",
    "\n",
    "# Results\n",
    "print  'Solubility  = %.2e mole litre**-1'%(S)\n"
   ]
  },
  {
   "cell_type": "markdown",
   "metadata": {},
   "source": [
    "## Example 17.2 Page No : 420"
   ]
  },
  {
   "cell_type": "code",
   "execution_count": 2,
   "metadata": {
    "collapsed": false
   },
   "outputs": [
    {
     "name": "stdout",
     "output_type": "stream",
     "text": [
      "mean ionic acctivity coefficient  = 0.755 \n"
     ]
    }
   ],
   "source": [
    "\n",
    "# Variables\n",
    "import math \n",
    "a = 0.1\n",
    "\n",
    "# Calculations\n",
    "r = 10**(-0.509*math.sqrt(a)/(1+math.sqrt(a)))\n",
    "\n",
    "# Results\n",
    "print  'mean ionic acctivity coefficient  = %.3f '%(r)\n"
   ]
  }
 ],
 "metadata": {
  "kernelspec": {
   "display_name": "Python 2",
   "language": "python",
   "name": "python2"
  },
  "language_info": {
   "codemirror_mode": {
    "name": "ipython",
    "version": 2
   },
   "file_extension": ".py",
   "mimetype": "text/x-python",
   "name": "python",
   "nbconvert_exporter": "python",
   "pygments_lexer": "ipython2",
   "version": "2.7.6"
  }
 },
 "nbformat": 4,
 "nbformat_minor": 0
}
