{
 "cells": [
  {
   "cell_type": "markdown",
   "metadata": {},
   "source": [
    "# Chapter 3 : The first law of thermodynamics"
   ]
  },
  {
   "cell_type": "markdown",
   "metadata": {},
   "source": [
    "## Example 3.1 Page No : 34"
   ]
  },
  {
   "cell_type": "code",
   "execution_count": 1,
   "metadata": {
    "collapsed": false
   },
   "outputs": [
    {
     "name": "stdout",
     "output_type": "stream",
     "text": [
      "Work of expansion  = 2.87e+06 ergs\n",
      " 1 cal  = 4.17e+07 ergs\n"
     ]
    }
   ],
   "source": [
    "\n",
    "# Variables\n",
    "p = 1.013*10**6 \t\t\t#dynecm**2\n",
    "T = 273.16 \t\t\t#K\n",
    "V = 773.4  \t\t\t#cc\n",
    "n = 0.0687 \t\t\t#cal\n",
    "#CALCCULATIONS\n",
    "W = p*V/T\n",
    "k = W/n\n",
    "\n",
    "# Results\n",
    "print  'Work of expansion  = %.2e ergs'%(W)\n",
    "print  ' 1 cal  = %.2e ergs'%(k)\n"
   ]
  },
  {
   "cell_type": "markdown",
   "metadata": {},
   "source": [
    "## Example 3.2 Page No : 44"
   ]
  },
  {
   "cell_type": "code",
   "execution_count": 2,
   "metadata": {
    "collapsed": false
   },
   "outputs": [
    {
     "name": "stdout",
     "output_type": "stream",
     "text": [
      "Work of expansion  = -3.99e+10 ergs mole**-1 \n"
     ]
    }
   ],
   "source": [
    "\n",
    "# Variables\n",
    "import math \n",
    "R = 8.314*10**7 \t\t\t#J/mol K\n",
    "T = 298.2    \t    \t\t#K\n",
    "p1 = 1.         \t\t\t#atm\n",
    "p2 = 5.\t    \t\t        #atm\n",
    "\n",
    "# Calculations\n",
    "W = R*T*math.log(p1/p2)\n",
    "\n",
    "# Results\n",
    "print  'Work of expansion  = %.2e ergs mole**-1 '%(W)\n"
   ]
  }
 ],
 "metadata": {
  "kernelspec": {
   "display_name": "Python 2",
   "language": "python",
   "name": "python2"
  },
  "language_info": {
   "codemirror_mode": {
    "name": "ipython",
    "version": 2
   },
   "file_extension": ".py",
   "mimetype": "text/x-python",
   "name": "python",
   "nbconvert_exporter": "python",
   "pygments_lexer": "ipython2",
   "version": "2.7.6"
  }
 },
 "nbformat": 4,
 "nbformat_minor": 0
}
