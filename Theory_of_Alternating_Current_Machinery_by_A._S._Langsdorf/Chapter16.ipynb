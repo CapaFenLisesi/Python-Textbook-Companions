{
 "metadata": {
  "name": "",
  "signature": "sha256:3e38604b9c2b503dd377f5aa0cb16b92707b3eacce7dbc72122db59f81fc4ae1"
 },
 "nbformat": 3,
 "nbformat_minor": 0,
 "worksheets": [
  {
   "cells": [
    {
     "cell_type": "heading",
     "level": 1,
     "metadata": {},
     "source": [
      "Chapter16-The Mercury Arc Rectifier"
     ]
    },
    {
     "cell_type": "heading",
     "level": 2,
     "metadata": {},
     "source": [
      "Ex9-pg617"
     ]
    },
    {
     "cell_type": "code",
     "collapsed": false,
     "input": [
      "## Example16_9_pg617.sce\n",
      "## Effect of phase control\n",
      "## Theory of Alternating Current Machinery by Alexander Langsdorf\n",
      "## First Edition 1999, Thirty Second reprint\n",
      "## Tata McGraw Hill Publishing Company\n",
      "## Example in Page 617\n",
      "\n",
      "\n",
      "import math\n",
      "\n",
      "## Given data\n",
      "\n",
      "phi = 20.;\n",
      "alpha1 = 30.;\n",
      "alpha2 = 0.;\n",
      "\n",
      "## Calculations\n",
      "\n",
      "ans1 = (math.cos(phi*math.pi/(180.*2.))*math.cos(phi*math.pi/(180.*2.) + alpha1*math.pi/180.)*100.);\n",
      "ans2 = round(math.cos(phi*math.pi/(180.*2.))*math.cos(phi*math.pi/(180.*2.) + alpha2*math.pi/180.)*100.);\n",
      "Effect = (ans1/ans2)*100.;\n",
      "\n",
      "print'%s %.2f %s'%(\"\\n\\nEffect of phase control here is to reduce the dc voltage to \",Effect,\" of the value it would have in the absence of phase control\\n\");\n",
      "\n",
      "## Result\n",
      "## Effect of phase control here is to reduce the dc voltage to 77.77 % of the value it would have in the absence of phase control\n"
     ],
     "language": "python",
     "metadata": {},
     "outputs": [
      {
       "output_type": "stream",
       "stream": "stdout",
       "text": [
        "\n",
        "\n",
        "Effect of phase control here is to reduce the dc voltage to  77.77  of the value it would have in the absence of phase control\n",
        "\n"
       ]
      }
     ],
     "prompt_number": 1
    }
   ],
   "metadata": {}
  }
 ]
}