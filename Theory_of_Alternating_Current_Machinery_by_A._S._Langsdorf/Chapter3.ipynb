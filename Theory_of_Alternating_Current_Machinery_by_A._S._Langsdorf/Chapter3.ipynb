{
 "metadata": {
  "name": "",
  "signature": "sha256:7ef6a3584a421f73df3798eded14251dce8de7daccd2d1ffb83ce9640649ca72"
 },
 "nbformat": 3,
 "nbformat_minor": 0,
 "worksheets": [
  {
   "cells": [
    {
     "cell_type": "heading",
     "level": 1,
     "metadata": {},
     "source": [
      "Chapter3-Transformer structure Insulation Heating and Load Stresses"
     ]
    },
    {
     "cell_type": "heading",
     "level": 2,
     "metadata": {},
     "source": [
      "Ex16-pg161"
     ]
    },
    {
     "cell_type": "code",
     "collapsed": false,
     "input": [
      "## Example3_16_pg161.sce\n",
      "## To find radial force due to current\n",
      "## Theory of Alternating Current Machinery by Alexander Langsdorf\n",
      "## First Edition 1999, Thirty Second reprint\n",
      "## Tata McGraw Hill Publishing Company\n",
      "## Example in Page 161\n",
      "\n",
      "\n",
      "import math\n",
      "\n",
      "## Given data\n",
      "va = 200e+3;  ## Volt Amperes of transformer, VA\n",
      "v1 = 11000.; ## Voltage in volts\n",
      "v2 = 2300.; ## Voltage in volts\n",
      "T = 46.3; ## Mean length of the turn, inches\n",
      "n = 455.; ## Number of turns\n",
      "I = 1320.; ## Current in Amperes\n",
      "l = 35.; ## length in inches\n",
      "k = 1.8;\n",
      "zeq_ht = 8.33;\n",
      "\n",
      "## Calculations\n",
      "\n",
      "F_av = (0.45/1e+7)*((T*n**2*I**2)/(k*l));\n",
      "print'%s %.2f %s %.2f %s '%(\"\\n  The radial force due to the current of \",I,\"Amps\" and  \"given data is\",round(F_av),\"  lb\\n\");\n",
      "\n",
      "## Result\n",
      "##  The radial force due to the current of 1320 Amps for given data is 11930 lb\n"
     ],
     "language": "python",
     "metadata": {},
     "outputs": [
      {
       "output_type": "stream",
       "stream": "stdout",
       "text": [
        "\n",
        "  The radial force due to the current of  1320.00 given data is 11930.00   lb\n",
        " \n"
       ]
      }
     ],
     "prompt_number": 1
    }
   ],
   "metadata": {}
  }
 ]
}