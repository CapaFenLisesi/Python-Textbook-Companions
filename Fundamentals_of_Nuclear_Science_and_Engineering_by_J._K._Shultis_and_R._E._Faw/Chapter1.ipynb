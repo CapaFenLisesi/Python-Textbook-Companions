{
 "metadata": {
  "name": "",
  "signature": "sha256:e330c51bf6e610e7419d5a8924484e7b299e4592ed588610e8ac90d2d1956ef9"
 },
 "nbformat": 3,
 "nbformat_minor": 0,
 "worksheets": [
  {
   "cells": [
    {
     "cell_type": "heading",
     "level": 1,
     "metadata": {},
     "source": [
      "Chapter1-Fundamental Concepts"
     ]
    },
    {
     "cell_type": "heading",
     "level": 2,
     "metadata": {},
     "source": [
      "Ex1-pg21"
     ]
    },
    {
     "cell_type": "code",
     "collapsed": false,
     "input": [
      "##Chapter 1, Example 1.1, Page 21\n",
      "import math\n",
      "##Find Atomic weight of Boron\n",
      "I10 = 0.199 ## Isotopic abundance of B10 (Value used in question is wrong)\n",
      "A10 = 10.012937 ##Atomic weight of B10\n",
      "I11 = 0.801 ## Isotopic abundance of B11\n",
      "A11 = 11.009306 ##Atomic weight of B11\n",
      "##Calculation\n",
      "W = (I10*A10)+(I11*A11)\n",
      "print'%s %.2f %s'%(\"The atomic weight of Boron = \",W,\"\");\n",
      "\n",
      "##Answers may vary due to round off error\n"
     ],
     "language": "python",
     "metadata": {},
     "outputs": [
      {
       "output_type": "stream",
       "stream": "stdout",
       "text": [
        "The atomic weight of Boron =  10.81 \n"
       ]
      }
     ],
     "prompt_number": 6
    },
    {
     "cell_type": "heading",
     "level": 2,
     "metadata": {},
     "source": [
      "Ex2-pg22"
     ]
    },
    {
     "cell_type": "code",
     "collapsed": false,
     "input": [
      "##Chapter 1, Example 1.2, Page 22\n",
      "import math\n",
      "##Find number of 10B molecules in 5g of Boron\n",
      "m = 5. ##g\n",
      "Na = 0.6022*10**24 ##atoms/mol\n",
      "AB = 10.811 ##Atomic weight of 10B , g/mol\n",
      "NB = (m*Na)/(AB)\n",
      "print'%s %.2e %s'%(\"The number of Boron atoms = \",NB,\" atoms\");\n",
      "\n",
      "##Answers may vary due to round off error\n"
     ],
     "language": "python",
     "metadata": {},
     "outputs": [
      {
       "output_type": "stream",
       "stream": "stdout",
       "text": [
        "The number of Boron atoms =  2.79e+23  atoms\n"
       ]
      }
     ],
     "prompt_number": 4
    },
    {
     "cell_type": "heading",
     "level": 2,
     "metadata": {},
     "source": [
      "Ex3-pg22"
     ]
    },
    {
     "cell_type": "code",
     "collapsed": false,
     "input": [
      "##Chapter 1, Example 1.3, Page 22\n",
      "import math\n",
      "##Estimate the mass on an atom of U 238. From Eq. (1.3)\n",
      "##Calculating the approximate weight\n",
      "Mapprox = 238./(6.022*10**23)\n",
      "##Calculating the precise weight\n",
      "M = 238.050782/(6.022142*10**23)\n",
      "print'%s %.2e %s'%(\"The approximate mass on an atom of U 238 = \",Mapprox,\" g/atom\");\n",
      "print'%s %.2e %s'%(\"\\n The precise mass on an atom of U 238 = \",M,\" g/atom\")\n",
      "print(\"Varies by a negligible error\")\n",
      "##Answers may vary due to round off error\n",
      "\n",
      " \n",
      " \n"
     ],
     "language": "python",
     "metadata": {},
     "outputs": [
      {
       "output_type": "stream",
       "stream": "stdout",
       "text": [
        "The approximate mass on an atom of U 238 =  3.95e-22  g/atom\n",
        "\n",
        " The precise mass on an atom of U 238 =  3.95e-22  g/atom\n",
        "Varies by a negligible error\n"
       ]
      }
     ],
     "prompt_number": 3
    },
    {
     "cell_type": "heading",
     "level": 2,
     "metadata": {},
     "source": [
      "Ex4-pg23"
     ]
    },
    {
     "cell_type": "code",
     "collapsed": false,
     "input": [
      "##Chapter 1, Example 1.4, Page 23\n",
      "import math\n",
      "##Density of Hydrogen atom in water\n",
      "p = 1. ## density of water in g cm^-3\n",
      "Na = 6.022*10**23 ## molucules/mol\n",
      "A = 18. ## atomic weight of water in g/mol\n",
      "N = (p*Na)/A\n",
      "NH = 2.*N\n",
      "print'%s %.2e %s'%(\"The density of water = \",N,\" molecules/cm3\");\n",
      "print'%s %.2e %s'%(\"\\n The density of hydrogen atoms = \",NH,\" atoms/cm3\");\n",
      "##Answers may vary due to round off error\n"
     ],
     "language": "python",
     "metadata": {},
     "outputs": [
      {
       "output_type": "stream",
       "stream": "stdout",
       "text": [
        "The density of water =  3.35e+22  molecules/cm3\n",
        "\n",
        " The density of hydrogen atoms =  6.69e+22  atoms/cm3\n"
       ]
      }
     ],
     "prompt_number": 2
    }
   ],
   "metadata": {}
  }
 ]
}