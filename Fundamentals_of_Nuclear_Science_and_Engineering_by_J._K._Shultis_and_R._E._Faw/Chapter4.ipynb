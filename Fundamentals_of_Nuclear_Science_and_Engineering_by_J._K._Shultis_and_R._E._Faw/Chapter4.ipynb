{
 "metadata": {
  "name": "",
  "signature": "sha256:9f85f36dd7e1b054287d8f60a2aae027bbb519c4eb449ff21647cc2766a176de"
 },
 "nbformat": 3,
 "nbformat_minor": 0,
 "worksheets": [
  {
   "cells": [
    {
     "cell_type": "heading",
     "level": 1,
     "metadata": {},
     "source": [
      "Chapter4-Nuclear Energetics "
     ]
    },
    {
     "cell_type": "heading",
     "level": 2,
     "metadata": {},
     "source": [
      "Ex1-pg86"
     ]
    },
    {
     "cell_type": "code",
     "collapsed": false,
     "input": [
      "##Chapter 4, Example 4.1, Page 86\n",
      "import math\n",
      "##Binding energy\n",
      "mn = 1.0078250\n",
      "mp = 1.0086649\n",
      "M = 4.0026032 ## mass of He\n",
      "MD = 2.*mn+2.*mp-M ##Mass defect\n",
      "BE = MD*931.5\n",
      "print'%s %.2f %s'%(\"\\n Mass defect = \",MD,\" u\");\n",
      "print'%s %.2f %s'%(\"\\n Nuclear binding energy = \",BE,\" MeV\"); ## answer provided in the textbook is wrong\n",
      "##Answer may vary due to round off error\n"
     ],
     "language": "python",
     "metadata": {},
     "outputs": [
      {
       "output_type": "stream",
       "stream": "stdout",
       "text": [
        "\n",
        " Mass defect =  0.03  u\n",
        "\n",
        " Nuclear binding energy =  28.30  MeV\n"
       ]
      }
     ],
     "prompt_number": 1
    },
    {
     "cell_type": "heading",
     "level": 2,
     "metadata": {},
     "source": [
      "Ex2-pg89"
     ]
    },
    {
     "cell_type": "code",
     "collapsed": false,
     "input": [
      "##Chapter 4, Example 4.2, Page 89\n",
      "import math\n",
      "##Binding energy\n",
      "O15 = 15.0030654 ## atomic mass of O15 isotope\n",
      "mn = 1.00866492\n",
      "O16 = 15.9949146 ## atomic mass of O16 isotope\n",
      "c2 = 931.5 ## C^2 in MeV\n",
      "S = (O15+mn-O16)*c2\n",
      "print'%s %.2f %s'%(\"\\n Binding energy = \",S,\" MeV\"); \n",
      "##Answer may vary due to round off error\n"
     ],
     "language": "python",
     "metadata": {},
     "outputs": [
      {
       "output_type": "stream",
       "stream": "stdout",
       "text": [
        "\n",
        " Binding energy =  15.66  MeV\n"
       ]
      }
     ],
     "prompt_number": 2
    },
    {
     "cell_type": "heading",
     "level": 2,
     "metadata": {},
     "source": [
      "Ex3-pg94"
     ]
    },
    {
     "cell_type": "code",
     "collapsed": false,
     "input": [
      "##Chapter 4, Example 4.3, Page 94\n",
      "import math\n",
      "## Q value of an endothermic and exothermic reaction\n",
      "##Exothermic reaction\n",
      "Be = 9.012182 ##Reactants\n",
      "He = 4.002603 ##Reactants\n",
      "C12 = 12. ##Product\n",
      "n = 1.008664 ##Product\n",
      "C2 = 931.5 ## C^2 in MeV\n",
      "Exo1 = Be+He\n",
      "Exo2 = C12+n\n",
      "Dif1 = Exo1-Exo2\n",
      "Q1 = Dif1*C2\n",
      "print'%s %.2f %s'%(\"\\n Q of the exothermic reaction = \",Q1,\" MeV\"); \n",
      "##Endothermic reaction\n",
      "O = 15.994915 ##Reactants\n",
      "n = 1.008664 ##Reactant\n",
      "C13 = 13.003354 ##Product\n",
      "He = 4.002603 ##product\n",
      "End1 = O+n\n",
      "End2 = C13+He\n",
      "Dif2 = End1-End2\n",
      "Q2 = Dif2*C2\n",
      "print'%s %.2f %s'%(\"\\n Q of the exothermic reaction = \",Q2,\" MeV\"); \n",
      "##Answer may vary due to round off error \n"
     ],
     "language": "python",
     "metadata": {},
     "outputs": [
      {
       "output_type": "stream",
       "stream": "stdout",
       "text": [
        "\n",
        " Q of the exothermic reaction =  5.70  MeV\n",
        "\n",
        " Q of the exothermic reaction =  -2.22  MeV\n"
       ]
      }
     ],
     "prompt_number": 3
    },
    {
     "cell_type": "heading",
     "level": 2,
     "metadata": {},
     "source": [
      "Ex4-pg95"
     ]
    },
    {
     "cell_type": "code",
     "collapsed": false,
     "input": [
      "##Chapter 4, Example 4.4, Page 95\n",
      "import math\n",
      "## Q value in a reaction\n",
      "MH = 1.00782503\n",
      "MD = 2.01410178\n",
      "me = 0.00054858\n",
      "C2 = 931.5\n",
      "Q = (2*MH-MD-2*me)*C2\n",
      "print'%s %.2f %s'%(\"\\n Q of the reaction = \",Q,\" MeV\");## Answer provided in the text is wrong \n",
      "##Answer may vary due to round off error \n"
     ],
     "language": "python",
     "metadata": {},
     "outputs": [
      {
       "output_type": "stream",
       "stream": "stdout",
       "text": [
        "\n",
        " Q of the reaction =  0.42  MeV\n"
       ]
      }
     ],
     "prompt_number": 4
    },
    {
     "cell_type": "heading",
     "level": 2,
     "metadata": {},
     "source": [
      "Ex5-pg96"
     ]
    },
    {
     "cell_type": "code",
     "collapsed": false,
     "input": [
      "##Chapter 4, Example 4.5, Page 96\n",
      "import math\n",
      "## Q value of the reaction\n",
      "mn = 1.0086649\n",
      "MB = 10.0129370\n",
      "MHe = 4.0026032\n",
      "MLi = 7.0160040\n",
      "C2 = 931.5\n",
      "Q = (mn+MB-MHe-MLi)*C2 -0.48\n",
      "print'%s %.2f %s'%(\"\\n Q of the reaction = \",Q,\" MeV\");\n",
      "##Answer may vary due to round off error \n"
     ],
     "language": "python",
     "metadata": {},
     "outputs": [
      {
       "output_type": "stream",
       "stream": "stdout",
       "text": [
        "\n",
        " Q of the reaction =  2.31  MeV\n"
       ]
      }
     ],
     "prompt_number": 5
    }
   ],
   "metadata": {}
  }
 ]
}