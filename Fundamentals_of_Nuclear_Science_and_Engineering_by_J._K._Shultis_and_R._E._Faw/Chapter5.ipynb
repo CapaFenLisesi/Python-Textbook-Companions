{
 "metadata": {
  "name": "",
  "signature": "sha256:ccdd60f8119f244274685c4ee78486f3a9bcbadf662177248109bcf8bb32d8d3"
 },
 "nbformat": 3,
 "nbformat_minor": 0,
 "worksheets": [
  {
   "cells": [
    {
     "cell_type": "heading",
     "level": 1,
     "metadata": {},
     "source": [
      "Chapter5-Radioactivity"
     ]
    },
    {
     "cell_type": "heading",
     "level": 2,
     "metadata": {},
     "source": [
      "Ex1-pg103"
     ]
    },
    {
     "cell_type": "code",
     "collapsed": false,
     "input": [
      "##Chapter 5, Example 5.1, Page 103\n",
      "import math\n",
      "## Initial Kinetic energy \n",
      "MRa = 226.025402\n",
      "MRn = 222.017571\n",
      "MHe = 4.00260325\n",
      "C2 = 931.5\n",
      "Ad = 222.\n",
      "Aa = 4.\n",
      "Q = (MRa-MRn-MHe)*C2\n",
      "E = Q*(Ad/(Ad+Aa))\n",
      "R = Q-E\n",
      "print'%s %.2f %s'%(\"\\n Q of the reaction = \",Q,\" MeV\");\n",
      "print'%s %.2f %s'%(\"\\n Kinetic Enerfy of the reaction = \",E,\" MeV\");\n",
      "print'%s %.2f %s'%(\"\\n The reminder of Q is the kinetic energy of the product nucleus,Rn = \",R,\" MeV\");\n",
      "## Answer may vary due to round off error\n"
     ],
     "language": "python",
     "metadata": {},
     "outputs": [
      {
       "output_type": "stream",
       "stream": "stdout",
       "text": [
        "\n",
        " Q of the reaction =  4.87  MeV\n",
        "\n",
        " Kinetic Enerfy of the reaction =  4.78  MeV\n",
        "\n",
        " The reminder of Q is the kinetic energy of the product nucleus,Rn =  0.09  MeV\n"
       ]
      }
     ],
     "prompt_number": 1
    },
    {
     "cell_type": "heading",
     "level": 2,
     "metadata": {},
     "source": [
      "Ex2-pg117"
     ]
    },
    {
     "cell_type": "code",
     "collapsed": false,
     "input": [
      "##Chapter 5, Example 5.2, Page 117\n",
      "import math\n",
      "##Probablility of decay by positron emission\n",
      "##3 decay modes \n",
      "LBp = 0.009497\n",
      "LBm = 0.02129\n",
      "LEC = 0.02381\n",
      "L = LBp+LBm+LEC\n",
      "P = LBp/L\n",
      "print'%s %.2f %s'%(\"\\n Probability of decay =  \",P,\"\");\n",
      "##Answer may vary due to round off error\n"
     ],
     "language": "python",
     "metadata": {},
     "outputs": [
      {
       "output_type": "stream",
       "stream": "stdout",
       "text": [
        "\n",
        " Probability of decay =   0.17 \n"
       ]
      }
     ],
     "prompt_number": 3
    },
    {
     "cell_type": "heading",
     "level": 2,
     "metadata": {},
     "source": [
      "Ex4-pg127"
     ]
    },
    {
     "cell_type": "code",
     "collapsed": false,
     "input": [
      "##Chapter 5, Example 5.4, Page 127\n",
      "import math\n",
      "##Time takes for the activity of daughter is within 5% of that of parent\n",
      "t = -math.log(1.-0.95)/(1.083*10**-2)\n",
      "print'%s %.2f %s'%(\"\\n Time = \",t,\" h \"); \n",
      "print'%s %.2f %s'%(\"\\n Time = \",t/24,\" d \");\n",
      "##Answer may vary due to round off error\n"
     ],
     "language": "python",
     "metadata": {},
     "outputs": [
      {
       "output_type": "stream",
       "stream": "stdout",
       "text": [
        "\n",
        " Time =  276.61  h \n",
        "\n",
        " Time =  11.53  d \n"
       ]
      }
     ],
     "prompt_number": 4
    },
    {
     "cell_type": "heading",
     "level": 2,
     "metadata": {},
     "source": [
      "Ex6-pg129"
     ]
    },
    {
     "cell_type": "code",
     "collapsed": false,
     "input": [
      "##Chapter 5, Example 5.6, Page 129\n",
      "import math\n",
      "## Age of the wood\n",
      "##based on eq 5.74\n",
      "t = -(5730./math.log(2.))*math.log(1.2/6.4)\n",
      "print'%s %.2f %s'%(\"\\n Time = \",t,\" y \");\n",
      "##Answer may vary due to round off error\n"
     ],
     "language": "python",
     "metadata": {},
     "outputs": [
      {
       "output_type": "stream",
       "stream": "stdout",
       "text": [
        "\n",
        " Time =  13838.16  y \n"
       ]
      }
     ],
     "prompt_number": 5
    },
    {
     "cell_type": "heading",
     "level": 2,
     "metadata": {},
     "source": [
      "Ex7-pg129"
     ]
    },
    {
     "cell_type": "code",
     "collapsed": false,
     "input": [
      "##Chapter 5, Example 5.7, Page 129\n",
      "import math\n",
      "## Calculate the time\n",
      "##based on eq 5.74\n",
      "t = (14.05*10**9/math.log(2.))*math.log(1.+(0.31232/1.37208))\n",
      "print'%s %.2e %s'%(\"\\n Time = \",t,\" y \");\n",
      "##Answer may vary due to round off error\n"
     ],
     "language": "python",
     "metadata": {},
     "outputs": [
      {
       "output_type": "stream",
       "stream": "stdout",
       "text": [
        "\n",
        " Time =  4.16e+09  y \n"
       ]
      }
     ],
     "prompt_number": 6
    },
    {
     "cell_type": "heading",
     "level": 2,
     "metadata": {},
     "source": [
      "Ex8-pg130"
     ]
    },
    {
     "cell_type": "code",
     "collapsed": false,
     "input": [
      "##Chapter 5, Example 5.8, Page 130\n",
      "import math\n",
      "## Calculate the time\n",
      "##based on eq 5.74\n",
      "t = (4.88*10**10/math.log(2.))*math.log(1.+((0.80-0.710)/1.37208))\n",
      "print'%s %.2e %s'%(\"\\n Time = \",t,\" y \");\n",
      "##Answer may vary due to round off error\n"
     ],
     "language": "python",
     "metadata": {},
     "outputs": [
      {
       "output_type": "stream",
       "stream": "stdout",
       "text": [
        "\n",
        " Time =  4.47e+09  y \n"
       ]
      }
     ],
     "prompt_number": 7
    }
   ],
   "metadata": {}
  }
 ]
}