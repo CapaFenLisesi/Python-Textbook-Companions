{
 "metadata": {
  "name": "",
  "signature": "sha256:f24e67fa89ff40acfed2fc09cc9dc7c97d3874c3014c0e15047bb9935269ce32"
 },
 "nbformat": 3,
 "nbformat_minor": 0,
 "worksheets": [
  {
   "cells": [
    {
     "cell_type": "heading",
     "level": 1,
     "metadata": {},
     "source": [
      "Chapter3-Atomic and Nuclear Models "
     ]
    },
    {
     "cell_type": "heading",
     "level": 2,
     "metadata": {},
     "source": [
      "Ex1-pg66"
     ]
    },
    {
     "cell_type": "code",
     "collapsed": false,
     "input": [
      "##Chapter 3, Example 3.1, Page 66\n",
      "import math\n",
      "##Energy required to remove electron in the ground state\n",
      "##Obtaining values from table 1.5\n",
      "h = 6.626*10**-34 ## J s\n",
      "m = 9.109*10**-31 ## kg\n",
      "e = 1.6022*10**-19 ## C\n",
      "E0 = 8.854*10**-12 ## F m^-1\n",
      "E1 = -(m*(2.*e**2)**2)/(8.*E0**2*h**2)\n",
      "EJ = E1/(1.6022*10**-19) ## converting to eV\n",
      "print'%s %.2e %s'%(\"\\n E1 in Joules =  \",E1,\" J\");\n",
      "print'%s %.2f %s'%(\"\\n E1 in eV = \",EJ,\" EV\");\n",
      "\n",
      "##Answer may vary due to round off error\n"
     ],
     "language": "python",
     "metadata": {},
     "outputs": [
      {
       "output_type": "stream",
       "stream": "stdout",
       "text": [
        "\n",
        " E1 in Joules =   -8.72e-18  J\n",
        "\n",
        " E1 in eV =  -54.43  EV\n"
       ]
      }
     ],
     "prompt_number": 1
    },
    {
     "cell_type": "heading",
     "level": 2,
     "metadata": {},
     "source": [
      "Ex2-pg79"
     ]
    },
    {
     "cell_type": "code",
     "collapsed": false,
     "input": [
      "##Chapter 3, Example 3.2, Page 79\n",
      "import math\n",
      "## Estimate the mass of Ga\n",
      "##Based on equation 3.16\n",
      "av = 15.835 ## MeV\n",
      "As = 18.33 ## MeV\n",
      "ac = 0.714 ## MeV\n",
      "aa = 23.30 ## MeV\n",
      "ap = 11.2 ## MeV\n",
      "A = 70.\n",
      "c2 = (1./931.5)\n",
      "mn = 1.0072765\n",
      "mp = 1.0086649\n",
      "me = 0.00054858\n",
      "a = av*A\n",
      "b = As*A**(2/3.)\n",
      "c = ac*(31**2/A**(1./3.))\n",
      "d = aa*((A-62.)**2/A)\n",
      "c = ap/math.sqrt(A)\n",
      "BE = (a-b-c-d)*c2 ## BE/C^2\n",
      "M = 31.*mn+39.*mp-BE+31.*me\n",
      "print'%s %.2f %s'%(\"\\n Nuclear binding energy = \",BE,\" u\"); ## answer provided in the textbook is wrong\n",
      "print'%s %.2f %s'%(\"\\n Atomic mass = \",M,\" u\");\n",
      "\n",
      "##Answer may vary due to round off error\n"
     ],
     "language": "python",
     "metadata": {},
     "outputs": [
      {
       "output_type": "stream",
       "stream": "stdout",
       "text": [
        "\n",
        " Nuclear binding energy =  0.83  u\n",
        "\n",
        " Atomic mass =  69.75  u\n"
       ]
      }
     ],
     "prompt_number": 2
    }
   ],
   "metadata": {}
  }
 ]
}