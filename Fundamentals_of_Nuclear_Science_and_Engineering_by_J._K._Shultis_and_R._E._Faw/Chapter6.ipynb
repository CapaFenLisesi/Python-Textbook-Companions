{
 "metadata": {
  "name": "",
  "signature": "sha256:9aca6d266400c2bfca228c376b6d9886fffd22be684ec25980c3571a5e97901c"
 },
 "nbformat": 3,
 "nbformat_minor": 0,
 "worksheets": [
  {
   "cells": [
    {
     "cell_type": "heading",
     "level": 1,
     "metadata": {},
     "source": [
      "Chapter6-Binary Nuclear Reactions"
     ]
    },
    {
     "cell_type": "heading",
     "level": 2,
     "metadata": {},
     "source": [
      "Ex1-pg142"
     ]
    },
    {
     "cell_type": "code",
     "collapsed": false,
     "input": [
      "##Chapter 6, Example 6.1, Page 142\n",
      "import math\n",
      "import numpy\n",
      "## Minimum Kinetic energy\n",
      "Q = numpy.array([1.311, -0.6259, -0.1582]) ##Q in MeV of all the reactions\n",
      "Ex = ([1.994 ,2.11 ,0.1695])\n",
      "KE = numpy.array(Q+Ex)\n",
      "print'%s %.2f %s'%(\"Kinetic Energy for 13C(d,t)12C =  \\n\",KE[0],\"\")\n",
      "print'%s %.2f %s'%(\" Kinetic Energy for 14C(p,n)14N = \\n\",KE[1],\"\")\n",
      "print'%s %.2f %s'%(\" Kinetic Energy for 14C(n,a)11B = %f\",KE[2],\"\")\n"
     ],
     "language": "python",
     "metadata": {},
     "outputs": [
      {
       "output_type": "stream",
       "stream": "stdout",
       "text": [
        "Kinetic Energy for 13C(d,t)12C =  \n",
        " 3.30 \n",
        " Kinetic Energy for 14C(p,n)14N = \n",
        " 1.48 \n",
        " Kinetic Energy for 14C(n,a)11B = %f 0.01 \n"
       ]
      }
     ],
     "prompt_number": 1
    },
    {
     "cell_type": "heading",
     "level": 2,
     "metadata": {},
     "source": [
      "Ex2-pg145"
     ]
    },
    {
     "cell_type": "code",
     "collapsed": false,
     "input": [
      "##Chapter 6, Example 6.2, Page 145\n",
      "import math\n",
      "## Maximum Energy loss\n",
      "me = 0.0005486\n",
      "M = 4.003\n",
      "EM = 4.\n",
      "Emax = 4.*(me/M)*EM\n",
      "print'%s %.2f %s'%(\"Emax =\",Emax*10**3,\" keV\",)\n",
      "##Answers may vary due to round off error\n"
     ],
     "language": "python",
     "metadata": {},
     "outputs": [
      {
       "output_type": "stream",
       "stream": "stdout",
       "text": [
        "Emax = 2.19  keV\n"
       ]
      }
     ],
     "prompt_number": 2
    },
    {
     "cell_type": "heading",
     "level": 2,
     "metadata": {},
     "source": [
      "Ex4-pg155"
     ]
    },
    {
     "cell_type": "code",
     "collapsed": false,
     "input": [
      "##Chapter 6, Example 6.4, Page 155\n",
      "import math\n",
      "## Initail fragment of KE\n",
      "MU = 235.043923\n",
      "mn = 1.008665 \n",
      "MXE = 138.918787\n",
      "MSr = 94.919358\n",
      "Ep = abs(MU+mn-MXE-MSr-(2*mn*931.5)) \n",
      "print'%s %.2f %s'%(\"Ep = \",Ep,\" keV\")## Answer provided in the textbook is wrong\n",
      "##Answers may vary due to round off error\n"
     ],
     "language": "python",
     "metadata": {},
     "outputs": [
      {
       "output_type": "stream",
       "stream": "stdout",
       "text": [
        "Ep =  1876.93  keV\n"
       ]
      }
     ],
     "prompt_number": 3
    },
    {
     "cell_type": "heading",
     "level": 2,
     "metadata": {},
     "source": [
      "Ex5-pg158"
     ]
    },
    {
     "cell_type": "code",
     "collapsed": false,
     "input": [
      "##Chapter 6, Example 6.5, Page 158\n",
      "import math\n",
      "## Energy released\n",
      "MLa = 138.906348\n",
      "MMo = 94.905842\n",
      "MXE = 138.918787\n",
      "MSr = 94.919358\n",
      "Ep = (MXE+MSr-MLa-MMo)*(931.5)\n",
      "print'%s %.2f %s'%(\"Ep = \",Ep,\" MeV\")\n",
      "##Answers may vary due to round off error\n"
     ],
     "language": "python",
     "metadata": {},
     "outputs": [
      {
       "output_type": "stream",
       "stream": "stdout",
       "text": [
        "Ep =  24.18  MeV\n"
       ]
      }
     ],
     "prompt_number": 4
    }
   ],
   "metadata": {}
  }
 ]
}