{
 "metadata": {
  "name": "",
  "signature": "sha256:615fca448ec28e80f5168265a9da46072d0ab2b9538be3fb4df1fcd07213273a"
 },
 "nbformat": 3,
 "nbformat_minor": 0,
 "worksheets": [
  {
   "cells": [
    {
     "cell_type": "heading",
     "level": 1,
     "metadata": {},
     "source": [
      "Chapter10-Principles of Nuclear Reactors "
     ]
    },
    {
     "cell_type": "heading",
     "level": 2,
     "metadata": {},
     "source": [
      "Ex1-pg-pg280"
     ]
    },
    {
     "cell_type": "code",
     "collapsed": false,
     "input": [
      "##Chapter 10, Example 10.1, Page 280\n",
      "import math\n",
      "## Thermal utilization factor\n",
      "Summation = ((0.0055*103.4)+(0.720*687)+(99.2745*2.73))/100\n",
      "sigma = 0.0034\n",
      "f = 7.662/(7.662+(sigma*450.))\n",
      "print'%s %.2f %s'%(\"Total thermal macroscopic = \",Summation,\" N^U cm^1\\n\")\n",
      "print'%s %.2f %s'%(\" f = \\n\",f,\"\")\n",
      "## Answer may vary due to round off error\n"
     ],
     "language": "python",
     "metadata": {},
     "outputs": [
      {
       "output_type": "stream",
       "stream": "stdout",
       "text": [
        "Total thermal macroscopic =  7.66  N^U cm^1\n",
        "\n",
        " f = \n",
        " 0.83 \n"
       ]
      }
     ],
     "prompt_number": 1
    },
    {
     "cell_type": "heading",
     "level": 2,
     "metadata": {},
     "source": [
      "Ex2-pg280"
     ]
    },
    {
     "cell_type": "code",
     "collapsed": false,
     "input": [
      "##Chapter 10, Example 10.2, Page 280\n",
      "import math\n",
      "## Thermal fission factor\n",
      "neeta = (2.42*587.)/(687. +(2.73*0.98/0.02))\n",
      "print'%s %.2f %s'%(\" Thermal fission factor = \\n\",neeta,\"\")\n",
      "## Answer may vary due to round off error\n"
     ],
     "language": "python",
     "metadata": {},
     "outputs": [
      {
       "output_type": "stream",
       "stream": "stdout",
       "text": [
        " Thermal fission factor = \n",
        " 1.73 \n"
       ]
      }
     ],
     "prompt_number": 2
    },
    {
     "cell_type": "heading",
     "level": 2,
     "metadata": {},
     "source": [
      "Ex3-pg282"
     ]
    },
    {
     "cell_type": "code",
     "collapsed": false,
     "input": [
      "##Chapter 10, Example 10.3, Page 282\n",
      "import math\n",
      "## Find the probability\n",
      "P = math.exp(-6.85*10**-4*368.)\n",
      "Pnl = 1./(1.+(578.*6.85*10**-4))\n",
      "print'%s %.2f %s'%(\"Fast-neutron nonleakage probability =  \\n\",P,\"\")\n",
      "print'%s %.2f %s'%(\" Thermal-neutron nonleakage probability =  \\n\",Pnl,\"\")\n",
      "## Answer may vary due to round off error\n"
     ],
     "language": "python",
     "metadata": {},
     "outputs": [
      {
       "output_type": "stream",
       "stream": "stdout",
       "text": [
        "Fast-neutron nonleakage probability =  \n",
        " 0.78 \n",
        " Thermal-neutron nonleakage probability =  \n",
        " 0.72 \n"
       ]
      }
     ],
     "prompt_number": 3
    },
    {
     "cell_type": "heading",
     "level": 2,
     "metadata": {},
     "source": [
      "Ex4-pg283"
     ]
    },
    {
     "cell_type": "code",
     "collapsed": false,
     "input": [
      "##Chapter 10, Example 10.4, Page 283\n",
      "import math\n",
      "## k of a homogeneous\n",
      "f = 687./(687. +(0.0034*40000.))\n",
      "k = 2.07*f\n",
      "print'%s %.2f %s'%(\"f =\\n\",f,\"\")\n",
      "print'%s %.2f %s'%(\" k =  \\n\",k,\"\")\n",
      "##Answer may vary due to round off error\n"
     ],
     "language": "python",
     "metadata": {},
     "outputs": [
      {
       "output_type": "stream",
       "stream": "stdout",
       "text": [
        "f =\n",
        " 0.83 \n",
        " k =  \n",
        " 1.73 \n"
       ]
      }
     ],
     "prompt_number": 4
    },
    {
     "cell_type": "heading",
     "level": 2,
     "metadata": {},
     "source": [
      "Ex5-pg284"
     ]
    },
    {
     "cell_type": "code",
     "collapsed": false,
     "input": [
      "##Chapter 10, Example 10.5, Page 284\n",
      "import math\n",
      "##Calculate radius R \n",
      "L = 578.\n",
      "T = 368.\n",
      "Bc = 6.358*10**-4\n",
      "R = math.sqrt(math.pi**2/Bc)\n",
      "print'%s %.2f %s'%(\" R = \",R,\" cm \\n\")\n",
      "##Answer may vary due to round off error\n"
     ],
     "language": "python",
     "metadata": {},
     "outputs": [
      {
       "output_type": "stream",
       "stream": "stdout",
       "text": [
        " R =  124.59  cm \n",
        "\n"
       ]
      }
     ],
     "prompt_number": 5
    },
    {
     "cell_type": "heading",
     "level": 2,
     "metadata": {},
     "source": [
      "Ex6-pg285"
     ]
    },
    {
     "cell_type": "code",
     "collapsed": false,
     "input": [
      "##Chapter 10, Example 10.6, Page 285\n",
      "import math\n",
      "## mass of U235\n",
      "m = (((4./3.)*math.pi*125**3*1.60)*235.)/(40000.*12.)\n",
      "print'%s %.2f %s'%(\" m = \",m*10**-3,\" kg \\n\")\n",
      "##Answer may vary due to round off error\n"
     ],
     "language": "python",
     "metadata": {},
     "outputs": [
      {
       "output_type": "stream",
       "stream": "stdout",
       "text": [
        " m =  6.41  kg \n",
        "\n"
       ]
      }
     ],
     "prompt_number": 6
    },
    {
     "cell_type": "heading",
     "level": 2,
     "metadata": {},
     "source": [
      "Ex7-pg285"
     ]
    },
    {
     "cell_type": "code",
     "collapsed": false,
     "input": [
      "##Chapter 10, Example 10.7, Page 285\n",
      "import math\n",
      "## Keff\n",
      "Keff = 1./(1.-0.0065*0.1)\n",
      "print'%s %.2f %s'%(\" Keff =  \\n\",Keff,\"\")\n",
      "##Answer may vary due to round off error\n"
     ],
     "language": "python",
     "metadata": {},
     "outputs": [
      {
       "output_type": "stream",
       "stream": "stdout",
       "text": [
        " Keff =  \n",
        " 1.00 \n"
       ]
      }
     ],
     "prompt_number": 7
    },
    {
     "cell_type": "heading",
     "level": 2,
     "metadata": {},
     "source": [
      "Ex8-pg293"
     ]
    },
    {
     "cell_type": "code",
     "collapsed": false,
     "input": [
      "##Chapter 10, Example 10.8, Page 293\n",
      "import math\n",
      "##Resulting reactor period\n",
      "bt = 0.0065\n",
      "dt = 0.00065\n",
      "T = (bt*12.8)/dt\n",
      "Pt = 10000.\n",
      "P0 = 10.\n",
      "t = T*math.log(Pt/P0)\n",
      "print'%s %.2f %s'%(\" Resulting reactor period = \",T,\" sec \\n\")\n",
      "print'%s %.2f %s'%(\" t = \",t,\" sec\\n\")\n",
      "##Answer may vary due to round off error\n"
     ],
     "language": "python",
     "metadata": {},
     "outputs": [
      {
       "output_type": "stream",
       "stream": "stdout",
       "text": [
        " Resulting reactor period =  128.00  sec \n",
        "\n",
        " t =  884.19  sec\n",
        "\n"
       ]
      }
     ],
     "prompt_number": 8
    }
   ],
   "metadata": {}
  }
 ]
}