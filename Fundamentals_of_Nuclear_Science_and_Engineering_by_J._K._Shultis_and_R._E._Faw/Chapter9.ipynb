{
 "metadata": {
  "name": "",
  "signature": "sha256:6ae20e76b3bdc7d8c5de9cafdbe6e63187507120fadaafe9b784e659fcf06867"
 },
 "nbformat": 3,
 "nbformat_minor": 0,
 "worksheets": [
  {
   "cells": [
    {
     "cell_type": "heading",
     "level": 1,
     "metadata": {},
     "source": [
      "Chapter9-Radiation Doses and Hazard Assessment"
     ]
    },
    {
     "cell_type": "heading",
     "level": 2,
     "metadata": {},
     "source": [
      "Ex1-pg241"
     ]
    },
    {
     "cell_type": "code",
     "collapsed": false,
     "input": [
      "##Chapter 9, Example 9.1, Page 241\n",
      "import math\n",
      "## Iron kerma and absorbed dose rates\n",
      "Sp = 10**14\n",
      "r = 100.\n",
      "mew = 0.03031\n",
      "mtr = 0.02112 ## mew/pro\n",
      "men = 0.01983 ## mew/pro\n",
      "p0 = 10**-6*Sp*math.exp(-mew*r)/(4.*math.pi*r**2)\n",
      "K0 = 1.602*10**-10*mtr*p0\n",
      "D0 = 1.602*10**-10*men*p0\n",
      "print'%s %.2e %s'%(\"p0 = \",p0,\" cm^-2s^-1\\n\")\n",
      "print'%s %.2e %s'%(\" K0 = \",K0,\" Gy/s\\n\")\n",
      "print'%s %.2e %s'%(\" D0 = \",D0,\" Gy/s\\n\")\n",
      "## Answers may vary due to round off error\n"
     ],
     "language": "python",
     "metadata": {},
     "outputs": [
      {
       "output_type": "stream",
       "stream": "stdout",
       "text": [
        "p0 =  3.84e+01  cm^-2s^-1\n",
        "\n",
        " K0 =  1.30e-10  Gy/s\n",
        "\n",
        " D0 =  1.22e-10  Gy/s\n",
        "\n"
       ]
      }
     ],
     "prompt_number": 1
    },
    {
     "cell_type": "heading",
     "level": 2,
     "metadata": {},
     "source": [
      "Ex2-pg242"
     ]
    },
    {
     "cell_type": "code",
     "collapsed": false,
     "input": [
      "##Chapter 9, Example 9.2, Page 242\n",
      "import math\n",
      "## kerma rate \n",
      "fsMs = (0.6022/18.)*((2.*12.8*0.5)+(3.5*0.1107))\n",
      "K = 1.602*10**-10*fsMs*10**10*0.1\n",
      "print'%s %.2f %s'%(\"fsUs/p = \",fsMs,\" cm^2/g\\n\")\n",
      "print'%s %.2f %s'%(\" K = \",K,\" Gy/s\\n\")\n",
      "## Answers may vary due to round off error\n"
     ],
     "language": "python",
     "metadata": {},
     "outputs": [
      {
       "output_type": "stream",
       "stream": "stdout",
       "text": [
        "fsUs/p =  0.44  cm^2/g\n",
        "\n",
        " K =  0.07  Gy/s\n",
        "\n"
       ]
      }
     ],
     "prompt_number": 2
    },
    {
     "cell_type": "heading",
     "level": 2,
     "metadata": {},
     "source": [
      "Ex3-pg245"
     ]
    },
    {
     "cell_type": "code",
     "collapsed": false,
     "input": [
      "##Chapter 9, Example 9.3, Page 245\n",
      "import math\n",
      "##Find fluence and H\n",
      "Sp = 10**9\n",
      "dt = 600.\n",
      "r = 1500.\n",
      "E = 0.03103\n",
      "phi = Sp*dt/(4.*math.pi*r**2)\n",
      "H = 1.602*10**-10*E*phi\n",
      "print'%s %.2f %s'%(\"fluence = \",phi,\" cm^2\\n\")\n",
      "print'%s %.2f %s'%(\" H = \",H*10**8,\" microSv\\n\")\n",
      "## Answer may vary due to round off error\n"
     ],
     "language": "python",
     "metadata": {},
     "outputs": [
      {
       "output_type": "stream",
       "stream": "stdout",
       "text": [
        "fluence =  21220.66  cm^2\n",
        "\n",
        " H =  10.55  microSv\n",
        "\n"
       ]
      }
     ],
     "prompt_number": 3
    }
   ],
   "metadata": {}
  }
 ]
}