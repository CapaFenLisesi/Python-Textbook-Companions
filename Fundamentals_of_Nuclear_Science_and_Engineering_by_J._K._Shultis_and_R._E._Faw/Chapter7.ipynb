{
 "metadata": {
  "name": "",
  "signature": "sha256:a208b725eaad749150cb1a958f3f9f66c7857f647e4f4702b96eb1b81d5d504a"
 },
 "nbformat": 3,
 "nbformat_minor": 0,
 "worksheets": [
  {
   "cells": [
    {
     "cell_type": "heading",
     "level": 1,
     "metadata": {},
     "source": [
      "Chapter7-Radiation Interactions with Matter"
     ]
    },
    {
     "cell_type": "heading",
     "level": 2,
     "metadata": {},
     "source": [
      "Ex1-pg177"
     ]
    },
    {
     "cell_type": "code",
     "collapsed": false,
     "input": [
      "##Chapter 7, Example 7.1, Page 177\n",
      "import math\n",
      "## Thickness of shield\n",
      "Wmu = 0.07066 ## meu of water\n",
      "Lmu = 0.7721 ## meu of lead\n",
      "Wx= math.log(10.)*(1./Wmu)\n",
      "Lx= math.log(10.)*(1./Lmu)\n",
      "print'%s %.2f %s'%(\"Thickness of water shield = \",Wx,\" cm\\n\")\n",
      "print'%s %.2f %s'%(\" Thickness of lead shield = \",Lx,\" cm\")\n",
      "##Answers may vary due to round off error\n"
     ],
     "language": "python",
     "metadata": {},
     "outputs": [
      {
       "output_type": "stream",
       "stream": "stdout",
       "text": [
        "Thickness of water shield =  32.59  cm\n",
        "\n",
        " Thickness of lead shield =  2.98  cm\n"
       ]
      }
     ],
     "prompt_number": 1
    },
    {
     "cell_type": "heading",
     "level": 2,
     "metadata": {},
     "source": [
      "Ex2-pg179"
     ]
    },
    {
     "cell_type": "code",
     "collapsed": false,
     "input": [
      "##Chapter 7, Example 7.2, Page 179\n",
      "import math\n",
      "## Total interaction coefficient\n",
      "Femu = 0.05951 ## meu/p of iron \n",
      "Pbmu = 0.06803 ## meu/p of lead\n",
      "w = 0.5\n",
      "mew= (w*Femu)+(w*Pbmu)\n",
      "Pmix = 2.*(1./((1./7.784)+(1./11.35)))\n",
      "mmix = mew*Pmix\n",
      "print'%s %.2f %s'%(\"(mew/p)^mix = \",mew,\" cm^2/g\\n\")\n",
      "print'%s %.2f %s'%(\" (mew)^mix = \",mmix,\" cm^-1\")\n",
      "##Answers may vary due to round off error\n"
     ],
     "language": "python",
     "metadata": {},
     "outputs": [
      {
       "output_type": "stream",
       "stream": "stdout",
       "text": [
        "(mew/p)^mix =  0.06  cm^2/g\n",
        "\n",
        " (mew)^mix =  0.59  cm^-1\n"
       ]
      }
     ],
     "prompt_number": 2
    },
    {
     "cell_type": "heading",
     "level": 2,
     "metadata": {},
     "source": [
      "Ex3-pg180"
     ]
    },
    {
     "cell_type": "code",
     "collapsed": false,
     "input": [
      "##Chapter 7, Example 7.3, Page 180\n",
      "import math\n",
      "## Absorption coefficient\n",
      "AbsC = 0.03343*((2*0.99985*0.333)+(2*0.00015*0.000506)+(0.99756*0.000190)+(0.00039*0.239)+(0.000160*0.00205))\n",
      "print'%s %.2f %s'%(\" Absorption coefficient = \",AbsC,\" cm^-1\")\n",
      "##Answers may vary due to round off error\n"
     ],
     "language": "python",
     "metadata": {},
     "outputs": [
      {
       "output_type": "stream",
       "stream": "stdout",
       "text": [
        " Absorption coefficient =  0.02  cm^-1\n"
       ]
      }
     ],
     "prompt_number": 3
    },
    {
     "cell_type": "heading",
     "level": 2,
     "metadata": {},
     "source": [
      "Ex4-pg186"
     ]
    },
    {
     "cell_type": "code",
     "collapsed": false,
     "input": [
      "##Chapter 7, Example 7.4, Page 186\n",
      "import math\n",
      "## Flux density\n",
      "Sp = 1.295*10**13\n",
      "r = 100.\n",
      "mew = 0.3222\n",
      "phimax = 2.*10**3\n",
      "phi = Sp*10**-2/(4.*math.pi*r**2)\n",
      "t = -(1./mew)*math.log(phimax/phi)\n",
      "print'%s %.2e %s'%(\"phi = \",phi,\" cm^-2/s^-1\\n\")\n",
      "print'%s %.2f %s'%(\" t = \",t,\" cm^-1\")\n",
      "##Answers may vary due to round off error\n"
     ],
     "language": "python",
     "metadata": {},
     "outputs": [
      {
       "output_type": "stream",
       "stream": "stdout",
       "text": [
        "phi =  1.03e+06  cm^-2/s^-1\n",
        "\n",
        " t =  19.38  cm^-1\n"
       ]
      }
     ],
     "prompt_number": 4
    },
    {
     "cell_type": "heading",
     "level": 2,
     "metadata": {},
     "source": [
      "Ex5-pg199"
     ]
    },
    {
     "cell_type": "code",
     "collapsed": false,
     "input": [
      "##Chapter 7, Example 7.5, Page 199\n",
      "import math\n",
      "## Activity of the sample\n",
      "lambd = 7.466*10**-5\n",
      "m = 2.\n",
      "Na = 0.6022*10**24\n",
      "A = 55.\n",
      "sigma  = 13.3*10**-24\n",
      "delta = 10**13\n",
      "t = 120.\n",
      "Activity= lambd*(m*Na/A)*sigma*delta*t\n",
      "print'%s %.2e %s'%(\"Activity = \",Activity,\" Bq\\n\")\n",
      "\n",
      "##Answers may vary due to round off error\n"
     ],
     "language": "python",
     "metadata": {},
     "outputs": [
      {
       "output_type": "stream",
       "stream": "stdout",
       "text": [
        "Activity =  2.61e+10  Bq\n",
        "\n"
       ]
      }
     ],
     "prompt_number": 5
    },
    {
     "cell_type": "heading",
     "level": 2,
     "metadata": {},
     "source": [
      "Ex6-pg206"
     ]
    },
    {
     "cell_type": "code",
     "collapsed": false,
     "input": [
      "##Chapter 7, Example 7.6, Page 206\n",
      "import math\n",
      "## Energy required\n",
      "Z = 79.\n",
      "E = 700./Z\n",
      "print'%s %.2f %s'%(\"E = \",E,\" MeV\\n\")\n",
      "\n",
      "##Answers may vary due to round off error\n"
     ],
     "language": "python",
     "metadata": {},
     "outputs": [
      {
       "output_type": "stream",
       "stream": "stdout",
       "text": [
        "E =  8.86  MeV\n",
        "\n"
       ]
      }
     ],
     "prompt_number": 6
    },
    {
     "cell_type": "heading",
     "level": 2,
     "metadata": {},
     "source": [
      "Ex7-pg209"
     ]
    },
    {
     "cell_type": "code",
     "collapsed": false,
     "input": [
      "##Chapter 7, Example 7.7, Page 209\n",
      "import math\n",
      "## Range in water\n",
      "\n",
      "pow = -2.150484\n",
      "Rp = 10**pow\n",
      "RT = 3*Rp\n",
      "print'%s %.2f %s'%(\"Rp = \",Rp,\" cm\\n\")\n",
      "print'%s %.2f %s'%(\"RT = \",RT,\" cm\\n\")\n",
      "##Answers may vary due to round off error\n"
     ],
     "language": "python",
     "metadata": {},
     "outputs": [
      {
       "output_type": "stream",
       "stream": "stdout",
       "text": [
        "Rp =  0.01  cm\n",
        "\n",
        "RT =  0.02  cm\n",
        "\n"
       ]
      }
     ],
     "prompt_number": 7
    }
   ],
   "metadata": {}
  }
 ]
}