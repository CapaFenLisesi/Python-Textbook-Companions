{
 "metadata": {
  "name": "",
  "signature": "sha256:a6706b1f8cc5316769fb296c7fe5c20be8f5169f65457409cc3764cca16a4beb"
 },
 "nbformat": 3,
 "nbformat_minor": 0,
 "worksheets": [
  {
   "cells": [
    {
     "cell_type": "heading",
     "level": 1,
     "metadata": {},
     "source": [
      "Chapter2-Modern Physics Concepts"
     ]
    },
    {
     "cell_type": "heading",
     "level": 2,
     "metadata": {},
     "source": [
      "Ex1-pg29"
     ]
    },
    {
     "cell_type": "code",
     "collapsed": false,
     "input": [
      "##Chapter 2, Example 2.1, Page 29\n",
      "import math\n",
      "##Find the inscrease in mass of the Satellite\n",
      "v = 7.5*10**3\n",
      "c = 2.998*10**8\n",
      "##Calculating the expression using the taylor series\n",
      "FMI = (1/2.)*(v**2/c**2)\n",
      "print'%s %.2e %s'%(\"The fractional mass increase = \",FMI,\"\"); \n",
      "##Answers may vary due to round off error\n"
     ],
     "language": "python",
     "metadata": {},
     "outputs": [
      {
       "output_type": "stream",
       "stream": "stdout",
       "text": [
        "The fractional mass increase =  3.13e-10 \n"
       ]
      }
     ],
     "prompt_number": 1
    },
    {
     "cell_type": "heading",
     "level": 2,
     "metadata": {},
     "source": [
      "Ex2-pg33"
     ]
    },
    {
     "cell_type": "code",
     "collapsed": false,
     "input": [
      "##Chapter 2, Example 2.2, Page 33\n",
      "import math\n",
      "##Find the energy equivalent in MeV of the electron rest mass\n",
      "m1 = 9.109*10**-31 ## kg\n",
      "m2 = 5.486*10**-4 ## atomic mass units\n",
      "c1 = 2.998*10**8 ## m/s\n",
      "c2 = 931.49 ## MeV/u\n",
      "E1 = (m1*c1*c1)/(1.602*10**-13)\n",
      "E2 = m2*c2\n",
      "print'%s %.2f %s'%(\"E = \",E1,\" MeV\");\n",
      "print'%s %.2f %s'%(\"\\n E measured in atomic mass unit and appropriate conversion factor= \",E2,\" MeV\");\n",
      "\n",
      "##Answers may vary due to round off error\n"
     ],
     "language": "python",
     "metadata": {},
     "outputs": [
      {
       "output_type": "stream",
       "stream": "stdout",
       "text": [
        "E =  0.51  MeV\n",
        "\n",
        " E measured in atomic mass unit and appropriate conversion factor=  0.51  MeV\n"
       ]
      }
     ],
     "prompt_number": 2
    },
    {
     "cell_type": "heading",
     "level": 2,
     "metadata": {},
     "source": [
      "Ex3-pg37"
     ]
    },
    {
     "cell_type": "code",
     "collapsed": false,
     "input": [
      "##Chapter 2, Example 2.3, Page 37\n",
      "import math\n",
      "##maximum wavelength of light required to liberate photoelectrons \n",
      "A = 2.35 ##eV\n",
      "h = 4.136*10**-15 ## eV/s^-1\n",
      "c = 2.998*10**8 ## m/s\n",
      "v = A/h\n",
      "w = c/v\n",
      "print'%s %.2e %s'%(\"v-min = \",v,\" s^-1\");\n",
      "print'%s %.2f %s'%(\"\\n Maximum wavelength = \",w*10**9,\" nm which corresponds to green\");\n",
      "\n",
      "##Answers may vary due to round off error\n"
     ],
     "language": "python",
     "metadata": {},
     "outputs": [
      {
       "output_type": "stream",
       "stream": "stdout",
       "text": [
        "v-min =  5.68e+14  s^-1\n",
        "\n",
        " Maximum wavelength =  527.65  nm which corresponds to green\n"
       ]
      }
     ],
     "prompt_number": 3
    },
    {
     "cell_type": "heading",
     "level": 2,
     "metadata": {},
     "source": [
      "Ex4-pg39"
     ]
    },
    {
     "cell_type": "code",
     "collapsed": false,
     "input": [
      "##Chapter 2, Example 2.4, Page 39\n",
      "import math\n",
      "##Recoil Kinetic Energy\n",
      "m1 = 9.109*10**-31 ## kg\n",
      "c1 = 2.998*10**8 ## m/s\n",
      "E = 3. ##Mev\n",
      "mc2 = (m1*c1*c1)/(1.602*10**-13) ## converting to MeV\n",
      "E1 = 1./((1./E)+(1./mc2)*(1.-math.cos(math.pi/4.))) \n",
      "print'%s %.2f %s'%(\"\\n Recoil kinetic energy = \",E1,\" MeV\");\n",
      "\n",
      "##Answers may vary due to round off error\n"
     ],
     "language": "python",
     "metadata": {},
     "outputs": [
      {
       "output_type": "stream",
       "stream": "stdout",
       "text": [
        "\n",
        " Recoil kinetic energy =  1.10  MeV\n"
       ]
      }
     ],
     "prompt_number": 4
    }
   ],
   "metadata": {}
  }
 ]
}