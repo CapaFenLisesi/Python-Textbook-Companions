{
 "metadata": {
  "name": ""
 },
 "nbformat": 3,
 "nbformat_minor": 0,
 "worksheets": [
  {
   "cells": [
    {
     "cell_type": "heading",
     "level": 1,
     "metadata": {},
     "source": [
      "Chapter 9: Single- and Two-Phase Motors"
     ]
    },
    {
     "cell_type": "heading",
     "level": 3,
     "metadata": {},
     "source": [
      "Example 9.1, Page number: 459"
     ]
    },
    {
     "cell_type": "code",
     "collapsed": false,
     "input": [
      "from __future__ import division\n",
      "from sympy import *\n",
      "import math\n",
      "\n",
      "#Variable declaration:\n",
      "Zmain=4.5+3.7j                              #main winding impedance(ohm)\n",
      "Zaux=9.5+3.5j                               #auxilliary winding impedance(ohm)\n",
      "f=60                                        #frequency(Hz)\n",
      "\n",
      "\n",
      "#Calculations:\n",
      "phy_main=math.degrees(math.atan(Zmain.imag/Zmain.real))\n",
      "phy=phy_main-90\n",
      "w=2*pi*60\n",
      "Xc=symbols('Xc')\n",
      "a=solve((3.5+Xc)/9.5-math.tan(math.radians(float(phy))), Xc)\n",
      "C=-1/(w*a[0])\n",
      "\n",
      "\n",
      "#Results:\n",
      "print \"The starting capacitance:\",round(float(C)*10**6,0), \"uF\""
     ],
     "language": "python",
     "metadata": {},
     "outputs": [
      {
       "output_type": "stream",
       "stream": "stdout",
       "text": [
        "The starting capacitance: 176.0 uF\n"
       ]
      }
     ],
     "prompt_number": 1
    },
    {
     "cell_type": "heading",
     "level": 3,
     "metadata": {},
     "source": [
      "Example 9.2, Page number: 467"
     ]
    },
    {
     "cell_type": "code",
     "collapsed": false,
     "input": [
      "from __future__ import division\n",
      "import cmath\n",
      "from math import *\n",
      "\n",
      "\n",
      "#Variable Declaration:\n",
      "R1_m=2.02                                   #resistance of main winding(ohm)\n",
      "X1_m=2.79                                   #resistance of main\n",
      "R2_m= 4.12                                  #Rotor resistance ref. to stator(ohm)\n",
      "X2_m=2.12                                   #Rotor reactance ref. to stator(ohm)\n",
      "Xm=66.8                                     #Magnetising reactance(ohm)\n",
      "s=0.05                                      #slip\n",
      "Pcu=24                                       #copper loss(W)\n",
      "Pw=13                                       #friction & windage loss(W)\n",
      "V=110                                       #line-to-line voltage(V)\n",
      "p=4                                         #no.of poles\n",
      "fc=60                                       #frequency(Hz)\n",
      "\n",
      "#Calculations:\n",
      "X22=X2_m+Xm\n",
      "Q2_m=X22/R2_m\n",
      "Rf=(Xm**2/X22)*(1/(s*Q2_m+1/(s*Q2_m)))\n",
      "Xf=(X2_m*Xm/X22)+Rf/(s*Q2_m)\n",
      "Zf=Rf+1j*Xf                             #forward field impedance(ohm)\n",
      "\n",
      "Rb=R2_m*(Xm/X22)**2/(2-s)\n",
      "Xb=(X2_m*Xm/X22)+Rb/((2-s)*Q2_m)\n",
      "Zb=Rb+1j*Xb                             #bachward field impedance\n",
      "Zt=0.5*(Zf+Zb)+R1_m+1j*X1_m\n",
      "I=V/abs(Zt)                             #Stator current(A)\n",
      "pf=cos(cmath.phase(Zt))                 #power factor\n",
      "Pin=V*I*pf\n",
      "Pg_f=I**2*0.5*Rf                        #power absorbed by forward field(W)\n",
      "Pg_b=I**2*0.5*Rb                        #power absorbed by backward field(W)\n",
      "Pmech=(1-s)*(Pg_f-Pg_b)\n",
      "Pshaft=Pmech-(Pcu+Pw)\n",
      "ws=(2/p)*120*pi\n",
      "ns=(120/p)*fc\n",
      "n=(1-s)*ns                              #Rotor speed(rpm)\n",
      "wm=(1-s)*ws\n",
      "Tshaft=Pshaft/wm                         #shaft torque(Nm)\n",
      "eff=Pshaft/Pin\n",
      "\n",
      "#Results:\n",
      "print \"Stator current:\",round(I),\"A\", \"\\nPower factor:\",round(pf,3)\n",
      "print \"Power output:\",round(Pshaft),\"W\", \"\\nSpeed:\",n,\"rpm\"\n",
      "print \"Shaft torque:\",round(Tshaft,3),\"Nm\",\"Efficiency\",round(eff*100),\"%\""
     ],
     "language": "python",
     "metadata": {},
     "outputs": [
      {
       "output_type": "stream",
       "stream": "stdout",
       "text": [
        "Stator current: 4.0 A \n",
        "Power factor: 0.621\n",
        "Power output: 147.0 W \n",
        "Speed: 1710.0 rpm\n",
        "Shaft torque: 0.823 Nm Efficiency 60.0 %\n"
       ]
      }
     ],
     "prompt_number": 2
    },
    {
     "cell_type": "heading",
     "level": 3,
     "metadata": {},
     "source": [
      "Example 9.3, Page number: 474"
     ]
    },
    {
     "cell_type": "code",
     "collapsed": false,
     "input": [
      "from __future__ import division\n",
      "import math\n",
      "import cmath\n",
      "\n",
      "\n",
      "#Variable declaration:\n",
      "f=60                                        #freq(Hz)\n",
      "omeag=2*pi*f\n",
      "s=0.05                                      #slip\n",
      "R1=0.534                                    #resistance of main winding(ohm)\n",
      "X1=2.45\n",
      "Xm=70.1\n",
      "R2=0.956\n",
      "X2=2.96\n",
      "Valpha=230\n",
      "Vbeta=210*cmath.exp(1j*80*pi/180)\n",
      "\n",
      "#Calculations:\n",
      "Vf = 0.5*(Valpha - 1j*Vbeta)\n",
      "Vb = 0.5*(Valpha + 1j*Vbeta)\n",
      "Zf=R1+1j*X1+1j*Xm*(R2/s+1j*X2)/(R2/s+1j*(X2+Xm))\n",
      "If=Vf/Zf\n",
      "Zb=R1+1j*X1+1j*Xm*(R2/(2-s)+1j*X2)/(R2/(2-s)+1j*(X2+Xm))\n",
      "Ib = Vb/Zb\n",
      "Ialpha=If+Ib\n",
      "Ibeta=1j*(If-Ib)\n",
      "Pgf=2*((Vf*(If.conjugate())).real-R1*abs(If)**2)\n",
      "Pgb=2*((Vb*(Ib.conjugate())).real-R1*abs(Ib)**2)\n",
      "Pmech=(1-s)*(Pgf-Pgb)\n",
      "\n",
      "\n",
      "#Results:\n",
      "print \"(a) Positive seq components:\", round(Vf.real,1)+1j*round(Vf.imag,1),\"V\"\n",
      "print\"    Negative seq. components:\", round(Vb.real,1)+1j*round(Vb.imag,1),\"V\"\n",
      "\n",
      "print\"\\n(b) Positive stator currents:\",round(If.real,1)+1j*round(If.imag,1),\"A\"\n",
      "print\"    Negative stator currnets:\",round(Ib.real,1)+1j*round(Ib.imag,1),\"A\"\n",
      "\n",
      "print\"\\n(c) Positive currents:\",round(Ialpha.real,1)+1j*round(Ialpha.imag,1),\"A\"\n",
      "print\"    Negative currnets:\",round(Ibeta.real,1)+1j*round(Ibeta.imag,1),\"A\"\n",
      "\n",
      "print \"\\n(d) Power to forward field:\",round(Pgf,0),\"W\"\n",
      "print \"    Power to backward field:\",round(Pgb,0),\"W\"\n",
      "print \"    Pmech:\",round(Pmech,0),\"W\""
     ],
     "language": "python",
     "metadata": {},
     "outputs": [
      {
       "output_type": "stream",
       "stream": "stdout",
       "text": [
        "(a) Positive seq components: (218.4-18.2j) V\n",
        "    Negative seq. components: (11.6+18.2j) V\n",
        "\n",
        "(b) Positive stator currents: (9.3-6.3j) A\n",
        "    Negative stator currnets: (3.7-1.5j) A\n",
        "\n",
        "(c) Positive currents: (13-7.8j) A\n",
        "    Negative currnets: (4.8+5.6j) A\n",
        "\n",
        "(d) Power to forward field: 4149.0 W\n",
        "    Power to backward field: 15.0 W\n",
        "    Pmech: 3928.0 W\n"
       ]
      }
     ],
     "prompt_number": 4
    },
    {
     "cell_type": "heading",
     "level": 3,
     "metadata": {},
     "source": [
      "Example 9.5, Page number: 483"
     ]
    },
    {
     "cell_type": "code",
     "collapsed": false,
     "input": [
      "from __future__ import division\n",
      "%pylab inline\n",
      "import cmath\n",
      "from math import *\n",
      "\n",
      "#Variable declaration:\n",
      "Lmain=0.0806                           #main winding inductance(H)\n",
      "Rmain = 0.58                           #main winding resistance(ohm)\n",
      "Laux = 0.196                           #auxilliary winding inductance(H)\n",
      "Raux = 3.37                            #auxilliary winding resistance(ohm)\n",
      "Lr=4.7*10**-6                          #rotor inductance(H)\n",
      "Rr=37.6*10**-6                         #rotor resistance(ohm)\n",
      "Lmain_r=0.588*10**-3                   #main inductance ref. to rotor(H)\n",
      "Laux_r = 0.909*10**-3                  #aux inductance ref. to rotor(H)\n",
      "p=2                                    #poles\n",
      "Vo=230                                 #terminal voltage(V)\n",
      "w=120*pi                               #angular frequency(Hz)\n",
      "C=35*10**-6\n",
      "Prot=40                                #Windage losses(W)\n",
      "Pcore=105                              #Core loss(W)\n",
      "n=3500                                 #rpm\n",
      "\n",
      "\n",
      "#calculations and Results:\n",
      "Xc=-1/(w*C)\n",
      "speed=[0]*102\n",
      "for cal in range(1,3,1):\n",
      "    if cal==1:\n",
      "        mmax=2\n",
      "    else:\n",
      "        mmax=102\n",
      "    for m in range(1,mmax,2):\n",
      "        if cal==1:\n",
      "            speed[m-1]=3500\n",
      "        else:\n",
      "            speed[m-1]=3599*(m-1)/100\n",
      "        \n",
      "        ns=(2/p)*3600\n",
      "        s=(ns-speed[m-1])/ns\n",
      "\n",
      "#for part (a):\n",
      "        Kplus=s*w/(2*(Rr+1j*s*w*Lr))\n",
      "        Kminus=(2-s)*w/(2*(Rr+1j*(2-s)*w*Lr))\n",
      "        A1=Lmain-1j*Lmain_r**2*(Kplus+Kminus)\n",
      "        A2=Lmain_r*Laux_r*(Kplus-Kminus)\n",
      "        A3=Laux-1j*Laux_r**2*(Kplus+Kminus)\n",
      "        M=[[0]*2,[0]*2]\n",
      "        M[0][0]=Rmain + 1j*w*A1\n",
      "        M[0][1] = 1j*w*A2;\n",
      "        M[1][0] = -1j*w*A2;\n",
      "        M[1][1] = Raux + 1j*Xc+ 1j*w*A3\n",
      "        V=[[Vo],[-Vo]]\n",
      "        M1=inv(M)\n",
      "        I=dot(M1,V)\n",
      "        Imain=I[0][0]\n",
      "        Iaux=I[1][0]\n",
      "        Is=Imain-Iaux\n",
      "        magImain=abs(Imain)\n",
      "        angleImain=math.degrees(cmath.phase(Imain))\n",
      "        magIaux=abs (Iaux)\n",
      "        angleIaux=math.degrees(cmath.phase(Iaux))\n",
      "        magIs=abs(Is)\n",
      "        angleIs=math.degrees(cmath.phase(Is))\n",
      "        Vcap=Iaux*Xc\n",
      "        magVcap=abs(Vcap)\n",
      "        \n",
      "    #for part (b):\n",
      "        Tmech=[0]*102\n",
      "        Pshaft=[0]*102\n",
      "        Tmechl = (Kplus-Kminus).conjugate()\n",
      "        Tmechl=Tmechl*(Lmain_r**2*Imain*((Imain).conjugate())+Laux_r**2*Iaux*((Iaux).conjugate()))\n",
      "        Tmech2 = 1j*Lmain_r*Laux_r*((Kplus+Kminus).conjugate())\n",
      "        Tmech2 = Tmech2*((Imain).conjugate()*Iaux-Imain*((Iaux).conjugate()));\n",
      "        Tmech[m-1] = (p/2)*(Tmechl+Tmech2).real\n",
      "        Pshaft=((2/p)*(1-s)*w*Tmech[m-1])-Prot\n",
      "        \n",
      "    #for part (c):\n",
      "        Pmech=[0]*102\n",
      "        Pmain = (Vo*(Imain.conjugate())).real\n",
      "        Paux = (-Vo*(Iaux.conjugate())).real\n",
      "        Pin = Pmain+Paux+Pcore\n",
      "        eta = Pshaft/Pin;\n",
      "        if cal==1:\n",
      "            print \"part (a):\"\n",
      "            print  \"\\nImain=\",round(magImain,1),\"A  at an angle\",round(angleImain,1),\"degrees\"\n",
      "            print  \"\\nImain=\",round(magIaux,1),\"A  at an angle\",round(angleIaux,1),\"degrees\"\n",
      "            print  \"\\nImain=\",round(magIs,1),\"A  at an angle\",round(angleIs,1),\"degrees\"\n",
      "            print  \"\\nVcap=\",round(magVcap,0),\"V\"\n",
      "            print \"\\npart (b):\"\n",
      "            print \"\\nTmech=\",round(Tmech[0],2),\"Nm\"\n",
      "            print \"\\nPshaft=\",round(Pshaft),\"W\"\n",
      "            print \"\\npart (c):\"\n",
      "            print \"\\nPmain=\",round(Pmain,0),\"W\"\n",
      "            print \"\\nPaux=\",round(Paux,0),\"W\"\n",
      "            print \"\\nPin=\",round(Pin,0),\"W\"\n",
      "            print \"\\nEfficiency=\",round(eta*100,1),\"%\"\n",
      "        else:\n",
      "            \n",
      "            plot(speed,Tmech,'g.')\n",
      "            xlabel('speed (rpm)')\n",
      "            ylabel('Tmech (Nm)')\n",
      "            title('Electromagnetic torque vs speed')\n",
      "    show()"
     ],
     "language": "python",
     "metadata": {},
     "outputs": [
      {
       "output_type": "stream",
       "stream": "stdout",
       "text": [
        "Populating the interactive namespace from numpy and matplotlib\n",
        "part (a):"
       ]
      },
      {
       "output_type": "stream",
       "stream": "stdout",
       "text": [
        "\n",
        "\n",
        "Imain= 15.9 A  at an angle -37.6 degrees\n",
        "\n",
        "Imain= 5.2 A  at an angle -150.8 degrees\n",
        "\n",
        "Imain= 18.5 A  at an angle -22.7 degrees\n",
        "\n",
        "Vcap= 394.0 V\n",
        "\n",
        "part (b):\n",
        "\n",
        "Tmech= 9.75 Nm\n",
        "\n",
        "Pshaft= 3532.0 W\n",
        "\n",
        "part (c):\n",
        "\n",
        "Pmain= 2893.0 W\n",
        "\n",
        "Paux= 1043.0 W\n",
        "\n",
        "Pin= 4041.0 W\n",
        "\n",
        "Efficiency= 87.4 %\n"
       ]
      },
      {
       "output_type": "stream",
       "stream": "stderr",
       "text": [
        "WARNING: pylab import has clobbered these variables: ['Polygon', 'poly', 'sign', 'ldexp', 'hypot', 'flatten', 'conjugate', 'diff', 'tan', 'Circle', 'roots', 'plot', 'isnan', 'eye', 'trace', 'fabs', 'floor', 'diag', 'invert', 'nan', 'modf', 'sqrt', 'frexp', 'source', 'add', 'degrees', 'take', 'var', 'zeros', 'pi', 'log10', 'plotting', 'product', 'seterr', 'power', 'multinomial', 'copysign', 'transpose', 'expm1', 'ceil', 'test', 'beta', 'ones', 'isinf', 'sinh', 'vectorize', 'cosh', 'mod', 'cos', 'prod', 'e', 'f', 'tanh', 'det', 'radians', 'sin', 'binomial', 'solve', 'log', 'fmod', 'reshape', 'exp', 'trunc', 'log1p', 'gamma', 'interactive']\n",
        "`%pylab --no-import-all` prevents importing * from pylab and numpy\n"
       ]
      },
      {
       "metadata": {},
       "output_type": "display_data",
       "png": "[encoded data removed]",
       "text": [
        "<matplotlib.figure.Figure at 0x2ab5110>"
       ]
      }
     ],
     "prompt_number": 5
    }
   ],
   "metadata": {}
  }
 ]
}