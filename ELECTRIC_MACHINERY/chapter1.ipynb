{
 "metadata": {
  "name": ""
 },
 "nbformat": 3,
 "nbformat_minor": 0,
 "worksheets": [
  {
   "cells": [
    {
     "cell_type": "markdown",
     "metadata": {},
     "source": [
      "<h1>Chapter 1:Introduction to Magnetic Circuits<h1>"
     ]
    },
    {
     "cell_type": "heading",
     "level": 3,
     "metadata": {},
     "source": [
      "Example 1.1, Page number: 9"
     ]
    },
    {
     "cell_type": "code",
     "collapsed": false,
     "input": [
      "from __future__ import division\n",
      "from math import *\n",
      "#Variable declaration:\n",
      "Ac=9                            #Cross-sectional area of the core(cm**2)\n",
      "Ag=9                            #Cross-sectional area of the air-gap(cm**2)\n",
      "g=0.050                         #Air-gap length(cm)            \n",
      "lc=30                           #Mean Length of the core(cm)\n",
      "N=500                           #No. of windings\n",
      "ur=70000                        #Relative permeability of the core material\n",
      "Bc=1.0                          # Magnetic Flux Density of the core(T)\n",
      "uo=4*pi*10**-7                  #Permeability of free space\n",
      "\n",
      "#Calculation\n",
      "Rc=lc*10**-2/((ur*uo*Ac)*10**-4)\n",
      "Rg=g*10**-2/((uo*Ag)*10**-4)\n",
      "Q=Bc*Ac*10**-4\n",
      "i=Q*(Rc+Rg)/N\n",
      "\n",
      "#Results\n",
      "print \"a.Reluctance of the core,Rc:\",round(Rc,2), \"A.turns/Wb\" \n",
      "print \"  Reluctance of the air-gap,Rg:\", round(Rg,2), \"A.turns/Wb\"\n",
      "print \"b.The flux, Q:\", round(Q,4), \"Wb\"\n",
      "print \"c.The current,i:\", round(i,2), \"A\""
     ],
     "language": "python",
     "metadata": {},
     "outputs": [
      {
       "output_type": "stream",
       "stream": "stdout",
       "text": [
        "a.Reluctance of the core,Rc: 3789.4 A.turns/Wb\n",
        "  Reluctance of the air-gap,Rg: 442097.06 A.turns/Wb\n",
        "b.The flux, Q: 0.0009 Wb\n",
        "c.The current,i: 0.8 A\n"
       ]
      }
     ],
     "prompt_number": 1
    },
    {
     "cell_type": "heading",
     "level": 3,
     "metadata": {},
     "source": [
      "Example 1.2, Page number: 10"
     ]
    },
    {
     "cell_type": "code",
     "collapsed": false,
     "input": [
      "from __future__ import division\n",
      "from math import *\n",
      "#Variable declaration:\n",
      "I=10                            #Current in the coil(A)\n",
      "N=1000                          #No of turns in the rotor\n",
      "g=1                             #Air gap length(cm)\n",
      "Ag=2000                         #Cross-section of the air-gap(cm**2)\n",
      "uo=4*pi*10**-7                  #Permeability of free space\n",
      "\n",
      "#Calculation:\n",
      "Q=(N*I*uo*Ag*10**-4)/(2*g*10**-2)\n",
      "Bg=round(Q,2)/(Ag*10**-4)\n",
      "\n",
      "#Results\n",
      "print \"The air-gap flux, Q:\", round(Q,2), \"Wb\"\n",
      "print \"The flux density, Bg:\", round(Bg,4), \"T\"\n"
     ],
     "language": "python",
     "metadata": {},
     "outputs": [
      {
       "output_type": "stream",
       "stream": "stdout",
       "text": [
        "The air-gap flux, Q: 0.13 Wb\n",
        "The flux density, Bg: 0.65 T\n"
       ]
      }
     ],
     "prompt_number": 2
    },
    {
     "cell_type": "heading",
     "level": 3,
     "metadata": {},
     "source": [
      "Example 1.4, Page number: 13"
     ]
    },
    {
     "cell_type": "code",
     "collapsed": false,
     "input": [
      "from __future__ import division\n",
      "from math import *\n",
      "#Variable declaration\n",
      "lc=0.3                                  #length of the core(cm)\n",
      "ur1=72300                               #Relative permeablity for case(a)\n",
      "ur2=2900                                #Relative permeablity for case(b)\n",
      "Ac=9                                    #Cross-section of the core(cm**2)\n",
      "Rg=4.42*10**5                           #Reluctance of the air-gap(A.turns/Wb)\n",
      "N=500                                   #No of coil turns\n",
      "uo=4*pi*10**-7                          #Permeability of free space(H/m)\n",
      "\n",
      "#Calculations:\n",
      "Rt1=(lc/(ur1*uo*Ac*10**-4))+Rg\n",
      "L1=N**2/Rt1\n",
      "Rt2=(lc/(ur2*uo*Ac*10**-4))+Rg\n",
      "L2=N**2/Rt2\n",
      "\n",
      "\n",
      "\n",
      "#Results:\n",
      "print \"(a)Inductance,L:\",round(L1,2),\"H\"\n",
      "print \"(b)Inductance,L:\",round(L2,2),\"H\""
     ],
     "language": "python",
     "metadata": {},
     "outputs": [
      {
       "output_type": "stream",
       "stream": "stdout",
       "text": [
        "(a)Inductance,L: 0.56 H\n",
        "(b)Inductance,L: 0.47 H\n"
       ]
      }
     ],
     "prompt_number": 3
    },
    {
     "cell_type": "heading",
     "level": 3,
     "metadata": {},
     "source": [
      "Example 1.5, Page number: 15"
     ]
    },
    {
     "cell_type": "code",
     "collapsed": false,
     "input": [
      "from __future__ import division\n",
      "from pylab import *\n",
      "from matplotlib import *\n",
      "from math import *\n",
      "%matplotlib inline\n",
      "#Variable declaration:\n",
      "Ac=9e-4                                 #Cross-section of the core(m)\n",
      "Ag=9e-4                                 #Cross-section of the air-gap(m)\n",
      "g=5e-4                                  #Air-gap length(m)\n",
      "lc=0.3                                  #Mean length of the core(m)\n",
      "N=500                                   #No. of turns of the core(m)\n",
      "uo=4*pi*10**-7                          #Permeability of free space(H/m)\n",
      "\n",
      "#Calculations:\n",
      "Rg=g/(uo*Ag)                            #Reluctance of the air-gap(A.turns/Wb)\n",
      "ur=[0]*200                              #Initialising array\n",
      "L=[0]*200\n",
      "\n",
      "for n in range(1,101,1):\n",
      "    ur[n-1]=100+(10000-100)*(n-1)/100\n",
      "    Rc=lc/(ur[n-1]*uo*Ac)               #Reluctance of the core(A.turns/Wb)\n",
      "    Rtot=Rg+Rc\n",
      "    L[n-1]=(N**2)/Rtot                  #Inductance(H)\n",
      "    \n",
      "\n",
      "#Results:\n",
      "print \"The reqired plot is shown below:\"\n",
      "plot(ur, L,'g.')\n",
      "xlabel('Core relative permeability, ur')\n",
      "ylabel('Inductance,L (H) ')\n",
      "title('plot of inductance vs. relative permeability for Example 1.5.')\n",
      "show()"
     ],
     "language": "python",
     "metadata": {},
     "outputs": [
      {
       "output_type": "stream",
       "stream": "stdout",
       "text": [
        "Populating the interactive namespace from numpy and matplotlib\n",
        "The reqired plot is shown below:\n"
       ]
      },
      {
       "output_type": "stream",
       "stream": "stderr",
       "text": [
        "WARNING: pylab import has clobbered these variables: ['streamplot', 'rc', 'tri', 'axes', 'sinh', 'legend', 'trunc', 'rc_context', 'figure', 'f', 'quiver', 'tan', 'axis', 'cosh', 'degrees', 'radians', 'fmod', 'expm1', 'ldexp', 'linalg', 'exp', 'draw_if_interactive', 'text', 'random', 'colors', 'stackplot', 'frexp', 'ceil', 'contour', 'isnan', 'copysign', 'cos', 'fft', 'tanh', 'colorbar', 'fabs', 'sqrt', 'rcdefaults', 'hypot', 'table', 'power', 'gamma', 'log', 'log10', 'info', 'log1p', 'floor', 'modf', 'test', 'pi', 'isinf', 'e', 'sin']\n",
        "`%pylab --no-import-all` prevents importing * from pylab and numpy\n"
       ]
      },
      {
       "metadata": {},
       "output_type": "display_data",
       "png": "[encoded data removed]",
       "text": [
        "<matplotlib.figure.Figure at 0x31b54d0>"
       ]
      }
     ],
     "prompt_number": 4
    },
    {
     "cell_type": "heading",
     "level": 3,
     "metadata": {},
     "source": [
      "Example 1.6, Page number: 19"
     ]
    },
    {
     "cell_type": "code",
     "collapsed": false,
     "input": [
      "from __future__ import division\n",
      "from sympy import *\n",
      "\n",
      "#Variable declaration:\n",
      "Bc=1.0                                 #Magnetic field induction in the core\n",
      "w=377                                  #Angular frequency of magnetic field(rad/s)\n",
      "Rc=3791.33                             #Reluctance of the core(A.turns/Wb)\n",
      "Rg=442321.3                            #Reluctance of the air-gap(A.turns/Wb)\n",
      "N=500                                  #No. of windings\n",
      "i=0.80                                 #Current in the coil\n",
      "Ac=9*10**-4                            #Cross-section of the core\n",
      "\n",
      "\n",
      "#Calculations:\n",
      "L=N**2/(Rc+Rg)\n",
      "W=(1./2)*L*i**2\n",
      "t = symbols('t')\n",
      "Bc = 1.0*sin(w*t)\n",
      "e=N*Ac*diff(Bc,t)\n",
      "\n",
      "#Results:\n",
      "print \"The Inductance, L:\", round(L,2), \"H\"\n",
      "print \"The magntic stored energy, W:\", round(W,2), \"J\"\n",
      "print \"Induced voltage, e:\",e,\"V\""
     ],
     "language": "python",
     "metadata": {},
     "outputs": [
      {
       "output_type": "stream",
       "stream": "stdout",
       "text": [
        "The Inductance, L: 0.56 H\n",
        "The magntic stored energy, W: 0.18 J\n",
        "Induced voltage, e: 169.65*cos(377*t) V\n"
       ]
      }
     ],
     "prompt_number": 5
    },
    {
     "cell_type": "heading",
     "level": 3,
     "metadata": {},
     "source": [
      "Example 1.7, Page number: 22"
     ]
    },
    {
     "cell_type": "code",
     "collapsed": false,
     "input": [
      "from __future__ import division\n",
      "from math import *\n",
      "#Variable declaration:\n",
      "Bc=1                                    #Magnetic field in the core\n",
      "Hc=11                                   #Magnetising force(A.turns/m)\n",
      "lc=0.3                                  #length of the core(m)\n",
      "N=500                                   #No of windings\n",
      "g=0.050                                 #Air-gap length(cm)\n",
      "uo=4*pi*10**-7                          #Permeability of free space(H/m)\n",
      "\n",
      "\n",
      "#Calculation:\n",
      "Fc=Hc*lc                                #mmf drop for the core path(A.turns)\n",
      "Fg=Bc*g*10**-2/uo                       #mmf drop across the air gap(A.turns)\n",
      "i=(Fc+Fg)/N\n",
      "\n",
      "\n",
      "#Results:\n",
      "print \"The required current,i:\" ,round(i,2) ,\"A\""
     ],
     "language": "python",
     "metadata": {},
     "outputs": [
      {
       "output_type": "stream",
       "stream": "stdout",
       "text": [
        "The required current,i: 0.8 A\n"
       ]
      }
     ],
     "prompt_number": 6
    },
    {
     "cell_type": "heading",
     "level": 3,
     "metadata": {},
     "source": [
      "Example 1.8, Page number: 28"
     ]
    },
    {
     "cell_type": "code",
     "collapsed": false,
     "input": [
      "from __future__ import division\n",
      "from sympy import *\n",
      "\n",
      "#Variable declaration:\n",
      "N=200                               #No. of turns\n",
      "Ac=4                                #Cross-section of the core(in**2)\n",
      "w=377                               #Angular frequency of the magnetic field(rad/s)\n",
      "Hm=36                               #Max value magnetising force(A.turns/m)\n",
      "Pc=1.2                              #Core loss density(W/kg)\n",
      "\n",
      "\n",
      "#Calculations:\n",
      "t=symbols('t')\n",
      "Bc=1.5*sin(w*t)\n",
      "e=(round(N*Ac*0.94/(39.4**2),2)*diff(Bc,t))\n",
      "Erms=275*0.707\n",
      "lc=(6+6+8+8)/39.4                   #Mean length of the core(m)\n",
      "I=Hm*lc/N\n",
      "Vc=4*0.94*28                        #Core volume(m**3)\n",
      "Wc=105.5*(2.54**3)*7.65*10**-3                  #Core weight(kg)\n",
      "Pa=1.5*13.2                         #Watts per Kg\n",
      "Irms=Pa/Erms                        #Current (A)\n",
      "Pct=Pc*Wc                           #Total core loss(W)\n",
      "\n",
      "\n",
      "#Results:\n",
      "print \"The applied voltage,e:\", e, \"V\"\n",
      "print \"The peak current,I:\", round(I,2), \"A\"\n",
      "print \"The total rms current. Irms:\", round(Irms,2), \"A\"\n",
      "print \"Total Core loss, Pct:\",round(Pct,2),\"W\""
     ],
     "language": "python",
     "metadata": {},
     "outputs": [
      {
       "output_type": "stream",
       "stream": "stdout",
       "text": [
        "The applied voltage,e: 271.44*cos(377*t) V\n",
        "The peak current,I: 0.13 A\n",
        "The total rms current. Irms: 0.1 A\n",
        "Total Core loss, Pct: 15.87 W\n"
       ]
      }
     ],
     "prompt_number": 8
    },
    {
     "cell_type": "heading",
     "level": 3,
     "metadata": {},
     "source": [
      "Example 1.9, Page number: 32"
     ]
    },
    {
     "cell_type": "code",
     "collapsed": false,
     "input": [
      "from __future__ import division\n",
      "from sympy import *\n",
      "from math import *\n",
      "\n",
      "#Variable Declaration:\n",
      "g=0.2                               #air-gap length(cm)\n",
      "lm=1.0                              #length of magnetic section(cm)\n",
      "Am=4                                #Cross-section of the core(cm**2)\n",
      "Ag=4                                #Cross-section of the air-gap(cm**2)\n",
      "\n",
      "#Constants used:\n",
      "uo=4*pi*10**-7                      #Permeability of free space(H/m)\n",
      "\n",
      "#Calculations:\n",
      "Hm=symbols('Hm')\n",
      "def Bg(Hm):\n",
      "    return -uo*Ag*lm*Hm/(Am*g)             \n",
      "\n",
      "Hm1=-49*10**3                    #Coercivity of ALNICO 5 (A/m)\n",
      "Hm2=-6                          #Coercivity of M-5 electrical steel (A/m)                     \n",
      "\n",
      "\n",
      "#Results:\n",
      "print \"Flux Density of air gap:\", round(Bg(Hm1),2),\"T\"\n",
      "print \"\\nFlux Density of air gap:\", round(Bg(Hm2*10**4),2),\"gauss\"\n",
      "print \"\\nwhere value of Hm for different material.\""
     ],
     "language": "python",
     "metadata": {},
     "outputs": [
      {
       "output_type": "stream",
       "stream": "stdout",
       "text": [
        "Flux Density of air gap: 0.31 T\n",
        "\n",
        "Flux Density of air gap: 0.38 gauss\n",
        "\n",
        "where value of Hm for different material.\n"
       ]
      }
     ],
     "prompt_number": 10
    },
    {
     "cell_type": "heading",
     "level": 3,
     "metadata": {},
     "source": [
      "Example 1.10, Page number: 34"
     ]
    },
    {
     "cell_type": "code",
     "collapsed": false,
     "input": [
      "from __future__ import division\n",
      "from sympy import *\n",
      "from math import *\n",
      "\n",
      "#Variable declaration:\n",
      "Ag=2                                #Cross-section of air-gap(cm**2) \n",
      "Bg=0.8                              #Air-gap flux density(t)\n",
      "Bm=1.0                              #Core-flux density(T)\n",
      "Hm=-40                              #Magnetising force in the core(kA/m)\n",
      "uo=4*pi*10**-7                      #permeability of free space(H/m)\n",
      "g=0.2                               #Air-gap length(cm)\n",
      "\n",
      "#Calculations:\n",
      "Am=Ag*Bg/Bm\n",
      "lm=-g*Bg/(Hm*uo*10**3)\n",
      "Vm=Am*lm\n",
      "\n",
      "\n",
      "#Results:\n",
      "print \"The minimum magnet volume,Vm:\",round(Vm,2),\"cm**3\""
     ],
     "language": "python",
     "metadata": {},
     "outputs": [
      {
       "output_type": "stream",
       "stream": "stdout",
       "text": [
        "The minimum magnet volume,Vm: 5.09 cm**3\n"
       ]
      }
     ],
     "prompt_number": 11
    },
    {
     "cell_type": "heading",
     "level": 3,
     "metadata": {},
     "source": [
      "Example 1.11, Page number: 39"
     ]
    },
    {
     "cell_type": "code",
     "collapsed": false,
     "input": [
      "from __future__ import division\n",
      "from sympy import *\n",
      "from math import *\n",
      "\n",
      "#Variable Declaration:\n",
      "Am = 2                    #magnetic material cros-section(cm^2)\n",
      "g=0.2                     #air gap length(cm)\n",
      "uo=4*pi*10**-7            #permeability of free space(H/m)\n",
      "N=100                     #No. of windings\n",
      "\n",
      "#Calculations and results:\n",
      "#for part (a)\n",
      "Bma = 1.0                 #Tesla\n",
      "Hma = - 4                 #kA/m\n",
      "Ag1 = 2                    #cm**2\n",
      "Ag2 = 4                   #cm**2\n",
      "\n",
      "lm=g*(Am/Ag1)*(Bma/(-uo*Hma*10**4))\n",
      "print \"(a) The Requied magnet length = \",round(lm,2),\"cm\"\n",
      "\n",
      "\n",
      "#for part (b):\n",
      "i,Hm=symbols('i Hm')\n",
      "Bm=-uo*(Ag1/Am)*(lm/g)*Hm+(uo*N/g)*(Ag1/Am)*i\n",
      "H_max=200               #kA/m\n",
      "B_max=2.1               #Tesla\n",
      "i_max=(B_max+2.50*10**-5*H_max)/(6.28*10**-2)\n",
      "\n",
      "print \"(b) Thus with the air-gap area set to 2 cm^2,\"\n",
      "print \"    increasing the current to i_max = 45.2 A and then reducing\"\n",
      "print \"    it to zero will achieve the desired magnetization.\"\n",
      "\n",
      "#for part (c):\n",
      "Bm1=1.00               #Tesla\n",
      "Bm2=1.08               #Tesla\n",
      "Bg1=(Am/Ag1)*Bm1\n",
      "Bg2=(Am/Ag2)*Bm2\n",
      "print \"(c) The flux densities when plunger moves at two extremes are:\"\n",
      "print \"    Bg1 =\",Bg1,\"T and Bg2 =\",Bg2,\"T\""
     ],
     "language": "python",
     "metadata": {},
     "outputs": [
      {
       "output_type": "stream",
       "stream": "stdout",
       "text": [
        "(a) The Requied magnet length =  3.98 cm\n",
        "(b) Thus with the air-gap area set to 2 cm^2,\n",
        "    increasing the current to i_max = 45.2 A and then reducing\n",
        "    it to zero will achieve the desired magnetization.\n",
        "(c) The flux densities when plunger moves at two extremes are:\n",
        "    Bg1 = 1.0 T and Bg2 = 0.54 T\n"
       ]
      }
     ],
     "prompt_number": 12
    }
   ],
   "metadata": {}
  }
 ]
}