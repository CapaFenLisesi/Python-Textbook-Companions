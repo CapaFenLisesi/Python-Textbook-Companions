{
 "metadata": {
  "name": ""
 },
 "nbformat": 3,
 "nbformat_minor": 0,
 "worksheets": [
  {
   "cells": [
    {
     "cell_type": "heading",
     "level": 1,
     "metadata": {},
     "source": [
      "Chapter 07 : Mechanical Design of Transmission Lines"
     ]
    },
    {
     "cell_type": "heading",
     "level": 2,
     "metadata": {},
     "source": [
      "Example 7.1, Page No 161"
     ]
    },
    {
     "cell_type": "code",
     "collapsed": false,
     "input": [
      "import math\n",
      "#initialisation of variables\n",
      "sf=5.0\t   #Factor of safety\n",
      "d=0.95\t   # conductor dia(cm)\n",
      "\n",
      "#Calculations\n",
      "Ws=4250.0/sf   # working stress(kg/cm_2)\n",
      "A=math.pi*(d**2)/4.0   # area (cm_2)\n",
      "Wp=40.0*d*(10**-2)   #wind pressure (kg/cm)\n",
      "W=math.sqrt((.65**2)+(0.38**2))   # Total effective weight(kg/m)\n",
      "T=850.0*A   # working tension (kg)\n",
      "c=T/W\n",
      "l=160.0\n",
      "d=l**2/(8*800)\n",
      "\n",
      "#Results\n",
      "print(\"sag, d=%.0f metres \" %d)"
     ],
     "language": "python",
     "metadata": {},
     "outputs": [
      {
       "output_type": "stream",
       "stream": "stdout",
       "text": [
        "sag, d=4 metres \n"
       ]
      }
     ],
     "prompt_number": 5
    },
    {
     "cell_type": "heading",
     "level": 2,
     "metadata": {},
     "source": [
      "Example 7.2, Page No 161"
     ]
    },
    {
     "cell_type": "code",
     "collapsed": false,
     "input": [
      "import math\n",
      "#initialisation of variables\n",
      "D=1.95 + 2.6\t\t\t# overall diameter(cm)\n",
      "A=4.55*(10**-2)\t\t\t# area(m_2)\n",
      "d=19.5\t\t\t\t\t#diameter of conductor(mm)\n",
      "r=d/2.0\t\t\t\t\t#radius of conductor(mm)\n",
      "\n",
      "#Calculations\n",
      "Wp=A*39    #wind pressure(kg/m_2)\n",
      "t=13       #ice coating(mm)\n",
      "US=8000.0  # ultimate strength(kg)\n",
      "Aice=math.pi*(10**-6)*((r+t)**2 - r**2)#area section of ice (m_2)\n",
      "Wice=Aice*910\n",
      "W=(math.sqrt((.85+Wice)**2 + Wp**2))# total weight of ice (kg/m)\n",
      "T=US/2.0    # working teansion (kg)\n",
      "c=T/W\n",
      "l=275       #length of span(m)\n",
      "Smax=l*l/(8*c)\n",
      "\n",
      "#Results\n",
      "print(\"Maximum sag=%.1f metres\\n\" %Smax)"
     ],
     "language": "python",
     "metadata": {},
     "outputs": [
      {
       "output_type": "stream",
       "stream": "stdout",
       "text": [
        "Maximum sag=6.4 metres\n",
        "\n"
       ]
      }
     ],
     "prompt_number": 6
    },
    {
     "cell_type": "heading",
     "level": 2,
     "metadata": {},
     "source": [
      "Example 7.3, Page No 162"
     ]
    },
    {
     "cell_type": "code",
     "collapsed": false,
     "input": [
      "import math\n",
      "import numpy\n",
      "#initialisation of variables\n",
      "A=13.2\t\t\t\t# cross section of conductor (mm_2)\n",
      "Ar=4.1*(10**-3)\t\t# projected area\n",
      "Wp=Ar*48.82\t\t\t# wind loadind /m(kg/m)\n",
      "w=0.115\n",
      "\n",
      "#Calculations\n",
      "W=math.sqrt((.1157**2)+(Wp**2))# effective loading per metre(kg)\n",
      "q1=W/0.115\n",
      "b=w/A\n",
      "f1=21.0\t\t#working stress\n",
      "T1=f1*A\n",
      "c=T1/W\n",
      "l=45.7\n",
      "S=l*l/(8*c)\n",
      "dT=32.2-4.5# difference in temperature\n",
      "E=1.26*(10000)\n",
      "a=16.6*(10**-6)\n",
      "d=8.765*(10**-3)\n",
      "K=f1-((l*d*q1)**2)*E/(24*f1*f1)\n",
      "p=numpy.polynomial.polynomial.polyval3d(-84.23,0,-14.44,1)\n",
      "r=numpy.roots(p)\n",
      "f2= 14.823332# accepted value of f2\n",
      "T=f2*A\n",
      "c=T/w\n",
      "d1=l*l/(8*c)\n",
      "\n",
      "#Results\n",
      "print(\"sag at 32.2 Celsius , d=%.4f metres\" %d1)"
     ],
     "language": "python",
     "metadata": {},
     "outputs": [
      {
       "output_type": "stream",
       "stream": "stdout",
       "text": [
        "sag at 32.2 Celsius , d=0.1534 metres\n"
       ]
      }
     ],
     "prompt_number": 7
    },
    {
     "cell_type": "heading",
     "level": 2,
     "metadata": {},
     "source": [
      "Example 7.4 Page No 165"
     ]
    },
    {
     "cell_type": "code",
     "collapsed": false,
     "input": [
      "import math\n",
      "#initialisation of variables\n",
      "T=2000.0        # working tension (kg)\n",
      "w=1.0        \n",
      "c=T/w        \n",
      "h=90-30        \n",
      "l=300.0        #span(m)\n",
      "\n",
      "#Calculations\n",
      "a=(l/2)-(c*h/l)        \n",
      "b=550.0        \n",
      "d1=a*a/(2*c)        \n",
      "d2=(400**2)/(2*c)        # sag at 400 metres(m)\n",
      "Hm=d2-d1        #height of mid point with respect to A\n",
      "Cl=30+Hm\n",
      "\n",
      "#Results        \n",
      "print(\"The clearance between the conductor and water level midway between the towers= %.3f metres \" %Cl)        "
     ],
     "language": "python",
     "metadata": {},
     "outputs": [
      {
       "output_type": "stream",
       "stream": "stdout",
       "text": [
        "The clearance between the conductor and water level midway between the towers= 54.375 metres \n"
       ]
      }
     ],
     "prompt_number": 8
    }
   ],
   "metadata": {}
  }
 ]
}