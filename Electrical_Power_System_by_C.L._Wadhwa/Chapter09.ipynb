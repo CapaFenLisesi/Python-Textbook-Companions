{
 "metadata": {
  "name": ""
 },
 "nbformat": 3,
 "nbformat_minor": 0,
 "worksheets": [
  {
   "cells": [
    {
     "cell_type": "heading",
     "level": 1,
     "metadata": {},
     "source": [
      "Chapter 09 : Insulated Cables"
     ]
    },
    {
     "cell_type": "heading",
     "level": 2,
     "metadata": {},
     "source": [
      "Example 9.1, Page No 196"
     ]
    },
    {
     "cell_type": "code",
     "collapsed": false,
     "input": [
      "import math\n",
      "#initialisation of variables\n",
      "V=85.0     # working voltage (kV)\n",
      "gmax=65.0  # dielectric strength of insulating material (kV/cm)\n",
      "\n",
      "#Calculations\n",
      "r=V/gmax\n",
      "d=2*r\n",
      "D=2.6*math.e\n",
      "\n",
      "#Results\n",
      "print(\"Diameter of the sheath =%.2f cm\\n\" %D)"
     ],
     "language": "python",
     "metadata": {},
     "outputs": [
      {
       "output_type": "stream",
       "stream": "stdout",
       "text": [
        "Diameter of the sheath =7.07 cm\n",
        "\n"
       ]
      }
     ],
     "prompt_number": 1
    },
    {
     "cell_type": "heading",
     "level": 2,
     "metadata": {},
     "source": [
      "Example 9.2, Page No 200"
     ]
    },
    {
     "cell_type": "code",
     "collapsed": false,
     "input": [
      "import math\n",
      "#initialisation of variables\n",
      "e1=4.0\n",
      "e2=4.0\n",
      "e3=2.5\n",
      "g1max=50.0\n",
      "g2max=40.0\n",
      "g3max=30.0\n",
      "r=0.5\t\t# radius (cm)\n",
      "\n",
      "#Calculations\n",
      "r1=r*e1*g1max/(e2*g2max)\n",
      "r2=r1*e2*g2max/(e3*g3max)\n",
      "V=66.0\n",
      "lnc=(V-((r*g1max*math.log(r1/r))+(r1*g2max*math.log(r2/r1))))\n",
      "m=lnc/(r2*g3max)\n",
      "R=r2*(math.e**m)\n",
      "D=2*R\n",
      "\n",
      "#Results\n",
      "print(\"minimum internal diameter of the lead sheath,D=%.2f cms \" %D)"
     ],
     "language": "python",
     "metadata": {},
     "outputs": [
      {
       "output_type": "stream",
       "stream": "stdout",
       "text": [
        "minimum internal diameter of the lead sheath,D=7.52 cms \n"
       ]
      }
     ],
     "prompt_number": 2
    },
    {
     "cell_type": "heading",
     "level": 2,
     "metadata": {},
     "source": [
      "Example 9.3, Page No 202"
     ]
    },
    {
     "cell_type": "code",
     "collapsed": false,
     "input": [
      "import math\n",
      "#initialisation of variables\n",
      "r=0.5   \t#radius of conductor(cm)\n",
      "g1max=34.0\n",
      "er=5.0\n",
      "r1=1.0\n",
      "R=7.0/2    #external dia(cm)\n",
      "\n",
      "#Calculations\n",
      "g2max=(r*g1max)/(er*r1)\n",
      "V=((r*g1max*math.log(r1/r))+(r1*g2max*math.log(R/r1)))\n",
      "V=V/(math.sqrt(2.0))\n",
      "\n",
      "#Results\n",
      "print(\"Maximum safe working volltage ,V =%.2f kV r.m.s\\n\" %V)"
     ],
     "language": "python",
     "metadata": {},
     "outputs": [
      {
       "output_type": "stream",
       "stream": "stdout",
       "text": [
        "Maximum safe working volltage ,V =11.34 kV r.m.s\n",
        "\n"
       ]
      }
     ],
     "prompt_number": 3
    },
    {
     "cell_type": "heading",
     "level": 2,
     "metadata": {},
     "source": [
      "Example 9.4 Page No 202"
     ]
    },
    {
     "cell_type": "code",
     "collapsed": false,
     "input": [
      "import math\n",
      "#initialisation of variables\n",
      "r=0.9\n",
      "r1=1.25\n",
      "\n",
      "#Calculations\n",
      "r2=r1+.35\n",
      "r3=r2+.35    # radius of outermost layer\n",
      "Vd=20.0        # voltage difference (kV)\n",
      "g1max=Vd/(r*math.log(r1/r))\n",
      "g2max=Vd/(r1*math.log(r2/r1))\n",
      "g3max=(66-40)/(r2*math.log(r3/r2))\n",
      "\n",
      "#Results\n",
      "print(\"g1max =%.1f kV/cm\" %g1max)\n",
      "print(\"g2max =%.2f kV/cm\" %g2max)\n",
      "print(\"g3max =%.0f kV/cm\" %g3max)"
     ],
     "language": "python",
     "metadata": {},
     "outputs": [
      {
       "output_type": "stream",
       "stream": "stdout",
       "text": [
        "g1max =67.6 kV/cm\n",
        "g2max =64.81 kV/cm\n",
        "g3max =82 kV/cm\n"
       ]
      }
     ],
     "prompt_number": 4
    },
    {
     "cell_type": "heading",
     "level": 2,
     "metadata": {},
     "source": [
      "Example 9.5, Page No 206"
     ]
    },
    {
     "cell_type": "code",
     "collapsed": false,
     "input": [
      "import math\n",
      "#initialisation of variables\n",
      "V=20.0     #voltage (kV)\n",
      "w=314.0\n",
      "\n",
      "#Calculations\n",
      "C=2*3.04*10**-6\t\t\t#capacitance per phase(micro-farad)\n",
      "KVA=V*V*w*C*1000.0\n",
      "\n",
      "#Results\n",
      "print(\"3-phase kVA required =%.0f kVA\" %KVA) \t#Answer don't match due to difference in rounding off of digits"
     ],
     "language": "python",
     "metadata": {},
     "outputs": [
      {
       "output_type": "stream",
       "stream": "stdout",
       "text": [
        "3-phase kVA required =764 kVA\n"
       ]
      }
     ],
     "prompt_number": 5
    },
    {
     "cell_type": "heading",
     "level": 2,
     "metadata": {},
     "source": [
      "Example 9.6, Page No 206"
     ]
    },
    {
     "cell_type": "code",
     "collapsed": false,
     "input": [
      "import math\n",
      "#initialisation of variables\n",
      "C1=0.208\n",
      "C2=0.096\n",
      "Cx=3.0*C1\n",
      "w=314.0\n",
      "V=10.0\n",
      "\n",
      "#Calculations\n",
      "Cy=(C1+ 2*C2)\n",
      "Co=((1.5*Cy)-(Cx/6))\n",
      "C=Co/2.0\n",
      "\n",
      "#Results\n",
      "print(\"(i)Capacitance between any two conductors=%.3f micro-Farad/km\" %C)\n",
      "c=((2*C2 + ((2/3)*C1)))\n",
      "print(\"(ii)Capacitance between any two bunched conductors and the third conductor=%.2f micro-Farad/km\" %c)\n",
      "I=V*w*Co*1000*(10**-6)/math.sqrt(3)\n",
      "print(\"(iii)the charging current per phase per km =%.3f A\" %I)"
     ],
     "language": "python",
     "metadata": {},
     "outputs": [
      {
       "output_type": "stream",
       "stream": "stdout",
       "text": [
        "(i)Capacitance between any two conductors=0.248 micro-Farad/km\n",
        "(ii)Capacitance between any two bunched conductors and the third conductor=0.19 micro-Farad/km\n",
        "(iii)the charging current per phase per km =0.899 A\n"
       ]
      }
     ],
     "prompt_number": 6
    },
    {
     "cell_type": "heading",
     "level": 2,
     "metadata": {},
     "source": [
      "Example 9.7 Page No 213"
     ]
    },
    {
     "cell_type": "code",
     "collapsed": false,
     "input": [
      "import math\n",
      "#initialisation of variables\n",
      "rm=(2.28/2)-(.152/2)# mean radius of sheath (cm)\n",
      "d=5.08\n",
      "a=d/rm\n",
      "w=314.0\n",
      "\n",
      "#Calculations\n",
      "Xm=2*(10**-7)*math.log(a)     # mutual inductance (H/m)\n",
      "Xm2=2000*Xm\n",
      "V=w*Xm2*400\n",
      "\n",
      "#Results\n",
      "print(\"Voltage induced =%.2f volts \\n\" %V)#Answer don't match exactly due to difference in rounding off of digits i between calculations"
     ],
     "language": "python",
     "metadata": {},
     "outputs": [
      {
       "output_type": "stream",
       "stream": "stdout",
       "text": [
        "Voltage induced =78.54 volts \n",
        "\n"
       ]
      }
     ],
     "prompt_number": 7
    },
    {
     "cell_type": "heading",
     "level": 2,
     "metadata": {},
     "source": [
      "Example 9.8, Page No 214"
     ]
    },
    {
     "cell_type": "code",
     "collapsed": false,
     "input": [
      "import math\n",
      "#initialisation of variables\n",
      "R=2*0.1625\n",
      "Rs=2*2.14\n",
      "M=314.0\n",
      "\n",
      "#Calculations\n",
      "w=6.268*10**-4\n",
      "r=Rs*M*M*w*w/(R*((Rs**2)+(M*M*w*w)))\n",
      "\n",
      "#Results\n",
      "print(\"ratio=%.4f \" %r)"
     ],
     "language": "python",
     "metadata": {},
     "outputs": [
      {
       "output_type": "stream",
       "stream": "stdout",
       "text": [
        "ratio=0.0278 \n"
       ]
      }
     ],
     "prompt_number": 8
    }
   ],
   "metadata": {}
  }
 ]
}