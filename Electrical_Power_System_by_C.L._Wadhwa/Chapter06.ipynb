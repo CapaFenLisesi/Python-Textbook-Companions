{
 "metadata": {
  "name": ""
 },
 "nbformat": 3,
 "nbformat_minor": 0,
 "worksheets": [
  {
   "cells": [
    {
     "cell_type": "heading",
     "level": 1,
     "metadata": {},
     "source": [
      "Chapter 06 : Corona"
     ]
    },
    {
     "cell_type": "heading",
     "level": 2,
     "metadata": {},
     "source": [
      "Example 6.1, Page No 142"
     ]
    },
    {
     "cell_type": "code",
     "collapsed": false,
     "input": [
      "import math\n",
      "#initialisation of variables\n",
      "t=21.0     # air temperature\n",
      "b=73.6     # air pressure\n",
      "do=3.92*73.6/(273+t)\n",
      "m=0.85\n",
      "r=0.52\n",
      "d=250.0\n",
      "\n",
      "#Calculations\n",
      "Vd=21.1*m *do*r*math.log(250/.52)\n",
      "vd=math.sqrt(3)*Vd\n",
      "m=0.7\n",
      "vv=21.1*m*do*r*(1+(0.3/math.sqrt(r*do)))*math.log(250/0.52)\n",
      "Vv=vv*math.sqrt(3)\n",
      "Vvg=Vv*0.8/0.7\n",
      "\n",
      "#Results\n",
      "print(\"critical disruptive line to line voltage=%.2f kV \" %vd)\n",
      "print(\"visual critical voltage for local corona=%.2f kV \" %vv)\n",
      "print(\"visual critical voltage for general corona=%.2f kV \" %Vvg)"
     ],
     "language": "python",
     "metadata": {},
     "outputs": [
      {
       "output_type": "stream",
       "stream": "stdout",
       "text": [
        "critical disruptive line to line voltage=97.89 kV \n",
        "visual critical voltage for local corona=66.09 kV \n",
        "visual critical voltage for general corona=130.83 kV \n"
       ]
      }
     ],
     "prompt_number": 1
    },
    {
     "cell_type": "heading",
     "level": 2,
     "metadata": {},
     "source": [
      "Example 6.2, Page No 142"
     ]
    },
    {
     "cell_type": "code",
     "collapsed": false,
     "input": [
      "import math\n",
      "#initialisation of variables  \n",
      "d=2.5  \n",
      "di=3.0  # internal diameter\n",
      "do=9.0  # external diameter\n",
      "ri=di/2.0  # internal radius\n",
      "ro=do/2.0  # external diameter\n",
      "\n",
      "#Calculations\n",
      "g1max=20/(1.25*math.log(ri/(d/2))+0.208*1.5*math.log(ro/ri))  \n",
      "\n",
      "#Results\n",
      "print(\"g1max=%.0f kV/cm\" %g1max)  \n",
      "print(\"Since the gradient exceeds 21.1/kV/cm , corona will be present.\")"
     ],
     "language": "python",
     "metadata": {},
     "outputs": [
      {
       "output_type": "stream",
       "stream": "stdout",
       "text": [
        "g1max=35 kV/cm\n",
        "Since the gradient exceeds 21.1/kV/cm , corona will be present.\n"
       ]
      }
     ],
     "prompt_number": 2
    },
    {
     "cell_type": "heading",
     "level": 2,
     "metadata": {},
     "source": [
      "Example 6.3, Page No 143"
     ]
    },
    {
     "cell_type": "code",
     "collapsed": false,
     "input": [
      "import math\n",
      "#initialisation of variables\n",
      "m=1.07\n",
      "r=0.625\n",
      "\n",
      "#Calculations\n",
      "V=21*m *r*math.log(305.0/0.625)\n",
      "Vl=V*math.sqrt(3.0)\n",
      "\n",
      "#Results\n",
      "print(\"critical disruptive voltage=%.0f kV \" %V)\n",
      "print(\"since operating voltage is 110 kV , corona loss= 0 \")"
     ],
     "language": "python",
     "metadata": {},
     "outputs": [
      {
       "output_type": "stream",
       "stream": "stdout",
       "text": [
        "critical disruptive voltage=87 kV \n",
        "since operating voltage is 110 kV , corona loss= 0 \n"
       ]
      }
     ],
     "prompt_number": 3
    },
    {
     "cell_type": "heading",
     "level": 2,
     "metadata": {},
     "source": [
      "Example 6.4 Page No 143"
     ]
    },
    {
     "cell_type": "code",
     "collapsed": false,
     "input": [
      "import math\n",
      "#initialisation of variables\n",
      "r=0.5\n",
      "\n",
      "#Calculations\n",
      "V=21*r*math.log(100.0/0.5)\n",
      "\n",
      "#Results\n",
      "print(\"critical disruptive voltage=%.1f kV\" %V)"
     ],
     "language": "python",
     "metadata": {},
     "outputs": [
      {
       "output_type": "stream",
       "stream": "stdout",
       "text": [
        "critical disruptive voltage=55.6 kV\n"
       ]
      }
     ],
     "prompt_number": 4
    },
    {
     "cell_type": "heading",
     "level": 2,
     "metadata": {},
     "source": [
      "Example 6.5, Page No 146"
     ]
    },
    {
     "cell_type": "code",
     "collapsed": false,
     "input": [
      "import math\n",
      "#initialisation of variables\n",
      "D=1.036 \t       # conductor diameter(cm)\n",
      "d=2.44\t           #delta spacing(m)\n",
      "r=D/2        \t   #radius(cm)\n",
      "\n",
      "#Calculations\n",
      "Ratio=d*100.0/r        \n",
      "j=r/(d*100.0)        \n",
      "Rat2=math.sqrt(j)        \n",
      "t=26.67     \t   #temperature\n",
      "b=73.15            # barometric pressure\n",
      "mv=0.72        \n",
      "V=63.5        \n",
      "f=50.0\t           #frequency\n",
      "do=3.92*b/(273+t)        #do=dell\n",
      "vd=21.1*.85*do*r*math.log(Ratio)        \n",
      "print(\"critical disruptive voltage=%.2f kV\" %vd)        \n",
      "Vv=21.1*mv*do*r*(1+(0.3/math.sqrt(r*do)))*math.log(Ratio)        \n",
      "Pl=241*(10**-5)*(f+25)*Rat2*((V-vd)**2)/do        #power loss\n",
      "Vd=0.8*vd        \n",
      "Pl2=241*(10**-5)*(f+25)*Rat2*((V-Vd)**2)*160/do        #loss per phase /km\n",
      "Total=3.0*Pl2\n",
      "\n",
      "#Results        \n",
      "print(\"visual critical voltage=%.0f kV\" %Vv)        \n",
      "print(\"Power loss=%.3f kW/phase/km\" %Pl)        \n",
      "print(\"under foul weather condition ,\")        \n",
      "print(\"critical disruptive voltage=%.2f kV\" %Vd)        \n",
      "print(\"Total loss=%.0f kW\\n\"%Total)        \n"
     ],
     "language": "python",
     "metadata": {},
     "outputs": [
      {
       "output_type": "stream",
       "stream": "stdout",
       "text": [
        "critical disruptive voltage=54.72 kV\n",
        "visual critical voltage=66 kV\n",
        "Power loss=0.672 kW/phase/km\n",
        "under foul weather condition ,\n",
        "critical disruptive voltage=43.77 kV\n",
        "Total loss=1626 kW\n",
        "\n"
       ]
      }
     ],
     "prompt_number": 5
    }
   ],
   "metadata": {}
  }
 ]
}