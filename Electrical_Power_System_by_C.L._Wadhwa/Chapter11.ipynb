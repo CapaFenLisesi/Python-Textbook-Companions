{
 "metadata": {
  "name": ""
 },
 "nbformat": 3,
 "nbformat_minor": 0,
 "worksheets": [
  {
   "cells": [
    {
     "cell_type": "heading",
     "level": 1,
     "metadata": {},
     "source": [
      "Chapter 11 : Neutral Grounding"
     ]
    },
    {
     "cell_type": "heading",
     "level": 2,
     "metadata": {},
     "source": [
      "Example 11.1, Page No 251"
     ]
    },
    {
     "cell_type": "code",
     "collapsed": false,
     "input": [
      "import math\n",
      "#initialisation of variables\n",
      "C1=2*math.pi*(10**-9)/(36*math.pi*math.log((4*4*8)**(1.0/3)/(10*(10**-3))))\n",
      "\n",
      "#Calculations\n",
      "C=C1*192*(10**9)     #capacitance per phase (micro farad)\n",
      "L=(10)**6.0/(3*314*314*C)\n",
      "V=132.0        #voltage (kV)\n",
      "MVA=V*V/(3.0*314*L)\n",
      "\n",
      "#Results\n",
      "print(\"inductance ,L=%.2f H\" %L)\n",
      "print(\"MVA rating of suppressor  coil =%.3f MVA per coil\" %MVA)\n"
     ],
     "language": "python",
     "metadata": {},
     "outputs": [
      {
       "output_type": "stream",
       "stream": "stdout",
       "text": [
        "inductance ,L=1.97 H\n",
        "MVA rating of suppressor  coil =9.379 MVA per coil\n"
       ]
      }
     ],
     "prompt_number": 1
    },
    {
     "cell_type": "heading",
     "level": 2,
     "metadata": {},
     "source": [
      "Example 11.2, Page No 252"
     ]
    },
    {
     "cell_type": "code",
     "collapsed": false,
     "input": [
      "import math\n",
      "#initialisation of variables\n",
      "wL=1.0/(3*314*(10)**-6)\n",
      "\n",
      "#Calculations\n",
      "print(\"(i)inductive reactance for 100 percent of the length of line=%.1f ohms\" %wL)\n",
      "wL=10.0**6/(3*314*.9)\n",
      "\n",
      "#Results\n",
      "print(\"(ii)inductive reactance for 90percent of the length of line=%.1f ohms\" %wL)\n",
      "wL=1.0/(3*314*(10)**-6)/.8\n",
      "print(\"(iii)inductive reactance for 80 percent of the length of line=%.1f ohms\" %wL)"
     ],
     "language": "python",
     "metadata": {},
     "outputs": [
      {
       "output_type": "stream",
       "stream": "stdout",
       "text": [
        "(i)inductive reactance for 100 percent of the length of line=1061.6 ohms\n",
        "(ii)inductive reactance for 90percent of the length of line=1179.5 ohms\n",
        "(iii)inductive reactance for 80 percent of the length of line=1327.0 ohms\n"
       ]
      }
     ],
     "prompt_number": 2
    }
   ],
   "metadata": {}
  }
 ]
}