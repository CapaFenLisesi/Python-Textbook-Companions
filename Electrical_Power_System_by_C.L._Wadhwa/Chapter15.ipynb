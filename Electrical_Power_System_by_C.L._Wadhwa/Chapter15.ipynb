{
 "metadata": {
  "name": ""
 },
 "nbformat": 3,
 "nbformat_minor": 0,
 "worksheets": [
  {
   "cells": [
    {
     "cell_type": "heading",
     "level": 1,
     "metadata": {},
     "source": [
      "Chapter 15 : Circuit Breakers"
     ]
    },
    {
     "cell_type": "heading",
     "level": 2,
     "metadata": {},
     "source": [
      "Example 15.1, Page No 486"
     ]
    },
    {
     "cell_type": "code",
     "collapsed": false,
     "input": [
      "import math\n",
      "#initialisation of variables\n",
      "i=5.0\n",
      "L=5*(10**6)\n",
      "C=0.01\n",
      "\n",
      "#Calculations\n",
      "e=i*math.sqrt(L/C)\n",
      "\n",
      "#Results\n",
      "print(\"The voltage appearing across the pole of C.B.=%.2f V \" %e)\n",
      "R=0.5*math.sqrt(L/C)\n",
      "print(\"The value of resistance to be used across contacts, R=%.2f ohms\" %R)"
     ],
     "language": "python",
     "metadata": {},
     "outputs": [
      {
       "output_type": "stream",
       "stream": "stdout",
       "text": [
        "The voltage appearing across the pole of C.B.=111803.40 V \n",
        "The value of resistance to be used across contacts, R=11180.34 ohms\n"
       ]
      }
     ],
     "prompt_number": 1
    },
    {
     "cell_type": "heading",
     "level": 2,
     "metadata": {},
     "source": [
      "Example 15.2, Page No 487"
     ]
    },
    {
     "cell_type": "code",
     "collapsed": false,
     "input": [
      "import math\n",
      "#initialisation of variables\n",
      "Vnl=132*math.sqrt(2)/math.sqrt(3)    #peak value of peak to neutral voltage(kV)\n",
      "Vr1=Vnl*.95  #recovery voltage (kV)\n",
      "\n",
      "#Calculations\n",
      "Vr=102.4*.916   # active recovery voltage(kV)\n",
      "Vrmax=2.0*Vr\n",
      "fn=16.0*(10**3)\n",
      "t=1.0/(2*fn)\n",
      "RRRV=Vrmax*(10**-6)/t\n",
      "\n",
      "#Results\n",
      "print(\"Rate of rise of restriking voltage, RRRV = %.0f kV/micro-sec \" %RRRV)"
     ],
     "language": "python",
     "metadata": {},
     "outputs": [
      {
       "output_type": "stream",
       "stream": "stdout",
       "text": [
        "Rate of rise of restriking voltage, RRRV = 6 kV/micro-sec \n"
       ]
      }
     ],
     "prompt_number": 2
    },
    {
     "cell_type": "heading",
     "level": 2,
     "metadata": {},
     "source": [
      "Example 15.3, Page No 487"
     ]
    },
    {
     "cell_type": "code",
     "collapsed": false,
     "input": [
      "import math\n",
      "#initialisation of variables\n",
      "Vm=132*math.sqrt(2)/math.sqrt(3)\n",
      "K1=0.9\n",
      "K2=1.5\n",
      "K=K1*K2\n",
      "sinq=0.92\n",
      "\n",
      "#Calculations\n",
      "Vr=K*Vm*sinq\n",
      "fn=16*(10**3)\n",
      "RRRV=2*Vr*(10**-6)*fn*2\n",
      "\n",
      "#Results\n",
      "print(\"Average rate of rise of restriking voltage,RRRV=%.3f kV/micro-sec\" %RRRV)"
     ],
     "language": "python",
     "metadata": {},
     "outputs": [
      {
       "output_type": "stream",
       "stream": "stdout",
       "text": [
        "Average rate of rise of restriking voltage,RRRV=8.567 kV/micro-sec\n"
       ]
      }
     ],
     "prompt_number": 3
    },
    {
     "cell_type": "heading",
     "level": 2,
     "metadata": {},
     "source": [
      "Example 15.4 Page No 504"
     ]
    },
    {
     "cell_type": "code",
     "collapsed": false,
     "input": [
      "import math\n",
      "#initialisation of variables\n",
      "In=1500.0\n",
      "\n",
      "#Calculations\n",
      "Ib=2000/(math.sqrt(3.0)*33.0)\n",
      "Im=2.55*Ib\n",
      "Is=Ib\n",
      "\n",
      "#Results\n",
      "print(\"rated normal current=%.0f amps\" %In)\n",
      "print(\"Breaking current=%.2f KA\" %Ib)\n",
      "print(\"Making current =%.2f kA\" %Im)\n",
      "print(\"Short time rating  for 3 sec=%.2f kA \" %Is)"
     ],
     "language": "python",
     "metadata": {},
     "outputs": [
      {
       "output_type": "stream",
       "stream": "stdout",
       "text": [
        "rated normal current=1500 amps\n",
        "Breaking current=34.99 KA\n",
        "Making current =89.23 kA\n",
        "Short time rating  for 3 sec=34.99 kA \n"
       ]
      }
     ],
     "prompt_number": 4
    },
    {
     "cell_type": "heading",
     "level": 2,
     "metadata": {},
     "source": [
      "Example 15.5, Page No 504"
     ]
    },
    {
     "cell_type": "code",
     "collapsed": false,
     "input": [
      "import math\n",
      "#initialisation of variables\n",
      "MVA=10.0\n",
      "Is=MVA*1000/(math.sqrt(3)*13.8)\n",
      "print(\"(i)sustained short circuit current in the breaker =%.0f amps\" %Is)\n",
      "MVA1=100.0\n",
      "Isc=MVA1*1000.0/(math.sqrt(3)*13.8)\n",
      "\n",
      "#Calculations\n",
      "print(\"(ii)initial symmetrical r.m.s current in the breaker r.m.s=%.0f amps\" %Isc)\n",
      "Im=math.sqrt(2)*Isc\n",
      "print(\"(iii)maximum possible d.c component of the short circuit current in the breaker =%.0f amps\" %Im)\n",
      "Im2=1.6*Isc\n",
      "print(\"(iv)momentary current rating of the breaker=%.0f amps\" %Im2)\n",
      "Ib=1.2*Isc\n",
      "print(\"(v)the current to be interrupted by the breaker =%.0f amps\" %Ib)\n",
      "KVA=math.sqrt(3)*13.8*5016\n",
      "\n",
      "#Results\n",
      "print(\"(vi)the interupting =%.0f KVA\"%KVA)\n",
      "#Answers don't match due to difference in rounding off of digits"
     ],
     "language": "python",
     "metadata": {},
     "outputs": [
      {
       "output_type": "stream",
       "stream": "stdout",
       "text": [
        "(i)sustained short circuit current in the breaker =418 amps\n",
        "(ii)initial symmetrical r.m.s current in the breaker r.m.s=4184 amps\n",
        "(iii)maximum possible d.c component of the short circuit current in the breaker =5917 amps\n",
        "(iv)momentary current rating of the breaker=6694 amps\n",
        "(v)the current to be interrupted by the breaker =5020 amps\n",
        "(vi)the interupting =119894 KVA\n"
       ]
      }
     ],
     "prompt_number": 5
    }
   ],
   "metadata": {}
  }
 ]
}