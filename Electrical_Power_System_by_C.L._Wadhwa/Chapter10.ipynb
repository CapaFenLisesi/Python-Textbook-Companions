{
 "metadata": {
  "name": ""
 },
 "nbformat": 3,
 "nbformat_minor": 0,
 "worksheets": [
  {
   "cells": [
    {
     "cell_type": "heading",
     "level": 1,
     "metadata": {},
     "source": [
      "Chapter 10 : Voltage Control "
     ]
    },
    {
     "cell_type": "heading",
     "level": 2,
     "metadata": {},
     "source": [
      "Example 10.1, Page No 235"
     ]
    },
    {
     "cell_type": "code",
     "collapsed": false,
     "input": [
      "import math\n",
      "#initialisation of variables\n",
      "V=1.0     \t#voltage (p.u)\n",
      "Pa=0.5\t\t#active power at A (p.u)\n",
      "Pr=0.375\t# reactive power at A(p.u)\n",
      "\n",
      "#Calculations\n",
      "Xca=0.075+0.04\t# reactance between C and A \n",
      "Pl=((Pa**2)+(Pr**2))*Xca/(V**2)\n",
      "pac=1.5\n",
      "prc=2.0\n",
      "Pta=0.5+1.5\t\t# total active power between E and C \n",
      "Ptr=Pr+Pl+2.0\t# reactive power between E and C \n",
      "Xt=.05+.025\t\t#total reactance beteween E an C \n",
      "Pl2=((2*2)+(2.4199**2))# loss (p.u)\n",
      "Pat=200.0\n",
      "Prt=315.9\n",
      "pf=0.5349\n",
      "\n",
      "#Results\n",
      "print(\"Total active power supplied by generator =%.0f MW \" %Pat)\n",
      "print(\"Total reactive power supplied by generator =%.1f MW \" %Prt)\n",
      "print(\"p.f of the generator =%.4f \\n\" %pf)\n"
     ],
     "language": "python",
     "metadata": {},
     "outputs": [
      {
       "output_type": "stream",
       "stream": "stdout",
       "text": [
        "Total active power supplied by generator =200 MW \n",
        "Total reactive power supplied by generator =315.9 MW \n",
        "p.f of the generator =0.5349 \n",
        "\n"
       ]
      }
     ],
     "prompt_number": 1
    },
    {
     "cell_type": "heading",
     "level": 2,
     "metadata": {},
     "source": [
      "Example 10.2, Page No 236"
     ]
    },
    {
     "cell_type": "code",
     "collapsed": false,
     "input": [
      "import math\n",
      "#initialisation of variables\n",
      "l1=150\n",
      "tstr=1\n",
      "load2=72.65\n",
      "R=30.0\n",
      "\n",
      "#Calculations\n",
      "P=(l1*(10**6))/3\n",
      "X=80\n",
      "Q=(load2*(10**6))/3\n",
      "Vs=(230*(10**3))/math.sqrt(3)\n",
      "Vr=Vs\n",
      "ts2=1/(1-(((R*P)+(X*Q))/(Vs*Vr)))\n",
      "ts=math.sqrt(ts2)\n",
      "\n",
      "#Results\n",
      "print(\"ts=%.2f p.u\\n\" %ts)"
     ],
     "language": "python",
     "metadata": {},
     "outputs": [
      {
       "output_type": "stream",
       "stream": "stdout",
       "text": [
        "ts=1.11 p.u\n",
        "\n"
       ]
      }
     ],
     "prompt_number": 2
    },
    {
     "cell_type": "heading",
     "level": 2,
     "metadata": {},
     "source": [
      "Example 10.3, Page No 242"
     ]
    },
    {
     "cell_type": "code",
     "collapsed": false,
     "input": [
      "import math\n",
      "#initialisation of variables\n",
      "A=0.895\n",
      "Vr=215.0\n",
      "B=182.5\n",
      "\n",
      "#Calculations\n",
      "x=A*(Vr**2)/B\n",
      "y=78.6-1.4//B-A\n",
      "p=math.degrees(math.acos(0.9))\n",
      "X1=x/50.0\n",
      "Vs=265*182.5/215\n",
      "Vr1=Vs/A\n",
      "Reg=100*(Vr1-Vr)/Vr\n",
      "print(\"(i) sending end voltage (kV)=%.1f kV\" %Vs)\n",
      "print(\"recieving end voltage =%.0f kV\" %Vr1)\n",
      "print(\"Regulation = %.2f percent\" %Reg)\n",
      "Vs1=236.0\n",
      "Q=Vs1*Vr/B\n",
      "QP=0.25*50\n",
      "PR=0.50*50\n",
      "cosQ=0.958\n",
      "\n",
      "#Results\n",
      "print(\"(ii)QP(MVAr)=%.1f MV Ar\" %QP)\n",
      "print(\" PR(MVAr)=%.0f MV Ar\" %PR)\n",
      "print(\"CosQ=%.3f \\n\" %cosQ)\n",
      "MN=4.55\n",
      "Sbmax=MN*50\n",
      "print(\"maximum power transmitted =%.1f MW\" %Sbmax)\n"
     ],
     "language": "python",
     "metadata": {},
     "outputs": [
      {
       "output_type": "stream",
       "stream": "stdout",
       "text": [
        "(i) sending end voltage (kV)=224.9 kV\n",
        "recieving end voltage =251 kV\n",
        "Regulation = 16.90 percent\n",
        "(ii)QP(MVAr)=12.5 MV Ar\n",
        " PR(MVAr)=25 MV Ar\n",
        "CosQ=0.958 \n",
        "\n",
        "maximum power transmitted =227.5 MW\n"
       ]
      }
     ],
     "prompt_number": 3
    },
    {
     "cell_type": "heading",
     "level": 2,
     "metadata": {},
     "source": [
      "Example 10.4, Page No 244"
     ]
    },
    {
     "cell_type": "code",
     "collapsed": false,
     "input": [
      "import math\n",
      "import numpy\n",
      "#initialisation of variables\n",
      "a=0\n",
      "b=73.3\n",
      "A=1.0\n",
      "B=20.88\n",
      "Vs=66.0\n",
      "Vr=66.0\n",
      "Load=75.0\n",
      "\n",
      "#Calculations\n",
      "p=numpy.polynomial.polynomial.polyval2d(14624,400,1)\n",
      "r=numpy.roots(p)\n",
      "Qr=- 40.701538\n",
      "C=-Qr + (75*.6/.8)\n",
      "Smax=(Vr**2)*(1-math.cos(math.radians(b)))/B\n",
      "\n",
      "#Results\n",
      "print(\"The phase modifier capacity =%.2f MV Ar\" %C)\n",
      "print(\"Maximum power transmitted ,Pmax =%.2f MW\" %Smax)"
     ],
     "language": "python",
     "metadata": {},
     "outputs": [
      {
       "output_type": "stream",
       "stream": "stdout",
       "text": [
        "The phase modifier capacity =96.95 MV Ar\n",
        "Maximum power transmitted ,Pmax =148.67 MW\n"
       ]
      }
     ],
     "prompt_number": 4
    }
   ],
   "metadata": {}
  }
 ]
}