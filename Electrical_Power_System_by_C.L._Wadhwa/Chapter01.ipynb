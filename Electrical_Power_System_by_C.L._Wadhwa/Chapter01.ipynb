{
 "metadata": {
  "name": ""
 },
 "nbformat": 3,
 "nbformat_minor": 0,
 "worksheets": [
  {
   "cells": [
    {
     "cell_type": "heading",
     "level": 1,
     "metadata": {},
     "source": [
      "Chapter 01 : Fundamentals of power System"
     ]
    },
    {
     "cell_type": "heading",
     "level": 2,
     "metadata": {},
     "source": [
      "Example 1.1, Page No 11"
     ]
    },
    {
     "cell_type": "code",
     "collapsed": false,
     "input": [
      "import math\n",
      "#initialisation of variables\n",
      "Sb=100.0\t\t# base value of power(MVA)\n",
      "Vb=33.0\t\t\t# base value of voltage (Kv)\n",
      "\n",
      "#Calculations\n",
      "Vbl=Vb*110.0/32\n",
      "Vbm=Vbl*32.0/110\n",
      "Zp_ut=0.08*100*32*32/(110*33*33)\n",
      "Zp_u_l=50*100/(Vbl**2)\n",
      "Zp_um1=0.2*100*30*30.0/(30*33*33)\n",
      "Zp_um2=0.2*100*30*30.0/(20*33*33)\n",
      "Zp_um3=0.2*100*30*30.0/(50*33*33)\n",
      "\n",
      "#Results\n",
      "print(\"Base value of voltage in line = %.2f kV\" %Vbl)\n",
      "print(\"Base value of voltage in motor circuit=%.0f kV\" %Vbm)\n",
      "print(\"p.u value of reactance transformer =%.5f p.u\" %Zp_ut)\n",
      "print(\"p.u value of impedence of line=%.4f p.u\" %Zp_u_l)\n",
      "print(\"p.u value of reactance of motor 1 =%.4f p.u\" %Zp_um1)\n",
      "print(\"p.u value of reactance of motor 2 =%.3f p.u\" %Zp_um2)\n",
      "print(\"p.u value of reactance of motor 3 =%.4f p.u\" %Zp_um3)\n",
      "\n"
     ],
     "language": "python",
     "metadata": {},
     "outputs": [
      {
       "output_type": "stream",
       "stream": "stdout",
       "text": [
        "Base value of voltage in line = 113.44 kV\n",
        "Base value of voltage in motor circuit=33 kV\n",
        "p.u value of reactance transformer =0.06839 p.u\n",
        "p.u value of impedence of line=0.3886 p.u\n",
        "p.u value of reactance of motor 1 =0.5510 p.u\n",
        "p.u value of reactance of motor 2 =0.826 p.u\n",
        "p.u value of reactance of motor 3 =0.3306 p.u\n"
       ]
      }
     ],
     "prompt_number": 1
    }
   ],
   "metadata": {}
  }
 ]
}