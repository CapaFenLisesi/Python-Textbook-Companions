{
 "metadata": {
  "name": ""
 },
 "nbformat": 3,
 "nbformat_minor": 0,
 "worksheets": [
  {
   "cells": [
    {
     "cell_type": "heading",
     "level": 1,
     "metadata": {},
     "source": [
      "Chapter 22 : Power System Voltage Stability"
     ]
    },
    {
     "cell_type": "heading",
     "level": 2,
     "metadata": {},
     "source": [
      "Example 22.2, Page No 725"
     ]
    },
    {
     "cell_type": "code",
     "collapsed": false,
     "input": [
      "import math\n",
      "#initialisation of variables\n",
      "Vb=500.0\n",
      "Sb=1000.0\n",
      "\n",
      "#Calculations\n",
      "Zb=Vb**2/Sb\n",
      "Xpu=.35*100/Zb\n",
      "Zth=1000/5000.0\n",
      "X=Xpu+Zth\n",
      "V=1.0\n",
      "Q=0\n",
      "P=1.0\n",
      "Eth=V+(Q*X/V)+complex(P*X/V)\n",
      "Q=0.75\n",
      "Eth1=V+(Q*X/V)+complex(P*X/V)\n",
      "\n",
      "#Results\n",
      "print(\"(i) For p.f unity , Eth= {0:.5f}+{1:.5f}i\".format(Eth.real, Eth.imag))\n",
      "print(\"(i) For p.f .8 , Eth= {0:.5f}+{1:.5f}i\".format(Eth1.real, Eth1.imag))"
     ],
     "language": "python",
     "metadata": {},
     "outputs": [
      {
       "output_type": "stream",
       "stream": "stdout",
       "text": [
        "(i) For p.f unity , Eth= 1.34000+0.00000i\n",
        "(i) For p.f .8 , Eth= 1.59500+0.00000i\n"
       ]
      }
     ],
     "prompt_number": 1
    },
    {
     "cell_type": "heading",
     "level": 2,
     "metadata": {},
     "source": [
      "Example 22.3, Page No 726"
     ]
    },
    {
     "cell_type": "code",
     "collapsed": false,
     "input": [
      "import math\n",
      "#initialisation of variables\n",
      "X=.625\n",
      "P=1.0\n",
      "Q=0.6\n",
      "V=1.0\n",
      "\n",
      "#Calculations\n",
      "Eth=V+(Q*X/V)+complex(P*X/V)\n",
      "Phase_Eth=math.degrees(math.atan(Eth.imag/Eth.real))\n",
      "\n",
      "#Results\n",
      "print(\"Eth=%.2f at an angle %.0f degrees\" %(abs(Eth),Phase_Eth))"
     ],
     "language": "python",
     "metadata": {},
     "outputs": [
      {
       "output_type": "stream",
       "stream": "stdout",
       "text": [
        "Eth=2.00 at an angle 0 degrees\n"
       ]
      }
     ],
     "prompt_number": 2
    },
    {
     "cell_type": "heading",
     "level": 2,
     "metadata": {},
     "source": [
      "Example 22.4, Page No 732"
     ]
    },
    {
     "cell_type": "code",
     "collapsed": false,
     "input": [
      "import math\n",
      "#initialisation of variables\n",
      "P=0.5\n",
      "toff=4.0\n",
      "\n",
      "#Calculations\n",
      "ton=(P*toff-0*toff)/(0.8-P)\n",
      "\n",
      "#Results\n",
      "print(\"Toff= 4min .\")\n",
      "print(\"ton(min.)=%.3f min.\" %ton)"
     ],
     "language": "python",
     "metadata": {},
     "outputs": [
      {
       "output_type": "stream",
       "stream": "stdout",
       "text": [
        "Toff= 4min .\n",
        "ton(min.)=6.667 min.\n"
       ]
      }
     ],
     "prompt_number": 3
    },
    {
     "cell_type": "heading",
     "level": 2,
     "metadata": {},
     "source": [
      "Example 22.6 Page No 739"
     ]
    },
    {
     "cell_type": "code",
     "collapsed": false,
     "input": [
      "import math\n",
      "#initialisation of variables\n",
      "V=1.0\n",
      "Qload=1.0*V\n",
      "Qcap=-0.75*V**2\n",
      "\n",
      "#Calculations\n",
      "Qnet=Qload+Qcap\n",
      "VS=1-0.75*2*V     # voltage sensitivity\n",
      "\n",
      "#Results\n",
      "print(\"Voltage sensitivity=%.3f\" %VS)\n",
      "print(\"since the voltage sensitivity is negative,\\nvoltage regulation by tap changing will reduce net reactive load and improive voltage stability \")"
     ],
     "language": "python",
     "metadata": {},
     "outputs": [
      {
       "output_type": "stream",
       "stream": "stdout",
       "text": [
        "Voltage sensitivity=-0.500\n",
        "since the voltage sensitivity is negative,\n",
        "voltage regulation by tap changing will reduce net reactive load and improive voltage stability \n"
       ]
      }
     ],
     "prompt_number": 4
    },
    {
     "cell_type": "heading",
     "level": 2,
     "metadata": {},
     "source": [
      "Example 22.7, Page No 740"
     ]
    },
    {
     "cell_type": "code",
     "collapsed": false,
     "input": [
      "import math\n",
      "#initialisation of variables\n",
      "Y=complex(-10)\n",
      "n=1+0.1\n",
      "\n",
      "#Calculations\n",
      "Y1=n*(n-1)*Y\n",
      "Y2=(1-n)*Y\n",
      "\n",
      "#Results\n",
      "print(\"Y1= {0:.2f}+{1:.2f}i\".format(Y1.real, Y1.imag))\n",
      "print(\"Y2= {0:.2f}+{1:.2f}i\".format(Y2.real, Y2.imag))\n",
      "print(\"The shunt elements equal to a reactor of 1.1V1^2 size oin the primary side and a capacitive of sixe 1V2**2 on the secondary side\")"
     ],
     "language": "python",
     "metadata": {},
     "outputs": [
      {
       "output_type": "stream",
       "stream": "stdout",
       "text": [
        "Y1= -1.10+0.00i\n",
        "Y2= 1.00+-0.00i\n",
        "The shunt elements equal to a reactor of 1.1V1^2 size oin the primary side and a capacitive of sixe 1V2**2 on the secondary side\n"
       ]
      }
     ],
     "prompt_number": 5
    },
    {
     "cell_type": "heading",
     "level": 2,
     "metadata": {},
     "source": [
      "Example 22.8, Page No 745"
     ]
    },
    {
     "cell_type": "code",
     "collapsed": false,
     "input": [
      "import math\n",
      "#initialisation of variables\n",
      "P=1.0\t\t#assuming\n",
      "S1=P/.95\t#For pf .95\n",
      "S2=P/.8\t\t#For pf .8\n",
      "\n",
      "#Calculations\n",
      "dMVA=(S2-S1)*100.0/P\t\t#Increase in MVA rating \n",
      "Q1=P*math.tan(math.radians(math.degrees(math.acos(0.95))))\t\t#Q for pf .95\n",
      "Q2=P*math.tan(math.radians(math.degrees(math.acos(0.8))))\t\t#Q for pf .8\n",
      "dPc=(Q2-Q1)*100.0/Q1\t\t#Percent additional Reactive Power Capability \n",
      "\n",
      "#Results\n",
      "print(\"Percent additional Reactive Power Capability is %.2f\" %dPc)"
     ],
     "language": "python",
     "metadata": {},
     "outputs": [
      {
       "output_type": "stream",
       "stream": "stdout",
       "text": [
        "Percent additional Reactive Power Capability is 128.18\n"
       ]
      }
     ],
     "prompt_number": 6
    }
   ],
   "metadata": {}
  }
 ]
}