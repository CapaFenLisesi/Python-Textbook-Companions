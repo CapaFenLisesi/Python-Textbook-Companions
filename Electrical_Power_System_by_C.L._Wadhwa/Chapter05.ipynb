{
 "metadata": {
  "name": ""
 },
 "nbformat": 3,
 "nbformat_minor": 0,
 "worksheets": [
  {
   "cells": [
    {
     "cell_type": "heading",
     "level": 1,
     "metadata": {},
     "source": [
      "Chapter 05 : High Voltage DC Transmission"
     ]
    },
    {
     "cell_type": "heading",
     "level": 2,
     "metadata": {},
     "source": [
      "Example 5.1, Page No 107"
     ]
    },
    {
     "cell_type": "code",
     "collapsed": false,
     "input": [
      "import math\n",
      "#initialisation of variables\n",
      "Vo=3*math.sqrt(2)*110/math.pi\n",
      "\n",
      "#Calculations \n",
      "Vd=Vo*(math.cos(math.radians(0))+math.cos(math.radians(15)))/2.0 \n",
      "Vd1=Vo*(math.cos(math.radians(30)) + math.cos(math.radians(45)))/2.0 \n",
      "Vd2=Vo*(math.cos(math.radians(45)) + math.cos(math.radians(60)))/2.0 \n",
      "\n",
      "#Results\n",
      "print(\"(a)For a=0, Vd=%.2f kV\" %Vd) \n",
      "print(\"(b)For a=30,Vd=%.2f kV\" %Vd1) \n",
      "print(\"(c)For a=45,Vd=%.2f kV\" %Vd2) "
     ],
     "language": "python",
     "metadata": {},
     "outputs": [
      {
       "output_type": "stream",
       "stream": "stdout",
       "text": [
        "(a)For a=0, Vd=146.02 kV\n",
        "(b)For a=30,Vd=116.85 kV\n",
        "(c)For a=45,Vd=89.66 kV\n"
       ]
      }
     ],
     "prompt_number": 1
    },
    {
     "cell_type": "heading",
     "level": 2,
     "metadata": {},
     "source": [
      "Example 5.2, Page No 107"
     ]
    },
    {
     "cell_type": "code",
     "collapsed": false,
     "input": [
      "import math\n",
      "#initialisation of variables\n",
      "\n",
      "#Calculations\n",
      "VL=(100.0*2*math.pi)/(3*math.sqrt(2.0)*(math.cos(math.radians(30)) + math.cos(math.radians(45)))) \n",
      "print(\"VL=%.2f kV\" %VL)  #Answers don't match due to difference in rounding off of digits\n",
      "Tr=VL/110.0\n",
      "\n",
      "#Results \n",
      "print(\"tap ratio=%.2f \" %Tr) "
     ],
     "language": "python",
     "metadata": {},
     "outputs": [
      {
       "output_type": "stream",
       "stream": "stdout",
       "text": [
        "VL=94.14 kV\n",
        "tap ratio=0.86 \n"
       ]
      }
     ],
     "prompt_number": 2
    },
    {
     "cell_type": "heading",
     "level": 2,
     "metadata": {},
     "source": [
      "Example 5.3, Page No 109"
     ]
    },
    {
     "cell_type": "code",
     "collapsed": false,
     "input": [
      "import math\n",
      "#initialisation of variablesVd=100000\n",
      "Id=800.0  # current\n",
      "\n",
      "#Calculations\n",
      "X=((3*math.sqrt(2.0)*94.115*0.866*1000.0/math.pi)-Vd)*math.pi/(3.0*Id)\n",
      "\n",
      "#Results\n",
      "print(\"effective reactance per phase , X=%.2f ohm\\n\" %X)\t#Answer don't match due to difference in rounding off of digits"
     ],
     "language": "python",
     "metadata": {},
     "outputs": [
      {
       "output_type": "stream",
       "stream": "stdout",
       "text": [
        "effective reactance per phase , X=143.89 ohm\n",
        "\n"
       ]
      }
     ],
     "prompt_number": 3
    },
    {
     "cell_type": "heading",
     "level": 2,
     "metadata": {},
     "source": [
      "Example 5.4 Page No 112"
     ]
    },
    {
     "cell_type": "code",
     "collapsed": false,
     "input": [
      "import math\n",
      "#initialisation of variables\n",
      "a=15.0\n",
      "d0=10.0\n",
      "y=15.0\n",
      "X=15.0\n",
      "R=10.0\n",
      "\n",
      "#Calculations\n",
      "Id=(3*math.sqrt(2)*120*(math.cos(math.radians(a))-math.cos(math.radians(d0+y)))*1000.0)/((R+(3.0*2*X)/math.pi)*math.pi)\n",
      "\n",
      "#Results\n",
      "print(\"Id=%.2f amp.\" %Id)"
     ],
     "language": "python",
     "metadata": {},
     "outputs": [
      {
       "output_type": "stream",
       "stream": "stdout",
       "text": [
        "Id=249.99 amp.\n"
       ]
      }
     ],
     "prompt_number": 4
    }
   ],
   "metadata": {}
  }
 ]
}