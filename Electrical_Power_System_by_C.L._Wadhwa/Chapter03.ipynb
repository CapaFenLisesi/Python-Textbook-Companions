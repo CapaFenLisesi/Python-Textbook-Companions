{
 "metadata": {
  "name": ""
 },
 "nbformat": 3,
 "nbformat_minor": 0,
 "worksheets": [
  {
   "cells": [
    {
     "cell_type": "heading",
     "level": 1,
     "metadata": {},
     "source": [
      "Chapter 03 : Capacitance of Transmission Lines"
     ]
    },
    {
     "cell_type": "heading",
     "level": 2,
     "metadata": {},
     "source": [
      "Example 3.1, Page No 49"
     ]
    },
    {
     "cell_type": "code",
     "collapsed": false,
     "input": [
      "import math\n",
      "#initialisation of variables\n",
      "Dm=2.015 \t\t# mutual GMD of conductors(m)\n",
      "r=0.4 \t\t\t# radius of conductor(cm)\n",
      "\n",
      "#Calculations\n",
      "C=10**-9*1000.0/(18*math.log(201.5/.4)) \n",
      "Ic=132*1000.0*8.928*314*(10**-9)/math.sqrt(3.0)\n",
      "\n",
      "#Results\n",
      "print(\"capacitance =%.13f F/km\" %C)  #Answers don't match due to different representation\n",
      "print(\"charging current=%.4f amp/km\" %Ic) "
     ],
     "language": "python",
     "metadata": {},
     "outputs": [
      {
       "output_type": "stream",
       "stream": "stdout",
       "text": [
        "capacitance =0.0000000089288 F/km\n",
        "charging current=0.2136 amp/km\n"
       ]
      }
     ],
     "prompt_number": 1
    },
    {
     "cell_type": "heading",
     "level": 2,
     "metadata": {},
     "source": [
      "Example 3.2, Page No 52"
     ]
    },
    {
     "cell_type": "code",
     "collapsed": false,
     "input": [
      "import math\n",
      "#initialisation of variables\n",
      "GMDm=6.61 \t\t#mutual GMD(m)\n",
      "\n",
      "#Calculations\n",
      "Ds1=math.sqrt(1.25*(10**-2)*10.965) \n",
      "Ds3=Ds1 \n",
      "Ds2=math.sqrt(1.25*(10**-2)*9) \n",
      "Ds=((Ds1*Ds2*Ds3)**.333333) \n",
      "C=1/(18*math.log(GMDm/Ds)) \n",
      "Ic=220*1000*314*.01905*(10**-6)/math.sqrt(3) \n",
      "\n",
      "#Results\n",
      "print(\"capacitance =%.6f micro-Farad/km\" %C) \n",
      "print(\"charging current =%.2f amp/km\" %Ic)"
     ],
     "language": "python",
     "metadata": {},
     "outputs": [
      {
       "output_type": "stream",
       "stream": "stdout",
       "text": [
        "capacitance =0.019057 micro-Farad/km\n",
        "charging current =0.76 amp/km\n"
       ]
      }
     ],
     "prompt_number": 2
    },
    {
     "cell_type": "heading",
     "level": 2,
     "metadata": {},
     "source": [
      "Example 3.3, Page No 53"
     ]
    },
    {
     "cell_type": "code",
     "collapsed": false,
     "input": [
      "import math\n",
      "#initialisation of variables\n",
      "GMD=8.19 \n",
      "\n",
      "#Calculations\n",
      "Ds=math.sqrt(2.25*(10**-2)*.4) \n",
      "C=1/(18*math.log(GMD/Ds)) \n",
      "Ic=220*1000*314*C*(10**-6)/math.sqrt(3) \n",
      "\n",
      "#Results\n",
      "print(\"capacitance per km =%.5f micro-Farad\" %C) \n",
      "print(\"charging current =%.3f amp\" %Ic) "
     ],
     "language": "python",
     "metadata": {},
     "outputs": [
      {
       "output_type": "stream",
       "stream": "stdout",
       "text": [
        "capacitance per km =0.01246 micro-Farad\n",
        "charging current =0.497 amp\n"
       ]
      }
     ],
     "prompt_number": 3
    }
   ],
   "metadata": {}
  }
 ]
}