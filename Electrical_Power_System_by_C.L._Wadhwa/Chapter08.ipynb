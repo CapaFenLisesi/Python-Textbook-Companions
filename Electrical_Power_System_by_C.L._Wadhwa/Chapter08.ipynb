{
 "metadata": {
  "name": ""
 },
 "nbformat": 3,
 "nbformat_minor": 0,
 "worksheets": [
  {
   "cells": [
    {
     "cell_type": "heading",
     "level": 1,
     "metadata": {},
     "source": [
      "Chapter 08 : Overhead Line Insulators"
     ]
    },
    {
     "cell_type": "heading",
     "level": 2,
     "metadata": {},
     "source": [
      "Example 8.1, Page No 183"
     ]
    },
    {
     "cell_type": "code",
     "collapsed": false,
     "input": [
      "import math\n",
      "#initialisation of variables\n",
      "E3=17.5\n",
      "\n",
      "#Calculations\n",
      "E1=64*E3/89.0\n",
      "E2=9*E1/8.0\n",
      "E=E1+E2+E3\n",
      "\n",
      "#Results\n",
      "print(\"the maximum voltage that the string of the suspension insulators can withstand=%.2f kV\\n\" %E)"
     ],
     "language": "python",
     "metadata": {},
     "outputs": [
      {
       "output_type": "stream",
       "stream": "stdout",
       "text": [
        "the maximum voltage that the string of the suspension insulators can withstand=44.24 kV\n",
        "\n"
       ]
      }
     ],
     "prompt_number": 1
    }
   ],
   "metadata": {}
  }
 ]
}