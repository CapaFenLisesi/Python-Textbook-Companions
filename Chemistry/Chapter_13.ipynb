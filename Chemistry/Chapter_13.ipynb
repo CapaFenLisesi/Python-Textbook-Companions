{
 "metadata": {
  "name": ""
 },
 "nbformat": 3,
 "nbformat_minor": 0,
 "worksheets": [
  {
   "cells": [
    {
     "cell_type": "heading",
     "level": 1,
     "metadata": {},
     "source": [
      "Chapter 13:Chemical Kinetics"
     ]
    },
    {
     "cell_type": "heading",
     "level": 2,
     "metadata": {},
     "source": [
      "Example no:13.2,Page no:564"
     ]
    },
    {
     "cell_type": "code",
     "collapsed": false,
     "input": [
      "#Variable declaration\n",
      "dO2=-0.024 #rate of reaction of O2, M/s\n",
      "\n",
      "#Calculation\n",
      "#(a)\n",
      "dN2O5=-2*dO2 #rate of formation of N2O5, M/s\n",
      "#(b)\n",
      "dNO2=4*dO2 #rate of reaction of NO2, M/s\n",
      "\n",
      "#Result\n",
      "print\"(a).The rate of formation of N2O5 is :\",dN2O5,\"M/s\"\n",
      "print\"(b).The rate of reaction of NO2 is :\",dNO2,\"M/s\"\n"
     ],
     "language": "python",
     "metadata": {},
     "outputs": [
      {
       "output_type": "stream",
       "stream": "stdout",
       "text": [
        "(a).The rate of formation of N2O5 is : 0.048 M/s\n",
        "(b).The rate of reaction of NO2 is : -0.096 M/s\n"
       ]
      }
     ],
     "prompt_number": 2
    },
    {
     "cell_type": "heading",
     "level": 2,
     "metadata": {},
     "source": [
      "Example no:13.3,Page no:568"
     ]
    },
    {
     "cell_type": "code",
     "collapsed": false,
     "input": [
      "#Variable declaration\n",
      "NO1=5*10**-3 #conc of NO from 1st experiment, M\n",
      "H21=2*10**-3 #conc of H2 from 1st experiment, M\n",
      "r1=1.3*10**-5 #initial rate from 1st experiment, M/s\n",
      "NO2=10*10**-3 #conc of NO from 2nd experiment, M\n",
      "H22=2*10**-3 #conc of H2 from 2nd experiment, M\n",
      "r2=5*10**-5 #initial rate from 1st experiment, M/s\n",
      "NO3=10*10**-3 #conc of NO from 3rd experiment, M\n",
      "H23=4*10**-3 #conc of H2 from 3rd experiment, M\n",
      "r3=10*10**-5 #initial rate from 3rd experiment, M/s\n",
      "\n",
      "#Calculation\n",
      "import math\n",
      "#(a)\n",
      "#r=k*NO**x*H2**y, dividing r2/r1 and r3/r2\n",
      "x=math.log(r2/r1)/math.log(NO2/NO1) #since H21=H22\n",
      "y=math.log(r3/r2)/math.log(H23/H22) #since NO3=NO2\n",
      "x=round(x) \n",
      "y=round(y) \n",
      "#(b)\n",
      "k=r2/((NO2)**x*H22**y) #rate constant, /M**2 s\n",
      "#(c)\n",
      "NO=12*10**-3 #conc of NO, M\n",
      "H2=6*10**-3 #conc of H2, M\n",
      "rate=k*(NO**x)*H2**y #rate, M/s\n",
      "\n",
      "#Result\n",
      "print\"(a) the rate of reaction is : r=k[NO]**\",x,\"*[H2]**\",y\n",
      "print\"(b) the rate constant of the reaction is :%.1e\"%k,\" /M**2 s\" \n",
      "print\"(c) the rate of reaction at given concentration is :%.1e\"%rate,\" M/s\"\n"
     ],
     "language": "python",
     "metadata": {},
     "outputs": [
      {
       "output_type": "stream",
       "stream": "stdout",
       "text": [
        "(a) the rate of reaction is : r=k[NO]** 2.0 *[H2]** 1.0\n",
        "(b) the rate constant of the reaction is :2.5e+02  /M**2 s\n",
        "(c) the rate of reaction at given concentration is :2.2e-04  M/s\n"
       ]
      }
     ],
     "prompt_number": 72
    },
    {
     "cell_type": "heading",
     "level": 2,
     "metadata": {},
     "source": [
      "Example no:13.4,Page no:571"
     ]
    },
    {
     "cell_type": "code",
     "collapsed": false,
     "input": [
      "#Variable declaration\n",
      "t=8.8*60 #time, s\n",
      "k=6.7*10**-4 #rate constant, s-1\n",
      "\n",
      "#Calculation\n",
      "import math\n",
      "#(a)\n",
      "Ao1=0.25 #initial conc, M\n",
      "A1=math.exp(-k*t+math.log(Ao1)) #final conc, M\n",
      "#(b)\n",
      "A2=0.15 #initial conc, M\n",
      "Ao2=0.25 #final conc, M\n",
      "t2=-math.log(A2/Ao2)/(60*k) #time, min\n",
      "#(c)\n",
      "percent=74.0 \n",
      "#let initial conc be 1\n",
      "Ao3=1.0 #initial conc, M\n",
      "A3=1.0-percent/100.0 #final conc, M\n",
      "t3=-math.log(A3/Ao3)/(k*60.0) #time, min\n",
      "print\"(a) the concentration of cyclopropane at given time is :\",round(A1,2),\"M\"\n",
      "print\"(b) the time required is :\",round(t2),\"min\"\n",
      "print\"(c) the time required for required conversion is :%.1f\"%t3,\"min(approx)\""
     ],
     "language": "python",
     "metadata": {},
     "outputs": [
      {
       "output_type": "stream",
       "stream": "stdout",
       "text": [
        "(a) the concentration of cyclopropane at given time is : 0.18 M\n",
        "(b) the time required is : 13.0 min\n",
        "(c) the time required for required conversion is :33.5 min(approx)\n"
       ]
      }
     ],
     "prompt_number": 75
    },
    {
     "cell_type": "heading",
     "level": 2,
     "metadata": {},
     "source": [
      "Example no:13.5,Page no:573"
     ]
    },
    {
     "cell_type": "code",
     "collapsed": false,
     "input": [
      "#Variable declaration\n",
      "t=[0,100,150,200,250,300] #time(data given), s\n",
      "P=[284.0,220.0,193.0,170.0,150.0,132.0] #pressure(data given) in mmHg corresponding to time values\n",
      "lnP=[0,0,0,0,0,0]\n",
      "\n",
      "#Calculation\n",
      "import matplotlib.pyplot as plt\n",
      "import numpy as np\n",
      "from pylab import *\n",
      "%pylab inline\n",
      "lnP=numpy.log(P) #lnP values corresponding to P\n",
      "A=plot(t,lnP)\n",
      "plt.xlim(0,350)\n",
      "plt.ylim(4.8,5.8)\n",
      "plt.ylabel('$ln Pt$')\n",
      "plt.xlabel('$t(s)$')\n",
      "plt.title('Plot of ln Pt versus time for the decomposition of azomethane\\n')\n",
      "slope=np.polyfit(t,lnP,1)\n",
      "k=-slope[0]\n",
      "\n",
      "#Result\n",
      "show(A)\n",
      "print\"The rate constant for the decomposition is :%.2e\"%k,\"s**-1\"\n"
     ],
     "language": "python",
     "metadata": {},
     "outputs": [
      {
       "output_type": "stream",
       "stream": "stdout",
       "text": [
        "Populating the interactive namespace from numpy and matplotlib\n"
       ]
      },
      {
       "output_type": "stream",
       "stream": "stderr",
       "text": [
        "WARNING: pylab import has clobbered these variables: ['power', 'draw_if_interactive', 'random', 'fft', 'linalg', 'info']\n",
        "`%pylab --no-import-all` prevents importing * from pylab and numpy\n"
       ]
      },
      {
       "metadata": {},
       "output_type": "display_data",
       "png": "[encoded data removed]",
       "text": [
        "<matplotlib.figure.Figure at 0x856d978>"
       ]
      },
      {
       "output_type": "stream",
       "stream": "stdout",
       "text": [
        "The rate constant for the decomposition is :2.55e-03 s**-1\n"
       ]
      }
     ],
     "prompt_number": 76
    },
    {
     "cell_type": "heading",
     "level": 2,
     "metadata": {},
     "source": [
      "Example no:13.6,Page no:576"
     ]
    },
    {
     "cell_type": "code",
     "collapsed": false,
     "input": [
      "#Variable declaration\n",
      "k=5.36*10**-4 #rate constant, s-1\n",
      "\n",
      "#Calculation\n",
      "t_half=0.693/(60*k) #half life of the reaction, min\n",
      "\n",
      "#Result\n",
      "print\"The half life for the decomposition of ethane is :\",round(t_half,1),\"min\""
     ],
     "language": "python",
     "metadata": {},
     "outputs": [
      {
       "output_type": "stream",
       "stream": "stdout",
       "text": [
        "The half life for the decomposition of ethane is : 21.5 min\n"
       ]
      }
     ],
     "prompt_number": 77
    },
    {
     "cell_type": "heading",
     "level": 2,
     "metadata": {},
     "source": [
      "Example no:13.7,Page no:578"
     ]
    },
    {
     "cell_type": "code",
     "collapsed": false,
     "input": [
      "#Variable declaration\n",
      "k=7*10**9 #rate constant, M s\n",
      "\n",
      "#Calculation\n",
      "#(a)\n",
      "t=2*60 #half life of the reaction, s\n",
      "Ao1=0.086 \n",
      "A1=(k*t+1/Ao1)**-1 \n",
      "#(b)\n",
      "Ao2=0.6 \n",
      "t_half2=1/(Ao2*k) #half life of the reaction, s\n",
      "Ao3=0.42 \n",
      "t_half3=1/(Ao3*k) #half life of the reaction, s\n",
      "\n",
      "#Result\n",
      "print\"(a.)The concentration of I is :%.1e\"%A1,\"M\"\n",
      "print\"(b.)The half life for Io=0.6 is :%.1e\"%t_half2,\"s\"\n",
      "print\"    The half life for Io=0.42 is :%.1e\"%t_half3,\"s\""
     ],
     "language": "python",
     "metadata": {},
     "outputs": [
      {
       "output_type": "stream",
       "stream": "stdout",
       "text": [
        "(a.)The concentration of I is :1.2e-12 M\n",
        "(b.)The half life for Io=0.6 is :2.4e-10 s\n",
        "    The half life for Io=0.42 is :3.4e-10 s\n"
       ]
      }
     ],
     "prompt_number": 79
    },
    {
     "cell_type": "heading",
     "level": 2,
     "metadata": {},
     "source": [
      "Example no:13.8,Page no:584"
     ]
    },
    {
     "cell_type": "code",
     "collapsed": false,
     "input": [
      "#Variable declaration\n",
      "T=[700.0,730.0,760.0,790.0,810.0] #temperature(data given), K\n",
      "R=8.314 #gas constant, kJ/mol\n",
      "k=[0.011,0.035,0.105,0.343,0.789] #rate constant(data given) in 1/M**1/2 s corresponding to temperature values\n",
      "\n",
      "#Calculation\n",
      "x=numpy.reciprocal(T) #1/T values corresponding to Temp values above, K-1\n",
      "x=numpy.round(x,5)\n",
      "import math\n",
      "import numpy\n",
      "from pylab import *\n",
      "%pylab inline\n",
      "lnk=numpy.log(k) #lnk values corresponding to k\n",
      "lnk[0]=numpy.round(lnk[0],2)\n",
      "lnk[1]=numpy.round(lnk[1],2)\n",
      "lnk[2]=numpy.round(lnk[2],3)\n",
      "lnk[3]=numpy.round(lnk[3],3)\n",
      "lnk[4]=numpy.round(lnk[4],3)\n",
      "A=plot(x,lnk,marker='o', linestyle='-')\n",
      "plt.xlim(1.2*10**-3,1.45*10**-3)\n",
      "plt.ylim(-5.0,0.0)\n",
      "plt.ylabel('$ln k$')\n",
      "plt.xlabel('$1/T(K^-1)$')\n",
      "plt.title('Plot of ln k versus 1/T\\n')\n",
      "slope=np.polyfit(x,lnk,1)\n",
      "Ea=-slope[0]*R #activation energy, kJ/mol\n",
      "\n",
      "#Result\n",
      "show(A)\n",
      "print\"The activation energy for the decomposition is :%.3e\"%(Ea/1000),\"kJ/mol\"\n",
      "print\"NOTE:Slope is approximately calculated in book,that's why wrong answer\""
     ],
     "language": "python",
     "metadata": {},
     "outputs": [
      {
       "output_type": "stream",
       "stream": "stdout",
       "text": [
        "Populating the interactive namespace from numpy and matplotlib\n"
       ]
      },
      {
       "output_type": "stream",
       "stream": "stderr",
       "text": [
        "WARNING: pylab import has clobbered these variables: ['power', 'draw_if_interactive', 'random', 'fft', 'linalg', 'info']\n",
        "`%pylab --no-import-all` prevents importing * from pylab and numpy\n"
       ]
      },
      {
       "metadata": {},
       "output_type": "display_data",
       "png": "[encoded data removed]",
       "text": [
        "<matplotlib.figure.Figure at 0x8535d30>"
       ]
      },
      {
       "output_type": "stream",
       "stream": "stdout",
       "text": [
        "The activation energy for the decomposition is :1.797e+02 kJ/mol\n",
        "NOTE:Slope is approximately calculated in book,that's why wrong answer\n"
       ]
      }
     ],
     "prompt_number": 80
    },
    {
     "cell_type": "heading",
     "level": 2,
     "metadata": {},
     "source": [
      "Example no:13.9,Page no:586"
     ]
    },
    {
     "cell_type": "code",
     "collapsed": false,
     "input": [
      "import math\n",
      "#Variable declaration\n",
      "k1=3.46*10**-2 #rate constant at T1\n",
      "T1=298 #temp K\n",
      "T2=350 #temp K\n",
      "R=8.314 #gas constant,J/K mol\n",
      "Ea=50.2*1000 #activation energy, J/mol\n",
      "\n",
      "#Calculation\n",
      "k2=k1/math.exp(Ea/R*(T1-T2)/(T1*T2)) #from equation ln(k1/k2)=Ea*(T1-T2)/(T1*T2*R), S-1\n",
      "\n",
      "#Result\n",
      "print\"The rate constant at temp 350 is :\",round(k2,3),\"s**-1\""
     ],
     "language": "python",
     "metadata": {},
     "outputs": [
      {
       "output_type": "stream",
       "stream": "stdout",
       "text": [
        "The rate constant at temp 350 is : 0.702 s**-1\n"
       ]
      }
     ],
     "prompt_number": 81
    }
   ],
   "metadata": {}
  }
 ]
}