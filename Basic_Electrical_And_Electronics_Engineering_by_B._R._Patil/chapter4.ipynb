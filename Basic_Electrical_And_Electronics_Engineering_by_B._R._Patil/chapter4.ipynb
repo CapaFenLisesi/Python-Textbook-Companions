{
 "metadata": {
  "name": "",
  "signature": "sha256:bb989fb1fd31462248b192e15441cbb384879f100f9a8a541dfbefbf515c52a9"
 },
 "nbformat": 3,
 "nbformat_minor": 0,
 "worksheets": [
  {
   "cells": [
    {
     "cell_type": "heading",
     "level": 1,
     "metadata": {},
     "source": [
      "Chapter4:SINGLE-PHASE TRANSFORMER"
     ]
    },
    {
     "cell_type": "heading",
     "level": 2,
     "metadata": {},
     "source": [
      "Ex4.1:pg-332"
     ]
    },
    {
     "cell_type": "code",
     "collapsed": false,
     "input": [
      "n2=40.0               #Assigning values to parameters\n",
      "n1=600.0\n",
      "kva=50.0\n",
      "e1=2200.0\n",
      "e2=(e1*n2)/n1\n",
      "i1=kva*1000/e1\n",
      "i2=kva*1000/e2\n",
      "print\"The primary full load current is\",round(i1,2),\"A\"\n",
      "print\"The secondary full load current is\",round(i2,2),\"A\"\n",
      "print\"The secondary voltage at node is\",round(e2,2),\"Volts\""
     ],
     "language": "python",
     "metadata": {},
     "outputs": [
      {
       "output_type": "stream",
       "stream": "stdout",
       "text": [
        "The primary full load current is 22.73 A\n",
        "The secondary full load current is 340.91 A\n",
        "The secondary voltage at node is 146.67 Volts\n"
       ]
      }
     ],
     "prompt_number": 5
    },
    {
     "cell_type": "heading",
     "level": 2,
     "metadata": {},
     "source": [
      "Ex4.2:pg-333"
     ]
    },
    {
     "cell_type": "code",
     "collapsed": false,
     "input": [
      "e1=3200         #Assigning values to parameters\n",
      "f=50\n",
      "bm=1.2\n",
      "e2=400\n",
      "n2=111\n",
      "kva=80\n",
      "n1=e1*n2/e2\n",
      "i2=kva*1000/e2\n",
      "a=e2/(4.44*f*n2*bm)\n",
      "print\"number of turns on primary windings is n1=\",round(n1,2)\n",
      "print\"The secondary full load current is i2=\",round(i2,2),\"A\"\n",
      "print\"The cross-sectional area is a=\",round(a,4),\"meter square\""
     ],
     "language": "python",
     "metadata": {},
     "outputs": [
      {
       "output_type": "stream",
       "stream": "stdout",
       "text": [
        "number of turns on primary windings is n1= 888.0\n",
        "The secondary full load current is i2= 200.0 A\n",
        "The cross-sectional area is a= 0.0135 meter square\n"
       ]
      }
     ],
     "prompt_number": 7
    },
    {
     "cell_type": "heading",
     "level": 2,
     "metadata": {},
     "source": [
      "Ex4.3:pg-333"
     ]
    },
    {
     "cell_type": "code",
     "collapsed": false,
     "input": [
      "\n",
      "e1=6000        #Assigning values to parameters\n",
      "f=50\n",
      "e2=250\n",
      "fm=0.06\n",
      "n1=e1/(4.44*f*fm)\n",
      "n2=e2/(4.44*f*fm)\n",
      "print\"number of turns on primary windings is\",round(n1,2),\"turns\"\n",
      "print\"number of turns on secondary windings is\",round(n2,3),\"turns\""
     ],
     "language": "python",
     "metadata": {},
     "outputs": [
      {
       "output_type": "stream",
       "stream": "stdout",
       "text": [
        "number of turns on primary windings is 450.45 turns\n",
        "number of turns on secondary windings is 18.769 turns\n"
       ]
      }
     ],
     "prompt_number": 10
    },
    {
     "cell_type": "heading",
     "level": 2,
     "metadata": {},
     "source": [
      "Ex4.4:pg-334"
     ]
    },
    {
     "cell_type": "code",
     "collapsed": false,
     "input": [
      "f=50.0\n",
      "n2=50.0               #Assigning values to parameters\n",
      "n1=500.0\n",
      "kva=25.0\n",
      "e1=3000.0\n",
      "k=n2/n1\n",
      "i1=kva*1000/e1\n",
      "i2=i1/k\n",
      "e2=k*e1\n",
      "fm=e1/(4.44*f*n1)\n",
      "print\"The primary full load current is\",round(i1,2),\"A\"\n",
      "print\"The secondary full load current is\",round(i2,2),\"A\"\n",
      "print\"The secondary emf is\",round(e2,2),\"Volts\"\n",
      "print\"The maximum flux is\",round(fm,3),\"Wb\""
     ],
     "language": "python",
     "metadata": {},
     "outputs": [
      {
       "output_type": "stream",
       "stream": "stdout",
       "text": [
        "The primary full load current is 8.33 A\n",
        "The secondary full load current is 83.33 A\n",
        "The secondary emf is 300.0 Volts\n",
        "The maximum flux is 0.027 Wb\n"
       ]
      }
     ],
     "prompt_number": 16
    },
    {
     "cell_type": "heading",
     "level": 2,
     "metadata": {},
     "source": [
      "Ex4.5:pg-335"
     ]
    },
    {
     "cell_type": "code",
     "collapsed": false,
     "input": [
      "\n",
      "e1=230.0           #Assigning values to parameters\n",
      "v1=e1\n",
      "i0=5.0\n",
      "t=math.acos(0.25)\n",
      "n1=200.0\n",
      "f=50.0\n",
      "fm=e1/(4.44*f*n1)\n",
      "w1=v1*i0*cos(t)\n",
      "iu=i0*sin(t)\n",
      "print\"The maximum flux is\",round(fm*1000,3),\"mWb\"\n",
      "print\"The core loss is\",round(w1,2),\"Watts\"\n",
      "print\"The maximum current is\",round(iu,2),\"A\""
     ],
     "language": "python",
     "metadata": {},
     "outputs": [
      {
       "output_type": "stream",
       "stream": "stdout",
       "text": [
        "The maximum flux is 5.18 mWb\n",
        "The core loss is 287.5 Watts\n",
        "The maximum current is 4.84 A\n"
       ]
      }
     ],
     "prompt_number": 23
    },
    {
     "cell_type": "heading",
     "level": 2,
     "metadata": {},
     "source": [
      "Ex4.6:pg-335"
     ]
    },
    {
     "cell_type": "code",
     "collapsed": false,
     "input": [
      "\n",
      "k=0.25          #Assigning values to parameters\n",
      "sr=50\n",
      "pr=sr/(k*k)\n",
      "print\"The Secondary resistance is\",round(pr,2),\"ohms\""
     ],
     "language": "python",
     "metadata": {},
     "outputs": [
      {
       "output_type": "stream",
       "stream": "stdout",
       "text": [
        "The Secondary resistance is 800.0 ohms\n"
       ]
      }
     ],
     "prompt_number": 25
    },
    {
     "cell_type": "heading",
     "level": 2,
     "metadata": {},
     "source": [
      "Ex4.9:pg-338"
     ]
    },
    {
     "cell_type": "code",
     "collapsed": false,
     "input": [
      "\n",
      "wf=2500        #Assigning values to parameters\n",
      "w6=0.6*0.6*wf\n",
      "w5=0.5*0.5*wf\n",
      "print\"The copper loss at 60% full-load condition is\",round(w6,2),\"Watts\"\n",
      "print\"The copper loss at 50% full-load conditionis\",round(w5,2),\"Watts\""
     ],
     "language": "python",
     "metadata": {},
     "outputs": [
      {
       "output_type": "stream",
       "stream": "stdout",
       "text": [
        "The copper loss at 60% full-load condition is 900.0 Watts\n",
        "The copper loss at 50% full-load conditionis 625.0 Watts\n"
       ]
      }
     ],
     "prompt_number": 26
    },
    {
     "cell_type": "heading",
     "level": 2,
     "metadata": {},
     "source": [
      "Ex4.10:pg-338"
     ]
    },
    {
     "cell_type": "code",
     "collapsed": false,
     "input": [
      "\n",
      "w7=1200          #Assigning values to parameters\n",
      "wf=w7/(0.75*0.75)\n",
      "w5=0.5*0.5*wf\n",
      "print\"The copper loss at 50% full-load condition is\",round(w5,2),\"Watts\""
     ],
     "language": "python",
     "metadata": {},
     "outputs": [
      {
       "output_type": "stream",
       "stream": "stdout",
       "text": [
        "The copper loss at 50% full-load condition is 533.33 Watts\n"
       ]
      }
     ],
     "prompt_number": 27
    },
    {
     "cell_type": "heading",
     "level": 2,
     "metadata": {},
     "source": [
      "Ex4.11:pg-339"
     ]
    },
    {
     "cell_type": "code",
     "collapsed": false,
     "input": [
      "\n",
      "V=230.0;           #Assigning values to parameters\n",
      "VA=350.0;\n",
      "loss=110.0;\n",
      "I0=VA/V;\n",
      "pf=loss/VA;\n",
      "Iw=I0*pf;\n",
      "Iu=sqrt(I0**2-Iw**2);\n",
      "print\"Iron loss component of no load current\",round(Iw,3),\"A\"\n",
      "print\"Magnatizing component of no load current\",round(Iu,2),\"A\"\n",
      "print\"no load power factor\",round(pf,3)"
     ],
     "language": "python",
     "metadata": {},
     "outputs": [
      {
       "output_type": "stream",
       "stream": "stdout",
       "text": [
        "Iron loss component of no load current 0.478 A\n",
        "Magnatizing component of no load current 1.44 A\n",
        "no load power factor 0.314\n"
       ]
      }
     ],
     "prompt_number": 33
    },
    {
     "cell_type": "heading",
     "level": 2,
     "metadata": {},
     "source": [
      "\n",
      "Ex4.13:pg-354"
     ]
    },
    {
     "cell_type": "code",
     "collapsed": false,
     "input": [
      "\n",
      "r1=0.2          #Assigning values to parameters\n",
      "x1=0.75\n",
      "r2=0.05\n",
      "x2=0.2\n",
      "pf=0.8\n",
      "e2=125.0\n",
      "e1=250.0\n",
      "t=math.acos(0.8)\n",
      "k=e2/e1\n",
      "kva=5.0\n",
      "i2=kva*1000/e2\n",
      "r02=r2+k*k*r1\n",
      "x02=x2+k*k*x1\n",
      "pr1=(i2*r02*cos(t)-i2*x02*sin(t))*100/e2\n",
      "v2=e2-(e2*pr1/100)\n",
      "print\"The percentage regulation at full load 0.8 pf leading is\",round(pr1,2)\n",
      "print\"The secondary terminal voltage is\",round(v2,2),\"Volts\""
     ],
     "language": "python",
     "metadata": {},
     "outputs": [
      {
       "output_type": "stream",
       "stream": "stdout",
       "text": [
        "The percentage regulation at full load 0.8 pf leading is -4.88\n",
        "The secondary terminal voltage is 131.1 Volts\n"
       ]
      }
     ],
     "prompt_number": 35
    },
    {
     "cell_type": "heading",
     "level": 2,
     "metadata": {},
     "source": [
      "\n",
      "Ex4.14:pg-355"
     ]
    },
    {
     "cell_type": "code",
     "collapsed": false,
     "input": [
      "\n",
      "r1=2.0        #Assigning values to parameters\n",
      "r2=0.02\n",
      "wi=412.0\n",
      "pf=0.8\n",
      "x=1.0\n",
      "kva=50.0\n",
      "e1=2300.0\n",
      "e2=230.0\n",
      "i2=kva*1000/e2\n",
      "i1=kva*1000/e1\n",
      "wcf=(i1*i1*r1)+(i2*i2*r2)\n",
      "n1=x*kva*pf*100/((x*kva*pf)+(wi*0.001)+(x*x*wcf*0.001))\n",
      "x=0.5\n",
      "n2=x*kva*pf*100/((x*kva*pf)+(wi*0.001)+(x*x*wcf*0.001))\n",
      "print\"Efficiency at full node 0.8pf is\",round(n1,2),\"%\"\n",
      "print\"Efficiency at half full node 0.8pf is\",round(n2,2),\"%\""
     ],
     "language": "python",
     "metadata": {},
     "outputs": [
      {
       "output_type": "stream",
       "stream": "stdout",
       "text": [
        "Efficiency at full node 0.8pf is 94.56 %\n",
        "Efficiency at half full node 0.8pf is 95.76 %\n"
       ]
      }
     ],
     "prompt_number": 37
    },
    {
     "cell_type": "heading",
     "level": 2,
     "metadata": {},
     "source": [
      "\n",
      "Ex4.15:pg-356"
     ]
    },
    {
     "cell_type": "code",
     "collapsed": false,
     "input": [
      "\n",
      "x=1.0            #Assigning values to parameters\n",
      "kva=25.0\n",
      "pf=0.8\n",
      "wi=0.35\n",
      "wcf=0.4\n",
      "n1=x*kva*pf*100/((x*kva*pf)+(wi*0.001)+(x*x*wcf*0.001))\n",
      "kva1=kva*(sqrt(wi/wcf))\n",
      "nm=kva1*pf*100/((kva1*pf)+2*wi)\n",
      "print\"Load in KVA  is\",round(kva1,3)\n",
      "print\"Maximum Efficency is\",round(nm,2),\"%\""
     ],
     "language": "python",
     "metadata": {},
     "outputs": [
      {
       "output_type": "stream",
       "stream": "stdout",
       "text": [
        "Load in KVA  is 23.385\n",
        "Maximum Efficency is 96.39 %\n"
       ]
      }
     ],
     "prompt_number": 40
    },
    {
     "cell_type": "heading",
     "level": 2,
     "metadata": {},
     "source": [
      "\n",
      "Ex4.16:pg-357"
     ]
    },
    {
     "cell_type": "code",
     "collapsed": false,
     "input": [
      "\n",
      "x=1.0        #Assigning values to parameters\n",
      "kva=40.0\n",
      "pf=0.8\n",
      "wi=450.0\n",
      "wcf=850.0\n",
      "n1=x*kva*pf*100/((x*kva*pf)+(wi*0.001)+(x*x*wcf*0.001))\n",
      "x=sqrt(wi/wcf)\n",
      "n2=x*kva*pf*100/((x*kva*pf)+(2*wi*0.001))\n",
      "kva1=kva*sqrt(wi/wcf)\n",
      "print\"Efficiency at full node 0.8pf is\",round(x,4)\n",
      "print\"Maximum Efficency is\",round(n2,2)\n",
      "print\"Load in KVA at which maximum occurs is\",round(kva1,2)"
     ],
     "language": "python",
     "metadata": {},
     "outputs": [
      {
       "output_type": "stream",
       "stream": "stdout",
       "text": [
        "Efficiency at full node 0.8pf is 0.7276\n",
        "Maximum Efficency is 96.28\n",
        "Load in KVA at which maximum occurs is 29.1\n"
       ]
      }
     ],
     "prompt_number": 43
    },
    {
     "cell_type": "heading",
     "level": 2,
     "metadata": {},
     "source": [
      "\n",
      "Ex4.17:pg-358"
     ]
    },
    {
     "cell_type": "code",
     "collapsed": false,
     "input": [
      "\n",
      "e1=2000.0        #Assigning values to parameters\n",
      "e2=200.0\n",
      "r1=2.3\n",
      "x1=4.2\n",
      "r2=0.025\n",
      "x2=0.04\n",
      "kva=20.0\n",
      "i1=kva*1000/e1\n",
      "i2=kva*1000/e2\n",
      "k=e2/e1\n",
      "r01=r1+r2/(k*k)\n",
      "x01=x1+x2/(k*k)\n",
      "r02=r2+k*k*r1\n",
      "x02=x2+k*k*x1\n",
      "print\"The equivalent primary resistance is\",round(r01,2),\"ohms\"\n",
      "print\"The equivalent primary reactance is\",round(x01,2),\"ohms\"\n",
      "print\"The equivalent Secondary resistance is\",round(r02,3),\"ohms\"\n",
      "print\"The equivalent Secondary reactance is\",round(x02,3),\"ohms\""
     ],
     "language": "python",
     "metadata": {},
     "outputs": [
      {
       "output_type": "stream",
       "stream": "stdout",
       "text": [
        "The equivalent primary resistance is 4.8 ohms\n",
        "The equivalent primary reactance is 8.2 ohms\n",
        "The equivalent Secondary resistance is 0.048 ohms\n",
        "The equivalent Secondary reactance is 0.082 ohms\n"
       ]
      }
     ],
     "prompt_number": 46
    },
    {
     "cell_type": "heading",
     "level": 2,
     "metadata": {},
     "source": [
      "\n",
      "Ex4.18:pg-359"
     ]
    },
    {
     "cell_type": "code",
     "collapsed": false,
     "input": [
      "\n",
      "x=1.0        #Assigning values to parameters\n",
      "kva=20.0\n",
      "pf=0.8\n",
      "wi=450.0\n",
      "wcf=900.0\n",
      "n1=x*kva*pf*100/((x*kva*pf)+(wi*0.001)+(x*x*wcf*0.001))\n",
      "x=sqrt(wi/wcf)\n",
      "n2=x*kva*pf*100/((x*kva*pf)+(2*wi*0.001))\n",
      "print\"Efficiency at full node 0.8pf is\",round(n1,2),\"%\"\n",
      "print\"Maximum Efficency is\",round(n2,2),\"%\"\n",
      "print\"Load  at which maximum occurs is\",round(x,3)"
     ],
     "language": "python",
     "metadata": {},
     "outputs": [
      {
       "output_type": "stream",
       "stream": "stdout",
       "text": [
        "Efficiency at full node 0.8pf is 92.22 %\n",
        "Maximum Efficency is 92.63 %\n",
        "Load  at which maximum occurs is 0.707\n"
       ]
      }
     ],
     "prompt_number": 49
    },
    {
     "cell_type": "heading",
     "level": 2,
     "metadata": {},
     "source": [
      "Ex4.20:pg-361"
     ]
    },
    {
     "cell_type": "code",
     "collapsed": false,
     "input": [
      "\n",
      "nm=98.0        #Assigning values to parameters\n",
      "x=0.5\n",
      "kva=200.0\n",
      "pf=1.0\n",
      "wi=1000*((x*kva*pf*100/nm)/2-(x*kva*pf)/2)\n",
      "wcu=wi\n",
      "wcf=wcu/(0.5*0.5)\n",
      "n1=(x*kva*pf*100)/((x*kva*pf)+(wi*0.001)+(x*x*wcf*0.001))\n",
      "x=0.75\n",
      "n2=(x*kva*pf*100)/((x*kva*pf)+(wi*0.001)+(x*x*wcf*0.001))\n",
      "print\"The core loss is\",round(wi/1000,4),\"kWatts\"\n",
      "print\"Efficiency at full node 0.8pf is\",round(n1,2)\n",
      "print\"Efficiency at 75% full node 0.8pf is\",round(n2,2)"
     ],
     "language": "python",
     "metadata": {},
     "outputs": [
      {
       "output_type": "stream",
       "stream": "stdout",
       "text": [
        "The core loss is 1.0204 kWatts\n",
        "Efficiency at full node 0.8pf is 98.0\n",
        "Efficiency at 75% full node 0.8pf is 97.84\n"
       ]
      }
     ],
     "prompt_number": 55
    },
    {
     "cell_type": "heading",
     "level": 2,
     "metadata": {},
     "source": [
      "Ex4.21:pg-362"
     ]
    },
    {
     "cell_type": "code",
     "collapsed": false,
     "input": [
      "\n",
      "r1=0.3 #Assigning values to parameters\n",
      "r2=0.01\n",
      "x1=1.1\n",
      "x2=0.035\n",
      "kva=100\n",
      "v1=2200\n",
      "e1=v1\n",
      "n1=400.0\n",
      "n2=80.0\n",
      "k=n2/n1\n",
      "r01=r1+r2/(k*k)\n",
      "x01=x1+x2/(k*k)\n",
      "z01=sqrt(r01*r01+x01*x01)\n",
      "e2=k*e1\n",
      "i2=kva*1000/e2\n",
      "r02=k*k*r01\n",
      "x02=k*k*x01\n",
      "pr1=(i2*r02*cos(t)-i2*x02*sin(t))*100/e2\n",
      "v2=e2-(e2*pr1/100)\n",
      "print\"The equivalent primary resistance is z01=\",round(z01,2),\"ohms\"\n",
      "print\"The percentage voltage regulation at full load 0.8 pf leading is x02=\",round(x02,3),\"ohms\"\n",
      "print\"The secondary terminal voltage is v2=\",round(v2,2),\"volts\"\n"
     ],
     "language": "python",
     "metadata": {},
     "outputs": [
      {
       "output_type": "stream",
       "stream": "stdout",
       "text": [
        "The equivalent primary resistance is z01= 2.05 ohms\n",
        "The percentage voltage regulation at full load 0.8 pf leading is x02= 0.079 ohms\n",
        "The secondary terminal voltage is v2= 446.77 volts\n"
       ]
      }
     ],
     "prompt_number": 61
    },
    {
     "cell_type": "heading",
     "level": 2,
     "metadata": {},
     "source": [
      "Ex4.22:pg-363"
     ]
    },
    {
     "cell_type": "code",
     "collapsed": false,
     "input": [
      "\n",
      "E2=20.0;         #Assigning values to parameters\n",
      "E1=1000.0;\n",
      "kva=5.0;\n",
      "I2=kva*1000/E2;\n",
      "K=E2/E1;\n",
      "R01=4.4\n",
      "R02=K*K*R01;\n",
      "X01=8.98\n",
      "X02=K*K*X01;\n",
      "pf=0.8\n",
      "percentreg=(I2*R02*pf+I2*X02*sqrt(1-pf*pf))*100/E2;\n",
      "print\"Percentage maximum regulation is=\",round(percentreg,2)\n",
      "wi=90\n",
      "I1=kva*1000/E1\n",
      "Wcf=I1*I1*R01\n",
      "kvam=kva*sqrt(wi/Wcf)\n",
      "print\"kva at maximum Efficency is kvam=\",round(kvam,2)"
     ],
     "language": "python",
     "metadata": {},
     "outputs": [
      {
       "output_type": "stream",
       "stream": "stdout",
       "text": [
        "Percentage maximum regulation is= 4.45\n",
        "kva at maximum Efficency is kvam= 4.52\n"
       ]
      }
     ],
     "prompt_number": 18
    },
    {
     "cell_type": "heading",
     "level": 2,
     "metadata": {},
     "source": [
      "Ex4.23:pg-365"
     ]
    },
    {
     "cell_type": "code",
     "collapsed": false,
     "input": [
      "\n",
      "v1=200.0                  #Assigning values to parameters\n",
      "i0=0.7\n",
      "w=70.0\n",
      "k=400/200\n",
      "t=math.acos(w/(v1*i0))\n",
      "iw=i0*cos(t)\n",
      "iu=i0*sin(t)\n",
      "r0=v1/iw\n",
      "x0=v1/iu\n",
      "vsc=15.0\n",
      "i2=10.0\n",
      "w=85.0\n",
      "r02=w/(i2*i2)\n",
      "z02=vsc/i2\n",
      "x02=sqrt(z02*z02-r02*r02)\n",
      "r01=r02/(k*k)\n",
      "x01=x02/(k*k)\n",
      "e2=400.0\n",
      "i2=5*1000/(0.8*e2)\n",
      "v2=e2-i2*r02*cos(t)-i2*x02*sin(t)\n",
      "print\"The secondary Voltage is v2=\",round(v2,2),\"volts\"\n",
      "#the answer of v2 in the book is wrong,because in the book ,the values of cos(t) & sin(t) are wrong."
     ],
     "language": "python",
     "metadata": {},
     "outputs": [
      {
       "output_type": "stream",
       "stream": "stdout",
       "text": [
        "The secondary Voltage is v2= 376.64 volts\n"
       ]
      }
     ],
     "prompt_number": 50
    },
    {
     "cell_type": "heading",
     "level": 2,
     "metadata": {},
     "source": [
      "Ex4.24:pg-366"
     ]
    },
    {
     "cell_type": "code",
     "collapsed": false,
     "input": [
      "\n",
      "wi=1000.0                #Assigning values to parameters\n",
      "kva=50.0\n",
      "e1=2200.0\n",
      "ifl=kva*1000/e1\n",
      "x=1.0\n",
      "pf=0.8\n",
      "wcf=(ifl/20)*(ifl/20)*500\n",
      "n1=x*kva*pf*100/((x*kva*pf)+(wi*0.001)+(x*x*wcf*0.001))\n",
      "x=sqrt(wi/wcf)\n",
      "n2=x*kva*pf*100/((x*kva*pf)+(2*wi*0.001))\n",
      "print\"Efficiency at full node 0.8pf is n1=\",round(n1,3)\n",
      "print\"Maximum Efficency is n2=\",round(n2,2)\n",
      "print\"Load  at which maximum occurs is x=\",round(x,2)"
     ],
     "language": "python",
     "metadata": {},
     "outputs": [
      {
       "output_type": "stream",
       "stream": "stdout",
       "text": [
        "Efficiency at full node 0.8pf is n1= 96.048\n",
        "Maximum Efficency is n2= 96.14\n",
        "Load  at which maximum occurs is x= 1.24\n"
       ]
      }
     ],
     "prompt_number": 21
    },
    {
     "cell_type": "heading",
     "level": 2,
     "metadata": {},
     "source": [
      "Ex4.25:pg-367"
     ]
    },
    {
     "cell_type": "code",
     "collapsed": false,
     "input": [
      "\n",
      "kva=5.0                #Assigning values to parameters\n",
      "e2=400.0\n",
      "r02=0.85\n",
      "x02=1.236\n",
      "i2f=kva*1000/e2\n",
      "t=math.acos(0.8)\n",
      "pr1=(i2f*r02*cos(t)+i2f*x02*sin(t))*100/e2\n",
      "pr2=(i2f*r02*cos(t)-i2f*x02*sin(t))*100/e2\n",
      "print\"The percentage regulation at full load 0.8 pf lagging is\",round(pr1,2)\n",
      "print\"The percentage regulation at full load 0.8 pf leading is\",round(pr2,2)"
     ],
     "language": "python",
     "metadata": {},
     "outputs": [
      {
       "output_type": "stream",
       "stream": "stdout",
       "text": [
        "The percentage regulation at full load 0.8 pf lagging is 4.44\n",
        "The percentage regulation at full load 0.8 pf leading is -0.19\n"
       ]
      }
     ],
     "prompt_number": 22
    },
    {
     "cell_type": "heading",
     "level": 2,
     "metadata": {},
     "source": [
      "Ex4.26:pg-369"
     ]
    },
    {
     "cell_type": "code",
     "collapsed": false,
     "input": [
      "\n",
      "cl=(10.0/12)*(10.0/12)*100          #Assigning values to parameters\n",
      "op=500*10*0.8\n",
      "il=80.0\n",
      "eff=op*100/(op+il+cl)\n",
      "print\"The efficiency is eff=\",round(eff,2)"
     ],
     "language": "python",
     "metadata": {},
     "outputs": [
      {
       "output_type": "stream",
       "stream": "stdout",
       "text": [
        "The efficiency is eff= 96.4\n"
       ]
      }
     ],
     "prompt_number": 23
    },
    {
     "cell_type": "heading",
     "level": 2,
     "metadata": {},
     "source": [
      "Ex4.27:pg-370"
     ]
    },
    {
     "cell_type": "code",
     "collapsed": false,
     "input": [
      "\n",
      "kw=15          #Assigning values to parameters\n",
      "t=math.acos(0.8)\n",
      "kva=kw/cos(t)\n",
      "x=kva/25\n",
      "wcf=500\n",
      "cl1=0.75*0.75*wcf\n",
      "kw=20\n",
      "t=math.acos(0.9)\n",
      "kva=kw/cos(t)\n",
      "x=kva/25\n",
      "cl2=x*x*500\n",
      "kw=10\n",
      "t=math.acos(0.9)\n",
      "kva=kw/cos(t)\n",
      "x=kva/25\n",
      "cl3=x*x*500\n",
      "tec=cl1*6+cl2*10+cl3*4\n",
      "tei=400*24\n",
      "eo=330000\n",
      "n=eo*100/(eo+tei+tec)\n",
      "print\"The efficiency is n=\",round(n,2),\"%\""
     ],
     "language": "python",
     "metadata": {},
     "outputs": [
      {
       "output_type": "stream",
       "stream": "stdout",
       "text": [
        "The efficiency is n= 95.48 %\n"
       ]
      }
     ],
     "prompt_number": 24
    },
    {
     "cell_type": "heading",
     "level": 2,
     "metadata": {},
     "source": [
      "Ex4.28:pg-371"
     ]
    },
    {
     "cell_type": "code",
     "collapsed": false,
     "input": [
      "\n",
      "kw=400.0          #Assigning values to parameters\n",
      "pf=0.8\n",
      "kva=kw/pf\n",
      "cl1=4.5\n",
      "kw=300.0\n",
      "pf=0.75\n",
      "kva=kw/pf\n",
      "cl2=(kva/500)*(kva/500)*4.5\n",
      "kw=100.0\n",
      "pf=0.8\n",
      "kva=kw/pf\n",
      "cl3=(kva/500)*(kva/500)*4.5\n",
      "cl4=0\n",
      "tec=cl1*6+cl2*10+cl3*4+cl4*4\n",
      "tei=84.0\n",
      "eo=5800.0\n",
      "n=eo*100/(eo+tei+tec)\n",
      "print\"The efficiency is n=\",round(n,2),\"%\""
     ],
     "language": "python",
     "metadata": {},
     "outputs": [
      {
       "output_type": "stream",
       "stream": "stdout",
       "text": [
        "The efficiency is n= 97.63 %\n"
       ]
      }
     ],
     "prompt_number": 35
    },
    {
     "cell_type": "heading",
     "level": 2,
     "metadata": {},
     "source": [
      "Ex4.29:pg-372"
     ]
    },
    {
     "cell_type": "code",
     "collapsed": false,
     "input": [
      "\n",
      "nm=0.98          #Assigning values to parameters\n",
      "kva=15.0\n",
      "x=1.0\n",
      "pf=1.0\n",
      "wi=((x*kva*pf/nm)/2-(x*kva*pf)/2)\n",
      "wcu=wi\n",
      "kw=2.0\n",
      "pf=0.5\n",
      "kva=kw/pf\n",
      "cl1=(kva/15)*(kva/15)*wi\n",
      "kw=12.0\n",
      "pf=0.8\n",
      "kva=kw/pf\n",
      "cl2=0.153\n",
      "kw=18.0\n",
      "pf=0.9\n",
      "kva=kw/pf\n",
      "cl3=(kva/15)*(kva/15)*wi\n",
      "tec=cl1*12+cl2*6+cl3*6\n",
      "tei=3.672\n",
      "eo=204.0\n",
      "n=eo*100/(eo+tei+tec)\n",
      "print\"The efficiency is n=\",round(n,2)"
     ],
     "language": "python",
     "metadata": {},
     "outputs": [
      {
       "output_type": "stream",
       "stream": "stdout",
       "text": [
        "The efficiency is n= 96.98\n"
       ]
      }
     ],
     "prompt_number": 36
    },
    {
     "cell_type": "heading",
     "level": 2,
     "metadata": {},
     "source": [
      "Ex4.30:pg-374"
     ]
    },
    {
     "cell_type": "code",
     "collapsed": false,
     "input": [
      "\n",
      "cl1=1.5          #Assigning values to parameters\n",
      "cl2=0.5*0.5*cl1\n",
      "tec=cl1*3+cl2*4\n",
      "tei=36\n",
      "eo=500\n",
      "n=eo*100/(eo+tei+tec)\n",
      "print\"The efficiency is n=\",round(n,2)"
     ],
     "language": "python",
     "metadata": {},
     "outputs": [
      {
       "output_type": "stream",
       "stream": "stdout",
       "text": [
        "The efficiency is n= 92.25\n"
       ]
      }
     ],
     "prompt_number": 15
    }
   ],
   "metadata": {}
  }
 ]
}