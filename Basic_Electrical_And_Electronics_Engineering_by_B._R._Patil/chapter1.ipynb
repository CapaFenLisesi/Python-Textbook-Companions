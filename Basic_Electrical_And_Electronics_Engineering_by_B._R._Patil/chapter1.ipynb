{
 "metadata": {
  "name": "",
  "signature": "sha256:98c010c55a73fcd7194a8654c95e19400d08da7a39526cc08cd5ba710fb56d16"
 },
 "nbformat": 3,
 "nbformat_minor": 0,
 "worksheets": [
  {
   "cells": [
    {
     "cell_type": "heading",
     "level": 1,
     "metadata": {},
     "source": [
      "Chapter1:DC CIRCUITS"
     ]
    },
    {
     "cell_type": "heading",
     "level": 2,
     "metadata": {},
     "source": [
      "Ex1.1:pg-06"
     ]
    },
    {
     "cell_type": "code",
     "collapsed": false,
     "input": [
      "alpha0=0.0043;              #Assigning values to the parameters\n",
      "t=50;\n",
      "R0=40;\n",
      "R50=R0*(1+0.0043*50);       # Calculating the risistance at 50 deg \n",
      "print\"Resistance at 50 deg C is R50=\",round(R50,2),\"ohms\""
     ],
     "language": "python",
     "metadata": {},
     "outputs": [
      {
       "output_type": "stream",
       "stream": "stdout",
       "text": [
        "Resistance at 50 deg C is R50= 48.6 ohms\n"
       ]
      }
     ],
     "prompt_number": 1
    },
    {
     "cell_type": "heading",
     "level": 2,
     "metadata": {},
     "source": [
      "Ex1.2:pg-06"
     ]
    },
    {
     "cell_type": "code",
     "collapsed": false,
     "input": [
      "R18=12.7;                            #Assigning values to the parameters\n",
      "R50=14.3;\n",
      "t1=18;\n",
      "t2=50;\n",
      "alpha0=(R50-R18)/(t2*R18-t1*R50);\n",
      "alpha18=alpha0/(1+t1*alpha0);\n",
      "R0=R18/(1+t1*alpha0);               # Calculating resistance at 0 deg C\n",
      "print\"Temperature coefficient at 0 deg C is alpha0=\",\"{:.2e}\".format(alpha0),\"/deg C\"\n",
      "print\"temperature coefficient at 18 deg C is alpha18=\",\"{:.2e}\".format(alpha18),\"/deg C\"\n",
      "print\"Resistance at 0 deg C is R0=\",round(R0,2),\"ohms\""
     ],
     "language": "python",
     "metadata": {},
     "outputs": [
      {
       "output_type": "stream",
       "stream": "stdout",
       "text": [
        "Temperature coefficient at 0 deg C is alpha0= 4.24e-03 /deg C\n",
        "temperature coefficient at 18 deg C is alpha18= 3.94e-03 /deg C\n",
        "Resistance at 0 deg C is R0= 11.8 ohms\n"
       ]
      }
     ],
     "prompt_number": 16
    },
    {
     "cell_type": "heading",
     "level": 2,
     "metadata": {},
     "source": [
      "Ex1.3:pg-07"
     ]
    },
    {
     "cell_type": "code",
     "collapsed": false,
     "input": [
      "alpha20=0.00403;                   #Assigning values to the parameters\n",
      "t1=20;\n",
      "t2=60;\n",
      "R20=28.3;\n",
      "R60=R20*(1+alpha20*(t2-t1));       # Calculating value of resistance at 60 deg C\n",
      "print\"Resistance at 60 deg C is R60=\",round(R60,2),\"ohms\""
     ],
     "language": "python",
     "metadata": {},
     "outputs": [
      {
       "output_type": "stream",
       "stream": "stdout",
       "text": [
        "Resistance at 60 deg C is R60= 32.86 ohms\n"
       ]
      }
     ],
     "prompt_number": 9
    },
    {
     "cell_type": "heading",
     "level": 2,
     "metadata": {},
     "source": [
      "Ex1.4:pg-07"
     ]
    },
    {
     "cell_type": "code",
     "collapsed": false,
     "input": [
      "R15=80;                   #Assigning values to the parameters\n",
      "alpha0=0.004;\n",
      "t1=15;\n",
      "t2=50;\n",
      "R0=R15/(1+alpha0*t1);     # Calculating resistance at 0 deg C\n",
      "R50=R0*(1+alpha0*t2);     # Calculating resistance at 50 deg C\n",
      "print\"Resistance value at 0 deg C\",round(R0,2),\"ohms\"\n",
      "print\"Resistance value at 50 deg C\",round(R50,2),\"ohms\""
     ],
     "language": "python",
     "metadata": {},
     "outputs": [
      {
       "output_type": "stream",
       "stream": "stdout",
       "text": [
        "Resistance value at 0 deg C 75.47 ohms\n",
        "Resistance value at 50 deg C 90.57 ohms\n"
       ]
      }
     ],
     "prompt_number": 12
    },
    {
     "cell_type": "heading",
     "level": 2,
     "metadata": {},
     "source": [
      "Ex1.5:pg-08"
     ]
    },
    {
     "cell_type": "code",
     "collapsed": false,
     "input": [
      "R10=80;                #Assigning values to the parameters\n",
      "R60=96.6;\n",
      "t1=10;\n",
      "t2=60;\n",
      "alpha0=(R60-R10)/(t2*R10-t1*R60);\n",
      "print\"temperature coefficient at 0 deg C is alpha0=\",\"{:.2e}\".format(alpha0),\"/deg C\"\n"
     ],
     "language": "python",
     "metadata": {},
     "outputs": [
      {
       "output_type": "stream",
       "stream": "stdout",
       "text": [
        "temperature coefficient at 0 deg C is alpha0= 4.33e-03 /deg C\n"
       ]
      }
     ],
     "prompt_number": 15
    },
    {
     "cell_type": "heading",
     "level": 2,
     "metadata": {},
     "source": [
      "Ex1.6:pg-08"
     ]
    },
    {
     "cell_type": "code",
     "collapsed": false,
     "input": [
      "t1=20;               #Assigning values to the parameters\n",
      "R1=45;\n",
      "R2=48.5;\n",
      "alpha0=0.004;\n",
      "t2=((R2*(1+alpha0*t1))-45)/(alpha0*R1);      #calculating average temperature\n",
      "print\"Average temperature of winding at the end of the run when the resistance increases is t2=\",round(t2,2),\"deg C\""
     ],
     "language": "python",
     "metadata": {},
     "outputs": [
      {
       "output_type": "stream",
       "stream": "stdout",
       "text": [
        "Average temperature of winding at the end of the run when the resistance increases is t2= 41.0 deg C\n"
       ]
      }
     ],
     "prompt_number": 17
    },
    {
     "cell_type": "heading",
     "level": 2,
     "metadata": {},
     "source": [
      "Ex1.7:pg-08"
     ]
    },
    {
     "cell_type": "code",
     "collapsed": false,
     "input": [
      "t1=20.0;                                #Assigning values to the parameters\n",
      "R1=18.0;\n",
      "t2=50.0;\n",
      "R2=20.0;\n",
      "R3=21.0;\n",
      "ts=15.0;\n",
      "alpha0=(R2-R1)/(t2*R1-t1*R2);\n",
      "t=((R3*(1+alpha0*20))-(R1))/(alpha0*R1);\n",
      "print\" Temperature Coefficient at 0 deg C is t=\",round(t,2),\"deg C\"\n",
      "trise=t-ts;\n",
      "print\"mean temperature rise is trise=\",round(trise,2),\"deg C\""
     ],
     "language": "python",
     "metadata": {},
     "outputs": [
      {
       "output_type": "stream",
       "stream": "stdout",
       "text": [
        " Temperature Coefficient at 0 deg C is t= 65.0 deg C\n",
        "mean temperature rise is trise= 50.0 deg C\n"
       ]
      }
     ],
     "prompt_number": 22
    },
    {
     "cell_type": "heading",
     "level": 2,
     "metadata": {},
     "source": [
      "Ex1.8:pg-15"
     ]
    },
    {
     "cell_type": "code",
     "collapsed": false,
     "input": [
      "R1=5;                      #Assigning values to the parameters\n",
      "R2=7;\n",
      "R3=8;\n",
      "Req=R1+R2+R3;             # Calculating equivalent resistance\n",
      "V=100;\n",
      "I=V/Req;\n",
      "V1=I*R1;\n",
      "V2=I*R2;\n",
      "V3=I*R3;\n",
      "print\"Voltage across 5 Ohm resistor is V1\",round(V1,2),\"Volts\"\n",
      "print\"Voltage across 7 Ohm resistor is V2\",round(V2,2),\"Volts\"\n",
      "print\"Voltage across 8 Ohm resistor is V3\",round(V3,2),\"Volts\""
     ],
     "language": "python",
     "metadata": {},
     "outputs": [
      {
       "output_type": "stream",
       "stream": "stdout",
       "text": [
        "Voltage across 5 Ohm resistor is V1 25.0 Volts\n",
        "Voltage across 7 Ohm resistor is V2 35.0 Volts\n",
        "Voltage across 8 Ohm resistor is V3 40.0 Volts\n"
       ]
      }
     ],
     "prompt_number": 23
    },
    {
     "cell_type": "heading",
     "level": 2,
     "metadata": {},
     "source": [
      "Ex1.9:pg-16"
     ]
    },
    {
     "cell_type": "code",
     "collapsed": false,
     "input": [
      "V=100;                 #Assigning values to the parameters\n",
      "R1=5;\n",
      "R2=10;\n",
      "R3=20;\n",
      "I1=V/R1;\n",
      "I2=V/R2;\n",
      "I3=V/R3;\n",
      "Itot=I1+I2+I3;       #Calculating total current\n",
      "print\"Current through 5 Ohm resistor is I1=\",round(I1,2),\"Amperes\"\n",
      "print\"Current through 10 Ohm resistor is I2=\",round(I2,2),\"Amperes\"\n",
      "print\"Current through 20 Ohm resistor is I3=\",round(I3,2),\"Amperes\"\n",
      "print\"Total current is Itot=\",round(Itot,2),\"Amperes\"\n",
      "P=Itot*V;\n",
      "print\"Power drawn from the source is P=\",round(P,2),\"Watts\""
     ],
     "language": "python",
     "metadata": {},
     "outputs": [
      {
       "output_type": "stream",
       "stream": "stdout",
       "text": [
        "Current through 5 Ohm resistor is I1= 20.0 Amperes\n",
        "Current through 10 Ohm resistor is I2= 10.0 Amperes\n",
        "Current through 20 Ohm resistor is I3= 5.0 Amperes\n",
        "Total current is Itot= 35.0 Amperes\n",
        "Power drawn from the source is P= 3500.0 Watts\n"
       ]
      }
     ],
     "prompt_number": 24
    },
    {
     "cell_type": "heading",
     "level": 2,
     "metadata": {},
     "source": [
      "Ex1.10:pg-16"
     ]
    },
    {
     "cell_type": "code",
     "collapsed": false,
     "input": [
      "V=100;         # Assigning values to the parameters\n",
      "R1=5;\n",
      "R2=10;\n",
      "R3=15;\n",
      "R4=20;\n",
      "Req=R1+R2+R3+R4;  #Equivalent resistance\n",
      "V1=R1*V/Req;\n",
      "V2=R2*V/Req;\n",
      "V3=R3*V/Req;\n",
      "V4=R4*V/Req;\n",
      "print\"Voltage across 5 Ohms resistor is V1=\",round(V1,2),\"Volts\"\n",
      "print\"Voltage across 10 Ohms resistor is V2\",round(V2,2),\"Volts\"\n",
      "print\"Voltage across 15 Ohms resistor is V3=\",round(V3,2),\"Volts\"\n",
      "print\"Voltage across 20 Ohms resistor is V4\",round(V4,2),\"Volts\"\n"
     ],
     "language": "python",
     "metadata": {},
     "outputs": [
      {
       "output_type": "stream",
       "stream": "stdout",
       "text": [
        "Voltage across 5 Ohms resistor is V1= 10.0 Volts\n",
        "Voltage across 10 Ohms resistor is V2 20.0 Volts\n",
        "Voltage across 15 Ohms resistor is V3= 30.0 Volts\n",
        "Voltage across 20 Ohms resistor is V4 40.0 Volts\n"
       ]
      }
     ],
     "prompt_number": 27
    },
    {
     "cell_type": "heading",
     "level": 2,
     "metadata": {},
     "source": [
      "Ex1.11:pg-17"
     ]
    },
    {
     "cell_type": "code",
     "collapsed": false,
     "input": [
      "Itot=12.0;             #Assigning values to parameters\n",
      "R1=4.0;\n",
      "R2=12.0;\n",
      "R3=6.0;\n",
      "Req=1.0/((1/R1)+(1/R2)+(1/R3));        #Equivalent resistance\n",
      "V=Itot*Req;\n",
      "I1=V/R1;\n",
      "I2=V/R2;\n",
      "I3=V/R3;\n",
      "print\"Potential Difference across the parallel circuit is V=\",round(V,2),\"Volts\"\n",
      "print\"Current through 4 Ohm resistor is I1=\",round(I1),\"A\"\n",
      "print\"Current through 12 Ohm resistor is I2=\",round(I2),\"A\"\n",
      "print\"Current through 6 Ohm resistor is I3=\",round(I3),\"A\""
     ],
     "language": "python",
     "metadata": {},
     "outputs": [
      {
       "output_type": "stream",
       "stream": "stdout",
       "text": [
        "Potential Difference across the parallel circuit is V= 24.0 Volts\n",
        "Current through 4 Ohm resistor is I1= 6.0 A\n",
        "Current through 12 Ohm resistor is I2= 2.0 A\n",
        "Current through 6 Ohm resistor is I3= 4.0 A\n"
       ]
      }
     ],
     "prompt_number": 37
    },
    {
     "cell_type": "heading",
     "level": 2,
     "metadata": {},
     "source": [
      "Ex1.12:pg-17"
     ]
    },
    {
     "cell_type": "code",
     "collapsed": false,
     "input": [
      "I=5;             #Assigning values to the parameters\n",
      "I1=2;\n",
      "R2=6;\n",
      "I2=I-I1;\n",
      "V=R2*I2;\n",
      "R1=V/I1;\n",
      "P=I1*I1*R1+I2*I2*R2;\n",
      "print\"Value of R1=\",round(R1,2),\"ohms\"\n",
      "print\"Power absorbed by the circuit is P=\",round(P,2),\"Watts\"\n"
     ],
     "language": "python",
     "metadata": {},
     "outputs": [
      {
       "output_type": "stream",
       "stream": "stdout",
       "text": [
        "Value of R1= 9.0 ohms\n",
        "Power absorbed by the circuit is P= 90.0 Watts\n"
       ]
      }
     ],
     "prompt_number": 38
    },
    {
     "cell_type": "heading",
     "level": 2,
     "metadata": {},
     "source": [
      "Ex1.13:pg-18"
     ]
    },
    {
     "cell_type": "code",
     "collapsed": false,
     "input": [
      "R1=8.0;                        # Assigning values to resistors\n",
      "R2=6.0;\n",
      "R3=3.0;\n",
      "R4=18.0;\n",
      "R5=5.0;\n",
      "R=1/((1/R2)+(1/R3));        #simplifying the network\n",
      "Rs1=R+R4;\n",
      "Rs2=1/((1/Rs1)+(1/R5));\n",
      "Rs3=R1+Rs2;\n",
      "V=60;\n",
      "I=V/Rs3;                   # Current through the simplified network\n",
      "print\"Current through 8 Ohm resistor is I=\",round(I,2),\"A\""
     ],
     "language": "python",
     "metadata": {},
     "outputs": [
      {
       "output_type": "stream",
       "stream": "stdout",
       "text": [
        "Current through 8 Ohm resistor is I= 5.0 A\n"
       ]
      }
     ],
     "prompt_number": 31
    },
    {
     "cell_type": "heading",
     "level": 2,
     "metadata": {},
     "source": [
      "Ex1.14:pg-19"
     ]
    },
    {
     "cell_type": "code",
     "collapsed": false,
     "input": [
      "R1=1.0;                     # Assigning values to resistors\n",
      "R2=2.0;\n",
      "R3=1.0;\n",
      "R4=1.0;\n",
      "R=R3+R4;                 # Simplifying the network\n",
      "Req=1+(1/((1/R2)+(1/R)));\n",
      "V=100;\n",
      "I=V/Req;\n",
      "I2=I*(R/(R+R2));\n",
      "print\"Ammeter reading is=\",round(I2,2),\"A\""
     ],
     "language": "python",
     "metadata": {},
     "outputs": [
      {
       "output_type": "stream",
       "stream": "stdout",
       "text": [
        "Ammeter reading is= 25.0 A\n"
       ]
      }
     ],
     "prompt_number": 30
    },
    {
     "cell_type": "heading",
     "level": 2,
     "metadata": {},
     "source": [
      "Ex1.15:pg-20"
     ]
    },
    {
     "cell_type": "code",
     "collapsed": false,
     "input": [
      "R1=1.0;               # Assigning values to the parameters\n",
      "R2=5.0;\n",
      "R3=4.0;\n",
      "R4=8.0;\n",
      "R5=6.0;\n",
      "R6=2.0;\n",
      "R=R1+R2;           #series connection\n",
      "Ra=R5+R6;\n",
      "Rb=1/((1/R4)+(1/Ra)) ;\n",
      "Rc=R3+Rb;\n",
      "Req=1/((1/R)+(1/Rc));\n",
      "print\"Effective resistance is Req=\",round(Req,2),\"ohms\"\n"
     ],
     "language": "python",
     "metadata": {},
     "outputs": [
      {
       "output_type": "stream",
       "stream": "stdout",
       "text": [
        "Effective resistance is Req= 3.43 ohms\n"
       ]
      }
     ],
     "prompt_number": 42
    },
    {
     "cell_type": "heading",
     "level": 2,
     "metadata": {},
     "source": [
      "Ex1.16:pg-21"
     ]
    },
    {
     "cell_type": "code",
     "collapsed": false,
     "input": [
      "V=24.0;                        #Assigning values to parameters\n",
      "R1=4.0;\n",
      "R2=8.0;\n",
      "R3=6.0;\n",
      "R4=12.0;\n",
      "Ra=1/((1/R1)+(1/R4));       # Simplifying the network\n",
      "Rb=1/((1/R2)+(1/R3));\n",
      "Rc=1/((1/Ra)+(1/Rb));\n",
      "I=V/Rc;\n",
      "print\"Battery current is I=\",round(I,2),\"A\""
     ],
     "language": "python",
     "metadata": {},
     "outputs": [
      {
       "output_type": "stream",
       "stream": "stdout",
       "text": [
        "Battery current is I= 15.0 A\n"
       ]
      }
     ],
     "prompt_number": 39
    },
    {
     "cell_type": "heading",
     "level": 2,
     "metadata": {},
     "source": [
      "Ex1.17:pg-22"
     ]
    },
    {
     "cell_type": "code",
     "collapsed": false,
     "input": [
      "R1=15.0;                      #Assigning values to parameters\n",
      "R2=6.0;\n",
      "R3=30.0;\n",
      "R4=3.0;\n",
      "R5=4.0;\n",
      "V=10.0;\n",
      "Ra=R1+R2;                  # Simplifying the circuit\n",
      "Rb=R3+R4;\n",
      "Rc=1/((1/Ra)+(1/Rb));\n",
      "Req=Rc+R5;\n",
      "I=V/Req;\n",
      "print\"Battery current is I=\",round(I,2),\"A\""
     ],
     "language": "python",
     "metadata": {},
     "outputs": [
      {
       "output_type": "stream",
       "stream": "stdout",
       "text": [
        "Battery current is I= 0.59 A\n"
       ]
      }
     ],
     "prompt_number": 41
    },
    {
     "cell_type": "heading",
     "level": 2,
     "metadata": {},
     "source": [
      "Ex1.18:pg-23"
     ]
    },
    {
     "cell_type": "code",
     "collapsed": false,
     "input": [
      "R1=15.0;                          #Assigning parameters\n",
      "R2=6.0;\n",
      "R3=4.0;\n",
      "R4=30.0;\n",
      "R5=3.0;\n",
      "Ra=1/((1/R2)+(1/R5));          # Simplifying the circuit\n",
      "Rb=R3+Ra;\n",
      "Rc=1/((1/R1)+(1/R4));\n",
      "Req=Rb+Rc;\n",
      "print\"Effective resistance is Req=\",round(Req,2),\"ohms\""
     ],
     "language": "python",
     "metadata": {},
     "outputs": [
      {
       "output_type": "stream",
       "stream": "stdout",
       "text": [
        "Effective resistance is Req= 16.0 ohms\n"
       ]
      }
     ],
     "prompt_number": 44
    },
    {
     "cell_type": "heading",
     "level": 2,
     "metadata": {},
     "source": [
      "Ex1.19:pg-24"
     ]
    },
    {
     "cell_type": "code",
     "collapsed": false,
     "input": [
      "V=30.0;                       #Assignign values to parameters\n",
      "Rcf=2.0;\n",
      "Ref=2.0;\n",
      "Rec=2.4;\n",
      "Rbc=2.0;\n",
      "Rac=4.0;\n",
      "Rae=2.0;\n",
      "Rab=2.0;\n",
      "Rad=2.0;\n",
      "Red=1.0;\n",
      "Rc=Rab+Rbc;               # Simplifying the network\n",
      "Re=Rcf+Ref;\n",
      "Ra=1.0/((1.0/Rac)+(1.0/Rc));\n",
      "Re1=1.0/((1.0/Re)+(1.0/Rec));\n",
      "Ra1=Ra+Re1;\n",
      "Re2=1.0/((1.0/Rae)+(1.0/Ra1));\n",
      "Rd=Red+Re2;\n",
      "Req=1.0/((1.0/Rd)+(1.0/Rad));\n",
      "I=V/Req;                   # Calculation of battery current\n",
      "print\"Effective resistance is Req=\",round(Req,2),\"ohms\"\n",
      "print\"Battery current is I=\",round(I,2),\"A\""
     ],
     "language": "python",
     "metadata": {},
     "outputs": [
      {
       "output_type": "stream",
       "stream": "stdout",
       "text": [
        "Effective resistance is Req= 1.06 ohms\n",
        "Battery current is I= 28.2 A\n"
       ]
      }
     ],
     "prompt_number": 49
    },
    {
     "cell_type": "heading",
     "level": 2,
     "metadata": {},
     "source": [
      "Ex1.20:pg-25"
     ]
    },
    {
     "cell_type": "code",
     "collapsed": false,
     "input": [
      "R1=4.0;                       #Assigning values to parameters\n",
      "R2=6.0;\n",
      "R3=8.0;\n",
      "R4=2.0;\n",
      "Ra=1/((1/R1)+(1/R2));      # Simplifying the network\n",
      "Rb=1/((1/R3)+(1/R4));\n",
      "Req=Ra+Rb;\n",
      "print\"Effective resistance is Req=\",round(Req,2),\"ohms\""
     ],
     "language": "python",
     "metadata": {},
     "outputs": [
      {
       "output_type": "stream",
       "stream": "stdout",
       "text": [
        "Effective resistance is Req= 4.0 ohms\n"
       ]
      }
     ],
     "prompt_number": 46
    },
    {
     "cell_type": "heading",
     "level": 2,
     "metadata": {},
     "source": [
      "Ex1.21:pg-26"
     ]
    },
    {
     "cell_type": "code",
     "collapsed": false,
     "input": [
      "R1=5.0;                       #Assigning values to resistors\n",
      "R2=15.0;\n",
      "R3=10.0;\n",
      "R4=10.0;\n",
      "R5=40.0;\n",
      "R6=30.0;\n",
      "R7=20.0;\n",
      "R8=8.0;\n",
      "Rc=R2+R3;                  #Simplifying the network\n",
      "Re=R4+R5;\n",
      "Rf=R6+R7;\n",
      "R=1/((1/Re)+(1/Rf));\n",
      "Rd=1/((1/R)+(1/Rc));\n",
      "Req=Rd+R1+R8;\n",
      "print\"Effective resistance=\",round(Req,2),\"ohms\""
     ],
     "language": "python",
     "metadata": {},
     "outputs": [
      {
       "output_type": "stream",
       "stream": "stdout",
       "text": [
        "Effective resistance= 25.5 ohms\n"
       ]
      }
     ],
     "prompt_number": 14
    },
    {
     "cell_type": "heading",
     "level": 2,
     "metadata": {},
     "source": [
      "Ex1.22:pg-27"
     ]
    },
    {
     "cell_type": "code",
     "collapsed": false,
     "input": [
      "V=20;                   #Assigning values to different parameters\n",
      "I=1.5;\n",
      "R1=10;\n",
      "R2=15;\n",
      "R3=15;\n",
      "V10=R1*I;\n",
      "Vab=V-V10;\n",
      "I1=Vab/R2;\n",
      "I2=Vab/R3;\n",
      "I3=I-I1-I2;\n",
      "R=Vab/I3;\n",
      "print\"Value of unknown resistance=\",round(R,2),\"ohms\""
     ],
     "language": "python",
     "metadata": {},
     "outputs": [
      {
       "output_type": "stream",
       "stream": "stdout",
       "text": [
        "Value of unknown resistance= 6.0 ohms\n"
       ]
      }
     ],
     "prompt_number": 12
    },
    {
     "cell_type": "heading",
     "level": 2,
     "metadata": {},
     "source": [
      "Ex1.23:pg-28"
     ]
    },
    {
     "cell_type": "code",
     "collapsed": false,
     "input": [
      "P=36;                      #Assigning values to different parameters\n",
      "V=60;\n",
      "R1=12;\n",
      "R2=18;\n",
      "R3=36;\n",
      "I1=sqrt(P/R1);\n",
      "V12=I1*R1;\n",
      "Vr=V-V12;\n",
      "I2=V12/R2;\n",
      "I3=V12/R3;\n",
      "I=I1+I2+I3;\n",
      "R=Vr/I;\n",
      "print\"Value of unknown resistance=\",round(R,3),\"ohms\""
     ],
     "language": "python",
     "metadata": {},
     "outputs": [
      {
       "output_type": "stream",
       "stream": "stdout",
       "text": [
        "Value of unknown resistance= 11.321 ohms\n"
       ]
      }
     ],
     "prompt_number": 11
    },
    {
     "cell_type": "heading",
     "level": 2,
     "metadata": {},
     "source": [
      "Ex1.24:pg-28"
     ]
    },
    {
     "cell_type": "code",
     "collapsed": false,
     "input": [
      "R1=4.0;                    #Assigning values to parameters\n",
      "R2=9.0;\n",
      "R3=18.0;\n",
      "R4=2.0;\n",
      "R5=7.0;\n",
      "R6=15.0;\n",
      "V=125.0;\n",
      "R7=(R2*R3)/(R2+R3);\n",
      "Ra=R7+R1;\n",
      "Rb=R5+R4;\n",
      "R=(1/((1/Ra)+(1/Rb)))+R6;\n",
      "I=V/R;\n",
      "I1=(Rb/(Ra+Rb))*I;\n",
      "IR3=I1*Rb/(Rb+R3);\n",
      "VR3=IR3*R3;\n",
      "I2=I-I1;\n",
      "P4=I2*I2*R5;\n",
      "print\"current I=\",round(I,2),\"A\"\n",
      "print\"Current in 15 Ohm resistor=\",round(I1,2),\"A\"\n",
      "print\"Current in 18 Ohm resistor=\",round(IR3,2),\"A\"\n",
      "print\"current in 7 ohm resistor=\",round(I2,2),\"A\"\n",
      "print\"Voltage across 18 Ohm resistor=\",round(VR3,2),\"Volts\"\n",
      "print\"Power dissipated in 7 Ohm resistor=\",round(P4,2),\"Watts\""
     ],
     "language": "python",
     "metadata": {},
     "outputs": [
      {
       "output_type": "stream",
       "stream": "stdout",
       "text": [
        "current I= 6.33 A\n",
        "Current in 15 Ohm resistor= 3.0 A\n",
        "Current in 18 Ohm resistor= 1.0 A\n",
        "current in 7 ohm resistor= 3.33 A\n",
        "Voltage across 18 Ohm resistor= 18.0 Volts\n",
        "Power dissipated in 7 Ohm resistor= 77.78 Watts\n"
       ]
      }
     ],
     "prompt_number": 9
    },
    {
     "cell_type": "heading",
     "level": 2,
     "metadata": {},
     "source": [
      "Ex1.26:pg-32"
     ]
    },
    {
     "cell_type": "code",
     "collapsed": false,
     "input": [
      "I1=5.0;                          #Assigning values to parameters\n",
      "R1=2.0;\n",
      "V1=6.0;\n",
      "I2=2.0;\n",
      "R2=4.0;\n",
      "V2=I1*R1;                     #Performing source transformation\n",
      "V=V2-V1;\n",
      "I3=V/R1;\n",
      "I=I3+I2;\n",
      "IR2=I*R1/(R1+R2);\n",
      "print\"Current in 4 ohm resistor using source transformation\",round(IR2,2),\"A\""
     ],
     "language": "python",
     "metadata": {},
     "outputs": [
      {
       "output_type": "stream",
       "stream": "stdout",
       "text": [
        "Current in 4 ohm resistor using source transformation 1.33 A\n"
       ]
      }
     ],
     "prompt_number": 2
    },
    {
     "cell_type": "heading",
     "level": 2,
     "metadata": {},
     "source": [
      "Ex1.27:pg-33"
     ]
    },
    {
     "cell_type": "code",
     "collapsed": false,
     "input": [
      "V1=6.0;                             #Assigning values to parameters\n",
      "R1=2.0;\n",
      "R2=6.0;\n",
      "R3=2.0;\n",
      "I1=3.0;\n",
      "R4=1.0;\n",
      "R5=3.0;\n",
      "I2=V1/R1;                        #Performing source transformation\n",
      "R6=(R2*R3)/(R2+R3);\n",
      "V2=I2*R6;\n",
      "R7=R6+R1;\n",
      "I3=V2/R7;\n",
      "I4=I1+I3;\n",
      "IR5=I4*R7/(R7+R4+R5);\n",
      "print\"Current in 3 Ohm resistor using source transformation=\",round(IR5,2),\"A\""
     ],
     "language": "python",
     "metadata": {},
     "outputs": [
      {
       "output_type": "stream",
       "stream": "stdout",
       "text": [
        "Current in 3 Ohm resistor using source transformation= 2.0 A\n"
       ]
      }
     ],
     "prompt_number": 17
    },
    {
     "cell_type": "heading",
     "level": 2,
     "metadata": {},
     "source": [
      "Ex1.28:pg-35"
     ]
    },
    {
     "cell_type": "code",
     "collapsed": false,
     "input": [
      "R1=4.0;                          #Assigning values to parameters\n",
      "V1=7.0;\n",
      "R2=2.0;\n",
      "R3=4.0;\n",
      "I1=8.0;\n",
      "R4=6.0;\n",
      "R5=9.0;\n",
      "V2=12.0;\n",
      "R6=10.0;\n",
      "I2=V1/R1;                    #Performing source transformation\n",
      "V3=I1*R2;\n",
      "I3=V2/R5;\n",
      "R7=R2+R3;\n",
      "I4=V3/R7;\n",
      "R=1/((1/R1)+(1/R7)+(1/R4)+(1/R5));\n",
      "I=I2+I3-I4;\n",
      "V=I*R;\n",
      "IR6=V/(R+R6)\n",
      "print\"Current in 10 Ohm resistor using source transformation\",round(IR6,3),\"A\""
     ],
     "language": "python",
     "metadata": {},
     "outputs": [
      {
       "output_type": "stream",
       "stream": "stdout",
       "text": [
        "Current in 10 Ohm resistor using source transformation 0.052 A\n"
       ]
      }
     ],
     "prompt_number": 21
    },
    {
     "cell_type": "heading",
     "level": 2,
     "metadata": {},
     "source": [
      "Ex1.29:pg-39"
     ]
    },
    {
     "cell_type": "code",
     "collapsed": false,
     "input": [
      "import numpy as np\n",
      "from numpy.linalg import inv\n",
      "R1=3;  #Assigning values to parameters\n",
      "R2=2;\n",
      "R3=4;\n",
      "V1=35;\n",
      "V2=40;\n",
      "A=[5,2],[3,-4]  #Matrix of I1,I2 by KVL equations\n",
      "B=[35],[-5]\n",
      "a=inv(A)\n",
      "I=np.dot(a,B)# I matrix has I1 and I2 values\n",
      "I1=I[0][0]\n",
      "I2=I[1][0]\n",
      "print\"Current in 3 ohm resistor=\",round(I1,2),\"A\"\n",
      "print\"Current in 4 ohm resistor\",round(I2,2),\"A\"\n",
      "I3=I1+I2\n",
      "print\"Current in 2 ohm resistor\",round(I3,2),\"A\""
     ],
     "language": "python",
     "metadata": {},
     "outputs": [
      {
       "output_type": "stream",
       "stream": "stdout",
       "text": [
        "Current in 3 ohm resistor= 5.0 A\n",
        "Current in 4 ohm resistor 5.0 A\n",
        "Current in 2 ohm resistor 10.0 A\n"
       ]
      }
     ],
     "prompt_number": 89
    },
    {
     "cell_type": "heading",
     "level": 2,
     "metadata": {},
     "source": [
      "Ex1.30:pg-40"
     ]
    },
    {
     "cell_type": "code",
     "collapsed": false,
     "input": [
      "import numpy as np\n",
      "from numpy.linalg import inv\n",
      "R1=2.0;                     #Assigning values to parameters\n",
      "R2=3.0;\n",
      "R3=4.0;\n",
      "R4=5.0;\n",
      "R5=1.0;\n",
      "A=[3,-3],[9,12]           #Matrix of I1,I2 by KVL equations\n",
      "B=[2],[4]\n",
      "I=np.dot(inv(A),B)# I matrix has I1 and I2 values\n",
      "I1=I[0][0]\n",
      "I2=I[1][0]\n",
      "print\"Current in 1 Ohm resistor is I1\",round(I1,2),\"A\"\n",
      "print\"Current in 3 Ohm resistor is I2\",round(I2,3),\"A\"\n",
      "IR2=1-I1\n",
      "IR4=1-I1-I2\n",
      "IR5=I1+I2\n",
      "print\"Current in 2 Ohm resistor is IR2\",round(IR2,3),\"A\"\n",
      "print\"Current in 4 Ohm resistor is IR4\",round(IR4,3),\"A\"\n",
      "print\"Current in 5 Ohm resistor is IR5 \",round(IR5,3),\"A\""
     ],
     "language": "python",
     "metadata": {},
     "outputs": [
      {
       "output_type": "stream",
       "stream": "stdout",
       "text": [
        "Current in 1 Ohm resistor is I1 0.57 A\n",
        "Current in 3 Ohm resistor is I2 -0.095 A\n",
        "Current in 2 Ohm resistor is IR2 0.429 A\n",
        "Current in 4 Ohm resistor is IR4 0.524 A\n",
        "Current in 5 Ohm resistor is IR5  0.476 A\n"
       ]
      }
     ],
     "prompt_number": 92
    },
    {
     "cell_type": "heading",
     "level": 2,
     "metadata": {},
     "source": [
      "Ex1.31:pg-40"
     ]
    },
    {
     "cell_type": "code",
     "collapsed": false,
     "input": [
      "from numpy.linalg import inv\n",
      "A=[1,-5,3],[5,-1,-9],[7,1,-5]           #Matrix of I1,I2,I3 Coeffecients by KVL equations\n",
      "B=[0],[0],[1];\n",
      "a=inv(A)\n",
      "I=np.dot(a,B)\n",
      "I1=I[0][0]+I[1][0]\n",
      "print\"Current supplied by the battery is I1=\",round(I1,2),\"A\""
     ],
     "language": "python",
     "metadata": {},
     "outputs": [
      {
       "output_type": "stream",
       "stream": "stdout",
       "text": [
        "Current supplied by the battery is I1= 0.3 A\n"
       ]
      }
     ],
     "prompt_number": 88
    },
    {
     "cell_type": "heading",
     "level": 2,
     "metadata": {},
     "source": [
      "Ex1.32:pg-42"
     ]
    },
    {
     "cell_type": "code",
     "collapsed": false,
     "input": [
      "import numpy as np\n",
      "from numpy.linalg import inv\n",
      "A=[0,6,-2],[3,4,1],[1,2,-4]           #Matrix of I1,I2,I3 Coeffecients by KVL equations\n",
      "B=[9],[24],[-4]\n",
      "a=inv(A)\n",
      "I=np.dot(a,B)\n",
      "I1=I[1][0]\n",
      "print\"Current in 20 Ohm resistor=\",round(I1,3),\"A\""
     ],
     "language": "python",
     "metadata": {},
     "outputs": [
      {
       "output_type": "stream",
       "stream": "stdout",
       "text": [
        "Current in 20 Ohm resistor= 2.554 A\n"
       ]
      }
     ],
     "prompt_number": 87
    },
    {
     "cell_type": "heading",
     "level": 2,
     "metadata": {},
     "source": [
      "Ex1.38:pg-49"
     ]
    },
    {
     "cell_type": "code",
     "collapsed": false,
     "input": [
      "R1=2.0;                         #Assigning values to parameters\n",
      "R2=2.0;\n",
      "R3=4.0;\n",
      "R4=6.0;\n",
      "R5=6.0;\n",
      "R6=2.0;\n",
      "R7=7.0;\n",
      "Ra=R6*R3/(R3+R5+R6);         #Converting Delta to Star\n",
      "Rb=R5*R6/(R3+R5+R6);\n",
      "Rc=R3*R5/(R3+R5+R6);\n",
      "R8=Rc+R4;\n",
      "R9=Rb+R7;\n",
      "R10=(R8*R9)/(R8+R9);\n",
      "R=R1+R2+Ra+R10;\n",
      "print\"Equivalent resistor of the network using Star-Delta transformation=\",round(R,2),\"ohms\""
     ],
     "language": "python",
     "metadata": {},
     "outputs": [
      {
       "output_type": "stream",
       "stream": "stdout",
       "text": [
        "Equivalent resistor of the network using Star-Delta transformation= 8.67 ohms\n"
       ]
      }
     ],
     "prompt_number": 22
    },
    {
     "cell_type": "heading",
     "level": 2,
     "metadata": {},
     "source": [
      "Ex1.40:pg-53"
     ]
    },
    {
     "cell_type": "code",
     "collapsed": false,
     "input": [
      "R1=6.0;              #Assigning values to parameters\n",
      "R2=8.0;\n",
      "R3=5.0;\n",
      "R4=10.0;\n",
      "R5=5.0;\n",
      "R6=10.0;\n",
      "R7=15.0;\n",
      "V=100.0;\n",
      "Rx=R3+R6+(R3*R6)/R4;      #Converting Star to Delta\n",
      "Ry=R4+R6+(R4*R6)/R3;\n",
      "Rz=R3+R4+(R3*R4)/R6;\n",
      "Ra=(R5*Rx)/(Rx+R5);\n",
      "Rb=(Ry*R7)/(Ry+R7);\n",
      "Rl=(R1*R2)/(R1+R2+Rz);    #Converting Delta to Star\n",
      "Rm=(R1*Rz)/(R1+R2+Rz);\n",
      "Rn=(R2*Rz)/(R1+R2+Rz);\n",
      "R8=Ra+Rm;\n",
      "R9=Rb+Rn;\n",
      "R10=(R8*R9)/(R8+R9);\n",
      "R=R10+Rl;\n",
      "I=V/R;\n",
      "print\"Current in the circuit=\",round(I,2),\"A\""
     ],
     "language": "python",
     "metadata": {},
     "outputs": [
      {
       "output_type": "stream",
       "stream": "stdout",
       "text": [
        "Current in the circuit= 15.4 A\n"
       ]
      }
     ],
     "prompt_number": 23
    },
    {
     "cell_type": "heading",
     "level": 2,
     "metadata": {},
     "source": [
      "Ex1.41:pg-55"
     ]
    },
    {
     "cell_type": "code",
     "collapsed": false,
     "input": [
      "R1=8.0;                          #Assigning values to parameters\n",
      "R2=4.0;\n",
      "R3=12.0;\n",
      "R4=12.0;\n",
      "R5=34.0;\n",
      "R6=30.0;\n",
      "R7=30.0;\n",
      "R8=17.0;\n",
      "R9=13.0;\n",
      "R10=R1+R2;\n",
      "R11=R8+R9;\n",
      "Ra=(R10*R3)/(R3+R4+R10);       #Converting Delta to Star\n",
      "Rb=(R3*R4)/(R3+R4+R10);\n",
      "Rc=(R10*R4)/(R3+R4+R10);\n",
      "Rx=(R6*R7)/(R6+R7+R11);       #Converting Delta to Star\n",
      "Ry=(R7*R11)/(R6+R7+R11);\n",
      "Rz=(R6*R11)/(R6+R7+R11);\n",
      "Rl=R5+Ra+Rx;\n",
      "Rm=Rc+Ry;\n",
      "Rn=(Rl*Rm)/(Rl+Rm);\n",
      "Req=Rb+Rz+Rn;\n",
      "print\"Equivalent resistance of the network=\",round(Req,2),\"ohms\""
     ],
     "language": "python",
     "metadata": {},
     "outputs": [
      {
       "output_type": "stream",
       "stream": "stdout",
       "text": [
        "Equivalent resistance of the network= 24.84 ohms\n"
       ]
      }
     ],
     "prompt_number": 24
    },
    {
     "cell_type": "heading",
     "level": 2,
     "metadata": {},
     "source": [
      "Ex1.42:pg-57"
     ]
    },
    {
     "cell_type": "code",
     "collapsed": false,
     "input": [
      "R1=6.0;                        #Assigning values to parameters\n",
      "R2=6.0;\n",
      "R3=3.0;\n",
      "R4=12.0;\n",
      "R5=12.0;\n",
      "R6=12.0;\n",
      "R7=3.0;\n",
      "Ra=(R4*R5)/(R4+R5+R6);      #Converting Delta to Star\n",
      "Rb=(R4*R6)/(R4+R5+R6);\n",
      "Rc=(R5*R6)/(R4+R5+R6);\n",
      "Rd=R3+Rb;\n",
      "Re=R7+Rc;\n",
      "Rf=(R1*R2)/(R1+R2);\n",
      "Rh=(Rd*Re)/(Rd+Re);\n",
      "Req=Ra+Rf+Rh;\n",
      "print\"Equivalent resistance of the network is Req=\",round(Req,2),\"ohms\""
     ],
     "language": "python",
     "metadata": {},
     "outputs": [
      {
       "output_type": "stream",
       "stream": "stdout",
       "text": [
        "Equivalent resistance of the network is Req= 10.5 ohms\n"
       ]
      }
     ],
     "prompt_number": 80
    },
    {
     "cell_type": "heading",
     "level": 2,
     "metadata": {},
     "source": [
      "Ex1.43:pg-58"
     ]
    },
    {
     "cell_type": "code",
     "collapsed": false,
     "input": [
      "R1=6.0;                              #Assigning values to parameters\n",
      "R2=4.0;\n",
      "R3=3.0;\n",
      "R4=5.0;\n",
      "R5=5.0;\n",
      "R6=2.0;\n",
      "R7=4.0;\n",
      "Rx=R3+R4+(R3*R4)/R6;             #Converting Star to Delta\n",
      "Ry=R4+R6+(R4*R6)/R3;\n",
      "Rz=R3+R6+(R3*R6)/R4;\n",
      "Ra=(R5*Rz)/(R5+Rz);\n",
      "Rb=(R7*Ry)/(R7+Ry);\n",
      "Rl=(R1*R2)/(R1+R2+Rx);          #Converting Delta to Star\n",
      "Rm=(R2*Rx)/(R1+R2+Rx);\n",
      "Rn=(R1*Rx)/(R1+R2+Rx);\n",
      "Rp=Ra+Rn;\n",
      "Rq=Rb+Rm;\n",
      "Rr=(Rp*Rq)/(Rp+Rq);\n",
      "Req=Rl+Rr;\n",
      "print\"Eqivalent resistance of the network=\",round(Req,2),\"ohms\""
     ],
     "language": "python",
     "metadata": {},
     "outputs": [
      {
       "output_type": "stream",
       "stream": "stdout",
       "text": [
        "Eqivalent resistance of the network= 3.85 ohms\n"
       ]
      }
     ],
     "prompt_number": 26
    },
    {
     "cell_type": "heading",
     "level": 2,
     "metadata": {},
     "source": [
      "Ex1.44:pg-61"
     ]
    },
    {
     "cell_type": "code",
     "collapsed": false,
     "input": [
      "import numpy as np\n",
      "from numpy.linalg import inv\n",
      "A=np.matrix([[-6,3],[3,-10.5]])  #Matrix of I1,I2 Coeffecients by Mesh analysis\n",
      "B=np.matrix([[-12.5],[0]])\n",
      "a=inv(A)\n",
      "I=np.dot(a,B)\n",
      "I1=I[0][0]\n",
      "print\"current in 1 ohm resistor I1=\",round(I1,2),\"A\""
     ],
     "language": "python",
     "metadata": {},
     "outputs": [
      {
       "output_type": "stream",
       "stream": "stdout",
       "text": [
        " current in 1 ohm resistor I1= 2.43 A\n"
       ]
      }
     ],
     "prompt_number": 77
    },
    {
     "cell_type": "heading",
     "level": 2,
     "metadata": {},
     "source": [
      "Ex1.45:pg-62"
     ]
    },
    {
     "cell_type": "code",
     "collapsed": false,
     "input": [
      "import numpy as np\n",
      "from numpy.linalg import inv\n",
      "A=np.matrix([[7,-1,0],[1,-6,3],[0,3,-4]]) #Matrix of I1,I2,I3 Coeffecients by Mesh analysis\n",
      "B=np.matrix([[17],[-25],[19]])\n",
      "a=inv(A)\n",
      "I=np.dot(a,B)\n",
      "I1=I[0][0]\n",
      "I2=I[1][0]\n",
      "I3=I[2][0]\n",
      "print\"I1=\",round(I1,2),\"A\"\n",
      "print\"I2=\",round(I2,2),\"A\"\n",
      "print\"I3=\",round(I3,2),\"A\""
     ],
     "language": "python",
     "metadata": {},
     "outputs": [
      {
       "output_type": "stream",
       "stream": "stdout",
       "text": [
        "I1= 2.95 A\n",
        "I2= 3.65 A\n",
        "I3= -2.01 A\n"
       ]
      }
     ],
     "prompt_number": 79
    },
    {
     "cell_type": "heading",
     "level": 2,
     "metadata": {},
     "source": [
      "Ex1.47:pg-64"
     ]
    },
    {
     "cell_type": "code",
     "collapsed": false,
     "input": [
      "I1=6.0;\n",
      "R1=1.0;\n",
      "R2=2.0;\n",
      "R3=5.0;\n",
      "V=10.0;\n",
      "I2=(2*I1-10)/7;\n",
      "IR2=(I1-I2);\n",
      "print\"Current in 2 Ohm resistor=\",round(IR2,2),\"A\""
     ],
     "language": "python",
     "metadata": {},
     "outputs": [
      {
       "output_type": "stream",
       "stream": "stdout",
       "text": [
        "Current in 2 Ohm resistor= 5.71 A\n"
       ]
      }
     ],
     "prompt_number": 27
    },
    {
     "cell_type": "heading",
     "level": 2,
     "metadata": {},
     "source": [
      "Ex1.48:pg-65"
     ]
    },
    {
     "cell_type": "code",
     "collapsed": false,
     "input": [
      "import numpy as np\n",
      "from numpy.linalg import inv\n",
      "V1=60;\n",
      "R1=20;\n",
      "I=1.0;\n",
      "R2=30;\n",
      "R3=50;\n",
      "V2=40;\n",
      "R4=100;\n",
      "A=[-1,1,0],[-20,-80,50],[0,50,-150]           #Matrix of I1,I2,I3 Coeffecients by Mesh analysis\n",
      "B=[1],[-20],[-40]\n",
      "I1=np.dot(inv(A),B);\n",
      "IR100=I1[1][0]\n",
      "print\"Current in 100 Ohm resistor is IR100=\",round(IR100,2),\"A\""
     ],
     "language": "python",
     "metadata": {},
     "outputs": [
      {
       "output_type": "stream",
       "stream": "stdout",
       "text": [
        "Current in 100 Ohm resistor is IR100= 0.64 A\n"
       ]
      }
     ],
     "prompt_number": 96
    },
    {
     "cell_type": "heading",
     "level": 2,
     "metadata": {},
     "source": [
      "Ex1.49:pg-67"
     ]
    },
    {
     "cell_type": "code",
     "collapsed": false,
     "input": [
      "import numpy as np\n",
      "from numpy.linalg import inv\n",
      "V=50.0;\n",
      "R1=10.0;\n",
      "R2=5.0;\n",
      "R3=3.0;\n",
      "R4=2.0;\n",
      "R5=1.0;\n",
      "I=2.0;\n",
      "A=[0,1,-1],[15,-12,-6],[-15,10,5]           #Matrix of I1,I2,I3 Coeffecients by Mesh analysis\n",
      "B=[2],[0],[-50]\n",
      "I1=np.dot(inv(A),B)\n",
      "I2=I1[0][0]\n",
      "I3=I1[2][0]\n",
      "IR5=I2-I3\n",
      "print\"Current in 5 Ohm resistor is IR5=\",round(IR5,2),\"A\"\n",
      "#the answer in the book is 14.67,which is wrong"
     ],
     "language": "python",
     "metadata": {},
     "outputs": [
      {
       "output_type": "stream",
       "stream": "stdout",
       "text": [
        "Current in 5 Ohm resistor is IR5= 4.67 A\n"
       ]
      }
     ],
     "prompt_number": 104
    },
    {
     "cell_type": "heading",
     "level": 2,
     "metadata": {},
     "source": [
      "Ex1.50:pg-69"
     ]
    },
    {
     "cell_type": "code",
     "collapsed": false,
     "input": [
      "import numpy as np\n",
      "from numpy.linalg import inv\n",
      "R1=20;\n",
      "R2=10;\n",
      "R3=15;\n",
      "R4=10;\n",
      "R5=10;\n",
      "V1=100;\n",
      "V2=80;\n",
      "A=[13,-4],[1,-4]           #Applying KCL at the two nodes\n",
      "B=[300],[120]\n",
      "V=np.dot(inv(A),B)\n",
      "IR3=(V[0][0]-V[1][0])/R3;\n",
      "print\"Current in 15 Ohm resistor is IR3\",round(IR3,2),\"A\""
     ],
     "language": "python",
     "metadata": {},
     "outputs": [
      {
       "output_type": "stream",
       "stream": "stdout",
       "text": [
        "Current in 15 Ohm resistor is IR3 2.75 A\n"
       ]
      }
     ],
     "prompt_number": 109
    },
    {
     "cell_type": "heading",
     "level": 2,
     "metadata": {},
     "source": [
      "\n",
      "Ex1.51:pg-70"
     ]
    },
    {
     "cell_type": "code",
     "collapsed": false,
     "input": [
      "import numpy as np\n",
      "from numpy.linalg import inv\n",
      "R1=0.2;\n",
      "R2=0.3;\n",
      "R3=0.1;\n",
      "V1=120;\n",
      "V2=110;\n",
      "A=[5,-2],[1,-4]                 #Applying KCL at the two nodes\n",
      "B=[358.2],[-324]\n",
      "V=np.dot(inv(A),B)\n",
      "I1=(120-V[0][0])/R1;\n",
      "I2=(V[0][0]-V[1][0])/R2;\n",
      "I3=(110-V[1][0])/R3;\n",
      "print\"Current I1\",round(I1,2),\"A\"\n",
      "print\"Current I1\",round(I2,2),\"A\"\n",
      "print\"Current I1\",round(I3,2),\"A\""
     ],
     "language": "python",
     "metadata": {},
     "outputs": [
      {
       "output_type": "stream",
       "stream": "stdout",
       "text": [
        "Current I1 22.0 A\n",
        "Current I1 19.0 A\n",
        "Current I1 1.0 A\n"
       ]
      }
     ],
     "prompt_number": 110
    },
    {
     "cell_type": "heading",
     "level": 2,
     "metadata": {},
     "source": [
      "\n",
      "Ex1.52:pg-71"
     ]
    },
    {
     "cell_type": "code",
     "collapsed": false,
     "input": [
      "import numpy as np\n",
      "from numpy.linalg import inv\n",
      "R1=2;\n",
      "R2=4;\n",
      "R3=4;\n",
      "R4=2;\n",
      "I1=2;\n",
      "I2=4;\n",
      "A=[2,-1],[1,-3];                #Applying KCL at the two nodes\n",
      "B=[8],[-16];\n",
      "V=np.dot(inv(A),B)\n",
      "print\"Voltage at node A is V[0][0]=\",round(V[0][0],2),\"Volts\"\n",
      "print\"Voltage at node B is V[1][0]=\",round(V[1][0],2),\"Volts\"\n"
     ],
     "language": "python",
     "metadata": {},
     "outputs": [
      {
       "output_type": "stream",
       "stream": "stdout",
       "text": [
        "Voltage at node A is V[0][0]= 8.0 Volts\n",
        "Voltage at node B is V[1][0]= 8.0 Volts\n"
       ]
      }
     ],
     "prompt_number": 111
    },
    {
     "cell_type": "heading",
     "level": 2,
     "metadata": {},
     "source": [
      "\n",
      "Ex1.53:pg-72"
     ]
    },
    {
     "cell_type": "code",
     "collapsed": false,
     "input": [
      "import numpy as np\n",
      "from numpy.linalg import inv\n",
      "R1=2;\n",
      "R2=10;\n",
      "R3=5;\n",
      "R4=15;\n",
      "I1=1/3;\n",
      "R5=3;\n",
      "V1=10;\n",
      "V2=18;\n",
      "A=[8,-2],[3,-9];                #Applying KCL at the two nodes\n",
      "B=[50],[-85];\n",
      "V=np.dot(inv(A),B)\n",
      "I1=(V1-V[0][0])/R1;\n",
      "I5=(V[1][0]-V2)/R5;\n",
      "print\"Current in 2 Ohm resistor is I1=\",round(I1,3),\"A\"\n",
      "print\"Current in 3 Ohm resistor is I1=\",round(I5,2),\"A\""
     ],
     "language": "python",
     "metadata": {},
     "outputs": [
      {
       "output_type": "stream",
       "stream": "stdout",
       "text": [
        "Current in 2 Ohm resistor is I1= 0.303 A\n",
        "Current in 3 Ohm resistor is I1= -1.81 A\n"
       ]
      }
     ],
     "prompt_number": 114
    },
    {
     "cell_type": "heading",
     "level": 2,
     "metadata": {},
     "source": [
      "\n",
      "Ex1.54:pg-73"
     ]
    },
    {
     "cell_type": "code",
     "collapsed": false,
     "input": [
      "import numpy as np\n",
      "from numpy.linalg import inv\n",
      "R1=2;                                           #Assigning values to parameters\n",
      "R2=10;\n",
      "R3=2;\n",
      "R4=5;\n",
      "R5=1;\n",
      "R6=4;\n",
      "I1=28;\n",
      "I2=2;\n",
      "A=[11,-5,-1],[5,-17,10],[1,10,-13.5];               #Applying KCL at the two nodes\n",
      "B=[280],[0],[20];\n",
      "V=np.dot(inv(A),B)\n",
      "I1=V[0][0]/R1;\n",
      "I2=(V[0][0]-V[1][0])/R3;\n",
      "I3=(V[0][0]-V[2][0])/R2;\n",
      "I4=(V[1][0]-V[2][0])/R5;\n",
      "I5=V[1][0]/R4;\n",
      "I6=V[2][0]/R6;\n",
      "print\"Current I1\",round(I1,2),\"A\"\n",
      "print\"Current I2\",round(I2,2),\"A\"\n",
      "print\"Current I3\",round(I3,2),\"A\"\n",
      "print\"Current I4\",round(I4,2),\"A\"\n",
      "print\"Current I5\",round(I5,2),\"A\"\n",
      "print\"Current I6\",round(I6,2),\"A\""
     ],
     "language": "python",
     "metadata": {},
     "outputs": [
      {
       "output_type": "stream",
       "stream": "stdout",
       "text": [
        "Current I1 18.0 A\n",
        "Current I2 8.0 A\n",
        "Current I3 2.0 A\n",
        "Current I4 4.0 A\n",
        "Current I5 4.0 A\n",
        "Current I6 4.0 A\n"
       ]
      }
     ],
     "prompt_number": 118
    },
    {
     "cell_type": "heading",
     "level": 2,
     "metadata": {},
     "source": [
      "\n",
      "Ex1.55:pg-76"
     ]
    },
    {
     "cell_type": "code",
     "collapsed": false,
     "input": [
      "V1=35.0;                          #Assigning values to parameters\n",
      "R1=3.0;\n",
      "R2=2.0;\n",
      "R3=4.0;\n",
      "V2=40.0;\n",
      "Ra=((R2*R3)/(R2+R3))+R1;       # Considering only 35V source\n",
      "I=V1/Ra;\n",
      "IR1=I;\n",
      "IR3=I*(R2)/(R2+R3);\n",
      "IR2=I-IR3;\n",
      "Rb=((R1*R2)/(R1+R2))+R3;      #Considering only 40V source\n",
      "I1=V2/Rb;\n",
      "I1R3=I1;\n",
      "I1R1=I1*(R2)/(R2+R3);\n",
      "I1R2=I1-I1R1;\n",
      "Ires3=IR1-I1R1;              # Adding the currents algebraically\n",
      "Ires2=IR2+I1R2;\n",
      "Ires4=I1R3-IR3;\n",
      "print\"Current in 3 Ohm resistor using Superposition Theorem\",round(Ires3,2),\"A\"\n",
      "print\"Current in 2 Ohm resistor using Superposition Theorem\",round(Ires2,2),\"A\"\n",
      "print\"Current in 4 Ohm resistor using Superposition Theorem\",round(Ires4,2),\"A\""
     ],
     "language": "python",
     "metadata": {},
     "outputs": [
      {
       "output_type": "stream",
       "stream": "stdout",
       "text": [
        "Current in 3 Ohm resistor using Superposition Theorem 5.51 A\n",
        "Current in 2 Ohm resistor using Superposition Theorem 10.51 A\n",
        "Current in 4 Ohm resistor using Superposition Theorem 5.0 A\n"
       ]
      }
     ],
     "prompt_number": 120
    },
    {
     "cell_type": "heading",
     "level": 2,
     "metadata": {},
     "source": [
      "\n",
      "Ex1.56:pg-77"
     ]
    },
    {
     "cell_type": "code",
     "collapsed": false,
     "input": [
      "import numpy as np\n",
      "from numpy.linalg import inv\n",
      "I1=1;                      #Assigning values to parameters\n",
      "R1=3;\n",
      "R2=2;\n",
      "R3=2;\n",
      "R4=2;\n",
      "R5=1;\n",
      "Ra=(R1*R2)/(R1+R2);\n",
      "Rb=(R3*R4)/(R3+R4);\n",
      "Iab=(I1*Ra)/(Ra+Rb+R5);\n",
      "A=[5,0,-2],[0,4,-2],[2,2,-5];   #Current coeffecients by applying KVL\n",
      "B=[-1],[1],[0];\n",
      "I=np.dot(inv(A),B)\n",
      "IR5=I[2][0]+Iab;\n",
      "print\"Current in 1 Ohm resistor\",round(IR5,3),\"A\""
     ],
     "language": "python",
     "metadata": {},
     "outputs": [
      {
       "output_type": "stream",
       "stream": "stdout",
       "text": [
        "Current in 1 Ohm resistor 0.031 A\n"
       ]
      }
     ],
     "prompt_number": 121
    },
    {
     "cell_type": "heading",
     "level": 2,
     "metadata": {},
     "source": [
      "\n",
      "Ex1.57:pg-79"
     ]
    },
    {
     "cell_type": "code",
     "collapsed": false,
     "input": [
      "V1=10.0;                         #Assigning values to parameters\n",
      "R1=10.0;\n",
      "R2=1.0;\n",
      "V2=8.0;\n",
      "R3=8.0;\n",
      "V3=12.0;\n",
      "R4=20.0;\n",
      "I20=V1/(R2+R4);                # Considering only 10V source\n",
      "Ia20=V3/(R2+R4);               # Considering only 12V source\n",
      "Ib20=V2/(R2+R4);               # Considering only 8V source\n",
      "I=Ia20+Ib20-I20;               # Adding the currents algebraically\n",
      "print\"Current through 20 Ohm resistor using Superposition principle\",round(I,3),\"A\""
     ],
     "language": "python",
     "metadata": {},
     "outputs": [
      {
       "output_type": "stream",
       "stream": "stdout",
       "text": [
        "Current through 20 Ohm resistor using Superposition principle 0.476 A\n"
       ]
      }
     ],
     "prompt_number": 125
    },
    {
     "cell_type": "heading",
     "level": 2,
     "metadata": {},
     "source": [
      "\n",
      "Ex1.58:pg-82"
     ]
    },
    {
     "cell_type": "code",
     "collapsed": false,
     "input": [
      "V1=4.0;                             #Assigning values to parameters\n",
      "R1=2.0;\n",
      "I1=1.0;\n",
      "R2=1.0;\n",
      "R3=3.0;\n",
      "I2=3.0;\n",
      "I1a=V1/(R1+R2);                 #Considering the current flow due to 4V voltage source\n",
      "I1b=(I2*R1)/(R1+R2);            #Considering the current flow due to 3A current source\n",
      "I1c=(I1*R1)/(R2+R1);            #Considering the current flow due to 1A current source\n",
      "I=I1a+I1b+I1c;\n",
      "print\"Current in 1 Ohm resistor using Superposition principle\",round(I,3),\"A\""
     ],
     "language": "python",
     "metadata": {},
     "outputs": [
      {
       "output_type": "stream",
       "stream": "stdout",
       "text": [
        "Current in 1 Ohm resistor using Superposition principle 4.0 A\n"
       ]
      }
     ],
     "prompt_number": 126
    },
    {
     "cell_type": "heading",
     "level": 2,
     "metadata": {},
     "source": [
      "\n",
      "Ex1.59:pg-83"
     ]
    },
    {
     "cell_type": "code",
     "collapsed": false,
     "input": [
      "V1=50.0;                         #Assigning values to parameters\n",
      "V2=36.0;\n",
      "R1=5.0;\n",
      "R2=20.0;\n",
      "R3=10.0;\n",
      "I1=4.0;\n",
      "R4=(R2*R3)/(R2+R3);\n",
      "R5=R4+R1;\n",
      "I5a=V1/R5;                    #Considering only 50V source\n",
      "I5b=I1*(R4/(R4+R1));            #Considering only 4A current source\n",
      "I2=V2/R3;                     #Converting 36V voltage source to 3.6A current source using source transformation\n",
      "I5c=I2*(R4/(R4+R1));            #Considering only 3.6A current source\n",
      "I=(I5b+I5c)-I5a;                #Adding the currents algebraically\n",
      "print\"Current through 5 Ohm resistor using Superposition principle\",round(I,2),\"A\""
     ],
     "language": "python",
     "metadata": {},
     "outputs": [
      {
       "output_type": "stream",
       "stream": "stdout",
       "text": [
        "Current through 5 Ohm resistor using Superposition principle 0.06 A\n"
       ]
      }
     ],
     "prompt_number": 132
    },
    {
     "cell_type": "heading",
     "level": 2,
     "metadata": {},
     "source": [
      "Ex1.60:pg-85"
     ]
    },
    {
     "cell_type": "code",
     "collapsed": false,
     "input": [
      "V1=80.0;                          #Assigning values to parametrs\n",
      "V2=20.0;\n",
      "I1=20.0;\n",
      "R1=5.0;\n",
      "R2=10.0;\n",
      "R3=50.0;\n",
      "R4=20.0;\n",
      "R5=(R3*R4)/(R3+R4);\n",
      "I10a=V1/(R1+R2+R5);           #Considering only 80V voltage source\n",
      "I2=V2/R4;                     #Converting 20V voltage source to 1A current source\n",
      "I10b=(I2*R5)/(R1+R2+R5);      #Considering only 1A current source\n",
      "I10c=(I1*R1)/(R1+R2+R5);      #Considering only 20A current source\n",
      "I=I10b+I10c-I10a;                #Adding the currents algebraically\n",
      "print\"Current through 5 Ohm resistor using Superposition principle\",round(I,2),\"A\""
     ],
     "language": "python",
     "metadata": {},
     "outputs": [
      {
       "output_type": "stream",
       "stream": "stdout",
       "text": [
        "Current through 5 Ohm resistor using Superposition principle 1.17 A\n"
       ]
      }
     ],
     "prompt_number": 131
    },
    {
     "cell_type": "heading",
     "level": 2,
     "metadata": {},
     "source": [
      "\n",
      "Ex1.61:pg-90"
     ]
    },
    {
     "cell_type": "code",
     "collapsed": false,
     "input": [
      "V1=10.0;                     #Assigning values to parameters\n",
      "V2=20.0;\n",
      "R1=6.0;\n",
      "R2=1.0;\n",
      "R3=2.0;\n",
      "R4=3.0;\n",
      "R5=5.0;\n",
      "A=[7,-1],[1,-6]          #Mesh current coeffecients\n",
      "B=[10],[0]\n",
      "I=np.dot(inv(A),B)\n",
      "Vth=V2+R4*I[1][0];       #Calculation of Thevenin vlotage\n",
      "Ra=(R1*R2)/(R1+R2);\n",
      "Rb=Ra+R3;\n",
      "Rth=(R4*Rb)/(R4+Rb);   #Calculation of Thevenin current\n",
      "I1=Vth/(Rth+R5)\n",
      "print\"Current in 5 Ohm resistor using Thevenin theorem\",round(I1,2),\"A\""
     ],
     "language": "python",
     "metadata": {},
     "outputs": [
      {
       "output_type": "stream",
       "stream": "stdout",
       "text": [
        "Current in 5 Ohm resistor using Thevenin theorem 3.21 A\n"
       ]
      }
     ],
     "prompt_number": 59
    },
    {
     "cell_type": "heading",
     "level": 2,
     "metadata": {},
     "source": [
      "\n",
      "Ex1.62:pg-92"
     ]
    },
    {
     "cell_type": "code",
     "collapsed": false,
     "input": [
      "R1=1.5;                         #Assignig values to parameters\n",
      "R2=6;\n",
      "R3=5;\n",
      "R4=7.5;\n",
      "R5=9;\n",
      "V1=6;\n",
      "V2=30;\n",
      "A=[-22.5,7.5],[7.5,-12.5];      #Current coeffecients\n",
      "B=[0],[30];\n",
      "I=np.dot(inv(A),B)\n",
      "Vth=(V1+R3*I[1][0]+R2*I[0][0])*-1;   #Thevenin voltage\n",
      "Ra=(R3*R4)/(R4+R3);\n",
      "Rb=Ra+R2;\n",
      "Rth=(Rb*R5)/(R5+Rb);              #Thevenin resistance\n",
      "I1=Vth/(Rth+R1)\n",
      "print\"Current in 1.5 Ohm resistor\",round(I1,3),\"A\""
     ],
     "language": "python",
     "metadata": {},
     "outputs": [
      {
       "output_type": "stream",
       "stream": "stdout",
       "text": [
        "Current in 1.5 Ohm resistor 2.5 A\n"
       ]
      }
     ],
     "prompt_number": 51
    },
    {
     "cell_type": "heading",
     "level": 2,
     "metadata": {},
     "source": [
      "\n",
      "Ex1.63:pg-94"
     ]
    },
    {
     "cell_type": "code",
     "collapsed": false,
     "input": [
      "V1=2.0;\n",
      "V2=4.0;\n",
      "R1=5.0;\n",
      "R2=10.0;\n",
      "R3=10.0;\n",
      "R4=8.0;\n",
      "R5=5.0;\n",
      "A=[-15,10],[10,-25];\n",
      "B=[-2],[4];\n",
      "I=np.dot(inv(A),B)\n",
      "Vth=V2+R1*I[1][0];\n",
      "Ra=(R1*R2)/(R1+R2);\n",
      "Rb=Ra+R3;\n",
      "Rth=(Rb*R5)/(Rb+R5);\n",
      "I1=Vth/(Rth+R4)\n",
      "print\"Current in 8 Ohm resistor\",round(I1,3),\"A\""
     ],
     "language": "python",
     "metadata": {},
     "outputs": [
      {
       "output_type": "stream",
       "stream": "stdout",
       "text": [
        "Current in 8 Ohm resistor 0.281 A\n"
       ]
      }
     ],
     "prompt_number": 39
    },
    {
     "cell_type": "heading",
     "level": 2,
     "metadata": {},
     "source": [
      "\n",
      "Ex1.64:pg-96"
     ]
    },
    {
     "cell_type": "code",
     "collapsed": false,
     "input": [
      "R1=8;                          #Assigning values to parameters\n",
      "R2=4;\n",
      "R3=12;\n",
      "R4=12;\n",
      "R5=34;\n",
      "R6=30;\n",
      "R7=30;\n",
      "R8=17;\n",
      "R9=13;\n",
      "V=180;\n",
      "R10=R1+R2;\n",
      "R11=R8+R9;\n",
      "Ra=(R10*R3)/(R3+R4+R10);       #Converting Delta to Star\n",
      "Rb=(R3*R4)/(R3+R4+R10);\n",
      "Rc=(R10*R4)/(R3+R4+R10);\n",
      "Rx=(R6*R7)/(R6+R7+R11);       #Converting Delta to Star\n",
      "Ry=(R7*R11)/(R6+R7+R11);\n",
      "Rz=(R6*R11)/(R6+R7+R11);\n",
      "Rp=R5+Ra+Rx;\n",
      "Rm=Rc+Ry;\n",
      "Rn=(Rp*Rm)/(Rp+Rm);\n",
      "Rth=Rb+Rz+Rn;\n",
      "I=V/(Rp+Rc+Rz);\n",
      "Vth=Rp*I\n",
      "Rl=10;\n",
      "Il=Vth/(Rl+Rth);\n",
      "print\"Current in 10 Ohm load using Thevenin theorem is\",round(I1,2),\"A\""
     ],
     "language": "python",
     "metadata": {},
     "outputs": [
      {
       "output_type": "stream",
       "stream": "stdout",
       "text": [
        "Current in 10 Ohm load using Thevenin theorem is 4.0 A\n"
       ]
      }
     ],
     "prompt_number": 35
    },
    {
     "cell_type": "heading",
     "level": 2,
     "metadata": {},
     "source": [
      "\n",
      "Ex1.65:pg-101"
     ]
    },
    {
     "cell_type": "code",
     "collapsed": false,
     "input": [
      "V1=12.0;                     #Assigning values to parameters\n",
      "V2=8.0;\n",
      "I1=4.0;\n",
      "R1=2.0;\n",
      "R2=10.0;\n",
      "R3=20.0;\n",
      "R4=5.0;\n",
      "R5=15.0;\n",
      "R6=25.0;\n",
      "R7=5.0;\n",
      "A=[1,-1,0],[-12,-20,15],[0,15,-45];   #Current coeffecients\n",
      "B=[4],[-12],[8];\n",
      "I=np.dot(inv(A),B)\n",
      "Vth=V1-R1*I[0][0]-R2*I[0][0];     #Thevenin voltage\n",
      "Ra=R1+R2;\n",
      "Rb=R6+R7;\n",
      "Rc=(R5*Rb)/(R5+Rb);\n",
      "Rd=R4+Rc;\n",
      "Rth=(Ra*Rd)/(Ra+Rd);          #Thevenin resistance\n",
      "Il=Vth/(R3+Rth);\n",
      "P=Il*Il*R3;\n",
      "print\"Power drawn by 20 Ohm resistor\",round(P,2),\"Watts\""
     ],
     "language": "python",
     "metadata": {},
     "outputs": [
      {
       "output_type": "stream",
       "stream": "stdout",
       "text": [
        "Power drawn by 20 Ohm resistor 9.96 Watts\n"
       ]
      }
     ],
     "prompt_number": 28
    },
    {
     "cell_type": "heading",
     "level": 2,
     "metadata": {},
     "source": [
      "\n",
      "Ex1.66:pg-103"
     ]
    },
    {
     "cell_type": "code",
     "collapsed": false,
     "input": [
      "import numpy as np\n",
      "from numpy.linalg import inv\n",
      "V1=150.0;                  #Assigning values to parameters\n",
      "V2=50.0;\n",
      "I1=13.0;\n",
      "R1=15.0;\n",
      "R2=60.0;\n",
      "R3=40.0;\n",
      "R4=30.0;\n",
      "A=[-1,1],[-15,-100];      #Current coeffecients\n",
      "B=[13],[-150];\n",
      "I=np.dot(inv(A),B)\n",
      "Vth=-V2+R3*I[1][0];#Thevenin voltage\n",
      "Ra=R1+R2;\n",
      "Rth=(R3*Ra)/(R3+Ra);#Thevenin resistance\n",
      "I1=Vth/(R4+Rth)\n",
      "print\" Current flowing in 20 Ohm resistor\",round(I1,3),\"A\""
     ],
     "language": "python",
     "metadata": {},
     "outputs": [
      {
       "output_type": "stream",
       "stream": "stdout",
       "text": [
        " Current flowing in 20 Ohm resistor 1.248 A\n"
       ]
      }
     ],
     "prompt_number": 24
    },
    {
     "cell_type": "heading",
     "level": 2,
     "metadata": {},
     "source": [
      "\n",
      "Ex1.67:pg-105"
     ]
    },
    {
     "cell_type": "code",
     "collapsed": false,
     "input": [
      "V=100.0;                                      #Assigning values to parameters\n",
      "R1=20.0;\n",
      "R2=80.0;\n",
      "R3=40.0;\n",
      "R4=50.0;\n",
      "I1=V/(R1+R2);\n",
      "I2=V/(R3+R4);\n",
      "Vth=R3*I2-R1*I1;                             #Calculating Thevenin voltage\n",
      "Rth=((R1*R2)/(R1+R2))+((R3*R4)/(R3+R4));    # Calculating Thevenin resistance\n",
      "Rl=5.0;\n",
      "I1=Vth/(Rth+R1);                           #Calculating Thevenin current\n",
      "Rla=10.0;\n",
      "Ila=Vth/(Rth+Rla);\n",
      "Rlb=20.0;\n",
      "Ilb=Vth/(Rth+Rlb);\n",
      "print\"Current in 5 Ohm load\",round(Il,4),\"A\"\n",
      "print\"Current in 10 Ohm load\",round(Ila,3),\"A\"\n",
      "print\"Current in 20 Ohm load\",round(Ilb,4),\"A\""
     ],
     "language": "python",
     "metadata": {},
     "outputs": [
      {
       "output_type": "stream",
       "stream": "stdout",
       "text": [
        "Current in 5 Ohm load 0.5656 A\n",
        "Current in 10 Ohm load 0.507 A\n",
        "Current in 20 Ohm load 0.4198 A\n"
       ]
      }
     ],
     "prompt_number": 80
    },
    {
     "cell_type": "heading",
     "level": 2,
     "metadata": {},
     "source": [
      "\n",
      "Ex1.68:pg-108"
     ]
    },
    {
     "cell_type": "code",
     "collapsed": false,
     "input": [
      "R1=10.0;                     #Assigning values to parameters\n",
      "R2=20.0;\n",
      "R3=40.0;\n",
      "R4=30.0;\n",
      "R5=15.0;\n",
      "V=2.0;\n",
      "I1=V/(R1+R4);\n",
      "I2=V/(R2+R5);\n",
      "Vth=R2*I2-R1*I1;         #Calculation of Thevenin voltage\n",
      "Rth=((R1*R4)/(R1+R4))+((R2*R5)/(R2+R5));   #Calculation of Thevenin resistance\n",
      "Il=Vth/(Rth+R3);\n",
      "print\"Load current\",round(Il*1000,3),\"mA\""
     ],
     "language": "python",
     "metadata": {},
     "outputs": [
      {
       "output_type": "stream",
       "stream": "stdout",
       "text": [
        "Load current 11.465 mA\n"
       ]
      }
     ],
     "prompt_number": 93
    },
    {
     "cell_type": "heading",
     "level": 2,
     "metadata": {},
     "source": [
      "\n",
      "Ex1.69:pg-110"
     ]
    },
    {
     "cell_type": "code",
     "collapsed": false,
     "input": [
      "R1=10.0;                    #Assigning values to parameters\n",
      "R2=10.0;\n",
      "R3=15.0;\n",
      "R4=20.0;\n",
      "V=100.0;\n",
      "A=[-20,10],[10,-25]        #Current coeffecients by KVL equations\n",
      "B=[-100],[0];\n",
      "I=np.dot(inv(A),B);\n",
      "IN=I[1][0];              #Norton's current\n",
      "RN=(R1*R2)/(R1+R2)+R3;  #Norton's resistance\n",
      "I1=(IN*RN)/(RN+RN);\n",
      "print\"Current in load of 20 Ohm resistor using Norton theorem \",round(I1,2),\"A\""
     ],
     "language": "python",
     "metadata": {},
     "outputs": [
      {
       "output_type": "stream",
       "stream": "stdout",
       "text": [
        "Current in load of 20 Ohm resistor using Norton theorem  1.25 A\n"
       ]
      }
     ],
     "prompt_number": 68
    },
    {
     "cell_type": "heading",
     "level": 2,
     "metadata": {},
     "source": [
      "Ex1.70:pg-112"
     ]
    },
    {
     "cell_type": "code",
     "collapsed": false,
     "input": [
      "I1=5.0;                    #Assigning values to parameters\n",
      "I2=2.0;\n",
      "V1=6.0;\n",
      "R1=2.0;\n",
      "R2=4.0;\n",
      "I1=5.0;\n",
      "I2=(R1*I1-6)/R1;\n",
      "I3=I2+2;\n",
      "IN=I3;                #Calculation of Norton current\n",
      "RN=R1;                #Calculation of Norton resistance\n",
      "I1=(IN*RN)/(RN+R2);     #Calculation of load current using Norton theorem\n",
      "print\"Current in 4 Ohm resistor by Norton theorem\",round(I1,2),\"A\""
     ],
     "language": "python",
     "metadata": {},
     "outputs": [
      {
       "output_type": "stream",
       "stream": "stdout",
       "text": [
        "Current in 4 Ohm resistor by Norton theorem 1.33 A\n"
       ]
      }
     ],
     "prompt_number": 67
    },
    {
     "cell_type": "heading",
     "level": 2,
     "metadata": {},
     "source": [
      "Ex1.71:pg-114"
     ]
    },
    {
     "cell_type": "code",
     "collapsed": false,
     "input": [
      "I1=6.0;                             #Assigning values to parameters\n",
      "V1=10.0;\n",
      "V2=24.0;\n",
      "R1=2.0;\n",
      "R2=1.0;\n",
      "R3=10.0;\n",
      "R4=3.0;\n",
      "R5=2.0;\n",
      "R6=4.0;\n",
      "A=[-13,10,1],[10,-15,3],[1,3,-4];   #Current coefficients using KVL equations\n",
      "B=[-12],[10],[-24];\n",
      "I=np.dot(inv(A),B);\n",
      "IN=I[2][0];                      #Norton current\n",
      "Rx=R2+R3+(R2*R3)/R4;           #Converting Star to Delta\n",
      "Ry=R3+R4+(R3*R4)/R2;\n",
      "Rz=R2+R4+(R2*R4)/R3;\n",
      "Ra=(R1*Rx)/(R1+Rx);\n",
      "Rb=(Ry*R5)/(Ry+R5);\n",
      "Rc=Ra+Rb;\n",
      "RN=(Rz*Rc)/(Rz+Rc);         #Norton resistance\n",
      "I1=(IN*RN)/(RN+R6);\n",
      "print\"Current in 4 Ohm resistor using Nortonn Theorem\",round(I1,2),\"A\""
     ],
     "language": "python",
     "metadata": {},
     "outputs": [
      {
       "output_type": "stream",
       "stream": "stdout",
       "text": [
        "Current in 4 Ohm resistor using Nortonn Theorem 4.1 A\n"
       ]
      }
     ],
     "prompt_number": 64
    },
    {
     "cell_type": "heading",
     "level": 2,
     "metadata": {},
     "source": [
      "Ex1.72:pg-117"
     ]
    },
    {
     "cell_type": "code",
     "collapsed": false,
     "input": [
      "I1=6.0;                             #Assigning values to parameters\n",
      "I2=2.0;\n",
      "V=10.0;\n",
      "V2=24.0;\n",
      "R1=3.0;\n",
      "R2=5.0;\n",
      "R3=6.0;\n",
      "R4=2.0;\n",
      "R5=10.0;\n",
      "R6=6.0;\n",
      "R7=4.0;\n",
      "R8=3.0;\n",
      "A=[1,0,0],[0,-18,10],[0,10,-23];   #Current coefficients using KVL equations\n",
      "B=[6],[-10],[12];\n",
      "I=np.dot(inv(A),B)\n",
      "IN=I[0][0]-I[1][0];                                  #Norton current\n",
      "RN=((R5*(R6+R7+R8))/(R5+R6+R7+R8))+R3+R4;         #Norton resistance\n",
      "I1=(IN*RN)/(RN+R2)\n",
      "print\"Current in 4 Ohm resistor using Nortonn Theorem\",round(I1,2),\"A\""
     ],
     "language": "python",
     "metadata": {},
     "outputs": [
      {
       "output_type": "stream",
       "stream": "stdout",
       "text": [
        "Current in 4 Ohm resistor using Nortonn Theorem 4.14 A\n"
       ]
      }
     ],
     "prompt_number": 116
    },
    {
     "cell_type": "heading",
     "level": 2,
     "metadata": {},
     "source": [
      "Ex1.73:pg-121"
     ]
    },
    {
     "cell_type": "code",
     "collapsed": false,
     "input": [
      "V=120.0;                     #Assigning values to parameters\n",
      "R1=40.0;\n",
      "R2=20.0;\n",
      "R3=60.0;\n",
      "Rth=((R1*R2)/(R1+R2))+R3; #Calculation of Thevenin Resistance\n",
      "Rl=Rth;                  #For maximum power,load resistance should be equal to Thevenin resistance\n",
      "I=V/(R1+R2);             #Calculation of Circuit Current\n",
      "Vth=R2*I;                #Calculation of Thevenin Voltage\n",
      "Pmax=(Vth*Vth)/(4*Rth);  #Calculation of Maximum Power\n",
      "print\"Maximum power by Maximum Power transfer theorem\",round(Pmax,2),\"Watts\""
     ],
     "language": "python",
     "metadata": {},
     "outputs": [
      {
       "output_type": "stream",
       "stream": "stdout",
       "text": [
        "Maximum power by Maximum Power transfer theorem 5.45 Watts\n"
       ]
      }
     ],
     "prompt_number": 114
    },
    {
     "cell_type": "heading",
     "level": 2,
     "metadata": {},
     "source": [
      "Ex1.74:pg-122"
     ]
    },
    {
     "cell_type": "code",
     "collapsed": false,
     "input": [
      "V=10.0;\n",
      "I=6.0;\n",
      "R1=5.0;\n",
      "R2=2.0;\n",
      "R3=3.0;\n",
      "R4=4.0;\n",
      "Rth=((R1*R2)/(R1+R2))+R3+R4;\n",
      "A=[-1,1],[-5,-2];   #Current coefficients using KVL equations\n",
      "B=[6],[-10];\n",
      "I=np.dot(inv(A),B);\n",
      "Vth=R2*I[1][0];\n",
      "Pmax=(Vth*Vth)/(4*Rth)\n",
      "print\"Maximum Power\",round(Pmax,2),\"W\""
     ],
     "language": "python",
     "metadata": {},
     "outputs": [
      {
       "output_type": "stream",
       "stream": "stdout",
       "text": [
        "Maximum Power 3.87 W\n"
       ]
      }
     ],
     "prompt_number": 109
    },
    {
     "cell_type": "heading",
     "level": 2,
     "metadata": {},
     "source": [
      "Ex1.75:pg-124"
     ]
    },
    {
     "cell_type": "code",
     "collapsed": false,
     "input": [
      "V=30.0;                              #Assigning values to parameters\n",
      "I1=25.0;\n",
      "I2=10.0;\n",
      "R1=5.0;\n",
      "R2=10.0;\n",
      "R3=2.0;\n",
      "R4=10.0;\n",
      "Rth=((R3*(R1+R2))/(R3+R1+R2))\n",
      "Rth=round(Rth,2)\n",
      "A=[-1,1,0],[-15,-12,10],[0,10,-10];   #Current coefficients using KVL equations\n",
      "B=[10],[-125],[30];\n",
      "I=np.dot(inv(A),B);\n",
      "Vth=V+R3*I[1][0];\n",
      "Vth=round(Vth,2)\n",
      "Pmax=(Vth*Vth)/(4*Rth)\n",
      "print\"Maximum Power\",round(Pmax,2),\"W\""
     ],
     "language": "python",
     "metadata": {},
     "outputs": [
      {
       "output_type": "stream",
       "stream": "stdout",
       "text": [
        "Maximum Power 491.45 W\n"
       ]
      }
     ],
     "prompt_number": 106
    },
    {
     "cell_type": "heading",
     "level": 2,
     "metadata": {},
     "source": [
      "\n",
      "Ex1.76:pg-126"
     ]
    },
    {
     "cell_type": "code",
     "collapsed": false,
     "input": [
      "R1=2.0;                     #Assigning values to parameters\n",
      "R2=4.0;\n",
      "R3=1.0;\n",
      "R4=5.0;\n",
      "R5=8.0;\n",
      "V=50.0;\n",
      "Ra=(R1*R2)/(R1+R2+R4);   #Converting Delta to Star\n",
      "Rb=(R1*R4)/(R1+R2+R4);\n",
      "Rc=(R2*R4)/(R1+R2+R4);\n",
      "Rm=R3+Ra;\n",
      "Rn=Rb+R5;\n",
      "Rth=Rc+((Rm*Rn)/(Rm+Rn)); #Calculating Thevenin resistance\n",
      "Rl=Rth;\n",
      "Rp=R2+R4;\n",
      "Rq=R3+R5;\n",
      "Rr=(Rp*Rq)/(Rp+Rq);\n",
      "I=V/(R1+Rr);\n",
      "I1=I*Rp/(Rp+Rq);\n",
      "I2=I*Rq/(Rp+Rq);\n",
      "Vth=R3*I2-R2*I1;        #Calculating Thevenin voltage\n",
      "Pmax=(Vth*Vth)/(4*Rth); #Calculating Maximum Power\n",
      "print\"Maximum Power\",round(Pmax,2),\"Watts\""
     ],
     "language": "python",
     "metadata": {},
     "outputs": [
      {
       "output_type": "stream",
       "stream": "stdout",
       "text": [
        "Maximum Power 10.19 Watts\n"
       ]
      }
     ],
     "prompt_number": 97
    }
   ],
   "metadata": {}
  }
 ]
}