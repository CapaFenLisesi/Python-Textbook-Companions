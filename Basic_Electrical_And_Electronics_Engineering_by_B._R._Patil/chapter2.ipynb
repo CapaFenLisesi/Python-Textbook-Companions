{
 "metadata": {
  "name": "",
  "signature": "sha256:f329daee8a85c43f59ee158b80238cd1ac536d329140648e381213663f0c2c1c"
 },
 "nbformat": 3,
 "nbformat_minor": 0,
 "worksheets": [
  {
   "cells": [
    {
     "cell_type": "heading",
     "level": 1,
     "metadata": {},
     "source": [
      "Chapter2:AC CIRCUITS"
     ]
    },
    {
     "cell_type": "heading",
     "level": 2,
     "metadata": {},
     "source": [
      "Ex2.1:pg-147"
     ]
    },
    {
     "cell_type": "code",
     "collapsed": false,
     "input": [
      "t=3*10**-3;                  #Assigning values to parameters\n",
      "w=314;\n",
      "Im=141.4*sin(math.pi/2);\n",
      "f=w/(2*math.pi);\n",
      "T=1/f;\n",
      "t=3*(10**-3);\n",
      "i=141.4*sin(w*t);\n",
      "print\"Maximum value of current\",round(Im,2),\"A\"\n",
      "print\"Frequency\",round(f,1),\"HZ\"\n",
      "print\"Time period\",round(T,2),\"sec\"\n",
      "print\"Instantaneous value of current at t=3 msec\",round(i,2),\"A\""
     ],
     "language": "python",
     "metadata": {},
     "outputs": [
      {
       "output_type": "stream",
       "stream": "stdout",
       "text": [
        "Maximum value of current 141.4 A\n",
        "Frequency 50.0 HZ\n",
        "Time period 0.02 sec\n",
        "Instantaneous value of current at t=3 msec 114.36 A\n"
       ]
      }
     ],
     "prompt_number": 4
    },
    {
     "cell_type": "heading",
     "level": 2,
     "metadata": {},
     "source": [
      "Ex2.2:pg-147"
     ]
    },
    {
     "cell_type": "code",
     "collapsed": false,
     "input": [
      "f=60.0;               #Assigning values to parameters\n",
      "Im=12.0;\n",
      "i=Im*sin(377/360)\n",
      "print\"Current at t=1/360 sec\",round(i,2),\"A\"\n",
      "i1=9.6;\n",
      "t=math.asin(i1/Im)/377;\n",
      "print\"Time taken to reach i1\",round(t,5),\"sec\""
     ],
     "language": "python",
     "metadata": {},
     "outputs": [
      {
       "output_type": "stream",
       "stream": "stdout",
       "text": [
        "Current at t=1/360 sec 10.1 A\n",
        "Time taken to reach i1 0.00246 sec\n"
       ]
      }
     ],
     "prompt_number": 8
    },
    {
     "cell_type": "heading",
     "level": 2,
     "metadata": {},
     "source": [
      "Ex2.3:pg-148"
     ]
    },
    {
     "cell_type": "code",
     "collapsed": false,
     "input": [
      "w=942.0;            #Assigning values to parameters\n",
      "Vm=10.0;\n",
      "V=6.0;\n",
      "t=math.asin(V/Vm)/w;\n",
      "f=w/(2*math.pi);\n",
      "T=1.0/f;\n",
      "t2=t+T;\n",
      "print\"Time taken to reach 6V second time=\",round(t2*1000,2),\"msec\""
     ],
     "language": "python",
     "metadata": {},
     "outputs": [
      {
       "output_type": "stream",
       "stream": "stdout",
       "text": [
        "Time taken to reach 6V second time= 7.35 msec\n"
       ]
      }
     ],
     "prompt_number": 1
    },
    {
     "cell_type": "heading",
     "level": 2,
     "metadata": {},
     "source": [
      "Ex2.4:pg-150"
     ]
    },
    {
     "cell_type": "code",
     "collapsed": false,
     "input": [
      "from scipy import integrate\n",
      "import math\n",
      "V=integrate.quad(lambda t:20*sin(t),0,math.pi)\n",
      "V1=V[0]\n",
      "Vavg=V1/(2*math.pi)\n",
      "print\"the average value of voltage is Vavg=\",round(Vavg,3),\"volts\""
     ],
     "language": "python",
     "metadata": {},
     "outputs": [
      {
       "output_type": "stream",
       "stream": "stdout",
       "text": [
        "the average value of voltage is Vavg= 6.366 volts\n"
       ]
      }
     ],
     "prompt_number": 25
    },
    {
     "cell_type": "heading",
     "level": 2,
     "metadata": {},
     "source": [
      "Ex2.5:pg-152"
     ]
    },
    {
     "cell_type": "code",
     "collapsed": false,
     "input": [
      "from scipy import integrate \n",
      "#y=10*t,the current equation\n",
      "T=4;\n",
      "Res=integrate.quad(lambda t:10*t,0,2,)\n",
      "Res=Res[0]/T\n",
      "print\"Average current value\",round(Res,2),\"A\""
     ],
     "language": "python",
     "metadata": {},
     "outputs": [
      {
       "output_type": "stream",
       "stream": "stdout",
       "text": [
        "Average current value 5.0 A\n"
       ]
      }
     ],
     "prompt_number": 5
    },
    {
     "cell_type": "heading",
     "level": 2,
     "metadata": {},
     "source": [
      "Ex2.6:pg-153"
     ]
    },
    {
     "cell_type": "code",
     "collapsed": false,
     "input": [
      "from scipy import integrate\n",
      "#y=6*t,the voltage equation\n",
      "T=3;\n",
      "Res=integrate.quad(lambda t:6*t,0,3)\n",
      "Res=Res[0]/T\n",
      "print\"Average voltage value is Res=\",round(Res,2),\"Volts\""
     ],
     "language": "python",
     "metadata": {},
     "outputs": [
      {
       "output_type": "stream",
       "stream": "stdout",
       "text": [
        "Average voltage value is Res= 9.0 Volts\n"
       ]
      }
     ],
     "prompt_number": 4
    },
    {
     "cell_type": "heading",
     "level": 2,
     "metadata": {},
     "source": [
      "Ex2.7:pg-153"
     ]
    },
    {
     "cell_type": "code",
     "collapsed": false,
     "input": [
      "from scipy import integrate\n",
      "Vm=1;   #Assuming Vm=1\n",
      "#y=Vm*sin(t),the voltage Equation\n",
      "#y1=0.866*Vm*sin(t)\n",
      "T=math.pi;\n",
      "Res1=integrate.quad(lambda t:Vm*sin(t),0,math.pi/3)\n",
      "Res1=Res1[0]     \n",
      "Res2= integrate.quad(lambda t:0.866*Vm*sin(t),math.pi/3,math.pi/2)\n",
      "Res2=Res2[0]\n",
      "Res3=integrate.quad(lambda t:Vm*sin(t),math.pi/2,math.pi)\n",
      "Res3=Res3[0]\n",
      "Res=(Res1+Res2+Res3)/T\n",
      "print\"Average voltage value\",round(Res,2),\"volts\""
     ],
     "language": "python",
     "metadata": {},
     "outputs": [
      {
       "output_type": "stream",
       "stream": "stdout",
       "text": [
        "Average voltage value 0.62 volts\n"
       ]
      }
     ],
     "prompt_number": 22
    },
    {
     "cell_type": "heading",
     "level": 2,
     "metadata": {},
     "source": [
      "Ex2.8:pg-155"
     ]
    },
    {
     "cell_type": "code",
     "collapsed": false,
     "input": [
      "from scipy import integrate\n",
      "Vm=1;  #Assuming Vm=1;\n",
      "#y=Vm*sin(t)  #Defining voltage equation\n",
      "T=math.pi;\n",
      "Res=integrate.quad(lambda t:Vm*sin(t),math.pi/6,math.pi)\n",
      "Res=Res[0]/T\n",
      "print\"Average voltage value\",round(Res,3),\"Volts\""
     ],
     "language": "python",
     "metadata": {},
     "outputs": [
      {
       "output_type": "stream",
       "stream": "stdout",
       "text": [
        "Average voltage value 0.594 Volts\n"
       ]
      }
     ],
     "prompt_number": 20
    },
    {
     "cell_type": "heading",
     "level": 2,
     "metadata": {},
     "source": [
      "Ex2.10:pg-159"
     ]
    },
    {
     "cell_type": "code",
     "collapsed": false,
     "input": [
      "from scipy import integrate\n",
      "Vm=1;        #Assuming Vm=1\n",
      "#y=Vm*Vm*sin(t)*sin(t), #Defining Voltage Equation\n",
      "T=2*math.pi;\n",
      "Res=(integrate.quad(lambda t:Vm*Vm*sin(t),0,math.pi))\n",
      "Res=sqrt(Res[0]/T)        \n",
      "print\"Rms value of voltage\",round(Res,2),\"Volts\""
     ],
     "language": "python",
     "metadata": {},
     "outputs": [
      {
       "output_type": "stream",
       "stream": "stdout",
       "text": [
        "Rms value of voltage 0.56 Volts\n"
       ]
      }
     ],
     "prompt_number": 19
    },
    {
     "cell_type": "heading",
     "level": 2,
     "metadata": {},
     "source": [
      "Ex2.11:pg-160"
     ]
    },
    {
     "cell_type": "code",
     "collapsed": false,
     "input": [
      "from scipy import integrate\n",
      "Vm=1;            #Assuming Vm=1\n",
      "#y=Vm*Vm*sin(t)*sin(t)     #Defining Voltage Equation\n",
      "T=2*math.pi;\n",
      "Res=(integrate.quad(lambda t: Vm*Vm*sin(t)*sin(t),math.pi/4,math.pi))\n",
      "Res=sqrt(Res[0]/T)\n",
      "print\"Rms value of voltage\",round(Res,3),\"Volts\""
     ],
     "language": "python",
     "metadata": {},
     "outputs": [
      {
       "output_type": "stream",
       "stream": "stdout",
       "text": [
        "Rms value of voltage 0.477 Volts\n"
       ]
      }
     ],
     "prompt_number": 24
    },
    {
     "cell_type": "heading",
     "level": 2,
     "metadata": {},
     "source": [
      "Ex2.12:pg-161"
     ]
    },
    {
     "cell_type": "code",
     "collapsed": false,
     "input": [
      "from scipy import integrate\n",
      "Vm=1;  #Assuming Vm=1\n",
      "#y=Vm*Vm*sin(t)*sin(t),Defining Voltage Equation\n",
      "#y1=0.866*0.866*Vm*Vm*sin(t)*sin(t)\n",
      "T=math.pi;\n",
      "Res1=(integrate.quad(lambda t:Vm*Vm*sin(t)*sin(t),0,math.pi/3))\n",
      "Res2=(integrate.quad(lambda t:0.866*0.866*Vm*Vm*sin(t)*sin(t),math.pi/3,math.pi/2))\n",
      "Res3=(integrate.quad(lambda t:Vm*Vm*sin(t)*sin(t),math.pi/2,math.pi))\n",
      "VRms=sqrt((Res1[0]+Res2[0]+Res3[0])/T)\n",
      "print\"Rms voltage value is=\",round(VRms,3),\"Volts\"\n"
     ],
     "language": "python",
     "metadata": {},
     "outputs": [
      {
       "output_type": "stream",
       "stream": "stdout",
       "text": [
        "Rms voltage value is= 0.68 Volts\n"
       ]
      }
     ],
     "prompt_number": 28
    },
    {
     "cell_type": "heading",
     "level": 2,
     "metadata": {},
     "source": [
      "Ex2.13:pg-163"
     ]
    },
    {
     "cell_type": "code",
     "collapsed": false,
     "input": [
      "from scipy import integrate\n",
      "Vm=1;          #Assuming Vm=1\n",
      "#y=10*t*10*t, Defining Current Equation\n",
      "T=4;\n",
      "Res=(integrate.quad(lambda t:10*t*10*t,0,2))\n",
      "Irms=sqrt(Res[0]/T)\n",
      "print\"Rms current value is Irms=\",round(Irms,2),\"A\""
     ],
     "language": "python",
     "metadata": {},
     "outputs": [
      {
       "output_type": "stream",
       "stream": "stdout",
       "text": [
        "Rms current value is Irms= 8.16 A\n"
       ]
      }
     ],
     "prompt_number": 29
    },
    {
     "cell_type": "heading",
     "level": 2,
     "metadata": {},
     "source": [
      "Ex2.14:pg-164"
     ]
    },
    {
     "cell_type": "code",
     "collapsed": false,
     "input": [
      "from scipy import integrate\n",
      "Vm=1;              #Assuming Vm=1\n",
      "#y=sin(t)*sin(t),Defining Voltage Equation\n",
      "T=math.pi;\n",
      "Res=integrate.quad(lambda t:sin(t)*sin(t),math.pi/6,math.pi)\n",
      "Res=sqrt(Res[0]/T)\n",
      "print\"Rms voltage value\",round(Res,3),\"volts\""
     ],
     "language": "python",
     "metadata": {},
     "outputs": [
      {
       "output_type": "stream",
       "stream": "stdout",
       "text": [
        "Rms voltage value 0.697 volts\n"
       ]
      }
     ],
     "prompt_number": 31
    },
    {
     "cell_type": "heading",
     "level": 2,
     "metadata": {},
     "source": [
      "Ex2.15:pg-165"
     ]
    },
    {
     "cell_type": "code",
     "collapsed": false,
     "input": [
      "from scipy import integrate\n",
      "Vm=1;             #Assuming Vm=1\n",
      "#y=sin(t+(math.pi/3))*sin(t+(math.pi/3)),Defining Voltage Equation\n",
      "T=2*(math.pi/3);\n",
      "Res=integrate.quad(lambda t:sin(t+(math.pi/3))*sin(t+(math.pi/3)),0,T)\n",
      "Res=sqrt(Res[0]/T)\n",
      "print\"Rms voltage value\",round(Res,4),\"volts\""
     ],
     "language": "python",
     "metadata": {},
     "outputs": [
      {
       "output_type": "stream",
       "stream": "stdout",
       "text": [
        "Rms voltage value 0.7768 volts\n"
       ]
      }
     ],
     "prompt_number": 34
    },
    {
     "cell_type": "heading",
     "level": 2,
     "metadata": {},
     "source": [
      "Ex2.16:pg-167"
     ]
    },
    {
     "cell_type": "code",
     "collapsed": false,
     "input": [
      "from scipy import integrate\n",
      "#y=(10+10*sin(t))*(10+10*sin(t)),Defining Current Equation\n",
      "T=2*math.pi;\n",
      "Res=integrate.quad(lambda t:(10+10*sin(t))*(10+10*sin(t)),0,2*math.pi)\n",
      "Res=sqrt(Res[0]/T)\n",
      "print\"Rms current value\",round(Res,2),\"A\""
     ],
     "language": "python",
     "metadata": {},
     "outputs": [
      {
       "output_type": "stream",
       "stream": "stdout",
       "text": [
        "Rms current value 12.25 A\n"
       ]
      }
     ],
     "prompt_number": 35
    },
    {
     "cell_type": "heading",
     "level": 2,
     "metadata": {},
     "source": [
      "Ex2.17:pg-168"
     ]
    },
    {
     "cell_type": "code",
     "collapsed": false,
     "input": [
      "Im=62.35;\n",
      "w=323;\n",
      "#y=Im*sin(w*t), Defining Voltage Equation\n",
      "fr=w/(2*math.pi);\n",
      "Irms=Im/sqrt(2);\n",
      "Iavg=0.637*Im;\n",
      "formfac=Irms/Iavg;\n",
      "print\"Maximum value of current\",round(Im,2),\"A\"\n",
      "print\"Frequency\",round(fr,2),\"Hertz\"\n",
      "print\"Rms value of current\",round(Irms,1),\"A\"\n",
      "print\"Average value of current\",round(Iavg,1),\"A\"\n",
      "print\"Form factor\",round(formfac,2)"
     ],
     "language": "python",
     "metadata": {},
     "outputs": [
      {
       "output_type": "stream",
       "stream": "stdout",
       "text": [
        "Maximum value of current 62.35 A\n",
        "Frequency 51.41 Hertz\n",
        "Rms value of current 44.1 A\n",
        "Average value of current 39.7 A\n",
        "Form factor 1.11\n"
       ]
      }
     ],
     "prompt_number": 37
    },
    {
     "cell_type": "heading",
     "level": 2,
     "metadata": {},
     "source": [
      "Ex2.19:pg-175"
     ]
    },
    {
     "cell_type": "code",
     "collapsed": false,
     "input": [
      "import cmath\n",
      "V1=42.43+1j*0;              #Defining voltage equations in rectangular form\n",
      "V2=14.14+1j*24.49;\n",
      "Va=V1+V2;\n",
      "[Ro,Theta]=cmath.polar(Va);\n",
      "Vm=Ro*sqrt(2);\n",
      "print\"Maximum value of voltage considering addition of voltages\",round(Vm,2),\"Volts\"\n",
      "#function, y=Ro*sin(t+Theta),Defining voltage equation\n",
      "Vb=V1-V2;\n",
      "[Ro1,Theta1]=cmath.polar(Vb);\n",
      "Vm1=Ro1*sqrt(2);\n",
      "#function y1=f(t),y1=Ro*sin(t+Theta1),Defining voltage equation\n",
      "print\"Maximum value of voltage considering difference of voltages\",round(Vm1,2),\"Volts\""
     ],
     "language": "python",
     "metadata": {},
     "outputs": [
      {
       "output_type": "stream",
       "stream": "stdout",
       "text": [
        "Maximum value of voltage considering addition of voltages 87.18 Volts\n",
        "Maximum value of voltage considering difference of voltages 52.92 Volts\n"
       ]
      }
     ],
     "prompt_number": 38
    },
    {
     "cell_type": "heading",
     "level": 2,
     "metadata": {},
     "source": [
      "Ex2.21:pg-177"
     ]
    },
    {
     "cell_type": "code",
     "collapsed": false,
     "input": [
      "import cmath\n",
      "V1=17.68             #Defining voltage equations in rectangular form\n",
      "V2=6.12+1j*3.54\n",
      "V3=1j*21.21\n",
      "V4=10-1j*10;\n",
      "V=V1+V2+V3+V4;\n",
      "[Ro,Theta]=cmath.polar(V);\n",
      "Vm=Ro*sqrt(2)\n",
      "t1=math.degrees(Theta)\n",
      "#function y=f(t), y=Ro*sqrt(2)*sin(t+Theta), endfunction\n",
      "print\"Maximum Voltage value\",round(Vm,2),\"Volts\"\n",
      "print\"the value of Theta is=\",round(t1,2),\"degrees\""
     ],
     "language": "python",
     "metadata": {},
     "outputs": [
      {
       "output_type": "stream",
       "stream": "stdout",
       "text": [
        "Maximum Voltage value 52.15 Volts\n",
        "the value of Theta is= 23.58 degrees\n"
       ]
      }
     ],
     "prompt_number": 54
    },
    {
     "cell_type": "heading",
     "level": 2,
     "metadata": {},
     "source": [
      "Ex2.22:pg-178"
     ]
    },
    {
     "cell_type": "code",
     "collapsed": false,
     "input": [
      "import cmath\n",
      "V1=36.75+1j*21.22             #Defining voltage equations in rectangular form\n",
      "V2=-45.93-1j*26.52\n",
      "V3=-50+1j*50;\n",
      "V=-30.59+1j*94.15;\n",
      "V4=V-(V1+V2+V3);\n",
      "[Ro,Theta]=cmath.polar(V4);\n",
      "t=math.degrees(Theta)\n",
      "#function y=f(t), y=Ro*sqrt(2)*sin(t+Theta), endfunction\n",
      "V=Ro*sqrt(2)\n",
      "print\"Maximum Voltage value is=\",round(V,2),\"Volts\"\n",
      "print\"the vlaue of Theta is=\",round(t,2),\"degrees\""
     ],
     "language": "python",
     "metadata": {},
     "outputs": [
      {
       "output_type": "stream",
       "stream": "stdout",
       "text": [
        "Maximum Voltage value is= 80.78 Volts\n",
        "the vlaue of Theta is= 59.97 degrees\n"
       ]
      }
     ],
     "prompt_number": 46
    },
    {
     "cell_type": "heading",
     "level": 2,
     "metadata": {},
     "source": [
      "Ex2.23:pg-179"
     ]
    },
    {
     "cell_type": "code",
     "collapsed": false,
     "input": [
      "import cmath\n",
      "I1=2.12+1j*3.67             #Defining current equations in rectangular form\n",
      "I2=-3.07+1j*1.77\n",
      "I3=-1.84+1j*1.06;\n",
      "I4=-(I1+I2+I3);\n",
      "[Ro,Theta]=cmath.polar(I4);\n",
      "#function y=f(t), y=Ro*sqrt(2)*sin(t+Theta), endfunction\n",
      "I=Ro*sqrt(2)\n",
      "t=math.degrees(Theta)\n",
      "print\"Maximum current value is I=\",round(I,2),\"A\"\n",
      "print\"the value of Theta is t=\",round(t,2),\"degrees\""
     ],
     "language": "python",
     "metadata": {},
     "outputs": [
      {
       "output_type": "stream",
       "stream": "stdout",
       "text": [
        "Maximum current value is I= 10.0 A\n",
        "the value of Theta is t= -66.77 degrees\n"
       ]
      }
     ],
     "prompt_number": 55
    },
    {
     "cell_type": "heading",
     "level": 2,
     "metadata": {},
     "source": [
      "Ex2.24:pg-181"
     ]
    },
    {
     "cell_type": "code",
     "collapsed": false,
     "input": [
      "V1=230            #Defining voltage equations in rectangular form\n",
      "V2=-115+1j*200;\n",
      "V3=-115-1j*200;\n",
      "V=V1+V2+V3;\n",
      "[Ro,Theta]=cmath.polar(V);\n",
      "#function y=f(t), y=Ro*sqrt(2)*sin(t+Theta), endfunction\n",
      "ER=Ro*sqrt(2)\n",
      "\n",
      "print\"Maximum Voltage value is ER=\",round(ER,2),\"Volts\"\n"
     ],
     "language": "python",
     "metadata": {},
     "outputs": [
      {
       "output_type": "stream",
       "stream": "stdout",
       "text": [
        "Maximum Voltage value is ER= 0.0 Volts\n"
       ]
      }
     ],
     "prompt_number": 59
    },
    {
     "cell_type": "heading",
     "level": 2,
     "metadata": {},
     "source": [
      "Ex2.25:pg-181"
     ]
    },
    {
     "cell_type": "code",
     "collapsed": false,
     "input": [
      "V1=70.71             #Defining voltage equations in rectangular form\n",
      "V2=1j*176.78\n",
      "V3=91.86+1j*53.04\n",
      "V4=100-1j*100;\n",
      "V=V1+V2+V3+V4;\n",
      "[Ro,Theta]=cmath.polar(V);\n",
      "#function y=f(t), y=Ro*sqrt(2)*sin(t+Theta), endfunction\n",
      "V=Ro*sqrt(2)\n",
      "print\"Maximum Voltage value with V2 polarity as it is\",round(V,2),\"Volts\"\n",
      "V=V1-V2+V3+V4;\n",
      "[Ro1,Theta1]=cmath.polar(V);\n",
      "#function y1=f(t), y1=Ro1*sqrt(2)*sin(t+Theta), endfunction\n",
      "V=Ro1*sqrt(2)\n",
      "print\"Maximum Voltage value with polarity of V2 reversed\",round(V,2),\"Volts\""
     ],
     "language": "python",
     "metadata": {},
     "outputs": [
      {
       "output_type": "stream",
       "stream": "stdout",
       "text": [
        "Maximum Voltage value with V2 polarity as it is 414.24 Volts\n",
        "Maximum Voltage value with polarity of V2 reversed 487.86 Volts\n"
       ]
      }
     ],
     "prompt_number": 60
    },
    {
     "cell_type": "heading",
     "level": 2,
     "metadata": {},
     "source": [
      "Ex2.26:pg-190"
     ]
    },
    {
     "cell_type": "code",
     "collapsed": false,
     "input": [
      "C=318*10**-6;         #Assignig values to parameters\n",
      "V=230.0;\n",
      "f=50.0;\n",
      "Xc=1.0/(2*math.pi*f*C);\n",
      "I=V/Xc;\n",
      "Vm=sqrt(2)*V;\n",
      "Im=sqrt(2)*I;\n",
      "#function y=f(t), y=Vm*sin(2*%pi*f*t),endfunction\n",
      "#function y1=f(t), y1=Im*sin(2*%pi*f*t+%pi/2),endfunction\n",
      "print\"Peak voltage value\",round(Vm,2),\"Volts\"\n",
      "print\"Peak currnet value\",round(Im,2),\"A\""
     ],
     "language": "python",
     "metadata": {},
     "outputs": [
      {
       "output_type": "stream",
       "stream": "stdout",
       "text": [
        "Peak voltage value 325.27 Volts\n",
        "Peak currnet value 32.5 A\n"
       ]
      }
     ],
     "prompt_number": 1
    },
    {
     "cell_type": "heading",
     "level": 2,
     "metadata": {},
     "source": [
      "Ex2.27:pg-190"
     ]
    },
    {
     "cell_type": "code",
     "collapsed": false,
     "input": [
      "\n",
      "L=10*10**-3;             #ASssigning values to parameters\n",
      "Im=5; \n",
      "w=2000;\n",
      "#function y=f(t), y=Im*sin(w*t+%pi/2),endfunction\n",
      "I=Im/sqrt(2);\n",
      "Xl=2*math.pi*L;\n",
      "Vm=L*Im*w;\n",
      "Vl=Vm/sqrt(2);\n",
      "print\"Voltage Vl\",round(Vl,2),\"Volts\""
     ],
     "language": "python",
     "metadata": {},
     "outputs": [
      {
       "output_type": "stream",
       "stream": "stdout",
       "text": [
        "Voltage Vl 70.71 Volts\n"
       ]
      }
     ],
     "prompt_number": 1
    },
    {
     "cell_type": "heading",
     "level": 2,
     "metadata": {},
     "source": [
      "Ex2.28:pg-191"
     ]
    },
    {
     "cell_type": "code",
     "collapsed": false,
     "input": [
      "\n",
      "V=150;               #Assigning values to parameters\n",
      "f=50;\n",
      "L=0.2;\n",
      "Xl=2*math.pi*f*L;\n",
      "Vm=V*sqrt(2);\n",
      "I=V/Xl;\n",
      "Im=sqrt(2)*I;\n",
      "#function y=f(t), y=Vm*sin(2*%pi*f*t),endfunction\n",
      "#function y1=f(t), y1=Im*sin(2*%pi*f*t-(%pi/2)) endfunction\n",
      "print\"Maximum voltage value\",round(Vm,2),\"Volts\"\n",
      "print\"Maximum current value\",round(Im,2),\"A\""
     ],
     "language": "python",
     "metadata": {},
     "outputs": [
      {
       "output_type": "stream",
       "stream": "stdout",
       "text": [
        "Maximum voltage value 212.13 Volts\n",
        "Maximum current value 3.38 A\n"
       ]
      }
     ],
     "prompt_number": 5
    },
    {
     "cell_type": "heading",
     "level": 2,
     "metadata": {},
     "source": [
      "Ex2.29:pg-202"
     ]
    },
    {
     "cell_type": "code",
     "collapsed": false,
     "input": [
      "import math\n",
      "R=7.0;             #Assigning values to parametrs\n",
      "L=31.8*10**-3;\n",
      "V=230.0;\n",
      "f=50.0;\n",
      "Xl=2*math.pi*f*L;\n",
      "Xl=round(Xl);\n",
      "Zcoil=sqrt(R*R+Xl*Xl);\n",
      "I=V/Zcoil;\n",
      "Phi=math.atan(Xl/R);\n",
      "Phi1=math.degrees(Phi)\n",
      "PF=cos(Phi)\n",
      "I=round(I,2);\n",
      "P=V*I*0.574;\n",
      "print\"Circuit Current=\",round(I,2),\"A\"\n",
      "print\"Phase angle=\",round(Phi1),\"degrees\"\n",
      "print\"Power factor=\",round(PF,2)\n",
      "print\"Power consumed=\",round(P,2),\"Watts\""
     ],
     "language": "python",
     "metadata": {},
     "outputs": [
      {
       "output_type": "stream",
       "stream": "stdout",
       "text": [
        "Circuit Current= 18.84 A\n",
        "Phase angle= 55.0 degrees\n",
        "Power factor= 0.57\n",
        "Power consumed= 2487.26 Watts\n"
       ]
      }
     ],
     "prompt_number": 28
    },
    {
     "cell_type": "heading",
     "level": 2,
     "metadata": {},
     "source": [
      "Ex2.30:pg-203"
     ]
    },
    {
     "cell_type": "code",
     "collapsed": false,
     "input": [
      "import cmath\n",
      "V=200.0;                #Assigning values to parameters\n",
      "R=20.0;\n",
      "f=50.0;\n",
      "L=0.1;\n",
      "Xl=2*math.pi*f*L;\n",
      "C=50*10**-6;\n",
      "Xc=1.0/(2*math.pi*f*C);\n",
      "X=Xc-Xl;\n",
      "Z=R-1j*X;\n",
      "[Ro,theta]=cmath.polar(Z)\n",
      "I=V/Ro;\n",
      "PF=cos(theta);\n",
      "PF=round(PF,3);\n",
      "I=round(I,2);\n",
      "PA=V*I*PF;\n",
      "PR=V*I*sin(theta);\n",
      "P=V*I;\n",
      "print\"Circuit Current=\",round(I,2),\"A\"\n",
      "print\"Circuit Impedance=\",round(Ro,2),\"ohms\"\n",
      "print\"Power Factor=\",round(PF,3)\n",
      "print\"Active Power=\",round(PA,2),\"Watts\"\n",
      "print\"Reactive Power=\",round(PR,1),\"VAR\"\n",
      "print\"Apparen Power=\",round(P),\"VA\""
     ],
     "language": "python",
     "metadata": {},
     "outputs": [
      {
       "output_type": "stream",
       "stream": "stdout",
       "text": [
        "Circuit Current= 5.27 A\n",
        "Circuit Impedance= 37.94 ohms\n",
        "Power Factor= 0.527\n",
        "Active Power= 555.46 Watts\n",
        "Reactive Power= -895.7 VAR\n",
        "Apparen Power= 1054.0 VA\n"
       ]
      }
     ],
     "prompt_number": 1
    },
    {
     "cell_type": "heading",
     "level": 2,
     "metadata": {},
     "source": [
      "Ex2.31:pg-204"
     ]
    },
    {
     "cell_type": "code",
     "collapsed": false,
     "input": [
      "import cmath\n",
      "V=200+1j*0;             #Assigning values to parameters\n",
      "R1=10;\n",
      "R2=20;\n",
      "R=R1+R2;\n",
      "L1=0.05;\n",
      "L2=0.1;\n",
      "f=50;\n",
      "Xl1=2*math.pi*f*L1;\n",
      "Xl2=2*math.pi*f*L2;\n",
      "Xl=Xl1+Xl2;\n",
      "C=50*10**-6;\n",
      "Xc=1/(2*math.pi*f*C);\n",
      "X=Xc-Xl;\n",
      "Z=R-1j*X;\n",
      "[Ro,theta]=cmath.polar(Z);\n",
      "I=V/Z;\n",
      "Z1=R1+1j*Xl1;\n",
      "Z2=R2-1j*(Xc-Xl2)\n",
      "[Ro1,Theta1]=cmath.polar(Z1);\n",
      "[Ro2,Theta2]=cmath.polar(Z2);\n",
      "[ro,th]=cmath.polar(I);\n",
      "V1=ro*Ro1;\n",
      "V2=ro*Ro2;\n",
      "print\"Circuit Current\",round(ro,2),\"A\"\n",
      "print\"Voltage V1\",round(V1,1),\"Volts\"\n",
      "print\"Voltage V2\",round(V2,1),\"Volts\""
     ],
     "language": "python",
     "metadata": {},
     "outputs": [
      {
       "output_type": "stream",
       "stream": "stdout",
       "text": [
        "Circuit Current 5.84 A\n",
        "Voltage V1 108.7 Volts\n",
        "Voltage V2 221.5 Volts\n"
       ]
      }
     ],
     "prompt_number": 37
    },
    {
     "cell_type": "heading",
     "level": 2,
     "metadata": {},
     "source": [
      "Ex2.32:pg-205"
     ]
    },
    {
     "cell_type": "code",
     "collapsed": false,
     "input": [
      "import cmath\n",
      "V=100+0*1j;                     #Assignig values to parametrs\n",
      "Z1=17.32+10*1j;\n",
      "V1=34.64-20*1j;\n",
      "V2=V-V1;\n",
      "[Ro,Theta]=cmath.polar(V2);\n",
      "[ro,theta]=cmath.polar(Z1);\n",
      "[r,t]=cmath.polar(V1);\n",
      "I=Ro/r;\n",
      "[ro1,t1]=cmath.polar(I);\n",
      "I=round(I);\n",
      "Z2=V2/I;\n",
      "[r1,t1]=cmath.polar(Z2);\n",
      "print\"Impedance Z2\",\"=\",Z2,\"=\",cmath.polar(Z2),\"=\",round(r1,3),\"ohms\"\n",
      "# The answer in the book is wrong ,The value of I is wrong in the book."
     ],
     "language": "python",
     "metadata": {},
     "outputs": [
      {
       "output_type": "stream",
       "stream": "stdout",
       "text": [
        "Impedance Z2 = (32.68+10j) = (34.17575748977629, 0.2969500127663617) = 34.176 ohms\n"
       ]
      }
     ],
     "prompt_number": 2
    },
    {
     "cell_type": "heading",
     "level": 2,
     "metadata": {},
     "source": [
      "Ex2.33:pg-206"
     ]
    },
    {
     "cell_type": "code",
     "collapsed": false,
     "input": [
      "import cmath\n",
      "V=150+180*1j;          #Assigning values to parameters\n",
      "I=5-4*1j;\n",
      "Z=V/I;\n",
      "print\"Impedance =\",Z,\"=\",round(Z.imag,1),\"ohms\"\n",
      "[Ro,Theta]=cmath.polar(Z);\n",
      "P=V*I*cos(Theta);\n",
      "[r,t]=cmath.polar(P);\n",
      "print\"Power consumed =\",round(r,4),\"Watts\""
     ],
     "language": "python",
     "metadata": {},
     "outputs": [
      {
       "output_type": "stream",
       "stream": "stdout",
       "text": [
        "Impedance = (0.731707317073+36.5853658537j) = 36.6 ohms\n",
        "Power consumed = 30.0 Watts\n"
       ]
      }
     ],
     "prompt_number": 82
    },
    {
     "cell_type": "heading",
     "level": 2,
     "metadata": {},
     "source": [
      "Ex2.34:pg-206"
     ]
    },
    {
     "cell_type": "code",
     "collapsed": false,
     "input": [
      "import cmath\n",
      "V=127.28+1j*0;             #Assigning values to parameters\n",
      "I=1.251-1j*1.251\n",
      "Z=V/I\n",
      "[r1,t1]=cmath.polar(Z);\n",
      "[Ro,Theta]=cmath.polar(I)\n",
      "P=V*I*cos(Theta)\n",
      "[r,t]=cmath.polar(P)\n",
      "print\"Resistive and reactive part of impedance =\",Z,\"=\",cmath.polar(Z),\"=\",round(r1,3),\"ohms\"\n",
      "print\"Average Power taken=\",round(r,2),\"Watts\""
     ],
     "language": "python",
     "metadata": {},
     "outputs": [
      {
       "output_type": "stream",
       "stream": "stdout",
       "text": [
        "Resistive and reactive part of impedance = (50.8713029576+50.8713029576j) = (71.9428865782764, 0.7853981633974483) = 71.943 ohms\n",
        "Average Power taken= 159.23 Watts\n"
       ]
      }
     ],
     "prompt_number": 4
    },
    {
     "cell_type": "heading",
     "level": 2,
     "metadata": {},
     "source": [
      "Ex2.35:pg-207"
     ]
    },
    {
     "cell_type": "code",
     "collapsed": false,
     "input": [
      "\n",
      "Z1=12.5+1j*21;          #Assigning values to parameters\n",
      "V=50+1j*0;\n",
      "I1=V.real/Z1.real;\n",
      "I2=0.722-0.723*1j;\n",
      "Z=V/I2;\n",
      "Z2=Z-Z1;\n",
      "[r,t]=cmath.polar(Z2);\n",
      "print\"Impedance Z2 =\",Z2,\"=\",cmath.polar(Z2),\"=\",round(r,3),\"ohms\""
     ],
     "language": "python",
     "metadata": {},
     "outputs": [
      {
       "output_type": "stream",
       "stream": "stdout",
       "text": [
        "Impedance Z2 = (22.0781134909+13.6260056149j) = (25.944385217897505, 0.5529507762186462) = 25.944 ohms\n"
       ]
      }
     ],
     "prompt_number": 5
    },
    {
     "cell_type": "heading",
     "level": 2,
     "metadata": {},
     "source": [
      "Ex2.40:pg-212"
     ]
    },
    {
     "cell_type": "code",
     "collapsed": false,
     "input": [
      "\n",
      "#function v=f(t), v=200*sin(377*t), endfunction         #Defining functions\n",
      "#function i=f1(t), i=8*sin(377*t-%pi/6), endfunction\n",
      "V=200.0/sqrt(2);#Assigning values to parameters\n",
      "V=round(V,2);\n",
      "I=8.0/sqrt(2);\n",
      "I=round(I,2);\n",
      "P=V*I*cos(math.pi/6)\n",
      "print\"Active Power=\",round(P,3),\"Watts\"\n",
      "Q=V*I*sin(math.pi/6);\n",
      "print\"Reactive Power=\",round(Q,2),\"VAR\"\n",
      "S=V*I;\n",
      "print\"Apparent Power=\",round(S,2),\"Watts\""
     ],
     "language": "python",
     "metadata": {},
     "outputs": [
      {
       "output_type": "stream",
       "stream": "stdout",
       "text": [
        "Active Power= 693.199 Watts\n",
        "Reactive Power= 400.22 VAR\n",
        "Apparent Power= 800.44 Watts\n"
       ]
      }
     ],
     "prompt_number": 6
    },
    {
     "cell_type": "heading",
     "level": 2,
     "metadata": {},
     "source": [
      "Ex2.43:pg-215"
     ]
    },
    {
     "cell_type": "code",
     "collapsed": false,
     "input": [
      "import cmath\n",
      "#function i=f(t), i=5*sin(314*t+2*%pi/3), endfunction;   #Defining functions\n",
      "#function v=f1(t), v=20*sin(314*t+5*%pi/6), endfunction;\n",
      "I=-1.77+3.065*1j;\n",
      "V=-12.24+7.07*1j;\n",
      "Z=V/I;\n",
      "[r,t]=cmath.polar(Z);\n",
      "P=V*I*cos(t);\n",
      "[ro,theta]=cmath.polar(P);\n",
      "print\"Impedance =\",Z,\"=\",round(Z.real,3),\"ohms\"\n",
      "print\"Average Power =\",round(ro,2),\"Watts\""
     ],
     "language": "python",
     "metadata": {},
     "outputs": [
      {
       "output_type": "stream",
       "stream": "stdout",
       "text": [
        "Impedance = (3.45924144606+1.99580510293j) = 3.459 ohms\n",
        "Average Power = 43.33 Watts\n"
       ]
      }
     ],
     "prompt_number": 7
    },
    {
     "cell_type": "heading",
     "level": 2,
     "metadata": {},
     "source": [
      "Ex2.45:pg-216"
     ]
    },
    {
     "cell_type": "code",
     "collapsed": false,
     "input": [
      "import cmath\n",
      "import numpy as np\n",
      "from numpy.linalg import inv\n",
      "f=50.0;\n",
      "I=5.0;\n",
      "V=250.0;\n",
      "I1=5.8\n",
      "Z=V/I;\n",
      "A=[1, (1/(2*math.pi*50))**2],[1, (1/(2*math.pi*60))**2]\n",
      "B=[50**2],[43.1**2];\n",
      "res=np.dot(inv(A),B);\n",
      "r=res[0][0];\n",
      "P=I1**2*(sqrt(r));\n",
      "print\"Power absorbed =\",round(P,1),\"Watts\""
     ],
     "language": "python",
     "metadata": {},
     "outputs": [
      {
       "output_type": "stream",
       "stream": "stdout",
       "text": [
        "Power absorbed = 670.8 Watts\n"
       ]
      }
     ],
     "prompt_number": 3
    },
    {
     "cell_type": "heading",
     "level": 2,
     "metadata": {},
     "source": [
      "Ex2.46:pg-218"
     ]
    },
    {
     "cell_type": "code",
     "collapsed": false,
     "input": [
      "\n",
      "#function vl=f(t), vl=300*sin(1000*t), endfunction;    #Defining functions\n",
      "R=20.0;          #Assigning values to parameters\n",
      "w=1000;\n",
      "Z=R/cos(math.pi/4);\n",
      "Xc=sqrt(Z*Z-R*R);\n",
      "Xl=2*Xc;\n",
      "L=Xl/w;\n",
      "C=1.0/(w*Xc);\n",
      "print\"Inductance Value=\",round(L,2),\"Henery\"\n",
      "print\"Capacitance Value=\",round(C,6),\"farad\""
     ],
     "language": "python",
     "metadata": {},
     "outputs": [
      {
       "output_type": "stream",
       "stream": "stdout",
       "text": [
        "Inductance Value= 0.04 Henery\n",
        "Capacitance Value= 5e-05 farad\n"
       ]
      }
     ],
     "prompt_number": 8
    },
    {
     "cell_type": "heading",
     "level": 2,
     "metadata": {},
     "source": [
      "Ex2.47:pg-219"
     ]
    },
    {
     "cell_type": "code",
     "collapsed": false,
     "input": [
      "import cmath\n",
      "Vr=10;         #Assigning values to parameters\n",
      "Vl=15;\n",
      "Vc=10;\n",
      "V=sqrt(Vr^2+(Vl-Vc)^2);\n",
      "V=10+1j*0+0+1j*15+0-1j*10;\n",
      "[r,t]=cmath.polar(V);\n",
      "print\"Voltage=\",round(r,2),\"Volts\""
     ],
     "language": "python",
     "metadata": {},
     "outputs": [
      {
       "output_type": "stream",
       "stream": "stdout",
       "text": [
        "Voltage= 11.18 Volts\n"
       ]
      }
     ],
     "prompt_number": 9
    },
    {
     "cell_type": "heading",
     "level": 2,
     "metadata": {},
     "source": [
      "Ex2.48:pg-219"
     ]
    },
    {
     "cell_type": "code",
     "collapsed": false,
     "input": [
      "import cmath\n",
      "L=0.01;         #Assigning value sto parameters\n",
      "fr=50;\n",
      "#function v=f(t), y=400*sin(3000*t-10),endfunction;   #Defining functions\n",
      "#function i=f1(t),i=10*sqrt(2)*cos(3000*t-55), endfunction;\n",
      "V=278.54-1j*49.11;\n",
      "I=8.191+5.7*1j;\n",
      "Z=V/I;\n",
      "[r,t]=cmath.polar(Z);\n",
      "Xl=3000*L;\n",
      "Xc=50;\n",
      "C=1.0/(2*math.pi*fr*Xc);\n",
      "print\"impedence Z=\",Z,\"=\",cmath.polar(Z),\"=\",round(r,2),\"ohms\"\n",
      "print\"Capacitance C=\",round(C,5),\"farad\""
     ],
     "language": "python",
     "metadata": {},
     "outputs": [
      {
       "output_type": "stream",
       "stream": "stdout",
       "text": [
        "impedence Z= (20.0998621434-19.9828121374j) = (28.342851640290757, -0.7824779572137082) = 28.34 ohms\n",
        "Capacitance C= 6e-05 farad\n"
       ]
      }
     ],
     "prompt_number": 10
    },
    {
     "cell_type": "heading",
     "level": 2,
     "metadata": {},
     "source": [
      "Ex2.49:pg-221"
     ]
    },
    {
     "cell_type": "code",
     "collapsed": false,
     "input": [
      "\n",
      "Vr=25;              #Assigning values to parameters\n",
      "Vcoil=40;\n",
      "Vc=55;\n",
      "Vrcoil=50;\n",
      "I=0.345;\n",
      "C=20*10**-6;\n",
      "Xc=Vc/I;\n",
      "f=1/(2*math.pi*C*Xc);\n",
      "R=Vr/I;\n",
      "Zcoil=Vcoil/I;\n",
      "Zrcoil=Vrcoil/I;\n",
      "r=(Zrcoil**2-(R**2+Zcoil**2))/(2*R);\n",
      "Xl=sqrt(Zcoil**2-r**2);\n",
      "Z=sqrt((R+r)**2+(Xc-Xl)**2);\n",
      "I=round(I,3);\n",
      "Z=round(Z);\n",
      "V=I*Z;\n",
      "print\"Voltage=\",round(V,3),\"Volts\"\n",
      "#The answer in the book is wrong,which is 35.046"
     ],
     "language": "python",
     "metadata": {},
     "outputs": [
      {
       "output_type": "stream",
       "stream": "stdout",
       "text": [
        "Voltage= 34.155 Volts\n"
       ]
      }
     ],
     "prompt_number": 11
    },
    {
     "cell_type": "heading",
     "level": 2,
     "metadata": {},
     "source": [
      "Ex2.50:pg-227"
     ]
    },
    {
     "cell_type": "code",
     "collapsed": false,
     "input": [
      "\n",
      "R=10.0;               #Assigning values to parameters\n",
      "L=0.014;\n",
      "C=100*10**-6;\n",
      "wr=1.0/sqrt(L*C);\n",
      "Q=(1.0/R)*(sqrt(L/C));\n",
      "BW=R/L;\n",
      "w1=wr-BW/2;\n",
      "w2=wr+BW/2;\n",
      "Vm=1;\n",
      "V=1/sqrt(2);\n",
      "Vc=(V/R)*sqrt(L/C);\n",
      "print\"Resonant frequency=\",round(wr,2),\"rad/sec\"\n",
      "print\"Quality factor=\",round(Q,3)\n",
      "print\"Bandwidth=\",round(BW,2),\"rad/sec\"\n",
      "print\"Lower frequency=\",round(w1),\"rad/sec\"\n",
      "print\"Upper frequency=\",round(w2,2),\"rad/sec\"\n",
      "print\"Maximum value of voltage across capacitor=\",round(Vc,3),\"Volts\""
     ],
     "language": "python",
     "metadata": {},
     "outputs": [
      {
       "output_type": "stream",
       "stream": "stdout",
       "text": [
        "Resonant frequency= 845.15 rad/sec\n",
        "Quality factor= 1.183\n",
        "Bandwidth= 714.29 rad/sec\n",
        "Lower frequency= 488.0 rad/sec\n",
        "Upper frequency= 1202.3 rad/sec\n",
        "Maximum value of voltage across capacitor= 0.837 Volts\n"
       ]
      }
     ],
     "prompt_number": 12
    },
    {
     "cell_type": "heading",
     "level": 2,
     "metadata": {},
     "source": [
      "Ex2.51:pg-228"
     ]
    },
    {
     "cell_type": "code",
     "collapsed": false,
     "input": [
      "\n",
      "V=10/sqrt(2);         #Assigning values to parameters\n",
      "Vc=500;\n",
      "BW=400/(2*math.pi);\n",
      "R=100;\n",
      "Q=Vc/V;\n",
      "BW=round(BW,2);\n",
      "Q=round(Q,2);\n",
      "fr1=(Q*BW);\n",
      "f1=fr1-(BW/2);\n",
      "f2=fr1+BW/2;\n",
      "L=R/(2*math.pi*BW);\n",
      "fr=1.0/(2*math.pi*sqrt(L*C));\n",
      "C=1.0/(fr1*fr1*4*math.pi*math.pi*L);\n",
      "print\"Resonant frequency=\",round(fr1,2),\"Hertz\"\n",
      "print\"Lower frequency=\",round(f1,2),\"Hertz\"\n",
      "print\"Upper frequency=\",round(f2,2),\"Hertz\"\n",
      "print\"Inductor value=\",round(L,2),\"Hertz\"\n",
      "print\"Capacitor value=\",round(C,9),\"Farads\"\n",
      "# the answer of the capacitance in ths book is given in nF"
     ],
     "language": "python",
     "metadata": {},
     "outputs": [
      {
       "output_type": "stream",
       "stream": "stdout",
       "text": [
        "Resonant frequency= 4501.4 Hertz\n",
        "Lower frequency= 4469.57 Hertz\n",
        "Upper frequency= 4533.23 Hertz\n",
        "Inductor value= 0.25 Hertz\n",
        "Capacitor value= 5e-09 Farads\n"
       ]
      }
     ],
     "prompt_number": 13
    },
    {
     "cell_type": "heading",
     "level": 2,
     "metadata": {},
     "source": [
      "Ex2.52:pg-229"
     ]
    },
    {
     "cell_type": "code",
     "collapsed": false,
     "input": [
      "\n",
      "f=1*10**6;              #Assigning values to parameters\n",
      "C1=500*10**-12;\n",
      "C2=600810**-12;\n",
      "Xl=1.0/(2*math.pi*f*C1);\n",
      "L=Xl/(2*math.pi*f);\n",
      "R=30.623;\n",
      "Q=(1/R)*sqrt(L/C1);\n",
      "print\"Resistance=\",round(R,2),\"ohms\"\n",
      "print\"Inductance=\",round(L,9),\"Henery\"\n",
      "print\"Quality Factor=\",round(Q,2)"
     ],
     "language": "python",
     "metadata": {},
     "outputs": [
      {
       "output_type": "stream",
       "stream": "stdout",
       "text": [
        "Resistance= 30.62 ohms\n",
        "Inductance= 5.0661e-05 Henery\n",
        "Quality Factor= 10.39\n"
       ]
      }
     ],
     "prompt_number": 14
    },
    {
     "cell_type": "heading",
     "level": 2,
     "metadata": {},
     "source": [
      "Ex2.53:pg-230"
     ]
    },
    {
     "cell_type": "code",
     "collapsed": false,
     "input": [
      "\n",
      "r=2.0;                  #Assigning values to parameters\n",
      "L=0.01\n",
      "V=230.0;\n",
      "f=50.0;\n",
      "C=1.0/(f*f*4*math.pi*math.pi*L);\n",
      "Ir=V/r;\n",
      "Vc=(V/r)*sqrt(L/C);\n",
      "print\"Current across capacitor C=\",\"{:.3e}\".format(C),\"Farad\"\n",
      "print\"Current I=\",round(Ir,2),\"A\"\n",
      "print\"Voltage across the capacitor Vc=\",round(Vc,1),\"Volts\""
     ],
     "language": "python",
     "metadata": {},
     "outputs": [
      {
       "output_type": "stream",
       "stream": "stdout",
       "text": [
        "Current across capacitor C= 1.013e-03 Farad\n",
        "Current I= 115.0 A\n",
        "Voltage across the capacitor Vc= 361.3 Volts\n"
       ]
      }
     ],
     "prompt_number": 151
    },
    {
     "cell_type": "heading",
     "level": 2,
     "metadata": {},
     "source": [
      "Ex2.54:pg-230"
     ]
    },
    {
     "cell_type": "code",
     "collapsed": false,
     "input": [
      "\n",
      "L=0.1;                   #Assigning values to parameters\n",
      "R=10.0;\n",
      "V=230.0;\n",
      "f=50.0;\n",
      "C=200*10**-6;\n",
      "Xl=2*math.pi*f*L;\n",
      "Xc=1.0/(2*math.pi*f*C);\n",
      "Z=sqrt(R*R+(Xl-Xc)*(Xl-Xc));\n",
      "I=V/Z;\n",
      "Zcoil=sqrt(R*R+Xl*Xl);\n",
      "Vcoil=I*Zcoil;\n",
      "Vc=I*Xc;\n",
      "print\"Circuit Current I=\",round(I,2),\"Amperes\"\n",
      "print\"Coil impedance Zcoil=\",round(Zcoil,2),\"Ohms\"\n",
      "print\"Volts\",\"Coil voltage Vcoil=\",round(Vcoil,1),\"Volts\"\n",
      "print\"Capacitor Voltage Vc=\",round(Vc,2),\"Volts\"\n",
      "fr=1.0/(2*math.pi*sqrt(L*C));\n",
      "Ir=V/R;\n",
      "Xl=2*math.pi*fr*L;\n",
      "Xc=Xl;\n",
      "Zcoil=sqrt(R*R+Xl*Xl);\n",
      "Vcoil=Ir*Zcoil;\n",
      "Vc=Ir*Xc;\n",
      "print\"Circuit Current at resonance Ir=\",round(Ir,2),\"Amperes\"\n",
      "print\"Coil impedance at resonance Zcoil=\",round(Zcoil,2),\"Ohms\"\n",
      "print\"Coil voltage at resonance Vcoil=\",round(Vcoil,3),\"Volts\"\n",
      "print\"Capacitor Voltage at resonance Vc=\",round(Vc,2),\"Volts\""
     ],
     "language": "python",
     "metadata": {},
     "outputs": [
      {
       "output_type": "stream",
       "stream": "stdout",
       "text": [
        "Circuit Current I= 12.47 Amperes\n",
        "Coil impedance Zcoil= 32.97 Ohms\n",
        "Volts Coil voltage Vcoil= 411.1 Volts\n",
        "Capacitor Voltage Vc= 198.45 Volts\n",
        "Circuit Current at resonance Ir= 23.0 Amperes\n",
        "Coil impedance at resonance Zcoil= 24.49 Ohms\n",
        "Coil voltage at resonance Vcoil= 563.383 Volts\n",
        "Capacitor Voltage at resonance Vc= 514.3 Volts\n"
       ]
      }
     ],
     "prompt_number": 6
    },
    {
     "cell_type": "heading",
     "level": 2,
     "metadata": {},
     "source": [
      "Ex2.55:pg-232"
     ]
    },
    {
     "cell_type": "code",
     "collapsed": false,
     "input": [
      "\n",
      "Vr=200.0;           #Assiging values to parameters\n",
      "P=15.3;\n",
      "fr=10000.0;\n",
      "BW=1000.0;\n",
      "R=Vr**2/P;\n",
      "Q=fr/BW;\n",
      "L=Q*R/(2*math.pi*fr);\n",
      "C=1.0/(4*math.pi*math.pi*fr*fr*L);\n",
      "print\"resistance=\",round(R,2),\"ohms\"\n",
      "print\"inductor=\",round(L,3),\"Henery\"\n",
      "print\"Capacitor=\",round(C,9),\"Farad\"\n",
      "#The answer of the capacitance in the book is given in the form of pF"
     ],
     "language": "python",
     "metadata": {},
     "outputs": [
      {
       "output_type": "stream",
       "stream": "stdout",
       "text": [
        "resistance= 2614.38 ohms\n",
        "inductor= 0.416 Henery\n",
        "Capacitor= 1e-09 Farad\n"
       ]
      }
     ],
     "prompt_number": 15
    },
    {
     "cell_type": "heading",
     "level": 2,
     "metadata": {},
     "source": [
      "Ex2.56:pg-236"
     ]
    },
    {
     "cell_type": "code",
     "collapsed": false,
     "input": [
      "\n",
      "R=20.0;             #Assigning values to parameters\n",
      "L=31.8*10**-3;\n",
      "V=230.0;\n",
      "f=50.0;\n",
      "I1=V/R;\n",
      "Xl=2*math.pi*f*L;\n",
      "I2=V/Xl;\n",
      "I2=round(I2);\n",
      "I=sqrt(I1*I1+I2*I2);\n",
      "pf=I1/I;\n",
      "pf=round(pf,3);\n",
      "P=V*I*pf;\n",
      "print\"Line current=\",round(I,2),\"A\"\n",
      "print\"Power factor=\",round(pf,3)\n",
      "print\"Power consumed=\",round(P,1),\"Watts\""
     ],
     "language": "python",
     "metadata": {},
     "outputs": [
      {
       "output_type": "stream",
       "stream": "stdout",
       "text": [
        "Line current= 25.71 A\n",
        "Power factor= 0.447\n",
        "Power consumed= 2643.7 Watts\n"
       ]
      }
     ],
     "prompt_number": 15
    },
    {
     "cell_type": "heading",
     "level": 2,
     "metadata": {},
     "source": [
      "Ex2.57:pg-238"
     ]
    },
    {
     "cell_type": "code",
     "collapsed": false,
     "input": [
      "import cmath\n",
      "V=230+1j*0;            #Assigning values to parameters\n",
      "L=10*10**-3;\n",
      "f=50.0;\n",
      "R=10.0;\n",
      "Xl=2*math.pi*f*L;\n",
      "Xc=1.0/(2*math.pi*f*C);\n",
      "Z1=10+1j*3.14;\n",
      "Z2=10-1j*6.37;\n",
      "Z=(Z1*Z2)/(Z1+Z2);\n",
      "I=V/Z;\n",
      "I1=V/Z1;\n",
      "[r1,t1]=cmath.polar(I1);\n",
      "I2=V/Z2;\n",
      "[r2,t2]=cmath.polar(I2);\n",
      "[r,t]=cmath.polar(Z1);\n",
      "[ro,th]=cmath.polar(Z2);\n",
      "[rot,tt]=cmath.polar(Z);\n",
      "pf1=cos(t);\n",
      "pf2=cos(th);\n",
      "pft=cos(tt);\n",
      "P1=I1*I1*R;\n",
      "[r4,t4]=cmath.polar(P1);\n",
      "P2=I2*I2*R;\n",
      "[r5,t5]=cmath.polar(P2);\n",
      "print\"Total Impedance=\",round(Z.real,2),\"Ohms\"\n",
      "print\"Branch current I1=\",I1,\"=\",cmath.polar(I1),\"=\",round(r1,2),\"Amperes\"\n",
      "print\"Branch current I2=\",I2,\"=\",cmath.polar(I2),\"=\",round(r2,3),\"Amperes\"\n",
      "print\" Power factor of branch1=\",round(pf1,3)\n",
      "print\" Power factor of branch2=\",round(pf2,3)\n",
      "print\" Total Power factor=\",round(pft,3)\n",
      "print\" Power consumed by branch 1=\",P1,\"=\",cmath.polar(P1),\"=\",round(r4,2),\"Watts\"\n",
      "print\" Power consumed by branch 2=\",P2,\"=\",cmath.polar(P2),\"=\",round(r5,2),\"Watts\"\n",
      "#In the book the answer is given in the polar form."
     ],
     "language": "python",
     "metadata": {},
     "outputs": [
      {
       "output_type": "stream",
       "stream": "stdout",
       "text": [
        "Total Impedance= 6.1 Ohms\n",
        "Branch current I1= (20.935812619-6.57384516237j) = (21.94364806128091, -0.3042508322379845) = 21.94 Amperes\n",
        "Branch current I2= (16.3611517966+10.4220536945j) = (19.3986208613536, 0.5671820281530153) = 19.399 Amperes\n",
        " Power factor of branch1= 0.954\n",
        " Power factor of branch2= 0.843\n",
        " Total Power factor= 0.995\n",
        " Power consumed by branch 1= (3950.928098-2752.57581012j) = (4815.236902373575, -0.608501664475969) = 4815.24 Watts\n",
        " Power consumed by branch 2= (1590.68084902+3410.33605055j) = (3763.0649132254307, 1.1343640563060304) = 3763.06 Watts\n"
       ]
      }
     ],
     "prompt_number": 19
    },
    {
     "cell_type": "heading",
     "level": 2,
     "metadata": {},
     "source": [
      "Ex2.58:pg-239"
     ]
    },
    {
     "cell_type": "code",
     "collapsed": false,
     "input": [
      "import cmath\n",
      "Vm=100.0;         #Assigning values to parameters\n",
      "w=3.0;\n",
      "#function v=f(t), v=Vm*sin(w*t), endfunction   #Defining voltage equation\n",
      "V=Vm/sqrt(2)+0*1j;\n",
      "L=1.0/3;\n",
      "Xl=w*L;\n",
      "C=1.0/6;\n",
      "Xc=1.0/(w*C);\n",
      "Z1=1+1j*1;\n",
      "Z2=1-1j*2;\n",
      "I1=V/Z1;\n",
      "[r,t]=cmath.polar(I1);\n",
      "I2=V/Z2;\n",
      "[r1,t1]=cmath.polar(I2);\n",
      "I=I1+I2;\n",
      "[r2,t2]=cmath.polar(I);\n",
      "print\"Branch current I1=\",I1,\"=\",cmath.polar(I1),\"=\",round(r,3),\"A\"\n",
      "print\"Branch current I2=\",I2,\"=\",cmath.polar(I2),\"=\",round(r1,3),\"A\"\n",
      "print\"Total current=\",I,\"=\",cmath.polar(I),\"=\",round(r2,3),\"A\"\n",
      "#In the book the final answer is given in the polar form."
     ],
     "language": "python",
     "metadata": {},
     "outputs": [
      {
       "output_type": "stream",
       "stream": "stdout",
       "text": [
        "Branch current I1= (35.3553390593-35.3553390593j) = (49.99999999999999, -0.7853981633974483) = 50.0 A\n",
        "Branch current I2= (14.1421356237+28.2842712475j) = (31.622776601683785, 1.1071487177940904) = 31.623 A\n",
        "Total current= (49.4974746831-7.07106781187j) = (49.999999999999986, -0.14189705460416396) = 50.0 A\n"
       ]
      }
     ],
     "prompt_number": 42
    },
    {
     "cell_type": "heading",
     "level": 2,
     "metadata": {},
     "source": [
      "Ex2.59:pg-240"
     ]
    },
    {
     "cell_type": "code",
     "collapsed": false,
     "input": [
      "import cmath\n",
      "Z1=10+1j*15;         #Assigning values to parameters\n",
      "Z2=6-1j*8;\n",
      "I=15.0;\n",
      "Z=(Z1*Z2)/(Z1+Z2);\n",
      "V=I*Z;\n",
      "I1=V/Z1;\n",
      "I2=V/Z2;\n",
      "P1=I1**2*real(Z1);\n",
      "[r,t]=cmath.polar(P1);\n",
      "P2=I2**2*real(Z2);\n",
      "[r1,t1]=cmath.polar(P2);\n",
      "print\"Power taken by branch 1=\",P1,\"=\",cmath.polar(P1),\"=\",round(r,3),\"Watts\"\n",
      "print\"Power taken by branch 2=\",P2,\"=\",cmath.polar(P2),\"=\",round(r1,3),\"Watts\"\n",
      "#In the book the final answer is given in the polar form."
     ],
     "language": "python",
     "metadata": {},
     "outputs": [
      {
       "output_type": "stream",
       "stream": "stdout",
       "text": [
        "Power taken by branch 1= (-660.306369256-328.943832303j) = (737.7049180327872, -2.679411319197999) = 737.705 Watts\n",
        "Power taken by branch 2= (599.717817791+1307.5517334j) = (1438.5245901639341, 1.1407665632998834) = 1438.525 Watts\n"
       ]
      }
     ],
     "prompt_number": 41
    },
    {
     "cell_type": "heading",
     "level": 2,
     "metadata": {},
     "source": [
      "Ex2.60:pg-241"
     ]
    },
    {
     "cell_type": "code",
     "collapsed": false,
     "input": [
      "\n",
      "V=200;       #Assigning values to parameters\n",
      "f=50;\n",
      "Ra=10;\n",
      "La=0.12;\n",
      "Rb=20;\n",
      "Cb=40*10**-6;\n",
      "Xla=2*math.pi*f*La;\n",
      "Xcb=1/(2*math.pi*f*Cb);\n",
      "Za=Ra+1j*Xla;\n",
      "Zb=Rb-1j*Xcb;\n",
      "Zeq=(Za*Zb)/(Za+Zb);\n",
      "[r,t]=cmath.polar(Zeq);\n",
      "Ia=V/Za;\n",
      "[r1,t1]=cmath.polar(Ia);\n",
      "Ib=V/Zb;\n",
      "[r2,t2]=cmath.polar(Ib);\n",
      "pf=cos(t);\n",
      "print\"Branch current 1=\",Ia,\"=\",cmath.polar(Ia),\"=\",round(r1,3),\"A\"\n",
      "print\"Branch current 2=\",Ib,\"=\",cmath.polar(Ib),\"=\",round(r2,3),\"A\"\n",
      "print\"power factor=\",round(pf,2)\n",
      "#In the book the final answer is given in the polar form."
     ],
     "language": "python",
     "metadata": {},
     "outputs": [
      {
       "output_type": "stream",
       "stream": "stdout",
       "text": [
        "Branch current 1= (1.31473160452-4.95642138023j) = (5.127829179131076, -1.3115093180978645) = 5.128 A\n",
        "Branch current 2= (0.594126408901+2.36395386995j) = (2.437470838597086, 1.3245687251899845) = 2.437 A\n",
        "power factor= 0.59\n"
       ]
      }
     ],
     "prompt_number": 40
    },
    {
     "cell_type": "heading",
     "level": 2,
     "metadata": {},
     "source": [
      "Ex2.61:pg-242"
     ]
    },
    {
     "cell_type": "code",
     "collapsed": false,
     "input": [
      "\n",
      "Z1=14.14-1j*14.14;            #Assigning values to parameters\n",
      "Z2=26+1j*15;\n",
      "I=10;\n",
      "Zeq=Z1+Z2;\n",
      "V=I*Zeq;\n",
      "Zeq=(Z1*Z2)/(Z1+Z2);\n",
      "I=V/Zeq;\n",
      "[r,t]=cmath.polar(I);\n",
      "print\"Supply current=\",I,\"=\",cmath.polar(I),\"=\",round(r,3),\"A\"\n",
      "#In the book the final answer is given in the polar form."
     ],
     "language": "python",
     "metadata": {},
     "outputs": [
      {
       "output_type": "stream",
       "stream": "stdout",
       "text": [
        "Supply current= (25.6159787883+8.06347214395j) = (26.855128975653326, 0.3049633114846056) = 26.855 A\n"
       ]
      }
     ],
     "prompt_number": 36
    },
    {
     "cell_type": "heading",
     "level": 2,
     "metadata": {},
     "source": [
      "Ex2.62:pg-243"
     ]
    },
    {
     "cell_type": "code",
     "collapsed": false,
     "input": [
      "\n",
      "I=25*1j;           #Assigning values to parameters\n",
      "Z1=3-1j*4;\n",
      "Z2=10;\n",
      "I1=I*Z2/(Z1+Z2);\n",
      "[r,t]=cmath.polar(I1);\n",
      "I2=I-I1;\n",
      "[r1,t1]=cmath.polar(I2);\n",
      "print\"Current I1=\",I1,\"=\",cmath.polar(I1),\"=\",round(r,3),\"A\"\n",
      "print\"Current I2=\",I2,\"=\",cmath.polar(I2),\"=\",round(r1,3),\"A\"\n",
      "#In the book the final answer is given in the polar form."
     ],
     "language": "python",
     "metadata": {},
     "outputs": [
      {
       "output_type": "stream",
       "stream": "stdout",
       "text": [
        "Current I1= (-5.40540540541+17.5675675676j) = (18.380365552345193, 1.869295258381076) = 18.38 A\n",
        "Current I2= (5.40540540541+7.43243243243j) = (9.190182776172596, 0.9420000403794635) = 9.19 A\n"
       ]
      }
     ],
     "prompt_number": 32
    },
    {
     "cell_type": "heading",
     "level": 2,
     "metadata": {},
     "source": [
      "Ex2.63:pg-244"
     ]
    },
    {
     "cell_type": "code",
     "collapsed": false,
     "input": [
      "import cmath\n",
      "V=120+1j*160;       #Assigning values to parameters\n",
      "Z1=12+1j*16;\n",
      "Z2=10-1j*20;\n",
      "I1=V/Z1;\n",
      "I2=V/Z2;\n",
      "[r,t]=cmath.polar(Z1);\n",
      "kW1=(V*I1*cos(t))/1000;\n",
      "[r1,t1]=cmath.polar(kW1);\n",
      "kVAR1=(V*I1*sin(t))/1000;\n",
      "[r2,t2]=cmath.polar(kVAR1);\n",
      "kVA1=(V*I1)/1000;\n",
      "[r3,t3]=cmath.polar(kVA1);\n",
      "[ro,th]=cmath.polar(Z2);\n",
      "kW2=(V*I2*cos(th))/1000;\n",
      "[r4,t4]=cmath.polar(kW2);\n",
      "kVAR2=(V*I2*sin(th))/1000;\n",
      "[r5,t5]=cmath.polar(kVAR2);\n",
      "kVA2=(V*I2)/1000;\n",
      "[r6,t6]=cmath.polar(kVA2);\n",
      "Zeq=(Z1*Z2)/(Z1+Z2);\n",
      "[R,T]=cmath.polar(Zeq);\n",
      "pf=cos(T);\n",
      "print\"kW1=\",\"=\",kW1,cmath.polar(kW1),\"=\",round(r1,2)\n",
      "print\"kVAR1=\",kVAR1,\"=\",cmath.polar(kVAR1),\"=\",round(r2,2)\n",
      "print\"kVA1=\",kVA1,\"=\",cmath.polar(kVA1),\"=\",round(r3,2)\n",
      "print\"kW2=\",kW2,\"=\",cmath.polar(kW2),\"=\",round(r4,2)\n",
      "print\"kVAR2=\",kVAR2,\"=\",cmath.polar(kVAR2),\"=\",round(r5,2)\n",
      "print\"kVA2=\",kVA2,\"=\",cmath.polar(kVA2),\"=\",round(r6,2)\n",
      "print\"Power factor=\",round(pf,2)\n",
      "#In the book the final answer is given in the polar form."
     ],
     "language": "python",
     "metadata": {},
     "outputs": [
      {
       "output_type": "stream",
       "stream": "stdout",
       "text": [
        "kW1= = (0.72+0.96j) (1.2000000000000002, 0.9272952180016122) = 1.2\n",
        "kVAR1= (0.96+1.28j) = (1.5999999999999999, 0.9272952180016123) = 1.6\n",
        "kVA1= (1.2+1.6j) = (2.0, 0.9272952180016123) = 2.0\n",
        "kW2= (-0.78709592808+0.14310835056j) = (0.8000000000000002, 2.961739153797315) = 0.8\n",
        "kVAR2= (1.57419185616-0.28621670112j) = (1.5999999999999999, -0.1798534997924783) = 1.6\n",
        "kVA2= (-1.76+0.32j) = (1.7888543819998317, 2.961739153797315) = 1.79\n",
        "Power factor= 1.0\n"
       ]
      }
     ],
     "prompt_number": 35
    },
    {
     "cell_type": "heading",
     "level": 2,
     "metadata": {},
     "source": [
      "Ex2.65:pg-246"
     ]
    },
    {
     "cell_type": "code",
     "collapsed": false,
     "input": [
      " \n",
      "R=30.0;              #Assigning values to parameters\n",
      "I=5.0;\n",
      "V=110.0;\n",
      "f=50.0;\n",
      "I1=V/R;\n",
      "I2=sqrt(I**2-I1**2);\n",
      "Xc=V/I2;\n",
      "C=1.0/(2*math.pi*f*Xc);\n",
      "print\"Unknown capacitance when total current drawn is 5 A=\",round(C,8),\"Farad\"\n",
      "Inew=4.0;\n",
      "I2new=sqrt(Inew**2-I1**2);\n",
      "I2new1=round(I2new,2);\n",
      "Xc=110/1.59;\n",
      "f=1.0/(2*math.pi*C*Xc);\n",
      "print\"Frequency when total current drawn is 4 A=\",round(f,2),\"HZ\""
     ],
     "language": "python",
     "metadata": {},
     "outputs": [
      {
       "output_type": "stream",
       "stream": "stdout",
       "text": [
        "Unknown capacitance when total current drawn is 5 A= 9.837e-05 Farad\n",
        "Frequency when total current drawn is 4 A= 23.39 HZ\n"
       ]
      }
     ],
     "prompt_number": 52
    },
    {
     "cell_type": "heading",
     "level": 2,
     "metadata": {},
     "source": [
      "Ex2.66:pg-248"
     ]
    },
    {
     "cell_type": "code",
     "collapsed": false,
     "input": [
      "\n",
      "L1=0.0191             #Assigning values to parameters\n",
      "f=50;\n",
      "Xl1=2*math.pi*f*L1;\n",
      "C=398*10**-6;\n",
      "Xc=1/(2*math.pi*f*C);\n",
      "L3=0.0318\n",
      "Xl3=2*math.pi*f*L3;\n",
      "Z1=2+1j*Xl1;\n",
      "Z2=7-1j*Xc;\n",
      "Z3=8+1j*Xl3;\n",
      "Zeq=((Z1*Z2)/(Z1+Z2))+Z3;\n",
      "[r,t]=cmath.polar(Zeq)\n",
      "print\"Equivalent Impedance=\",Zeq,\"=\",cmath.polar(Zeq),\"=\",round(r,3),\"ohms\"\n",
      "#In the book the final answer is given in the polar form."
     ],
     "language": "python",
     "metadata": {},
     "outputs": [
      {
       "output_type": "stream",
       "stream": "stdout",
       "text": [
        "Equivalent Impedance= (13.9532833128+14.2011622329j) = (19.908970942113147, 0.7942021909974325) = 19.909 ohms\n"
       ]
      }
     ],
     "prompt_number": 31
    },
    {
     "cell_type": "heading",
     "level": 2,
     "metadata": {},
     "source": [
      "Ex2.68:pg-251"
     ]
    },
    {
     "cell_type": "code",
     "collapsed": false,
     "input": [
      "\n",
      "Za=10+1j*8;                #Assigning values to parameters\n",
      "Zb=9-1j*6;\n",
      "Zc=3+1j*2;\n",
      "V2=100;\n",
      "I=V2/Zc;\n",
      "Ia=(I*Zb)/(Za+Zb);\n",
      "[r,t]=cmath.polar(Ia);\n",
      "Ib=I-Ia;\n",
      "[r1,t1]=cmath.polar(Ib);\n",
      "print\"Current Ia=\",Ia,\"=\",cmath.polar(Ia),\"=\",round(r,4),\"Amperes\"\n",
      "print\"Current Ib=\",Ib,\"=\",cmath.polar(Ib),\"=\",round(r1,3),\"Amperes\""
     ],
     "language": "python",
     "metadata": {},
     "outputs": [
      {
       "output_type": "stream",
       "stream": "stdout",
       "text": [
        "Current Ia= (4.48893572181-15.0474183351j) = (15.70271767770641, -1.2808821458253687) = 15.7027 Amperes\n",
        "Current Ib= (18.5879873551-0.337197049526j) = (18.591045580170096, -0.018138600054248756) = 18.591 Amperes\n"
       ]
      }
     ],
     "prompt_number": 30
    },
    {
     "cell_type": "heading",
     "level": 2,
     "metadata": {},
     "source": [
      "Ex2.69:pg-252"
     ]
    },
    {
     "cell_type": "code",
     "collapsed": false,
     "input": [
      "import cmath\n",
      "Im1=20.0;           #Assigning values to parameters\n",
      "Im2=40.0;\n",
      "Im=25.0;\n",
      "#function i1=f(wt), i1=Im1*sin(wt), endfunction\n",
      "#function i2=f(wt), i2=Im2*sin(wt+%pi/6), endfunction\n",
      "#function i=f(wt), i=Im*sin(wt+%pi/6), endfunction\n",
      "Z=6+1j*8;\n",
      "I1=Im1/sqrt(2);\n",
      "I2=24.49+1j*14.14;\n",
      "I=15.31+1j*8.84;\n",
      "I3=I-(I1+I2);\n",
      "[r,t]=cmath.polar(I3);\n",
      "V=I*Z;\n",
      "[r1,t1]=cmath.polar(V);\n",
      "P=V*I*cos(t);\n",
      "[r2,t2]=cmath.polar(P);\n",
      "Z1=V/I1;\n",
      "[r3,t3]=cmath.polar(Z1);\n",
      "print\"Current I3=\",I3,\"=\",cmath.polar(I3),\"=\",round(r,3),\"Amperes\"\n",
      "print\"Supply Voltage V=\",V,\"=\",cmath.polar(V),\"=\",round(r1,3),\"Volts\"\n",
      "print\"Active Power P=\",P,\"=\",cmath.polar(P),\"=\",round(r2,3),\"Watts\"\n",
      "print\"Impedance Z1=\",Z1,\"=\",cmath.polar(Z1),\"=\",round(r3,3),\"Ohms\""
     ],
     "language": "python",
     "metadata": {},
     "outputs": [
      {
       "output_type": "stream",
       "stream": "stdout",
       "text": [
        "Current I3= (-23.3221356237-5.3j) = (23.916772567629184, -2.9181358418788084) = 23.917 Amperes\n",
        "Supply Voltage V= (21.14+175.52j) = (176.78848944430746, 1.4509315848173419) = 176.788 Volts\n",
        "Active Power P= (1197.41333962-2802.63102384j) = (3047.7105114663827, -1.167024701956722) = 3047.711 Watts\n",
        "Impedance Z1= (1.49482373543+12.4111382234j) = (12.500833972179619, 1.4509315848173419) = 12.501 Ohms\n"
       ]
      }
     ],
     "prompt_number": 28
    },
    {
     "cell_type": "heading",
     "level": 2,
     "metadata": {},
     "source": [
      "Ex2.70:pg-255"
     ]
    },
    {
     "cell_type": "code",
     "collapsed": false,
     "input": [
      "\n",
      "Z=8.66+1j*5;      #Assigning values to parameters\n",
      "Y=1.0/Z;\n",
      "G=real(Y);\n",
      "B=imag(Y);\n",
      "print\"G =\",round(G,4),\"Mho\"\n",
      "print\"B =\",round(-B,2),\"Mho\""
     ],
     "language": "python",
     "metadata": {},
     "outputs": [
      {
       "output_type": "stream",
       "stream": "stdout",
       "text": [
        "G = 0.0866 Mho\n",
        "B = 0.05 Mho\n"
       ]
      }
     ],
     "prompt_number": 11
    },
    {
     "cell_type": "heading",
     "level": 2,
     "metadata": {},
     "source": [
      "Ex2.71:pg-255"
     ]
    },
    {
     "cell_type": "code",
     "collapsed": false,
     "input": [
      "import cmath\n",
      "V=230.0;            #Assigning value to parameters\n",
      "f=50.0;\n",
      "Z1=8.66-5*1j;\n",
      "Z2=10+17.32*1j;\n",
      "Z3=40;\n",
      "Y1=1.0/Z1;\n",
      "[r1,t]=cmath.polar(Y1)\n",
      "Y2=1.0/Z2;\n",
      "[r2,t]=cmath.polar(Y2)\n",
      "Y3=1.0/Z3;\n",
      "[r3,t]=cmath.polar(Y3);\n",
      "Y=Y1+Y2+Y3;\n",
      "[r4,t]=cmath.polar(Y);\n",
      "Z=1/Y;\n",
      "[r,t]=cmath.polar(Z);\n",
      "I=V/Z.real\n",
      "[r5,t5]=cmath.polar(I);\n",
      "pf=cos(t);\n",
      "P=V*I*pf;\n",
      "[r6,t6]=cmath.polar(P);\n",
      "print\"Y1=\",Y1,\"=\",cmath.polar(Y1),\"=\",round(r1,2),\"Mho\"\n",
      "print\"Y2=\",Y2,\"=\",cmath.polar(Y2),\"=\",round(r2,2),\"Mho\"\n",
      "print\"Y3=\",Y3,\"=\",cmath.polar(Y3),\"=\",round(r3,3),\"Mho\"\n",
      "print\"Equivalent Admittance Y=\",Y,\"=\",cmath.polar(Y),\"=\",round(r4,4),\"Ohms\"\n",
      "print\"Equivalent Impedance Z=\",Z,\"=\",cmath.polar(Z),\"=\",round(r,3),\"Ohms\"\n",
      "print\"Total current I=\",I,\"=\",cmath.polar(I),\"=\",round(r5,2),\"Amperes\"\n",
      "print\"Power consumed P=\",P,\"=\",cmath.polar(P),\"=\",round(r6,2),\"Watts\"\n",
      "print\"Power factor pf=\",round(pf,4)\n",
      "#In the book the final answer is given in the polar form."
     ],
     "language": "python",
     "metadata": {},
     "outputs": [
      {
       "output_type": "stream",
       "stream": "stdout",
       "text": [
        "Y1= (0.0866038105677+0.0500022000968j) = (0.10000220007260266, 0.5236114777699694) = 0.1 Mho\n",
        "Y2= (0.0250011000484-0.0433019052838j) = (0.05000110003630133, -1.0471848490249271) = 0.05 Mho\n",
        "Y3= 0.025 = (0.025, 0.0) = 0.025 Mho\n",
        "Equivalent Admittance Y= (0.136604910616+0.00670029481297j) = (0.13676913231794818, 0.049009434500553055) = 0.1368 Ohms\n",
        "Equivalent Impedance Z= (7.30281212656-0.358193523139j) = (7.311591314883045, -0.049009434500553055) = 7.312 Ohms\n",
        "Total current I= 31.4947168315 = (31.494716831541105, 0.0) = 31.49 Amperes\n",
        "Power consumed P= 7235.08709962 = (7235.087099619459, 0.0) = 7235.09 Watts\n",
        "Power factor pf= 0.9988\n"
       ]
      }
     ],
     "prompt_number": 26
    },
    {
     "cell_type": "heading",
     "level": 2,
     "metadata": {},
     "source": [
      "Ex2.72:pg-256"
     ]
    },
    {
     "cell_type": "code",
     "collapsed": false,
     "input": [
      "\n",
      "V=200;               #Assigning values to parameters\n",
      "Z1=5*1j;\n",
      "Z2=5+1j*8.66;\n",
      "Z3=15;\n",
      "Z4=-10*1j;\n",
      "Y1=1.0/Z1;\n",
      "Y2=1.0/Z2;\n",
      "Y3=1.0/Z3;\n",
      "Y4=1.0/Z4;\n",
      "Yeq=Y1+Y2+Y3+Y4;\n",
      "Zeq=1.0/Yeq;\n",
      "I=V/Zeq;\n",
      "[r,t]=cmath.polar(I);\n",
      "print\"Total current\",\"=\", I,\"=\",cmath.polar(I),\"=\",round(r,2),\"A\"\n",
      "#In the book the final answer is given in the polar form."
     ],
     "language": "python",
     "metadata": {},
     "outputs": [
      {
       "output_type": "stream",
       "stream": "stdout",
       "text": [
        "Total current = (23.3337733527-37.3207621135j) = (44.01481868200551, -1.012037159177007) = 44.01 A\n"
       ]
      }
     ],
     "prompt_number": 93
    },
    {
     "cell_type": "heading",
     "level": 2,
     "metadata": {},
     "source": [
      "Ex2.73:pg-258"
     ]
    },
    {
     "cell_type": "code",
     "collapsed": false,
     "input": [
      "\n",
      "Xl=4.0;             #Assigning values to parameters\n",
      "Xc=8.0;\n",
      "Z1=1.0;\n",
      "Z2=4*1j;\n",
      "Z3=-1j*8;\n",
      "Zeq=Z1+(Z2*Z3)/(Z2+Z3);\n",
      "Y=1.0/Zeq;\n",
      "[r,t]=cmath.polar(Y);\n",
      "print\"Admittance=\",Y,\"=\",cmath.polar(Y),\"=\",round(r,3),\"Mho\"\n",
      "Xl=10.0;\n",
      "Xc=5.0;\n",
      "Z1=1.0;\n",
      "Z2=10.0*1j;\n",
      "Z3=-1j*5;\n",
      "Zeq=Z1+(Z2*Z3)/(Z2+Z3);\n",
      "Y=1.0/Zeq;\n",
      "[r,t]=cmath.polar(Y);\n",
      "print\"Admittance=\",Y,\"=\",cmath.polar(Y),\"=\",round(r,4),\"Mho\""
     ],
     "language": "python",
     "metadata": {},
     "outputs": [
      {
       "output_type": "stream",
       "stream": "stdout",
       "text": [
        "Admittance= (0.0153846153846-0.123076923077j) = (0.12403473458920845, -1.446441332248135) = 0.124 Mho\n",
        "Admittance= (0.00990099009901+0.0990099009901j) = (0.09950371902099893, 1.4711276743037347) = 0.0995 Mho\n"
       ]
      }
     ],
     "prompt_number": 91
    },
    {
     "cell_type": "heading",
     "level": 2,
     "metadata": {},
     "source": [
      "Ex2.74:pg-260"
     ]
    },
    {
     "cell_type": "code",
     "collapsed": false,
     "input": [
      "import cmath\n",
      "Z1=14+1j*5;          #Assigning values to parameters\n",
      "Z2=18+1j*10;\n",
      "V=200;\n",
      "Y1=1.0/Z1;\n",
      "[r0,t0]=cmath.polar(Y1);\n",
      "Y2=1.0/Z2;\n",
      "[r3,t3]=cmath.polar(Y2);\n",
      "Yeq=Y1+Y2;\n",
      "[r4,t4]=cmath.polar(Yeq);\n",
      "Zeq=1.0/Yeq;\n",
      "I1=V/Z1;\n",
      "[r5,t5]=cmath.polar(I1);\n",
      "I2=V/Z2;\n",
      "[r6,t6]=cmath.polar(I2);\n",
      "I=V/Zeq;\n",
      "[r7,t7]=cmath.polar(I);\n",
      "P1=I1**2*real(Z1);\n",
      "[r8,t8]=cmath.polar(P1);\n",
      "P2=I2**2*real(Z2);\n",
      "[r9,t9]=cmath.polar(P2);\n",
      "[r,t]=cmath.polar(Zeq);\n",
      "[r1,t1]=cmath.polar(Z1);\n",
      "[r2,t2]=cmath.polar(Z2);\n",
      "pf1=cos(t1);\n",
      "pf2=cos(t2);\n",
      "pf=cos(t);\n",
      "print\"Y1=\",Y1,\"=\",cmath.polar(Y1),\"=\",round(r0,3),\"Mho\"\n",
      "print\"Y2=\",Y2,\"=\",cmath.polar(Y2),\"=\",round(r3,3),\"Mho\"\n",
      "print\"Yeq=\",Yeq,\"=\",cmath.polar(Yeq),\"=\",round(r4,3),\"Mho\"\n",
      "print\"Branch current I1=\",I1,\"=\",cmath.polar(I1),\"=\",round(r5,3),\"Amperes\"\n",
      "print\"Branch current I2=\",I2,\"=\",cmath.polar(I2),\"=\",round(r6,3),\"Amperes\"\n",
      "print\"Total current I=\",I,\"=\",cmath.polar(I),\"=\",round(r7,2),\"Amperes\"\n",
      "print\"Power consumed by branch1=\",P1,\"=\",cmath.polar(P1),\"=\",round(r8,3),\"Watts\"\n",
      "print\"Power consumed by branch2=\",P2,\"=\",cmath.polar(P2),\"=\",round(r9,3),\"Watts\"\n",
      "print\"Power factor of branch1=\",round(pf1,3)\n",
      "print\"Power factor of branch2=\",round(pf2,3)\n",
      "print\"Total Power factor=\",round(pf,3)"
     ],
     "language": "python",
     "metadata": {},
     "outputs": [
      {
       "output_type": "stream",
       "stream": "stdout",
       "text": [
        "Y1= (0.0633484162896-0.0226244343891j) = (0.06726727939963124, -0.3430239404207034) = 0.067 Mho\n",
        "Y2= (0.0424528301887-0.0235849056604j) = (0.04856429311786321, -0.507098504392337) = 0.049 Mho\n",
        "Yeq= (0.105801246478-0.0462093400495j) = (0.11545218431960486, -0.41178588495508256) = 0.115 Mho\n",
        "Branch current I1= (12.6696832579-4.52488687783j) = (13.45345587992625, -0.3430239404207034) = 13.453 Amperes\n",
        "Branch current I2= (8.49056603774-4.71698113208j) = (9.712858623572641, -0.507098504392337) = 9.713 Amperes\n",
        "Total current I= (21.1602492957-9.2418680099j) = (23.09043686392097, -0.41178588495508256) = 23.09 Amperes\n",
        "Power consumed by branch1= (1960.64781638-1605.20873856j) = (2533.9366515837105, -0.6860478808414068) = 2533.937 Watts\n",
        "Power consumed by branch2= (897.116411534-1441.79423282j) = (1698.1132075471692, -1.014197008784674) = 1698.113 Watts\n",
        "Power factor of branch1= 0.942\n",
        "Power factor of branch2= 0.874\n",
        "Total Power factor= 0.916\n"
       ]
      }
     ],
     "prompt_number": 24
    },
    {
     "cell_type": "heading",
     "level": 2,
     "metadata": {},
     "source": [
      "Ex2.75:pg-262"
     ]
    },
    {
     "cell_type": "code",
     "collapsed": false,
     "input": [
      "import cmath\n",
      "V=230;         #Assigning values to parameters\n",
      "f=50;\n",
      "L=0.08;\n",
      "Xl=2*math.pi*f*L;\n",
      "C=200*10**-6;\n",
      "Xc=1/(2*math.pi*f*C);\n",
      "Z1=20+1j*25.13;\n",
      "Z2=10-1j*15.92;\n",
      "Y1=1.0/Z1;\n",
      "Y2=1.0/Z2;\n",
      "Y=Y1+Y2;\n",
      "I=V*Y;\n",
      "[r,t]=cmath.polar(I);\n",
      "pf=cos(t);\n",
      "Z=1.0/Y;\n",
      "[r1,t1]=cmath.polar(Z)\n",
      "R=real(Z);\n",
      "Xc=-1*imag(Z);\n",
      "C=1.0/(2*math.pi*f*Xc);\n",
      "[r2,t2]=cmath.polar(C);\n",
      "print\"Supply Current=\",I,\"=\",cmath.polar(I),\"=\",round(r,2),\"A\"\n",
      "print\"Power factor=\",round(pf,3)\n",
      "print\"Total impedance=\",Z,\"=\",cmath.polar(Z),\"=\",round(r1,2),\"Ohms\"\n",
      "print\"Resistance of eequivalent series circuit=\",R,\"=\",cmath.polar(R),\"=\",round(r1,2),\"Ohms\"\n",
      "print\"Capacitance of eequivalent series circuit=\",C,\"=\",cmath.polar(C),\"=\",round(r2,5),\"Farads\""
     ],
     "language": "python",
     "metadata": {},
     "outputs": [
      {
       "output_type": "stream",
       "stream": "stdout",
       "text": [
        "Supply Current= (10.9668035101+4.75640244987j) = (11.953833840878367, 0.40922414432872894) = 11.95 A\n",
        "Power factor= 0.917\n",
        "Total impedance= (17.6519817092-7.6558250514j) = (19.240689059393823, -0.409224144328729) = 19.24 Ohms\n",
        "Resistance of eequivalent series circuit= 17.6519817092 = (17.651981709220966, 0.0) = 19.24 Ohms\n",
        "Capacitance of eequivalent series circuit= 0.000415774765028 = (0.0004157747650276909, 0.0) = 0.00042 Farads\n"
       ]
      }
     ],
     "prompt_number": 22
    },
    {
     "cell_type": "heading",
     "level": 2,
     "metadata": {},
     "source": [
      "Ex2.76:pg-263"
     ]
    },
    {
     "cell_type": "code",
     "collapsed": false,
     "input": [
      "\n",
      "V=200;          #Assigning values to parameters\n",
      "Z1=3+4*1j;\n",
      "Z2=4-1j*3;\n",
      "Z3=4.57+1j*5.51;\n",
      "Y1=1.0/Z1;\n",
      "Y2=1.0/Z2;\n",
      "Yab=Y1+Y2;\n",
      "Zab=1.0/Yab;\n",
      "Z=Zab+Z3;\n",
      "[r,t]=cmath.polar(Z);\n",
      "I=V/r\n",
      "pf=cos(t);\n",
      "print\"Total Impedance=\",Z,\"=\",cmath.polar(Z),\"=\",round(r,2),\"Ohms\"\n",
      "print\"Supply current=\",round(I,2),\"A\"\n",
      "print\"Power factor=\",round(pf,4)"
     ],
     "language": "python",
     "metadata": {},
     "outputs": [
      {
       "output_type": "stream",
       "stream": "stdout",
       "text": [
        "Total Impedance= (8.07+6.01j) = (10.06205744368417, 0.6401220717631577) = 10.06 Ohms\n",
        "Supply current= 19.88 A\n",
        "Power factor= 0.802\n"
       ]
      }
     ],
     "prompt_number": 77
    },
    {
     "cell_type": "heading",
     "level": 2,
     "metadata": {},
     "source": [
      "Ex2.77:pg-268"
     ]
    },
    {
     "cell_type": "code",
     "collapsed": false,
     "input": [
      "\n",
      "C=2.5*10**-6;         #Assigning values to parameters\n",
      "R=15.0;\n",
      "L=260*10**-3;\n",
      "temp=(1.0/(L*C))-(R**2/L**2);\n",
      "fr=(1.0/20*math.pi)*sqrt(temp);\n",
      "Q=(2*math.pi*fr*L)/R;\n",
      "Zr=L/(C*R);\n",
      "print\"Resonant frequeny=\",round(fr,2),\"Hertz\"\n",
      "print\"Quality factor=\",round(Q,2)\n",
      "print\"Dynamic Impedance=\",round(Zr,2),\"Ohms\"\n",
      "#the answer of the fr in the book is wrong"
     ],
     "language": "python",
     "metadata": {},
     "outputs": [
      {
       "output_type": "stream",
       "stream": "stdout",
       "text": [
        "Resonant frequeny= 194.62 Hertz\n",
        "Quality factor= 21.2\n",
        "Dynamic Impedance= 6933.33 Ohms\n"
       ]
      }
     ],
     "prompt_number": 20
    },
    {
     "cell_type": "heading",
     "level": 2,
     "metadata": {},
     "source": [
      "Ex2.78:pg-268"
     ]
    },
    {
     "cell_type": "code",
     "collapsed": false,
     "input": [
      "import math\n",
      "C=200*10**-6;         #Assigning values to parameters\n",
      "V=230.0;\n",
      "R=20.0;\n",
      "L=0.2;\n",
      "temp=((1.0/(L*C))-(R**2/L**2));\n",
      "fr=sqrt(temp)/(2*math.pi);\n",
      "Zr=L/(C*R);\n",
      "Ir=V/Zr;\n",
      "Zl=sqrt(R**2+(2*math.pi*fr*L)**2);\n",
      "Il=V/Zl;\n",
      "Xc=1.0/(2*math.pi*fr*C);\n",
      "Ic=V/Xc;\n",
      "phi=math.atan(2*math.pi*fr*L/R);\n",
      "phi=math.degrees(phi);\n",
      "print\"Resonant frequency\",round(fr,2),\"Hertz\"\n",
      "print\"Dynamic impedance of the circuit=\",round(Zr,2),\"Ohms\"\n",
      "print\"circuit current Ir=\",round(Ir,2),\"A\"\n",
      "print\"current Il=\",round(Il,2),\"A\"\n",
      "print\"current Ic=\",round(Ic,2),\"A\"\n",
      "print\"phase angle of the coil phi=\",round(phi,2),\"degrees\""
     ],
     "language": "python",
     "metadata": {},
     "outputs": [
      {
       "output_type": "stream",
       "stream": "stdout",
       "text": [
        "Resonant frequency 19.49 Hertz\n",
        "Dynamic impedance of the circuit= 50.0 Ohms\n",
        "circuit current Ir= 4.6 A\n",
        "current Il= 7.27 A\n",
        "current Ic= 5.63 A\n",
        "phase angle of the coil phi= 50.77 degrees\n"
       ]
      }
     ],
     "prompt_number": 87
    },
    {
     "cell_type": "heading",
     "level": 2,
     "metadata": {},
     "source": [
      "Ex2.79:pg-270"
     ]
    },
    {
     "cell_type": "code",
     "collapsed": false,
     "input": [
      "\n",
      "pfcoil=0.3;           #Assigning values to parameters\n",
      "phi=math.acos(pfcoil);\n",
      "V=100.0;\n",
      "f=50.0;\n",
      "Il=1.0;\n",
      "Ic=Il*sin(phi);\n",
      "Xc=V/Ic;\n",
      "C=1.0/(2*math.pi*f*Xc);\n",
      "Ir=Il*cos(phi);\n",
      "Zr=V/Ir;\n",
      "print\"Capacitance=\",round(C,8),\"Farads\"\n",
      "print\"Dynamic impedance=\",round(Zr,2),\"Ohms\""
     ],
     "language": "python",
     "metadata": {},
     "outputs": [
      {
       "output_type": "stream",
       "stream": "stdout",
       "text": [
        "Capacitance= 3.036e-05 Farads\n",
        "Dynamic impedance= 333.33 Ohms\n"
       ]
      }
     ],
     "prompt_number": 39
    },
    {
     "cell_type": "heading",
     "level": 2,
     "metadata": {},
     "source": [
      "Ex2.80:pg-271"
     ]
    },
    {
     "cell_type": "code",
     "collapsed": false,
     "input": [
      "\n",
      "V=200.0;       #Assigning values to parameters\n",
      "f=50.0;\n",
      "L=20.0;\n",
      "R=15.0;\n",
      "Zl=sqrt(R**2+L**2);\n",
      "pfcoil=R/Zl;\n",
      "phi=math.acos(pfcoil);\n",
      "Il=V/Zl;\n",
      "Ic=Il*sin(phi);\n",
      "Xc=V/Ic;\n",
      "C=1/(2*math.pi*f*Xc);\n",
      "Ir=Il*math.cos(phi);\n",
      "print\"Power factor=\",round(pfcoil,2)\n",
      "print\"Current=\",round(Il.real,2),\"A\"\n",
      "print\"Value f shunting capacitance=\",\"{:.4e}\".format(C),\"Farads\"\n",
      "print\"Circuit current at resonance=\",round(Ir.real,2),\"A\""
     ],
     "language": "python",
     "metadata": {},
     "outputs": [
      {
       "output_type": "stream",
       "stream": "stdout",
       "text": [
        "Power factor= 0.6\n",
        "Current= 8.0 A\n",
        "Value f shunting capacitance= 1.0186e-04 Farads\n",
        "Circuit current at resonance= 4.8 A\n"
       ]
      }
     ],
     "prompt_number": 83
    }
   ],
   "metadata": {}
  }
 ]
}