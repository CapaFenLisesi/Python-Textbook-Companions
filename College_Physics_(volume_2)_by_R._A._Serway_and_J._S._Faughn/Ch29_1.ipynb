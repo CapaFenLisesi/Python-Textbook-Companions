{
 "cells": [
  {
   "cell_type": "markdown",
   "metadata": {},
   "source": [
    "# Chapter 29 : Nuclear Physics"
   ]
  },
  {
   "cell_type": "markdown",
   "metadata": {},
   "source": [
    "## Example 1 Page No: 916"
   ]
  },
  {
   "cell_type": "code",
   "execution_count": 2,
   "metadata": {
    "collapsed": false
   },
   "outputs": [
    {
     "name": "stdout",
     "output_type": "stream",
     "text": [
      "Nuclear density = 2.31e+17 kg/m3\n"
     ]
    }
   ],
   "source": [
    "from __future__ import division\n",
    "from math import pi\n",
    "m=1.67*10**-27 #mass of nucleus in kg\n",
    "ro=1.2*10**-15 #in meter\n",
    "p=(3*m)/(4*pi*(ro)**3)\n",
    "print \"Nuclear density = %0.2e kg/m3\"%p"
   ]
  },
  {
   "cell_type": "markdown",
   "metadata": {},
   "source": [
    "## Example 2 Page No: 920"
   ]
  },
  {
   "cell_type": "code",
   "execution_count": 1,
   "metadata": {
    "collapsed": false
   },
   "outputs": [
    {
     "name": "stdout",
     "output_type": "stream",
     "text": [
      "Binding energy of Deuteron = 2.22 Mev\n"
     ]
    }
   ],
   "source": [
    "mp=1.007825 #in u\n",
    "mn=1.008665 #in u\n",
    "md=2.014102 #in u\n",
    "u=931.494 #Mev\n",
    "M=mp+mn\n",
    "delta_m=(M-md) #in u\n",
    "E=delta_m*u\n",
    "print \"Binding energy of Deuteron = %0.2f Mev\"%E"
   ]
  },
  {
   "cell_type": "markdown",
   "metadata": {},
   "source": [
    "## Example 3 Page No: 922"
   ]
  },
  {
   "cell_type": "code",
   "execution_count": 2,
   "metadata": {
    "collapsed": false
   },
   "outputs": [
    {
     "name": "stdout",
     "output_type": "stream",
     "text": [
      "Activity or decay rate at t=0 = 1.11e-05 Ci\n"
     ]
    }
   ],
   "source": [
    "No=3*10**16 #no.of radioactive nuclei present at t=0\n",
    "t_half=1.6*10**3 #years\n",
    "T_half=t_half*3.16*10**7 #in sec\n",
    "d=0.693/T_half\n",
    "R_o=d*No # decays/s\n",
    "Ci=3.7*10**10\n",
    "Ro=R_o/Ci\n",
    "print \"Activity or decay rate at t=0 = %0.2e Ci\"%Ro"
   ]
  },
  {
   "cell_type": "markdown",
   "metadata": {},
   "source": [
    "## Example 4 Page No: 923"
   ]
  },
  {
   "cell_type": "code",
   "execution_count": 3,
   "metadata": {
    "collapsed": false
   },
   "outputs": [
    {
     "name": "stdout",
     "output_type": "stream",
     "text": [
      "a) No.of atoms remaining after 12 days : 45612654\n",
      "Initial activity of the radon sample = 837.68 decay/sec\n"
     ]
    }
   ],
   "source": [
    "from math import exp\n",
    "T_half=3.83 #half life time of Radon in days\n",
    "No=4*10**8 #Initial No .of Radon atoms \n",
    "lamda=0.693/T_half # in days\n",
    "t=12 \n",
    "N=No*exp(-(lamda*t))\n",
    "print \"a) No.of atoms remaining after 12 days : %0.f\"%N\n",
    "lamda_=lamda/(8.64*10**4)\n",
    "R=lamda_*No\n",
    "print \"Initial activity of the radon sample = %0.2f decay/sec\"%R"
   ]
  },
  {
   "cell_type": "markdown",
   "metadata": {},
   "source": [
    "## Example 5 Page No: 925"
   ]
  },
  {
   "cell_type": "code",
   "execution_count": 4,
   "metadata": {
    "collapsed": false
   },
   "outputs": [
    {
     "name": "stdout",
     "output_type": "stream",
     "text": [
      "Energy liberated = 4.87 Mev\n"
     ]
    }
   ],
   "source": [
    "m_d=222.017571 #mass of daughter nuclei in atomic units\n",
    "m_alpha=4.002602 #mass of alpha particle in atomic units\n",
    "M_p=226.025402 #mass of parent nuclei in atomic units\n",
    "m=m_d+m_alpha\n",
    "delta_m=(M_p-m)\n",
    "E=delta_m*931.494\n",
    "print \"Energy liberated = %0.2f Mev\"%E"
   ]
  },
  {
   "cell_type": "markdown",
   "metadata": {},
   "source": [
    "## Example 6 Page No: 927"
   ]
  },
  {
   "cell_type": "code",
   "execution_count": 5,
   "metadata": {
    "collapsed": false
   },
   "outputs": [
    {
     "name": "stdout",
     "output_type": "stream",
     "text": [
      "Energy released in beta decay = 0.156 Mev\n"
     ]
    }
   ],
   "source": [
    "M_C=14.003242 #mass of carbon in atomic mass units\n",
    "M_N=14.003074 #mass of nitogen in atomic mass units\n",
    "delta_M=M_C-M_N\n",
    "E=delta_M*(931.494)\n",
    "print \"Energy released in beta decay = %0.3f Mev\"%E"
   ]
  },
  {
   "cell_type": "markdown",
   "metadata": {},
   "source": [
    "## Example 7 Page No: 928"
   ]
  },
  {
   "cell_type": "code",
   "execution_count": 7,
   "metadata": {
    "collapsed": false
   },
   "outputs": [
    {
     "name": "stdout",
     "output_type": "stream",
     "text": [
      "Age of the skeleton = 10915.43 years\n"
     ]
    }
   ],
   "source": [
    "from __future__ import division\n",
    "from math import log\n",
    "T_half=3.01*10**9 #half life time in min\n",
    "lamda=0.693/T_half\n",
    "R=200 # in decay/min\n",
    "R0_=15 #decay rate in decay/min.g\n",
    "m=50 #weight of carbon\n",
    "R0=R0_*m #in decay/min\n",
    "t1=-(log(R/R0)/lamda) #im min\n",
    "t=t1/525949\n",
    "print \"Age of the skeleton = %0.2f years\"%t"
   ]
  }
 ],
 "metadata": {
  "kernelspec": {
   "display_name": "Python 2",
   "language": "python",
   "name": "python2"
  },
  "language_info": {
   "codemirror_mode": {
    "name": "ipython",
    "version": 2
   },
   "file_extension": ".py",
   "mimetype": "text/x-python",
   "name": "python",
   "nbconvert_exporter": "python",
   "pygments_lexer": "ipython2",
   "version": "2.7.9"
  }
 },
 "nbformat": 4,
 "nbformat_minor": 0
}
