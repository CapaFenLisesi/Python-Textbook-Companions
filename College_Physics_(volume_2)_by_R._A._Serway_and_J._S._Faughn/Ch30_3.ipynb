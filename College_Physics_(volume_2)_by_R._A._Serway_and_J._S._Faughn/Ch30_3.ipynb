{
 "cells": [
  {
   "cell_type": "markdown",
   "metadata": {},
   "source": [
    "# Chapter 30 : Nuclear energy and elementary particles"
   ]
  },
  {
   "cell_type": "markdown",
   "metadata": {},
   "source": [
    "## Example 2 Page No: 943"
   ]
  },
  {
   "cell_type": "code",
   "execution_count": 4,
   "metadata": {
    "collapsed": false
   },
   "outputs": [
    {
     "name": "stdout",
     "output_type": "stream",
     "text": [
      "Disintegration energy = 5.33e+26 Mev is\n",
      "or = 2.37e+07 KWh\n"
     ]
    }
   ],
   "source": [
    "from __future__ import division\n",
    "Q=208 #disintegration energy per event in Mev\n",
    "m=1*10**3 #mass of uranium\n",
    "A=235 #mass number or uranium in g/mol\n",
    "a=6.02*10**23 #avagadro number nuclei/mol\n",
    "N=(a/A)*m #nuclei\n",
    "E=N*Q\n",
    "P=E*4.45*10**-20\n",
    "print \"Disintegration energy = %0.2e Mev is\"%E\n",
    "print \"or = %0.2e KWh\"%P"
   ]
  },
  {
   "cell_type": "markdown",
   "metadata": {},
   "source": [
    "## Example 3 Page No: 947"
   ]
  },
  {
   "cell_type": "code",
   "execution_count": 1,
   "metadata": {
    "collapsed": false
   },
   "outputs": [
    {
     "name": "stdout",
     "output_type": "stream",
     "text": [
      " Energy release in deuterium-deuterium reaction = 4.03 Mev\n"
     ]
    }
   ],
   "source": [
    "m1=2.014102 # mass of deuterium in atomic mass unit\n",
    "m2=3.016049 #mass of tritium in atomic mass unit\n",
    "m3=1.007825 # mass of hydrogen in atomic mass unit\n",
    "#referring to the deuterium-deuterium reaction\n",
    "#mass before reaction\n",
    "M1=2*m1\n",
    "#mass after reaction\n",
    "M2=m2+m3\n",
    "#excessive mass\n",
    "m=M1-M2\n",
    "#converting mass into energy\n",
    "#1 u = 931.494 Mev\n",
    "E=m*931.494\n",
    "print \" Energy release in deuterium-deuterium reaction = %0.2f Mev\"%E"
   ]
  }
 ],
 "metadata": {
  "kernelspec": {
   "display_name": "Python 2",
   "language": "python",
   "name": "python2"
  },
  "language_info": {
   "codemirror_mode": {
    "name": "ipython",
    "version": 2
   },
   "file_extension": ".py",
   "mimetype": "text/x-python",
   "name": "python",
   "nbconvert_exporter": "python",
   "pygments_lexer": "ipython2",
   "version": "2.7.9"
  }
 },
 "nbformat": 4,
 "nbformat_minor": 0
}
