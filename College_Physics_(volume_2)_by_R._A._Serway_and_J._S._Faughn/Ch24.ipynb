{
 "cells": [
  {
   "cell_type": "markdown",
   "metadata": {},
   "source": [
    "# Chapter 24 : Wave optics"
   ]
  },
  {
   "cell_type": "markdown",
   "metadata": {},
   "source": [
    "## Example 1 Page No: 794"
   ]
  },
  {
   "cell_type": "code",
   "execution_count": 4,
   "metadata": {
    "collapsed": false
   },
   "outputs": [
    {
     "name": "stdout",
     "output_type": "stream",
     "text": [
      "(A)  wavelength of light = 5.63e-07 meters\n",
      "(B)  Distance between adjacent fringes = 0.022 meters\n"
     ]
    }
   ],
   "source": [
    "L=1.2 # Seperation between screen and double-slit in meter\n",
    "d=3*10**-5 #distance between the two slits\n",
    "m=2 #second order bright fringe\n",
    "Y=4.5*10**-2 #distance of second order bright fringe from centerline\n",
    "#wavelength of light\n",
    "lamda=(Y*d)/(m*L)\n",
    "print \"(A)  wavelength of light = %0.2e meters\"%lamda\n",
    "#distance between adjacent bright fringes\n",
    "#delta_Y=Y(m+1)-Ym\n",
    "delta_Y=lamda*L/d\n",
    "print \"(B)  Distance between adjacent fringes = %0.3f meters\"%delta_Y"
   ]
  },
  {
   "cell_type": "markdown",
   "metadata": {},
   "source": [
    "## Example 2 Page No: 798"
   ]
  },
  {
   "cell_type": "code",
   "execution_count": 6,
   "metadata": {
    "collapsed": false
   },
   "outputs": [
    {
     "name": "stdout",
     "output_type": "stream",
     "text": [
      "Minimum thickness of soap bubble film = 113.16 nm is\n"
     ]
    }
   ],
   "source": [
    "n=1.33 #refractive index of soap bubble\n",
    "lamda=602 #wavelength of light in nm\n",
    "#for constructive interference we have 2nt=lamda/2\n",
    "t=lamda/(4*n)\n",
    "print \"Minimum thickness of soap bubble film = %0.2f nm is\"%t"
   ]
  },
  {
   "cell_type": "markdown",
   "metadata": {},
   "source": [
    "## Example 3 Page No: 799"
   ]
  },
  {
   "cell_type": "code",
   "execution_count": 7,
   "metadata": {
    "collapsed": false
   },
   "outputs": [
    {
     "name": "stdout",
     "output_type": "stream",
     "text": [
      "Minimum thickness of  film = 95.17 nm is\n"
     ]
    }
   ],
   "source": [
    "n=1.45 #refractive index of silicon monoxide\n",
    "lamda=552 #wavelength of light in nm\n",
    "#for destructive interference we have condition for minimn thickness 2t=lamda/2n\n",
    "t=lamda/(4*n)\n",
    "print \"Minimum thickness of  film = %0.2f nm is\"%t"
   ]
  },
  {
   "cell_type": "markdown",
   "metadata": {},
   "source": [
    "## Example 5 Page No: 801"
   ]
  },
  {
   "cell_type": "code",
   "execution_count": 8,
   "metadata": {
    "collapsed": false
   },
   "outputs": [
    {
     "name": "stdout",
     "output_type": "stream",
     "text": [
      "Pit depth in a CD = 121.88 nm\n"
     ]
    }
   ],
   "source": [
    "n=1.6 #refractive index of plastic transparent layer\n",
    "lamda=780 #wavelength of laser light in nm\n",
    "#for destructive interference we have condition for minimn thickness 2t=lamda/2n\n",
    "t=lamda/(4*n)\n",
    "print \"Pit depth in a CD = %0.2f nm\"%t"
   ]
  },
  {
   "cell_type": "markdown",
   "metadata": {},
   "source": [
    "## Example 6 Page No: 804"
   ]
  },
  {
   "cell_type": "code",
   "execution_count": 10,
   "metadata": {
    "collapsed": false
   },
   "outputs": [
    {
     "name": "stdout",
     "output_type": "stream",
     "text": [
      " Position of first dark fringe = 3.87e-03 meters\n"
     ]
    }
   ],
   "source": [
    "lamda=580*10**-9 #wavelength of incident light in meter\n",
    "a=0.30*10**-3 #slit width in meter\n",
    "L=2 #distance of screen from slit in meters\n",
    "#The first dark fringe corresponds to m=+1 or -1\n",
    "m=1\n",
    "sin_theta=m*lamda/a\n",
    "#From fig 24.16 tan_theta=y/L and since theta is very small we have sin_theta=tan_theta hence sin_theta=y/L\n",
    "y=L*sin_theta \n",
    "print \" Position of first dark fringe = %0.2e meters\"%y"
   ]
  },
  {
   "cell_type": "markdown",
   "metadata": {},
   "source": [
    "## Example 7 Page No: 808"
   ]
  },
  {
   "cell_type": "code",
   "execution_count": 11,
   "metadata": {
    "collapsed": false
   },
   "outputs": [
    {
     "name": "stdout",
     "output_type": "stream",
     "text": [
      "Angle in degrees at which first order maxima is observed : 22.32\n",
      "Angle in degrees at which second order maxima is observed : 49.43\n",
      "for higher order number of diffraction the the solutions are non realistic\n"
     ]
    }
   ],
   "source": [
    "from math import asin, degrees\n",
    "lamda=632.8 #wavelength of monochromatic light from helium-neon laser in meter\n",
    "a=6000 #lines in diffraction grating per cm\n",
    "d=10**7/a#slit seperation in nm\n",
    "#for the first order maximum we have m=1\n",
    "sin_theta1=lamda/d\n",
    "theta1=degrees(asin(sin_theta1))\n",
    "print \"Angle in degrees at which first order maxima is observed : %0.2f\"%theta1\n",
    "#for the second order maximum we have m=2\n",
    "sin_theta2=2*lamda/d\n",
    "theta2=degrees(asin(sin_theta2))\n",
    "print \"Angle in degrees at which second order maxima is observed : %0.2f\"%theta2\n",
    "print \"for higher order number of diffraction the the solutions are non realistic\""
   ]
  }
 ],
 "metadata": {
  "kernelspec": {
   "display_name": "Python 2",
   "language": "python",
   "name": "python2"
  },
  "language_info": {
   "codemirror_mode": {
    "name": "ipython",
    "version": 2
   },
   "file_extension": ".py",
   "mimetype": "text/x-python",
   "name": "python",
   "nbconvert_exporter": "python",
   "pygments_lexer": "ipython2",
   "version": "2.7.9"
  }
 },
 "nbformat": 4,
 "nbformat_minor": 0
}
