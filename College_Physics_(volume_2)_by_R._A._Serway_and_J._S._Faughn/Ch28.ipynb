{
 "cells": [
  {
   "cell_type": "markdown",
   "metadata": {},
   "source": [
    "# Chapter 28 : Atomic Physics"
   ]
  },
  {
   "cell_type": "markdown",
   "metadata": {},
   "source": [
    "## Example 1 Page No: 897"
   ]
  },
  {
   "cell_type": "code",
   "execution_count": 2,
   "metadata": {
    "collapsed": false
   },
   "outputs": [
    {
     "name": "stdout",
     "output_type": "stream",
     "text": [
      "Wavelength of the emitted photon = 1.22e-07 meters\n",
      "frequency of the emitted photon = 2.47e+15 meters\n"
     ]
    }
   ],
   "source": [
    "RH=1.097*10**7 #Rydberg constant in per meter\n",
    "lamda=4/(3*RH)\n",
    "c=3*10**8 # m/sec\n",
    "f=c/lamda\n",
    "print \"Wavelength of the emitted photon = %0.2e meters\"%lamda\n",
    "print \"frequency of the emitted photon = %0.2e meters\"%f"
   ]
  },
  {
   "cell_type": "markdown",
   "metadata": {},
   "source": [
    "## Example 2 Page No: 898"
   ]
  },
  {
   "cell_type": "code",
   "execution_count": 5,
   "metadata": {
    "collapsed": false
   },
   "outputs": [
    {
     "name": "stdout",
     "output_type": "stream",
     "text": [
      "longest wavelength that photon emmited = 6.56e-07 meters\n",
      "Energy emmited by the photon = 3.03e-19 Joules\n"
     ]
    }
   ],
   "source": [
    "from __future__ import division\n",
    "RH=1.097*10**7 #Rydberg constant in per meter\n",
    "h=6.626*10**-34 #plancks constant in j.s\n",
    "c=3*10**8 # velocity of light in m/s\n",
    "nf=2 #quantum number\n",
    "ni=3# quantum number\n",
    "#assuming k=1/lamda\n",
    "k=RH*((1/nf**2-1/ni**2))\n",
    "lamda=1/k\n",
    "print  \"longest wavelength that photon emmited = %0.2e meters\"%lamda\n",
    "E_photon=h*c/lamda\n",
    "print \"Energy emmited by the photon = %0.2e Joules\"%E_photon"
   ]
  },
  {
   "cell_type": "markdown",
   "metadata": {},
   "source": [
    "## Example 3 Page No: 901"
   ]
  },
  {
   "cell_type": "code",
   "execution_count": 7,
   "metadata": {
    "collapsed": false
   },
   "outputs": [
    {
     "name": "stdout",
     "output_type": "stream",
     "text": [
      "a) Energy of the atom in ground state = -54.40 eV\n",
      "b) Radius of the ground state orbit = 0.026 nm\n"
     ]
    }
   ],
   "source": [
    "Z=2 #atomic number of helium\n",
    "n=1 #principal quantum number\n",
    "E=-Z**2*13.6/n**2\n",
    "print \"a) Energy of the atom in ground state = %0.2f eV\"%E\n",
    "r=(n**2/Z)*0.0529#in nm\n",
    "print \"b) Radius of the ground state orbit = %0.3f nm\"%r"
   ]
  },
  {
   "cell_type": "markdown",
   "metadata": {},
   "source": [
    "## Example 4 Page No: 906"
   ]
  },
  {
   "cell_type": "code",
   "execution_count": 8,
   "metadata": {
    "collapsed": false
   },
   "outputs": [
    {
     "name": "stdout",
     "output_type": "stream",
     "text": [
      "Energy of the states with quantum number 2 = -3.40 ev\n"
     ]
    }
   ],
   "source": [
    "n=2# principal quantum number \n",
    "E=-13.6/n**2\n",
    "print \"Energy of the states with quantum number 2 = %0.2f ev\"%E"
   ]
  },
  {
   "cell_type": "markdown",
   "metadata": {},
   "source": [
    "## Example 6 Page No: 906"
   ]
  },
  {
   "cell_type": "code",
   "execution_count": 10,
   "metadata": {
    "collapsed": false
   },
   "outputs": [
    {
     "name": "stdout",
     "output_type": "stream",
     "text": [
      "Energy of the characteristic emiited from tungsten target when electron drops from M shell to K shell = 6.61e+04 ev\n"
     ]
    }
   ],
   "source": [
    "Z=74 #atomic number of tungsten\n",
    "Eo=13.6 #ground state enenrgy in ev\n",
    "E_K=-(Z-1)**2*(13.6) #Energy of the electron in K shell\n",
    "n=3\n",
    "Z_eff=Z-n**2\n",
    "E3=Eo/n**2\n",
    "E_M=-Z_eff**2*E3\n",
    "E=E_M-E_K\n",
    "print \"Energy of the characteristic emiited from tungsten target when electron drops from M shell to K shell = %0.2e ev\"%E\n",
    "#Difference in answer is because of roundoff"
   ]
  }
 ],
 "metadata": {
  "kernelspec": {
   "display_name": "Python 2",
   "language": "python",
   "name": "python2"
  },
  "language_info": {
   "codemirror_mode": {
    "name": "ipython",
    "version": 2
   },
   "file_extension": ".py",
   "mimetype": "text/x-python",
   "name": "python",
   "nbconvert_exporter": "python",
   "pygments_lexer": "ipython2",
   "version": "2.7.9"
  }
 },
 "nbformat": 4,
 "nbformat_minor": 0
}
