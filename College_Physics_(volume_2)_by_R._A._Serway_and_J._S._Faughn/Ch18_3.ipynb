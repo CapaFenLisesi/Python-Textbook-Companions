{
 "cells": [
  {
   "cell_type": "markdown",
   "metadata": {},
   "source": [
    "# Chapter 18 : Direct current circuits"
   ]
  },
  {
   "cell_type": "markdown",
   "metadata": {},
   "source": [
    "## Example 18.1 Page No: 597"
   ]
  },
  {
   "cell_type": "code",
   "execution_count": 7,
   "metadata": {
    "collapsed": false
   },
   "outputs": [
    {
     "name": "stdout",
     "output_type": "stream",
     "text": [
      "Solution a\n",
      "Equivalent resistance = 18.00 ohm\n",
      "Solution b\n",
      "Current = 0.33 Amps\n"
     ]
    }
   ],
   "source": [
    "from __future__ import division\n",
    "R1=2\n",
    "R2=4\n",
    "R3=5\n",
    "R4=7\n",
    "R_eq=R1+R2+R3+R4\n",
    "v=6#in v\n",
    "print \"Solution a\"\n",
    "print \"Equivalent resistance = %0.2f ohm\"%R_eq\n",
    "print \"Solution b\"\n",
    "I=v/R_eq\n",
    "print \"Current = %0.2f Amps\"%I"
   ]
  },
  {
   "cell_type": "markdown",
   "metadata": {},
   "source": [
    "## Example18.2 Page No: 599"
   ]
  },
  {
   "cell_type": "code",
   "execution_count": 8,
   "metadata": {
    "collapsed": false
   },
   "outputs": [
    {
     "name": "stdout",
     "output_type": "stream",
     "text": [
      "solution a\n",
      "Current = 6.00 amps\n",
      "Current = 3.00 amps\n",
      "Current = 2.00 amps\n",
      "solution B\n",
      "Power = 108.00 watt\n",
      "Power = 54.00 watt\n",
      "Power = 36.00 watt\n"
     ]
    }
   ],
   "source": [
    "delta_V=18#in volt\n",
    "R1=3#in ohm\n",
    "R2=6#in ohm\n",
    "R3=9#in ohm\n",
    "I1=delta_V/R1\n",
    "I2=delta_V/R2\n",
    "I3=delta_V/R3\n",
    "print \"solution a\"\n",
    "print \"Current = %0.2f amps\"%I1\n",
    "print \"Current = %0.2f amps\"%I2\n",
    "print \"Current = %0.2f amps\"%I3\n",
    "P1=(I1**2)*R1\n",
    "P2=(I2**2)*R2\n",
    "P3=(I3**2)*R3\n",
    "print \"solution B\"\n",
    "print \"Power = %0.2f watt\"%P1\n",
    "print \"Power = %0.2f watt\"%P2\n",
    "print \"Power = %0.2f watt\"%P3"
   ]
  },
  {
   "cell_type": "markdown",
   "metadata": {},
   "source": [
    "## Example 18.3 Page No: 602"
   ]
  },
  {
   "cell_type": "code",
   "execution_count": 9,
   "metadata": {
    "collapsed": false
   },
   "outputs": [
    {
     "name": "stdout",
     "output_type": "stream",
     "text": [
      "solution b\n",
      "Current = 3.00 amps\n"
     ]
    }
   ],
   "source": [
    "delta_Vac=42#in volt\n",
    "R_eq=14#in ohm\n",
    "I=delta_Vac/R_eq\n",
    "print \"solution b\"\n",
    "print \"Current = %0.2f amps\"%I"
   ]
  },
  {
   "cell_type": "markdown",
   "metadata": {},
   "source": [
    "## Example 18.4 Page No: 605"
   ]
  },
  {
   "cell_type": "code",
   "execution_count": 10,
   "metadata": {
    "collapsed": false
   },
   "outputs": [
    {
     "name": "stdout",
     "output_type": "stream",
     "text": [
      "Current value I1 = -0.83, I2 = -0.53 & I3 = -0.30 amps\n"
     ]
    }
   ],
   "source": [
    "from numpy import mat\n",
    "#formula used x=inv(a)*b\n",
    "I=mat([[1 ,-1, -1],[-4, 0 ,-9],[0, -5, 9]])\n",
    "V=mat([[0],[6],[0]])\n",
    "X=(I**-1)\n",
    "a=X*V\n",
    "\n",
    "print \"Current value I1 = %0.2f, I2 = %0.2f & I3 = %0.2f amps\"%(a[0],a[1],a[2])"
   ]
  },
  {
   "cell_type": "markdown",
   "metadata": {},
   "source": [
    "## Example 18.5 Page No: 606"
   ]
  },
  {
   "cell_type": "code",
   "execution_count": 11,
   "metadata": {
    "collapsed": false
   },
   "outputs": [
    {
     "name": "stdout",
     "output_type": "stream",
     "text": [
      "Current value I1 = 2.00, I2 = -3.00 & I3 = -1.00 amps\n"
     ]
    }
   ],
   "source": [
    "from numpy import mat\n",
    "#prob\n",
    "#formula used x=inv(a)*b\n",
    "I=mat([[8, 2, 0],[-3, 2, 0],[1, 1, -1]])\n",
    "V=mat([[10],[-12],[0]])\n",
    "X=I**-1\n",
    "a=X*V\n",
    "\n",
    "print \"Current value I1 = %0.2f, I2 = %0.2f & I3 = %0.2f amps\"%(a[0],a[1],a[2])"
   ]
  },
  {
   "cell_type": "markdown",
   "metadata": {},
   "source": [
    "## Example 18.6 Page No: 609"
   ]
  },
  {
   "cell_type": "code",
   "execution_count": 12,
   "metadata": {
    "collapsed": false
   },
   "outputs": [
    {
     "name": "stdout",
     "output_type": "stream",
     "text": [
      "Constant of the circuit = 4.00 s\n",
      "Charge = 6.00e-05 columb\n",
      "Charge = 3.79e-05 columb when capacitance 63.2%\n"
     ]
    }
   ],
   "source": [
    "R=8*10**5#in ohms\n",
    "C=5*10**-6#in Farad\n",
    "t=R*C\n",
    "print \"Constant of the circuit = %0.2f s\"%t\n",
    "\n",
    "Q=C*12\n",
    "print \"Charge = %0.2e columb\"%Q\n",
    "q=0.632*Q\n",
    "print \"Charge = %0.2e columb when capacitance 63.2%%\"%q"
   ]
  },
  {
   "cell_type": "markdown",
   "metadata": {},
   "source": [
    "## Example 18.7 Page No: 610"
   ]
  },
  {
   "cell_type": "code",
   "execution_count": 13,
   "metadata": {
    "collapsed": false
   },
   "outputs": [
    {
     "name": "stdout",
     "output_type": "stream",
     "text": [
      "time = 1.39 s \n"
     ]
    }
   ],
   "source": [
    "from math import log\n",
    "x=log(4)\n",
    "print \"time = %0.2f s \"%x"
   ]
  }
 ],
 "metadata": {
  "kernelspec": {
   "display_name": "Python 2",
   "language": "python",
   "name": "python2"
  },
  "language_info": {
   "codemirror_mode": {
    "name": "ipython",
    "version": 2
   },
   "file_extension": ".py",
   "mimetype": "text/x-python",
   "name": "python",
   "nbconvert_exporter": "python",
   "pygments_lexer": "ipython2",
   "version": "2.7.9"
  }
 },
 "nbformat": 4,
 "nbformat_minor": 0
}
