{
 "cells": [
  {
   "cell_type": "markdown",
   "metadata": {},
   "source": [
    "# Chapter 17 : Current and resistance"
   ]
  },
  {
   "cell_type": "markdown",
   "metadata": {},
   "source": [
    "## Example 17.1 Page No: 571"
   ]
  },
  {
   "cell_type": "code",
   "execution_count": 4,
   "metadata": {
    "collapsed": false
   },
   "outputs": [
    {
     "name": "stdout",
     "output_type": "stream",
     "text": [
      "solution a : \n",
      "Current = 0.83 Amp\n",
      "solution b : \n",
      "Number of electrons = 0.84 C\n"
     ]
    }
   ],
   "source": [
    "from __future__ import division\n",
    "print \"solution a : \"\n",
    "delta_q=1.67 # in c\n",
    "delta_t=2 # in s\n",
    "I=delta_q/delta_t\n",
    "print \"Current = %0.2f Amp\"%I\n",
    "print \"solution b : \"\n",
    "N=5.22*10**18\n",
    "N_q=(1.6*10**-19)*N\n",
    "\n",
    "print \"Number of electrons = %0.2f C\"%N_q"
   ]
  },
  {
   "cell_type": "markdown",
   "metadata": {},
   "source": [
    "## Example 17.2 Page No: 573"
   ]
  },
  {
   "cell_type": "code",
   "execution_count": 1,
   "metadata": {
    "collapsed": false
   },
   "outputs": [
    {
     "name": "stdout",
     "output_type": "stream",
     "text": [
      "Solution a :\n",
      "The drift speed = 2.46e-04 m/s=\n",
      "Drift speed of electron = 1.15e+05 m/s\n"
     ]
    }
   ],
   "source": [
    "from math import sqrt\n",
    "M=63.5 # IN G\n",
    "rho=8.95\n",
    "v=M/rho\n",
    "electrons=6.02*10**23\n",
    "n=(electrons*10**6)/v\n",
    "I=10 # in c/s\n",
    "q=1.60*10**-19 # in c\n",
    "A=3*10**-6 # in m2\n",
    "vd=(I)/(n*q*A)\n",
    "print \"Solution a :\"\n",
    "print \"The drift speed = %0.2e m/s=\"%vd\n",
    "k_b=1.38*10**-23\n",
    "T=293\n",
    "m=9.11*10**-31\n",
    "v_rms=sqrt((3*k_b*T)/m)\n",
    "print \"Drift speed of electron = %0.2e m/s\"%v_rms"
   ]
  },
  {
   "cell_type": "markdown",
   "metadata": {},
   "source": [
    "## Example 17.3 Page No: 578"
   ]
  },
  {
   "cell_type": "code",
   "execution_count": 2,
   "metadata": {
    "collapsed": false
   },
   "outputs": [
    {
     "name": "stdout",
     "output_type": "stream",
     "text": [
      "The resistance = 18.75 ohm\n"
     ]
    }
   ],
   "source": [
    "delta_v=120\n",
    "I=6.4\n",
    "R=(delta_v)/I\n",
    "print \"The resistance = %0.2f ohm\"%R"
   ]
  },
  {
   "cell_type": "markdown",
   "metadata": {},
   "source": [
    "## Example 17.4 Page No: 580"
   ]
  },
  {
   "cell_type": "code",
   "execution_count": 3,
   "metadata": {
    "collapsed": false
   },
   "outputs": [
    {
     "name": "stdout",
     "output_type": "stream",
     "text": [
      "Solution a : \n",
      "Area = 3.24e-07 m**2\n",
      "Resistance = 4.63 ohm/m\n",
      "solution b : \n",
      "The current = 2.16 Amps\n"
     ]
    }
   ],
   "source": [
    "from math import pi\n",
    "r=0.321*10**-3\n",
    "A=pi*(r*r)\n",
    "print \"Solution a : \"\n",
    "print \"Area = %0.2e m**2\"%A\n",
    "rho=1.5*10**-6 # in ohm=m\n",
    "l=rho/A\n",
    "print\"Resistance = %0.2f ohm/m\"% l\n",
    "print \"solution b : \"\n",
    "Delta_v=10\n",
    "I=(Delta_v)/l\n",
    "print \"The current = %0.2f Amps\"%I\n"
   ]
  },
  {
   "cell_type": "markdown",
   "metadata": {},
   "source": [
    "## Example 17.5 Page No: 582"
   ]
  },
  {
   "cell_type": "code",
   "execution_count": 4,
   "metadata": {
    "collapsed": false
   },
   "outputs": [
    {
     "name": "stdout",
     "output_type": "stream",
     "text": [
      "Temperature = 156.73 C\n"
     ]
    }
   ],
   "source": [
    "R=76.8\n",
    "Ro=50\n",
    "alpha=3.92*10**-3\n",
    "t=(R-Ro)/(alpha*Ro)\n",
    "T=t+20\n",
    "print \"Temperature = %0.2f C\"%T"
   ]
  },
  {
   "cell_type": "markdown",
   "metadata": {},
   "source": [
    "## Example 17.6 Page No: 583"
   ]
  },
  {
   "cell_type": "code",
   "execution_count": 16,
   "metadata": {
    "collapsed": false
   },
   "outputs": [
    {
     "name": "stdout",
     "output_type": "stream",
     "text": [
      "The current = 6.00 A\n",
      "Power = 288.00 Watt\n"
     ]
    }
   ],
   "source": [
    "delta_v=50\n",
    "R=8\n",
    "I=(delta_v)/R\n",
    "print \"The current = %0.2f A\"%I\n",
    "P=I*I*R\n",
    "print \"Power = %0.2f Watt\"%P"
   ]
  },
  {
   "cell_type": "markdown",
   "metadata": {},
   "source": [
    "## Example 17.7 Page No: 585"
   ]
  },
  {
   "cell_type": "code",
   "execution_count": 5,
   "metadata": {
    "collapsed": false
   },
   "outputs": [
    {
     "name": "stdout",
     "output_type": "stream",
     "text": [
      "Number of bulbs = 32\n"
     ]
    }
   ],
   "source": [
    "I=20 # in A\n",
    "delta_v=120\n",
    "p_bulb=75 # inwatt\n",
    "p_total=I*delta_v\n",
    "N=p_total/p_bulb\n",
    "print \"Number of bulbs = %d\"%N"
   ]
  },
  {
   "cell_type": "markdown",
   "metadata": {},
   "source": [
    "## Example 17.8 Page No: 587"
   ]
  },
  {
   "cell_type": "code",
   "execution_count": 6,
   "metadata": {
    "collapsed": false
   },
   "outputs": [
    {
     "name": "stdout",
     "output_type": "stream",
     "text": [
      "Energy = 2.40 kwh\n",
      "Cost = 0.29 dollars\n"
     ]
    }
   ],
   "source": [
    "p=0.10 # in w\n",
    "t=24 # in h\n",
    "Energy=p*t\n",
    "print \"Energy = %0.2f kwh\"%Energy\n",
    "cost=Energy*0.12\n",
    "print \"Cost = %0.2f dollars\"%cost"
   ]
  }
 ],
 "metadata": {
  "kernelspec": {
   "display_name": "Python 2",
   "language": "python",
   "name": "python2"
  },
  "language_info": {
   "codemirror_mode": {
    "name": "ipython",
    "version": 2
   },
   "file_extension": ".py",
   "mimetype": "text/x-python",
   "name": "python",
   "nbconvert_exporter": "python",
   "pygments_lexer": "ipython2",
   "version": "2.7.9"
  }
 },
 "nbformat": 4,
 "nbformat_minor": 0
}
