{
 "cells": [
  {
   "cell_type": "markdown",
   "metadata": {},
   "source": [
    "# Chapter 21  : Alternating current circuits and electromagnetic waves"
   ]
  },
  {
   "cell_type": "markdown",
   "metadata": {},
   "source": [
    "## Example 21.1 Page No: 698"
   ]
  },
  {
   "cell_type": "code",
   "execution_count": 1,
   "metadata": {
    "collapsed": false
   },
   "outputs": [
    {
     "name": "stdout",
     "output_type": "stream",
     "text": [
      "Voltage = 141.42 V\n",
      "Current = 1.41 Amps\n"
     ]
    }
   ],
   "source": [
    "from __future__ import division\n",
    "from math import sqrt\n",
    "V_max=200#in V\n",
    "V_rms=(V_max)/sqrt(2)\n",
    "R=100#in ohm\n",
    "I_rms=V_rms/R\n",
    "print \"Voltage = %0.2f V\"%V_rms\n",
    "print \"Current = %0.2f Amps\"%I_rms"
   ]
  },
  {
   "cell_type": "markdown",
   "metadata": {},
   "source": [
    "## Example 21.2 Page No: 700"
   ]
  },
  {
   "cell_type": "code",
   "execution_count": 2,
   "metadata": {
    "collapsed": false
   },
   "outputs": [
    {
     "name": "stdout",
     "output_type": "stream",
     "text": [
      "Resistance = 331.56 ohm\n",
      "Current = 0.45 Amps\n"
     ]
    }
   ],
   "source": [
    "C=8*10**-6\n",
    "X_c=1/(377*C)\n",
    "print \"Resistance = %0.2f ohm\"%X_c\n",
    "I_rms=150/X_c\n",
    "print \"Current = %0.2f Amps\"%I_rms"
   ]
  },
  {
   "cell_type": "markdown",
   "metadata": {},
   "source": [
    "## Example 21.3 Page No: 702"
   ]
  },
  {
   "cell_type": "code",
   "execution_count": 3,
   "metadata": {
    "collapsed": false
   },
   "outputs": [
    {
     "name": "stdout",
     "output_type": "stream",
     "text": [
      "Resistance = 9.43 ohm\n",
      "Current = 15.92 Amps\n"
     ]
    }
   ],
   "source": [
    "L=25*10**-3#In H\n",
    "w=377\n",
    "X_L=w*L#In ohm\n",
    "print \"Resistance = %0.2f ohm\"%X_L\n",
    "I_rms=150/X_L#In A\n",
    "print \"Current = %0.2f Amps\"%I_rms"
   ]
  },
  {
   "cell_type": "markdown",
   "metadata": {},
   "source": [
    "## Example 21.4 Page No: 706"
   ]
  },
  {
   "cell_type": "code",
   "execution_count": 4,
   "metadata": {
    "collapsed": false
   },
   "outputs": [
    {
     "name": "stdout",
     "output_type": "stream",
     "text": [
      "Impedence = 587.81 ohm\n",
      "Current = 0.26 Amps\n",
      "Angle = -64.83 degree\n",
      "Voltage at Resistance = 63.80 Volt\n",
      "Voltage at Inductance = 57.67 Volt\n",
      "Voltage at Capacitance = 193.43 Volt\n"
     ]
    }
   ],
   "source": [
    "from math import atan, degrees, sqrt\n",
    "R=250#in ohm\n",
    "Xc=758#in ohm\n",
    "Xl=226#in Ohm\n",
    "X=Xl-Xc\n",
    "V_max=150#in Volt\n",
    "Z=sqrt(R**2+X**2)\n",
    "I=V_max/Z\n",
    "q=degrees(atan(X/R))\n",
    "print \"Impedence = %0.2f ohm\"%Z\n",
    "print \"Current = %0.2f Amps\"%I\n",
    "print \"Angle = %0.2f degree\"%q\n",
    "V_R=I*R\n",
    "V_C=I*Xc\n",
    "V_L=I*Xl\n",
    "print \"Voltage at Resistance = %0.2f Volt\"%V_R\n",
    "print \"Voltage at Inductance = %0.2f Volt\"%V_L\n",
    "print \"Voltage at Capacitance = %0.2f Volt\"%V_C"
   ]
  },
  {
   "cell_type": "markdown",
   "metadata": {},
   "source": [
    "## Example 21.5 Page No: 708"
   ]
  },
  {
   "cell_type": "code",
   "execution_count": 5,
   "metadata": {
    "collapsed": false
   },
   "outputs": [
    {
     "name": "stdout",
     "output_type": "stream",
     "text": [
      "Voltage = 106.07 V\n",
      "Current = 0.18 Amps\n",
      "Power = 8.15 watt\n"
     ]
    }
   ],
   "source": [
    "from math import sqrt,cos\n",
    "V_max=150#in V\n",
    "V_rms=(V_max)/sqrt(2)\n",
    "I_max=.255#in ohm\n",
    "I_rms=I_max/sqrt(2)\n",
    "cos=.426\n",
    "P=V_rms*I_rms*cos\n",
    "print \"Voltage = %0.2f V\"%V_rms\n",
    "print \"Current = %0.2f Amps\"%I_rms\n",
    "print \"Power = %0.2f watt\"%P"
   ]
  },
  {
   "cell_type": "markdown",
   "metadata": {},
   "source": [
    "## Example 21.6 Page No: 709"
   ]
  },
  {
   "cell_type": "code",
   "execution_count": 6,
   "metadata": {
    "collapsed": false
   },
   "outputs": [
    {
     "name": "stdout",
     "output_type": "stream",
     "text": [
      "Capacitance = 2e-06 Farad\n"
     ]
    }
   ],
   "source": [
    "L=20*10**-3#in H\n",
    "C=1/(25*10**6*L)\n",
    "print \"Capacitance = %0.e Farad\"%C"
   ]
  },
  {
   "cell_type": "markdown",
   "metadata": {},
   "source": [
    "## Example 21.7 Page No: 711"
   ]
  },
  {
   "cell_type": "code",
   "execution_count": 7,
   "metadata": {
    "collapsed": false
   },
   "outputs": [
    {
     "name": "stdout",
     "output_type": "stream",
     "text": [
      "Solution a\n",
      "Percentage of power lost = 0.02\n",
      "Solution B\n",
      "Percentage of power lost = 75.00\n"
     ]
    }
   ],
   "source": [
    "I1=100\n",
    "v1=4*10**3\n",
    "v2=2.40*10**5\n",
    "I2=(I1*v1)/v2\n",
    "R=30#in ohm\n",
    "p_lost=I2*I2*R\n",
    "P_output=I1*v1\n",
    "p_per=(p_lost*100/P_output)\n",
    "print \"Solution a\"\n",
    "print \"Percentage of power lost = %0.2f\"%p_per\n",
    "P_lost=I1*I1*R\n",
    "per=(P_lost*100)/(4*10**5)\n",
    "print \"Solution B\"\n",
    "print \"Percentage of power lost = %0.2f\"%per"
   ]
  }
 ],
 "metadata": {
  "kernelspec": {
   "display_name": "Python 2",
   "language": "python",
   "name": "python2"
  },
  "language_info": {
   "codemirror_mode": {
    "name": "ipython",
    "version": 2
   },
   "file_extension": ".py",
   "mimetype": "text/x-python",
   "name": "python",
   "nbconvert_exporter": "python",
   "pygments_lexer": "ipython2",
   "version": "2.7.9"
  }
 },
 "nbformat": 4,
 "nbformat_minor": 0
}
