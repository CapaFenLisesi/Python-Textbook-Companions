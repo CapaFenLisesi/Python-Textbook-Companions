{
 "metadata": {
  "name": ""
 },
 "nbformat": 3,
 "nbformat_minor": 0,
 "worksheets": [
  {
   "cells": [
    {
     "cell_type": "heading",
     "level": 1,
     "metadata": {},
     "source": [
      "Chapter 7 - Radiation Heat Transfer"
     ]
    },
    {
     "cell_type": "heading",
     "level": 2,
     "metadata": {},
     "source": [
      "Example No :  7.1 - Page : 212"
     ]
    },
    {
     "cell_type": "code",
     "collapsed": false,
     "input": [
      "from __future__ import division\n",
      "from math import exp\n",
      "# given data\n",
      "lamda=2*10**-6   # in m\n",
      "C1=0.374*10**-15#\n",
      "T=2000+273   # in K'\n",
      "C2=1.4388*10**-2#\n",
      "\n",
      "#(a)\n",
      "# Formula Eb_lamda= (C1*lamda**-5)/(exp(C2/(lamda*T))-1)\n",
      "Eb_lamda= (C1*lamda**-5)/(exp(C2/(lamda*T))-1)#\n",
      "print \"Monochromatic emissive power at 2 micro wavelength = %0.2e W/m**2\" %Eb_lamda\n",
      "\n",
      "#(b)\n",
      "# Formula lamda_max * T =2898 # in micro m K\n",
      "lamda_max= 2898/T   # in micro m\n",
      "print \"Wave-length at which the emission is maximum = %0.3f micro m\" %lamda_max\n",
      "\n",
      "#(c)\n",
      "Elamdab_max=1.285*10**-5*T**5   # in W/m**2-m\n",
      "print \"Maximum emissive power = %0.4e W/m**2-m\" %Elamdab_max\n",
      "\n",
      "#(d)\n",
      "sigma=5.67*10**-8#\n",
      "E=sigma*T**4#\n",
      "print \"Total emissive power = %0.3e W/m**2\" %E\n",
      "\n",
      "#Note: Answer of  part (a) in the book is wrong"
     ],
     "language": "python",
     "metadata": {},
     "outputs": [
      {
       "output_type": "stream",
       "stream": "stdout",
       "text": [
        "Monochromatic emissive power at 2 micro wavelength = 5.15e+11 W/m**2\n",
        "Wave-length at which the emission is maximum = 1.275 micro m\n",
        "Maximum emissive power = 7.7965e+11 W/m**2-m\n",
        "Total emissive power = 1.513e+06 W/m**2\n"
       ]
      }
     ],
     "prompt_number": 20
    },
    {
     "cell_type": "heading",
     "level": 2,
     "metadata": {},
     "source": [
      "Example No :  7.2 - Page : 213"
     ]
    },
    {
     "cell_type": "code",
     "collapsed": false,
     "input": [
      "from numpy import pi\n",
      "# given data\n",
      "lamda=2*10**-6   # in m\n",
      "C1=0.374*10**-15#\n",
      "T=2000+273   # in K'\n",
      "C2=1.4388*10**-2#\n",
      "\n",
      "epsilon=0.3#\n",
      "sigma=5.67*10**-8#\n",
      "T1=300   # in K\n",
      "T2=200   # in K\n",
      "del_T=T1-T2#\n",
      "h=12   # in W/m**2 degree C\n",
      "d=4*10**-2   # diameter in m\n",
      "l=1   # in m\n",
      "A=pi*d*l#\n",
      "# Heat transfer rate by radiation,\n",
      "q_r= epsilon*sigma*A*(T1**4-T2**4)   # in W\n",
      "# Heat transfer rate by convection,\n",
      "q_c=h*A*del_T   # in W\n",
      "# Total heat transfer,\n",
      "q=q_r+q_c#\n",
      "# Formula q=U*A*del_T\n",
      "U=q/(A*del_T)   # Overall heat tranfer coefficient\n",
      "print \"Overall heat tranfer coefficient = %0.3f W/m**2 degree C\" %U\n",
      "#Note: Value of q_c is wrong in the book, so the answer in the book is wrong"
     ],
     "language": "python",
     "metadata": {},
     "outputs": [
      {
       "output_type": "stream",
       "stream": "stdout",
       "text": [
        "Overall heat tranfer coefficient = 13.106 W/m**2 degree C\n"
       ]
      }
     ],
     "prompt_number": 21
    },
    {
     "cell_type": "heading",
     "level": 2,
     "metadata": {},
     "source": [
      "Example No :  7.3 - Page : 214"
     ]
    },
    {
     "cell_type": "code",
     "collapsed": false,
     "input": [
      "import math\n",
      "# given data\n",
      "epsilon=0.5#\n",
      "T1=1200   # in K\n",
      "T2=300   # in K\n",
      "#(a) Heat transfer rate between the two plates is \n",
      "# Formula Fg12=1/((1/epsilon1+(1/epsilon2-1)*A1/A2))\n",
      "epsilon1=epsilon#\n",
      "epsilon2=epsilon#\n",
      "A1byA2=1#\n",
      "Fg12=1/(1/epsilon1+(1/epsilon2-1)*A1byA2)#\n",
      "# Formula q12= sigma*A*Fg12*(T1**4-T2**4)  \n",
      "sigma=5.67*10**-8#\n",
      "q12byA=sigma*Fg12*(T1**4-T2**4)   # in W/m**2\n",
      "print \"Heat transfer rate between the two plates = %0.4e W/m**2\" %q12byA\n",
      "\n",
      "#(b)\n",
      "epsilon3=.05#\n",
      "Fg13=1/(1/epsilon1+(1/epsilon3-1)*A1byA2)#\n",
      "Fg32=1/(1/epsilon3+(1/epsilon2-1)*A1byA2)#\n",
      "# q13=q32\n",
      "# sigma*A*Fg13*(T1**4-T3**4) = sigma*A*Fg32*(T3**4-T2**4)  \n",
      "T3= ((T1**4+T2**4)/2)**(1/4)#\n",
      "T3=math.floor(T3)#\n",
      "q13byA=sigma*Fg13*(T1**4-T3**4)   # in W/m**2\n",
      "print \"Heat transfer rate if a radiation shield with an emissivity of 0.05 on both sides is placed \"\n",
      "print \"between the two plates = %0.3e W/m**2 \" %q13byA"
     ],
     "language": "python",
     "metadata": {},
     "outputs": [
      {
       "output_type": "stream",
       "stream": "stdout",
       "text": [
        "Heat transfer rate between the two plates = 3.9038e+04 W/m**2\n",
        "Heat transfer rate if a radiation shield with an emissivity of 0.05 on both sides is placed \n",
        "between the two plates = 2.789e+03 W/m**2 \n"
       ]
      }
     ],
     "prompt_number": 22
    },
    {
     "cell_type": "heading",
     "level": 2,
     "metadata": {},
     "source": [
      "Example No :  7.4  - Page : 215"
     ]
    },
    {
     "cell_type": "code",
     "collapsed": false,
     "input": [
      "# given data\n",
      "T1=800+273   # in K\n",
      "A= 5*6   # in square meter\n",
      "epsilon=0.45#\n",
      "sigma=5.67*10**-8#\n",
      "q=epsilon*sigma*A*T1**4   #in watt\n",
      "print \"Energy emitted by a grey surface = %0.5e watt\" %q"
     ],
     "language": "python",
     "metadata": {},
     "outputs": [
      {
       "output_type": "stream",
       "stream": "stdout",
       "text": [
        "Energy emitted by a grey surface = 1.01465e+06 watt\n"
       ]
      }
     ],
     "prompt_number": 23
    },
    {
     "cell_type": "heading",
     "level": 2,
     "metadata": {},
     "source": [
      "Example No :  7.5 - Page : 215"
     ]
    },
    {
     "cell_type": "code",
     "collapsed": false,
     "input": [
      "from __future__ import division\n",
      "# given data\n",
      "A=5   # in m**2\n",
      "intensity=660   # in W/m**2\n",
      "alpha=6/11#\n",
      "rho=6/22#\n",
      "toh=6/33#\n",
      "energy_absorbed= intensity*alpha*A   # in watt\n",
      "print \"Energy absorbed = %0.f watt\" %energy_absorbed\n",
      "energy_transmitted=intensity*rho*A   #in watt\n",
      "print \"Energy transmitted = %0.f watt\" %energy_transmitted\n",
      "energy_emitted= intensity*toh*A   # in watt\n",
      "print \"Energy emitted = %0.f watt\" %energy_emitted"
     ],
     "language": "python",
     "metadata": {},
     "outputs": [
      {
       "output_type": "stream",
       "stream": "stdout",
       "text": [
        "Energy absorbed = 1800 watt\n",
        "Energy transmitted = 900 watt\n",
        "Energy emitted = 600 watt\n"
       ]
      }
     ],
     "prompt_number": 24
    },
    {
     "cell_type": "heading",
     "level": 2,
     "metadata": {},
     "source": [
      "Example No :  7.5 - Page : 216"
     ]
    },
    {
     "cell_type": "code",
     "collapsed": false,
     "input": [
      "# given data\n",
      "T1=200+273   # in K\n",
      "T2=100+273   # in K\n",
      "A= 1*2   # in square meter\n",
      "sigma=5.67*10**-8#\n",
      "x_D= 1/4#\n",
      "y_D= 1/2#\n",
      "Fg12= 0.033#\n",
      "q12= Fg12*sigma*A*(T1**4-T2**4)   # in watt\n",
      "print \"The net heat exchange between two surfaces = %0.2f watt\" %q12"
     ],
     "language": "python",
     "metadata": {},
     "outputs": [
      {
       "output_type": "stream",
       "stream": "stdout",
       "text": [
        "The net heat exchange between two surfaces = 114.88 watt\n"
       ]
      }
     ],
     "prompt_number": 25
    },
    {
     "cell_type": "heading",
     "level": 2,
     "metadata": {},
     "source": [
      "Example No :  7.6 - Page : 216"
     ]
    },
    {
     "cell_type": "code",
     "collapsed": false,
     "input": [
      "from numpy import pi\n",
      "# given data\n",
      "d=20*10**-2   #diameter of pipe in m\n",
      "l=1   # length of pipe in m\n",
      "s=30*10**-2   # side of duct in m\n",
      "A1=pi*d*l   # area of pipe in m**2\n",
      "A2=4*s*s   # area of duct in m**2\n",
      "epsilon1=0.8#\n",
      "epsilon2=0.9#\n",
      "T1=200+273   # in K\n",
      "T2=20+273   # in K\n",
      "# Formula Fg12=1/((1/epsilon1+(1/epsilon2-1)*A1/A2))\n",
      "Fg12=1/((1/epsilon1+(1/epsilon2-1)*A1/A2))#\n",
      "# Heat transfer rate between pipe and duct\n",
      "sigma=5.67*10**-8#\n",
      "q12=sigma*Fg12*A1*(T1**4-T2**4)   # in W\n",
      "print \"Heat transfer rate between pipe and duct = %0.3f W\" %q12\n",
      "#Note: Answer in the book is wrong"
     ],
     "language": "python",
     "metadata": {},
     "outputs": [
      {
       "output_type": "stream",
       "stream": "stdout",
       "text": [
        "Heat transfer rate between pipe and duct = 1053.148 W\n"
       ]
      }
     ],
     "prompt_number": 26
    },
    {
     "cell_type": "heading",
     "level": 2,
     "metadata": {},
     "source": [
      "Example No :  7.10 - Page : 220"
     ]
    },
    {
     "cell_type": "code",
     "collapsed": false,
     "input": [
      "from numpy import pi\n",
      "# given data\n",
      "D=150*10**-3   # in m\n",
      "H=400*10**-3   # in m\n",
      "T1=500   # in K\n",
      "epsilon=0.7#\n",
      "# Formula F11=(4*H)/(4*H+D)\n",
      "F11=(4*H)/(4*H+D)#\n",
      "sigma=5.67*10**-8#\n",
      "A1=pi*D*H#\n",
      "q=sigma*A1*epsilon*T1**4*((1-F11)/(1-F11*(1-epsilon)))#\n",
      "print \"Heat Heat loss for cavity = %0.3f W\" %q\n",
      "#Note: Answer in the book is not accutate"
     ],
     "language": "python",
     "metadata": {},
     "outputs": [
      {
       "output_type": "stream",
       "stream": "stdout",
       "text": [
        "Heat Heat loss for cavity = 55.227 W\n"
       ]
      }
     ],
     "prompt_number": 27
    },
    {
     "cell_type": "heading",
     "level": 2,
     "metadata": {},
     "source": [
      "Example No :  7.11 - Page : 221"
     ]
    },
    {
     "cell_type": "code",
     "collapsed": false,
     "input": [
      "from numpy import pi\n",
      "# given data\n",
      "epsilon1=.04#\n",
      "epsilon2=epsilon1#\n",
      "T1=-153+273   # in K\n",
      "T2=27+273   # in K\n",
      "h_fg=209   # in kJ/kg\n",
      "h_fg=h_fg*10**3   # in J/kg\n",
      "d1=20*10**-2   # in m\n",
      "d2=30*10**-2   # in m\n",
      "A1=d1**2   # in square meter\n",
      "A2=d2**2   # in square meter\n",
      "A=4*pi*(d2-d1)**2#\n",
      "Fg12=1/((1/epsilon1+(1/epsilon2-1)*A1/A2))#\n",
      "sigma=5.67*10**-8#    \n",
      "q12=sigma*A*Fg12*(T1**4-T2**4)   # in W\n",
      "print \"Net radiant heat transfer rate = %0.3f watt\" %q12\n",
      "print \"Negative sign indicates that heat flows into the sphere\"\n",
      "q12=-q12 #\n",
      "m=q12*60/h_fg #\n",
      "print \"Rate of evaporation per minutes = %0.3e kg/min\" %m"
     ],
     "language": "python",
     "metadata": {},
     "outputs": [
      {
       "output_type": "stream",
       "stream": "stdout",
       "text": [
        "Net radiant heat transfer rate = -1.577 watt\n",
        "Negative sign indicates that heat flows into the sphere\n",
        "Rate of evaporation per minutes = 4.526e-04 kg/min\n"
       ]
      }
     ],
     "prompt_number": 28
    },
    {
     "cell_type": "heading",
     "level": 2,
     "metadata": {},
     "source": [
      "Example No :  7.12 - Page : 221"
     ]
    },
    {
     "cell_type": "code",
     "collapsed": false,
     "input": [
      "# given data\n",
      "T1=500   # in K\n",
      "T2=300   # in K\n",
      "sigma=5.67*10**-8#\n",
      "A=2   # surface area of each plate in m**2\n",
      "#(a) If the plates are perfectly black\n",
      "F12=1#\n",
      "q12=sigma*A*F12*(T1**4-T2**4)#\n",
      "print \"Radiation heat transfer between two black parellel plates = %0.4e watt\" %q12\n",
      "\n",
      "#(b) If the plates are gray surface\n",
      "#in this case\n",
      "F12=1#\n",
      "#A1=A2, so\n",
      "A1byA2=1\n",
      "epsilon1=.4#\n",
      "epsilon2=epsilon1#\n",
      "#Fg12=1/(1/epsilon1+(1/epsilon2-1)*A1byA2)#\n",
      "Fg12=1/((1-epsilon1)/epsilon1 + 1/F12 + ((1-epsilon2)/epsilon2)*A1byA2)#\n",
      "q12=sigma*A*Fg12*(T1**4-T2**4)   # in W\n",
      "print \"Heat transfer rate = %0.3e watt\" %q12"
     ],
     "language": "python",
     "metadata": {},
     "outputs": [
      {
       "output_type": "stream",
       "stream": "stdout",
       "text": [
        "Radiation heat transfer between two black parellel plates = 6.1690e+03 watt\n",
        "Heat transfer rate = 1.542e+03 watt\n"
       ]
      }
     ],
     "prompt_number": 29
    },
    {
     "cell_type": "heading",
     "level": 2,
     "metadata": {},
     "source": [
      "Example No :  7.13 Page No - 222"
     ]
    },
    {
     "cell_type": "code",
     "collapsed": false,
     "input": [
      "from numpy import pi\n",
      "# given data\n",
      "T1=800   # in K\n",
      "T3=200   # in K\n",
      "sigma=5.67*10**-8#\n",
      "d1=20*10**-2   # in m\n",
      "d2=30*10**-2   # in m\n",
      "d3=40*10**-2   # in m\n",
      "A1=4*pi*(d1/2)**2   # in m**2\n",
      "A2=4*pi*(d2/2)**2   # in m**2\n",
      "A3=4*pi*(d3/2)**2   # in m**2\n",
      "epsilon1=0.2#\n",
      "epsilon2=epsilon1\n",
      "epsilon3=epsilon1\n",
      "Fg12=1/(1/epsilon1+(1/epsilon2-1)*A1/A2)#\n",
      "Fg23=1/(1/epsilon2+(1/epsilon3-1)*A2/A3)#\n",
      "# Under steady state condition \n",
      "# q12 = q23\n",
      "# A1*Fg12*sigma*(T1**4-T2**4) = A2*Fg23*sigma*(T2**4-T3**4)\n",
      "T2 = ((A2*Fg23*T3**4/(A1*Fg12)+T1**4)/(A2*Fg23/(A1*Fg12) + 1))**(1/4)\n",
      "print \"Steady state temperature of the intermediate sphere = %0.f K\" %T2"
     ],
     "language": "python",
     "metadata": {},
     "outputs": [
      {
       "output_type": "stream",
       "stream": "stdout",
       "text": [
        "Steady state temperature of the intermediate sphere = 604 K\n"
       ]
      }
     ],
     "prompt_number": 30
    },
    {
     "cell_type": "heading",
     "level": 2,
     "metadata": {},
     "source": [
      "Example No :  7.14  Page No : 223"
     ]
    },
    {
     "cell_type": "code",
     "collapsed": false,
     "input": [
      "# given data\n",
      "T1=400   # in K\n",
      "T2=500   # in K\n",
      "T3=1200   # in K\n",
      "alpha1=0.70#\n",
      "alpha2=0.6#\n",
      "alpha3=0.4#\n",
      "# First part\n",
      "sigma=5.67*10**-8#\n",
      "qa=alpha3*sigma*T3**4#\n",
      "print \"The rate of energy absorption = %0.2e W/m**2\" %qa\n",
      "# Second part\n",
      "qa=alpha1*sigma*T1**4#\n",
      "print \"The rate of emission of radiation energy = %0.2f W/m**2\" %qa\n",
      "# Note : Answer of the first part in the book is wrong"
     ],
     "language": "python",
     "metadata": {},
     "outputs": [
      {
       "output_type": "stream",
       "stream": "stdout",
       "text": [
        "The rate of energy absorption = 4.70e+04 W/m**2\n",
        "The rate of emission of radiation energy = 1016.06 W/m**2\n"
       ]
      }
     ],
     "prompt_number": 31
    },
    {
     "cell_type": "heading",
     "level": 2,
     "metadata": {},
     "source": [
      "Example No :  7.15 Page No : 223"
     ]
    },
    {
     "cell_type": "code",
     "collapsed": false,
     "input": [
      "from numpy import pi\n",
      "# given data\n",
      "d1=100   # in mm\n",
      "d1=d1*10**-3   # in m\n",
      "d2=100+10*2   # in mm\n",
      "d2=d2*10**-3   # in m\n",
      "l=1   # in m\n",
      "A1byA2=d1**2/d2**2#\n",
      "A1=pi*d1*l   # in m**2\n",
      "sigma=5.67*10**-8#\n",
      "T1=120+273   # in K\n",
      "T2=35+273   # in K\n",
      "epsilon1=.8#\n",
      "epsilon2=.1#\n",
      "Fg12=1/(1/epsilon1+(1/epsilon2-1)*A1byA2)#\n",
      "# Radiant heat transfer from the tube\n",
      "q=A1*Fg12*sigma*(T1**4-T2**4)\n",
      "print \" Radiant heat transfer from the tube = %0.3f W/m\" %q\n",
      "#Note: Answer in the book is wrong"
     ],
     "language": "python",
     "metadata": {},
     "outputs": [
      {
       "output_type": "stream",
       "stream": "stdout",
       "text": [
        " Radiant heat transfer from the tube = 35.282 W/m\n"
       ]
      }
     ],
     "prompt_number": 32
    }
   ],
   "metadata": {}
  }
 ]
}