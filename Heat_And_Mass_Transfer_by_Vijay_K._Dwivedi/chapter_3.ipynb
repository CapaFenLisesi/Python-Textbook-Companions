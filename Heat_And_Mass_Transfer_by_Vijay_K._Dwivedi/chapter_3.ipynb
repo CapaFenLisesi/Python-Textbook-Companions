{
 "metadata": {
  "name": ""
 },
 "nbformat": 3,
 "nbformat_minor": 0,
 "worksheets": [
  {
   "cells": [
    {
     "cell_type": "heading",
     "level": 1,
     "metadata": {},
     "source": [
      "Chapter 3 - Fins Heat Transfer From Extended Surface"
     ]
    },
    {
     "cell_type": "heading",
     "level": 2,
     "metadata": {},
     "source": [
      "Example No :  3.1 - Page : 84"
     ]
    },
    {
     "cell_type": "code",
     "collapsed": false,
     "input": [
      "from __future__ import division\n",
      "from numpy import pi\n",
      "from math import sqrt\n",
      "# given data\n",
      "d=20   # in mm\n",
      "d=d*10**-3   #in m\n",
      "h=5   # in W/m**2K\n",
      "T_0=100   # in degree C\n",
      "T_infinite=20   # in degree C\n",
      "K=15   # in W/m-K\n",
      "#(i)Temperature distribution equation\n",
      "rho=pi*d   # in m\n",
      "A=pi*d**2/4   #in square meter\n",
      "m=sqrt(h*rho/(K*A))#\n",
      "print \"(i) Temperature distribution equation is = theta/theta_0 = (T-T_infinite)/(T_0-T_infinite) = e**- %0.2f*x\" %m\n",
      "#(ii)Heat loss from the rod\n",
      "t_0=100   # in degree C\n",
      "t_infinite=20   # in degree C\n",
      "q=sqrt(K*A*h*rho)*(t_0-t_infinite)#\n",
      "print \"(ii) Heat loss from the road is :\",round(q,3),\"watt\""
     ],
     "language": "python",
     "metadata": {},
     "outputs": [
      {
       "output_type": "stream",
       "stream": "stdout",
       "text": [
        "(i) Temperature distribution equation is = theta/theta_0 = (T-T_infinite)/(T_0-T_infinite) = e**- 8.16*x\n",
        "(ii) Heat loss from the road is : 3.078 watt\n"
       ]
      }
     ],
     "prompt_number": 1
    },
    {
     "cell_type": "heading",
     "level": 2,
     "metadata": {},
     "source": [
      "Example No :  3.2 - Page : 85"
     ]
    },
    {
     "cell_type": "code",
     "collapsed": false,
     "input": [
      "from math import log, pi\n",
      "from __future__ import division\n",
      "# given data\n",
      "d=3   # in cm\n",
      "d=d*10**-2   #in m\n",
      "h=20   # in W/m**2K\n",
      "T1=140   # in degree C\n",
      "T2=100   # in degree C\n",
      "L=15*10**-2   # in meter\n",
      "T_infinite=30   # in degree C\n",
      "T_0=140   # in degree C\n",
      "# Let at\n",
      "x=0#T_0=T1#\n",
      "x=15   #in cm\n",
      "x=x*10**-2   # in m\n",
      "T=100   # in degree C\n",
      "rho=pi*d#\n",
      "A=pi*d**2/4#\n",
      "# Formula (T-T_infinite)/(T_0-T_infinite) = %e**-m*x\n",
      "m=log((T_0-T_infinite)/(T-T_infinite))/x#\n",
      "# Formula m=sqrt(h*rho/(k*A))\n",
      "k=h*rho/(m**2*A)#\n",
      "print \"Thermal conductivity of the rod material = %0.3f W/m-k\" %k"
     ],
     "language": "python",
     "metadata": {},
     "outputs": [
      {
       "output_type": "stream",
       "stream": "stdout",
       "text": [
        "Thermal conductivity of the rod material = 293.699 W/m-k\n"
       ]
      }
     ],
     "prompt_number": 2
    },
    {
     "cell_type": "heading",
     "level": 2,
     "metadata": {},
     "source": [
      "Example No :  3.3 - Page : 86"
     ]
    },
    {
     "cell_type": "code",
     "collapsed": false,
     "input": [
      "from math import tanh\n",
      "# given data\n",
      "t=1   # in mm\n",
      "t=t*10**-3   # in meter\n",
      "L= 10   # in mm\n",
      "L= L*10**-3   # in meter\n",
      "k= 380   # W/mK\n",
      "To= 230   # in \u00b0C\n",
      "T_inf= 30   # in \u00b0C\n",
      "h= 40   # in W/m**2K\n",
      "B= 1   # in meter\n",
      "Ac= B*t   # in m**2\n",
      "rho= 2*(B+t)#\n",
      "m= sqrt(h*rho/(k*Ac))#\n",
      "# Part(a)\n",
      "nita= tanh(m*L)/(m*L)*100   # fin efficiency in %\n",
      "print \"Fin efficiency = %0.3f %%\" %nita\n",
      "\n",
      "# Part(b)\n",
      "N=1000/9+1   # number of fin\n",
      "Af= N*rho*L   # in square meter\n",
      "A1= 1   # plate area in m**2\n",
      "A2= N*1*1*10**-3   # Area where fins are attached in square meter\n",
      "Au= A1-A2   # in square meter\n",
      "q_T= N*sqrt(h*rho*k*Ac)*(To-T_inf)*tanh(m*L)+Au*h*(To-T_inf)   # in W/m**2\n",
      "print \"Total heat transfer per square meter of plane wall surface = %0.3f kW/m**2\" %(q_T*10**-3)\n",
      "\n",
      "# Part(c)\n",
      "A=1*1   # in m**2\n",
      "q= h*A*(To-T_inf)   # in W/m**2\n",
      "print \"Heat transfer if there were no fins attached = %0.0f kW/m**2\" %(q*10**-3)\n",
      "\n",
      "# Note : Answer of part(b) in the book is wrong"
     ],
     "language": "python",
     "metadata": {},
     "outputs": [
      {
       "output_type": "stream",
       "stream": "stdout",
       "text": [
        "Fin efficiency = 99.303 %\n",
        "Total heat transfer per square meter of plane wall surface = 24.934 kW/m**2\n",
        "Heat transfer if there were no fins attached = 8 kW/m**2\n"
       ]
      }
     ],
     "prompt_number": 4
    },
    {
     "cell_type": "heading",
     "level": 2,
     "metadata": {},
     "source": [
      "Example No :  3.4 - Page : 87"
     ]
    },
    {
     "cell_type": "code",
     "collapsed": false,
     "input": [
      "from math import sqrt, tanh\n",
      "# given data\n",
      "w=5*10**-2   # in meter\n",
      "L=1   # in meter\n",
      "t=2.5*10**-2   # in meter\n",
      "h=47   # in W/m**2K\n",
      "k=16.3   # in W/mK (for 18.8 steel)\n",
      "T_0=100   # in degree C\n",
      "T_infinite=20   # in degree C\n",
      "Ac=w*t   # in square meter\n",
      "rho=2*(w+t)#\n",
      "m=sqrt(h*rho/(k*Ac))#\n",
      "q_fin=k*Ac*m*(T_0-T_infinite)*((tanh(m*L)+h/(k*m)  )/(1+h/(m*k)*tanh(m*L)))\n",
      "print \"The heat lost by the fin of one meter length is :\",round(q_fin,3),\"W\""
     ],
     "language": "python",
     "metadata": {},
     "outputs": [
      {
       "output_type": "stream",
       "stream": "stdout",
       "text": [
        "The heat lost by the fin of one meter length is : 30.32 W\n"
       ]
      }
     ],
     "prompt_number": 7
    },
    {
     "cell_type": "heading",
     "level": 2,
     "metadata": {},
     "source": [
      "Example No :  3.5 - Page : 88"
     ]
    },
    {
     "cell_type": "code",
     "collapsed": false,
     "input": [
      "from math import floor\n",
      "# given data\n",
      "w=1   # in meter\n",
      "L=2.5*10**-2   # in meter\n",
      "t=0.8*10**-3   # in meter\n",
      "l=1   # in meter\n",
      "T_0=150   # in degree C\n",
      "T_infinite=40   # in degree C\n",
      "h=20   # in W/m**2K\n",
      "k=65   # in W/mK (for 18.8 steel)\n",
      "Ac=w*t#\n",
      "d=5*10**-2   # Cylinder dia in meter\n",
      "rho=2*(w+t)#\n",
      "rho=floor(rho)#\n",
      "\n",
      "m=sqrt(h*rho/(k*Ac))#\n",
      "mL=m*L#\n",
      "# heat transfer rate from 12 fins\n",
      "q_fin=12*k*Ac*m*(T_0-T_infinite)*((tanh(m*L)+h/(k*m)  )/(1+h/(m*k)*tanh(m*L)))#\n",
      "print \"Heat transfer rate from 12 fins is :\",round(q_fin,3),\"watt\"\n",
      "Au=pi*d*l-12*w*t#\n",
      "qu=h*Au*(T_0-T_infinite)#\n",
      "print \"Now heat transfer from unfinned surface area is :\",round(qu,3),\"watt\"\n",
      "q=q_fin+qu#\n",
      "print \"Total head transfer rate from the cylinder is :\",round(q,3),\"watt\""
     ],
     "language": "python",
     "metadata": {},
     "outputs": [
      {
       "output_type": "stream",
       "stream": "stdout",
       "text": [
        "Heat transfer rate from 12 fins is : 1155.94 watt\n",
        "Now heat transfer from unfinned surface area is : 324.455 watt\n",
        "Total head transfer rate from the cylinder is : 1480.395 watt\n"
       ]
      }
     ],
     "prompt_number": 6
    },
    {
     "cell_type": "heading",
     "level": 2,
     "metadata": {},
     "source": [
      "Example No :  3.6 - Page : 89"
     ]
    },
    {
     "cell_type": "code",
     "collapsed": false,
     "input": [
      "from math import sinh\n",
      "# given data\n",
      "T_0=100   # in degree C\n",
      "T_infinite=30   # in degree C\n",
      "T_L=100   # in degree C\n",
      "d=6*10**-3   # copper rod dia in meter\n",
      "L=50*10**-2   # developed length in meter\n",
      "Ac=pi*d**2/4   # in square meter\n",
      "rho=pi*d   # in meter\n",
      "h=30   # in W/m**2K\n",
      "k=330   # in W/mK \n",
      "m=sqrt(h*rho/(k*Ac))#\n",
      "#(i) Temperature distribution equation for the fin\n",
      "# (T-T_infinite)/(T_0-T_infinite)=([(T_L-T_infinite)/(T_0-T_infinite)]*sinh(m*x)+sinh(m*(L-x)))/sinh(m*L)\n",
      "#Temperature at\n",
      "x=0.25   # in m\n",
      "T= (((T_L-T_infinite)/(T_0-T_infinite))*sinh(m*x)+sinh(m*(L-x)))/sinh(m*L)*(T_0-T_infinite)+T_infinite#\n",
      "print \"(i) Temperature at the centre of the rod is :\",round(T,1),\"degree C\"\n",
      "print \"(ii) Heat transfer rate from the fin- This is equivalent to two fins of length 25 cm long with insulated tip\"\n",
      "L=25*10**-2   # in meter\n",
      "q=2*sqrt(h*rho*k*Ac)*(T_0-T_infinite)*tanh(m*L)#\n",
      "print \"Heat transfer by the rod is :\",round(q,2),\"watt\""
     ],
     "language": "python",
     "metadata": {},
     "outputs": [
      {
       "output_type": "stream",
       "stream": "stdout",
       "text": [
        "(i) Temperature at the centre of the rod is : 49.6 degree C\n",
        "(ii) Heat transfer rate from the fin- This is equivalent to two fins of length 25 cm long with insulated tip\n",
        "Heat transfer by the rod is : 9.76 watt\n"
       ]
      }
     ],
     "prompt_number": 9
    },
    {
     "cell_type": "heading",
     "level": 2,
     "metadata": {},
     "source": [
      "Example No :  3.7 - Page : 91"
     ]
    },
    {
     "cell_type": "code",
     "collapsed": false,
     "input": [
      "from math import cosh\n",
      "# given data\n",
      "T_0=100   # in degree C\n",
      "T_infinite=25   # in degree C\n",
      "d=5*10**-2   # in meter\n",
      "L=15*10**-2   # in meter\n",
      "h=8   # in W/m**2K\n",
      "k=20   # in W/mK \n",
      "rho=pi*d   # in meter\n",
      "Ac=pi*d**2/4   # in square meter\n",
      "m=sqrt(h*rho/(k*Ac))#\n",
      "#(ii) Temperature at free end i.e. at \n",
      "x=L\n",
      "# Formula  (T_L-T_infinite)/(T_0-T_infinite)= 1/(cosh(m*L)+h/(k*m)*sinh(m*L) )\n",
      "T_L=(1/(cosh(m*L)+h/(k*m)*sinh(m*L) ))*(T_0-T_infinite)+T_infinite#\n",
      "print \"(ii) Temperature at free end is :\",round(T_L,3),\"degree C\"\n",
      "\n",
      "#(iii) Heat flow out the source means heat transfer from the fin\n",
      "q_f=sqrt(h*rho*k*Ac)*(T_0-T_infinite)*((h/(k*m)+tanh(m*L))/(1+h*tanh(m*L)/(k*m)))\n",
      "print \"(iii) Heat flow out the source :\",round(q_f,3),\"watt\"\n",
      "\n",
      "# (iv) Heat flow rate at free end\n",
      "q_L=h*Ac*(T_L-T_infinite)\n",
      "print \"(iv) Heat flow rate at free end is :\",round(q_L,3),\"watt\""
     ],
     "language": "python",
     "metadata": {},
     "outputs": [
      {
       "output_type": "stream",
       "stream": "stdout",
       "text": [
        "(ii) Temperature at free end is : 76.739 degree C\n",
        "(iii) Heat flow out the source : 12.089 watt\n",
        "(iv) Heat flow rate at free end is : 0.813 watt\n"
       ]
      }
     ],
     "prompt_number": 11
    },
    {
     "cell_type": "heading",
     "level": 2,
     "metadata": {},
     "source": [
      "Example No :  3.8 - Page : 92"
     ]
    },
    {
     "cell_type": "code",
     "collapsed": false,
     "input": [
      "from numpy import pi\n",
      "import math\n",
      "from math import sqrt, tanh\n",
      "# given data\n",
      "T_0=150   # in degree C\n",
      "T_infinite=40   # in degree C\n",
      "w=1   # in m\n",
      "t=0.75*10**-3   # in m\n",
      "d=5*10**-2   # in meter\n",
      "L=25*10**-3   # in meter\n",
      "k=75   # in W/mK \n",
      "h=23.3   # in W/m**2K\n",
      "N=12   # numbers of fins\n",
      "Ac=w*t   #in square meter\n",
      "rho=2*(w+t)   # in meter\n",
      "delta=Ac/rho#\n",
      "L_c=L+delta#\n",
      "ML_c=L_c*sqrt(h*rho/(k*Ac))\n",
      "q_fin= N*sqrt(h*rho*k*Ac)*(T_0-T_infinite)*tanh(ML_c)#\n",
      "q_fin=math.floor(q_fin)#\n",
      "A_0=pi*d*w-12*Ac\n",
      "q_unfin= h*A_0*(T_0-T_infinite)#\n",
      "q_total=q_fin+q_unfin#\n",
      "print \"Rate of heat transfer is :\",round(q_total,1),\"watt\""
     ],
     "language": "python",
     "metadata": {},
     "outputs": [
      {
       "output_type": "stream",
       "stream": "stdout",
       "text": [
        "Rate of heat transfer is : 1711.5 watt\n"
       ]
      }
     ],
     "prompt_number": 11
    },
    {
     "cell_type": "heading",
     "level": 2,
     "metadata": {},
     "source": [
      "Example No :  3.9 - Page : 95"
     ]
    },
    {
     "cell_type": "code",
     "collapsed": false,
     "input": [
      "from math import sqrt\n",
      "# given data\n",
      "L=0.06   # in meter\n",
      "A=4.64*10**-4   # in m**2\n",
      "rho=0.12   # in m\n",
      "h=442   # in W/m**2\n",
      "T_0=773   # in K\n",
      "T_infinite=1143   # in K\n",
      "K=23.2   # in W/mK\n",
      "m=sqrt(h*rho/(K*A))#\n",
      "q=sqrt(h*rho*K*A)*(T_0-T_infinite)*tanh(m*L)#\n",
      "print \"Heat transfer rate is :\",round(q,3),\"watt\"\n",
      "\n",
      "# Note: Answer in the book is wrong"
     ],
     "language": "python",
     "metadata": {},
     "outputs": [
      {
       "output_type": "stream",
       "stream": "stdout",
       "text": [
        "Heat transfer rate is : -279.457 watt\n"
       ]
      }
     ],
     "prompt_number": 12
    },
    {
     "cell_type": "heading",
     "level": 2,
     "metadata": {},
     "source": [
      "Example No :  3.10 - Page : 95"
     ]
    },
    {
     "cell_type": "code",
     "collapsed": false,
     "input": [
      "import math\n",
      "from math import cosh\n",
      "# given data\n",
      "L=0.12   # in meter\n",
      "t=.15*10**-2   # thickness in m\n",
      "K=55.5   # in W/mK\n",
      "h=23.5   # in W/mK\n",
      "T_L=357   # in K\n",
      "T_0=313   # in K\n",
      "\n",
      "# Formula m=sqrt(h*rho/(K*A)) and rho=pi*d and A=pi*d*t, putting value of rho and A\n",
      "m=sqrt(h/(K*t))#\n",
      "mL=m*L#\n",
      "mL=math.floor(mL)#\n",
      "# Formula (T_L-T_infinite)/(T_0-T_infinite)= 1/cosh(m*L)\n",
      "T_infinite=(T_L-T_0/cosh(mL))/(1-1/cosh(mL))#\n",
      "T_infinite=math.ceil(T_infinite)#\n",
      "measurement_error=T_infinite-T_L#\n",
      "print \"Measurement Error is :\",round(measurement_error,0),\"K\"\n",
      "\n",
      "# Note: In the book, Unit of answer is wrong"
     ],
     "language": "python",
     "metadata": {},
     "outputs": [
      {
       "output_type": "stream",
       "stream": "stdout",
       "text": [
        "Measurement Error is : 16.0 K\n"
       ]
      }
     ],
     "prompt_number": 15
    },
    {
     "cell_type": "heading",
     "level": 2,
     "metadata": {},
     "source": [
      "Example No :  3.11 - Page : 96"
     ]
    },
    {
     "cell_type": "code",
     "collapsed": false,
     "input": [
      "from math import sqrt\n",
      "# given data\n",
      "k=20   # in W/mK\n",
      "T_L=150   # in degree C\n",
      "T_0=70   # in degree C\n",
      "L=12*10**-2   # in meter\n",
      "h=80   # in W/m**2K\n",
      "t=3*10**-3   # in m\n",
      "# Formula m=sqrt(h*rho/(K*A)) and rho=pi*d and A=pi*d*t, putting value of rho and A\n",
      "m=sqrt(h/(k*t))#\n",
      "# Formula (T_L-T_infinite)/(T_0-T_infinite)= 1/cosh(m*L)\n",
      "T_infinite=(T_L-T_0/cosh(m*L))/(1-1/cosh(m*L))#\n",
      "PercentageError=(T_infinite-T_L)*100/T_infinite#\n",
      "print \"Percentage Error is :\",round(PercentageError,2),\"%\""
     ],
     "language": "python",
     "metadata": {},
     "outputs": [
      {
       "output_type": "stream",
       "stream": "stdout",
       "text": [
        "Percentage Error is : 1.35 %\n"
       ]
      }
     ],
     "prompt_number": 16
    },
    {
     "cell_type": "heading",
     "level": 2,
     "metadata": {},
     "source": [
      "Example No :  3.12 - Page : 97"
     ]
    },
    {
     "cell_type": "code",
     "collapsed": false,
     "input": [
      "from math import acosh\n",
      "# given data\n",
      "k=30   # in W/mK\n",
      "h=100   # in W/m**2K\n",
      "T_infinite=300   # in degree C\n",
      "d=2*10**-2   # in m\n",
      "t=1*10**-3   # in m\n",
      "err=1   # in % of applied temperature difference\n",
      "# Formula m=sqrt(h*rho/(K*A)) and rho=pi*d and A=pi*d*t, putting value of rho and A\n",
      "m=sqrt(h/(k*t))#\n",
      "\n",
      "# From (T_L-T_infinite)/(T_0-T_infinite)= 1/100 = 1/cosh(m*L)\n",
      "L=acosh(100)/m   # in meter\n",
      "L=L*10**3   # in mm\n",
      "print \"Minimum length os pocket is :\",round(L,2),\"mm\""
     ],
     "language": "python",
     "metadata": {},
     "outputs": [
      {
       "output_type": "stream",
       "stream": "stdout",
       "text": [
        "Minimum length os pocket is : 91.77 mm\n"
       ]
      }
     ],
     "prompt_number": 17
    },
    {
     "cell_type": "heading",
     "level": 2,
     "metadata": {},
     "source": [
      "Example No :  3.13 - Page : 97"
     ]
    },
    {
     "cell_type": "code",
     "collapsed": false,
     "input": [
      "from numpy import pi\n",
      "# given data\n",
      "k=32   # in W/m**2 degree C\n",
      "h=14.8   # in W/m**2 degree C\n",
      "t_o=480   # in degree C\n",
      "t_i=55   # in degree C\n",
      "t_a=20   # in degree C\n",
      "d=2.5*10**-2   # in m\n",
      "rho=pi*d   # in m\n",
      "Ac=pi*d**2/4   # in m**2\n",
      "m=sqrt(h*rho/(k*Ac))#\n",
      "# From (t-t_a)/(t_o-t_a) = cosh(m(L-x))/cosh(m*L)\n",
      "L=acosh((t_o-t_a)/(t_i-t_a))/m#  # at x=L,t=t_i\n",
      "print \"Length of shaft specified between the motor and the pump is :\",round(L,4),\"meter\""
     ],
     "language": "python",
     "metadata": {},
     "outputs": [
      {
       "output_type": "stream",
       "stream": "stdout",
       "text": [
        "Length of shaft specified between the motor and the pump is : 0.3798 meter\n"
       ]
      }
     ],
     "prompt_number": 18
    }
   ],
   "metadata": {}
  }
 ]
}