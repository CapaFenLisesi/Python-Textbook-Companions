{
 "metadata": {
  "name": ""
 },
 "nbformat": 3,
 "nbformat_minor": 0,
 "worksheets": [
  {
   "cells": [
    {
     "cell_type": "heading",
     "level": 1,
     "metadata": {},
     "source": [
      "Chapter 8 - Heat Exchanger"
     ]
    },
    {
     "cell_type": "heading",
     "level": 2,
     "metadata": {},
     "source": [
      "Example No :  8.1 - Page : 248"
     ]
    },
    {
     "cell_type": "code",
     "collapsed": false,
     "input": [
      "from __future__ import division\n",
      "from math import log\n",
      "# given data\n",
      "t_hi=80   # in degree C\n",
      "t_ci=30   # in degree C\n",
      "t_ho=40   # in degree C\n",
      "Mh=0.278   # in kg/s\n",
      "Mc=0.278   # in kg/s\n",
      "Cph=2.09# # in kJ/kg degree C\n",
      "Cpc=4.18   #  in kJ/kg degree C\n",
      "U=24   # in W/m**2 degree C\n",
      "# Energy balance Mh*Cph*(t_hi-t_ho) = Mc*Cpc*(t_co-t_ci)\n",
      "t_co= Mh*Cph*(t_hi-t_ho)/(Mc*Cpc)+t_ci   # in degree C\n",
      "del_t1=t_hi-t_co   #in degree C\n",
      "del_t2=t_ho-t_ci   #in degree C\n",
      "del_tm= (del_t1-del_t2)/log(del_t1/del_t2)#\n",
      "Cph=Cph*10**3   # in J/kg degree C\n",
      "q=Mh*Cph*(t_hi-t_ho)#\n",
      "#Formula q=U*A*del_tm\n",
      "A=q/(U*del_tm)   # in m**2\n",
      "print \"Surface area of heat exchange = %0.1f square meter\" %A"
     ],
     "language": "python",
     "metadata": {},
     "outputs": [
      {
       "output_type": "stream",
       "stream": "stdout",
       "text": [
        "Surface area of heat exchange = 53.2 square meter\n"
       ]
      }
     ],
     "prompt_number": 16
    },
    {
     "cell_type": "heading",
     "level": 2,
     "metadata": {},
     "source": [
      "Example No :  8.2 - Page : 249"
     ]
    },
    {
     "cell_type": "code",
     "collapsed": false,
     "input": [
      "from numpy import pi\n",
      "# given data\n",
      "t_hi=160   # in degree C\n",
      "t_ci=25   # in degree C\n",
      "t_ho=60   # in degree C\n",
      "Mh=2   # in kg/s\n",
      "Mc=2   # in kg/s\n",
      "Cph=2.035# # in kJ/kg degree C\n",
      "Cpc=4.187   #  in kJ/kg degree C\n",
      "U=250   # in W/m**2 K\n",
      "d=0.5   # in m\n",
      "# Energy balance Mh*Cph*(t_hi-t_ho) = Mc*Cpc*(t_co-t_ci)\n",
      "t_co= Mh*Cph*(t_hi-t_ho)/(Mc*Cpc)+t_ci   # in degree C\n",
      "del_t1=t_hi-t_co   #in degree C\n",
      "del_t2=t_ho-t_ci   #in degree C\n",
      "del_tm= (del_t1-del_t2)/log(del_t1/del_t2)#\n",
      "Cph=Cph*10**3   # in J/kg degree C\n",
      "q=Mh*Cph*(t_hi-t_ho)#\n",
      "#Formula q=U*pi*d*l*del_tm\n",
      "l=q/(U*pi*d*del_tm)#\n",
      "print \"Length of the heat exchanger = %0.2f meter\" %l"
     ],
     "language": "python",
     "metadata": {},
     "outputs": [
      {
       "output_type": "stream",
       "stream": "stdout",
       "text": [
        "Length of the heat exchanger = 18.22 meter\n"
       ]
      }
     ],
     "prompt_number": 17
    },
    {
     "cell_type": "heading",
     "level": 2,
     "metadata": {},
     "source": [
      "Example No :  8.3 - Page : 251"
     ]
    },
    {
     "cell_type": "code",
     "collapsed": false,
     "input": [
      "from math import log\n",
      "from __future__ import division\n",
      "# given data\n",
      "t_hi=110   # in degree C\n",
      "t_ci=35   # in degree C\n",
      "t_co=75   # in degree C\n",
      "Mh=2.5   # in kg/s\n",
      "Mc=1   # in kg/s\n",
      "Cph=1.9# # in kJ/kg K\n",
      "Cpc=4.18   #  in kJ/kg K\n",
      "U=300   # in W/m**2 K\n",
      "\n",
      "# Energy balance Mc*Cpc*(t_co-t_ci) = Mh*Cph*(t_hi-t_ho)\n",
      "t_ho=t_hi- Mc*Cpc*(t_co-t_ci)/(Mh*Cph)   # in degree C\n",
      "del_t1=t_hi-t_co   #in degree C\n",
      "del_t2=t_ho-t_ci   #in degree C\n",
      "del_tm= (del_t1-del_t2)/log(del_t1/del_t2)#\n",
      "Cph=Cph*10**3   # in J/kg degree C\n",
      "q=Mh*Cph*(t_hi-t_ho)#\n",
      "#Formula q=U*A*del_tm\n",
      "A=q/(U*del_tm)#\n",
      "print \"Area of the heat exchanger = %0.2f square meter\" %A"
     ],
     "language": "python",
     "metadata": {},
     "outputs": [
      {
       "output_type": "stream",
       "stream": "stdout",
       "text": [
        "Area of the heat exchanger = 14.92 square meter\n"
       ]
      }
     ],
     "prompt_number": 18
    },
    {
     "cell_type": "heading",
     "level": 2,
     "metadata": {},
     "source": [
      "Example No :  8.4 - Page : 252"
     ]
    },
    {
     "cell_type": "code",
     "collapsed": false,
     "input": [
      "from math import log\n",
      "# given data\n",
      "Fi=0.00014   # in m**2 degree C/W\n",
      "hi=2000   # in W/m**2degree C\n",
      "Fo=0.00015   # in m**2 degree C/W\n",
      "ho=1000   # in W/m**2degree C\n",
      "di=3*10**-2   # in m\n",
      "do=4*10**-2   #in m\n",
      "ro=do/2#\n",
      "ri=di/2#\n",
      "k=53   # in W/m degree C\n",
      "Uo=1/(do/di*1/hi+ do/(2*k)*log(ro/ri) + 1/ho + do*Fi/di + Fo)#\n",
      "print \"The overall heat transfer coefficient = %0.3f W/m**2 degree C\" %Uo\n",
      "# Note : Answer in the book is not accurate"
     ],
     "language": "python",
     "metadata": {},
     "outputs": [
      {
       "output_type": "stream",
       "stream": "stdout",
       "text": [
        "The overall heat transfer coefficient = 473.509 W/m**2 degree C\n"
       ]
      }
     ],
     "prompt_number": 19
    },
    {
     "cell_type": "heading",
     "level": 2,
     "metadata": {},
     "source": [
      "Example No :  8.5 - Page : 252"
     ]
    },
    {
     "cell_type": "code",
     "collapsed": false,
     "input": [
      "import math\n",
      "# given data\n",
      "V=0.15   # in m/s\n",
      "di=2.5*10**-2   # in m\n",
      "\n",
      "delta=0.364*10**-6   # in m**2/s\n",
      "k=0.668   # in W/m degree C\n",
      "Pr=2.22#\n",
      "\n",
      "Re=V*di/delta#\n",
      "# Formula Nu= hi*di/k = 0.023*Re**0.8*Pr**0.3\n",
      "hi=0.023*Re**0.8*Pr**0.3*k/di   # in W/m**2 degree C\n",
      "\n",
      "# Now, Reynold number for flow of air across the tube\n",
      "delta=18.22*10**-6   # in m**2/s\n",
      "k=0.0281   # in W/m degree C\n",
      "Pr=0.703#\n",
      "d=2.5*10**-2   # in m\n",
      "u=10   # in m/s\n",
      "Re=u*d/delta#\n",
      "Re=math.floor(Re)#\n",
      "#The Nusselt number for this case\n",
      "Nu=(0.04*Re**0.5+ 0.006*Re**(2/3))*Pr**0.4\n",
      "# Formula Nu= ho*do/k\n",
      "do=di#\n",
      "ho=Nu*k/do   # in W/m**2 degree C\n",
      "print \"Heat transfer coefficient = %0.3f W/m**2 degree C\" %ho\n",
      "U=1/(1/hi+1/ho)#\n",
      "print \"The overall heat transfer coefficient neglecting the wall resistance = %0.3f W/m**2 degree C\" %U\n",
      "l=1   # in m\n",
      "Ti=90   # in degree C\n",
      "To=10   # in degree C\n",
      "q=U*pi*d*l*(Ti-To) #\n",
      "print \"Heat loss per meter length of the tube = %0.3f W/m\" %q\n",
      "# Note: Answer in the book is wrong"
     ],
     "language": "python",
     "metadata": {},
     "outputs": [
      {
       "output_type": "stream",
       "stream": "stdout",
       "text": [
        "Heat transfer coefficient = 7.931 W/m**2 degree C\n",
        "The overall heat transfer coefficient neglecting the wall resistance = 7.882 W/m**2 degree C\n",
        "Heat loss per meter length of the tube = 49.523 W/m\n"
       ]
      }
     ],
     "prompt_number": 20
    },
    {
     "cell_type": "heading",
     "level": 2,
     "metadata": {},
     "source": [
      "Example No :  8.6 - Page : 253"
     ]
    },
    {
     "cell_type": "code",
     "collapsed": false,
     "input": [
      "# given data\n",
      "t_hi=83   # in degree C\n",
      "t_ho=45   # in degree C\n",
      "t_ci=25   # in degree C\n",
      "Mh=5   # in kg/min\n",
      "Mc=9   # in kg/min\n",
      "Cph=4.18# # in kJ/kg K\n",
      "Cpc=2.85   #  in kJ/kg K\n",
      "# Energy balance Mh*Cph*(t_hi-t_ho) = Mc*Cpc*(t_co-t_ci) \n",
      "t_co= Mh*Cph*(t_hi-t_ho)/(Mc*Cpc)+t_ci   # in degree C\n",
      "print \"t_co = %0.2f degree C\" %t_co\n",
      "if(t_co>t_ho) :\n",
      "    print \"since t_co > t_ho, hence counter flow arrangment will be suitable\""
     ],
     "language": "python",
     "metadata": {},
     "outputs": [
      {
       "output_type": "stream",
       "stream": "stdout",
       "text": [
        "t_co = 55.96 degree C\n",
        "since t_co > t_ho, hence counter flow arrangment will be suitable\n"
       ]
      }
     ],
     "prompt_number": 21
    },
    {
     "cell_type": "heading",
     "level": 2,
     "metadata": {},
     "source": [
      "Example No :  8.7 - Page : 254"
     ]
    },
    {
     "cell_type": "code",
     "collapsed": false,
     "input": [
      "from math import log\n",
      "# given data\n",
      "# (a) For parallel flow arrangment\n",
      "del_t1=60-10   # in degree C\n",
      "del_t2=40-30   # in degree C\n",
      "del_tm=(del_t1-del_t2)/log(del_t1/del_t2)   # in degree C\n",
      "q=100*10**3   # in W\n",
      "U=75   # in W/m**2 degree C\n",
      "# Formula q=U*A*del_tm#\n",
      "A=q/(U*del_tm)#\n",
      "print \"Area for paraller flow arrangment = %0.1f square meter\" %A\n",
      "# (b) For counter flow heat exchange\n",
      "del_t1=60-30   # in degree C\n",
      "del_t2=40-10   # in degree C\n",
      "# In this case\n",
      "del_tm=(del_t1+del_t2)/2   # in degree C\n",
      "A=q/(U*del_tm)#\n",
      "print \"Area For counter flow heat exchange = %0.2f square meter\" %A"
     ],
     "language": "python",
     "metadata": {},
     "outputs": [
      {
       "output_type": "stream",
       "stream": "stdout",
       "text": [
        "Area for paraller flow arrangment = 53.6 square meter\n",
        "Area For counter flow heat exchange = 44.44 square meter\n"
       ]
      }
     ],
     "prompt_number": 22
    },
    {
     "cell_type": "heading",
     "level": 2,
     "metadata": {},
     "source": [
      "Example No :  8.8 - Page : 255"
     ]
    },
    {
     "cell_type": "code",
     "collapsed": false,
     "input": [
      "from numpy import pi\n",
      "# given data\n",
      "Cp=4180   # in J/kg degree C\n",
      "miu=0.86*10**-3   # in kg/m-s\n",
      "Pr=60#\n",
      "k=0.60   # in W/m degree C\n",
      "h_fg=2372400   # in W\n",
      "ho=6000   # in W/m**2 degree C\n",
      "di=2*10**-2   # in m\n",
      "d_o=3*10**-2   # in m\n",
      "t_co=35   # in degree C\n",
      "t_ci=15   # in degree C\n",
      "M=0.9#\n",
      "Re=4*M/(pi*di*miu)#\n",
      "# since Re > 2300, hence flow inside tube is a turbulent flow.\n",
      "# Hence  Nu= hi*di/k = 0.023*Re**0.8*Pr**0.4\n",
      "hi= 0.023*Re**0.8*Pr**0.4*k/di#\n",
      "Uo= 1/(1/10213.6*(d_o/di)+1/ho)#\n",
      "del_t1=50-15   # in degree C\n",
      "del_t2=50-35   # in degree C\n",
      "del_tm=(del_t1-del_t2)/log(del_t1/del_t2)   # in degree C\n",
      "# Formula q= Uo*pi*d_i*L*del_tm = M*Cp*(t_co-t_ci)\n",
      "L= M*Cp*(t_co-t_ci)/(Uo*pi*d_o*del_tm)#\n",
      "print \"Length of tube = %0.3f meter\" %L\n",
      "q=M*Cp*(t_co-t_ci)   # in watt\n",
      "m=q/h_fg#\n",
      "print \"Rate of condensation = %0.3f kg/sec\" %m"
     ],
     "language": "python",
     "metadata": {},
     "outputs": [
      {
       "output_type": "stream",
       "stream": "stdout",
       "text": [
        "Length of tube = 10.604 meter\n",
        "Rate of condensation = 0.032 kg/sec\n"
       ]
      }
     ],
     "prompt_number": 23
    },
    {
     "cell_type": "heading",
     "level": 2,
     "metadata": {},
     "source": [
      "Example No :  8.9 - Page : 257"
     ]
    },
    {
     "cell_type": "code",
     "collapsed": false,
     "input": [
      "from math import log\n",
      "# given data\n",
      "Cph=3850# # in J/kg degree C\n",
      "t_hi=100   # in degree C\n",
      "t_ci=20   # in degree C\n",
      "t_ho=50   # in degree C\n",
      "Mh=8   # in kg/s\n",
      "Mc=10   # in kg/s\n",
      "Cpc=4.18*10**3   #  in J/kg degree C\n",
      "U=400   # in W/m**2 degree C\n",
      "# Energy balance Mh*Cph*(t_hi-t_ho) = Mc*Cpc*(t_co-t_ci)\n",
      "t_co= Mh*Cph*(t_hi-t_ho)/(Mc*Cpc)+t_ci   # in degree C\n",
      "# Heat load\n",
      "q=Mh*Cph*(t_hi-t_ho)   # in W\n",
      "# (a) Parallel flow\n",
      "del_t1=90   # in degree C\n",
      "del_t2=3.16   # in degree C\n",
      "del_tm= (del_t1-del_t2)/log(del_t1/del_t2)#\n",
      "A=q/(U*del_tm)#\n",
      "print \"Surface area for parallel flow = %0.3f meter square\" %A\n",
      "# (b) Counter flow heat exchanger\n",
      "del_t1=53.16   # in degree C\n",
      "del_t2=40   # in degree C\n",
      "del_tm_counter= (del_t1-del_t2)/log(del_t1/del_t2)#\n",
      "A=q/(U*del_tm_counter)#\n",
      "print \"Surface area for counter flow heat exchanger = %0.1f meter square\" %A\n",
      "#(c) One shell pass and two tube pass.\n",
      "#here\n",
      "t1=10   # in degree C\n",
      "t2=46.84   # in degree C\n",
      "T1=100   # in degree C\n",
      "T2=50   # in degree C\n",
      "P=(t2-t1)/(T1-t1)#\n",
      "R=(T1-T2)/(t2-t1)#\n",
      "F=0.88#\n",
      "del_tm=F*del_tm_counter   # in degree C\n",
      "A=q/(U*del_tm)#\n",
      "print \"Surface area for one shell pass and two tube pass = %0.2f meter square\" %A\n",
      "# (d) For cross flow, correction factor \n",
      "F=0.9#\n",
      "del_tm=F*del_tm_counter#\n",
      "A=q/(U*del_tm)#\n",
      "print \"Surface area for cross flow = %0.3f meter square\" %A"
     ],
     "language": "python",
     "metadata": {},
     "outputs": [
      {
       "output_type": "stream",
       "stream": "stdout",
       "text": [
        "Surface area for parallel flow = 148.486 meter square\n",
        "Surface area for counter flow heat exchanger = 83.2 meter square\n",
        "Surface area for one shell pass and two tube pass = 94.56 meter square\n",
        "Surface area for cross flow = 92.456 meter square\n"
       ]
      }
     ],
     "prompt_number": 24
    },
    {
     "cell_type": "heading",
     "level": 2,
     "metadata": {},
     "source": [
      "Example No :  8.10 Page No : 258"
     ]
    },
    {
     "cell_type": "code",
     "collapsed": false,
     "input": [
      "from math import exp\n",
      "# given data\n",
      "Cpc=4.18*10**3   #  in J/kg degree C\n",
      "Mc=1   # in kg/s\n",
      "Mh=2.4   # in kg/s\n",
      "Cph=2050# # in J/kg degree C\n",
      "t_hi=100   # in degree C\n",
      "t_ci=20   # in degree C\n",
      "C_c=Mc*Cpc   # in W/degree C\n",
      "C_h=Mh*Cph   # in W/degree C\n",
      "U=300   # in W/m**2 degree C\n",
      "A=10   # in m**2\n",
      "C_min=C_c#\n",
      "C_max=C_h#\n",
      "N= A*U/C_min#\n",
      "C=C_min/C_max#\n",
      "# Effectiveness for counter flow heat exchanger\n",
      "epsilon= (1-exp(-N*(1-C)))/(1-C*exp(-N*(1-C)))#\n",
      "# Total heat transfer\n",
      "q=epsilon*C_min*(t_hi-t_ci)   # in watt\n",
      "print \"Total heat transfer = %0.3f kW\" %(q*10**-3) \n",
      "t_co=t_ci+epsilon*C*(t_hi-t_ci) #\n",
      "print \"Exit temperature of water = %0.3f degree C\" %t_co"
     ],
     "language": "python",
     "metadata": {},
     "outputs": [
      {
       "output_type": "stream",
       "stream": "stdout",
       "text": [
        "Total heat transfer = 144.170 kW\n",
        "Exit temperature of water = 49.303 degree C\n"
       ]
      }
     ],
     "prompt_number": 25
    },
    {
     "cell_type": "heading",
     "level": 2,
     "metadata": {},
     "source": [
      "Example No :  8.11 Page No : 259"
     ]
    },
    {
     "cell_type": "code",
     "collapsed": false,
     "input": [
      "from math import log\n",
      "# given data\n",
      "t_hi=135   # in degree C\n",
      "t_ci=20   # in degree C\n",
      "t_ho=65   # in degree C\n",
      "t_co=50   # in degree C\n",
      "# Energy balance  Mh*Cph*(t_hi-t_ho) = Mc*Cpc*(t_co-t_ci)\n",
      "# C =C_min/C_max = Mh*Cph/( Mc*Cpc)\n",
      "C= (t_co-t_ci)/(t_hi-t_ho)#\n",
      "epsilon=(t_hi-t_ho)/(t_hi-t_ci)#\n",
      "# Also epsilon = epsilon_parallel = (1-exp(-NTU*(1+C)))/(1+C)\n",
      "NTU= -log(1-epsilon*(1+C))/(1+C)#\n",
      "# if the existing heat exchanger is to be used as counter flow mode, its NTU will not change, i.e.\n",
      "epsilon_c= (1-exp(-NTU*(1-C)))/((1-C*exp(-NTU*(1-C))))#\n",
      "# Exit temperature\n",
      "# (i) Hot fluid\n",
      "t_ho=t_hi-epsilon_c*(t_hi-t_ci)   # in degree C\n",
      "print \"Exit temperature for hot fluid = %0.3f degree C\" %t_ho\n",
      "\n",
      "#(ii) Cold fluid\n",
      "t_co= t_ci+epsilon_c*C*(t_hi-t_ci)#\n",
      "print \"Exit temperature for cold fluid = %0.1f degree C\" %t_co\n",
      "\n",
      "# (iii) # If the parallel flow heat exchanger is too long, then body fluid will have common outlet temperature (t)\n",
      "# From MCp_h*(t_hi-t) = MCp_c*(t-t_ci)\n",
      "\n",
      "t=(C*t_hi+t_ci)/(1+C)#\n",
      "print \"The minimum temperature to which the oil may be cooled by increasing the tube length with parallel flow operation,\"\n",
      "print \"in degree C = %0.1f\" %t"
     ],
     "language": "python",
     "metadata": {},
     "outputs": [
      {
       "output_type": "stream",
       "stream": "stdout",
       "text": [
        "Exit temperature for hot fluid = 55.909 degree C\n",
        "Exit temperature for cold fluid = 53.9 degree C\n",
        "The minimum temperature to which the oil may be cooled by increasing the tube length with parallel flow operation,\n",
        "in degree C = 54.5\n"
       ]
      }
     ],
     "prompt_number": 26
    },
    {
     "cell_type": "heading",
     "level": 2,
     "metadata": {},
     "source": [
      "Example No :  8.12 - Page : 261"
     ]
    },
    {
     "cell_type": "code",
     "collapsed": false,
     "input": [
      "from math import log\n",
      "# given data\n",
      "t_hi=78   # in degree C\n",
      "t_ci=23   # in degree C\n",
      "t_ho=65   # in degree C\n",
      "t_co=36   # in degree C\n",
      "# Energy balance  Mh*Cph*(t_hi-t_ho) = Mc*Cpc*(t_co-t_ci)\n",
      "# C =C_min/C_max = Mh*Cph/( Mc*Cpc)\n",
      "C= (t_co-t_ci)/(t_hi-t_ho)#\n",
      "epsilon=(t_hi-t_ho)/(t_hi-t_ci)#\n",
      "# Formula epsilon = (1-exp(-N*(1+C)))/(1+C)\n",
      "N= -log(1-epsilon*(1+C))/(1+C)#\n",
      "# When flow rates of both fluids are doubled , the deat capacity ratio will not change, i.e.\n",
      "# C=1\n",
      "#  MCp_new =2* MCp_old\n",
      "# N=U*A/C_min=N/2\n",
      "N=N/2#\n",
      "epsilon=(1-exp(-N*(1+C)))/(1+C)#\n",
      "# exit temperature\n",
      "t_ho=t_hi-epsilon*(t_hi-t_ci)   # in degree C\n",
      "t_co= t_ci+epsilon*(t_hi-t_ci)#\n",
      "print \"Exit temperature  in degree C is : \",round(t_ho,2),\"and\",round(t_co,2)\n",
      "# Note: Answer in the book is wrong due to put wrong value of t_ci in second last line"
     ],
     "language": "python",
     "metadata": {},
     "outputs": [
      {
       "output_type": "stream",
       "stream": "stdout",
       "text": [
        "Exit temperature  in degree C is :  70.47 and 30.53\n"
       ]
      }
     ],
     "prompt_number": 27
    },
    {
     "cell_type": "heading",
     "level": 2,
     "metadata": {},
     "source": [
      "Example No :  8.13 - Page : 262"
     ]
    },
    {
     "cell_type": "code",
     "collapsed": false,
     "input": [
      "from numpy import pi\n",
      "# given data\n",
      "t_hi=125   # in degree C\n",
      "t_ci=22   # in degree C\n",
      "Mh=21   # in kg/s\n",
      "Mc=5   # in kg/s\n",
      "C_ph=2100   # in J/kg K\n",
      "C_pc=4100   # in J/kg K\n",
      "Ch=Mh*C_ph   # in Js/kg\n",
      "Cc=Mc*C_pc   # in Js/kg\n",
      "C_min=Cc   # in Js/kg\n",
      "C_max=Ch   # in Js/kg\n",
      "U=325   # in W/m**2 K\n",
      "d=2.2*10**-2   # in m\n",
      "l=5   # in m\n",
      "total_tube=195   # number of total tubes\n",
      "A=pi*d*l*total_tube\n",
      "NTU=U*A/C_min#\n",
      "C=C_min/C_max#\n",
      "epsilon = (1-exp(-NTU*(1-C)))/(1-C*exp(-NTU*(1-C)))#\n",
      "t_co= t_ci+epsilon*(t_hi-t_ci)#\n",
      "t_ho= t_hi-epsilon*Cc/Ch*(t_hi-t_ci)#\n",
      "print \"Exit temperature  in degree C :\",round(t_co,1),\"and\",round(t_ho,2)\n",
      "# Total heat transfer\n",
      "q=epsilon*C_min*(t_hi-t_ci)#\n",
      "print \"Total heat transfer = %0.3f kW\" %(q*10**-3)"
     ],
     "language": "python",
     "metadata": {},
     "outputs": [
      {
       "output_type": "stream",
       "stream": "stdout",
       "text": [
        "Exit temperature  in degree C : 82.8 and 96.73\n",
        "Total heat transfer = 1246.589 kW\n"
       ]
      }
     ],
     "prompt_number": 28
    },
    {
     "cell_type": "heading",
     "level": 2,
     "metadata": {},
     "source": [
      "Example No :  8.14 - Page : 263"
     ]
    },
    {
     "cell_type": "code",
     "collapsed": false,
     "input": [
      "from math import exp\n",
      "# given data\n",
      "t_hi=94   # in degree C\n",
      "t_ci=15   # in degree C\n",
      "Mw=0.36   # in kg/s\n",
      "Mo=0.153   # in kg/s\n",
      "C_po=2*10**3   # in J/kg K\n",
      "C_pw=4.186*10**3   # in J/kg K\n",
      "U=10.75*10**2   # in W/m**2 K\n",
      "A=1   # in m**2\n",
      "Ch=Mo*C_po   # in kW/K\n",
      "Cc=Mw*C_pw   # in kW/K\n",
      "C_min=Ch   # in W/K\n",
      "C_max=Cc   # in W/K\n",
      "C=C_min/C_max#\n",
      "NTU=U*A/C_min#\n",
      "# Effectiveness\n",
      "N=NTU#\n",
      "epsilon = (1-exp(-N*(1-C)))/(1-C*exp(-N*(1-C)))#\n",
      "mCp_min=C_min#\n",
      "q_max= mCp_min*(t_hi-t_ci)   # in W\n",
      "q_actual= epsilon*q_max   # in W\n",
      "print \"Total heat transfer = %0.3f watt\" %q_actual\n",
      "# Outlet temp. of water\n",
      "t_co= q_actual/Cc+t_ci   # in degree C\n",
      "print \"Outlet temperature of water = %0.3f degree C\" %t_co\n",
      "# Outlet temp. of oil\n",
      "t_ho=t_hi-q_actual/Ch   #in degree C\n",
      "print \"Outlet temperature of oil = %0.3f degree C\" %t_ho\n",
      "#Note: Evaluation of Cc and Ch in the book is wrong so the Answer in the book is wrong"
     ],
     "language": "python",
     "metadata": {},
     "outputs": [
      {
       "output_type": "stream",
       "stream": "stdout",
       "text": [
        "Total heat transfer = 22987.488 watt\n",
        "Outlet temperature of water = 30.254 degree C\n",
        "Outlet temperature of oil = 18.877 degree C\n"
       ]
      }
     ],
     "prompt_number": 29
    },
    {
     "cell_type": "heading",
     "level": 2,
     "metadata": {},
     "source": [
      "Example No :  8.15 - Page : 265"
     ]
    },
    {
     "cell_type": "code",
     "collapsed": false,
     "input": [
      "from math import log\n",
      "# given data\n",
      "U=1800   # in W/m**2 degree C\n",
      "h_fg=2200*10**3   # in J/kg\n",
      "t_ci=20   # in degree C\n",
      "t_co=90   # in degree C\n",
      "del_t1=120-20   # in degree C\n",
      "del_t2=120-90   # in degree C\n",
      "del_tm=(del_t1-del_t2)/log(del_t1/del_t2)   # in degree C\n",
      "Mc=1000/3600   # in kg/s\n",
      "Cc=4180   # in kg/s\n",
      "# Rate of heat transfer\n",
      "q=Mc*Cc*(t_co-t_ci)   # in watt\n",
      "# Formula q=U*A*del_tm\n",
      "A=q/(U*del_tm)#\n",
      "print \"Surface area = %0.3f square meter\" %A\n",
      "#Rate of condensation of steam\n",
      "ms=q/h_fg   # in kg/sec\n",
      "print \"Rate of condensation of steam = %0.4f kg/sec\" %ms"
     ],
     "language": "python",
     "metadata": {},
     "outputs": [
      {
       "output_type": "stream",
       "stream": "stdout",
       "text": [
        "Surface area = 0.777 square meter\n",
        "Rate of condensation of steam = 0.0369 kg/sec\n"
       ]
      }
     ],
     "prompt_number": 30
    },
    {
     "cell_type": "heading",
     "level": 2,
     "metadata": {},
     "source": [
      "Example No :  8.16 - Page : 265"
     ]
    },
    {
     "cell_type": "code",
     "collapsed": false,
     "input": [
      "from math import log\n",
      "# given data\n",
      "Mh=10000/3600   # in kg/sec\n",
      "Mc=8000/3600   # in kg/sec\n",
      "Cph=2095   # in J/kg K\n",
      "Cpc=4180   # in J/kg K\n",
      "t_hi=80   # in degree C\n",
      "t_ci=25   # in degree C\n",
      "t_ho=50   # in degree C\n",
      "U=300   # in W/m**2 K\n",
      "# Energy balance Mh*Cph*(t_hi-t_ho) = Mc*Cpc*(t_co-t_ci)\n",
      "t_co= Mh*Cph*(t_hi-t_ho)/(Mc*Cpc)+t_ci   # in degree C\n",
      "del_t1=t_hi-t_co   #in degree C\n",
      "del_t2=t_ho-t_ci   #in degree C\n",
      "del_tm= (del_t1-del_t2)/log(del_t1/del_t2)#\n",
      "q=Mh*Cph*(t_hi-t_ho)#\n",
      "#Formula q=U*A*del_tm\n",
      "A=q/(U*del_tm)   # in m**2\n",
      "print \"Surface area of heat exchange = %0.2f square meter\" %A"
     ],
     "language": "python",
     "metadata": {},
     "outputs": [
      {
       "output_type": "stream",
       "stream": "stdout",
       "text": [
        "Surface area of heat exchange = 19.23 square meter\n"
       ]
      }
     ],
     "prompt_number": 31
    },
    {
     "cell_type": "heading",
     "level": 2,
     "metadata": {},
     "source": [
      "Example No :  8.17 - Page : 266"
     ]
    },
    {
     "cell_type": "code",
     "collapsed": false,
     "input": [
      "from math import log\n",
      "from numpy import pi\n",
      "# given data\n",
      "ho=5000   # in W/m**2 degree C\n",
      "rho=988.1   # in kg/m**3\n",
      "K=0.6474#\n",
      "D=555*10**-9   # in m**2/s\n",
      "Pr=3.54#\n",
      "n=100#\n",
      "d_i=2.5*10**-2   # in m\n",
      "ri=d_i/2#\n",
      "d_o=2.9*10**-2   # in m\n",
      "ro=d_o/2#\n",
      "Cp=4174   # in J/kg degree C\n",
      "Mc=8.333   # in kg/s\n",
      "Mw=Mc#\n",
      "t_c1=30   # in degree C\n",
      "t_c2=70   # in degree C\n",
      "t_n1=100   # in degree C\n",
      "t_n2=t_n1   # in degree C\n",
      "R_fi=0.0002   # in m**2 degree C/W (In the book, there is miss print in this line,they took here R_fi = .002)\n",
      "# Heat gain by water\n",
      "Q=Mc*Cp*(t_c2-t_c1)#\n",
      "# Also Q= U*A*del_tm\n",
      "del_t1=t_n1-t_c1   #in degree C\n",
      "del_t2=t_n2-t_c2   #in degree C\n",
      "del_tm= (del_t1-del_t2)/log(del_t1/del_t2)# \n",
      "# Mw= 1/4*pi*d_i**2*V*rho*N, here\n",
      "N=n#\n",
      "V=4*Mw/(pi*d_i**2*rho*N)#\n",
      "# Formula Re=V*d_i/v, here\n",
      "v=D#\n",
      "Re=V*d_i/v#\n",
      "# Formula Nu= hi*d_i/K = 0.023*Re**0.8*Pr**0.33\n",
      "hi= 0.023*Re**0.8*Pr**0.33*K/d_i#\n",
      "# Formula 1/Vi= 1/hi + R_fi + ri/ro*1/ho\n",
      "Vi= 1/(1/hi + R_fi + ri/ro*1/ho)   # in W/m**2 degree C\n",
      "#Formula Q = Vi*(N*pi*d_i*L)*del_tm\n",
      "L= Q/(Vi*(N*pi*d_i)*del_tm)#\n",
      "print \"Length of the tube bundle = %0.1f m\" %L"
     ],
     "language": "python",
     "metadata": {},
     "outputs": [
      {
       "output_type": "stream",
       "stream": "stdout",
       "text": [
        "Length of the tube bundle = 4.6 m\n"
       ]
      }
     ],
     "prompt_number": 32
    }
   ],
   "metadata": {}
  }
 ]
}