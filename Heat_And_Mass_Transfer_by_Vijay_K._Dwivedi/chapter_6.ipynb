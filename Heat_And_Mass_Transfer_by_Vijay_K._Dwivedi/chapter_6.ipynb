{
 "metadata": {
  "name": ""
 },
 "nbformat": 3,
 "nbformat_minor": 0,
 "worksheets": [
  {
   "cells": [
    {
     "cell_type": "heading",
     "level": 1,
     "metadata": {},
     "source": [
      "Chapter 6 - Free Convection"
     ]
    },
    {
     "cell_type": "heading",
     "level": 2,
     "metadata": {},
     "source": [
      "Example No :  6.1 - Page : 177"
     ]
    },
    {
     "cell_type": "code",
     "collapsed": false,
     "input": [
      "from __future__ import division\n",
      "# given data\n",
      "# (i) when\n",
      "x=.3   # in m\n",
      "T_s=100   # in degree C\n",
      "T_infinite=30   # in degree C\n",
      "T_f=(T_s+T_infinite)/2   # in degree C\n",
      "T_f=T_f+273   # in K\n",
      "Bita=1/T_f#\n",
      "# Other fluid properties at film temperature\n",
      "Pr=0.703#\n",
      "K=0.0301   # in W/mK\n",
      "T=1.8*10**-5       # in m**2/s\n",
      "g=9.81#\n",
      "del_T=T_s-T_infinite#\n",
      "Gr=(g*Bita*del_T*x**3)/T**2#\n",
      "Ra=Gr*Pr#\n",
      "print \"Rayleigh Number is = %0.2e\" %Ra\n",
      "#Since Ra<10**9, hence flow is laminar, then correlation for vertical plate in laminar flow\n",
      "# Formula Nu=0.59*Ra**(1/4)=h*x/K\n",
      "h=0.59*Ra**(1/4)*K/x   # in W/m**2K\n",
      "A=2*.3*.5#\n",
      "q1=h*A*(T_s-T_infinite)#\n",
      "print \"Heat transfer rate from the plate, when the vertical height is 0.3 m :\",round(q1,3),\"W\"\n",
      "\n",
      "#(ii) when\n",
      "x=0.5   # in m\n",
      "Gr=(g*Bita*del_T*x**3)/T**2#\n",
      "Ra=Gr*Pr#\n",
      "# Formula Nu=0.59*Ra**(1/4)=h*x/K\n",
      "h=0.59*Ra**(1/4)*K/x   # in W/m**2K\n",
      "q2=h*A*(T_s-T_infinite)#\n",
      "print \"Heat transfer rate from the plate, when the vertical height is 0.5 m :\",round(q2,3),\"W\"\n",
      "PercentageDecrease=(q1-q2)/q1*100#\n",
      "print \"Percentage decreases in heat transfer rate when x=0.5 m as compared to when x=0.3 m is :\",round(PercentageDecrease,3),\"%\"\n",
      "\n",
      "#Note : In the book ,In part (b), calculation of getting the value of h is wrong "
     ],
     "language": "python",
     "metadata": {},
     "outputs": [
      {
       "output_type": "stream",
       "stream": "stdout",
       "text": [
        "Rayleigh Number is = 1.19e+08\n",
        "Heat transfer rate from the plate, when the vertical height is 0.3 m : 129.844 W\n",
        "Heat transfer rate from the plate, when the vertical height is 0.5 m : 114.277 W\n",
        "Percentage decreases in heat transfer rate when x=0.5 m as compared to when x=0.3 m is : 11.989 %\n"
       ]
      }
     ],
     "prompt_number": 10
    },
    {
     "cell_type": "heading",
     "level": 2,
     "metadata": {},
     "source": [
      "Example No :  6.2 - Page : 178"
     ]
    },
    {
     "cell_type": "code",
     "collapsed": false,
     "input": [
      "# given data\n",
      "Pr=0.694#\n",
      "K=0.0296   # in W/mK\n",
      "rho=1.029   # in kg/m**3\n",
      "miu=20.6*10**-6   # in poise\n",
      "x=.2   # in m\n",
      "T_s=110   # in degree C\n",
      "T_infinite=30   # in degree C\n",
      "T_f=(T_s+T_infinite)/2   # in degree C\n",
      "T_f=T_f+273   # in K\n",
      "Bita=1/T_f#\n",
      "g=9.81#\n",
      "del_T=T_s-T_infinite#\n",
      "Gr=(rho**2*g*Bita*del_T*x**3)/miu**2#\n",
      "Ra=Gr*Pr#\n",
      "#since Rayleigh number is less than 10**10, hence\n",
      "Nu=0.68*Pr**(1/2)*Gr**(1/4)/((.952+Pr)**(1/4))#\n",
      "h=Nu*K/x#\n",
      "A=2*0.2*1#\n",
      "q=h*A*(T_s-T_infinite)#\n",
      "print \"Heat transfer rate is :\",round(q,1),\"W\""
     ],
     "language": "python",
     "metadata": {},
     "outputs": [
      {
       "output_type": "stream",
       "stream": "stdout",
       "text": [
        "Heat transfer rate is : 194.7 W\n"
       ]
      }
     ],
     "prompt_number": 11
    },
    {
     "cell_type": "heading",
     "level": 2,
     "metadata": {},
     "source": [
      "Example No :  6.3 - Page : 179"
     ]
    },
    {
     "cell_type": "code",
     "collapsed": false,
     "input": [
      "from numpy import pi\n",
      "# given data\n",
      "d=7.5*10**-2   # in m\n",
      "x=2   # in m\n",
      "T_s=70   # in degree C\n",
      "T_infinite=10   # in degree C\n",
      "del_T=T_s-T_infinite#\n",
      "g=9.81#\n",
      "calculation=4.5*10**10# # value of g*Bita*rho**2*C_p/(miu*k)\n",
      "K=2.75*10**-2   # in W/mK\n",
      "# g*Bita*rho**2*C_p/(miu*k) = g*Bita*rho**2/miu**2 * miu*C_p/k = (g*Bita*del_T*x**3/T**2 * miu*C_p/k)/(del_T*x**3)\n",
      "GrxPr= calculation*del_T*x**3# # value of Gr*Pr\n",
      "Nu= 0.13*(GrxPr)**(1/3)#\n",
      "# Formula Nu = h*x/k\n",
      "h= Nu*K/x   # in W/m**2K\n",
      "A=2*pi*d#\n",
      "q=h*A*(del_T)   # in W\n",
      "q=q*60*60   # in J/h\n",
      "print \"Heat transfer rate = %0.3e J/h\" %q"
     ],
     "language": "python",
     "metadata": {},
     "outputs": [
      {
       "output_type": "stream",
       "stream": "stdout",
       "text": [
        "Heat transfer rate = 5.067e+06 J/h\n"
       ]
      }
     ],
     "prompt_number": 12
    },
    {
     "cell_type": "heading",
     "level": 2,
     "metadata": {},
     "source": [
      "Example No :  6.4 - Page : 180"
     ]
    },
    {
     "cell_type": "code",
     "collapsed": false,
     "input": [
      "from math import log\n",
      "# given data\n",
      "m=15   # in kg\n",
      "C_p=420   # in J/kg K\n",
      "T_s=200   # in degree C\n",
      "T_infinite=30   # in degree C\n",
      "T_f=(T_s+T_infinite)/2   # in degree C\n",
      "T_f=T_f+273   # in K\n",
      "Pr=0.688#\n",
      "K=0.0321   # in W/mK\n",
      "delta=23.18*10**-6   # in m**2/s\n",
      "Bita=1/T_f#\n",
      "g=9.81#\n",
      "x=0.3   # in m\n",
      "del_T=T_s-T_infinite#\n",
      "Gr=(g*Bita*del_T*x**3)/delta**2#\n",
      "Ra=Gr*Pr#\n",
      "#Since Ra<10**9, hence it is laminar flow using the relation\n",
      "# Formula Nu=0.59*Ra**(1/4)=h*x/K\n",
      "h=0.59*Ra**(1/4)*K/x   # in W/m**2K\n",
      "print \"(i) Heat transfer coefficient is :\",round(h,3),\"W/m**2K\"\n",
      "\n",
      "# (b) Initial rate of cooling\n",
      "# Formula h*A*(T_s-T_infinite) = m*C_p*dt_by_toh\n",
      "A=2*0.3*0.5#\n",
      "dt_by_toh = h*A*(T_s-T_infinite)/(m*C_p)   # in degree C/sec\n",
      "dt_by_toh=dt_by_toh*60   # in degree C /min\n",
      "print \"(ii) Initial rate of cooling of the plate is :\",round(dt_by_toh,3),\"degreeC per min\"\n",
      "\n",
      "#(c) Time taken by plate to cool from 200 degree C to 50 degree C\n",
      "T_i=200   # in degree C\n",
      "T=50   # in degree C\n",
      "# Formula (T-T_infinite)/(T_i-T_infinite)= %e**(-h*A*toh/(m*C_p))#\n",
      "toh= -log((T-T_infinite)/(T_i-T_infinite))*m*C_p/(h*A)   # in sec\n",
      "toh=toh/60   # in min\n",
      "print \"(iii) Time required to cool plate from 200 degree C to 50 degree C is :\",round(toh,2),\"minutes\""
     ],
     "language": "python",
     "metadata": {},
     "outputs": [
      {
       "output_type": "stream",
       "stream": "stdout",
       "text": [
        "(i) Heat transfer coefficient is : 6.97 W/m**2K\n",
        "(ii) Initial rate of cooling of the plate is : 3.385 degreeC per min\n",
        "(iii) Time required to cool plate from 200 degree C to 50 degree C is : 107.46 minutes\n"
       ]
      }
     ],
     "prompt_number": 13
    },
    {
     "cell_type": "heading",
     "level": 2,
     "metadata": {},
     "source": [
      "Example No :  6.5 - Page : 182"
     ]
    },
    {
     "cell_type": "code",
     "collapsed": false,
     "input": [
      "from numpy import pi\n",
      "# given data\n",
      "rho=0.8   # in kg/m**3#\n",
      "C_p=1.01   # in KJ/kg K\n",
      "Pr=0.684#\n",
      "d=15*10**-2   # diameter in meter\n",
      "K=0.035   # in W/mK\n",
      "delta=2.78*10**-5   # in m**2/s\n",
      "g=9.81#\n",
      "x=2   # in m\n",
      "T_s=250   # in degree C\n",
      "T_infinite=30   # in degree C\n",
      "T_f=(T_s+T_infinite)/2   # in degree C\n",
      "T_f=T_f+273   # in K\n",
      "Bita=1/T_f#\n",
      "del_T=T_s-T_infinite#\n",
      "#Heat loss from vertical part by free convection\n",
      "Gr=(g*Bita*del_T*x**3)/delta**2#\n",
      "Ra=Gr*Pr#\n",
      "#Since Ra>10**9, hence turbulent flow\n",
      "# Formula Nu= h*x/K =0.13*Ra**(1/3)\n",
      "h=0.13*Ra**(1/3)*K/x   # in W/m**2K\n",
      "A=2*pi*d#\n",
      "q1=h*A*del_T   # w\n",
      "q1=q1*10**-3   # in kW\n",
      "print \"Heat loss from vertical part is :\",round(q1,3),\"kW\"\n",
      "#Heat loss for Horizontal part\n",
      "# here\n",
      "x=d#\n",
      "Gr=(g*Bita*del_T*x**3)/delta**2#\n",
      "Ra=Gr*Pr#\n",
      "#Since Ra<10**9, hence laminar fluid flow\n",
      "# Formula Nu= h*x/K =0.53*Ra**(1/4)\n",
      "h=0.53*Ra**(1/4)*K/x   # in W/m**2K\n",
      "A=pi*d*8#\n",
      "q2=h*A*del_T   # w\n",
      "q2=q2*10**-3   # in kW\n",
      "print \"Heat loss for horizontal part is :\",round(q2,3),\"kW\"\n",
      "\n",
      "#Heat loss by radiation\n",
      "sigma=5.67*10**-8#\n",
      "epsilon=0.65   # emissivity of steel\n",
      "A=pi*d*10#\n",
      "T_s=T_s+273   # in K\n",
      "T_infinite=T_infinite+273   # in K\n",
      "q3=sigma*A*epsilon*(T_s**4-T_infinite**4)   # in w\n",
      "q3=q3*10**-3   # in kW\n",
      "print \"Heat loss by radiation is :\",round(q3,3),\"kW\"\n",
      "#Total heat loss\n",
      "theta=q1+q2+q3#\n",
      "print \"Total heat loss is :\",round(theta,3),\"kW\"\n",
      "\n",
      "\n",
      "#Note : value of q3 and theta in the book is wrong so answer in the book is wrong"
     ],
     "language": "python",
     "metadata": {},
     "outputs": [
      {
       "output_type": "stream",
       "stream": "stdout",
       "text": [
        "Heat loss from vertical part is : 1.572 kW\n",
        "Heat loss for horizontal part is : 6.447 kW\n",
        "Heat loss by radiation is : 11.53 kW\n",
        "Total heat loss is : 19.549 kW\n"
       ]
      }
     ],
     "prompt_number": 14
    },
    {
     "cell_type": "heading",
     "level": 2,
     "metadata": {},
     "source": [
      "Example No :  6.6 - Page : 183"
     ]
    },
    {
     "cell_type": "code",
     "collapsed": false,
     "input": [
      "# given data\n",
      "rho=1.205   # in kg/m**3#\n",
      "C_p=1006   # in J/kg K\n",
      "Pr=0.71#\n",
      "K=0.0256   # in W/mK\n",
      "delta=1.506*10**-5   # in m**2/s\n",
      "T_s=35   # in degree C\n",
      "T_infinite=5   # in degree C\n",
      "T_f=(T_s+T_infinite)/2   # in degree C\n",
      "T_f=T_f+273   # in K\n",
      "Bita=1/T_f#\n",
      "del_T=T_s-T_infinite#\n",
      "g=9.81#\n",
      "# Formula 1/x= 1/Lh + 1/Lv\n",
      "Lh=50   # in cm\n",
      "Lv=50   # in cm\n",
      "x=Lh*Lv/(Lh+Lv)   # in cm\n",
      "x=x*10**-2   # in m\n",
      "# Formula Gr=(g*Bita*del_T*x**3)/delta**2#\n",
      "Gr=(g*Bita*del_T*x**3)/delta**2#\n",
      "Ra=Gr*Pr#\n",
      "# Formula Nu= h*x/K =0.53*Ra**(1/4)\n",
      "h=0.53*Ra**(1/4)*K/x   # in W/m**2K\n",
      "A=2*(0.5+0.5)#\n",
      "q=h*A*del_T   # w\n",
      "print \"Heat loss per meter length of pipe is :\",round(q,3),\"watt\"\n",
      "\n",
      "# Note: In the book, value of h is wrong due to place miss value of x, so the answer in the book is wrong"
     ],
     "language": "python",
     "metadata": {},
     "outputs": [
      {
       "output_type": "stream",
       "stream": "stdout",
       "text": [
        "Heat loss per meter length of pipe is : 272.624 watt\n"
       ]
      }
     ],
     "prompt_number": 15
    },
    {
     "cell_type": "heading",
     "level": 2,
     "metadata": {},
     "source": [
      "Example No :  6.7 - Page : 184"
     ]
    },
    {
     "cell_type": "code",
     "collapsed": false,
     "input": [
      "from scipy.integrate import quad\n",
      "# given data\n",
      "L=3   # in m\n",
      "delta=0#\n",
      "hx='10*x**(-1/4)'\n",
      "# (a) Average heat transfer coefficient\n",
      "def integrand(x):\n",
      "    return 10*x**(-1/4)\n",
      "\n",
      "ans, err = quad(integrand, delta, L)\n",
      "\n",
      "h=1/L*ans\n",
      "print \"(a) Average heat transfer coefficient is :\",round(h,2),\"W/m**2K\"\n",
      "\n",
      "# (b) Heat transfer rate\n",
      "A=3*.3   # in m**2\n",
      "Tp=170   # plate temp. in degree C\n",
      "Tg=30   # gas temp. in degree C\n",
      "del_T=Tp-Tg#\n",
      "q=h*A*del_T   # in W\n",
      "print \"(b) Heat transfer rate is :\",round(q,3),\"W\"\n",
      "\n",
      "# (c) \n",
      "x=2   # in m\n",
      "qx_by_A= 10*x**(-1/4)*(Tp-Tg)#\n",
      "print \"Local heat flux 2 m from the leading edge is :\",round(qx_by_A,1),\"W/m**2\""
     ],
     "language": "python",
     "metadata": {},
     "outputs": [
      {
       "output_type": "stream",
       "stream": "stdout",
       "text": [
        "(a) Average heat transfer coefficient is : 10.13 W/m**2K\n",
        "(b) Heat transfer rate is : 1276.524 W\n",
        "Local heat flux 2 m from the leading edge is : 1177.3 W/m**2\n"
       ]
      }
     ],
     "prompt_number": 16
    },
    {
     "cell_type": "heading",
     "level": 2,
     "metadata": {},
     "source": [
      "Example No :  6.8 - Page : 185"
     ]
    },
    {
     "cell_type": "code",
     "collapsed": false,
     "input": [
      "from numpy import pi\n",
      "# given data\n",
      "Pr=0.712#\n",
      "K=0.026   # in W/mK\n",
      "delta=1.57*10**-5   # in m**2/s\n",
      "T_s=320   # in K\n",
      "T_infinite=280   # in K\n",
      "del_T=T_s-T_infinite#\n",
      "T_f=(T_s+T_infinite)/2   # in K\n",
      "Bita=1/T_f#\n",
      "d1=20   # in cm\n",
      "d2=30   # in cm\n",
      "x=(d2-d1)/2   # in cm\n",
      "x=x*10**-2   # in m\n",
      "g=9.81#\n",
      "Gr=(g*Bita*del_T*x**3)/delta**2#\n",
      "Ra=Gr*Pr#\n",
      "# Formula Nu= h*x/K =0.228*Ra**(0.226)\n",
      "h=0.228*Ra**(0.226)*K/x   # in W/m**2K\n",
      "A=pi*(d1*10**-2)**2#\n",
      "q=h*A*del_T   # w\n",
      "print \"Heat transfer rate is :\",round(q,1),\"watt\""
     ],
     "language": "python",
     "metadata": {},
     "outputs": [
      {
       "output_type": "stream",
       "stream": "stdout",
       "text": [
        "Heat transfer rate is : 11.4 watt\n"
       ]
      }
     ],
     "prompt_number": 17
    },
    {
     "cell_type": "heading",
     "level": 2,
     "metadata": {},
     "source": [
      "Example No :  6.9 - Page : 186"
     ]
    },
    {
     "cell_type": "code",
     "collapsed": false,
     "input": [
      "from numpy import pi\n",
      "# given data\n",
      "K=0.0278   # in W/mK\n",
      "rho=1.092   # in kg/m**3\n",
      "miu=19.57*10**-6   # in kg/ms\n",
      "Cp=1007   # in kg/kg degree C\n",
      "epsilon=0.9#\n",
      "sigma=5.67*10**-8#\n",
      "d=75+2*25   # in mm\n",
      "d=d*10**-3   # in meter\n",
      "T_s=80   # in degree C\n",
      "T_infinite=20   # in degree C\n",
      "T_f=(T_s+T_infinite)/2   # in degree C\n",
      "T_f=T_f+273   # in K\n",
      "Bita=1/T_f#\n",
      "g=9.81#\n",
      "del_T=T_s-T_infinite#\n",
      "Pr=miu*Cp/K#\n",
      "Gr=(rho**2*g*Bita*del_T*d**3)/miu**2#\n",
      "# Formula Nu= h*d/K = 0.53*(Gr*Pr)**(1/4)#\n",
      "h= 0.53*(Gr*Pr)**(1/4)*K/d#\n",
      "#(a) Heat loss from 6 m length of pipe\n",
      "A=pi*d*6#\n",
      "Q_conv=h*A*del_T#\n",
      "Q_rad=epsilon*sigma*A*((T_s+273)**4-(T_infinite+273)**4)#\n",
      "#total heat transfer rate\n",
      "Q=Q_conv+Q_rad#\n",
      "print \"Total heat transfer rate = %0.f W\" %Q\n",
      "\n",
      "# (b) Overall heat transfer coefficient\n",
      "# Formula Q=U*A*del_T\n",
      "U=Q/(A*del_T)#\n",
      "print \"Overall heat transfer coefficient is :\",round(U,3),\"W/m**2 degree C\""
     ],
     "language": "python",
     "metadata": {},
     "outputs": [
      {
       "output_type": "stream",
       "stream": "stdout",
       "text": [
        "Total heat transfer rate = 1863 W\n",
        "Overall heat transfer coefficient is : 13.178 W/m**2 degree C\n"
       ]
      }
     ],
     "prompt_number": 18
    }
   ],
   "metadata": {}
  }
 ]
}