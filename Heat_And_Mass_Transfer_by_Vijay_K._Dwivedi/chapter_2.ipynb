{
 "metadata": {
  "name": ""
 },
 "nbformat": 3,
 "nbformat_minor": 0,
 "worksheets": [
  {
   "cells": [
    {
     "cell_type": "heading",
     "level": 1,
     "metadata": {},
     "source": [
      "Chapter 02 - General Heat Conduction Equation"
     ]
    },
    {
     "cell_type": "heading",
     "level": 2,
     "metadata": {},
     "source": [
      "Example No :  2.5 - Page : 51"
     ]
    },
    {
     "cell_type": "code",
     "collapsed": false,
     "input": [
      "from __future__ import division\n",
      "from math import log, pi\n",
      "# given data\n",
      "r1=5   # in cm\n",
      "r2=5+4   # in cm\n",
      "r3= 9+2.5   # in cm\n",
      "k1=0.0701   # in W/mK\n",
      "k2=0.1   # in W/mK\n",
      "L=20   # in m\n",
      "T1=234.36   # in degree C\n",
      "T3=24   # in degree C\n",
      "sigmaR= (log(r2/r1)/(2*pi*k1*L) + log(r3/r2)/(2*pi*k2*L))#\n",
      "\n",
      "# Part (i)\n",
      "q=(T1-T3)/sigmaR   # in watt\n",
      "print \"Heat transfer rate = %0.3f watt\" %q\n",
      "\n",
      "# Part(ii)\n",
      "# Formula q= (T1-T2)/(log(r2/r1)/(2*pi*k1*L))\n",
      "T2 =T1- (q*(log(r2/r1)/(2*pi*k1*L)))#\n",
      "print \"Interface temperature of insulation = %0.3f degree\" %T2"
     ],
     "language": "python",
     "metadata": {},
     "outputs": [
      {
       "output_type": "stream",
       "stream": "stdout",
       "text": [
        "Heat transfer rate = 2439.473 watt\n",
        "Interface temperature of insulation = 71.585 degree\n"
       ]
      }
     ],
     "prompt_number": 16
    },
    {
     "cell_type": "heading",
     "level": 2,
     "metadata": {},
     "source": [
      "Example No :  2.6 - Page : 52"
     ]
    },
    {
     "cell_type": "code",
     "collapsed": false,
     "input": [
      "import math\n",
      "from numpy import pi\n",
      "# given data\n",
      "k_brick=0.93   # in W/mK\n",
      "k_insulation=0.12   # in W/mK\n",
      "k_wood=0.175   # in W/mK\n",
      "k_Al=204   # in W/mK\n",
      "k1=k_brick#\n",
      "k2=k_insulation#\n",
      "k3=k_wood#\n",
      "T1=200   # in degree C\n",
      "T4=10   # in degree C\n",
      "x1=10*10**-2   # in m\n",
      "x2=25*10**-2   # in m\n",
      "x3=1*10**-2   # in m\n",
      "A=0.1   # in m**2\n",
      "sigmaR= x1/(k1*A)+x2/(k2*A)+x3/(k3*A)#\n",
      "q1=(T1-T4)/sigmaR#\n",
      "print \"Heat transfer rate without rivet = %0.2f Watt\" %q1\n",
      "\n",
      "# Heat transfer rate with rivet\n",
      "d=3*10**-2   # in meter\n",
      "x=x1+x2+x3#\n",
      "k_rivet=k_Al#\n",
      "A_rivet=pi*d**2/4   # in m**2\n",
      "R_rivet= x/(k_rivet*A_rivet)#\n",
      "A_eff=A-A_rivet   # in m**2\n",
      "sigmaRw= 1/A_eff*(x1/k1+x2/k2+x3/k3)   # in k/W\n",
      "R_eq= R_rivet*sigmaRw/(R_rivet+sigmaRw)   # in k/W\n",
      "q2=(T1-T4)/R_eq   # in watt\n",
      "print \"Heat transfer rate with rivet = %0.3f Watt\" %q2\n",
      "percentIncrease=(q2-q1)*100/q1   # percent increase in heat flow due to rivet\n",
      "print \"Percentage increase in heat flow due to rivet = %0.f %%\" %math.ceil(percentIncrease)"
     ],
     "language": "python",
     "metadata": {},
     "outputs": [
      {
       "output_type": "stream",
       "stream": "stdout",
       "text": [
        "Heat transfer rate without rivet = 8.45 Watt\n",
        "Heat transfer rate with rivet = 84.497 Watt\n",
        "Percentage increase in heat flow due to rivet = 900 %\n"
       ]
      }
     ],
     "prompt_number": 18
    },
    {
     "cell_type": "heading",
     "level": 2,
     "metadata": {},
     "source": [
      "Example No :  2.7 - Page : 54"
     ]
    },
    {
     "cell_type": "code",
     "collapsed": false,
     "input": [
      "from numpy import pi\n",
      "# given data\n",
      "k_cu=384   # in W/mK\n",
      "k_s=1.75   # in W/mK\n",
      "k1=k_cu#\n",
      "k2=k_s#\n",
      "hi=221   #  in W/m**2K\n",
      "ho=3605   #  in W/m**2K\n",
      "Ti=100   # in degree C\n",
      "To=125   # in degree C\n",
      "r1=0.2   # in m\n",
      "r2=0.02+0.006   # in m\n",
      "r3=0.026+0.003   # in m\n",
      "ri=0.02   # in m\n",
      "L=1   # in m\n",
      "# Part(i)\n",
      "Ao= 2*pi*r3*L#\n",
      "Ai= 2*pi*r1*L#\n",
      "# Formula Uo= 1/Ao*sigmaR\n",
      "Uo= 1/(r3/(ri*hi) + r3/k1*log(r2/r1) + r3/k2*log(r3/r2) + 1/ho)  # in w/m**2K\n",
      "print \"Overall heat transfer coefficient based on outer area = %0.3f W/m**2K\" %Uo\n",
      "\n",
      "#Part(ii)\n",
      "del_T= To-Ti#\n",
      "q=Uo*Ao*del_T#\n",
      "print \"Water to air heat transfer rate = %0.3f W/m\" %q\n",
      "\n",
      "#Part (iii)\n",
      "# Formula q= T/(log(r3/r2)/(2*pi*k*L)) , where T=T2-T3 and k=k_s\n",
      "k=k_s#\n",
      "T= q*log(r3/r2)/(2*pi*k*L)#\n",
      "print \"Temperature drop across the scale deposited = %.3f degree C\" %T\n",
      "\n",
      "# Note: In Part (i), they put wrong value of r2 and r1 in log(r2/r1) to calculate the value of Uo. So there is some difference in answer of coding and book"
     ],
     "language": "python",
     "metadata": {},
     "outputs": [
      {
       "output_type": "stream",
       "stream": "stdout",
       "text": [
        "Overall heat transfer coefficient based on outer area = 117.730 W/m**2K\n",
        "Water to air heat transfer rate = 536.298 W/m\n",
        "Temperature drop across the scale deposited = 5.326 degree C\n"
       ]
      }
     ],
     "prompt_number": 16
    },
    {
     "cell_type": "heading",
     "level": 2,
     "metadata": {},
     "source": [
      "Example No :  2.8 - Page : 58"
     ]
    },
    {
     "cell_type": "code",
     "collapsed": false,
     "input": [
      "from math import sqrt\n",
      "# given data\n",
      "k=0.175   # in W/mK\n",
      "h_infinite=9.3   #  in W/m**2K\n",
      "T_infinite=30   # in degree C\n",
      "T_s=70   # in degree C\n",
      "d=10*10**-3   # in m\n",
      "r=d/2#\n",
      "L=1   # in m\n",
      "rc=k/h_infinite   # in m\n",
      "CriticalThickness = rc-r   # in meter\n",
      "CriticalThickness=CriticalThickness*10**3#\n",
      "print \"Critical thickness = %0.1f mm\" %CriticalThickness\n",
      "\n",
      "q1=2*pi*r*L*h_infinite*(T_s-T_infinite)   # in W/m\n",
      "q2= (T_s-T_infinite)/(log(rc/r)/(2*pi*k*L)+1/(2*pi*rc*h_infinite))   # in W/m\n",
      "PerIncHeatDiss= (q2-q1)*100/q1#\n",
      "print \"Percentage increase in heat dissipation rate = %0.3f %%\" %PerIncHeatDiss\n",
      "#Also q1=I1**2*R with bare cable\n",
      "#     q2=I2**2*R with insulated cable\n",
      "I2_by_I1 = sqrt(q2/q1)#\n",
      "# ( I2-I1 ) / I1 = (I2_by_I1 -1) / 1\n",
      "# Percentage increase in current carrying capacity\n",
      "PerIncCurrent = (I2_by_I1 -1) / 1 *100#\n",
      "print \"Increase in current carrying capacity = %0.f %%\" %math.floor(PerIncCurrent)"
     ],
     "language": "python",
     "metadata": {},
     "outputs": [
      {
       "output_type": "stream",
       "stream": "stdout",
       "text": [
        "Critical thickness = 13.8 mm\n",
        "Percentage increase in heat dissipation rate = 61.845 %\n",
        "Increase in current carrying capacity = 27 %\n"
       ]
      }
     ],
     "prompt_number": 21
    },
    {
     "cell_type": "heading",
     "level": 2,
     "metadata": {},
     "source": [
      "Example No :  2.9 - Page : 59"
     ]
    },
    {
     "cell_type": "code",
     "collapsed": false,
     "input": [
      "# given data\n",
      "k_in=0.3   # in W/mK\n",
      "k_gw=0.038   # in W/mK\n",
      "ro=1.5   # in cm\n",
      "ho=12   #  in W/m**2 degree C\n",
      "rc=k_in/ho   # in m\n",
      "rc=rc*10**2   # in cm\n",
      "print \"Critical radius = %0.1f cm\" %rc\n",
      "if ro<rc:\n",
      "    print \"Since radius of insulation (\",round(ro,3),\"cm) is less than critical radius of insulation (\",round(rc,3),\"cm)\"\n",
      "    print \"so heat transfer rate will increase by adding thsi insulation and hence it is not effective\"\n",
      "ro=ro*10**-2   # in meter\n",
      "# For effective insulation\n",
      "# ro>=rc\n",
      "# Kin/ho<= ro\n",
      "roho=ro*ho   # in W/mK\n",
      "# Kin<= ro*ho\n",
      "print \"Maximum value of thermal conductivity = %0.2f W/mK\" %roho"
     ],
     "language": "python",
     "metadata": {},
     "outputs": [
      {
       "output_type": "stream",
       "stream": "stdout",
       "text": [
        "Critical radius = 2.5 cm\n",
        "Since radius of insulation ( 1.5 cm) is less than critical radius of insulation ( 2.5 cm)\n",
        "so heat transfer rate will increase by adding thsi insulation and hence it is not effective\n",
        "Maximum value of thermal conductivity = 0.18 W/mK\n"
       ]
      }
     ],
     "prompt_number": 4
    },
    {
     "cell_type": "heading",
     "level": 2,
     "metadata": {},
     "source": [
      "Example No :  2.10 - Page : 60"
     ]
    },
    {
     "cell_type": "code",
     "collapsed": false,
     "input": [
      "from math import log\n",
      "# given data\n",
      "d=1.2*10**-3   # in m\n",
      "r=d/2   # in m\n",
      "rc=1.8*10**-3   # in m\n",
      "T1=100   # in degree C\n",
      "T_infinite=30   # in degree C\n",
      "k=0.3   # in W/mK\n",
      "h=10   # in W/m**2K\n",
      "L=1   # in m\n",
      "ke=5.1*10**7#\n",
      "q=(T1-T_infinite)/(log(rc/r)/(2*pi*k)+1/(2*pi*rc*h))   # in W/m\n",
      "# Volume of wire for one meter length\n",
      "vol= pi*r**2*L   # in m**3\n",
      "print \"In steady state heat transfer process, the heat produced by the wire is dissipated to surrounding.\"    \n",
      "# Heat produced per unit volume of the wire\n",
      "HeatProduced= q/vol   # in w/m**2\n",
      "# Formula HeatProduced= I**2*R = I**2/ke\n",
      "I=sqrt(HeatProduced*ke)   # in amp/m**2\n",
      "# Area of wire\n",
      "A= pi*r**2#\n",
      "# so current carrying capacity of the given wire\n",
      "Current= I*A#\n",
      "print \"The current carried by the copper wire = %0.3f amphere\" %Current"
     ],
     "language": "python",
     "metadata": {},
     "outputs": [
      {
       "output_type": "stream",
       "stream": "stdout",
       "text": [
        "In steady state heat transfer process, the heat produced by the wire is dissipated to surrounding.\n",
        "The current carried by the copper wire = 20.698 amphere\n"
       ]
      }
     ],
     "prompt_number": 15
    },
    {
     "cell_type": "heading",
     "level": 2,
     "metadata": {},
     "source": [
      "Example No :  2.11 - Page : 61"
     ]
    },
    {
     "cell_type": "code",
     "collapsed": false,
     "input": [
      "from math import log\n",
      "# given data\n",
      "d_i=.1   # inner dia in m\n",
      "r_i=d_i/2   # in m\n",
      "Ti=473   # in K\n",
      "T_infinite=293   # in K\n",
      "k=1   # in W/mK\n",
      "h=8   # in W/m**2K\n",
      "rc=k/h   # in m\n",
      "print \"Critical radius = %0.3f meter\" %rc\n",
      "#when\n",
      "ro=rc#\n",
      "q_by_L= (Ti-T_infinite)/(log(rc/r_i)/(2*pi*k)+1/(2*pi*rc*h))   # in W/m\n",
      "print \"Heat loss per meter length of pipe = %0.3f W/m\" %q_by_L\n",
      "\n",
      "# Note: To calculate the value of q_by_L the calculation is wrong in the book so answer in the book is wrong"
     ],
     "language": "python",
     "metadata": {},
     "outputs": [
      {
       "output_type": "stream",
       "stream": "stdout",
       "text": [
        "Critical radius = 0.125 meter\n",
        "Heat loss per meter length of pipe = 590.189 W/m\n"
       ]
      }
     ],
     "prompt_number": 14
    },
    {
     "cell_type": "heading",
     "level": 2,
     "metadata": {},
     "source": [
      "Example No :  2.12 - Page : 62"
     ]
    },
    {
     "cell_type": "code",
     "collapsed": false,
     "input": [
      "from numpy import pi\n",
      "# given data\n",
      "r1=100*10**-3   # in m\n",
      "r2=200*10**-3   # in m\n",
      "q1=1.16*10**5   # in W/m**2\n",
      "t2=30   # in degree C\n",
      "k=50   # in W/mK\n",
      "L=1   # in m\n",
      "# Total heat passing through the cylinder q\n",
      "#q=q1*2*pi*r1*L                     (1)\n",
      "# and heat conducted through the cylinder\n",
      "# q= 2*pi*k*L(t1-t2)/log(r2/r1)     (2)\n",
      "# From (1) and (2)\n",
      "t1= t2+ q1*2*pi*r1*L*log(r2/r1)/(2*pi*k*L)   # in degree C\n",
      "print \"Temperature of inner surface = %0.2f degree C\" %t1"
     ],
     "language": "python",
     "metadata": {},
     "outputs": [
      {
       "output_type": "stream",
       "stream": "stdout",
       "text": [
        "Temperature of inner surface = 190.81 degree C\n"
       ]
      }
     ],
     "prompt_number": 13
    },
    {
     "cell_type": "heading",
     "level": 2,
     "metadata": {},
     "source": [
      "Example No :  2.13 - Page : 62"
     ]
    },
    {
     "cell_type": "code",
     "collapsed": false,
     "input": [
      "from math import log\n",
      "# given data\n",
      "d1=1*10**-3   # in m\n",
      "d2=3*10**-3   # in m\n",
      "r1=d1/2#\n",
      "r2=d2/2#\n",
      "kp=384   # in W/mK\n",
      "kw=0.35   # in W/mK\n",
      "rho=1.96*10**-8   # in Wm\n",
      "t_s=95   # in degree C\n",
      "t_infinite=40   # in degree C\n",
      "h=8.75   # in W/m**2K\n",
      "q_by_L= (t_s-t_infinite)/(log(r2/r1)/(2*pi*kp)+1/(2*pi*r2*h))#\n",
      "# Also q_by_L = I**2*R/L = I**2*rho/(pi/4*d**2)\n",
      "I= sqrt(q_by_L*(pi/4*d1**2)/rho)   # in amp\n",
      "print \"The maximum steady state current = %0.3f amphere\" %I"
     ],
     "language": "python",
     "metadata": {},
     "outputs": [
      {
       "output_type": "stream",
       "stream": "stdout",
       "text": [
        "The maximum steady state current = 13.481 amphere\n"
       ]
      }
     ],
     "prompt_number": 12
    },
    {
     "cell_type": "heading",
     "level": 2,
     "metadata": {},
     "source": [
      "Example No :  2.16 - Page : 66"
     ]
    },
    {
     "cell_type": "code",
     "collapsed": false,
     "input": [
      "from math import log, sqrt\n",
      "from math import pi\n",
      "from __future__ import division\n",
      "# given data\n",
      "d1=10*10**-3   # in mm\n",
      "r1=d1/2#\n",
      "K=0.2   # in W/mK\n",
      "T_max=177   # in degree C\n",
      "T_infinite=27   # in degree C\n",
      "ho=10   # in W/m**2K\n",
      "R=10# # in W/m\n",
      "rc=K/ho   # in m\n",
      "x=rc-r1   # in m\n",
      "q_by_L= (T_max-T_infinite)/(log(rc/r1)/(2*pi*K)+1/(2*pi*ho*rc))#\n",
      "# Also q_by_L = I**2*R\n",
      "I= sqrt(q_by_L/R)   # in amp\n",
      "print \"The maximum possible current = %0.3f amphere\" %I\n",
      "\n",
      "# Note: Answer in the book is wrong"
     ],
     "language": "python",
     "metadata": {},
     "outputs": [
      {
       "output_type": "stream",
       "stream": "stdout",
       "text": [
        "The maximum possible current = 2.811 amphere\n"
       ]
      }
     ],
     "prompt_number": 11
    }
   ],
   "metadata": {}
  }
 ]
}