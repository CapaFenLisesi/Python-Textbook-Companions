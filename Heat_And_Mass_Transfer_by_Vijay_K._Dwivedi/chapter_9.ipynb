{
 "metadata": {
  "name": ""
 },
 "nbformat": 3,
 "nbformat_minor": 0,
 "worksheets": [
  {
   "cells": [
    {
     "cell_type": "heading",
     "level": 1,
     "metadata": {},
     "source": [
      "Chapter 9 - Condensation And Boiling"
     ]
    },
    {
     "cell_type": "heading",
     "level": 2,
     "metadata": {},
     "source": [
      "Example No :  9.1 Page No : 277"
     ]
    },
    {
     "cell_type": "code",
     "collapsed": false,
     "input": [
      "from numpy import pi\n",
      "from __future__ import division\n",
      "# given data\n",
      "h_fg=2256*10**3   # in J/kg\n",
      "rho=970   # in kg/m**3\n",
      "rho_v=0.596   # in kg/m**3\n",
      "k=0.66   # in W/mK\n",
      "miu=3.7*10**-4   # in kg/m-s\n",
      "T_sat=100   # in degree C\n",
      "T_s=40   # in degree C\n",
      "L=1.5   # in m\n",
      "d=0.09   # in m\n",
      "g=9.81#\n",
      "# heat transfer coefficient\n",
      "#h_bar = 1.13*[ rho*g*(rho-rho_v)*h_fg*k**3/(miu*L*(T_sat-T_s))]**(1/4)   # in W/m**2k\n",
      "h_bar= 1.13*(rho*g*(rho-rho_v)*h_fg*k**3/(miu*L*(T_sat-T_s)))**(1/4)#\n",
      "# heat transfer rate\n",
      "q=h_bar*pi*d*L*(T_sat-T_s)   # in watt\n",
      "print \"Heat transfer rate = %0.3f kW\" %(q*10**-3)\n",
      "#rate of condensation\n",
      "m=q/h_fg   # in kg/s\n",
      "print \"Rate of condenstion = %0.4f kg/s\" %m"
     ],
     "language": "python",
     "metadata": {},
     "outputs": [
      {
       "output_type": "stream",
       "stream": "stdout",
       "text": [
        "Heat transfer rate = 105.276 kW\n",
        "Rate of condenstion = 0.0467 kg/s\n"
       ]
      }
     ],
     "prompt_number": 6
    },
    {
     "cell_type": "heading",
     "level": 2,
     "metadata": {},
     "source": [
      "Example No :  9.2 Page No : 278"
     ]
    },
    {
     "cell_type": "code",
     "collapsed": false,
     "input": [
      "from numpy import pi\n",
      "from __future__ import division\n",
      "# given data\n",
      "h_fg=2310*10**3   # in J/kg\n",
      "rho=980   # in kg/m**3\n",
      "k=0.67   # in W/mK\n",
      "Cp=4.18#\n",
      "delta=.41*10**-6   # in m**2/s\n",
      "miu=rho*delta#\n",
      "T_sat=70   # in degree C\n",
      "T_s=55   # in degree C\n",
      "L=1   # in m\n",
      "d=0.03   # in m\n",
      "g=9.81#\n",
      "N=5#\n",
      "# (a) for Horizontal tube\n",
      "h_bar = 0.725*(rho**2*g*h_fg*k**3/(N*miu*d*(T_sat-T_s)))**(1/4)   # in W/m**2k\n",
      "# heat transfer rate\n",
      "q=h_bar*pi*d*L*N**2*(T_sat-T_s)   # in watt\n",
      "print \"Heat transfer rate for horizontal tube = %0.3f kW\" %(q*10**-3)\n",
      "#rate of condensation\n",
      "m=q/h_fg   # in kg/s\n",
      "print \"Rate of condenstion = %0.3f kg/s\" %m\n",
      "\n",
      "# (b) For Vertical tube\n",
      "h_bar = 1.13*(rho**2*g*h_fg*k**3/(miu*L*(T_sat-T_s)))**(1/4)   # in W/m**2k\n",
      "# heat transfer rate\n",
      "q=h_bar*pi*d*L*N**2*(T_sat-T_s)   # in watt\n",
      "print \"Heat transfer rate for vertical tube = %0.3f kW\" %(q*10**-3)\n",
      "#rate of condensation\n",
      "m=q/h_fg   # in kg/s\n",
      "print \"Rate of condenstion = %0.3f kg/s\" %m"
     ],
     "language": "python",
     "metadata": {},
     "outputs": [
      {
       "output_type": "stream",
       "stream": "stdout",
       "text": [
        "Heat transfer rate for horizontal tube = 236.364 kW\n",
        "Rate of condenstion = 0.102 kg/s\n",
        "Heat transfer rate for vertical tube = 229.269 kW\n",
        "Rate of condenstion = 0.099 kg/s\n"
       ]
      }
     ],
     "prompt_number": 5
    },
    {
     "cell_type": "heading",
     "level": 2,
     "metadata": {},
     "source": [
      "Example No :  9.3 Page No : 280"
     ]
    },
    {
     "cell_type": "code",
     "collapsed": false,
     "input": [
      "from numpy import pi\n",
      "# given data\n",
      "h_fg=2392*10**3   # in J/kg\n",
      "rho=993   # in kg/m**3\n",
      "k=0.63   # in W/mK\n",
      "miu=728*10**-6   # in kJ/m-s\n",
      "N=10#\n",
      "T_sat=45.7   # in degree C\n",
      "T_s=25   # in degree C\n",
      "d=4*10**-3   # in m\n",
      "g=9.81#\n",
      "h_bar = 0.725*(rho**2*g*h_fg*k**3/(N*miu*d*(T_sat-T_s)))**(1/4)   # in W/m**2k\n",
      "m=300/(60*60)#\n",
      "# Formula m=q/h_fg\n",
      "q=m*h_fg#\n",
      "print \"Heat transfer rate = %0.3f kW\" %(q*10**-3)\n",
      "# Formula q=h_bar*pi*d*L*N**2*(T_sat-T_s)\n",
      "L=q/(h_bar*pi*d*N**2*(T_sat-T_s))#\n",
      "print \"Length of tube = %0.3f m\" %L\n",
      "\n",
      "# Note: Answer in the book is wrong"
     ],
     "language": "python",
     "metadata": {},
     "outputs": [
      {
       "output_type": "stream",
       "stream": "stdout",
       "text": [
        "Heat transfer rate = 199.333 kW\n",
        "Length of tube = 1.068 m\n"
       ]
      }
     ],
     "prompt_number": 4
    },
    {
     "cell_type": "heading",
     "level": 2,
     "metadata": {},
     "source": [
      "Example No :  9.4 Page No : 280"
     ]
    },
    {
     "cell_type": "code",
     "collapsed": false,
     "input": [
      "from math import sin\n",
      "from numpy import pi\n",
      "# given data\n",
      "h_fg=2400*10**3   # in J/kg\n",
      "rho=993   # in kg/m**3\n",
      "rho_v=0.0563   # in kg/m**3\n",
      "t_mf=(40+30)/2   # in degree C\n",
      "k=0.625   # in W/mK\n",
      "miu=728*10**-6   # in kJ/m-s\n",
      "x=0.25#\n",
      "T_sat=40   # in degree C\n",
      "T_s=30   # in degree C\n",
      "g=9.81#\n",
      "\n",
      "# (a) Thickness of condensate film\n",
      "delta=(4*k*(T_sat-T_s)*miu*x/(rho*(rho-rho_v)*g*h_fg))**(1/4)   # in meter\n",
      "print \"Thickness of condensate film = %0.5f mm\" %(delta*10**3)\n",
      "\n",
      "#(b) Local value of heat transfer coefficient\n",
      "hx=k/delta   # in W/m**2\n",
      "L=0.5   # in m\n",
      "hm=4/3*(L/x)**(1/4)*hx#\n",
      "print \"Average heat transfer coefficient = %0.1f W/m**2\" %hm\n",
      "# The heat transfer rate\n",
      "A=0.5*0.5   # in m**2\n",
      "q=hm*A*(T_sat-T_s)   # in watt\n",
      "print \"The heat transfer rate = %0.2f kW\" %(q*10**-3)\n",
      "\n",
      "# (c) \n",
      "theta=45   # in degree\n",
      "h_vertical=hm#\n",
      "h_inclined=h_vertical*(sin(theta*pi/180))**(1/4)#\n",
      "print \"Average heat transfer coefficient when plate is inclined at 45 degree = %0.1f W/m**2K\" %h_inclined"
     ],
     "language": "python",
     "metadata": {},
     "outputs": [
      {
       "output_type": "stream",
       "stream": "stdout",
       "text": [
        "Thickness of condensate film = 0.11832 mm\n",
        "Average heat transfer coefficient = 8375.5 W/m**2\n",
        "The heat transfer rate = 20.94 kW\n",
        "Average heat transfer coefficient when plate is inclined at 45 degree = 7680.4 W/m**2K\n"
       ]
      }
     ],
     "prompt_number": 14
    },
    {
     "cell_type": "heading",
     "level": 2,
     "metadata": {},
     "source": [
      "Example No :  9.5 Page No : 282"
     ]
    },
    {
     "cell_type": "code",
     "collapsed": false,
     "input": [
      "#given correlataion\n",
      "#h_A=5.56*(det_T)**3\n",
      "#h_P=h_A*(rho/rho_a)**0.4\n",
      "del_T=25   # in degree C\n",
      "h_A=5.56*(del_T)**3   # in W/m**2K\n",
      "print \"The heat transfer coefficient = %0.3f kW/m**2K\" %(h_A*10**-3)\n",
      "# and at 20 bar\n",
      "rho=20#\n",
      "rho_a=1#\n",
      "h_P=h_A*(rho/rho_a)**0.4   # in W/m**2\n",
      "print \"Value of h_P = %0.1f kW/m**2\" %(h_P*10**-3)"
     ],
     "language": "python",
     "metadata": {},
     "outputs": [
      {
       "output_type": "stream",
       "stream": "stdout",
       "text": [
        "The heat transfer coefficient = 86.875 kW/m**2K\n",
        "Value of h_P = 287.9 kW/m**2\n"
       ]
      }
     ],
     "prompt_number": 3
    }
   ],
   "metadata": {}
  }
 ]
}