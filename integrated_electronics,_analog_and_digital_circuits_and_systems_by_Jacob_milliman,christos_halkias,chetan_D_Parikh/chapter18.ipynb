{
 "metadata": {
  "name": "",
  "signature": "sha256:7930266f5d408f1bebdbc868747937078647eb777673750aedb4bd9706e4de30"
 },
 "nbformat": 3,
 "nbformat_minor": 0,
 "worksheets": [
  {
   "cells": [
    {
     "cell_type": "heading",
     "level": 1,
     "metadata": {},
     "source": [
      "Chapter 18 Power circuits and systems"
     ]
    },
    {
     "cell_type": "heading",
     "level": 2,
     "metadata": {},
     "source": [
      "Example 18.2 Page no 758"
     ]
    },
    {
     "cell_type": "code",
     "collapsed": false,
     "input": [
      "#Given\n",
      "P=5                  #mW\n",
      "R=100.0                #ohm\n",
      "I1=12                   #mA\n",
      "Imax=4                 #mA\n",
      "\n",
      "#Calculation\n",
      "import math\n",
      "Im=(P*2/R)*10**2\n",
      "I=Imax+2*I1\n",
      "I2=2*Im\n",
      "Imax1=I2+Imax\n",
      "Imin=I-Imax1\n",
      "\n",
      "#Result\n",
      "print\"The peak collector current is \", Imax1,\"mA\""
     ],
     "language": "python",
     "metadata": {},
     "outputs": [
      {
       "output_type": "stream",
       "stream": "stdout",
       "text": [
        "The peak collector current is  24.0 mA\n"
       ]
      }
     ],
     "prompt_number": 18
    },
    {
     "cell_type": "heading",
     "level": 2,
     "metadata": {},
     "source": [
      "Example 18.3 Page no 764"
     ]
    },
    {
     "cell_type": "code",
     "collapsed": false,
     "input": [
      "#Given\n",
      "Imax=1.78                         #A\n",
      "Imin=0.52                          #A\n",
      "Ic=1.1                           #mA\n",
      "\n",
      "#Calculation\n",
      "D2=(Imax+Imin-2*Ic)/(4*(Imax-Imin))\n",
      "\n",
      "#Result\n",
      "print\"second harmonic distortion is \", round(D2,2)"
     ],
     "language": "python",
     "metadata": {},
     "outputs": [
      {
       "output_type": "stream",
       "stream": "stdout",
       "text": [
        "second harmonic distortion is  0.02\n"
       ]
      }
     ],
     "prompt_number": 21
    },
    {
     "cell_type": "heading",
     "level": 2,
     "metadata": {},
     "source": [
      "Example 18.4 Page no 765"
     ]
    },
    {
     "cell_type": "code",
     "collapsed": false,
     "input": [
      "#Given\n",
      "Imax=-1.78                     #A\n",
      "Imin=-0.52                      #A\n",
      "Vmax=-13                        #v\n",
      "Vmin=-0.8                       #V\n",
      "Ic1=-1.1                         #A\n",
      "V=-7.5                          #V\n",
      "\n",
      "#Calculation\n",
      "import math\n",
      "Ic=(Imax-Imin)/(2.0*math.sqrt(2))\n",
      "Vc=(Vmax-Vmin)/(2.0*math.sqrt(2))\n",
      "Pd=V*Ic1-Vc*Ic\n",
      "\n",
      "#Result\n",
      "print\"Power dissipated by the transistor is \", round(Pd,2),\"W\""
     ],
     "language": "python",
     "metadata": {},
     "outputs": [
      {
       "output_type": "stream",
       "stream": "stdout",
       "text": [
        "Power dissipated by the transistor is  6.33 W\n"
       ]
      }
     ],
     "prompt_number": 13
    },
    {
     "cell_type": "heading",
     "level": 2,
     "metadata": {},
     "source": [
      "Example 18.5 Page no 766"
     ]
    },
    {
     "cell_type": "code",
     "collapsed": false,
     "input": [
      "#Given\n",
      "Vc=-4.31                    #V\n",
      "Ic1=-0.44                     #A\n",
      "V=-7.5                      #V\n",
      "Ic=-1.1                     #A\n",
      "\n",
      "#Calculation\n",
      "n=Vc*Ic1/(V*Ic)*100\n",
      "\n",
      "#Result\n",
      "print\"Conversion efficiency is \", round(n,0),\"%\""
     ],
     "language": "python",
     "metadata": {},
     "outputs": [
      {
       "output_type": "stream",
       "stream": "stdout",
       "text": [
        "Conversion efficiency is  23.0 %\n"
       ]
      }
     ],
     "prompt_number": 17
    },
    {
     "cell_type": "heading",
     "level": 2,
     "metadata": {},
     "source": [
      "Example 18.6 Page no 773"
     ]
    },
    {
     "cell_type": "code",
     "collapsed": false,
     "input": [
      "#Given\n",
      "R2=1.8                     #K\n",
      "R1=10                       #K\n",
      "Vcc=9                        #V\n",
      "Vbe=0.65                      #V\n",
      "B=20\n",
      "Re=0.018                     #K\n",
      "\n",
      "#Calculation\n",
      "Vbb=R2/(R1+R2)*Vcc\n",
      "Rb=R1*R2/(R1+R2)\n",
      "Ib=((Vbb-2*Vbe)/(Rb+(1+B)*Re))*10**3\n",
      "Ic=B*Ib\n",
      "\n",
      "#Result\n",
      "print\"The value of base current is \",round(Ib,0),\"micro A\"\n",
      "print\"The collector current is \", round(Ic,0)"
     ],
     "language": "python",
     "metadata": {},
     "outputs": [
      {
       "output_type": "stream",
       "stream": "stdout",
       "text": [
        "The value of base current is  38.0 micro A\n",
        "The collector current is  766.0\n"
       ]
      }
     ],
     "prompt_number": 113
    },
    {
     "cell_type": "heading",
     "level": 2,
     "metadata": {},
     "source": [
      "Example 18.7 Page no 774"
     ]
    },
    {
     "cell_type": "code",
     "collapsed": false,
     "input": [
      "#Given\n",
      "R1=11\n",
      "R2=100.0\n",
      "Vbe=0.6\n",
      "Av=5000\n",
      "\n",
      "#Calculation\n",
      "V1=(1+R1/R2)*(Vbe/Av)\n",
      "\n",
      "#Result\n",
      "print\"The V1 necessary to just turn Q1 on\", round(V1*10**6,0),\"micro V\""
     ],
     "language": "python",
     "metadata": {},
     "outputs": [
      {
       "output_type": "stream",
       "stream": "stdout",
       "text": [
        "The V1 necessary to just turn Q1 on 133.0 micro V\n"
       ]
      }
     ],
     "prompt_number": 42
    },
    {
     "cell_type": "heading",
     "level": 2,
     "metadata": {},
     "source": [
      "Example 18.10 Page no 780"
     ]
    },
    {
     "cell_type": "code",
     "collapsed": false,
     "input": [
      "#Given\n",
      "Vo=25\n",
      "Vr=15\n",
      "Id=10.0\n",
      "Ic2=10                  \n",
      "Hfe2=220.0\n",
      "Vbe=0.7                 #volts\n",
      "Vr=15                   #volts\n",
      "L1=10*10**-3\n",
      "A=1000\n",
      "B=10\n",
      "C=10\n",
      "Hfe1=125                 #ohm\n",
      "Vi=50\n",
      "L=18*10**-3\n",
      "n=2.50\n",
      "g=1.57\n",
      "t=584\n",
      "r=800\n",
      "e=201\n",
      "d=12\n",
      "v=200\n",
      "p=20\n",
      "j=101\n",
      "Il=1                     #A\n",
      "\n",
      "#Calculation\n",
      "Rd=(Vo-Vr)/Id\n",
      "Ib2=Ic2/Hfe2\n",
      "V2=Vbe+Vr\n",
      "R1=(Vo-V2)/L1\n",
      "R2=V2/L1\n",
      "Ib1=(A+B+C)/Hfe1\n",
      "R3=(Vi-(Vbe+Vo))/L\n",
      "Sv=(n/g)*((t+r+e*d)/(v*R3))\n",
      "Gm=1/(Sv*R3) \n",
      "R0=(Id+(R3+p)/j)/(1+Gm*(R3+Id))\n",
      "V01=Sv*10+R0*Il\n",
      "\n",
      "#Result\n",
      "print\"(a) Rd=\",Rd,\"K\\nIb2=\",round(Ib2*10**3,0),\"micro A\\nR1=\",R1,\"ohm\\nR2=\",R2,\"ohm\\nR3=\",R3,\"ohm\"\n",
      "print\"(b) The input regulation factor\", round(Sv,3)\n",
      "print\"(c) The output resistance\", round(R0,2), \"ohm\"\n",
      "print\"(d) The change in output voltage\", round(V01,2), \"v\""
     ],
     "language": "python",
     "metadata": {},
     "outputs": [
      {
       "output_type": "stream",
       "stream": "stdout",
       "text": [
        "(a) Rd= 1.0 K\n",
        "Ib2= 45.0 micro A\n",
        "R1= 930.0 ohm\n",
        "R2= 1570.0 ohm\n",
        "R3= 1350.0 ohm\n",
        "(b) The input regulation factor 0.022\n",
        "(c) The output resistance 0.51 ohm\n",
        "(d) The change in output voltage 0.74 v\n"
       ]
      }
     ],
     "prompt_number": 96
    },
    {
     "cell_type": "heading",
     "level": 2,
     "metadata": {},
     "source": [
      "Example 18.13 Page no 794"
     ]
    },
    {
     "cell_type": "code",
     "collapsed": false,
     "input": [
      "#Given\n",
      "a=45                        #Degree\n",
      "b=360.0\n",
      "Vb=32                       #V\n",
      "Vh=10                       #V\n",
      "C=0.1*10**-6                #ohm\n",
      "A=25.2*10**-3\n",
      "V=60                        #V\n",
      "\n",
      "#Calculation\n",
      "Q=b-a\n",
      "td=Q/b*1/60.0\n",
      "R=A/C\n",
      "Ih=(V-Vh)/R\n",
      "\n",
      "#Result\n",
      "print\"The value of R=\", R*10**-3,\"K\""
     ],
     "language": "python",
     "metadata": {},
     "outputs": [
      {
       "output_type": "stream",
       "stream": "stdout",
       "text": [
        "The value of R= 252.0 K\n"
       ]
      }
     ],
     "prompt_number": 106
    }
   ],
   "metadata": {}
  }
 ]
}