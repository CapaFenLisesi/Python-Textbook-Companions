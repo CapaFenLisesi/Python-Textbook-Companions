{
 "metadata": {
  "name": "",
  "signature": "sha256:94d2de739cf962b085298968f760f61abc23fdd652158466061d92f2ad9a9b5b"
 },
 "nbformat": 3,
 "nbformat_minor": 0,
 "worksheets": [
  {
   "cells": [
    {
     "cell_type": "heading",
     "level": 1,
     "metadata": {},
     "source": [
      "Chapter 14 Stability and Oscillators"
     ]
    },
    {
     "cell_type": "heading",
     "level": 2,
     "metadata": {},
     "source": [
      "Example 14.2 Page no 517"
     ]
    },
    {
     "cell_type": "code",
     "collapsed": false,
     "input": [
      "#Given\n",
      "B=100\n",
      "b=400.0\n",
      "w1=1\n",
      "\n",
      "#Calculation\n",
      "A=1+B\n",
      "A0=(A*w1)**2/(b*w1**2)-1\n",
      "\n",
      "#Result\n",
      "print\"The required value of A0=\", round(A0,1)"
     ],
     "language": "python",
     "metadata": {},
     "outputs": [
      {
       "output_type": "stream",
       "stream": "stdout",
       "text": [
        "The required value of A0= 24.5\n"
       ]
      }
     ],
     "prompt_number": 7
    },
    {
     "cell_type": "heading",
     "level": 2,
     "metadata": {},
     "source": [
      "Example 14.6 Page no 529"
     ]
    },
    {
     "cell_type": "code",
     "collapsed": false,
     "input": [
      "#Given\n",
      "n=9.92\n",
      "B=17.4\n",
      "Q=1.20\n",
      "w1=45.9\n",
      "w2=4.62\n",
      "a=6.28\n",
      "b=0.174\n",
      "K=0.417\n",
      "\n",
      "#Calculation\n",
      "import math\n",
      "Q=math.sqrt(n/(n+1)**2*B)\n",
      "w0=Q*(w1+w2)\n",
      "fpeak=w0/a*math.sqrt(1-2*b)\n",
      "A=1/(2.0*K*math.sqrt(1-K**2))\n",
      "A1=math.log(A)*10**1\n",
      "\n",
      "#Result\n",
      "print\"(a) The value of Q=\",round(Q,2)\n",
      "print\"(b) The frequency response peaks is \",round(A,2)\n",
      "print\"(c) The frequency response peaks at DB is \",round(A1,1),\"DB\""
     ],
     "language": "python",
     "metadata": {},
     "outputs": [
      {
       "output_type": "stream",
       "stream": "stdout",
       "text": [
        "(a) The value of Q= 1.2\n",
        "(b) The frequency response peaks is  1.32\n",
        "(c) The frequency response peaks at DB is  2.8 DB\n"
       ]
      }
     ],
     "prompt_number": 42
    },
    {
     "cell_type": "heading",
     "level": 2,
     "metadata": {},
     "source": [
      "Example 14.8 Page no 537"
     ]
    },
    {
     "cell_type": "code",
     "collapsed": false,
     "input": [
      "a=10\n",
      "b=10**3\n",
      "\n",
      "#Calculation\n",
      "fd=a*math.sqrt(2)/b\n",
      "\n",
      "#Result\n",
      "print\"New pole location is \", round(fd*10**3,1),\"MHz\""
     ],
     "language": "python",
     "metadata": {},
     "outputs": [
      {
       "output_type": "stream",
       "stream": "stdout",
       "text": [
        "New pole location is  14.1 MHz\n"
       ]
      }
     ],
     "prompt_number": 48
    },
    {
     "cell_type": "heading",
     "level": 2,
     "metadata": {},
     "source": [
      "Example 14.11 Page no 548"
     ]
    },
    {
     "cell_type": "code",
     "collapsed": false,
     "input": [
      "#Given\n",
      "Rd=1.2                     #K\n",
      "T=1.6                      #micro S\n",
      "\n",
      "#Calculation\n",
      "R=math.sqrt(3)*Rd/3.0\n",
      "C=T/R\n",
      "\n",
      "#Result\n",
      "print\"The value of capacitance is \",round( C*10,0),\"pF\""
     ],
     "language": "python",
     "metadata": {},
     "outputs": [
      {
       "output_type": "stream",
       "stream": "stdout",
       "text": [
        "The value of capacitance is  23.0 pF\n"
       ]
      }
     ],
     "prompt_number": 58
    },
    {
     "cell_type": "heading",
     "level": 2,
     "metadata": {},
     "source": [
      "Example 14.12 Page no 552"
     ]
    },
    {
     "cell_type": "code",
     "collapsed": false,
     "input": [
      "#Given\n",
      "R1=200                     #K\n",
      "R2=100                      #K\n",
      "L=10.0**-5\n",
      "w=100*10**3\n",
      "\n",
      "#Calculation\n",
      "import math\n",
      "C1=(1/L*9/(w*2*math.pi)**2)*10**6\n",
      "C2=C1/8.0\n",
      "\n",
      "print\"Value of C1=\", round(C1,1),\"micro F\"\n",
      "print\"Value of C2=\", round(C2,2),\"micro F\""
     ],
     "language": "python",
     "metadata": {},
     "outputs": [
      {
       "output_type": "stream",
       "stream": "stdout",
       "text": [
        "Value of C1= 2.3 micro F\n",
        "Value of C2= 0.28 micro F\n"
       ]
      }
     ],
     "prompt_number": 67
    }
   ],
   "metadata": {}
  }
 ]
}