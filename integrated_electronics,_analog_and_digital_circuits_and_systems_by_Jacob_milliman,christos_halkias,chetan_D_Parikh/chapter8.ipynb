{
 "metadata": {
  "name": "",
  "signature": "sha256:e019155ebc601d98a8518dd4008c628b63c4f89db998a3c5873c4cdc3ff30f11"
 },
 "nbformat": 3,
 "nbformat_minor": 0,
 "worksheets": [
  {
   "cells": [
    {
     "cell_type": "heading",
     "level": 1,
     "metadata": {},
     "source": [
      "Chapter 8 The transistor at  low frequencies"
     ]
    },
    {
     "cell_type": "heading",
     "level": 2,
     "metadata": {},
     "source": [
      "Example 8.4 Page no 251"
     ]
    },
    {
     "cell_type": "code",
     "collapsed": false,
     "input": [
      "#Given\n",
      "hfe=50\n",
      "hoc=25*10**-6\n",
      "Rl=10**4                         #ohm\n",
      "hie=1100\n",
      "hre=2.5*10**-4                           #ohm\n",
      "Rs=1.0                               #ohm\n",
      "\n",
      "#Calculation\n",
      "Aj=-hfe/(1+hoc*Rl)\n",
      "Ri=(hie+(hre*Aj*Rl))*10**-3\n",
      "Av=Aj*Rl/Ri\n",
      "Avs=Av*Ri/(Ri+Rs)\n",
      "Ais=(Aj*Rs)/(Ri+Rs)\n",
      "Y0=hoc-((hfe*hre)/(hie+1000))\n",
      "Z0=1/Y0\n",
      "\n",
      "#Result\n",
      "print\"Various gains are \"\n",
      "print Aj,\"\\n\", Av*10**-3,\"\\n\",Avs*10**-3,\"\\n\",Ais\n",
      "print \"The output impedence is \",Z0*10**-3,\"K\""
     ],
     "language": "python",
     "metadata": {},
     "outputs": [
      {
       "output_type": "stream",
       "stream": "stdout",
       "text": [
        "Various gains are \n",
        "-40.0 \n",
        "-400.0 \n",
        "-200.0 \n",
        "-20.0\n",
        "The output impedence is  52.5 K\n"
       ]
      }
     ],
     "prompt_number": 1
    },
    {
     "cell_type": "heading",
     "level": 2,
     "metadata": {},
     "source": [
      "Example 8.5 Page no 251"
     ]
    },
    {
     "cell_type": "code",
     "collapsed": false,
     "input": [
      "#Given\n",
      "hi=1.1\n",
      "Hf=51\n",
      "Hr=1\n",
      "Ri=1000\n",
      "\n",
      "#Calculation\n",
      "Yl=(((Hf*40)/(Ri-hi))-1)/40.0\n",
      "\n",
      "#Result\n",
      "print\"The value of Rl>38.3 K ohm\" \n",
      "print\"Yl<\",round(Yl,3),\"mhos\""
     ],
     "language": "python",
     "metadata": {},
     "outputs": [
      {
       "output_type": "stream",
       "stream": "stdout",
       "text": [
        "The value of Rl>38.3 K ohm\n",
        "Yl< 0.026 mhos\n"
       ]
      }
     ],
     "prompt_number": 36
    },
    {
     "cell_type": "heading",
     "level": 2,
     "metadata": {},
     "source": [
      "Example 8.7 Page no 254"
     ]
    },
    {
     "cell_type": "code",
     "collapsed": false,
     "input": [
      "#Given\n",
      "hfe=50\n",
      "Rl=4                       #kohm\n",
      "hoe=1/40.0\n",
      "hie=1.1\n",
      "hre=2.5*10**-4\n",
      "Rs=0.1                        #ohm\n",
      "\n",
      "#Calculation\n",
      "Ai=-hfe/(1+hoe*Rl)\n",
      "Ri=hie+(hre*Ai*Rl)\n",
      "R0=(hie+Rs)/(hoe*(hie+Rs)-hfe*hre)\n",
      "Av=(Ai*Rl)/hie\n",
      "Avs=(Av*Ri)/(Ri+Rs)\n",
      "Ais=Ai*Rs/Ri+Rs\n",
      "\n",
      "#Result\n",
      "print\"The value of Avs=\", round(Avs,0),\"\\n Ais=\",round(Ais,3)*10**1,\"\\n Ri=\",round(Ri,1),\"K ohm\",\"\\n R0=\",round(R0,1),\"K ohm\""
     ],
     "language": "python",
     "metadata": {},
     "outputs": [
      {
       "output_type": "stream",
       "stream": "stdout",
       "text": [
        "The value of Avs= -151.0 \n",
        " Ais= -42.1 \n",
        " Ri= 1.1 K ohm \n",
        " R0= 68.6 K ohm\n"
       ]
      }
     ],
     "prompt_number": 9
    },
    {
     "cell_type": "heading",
     "level": 2,
     "metadata": {},
     "source": [
      "Example 8.8 Page no 257"
     ]
    },
    {
     "cell_type": "code",
     "collapsed": false,
     "input": [
      "#Given\n",
      "Rs=0.05                         #ohm\n",
      "hib=0.0216\n",
      "hfb=0.98\n",
      "hrb=2.9*10**-4\n",
      "hob=2040\n",
      "Rb=50                            #K ohm\n",
      "Rl=2                               #K ohm\n",
      "a=2049.2\n",
      "b=2092.0\n",
      "c=50.59\n",
      "d=50.65\n",
      "Vs=1\n",
      "\n",
      "#Calculation\n",
      "Ic=a/(c*a-b*d)\n",
      "Ie=(Vs-c)/d\n",
      "V0=-Rl*Ic\n",
      "\n",
      "#Result\n",
      "print\" V0/Vs=\",round(V0,2)"
     ],
     "language": "python",
     "metadata": {},
     "outputs": [
      {
       "output_type": "stream",
       "stream": "stdout",
       "text": [
        " V0/Vs= 1.79\n"
       ]
      }
     ],
     "prompt_number": 6
    },
    {
     "cell_type": "heading",
     "level": 2,
     "metadata": {},
     "source": [
      "Example 8.10 Page no 260"
     ]
    },
    {
     "cell_type": "code",
     "collapsed": false,
     "input": [
      "#Given\n",
      "R=10                                   #K ohm\n",
      "R1=200                                 #K ohm\n",
      "R2=210.0                                 #K ohm\n",
      "hfe=50\n",
      "hoc=1/40.0\n",
      "hre=2.5*10**-4\n",
      "y=1520.0\n",
      "hie=1.1\n",
      "\n",
      "#Calculation\n",
      "Rl=R*R1/R2\n",
      "Ai=-hfe/(1.0+(hoc*Rl))\n",
      "Ri=(hie+hre*Ai*Rl)*10**-3\n",
      "Av=(Ai*Rl)/Ri\n",
      "x=(R1/(1-Av))*10**-3\n",
      "Ri1=((Ri*x)/y)*10**12\n",
      "Avs=((Av*Ri1)/(Ri1+R))*10**-3\n",
      "A11=Avs*(Ri1+R)/Rl\n",
      "\n",
      "#Result\n",
      "print\"The value of Ri=\",round(Ri*10**3,0),\"K ohm\",\"\\n Ri1=\",round(Ri1*10**3,0),\"ohm\"\n",
      "print\" Av=\",round(Av*10**-3,0),\"\\n Avs=\",round(Avs,1),\"\\n A11=\",round(A11,2)"
     ],
     "language": "python",
     "metadata": {},
     "outputs": [
      {
       "output_type": "stream",
       "stream": "stdout",
       "text": [
        "The value of Ri= 1.0 K ohm \n",
        " Ri1= 345.0 ohm\n",
        " Av= -383.0 \n",
        " Avs= -12.8 \n",
        " A11= -13.87\n"
       ]
      }
     ],
     "prompt_number": 15
    },
    {
     "cell_type": "heading",
     "level": 2,
     "metadata": {},
     "source": [
      "Example 8.11 Page no 261"
     ]
    },
    {
     "cell_type": "code",
     "collapsed": false,
     "input": [
      "#Given\n",
      "R=200.0                          #K ohm\n",
      "hfe=50\n",
      "hie=1.1\n",
      "Rl=10.0                            #K ohm\n",
      "hoe=1/40.0\n",
      "hre=2.5*10**-4\n",
      "Vs=1\n",
      "a=0.099\n",
      "b=0.0052\n",
      "\n",
      "#Calculation\n",
      "V0=((1/R-hfe/hie)/(1.0/R+1/Rl+hoe-hfe*hre/hie)*a*Vs)*10\n",
      "V01=(V0/(1.0-(V0*b)))*10**-1\n",
      "\n",
      "#Result\n",
      "print\"The output voltage is \", round(V01,1),\"Vs\""
     ],
     "language": "python",
     "metadata": {},
     "outputs": [
      {
       "output_type": "stream",
       "stream": "stdout",
       "text": [
        "The output voltage is  -12.8 Vs\n"
       ]
      }
     ],
     "prompt_number": 21
    },
    {
     "cell_type": "heading",
     "level": 2,
     "metadata": {},
     "source": [
      "Example 8.14 Page no 268"
     ]
    },
    {
     "cell_type": "code",
     "collapsed": false,
     "input": [
      "#Given\n",
      "a=0.032\n",
      "b=1.0\n",
      "Rs=10\n",
      "\n",
      "#Calculation\n",
      "X=a/b\n",
      "Ri=Rs*(a/(b-X))\n",
      "\n",
      "#Result\n",
      "print\"The value of\",round(Ri*10**3)"
     ],
     "language": "python",
     "metadata": {},
     "outputs": [
      {
       "output_type": "stream",
       "stream": "stdout",
       "text": [
        "The value of 331.0\n"
       ]
      }
     ],
     "prompt_number": 27
    },
    {
     "cell_type": "heading",
     "level": 2,
     "metadata": {},
     "source": [
      "Example 8.15 Page no 270"
     ]
    },
    {
     "cell_type": "code",
     "collapsed": false,
     "input": [
      "#Given\n",
      "Rs=10                         #K ohm\n",
      "Rc2=15\n",
      "hfe=100\n",
      "Rc1=5.0\n",
      "hie2=1.0\n",
      "Vs=1\n",
      "hie1=1\n",
      "hfe1=100\n",
      "\n",
      "#Calculation\n",
      "V0=-Rc2*hfe*(Rc1/(Rc1+hie2))*hfe1*(Vs/hie1) \n",
      "\n",
      "#Result\n",
      "print\"V0/Vs for the cascade amplifier is \", V0"
     ],
     "language": "python",
     "metadata": {},
     "outputs": [
      {
       "output_type": "stream",
       "stream": "stdout",
       "text": [
        "V0/Vs for the cascade amplifier is  -125000.0\n"
       ]
      }
     ],
     "prompt_number": 33
    },
    {
     "cell_type": "heading",
     "level": 2,
     "metadata": {},
     "source": [
      "Example 8.16 Page no 271"
     ]
    },
    {
     "cell_type": "code",
     "collapsed": false,
     "input": [
      "#Given\n",
      "Vcc=20                           #Volts\n",
      "Vc1=0.7                         #Volts\n",
      "Ic1=2.5                          #A\n",
      "Rc11=9\n",
      "a=45000\n",
      "b=100\n",
      "\n",
      "#Calculation\n",
      "Vc11=Vcc-Rc1*Ic1\n",
      "Rc1=(Vcc-Vc1)/Ic1\n",
      "Rc2=a*(Rc1+1)/(b**2*Rc1)\n",
      "\n",
      "#Result\n",
      "print\"The value of Rc1=\",round(Rc1,1),\"K ohm\\n Rc2=\",round(Rc2,1),\"K ohm\\n Vcc=\",Vcc,\"Volts\""
     ],
     "language": "python",
     "metadata": {},
     "outputs": [
      {
       "output_type": "stream",
       "stream": "stdout",
       "text": [
        "The value of Rc1= 7.7 K ohm\n",
        " Rc2= 5.1 K ohm\n",
        " Vcc= 20 Volts\n"
       ]
      }
     ],
     "prompt_number": 34
    },
    {
     "cell_type": "heading",
     "level": 2,
     "metadata": {},
     "source": [
      "Example 8.17 Page no 271"
     ]
    },
    {
     "cell_type": "code",
     "collapsed": false,
     "input": [
      "#Given\n",
      "V=5                    #Volts\n",
      "a=100\n",
      "b=2.8\n",
      "A=6.5\n",
      "R1=1                     #K\n",
      "Vs=1                     #Volts\n",
      "hfe=100\n",
      "hie=1                    #K\n",
      "Rc1=3.1               #K\n",
      "Rc2=2.3                 #K\n",
      "\n",
      "#Calculation\n",
      "V0=-V*a\n",
      "Ib2=(b*a)/(b+1)\n",
      "R=A*R1/(A+R1)\n",
      "Ib1=A/(A+1)*Vs/(1+R)\n",
      "Ib21=Ib2*Ib1\n",
      "X=(-hfe**2*Rc1*Rc2)/((Rc1+hie)*hie)\n",
      "\n",
      "#Result\n",
      "print\"V0/Vs=\", round(X,0)"
     ],
     "language": "python",
     "metadata": {},
     "outputs": [
      {
       "output_type": "stream",
       "stream": "stdout",
       "text": [
        "V0/Vs= -17390.0\n"
       ]
      }
     ],
     "prompt_number": 66
    },
    {
     "cell_type": "heading",
     "level": 2,
     "metadata": {},
     "source": [
      "Example 8.18 Page no 272"
     ]
    },
    {
     "cell_type": "code",
     "collapsed": false,
     "input": [
      "#Given\n",
      "hfe=100\n",
      "hie=2\n",
      "hoe=1/50.0\n",
      "hie2=2.0\n",
      "hoe2=1/50.0\n",
      "\n",
      "#Calculation\n",
      "X=(-hfe*(hfe/(hie2)+hoe2))/(hie*hoe2*(1/hie2+hoe2))\n",
      "X1=(-hfe*hfe)/(hie*hoe2)\n",
      "\n",
      "#Result\n",
      "print\"V0/Vs for the cascode configuration is \", X1"
     ],
     "language": "python",
     "metadata": {},
     "outputs": [
      {
       "output_type": "stream",
       "stream": "stdout",
       "text": [
        "V0/Vs for the cascode configuration is  -250000.0\n"
       ]
      }
     ],
     "prompt_number": 42
    },
    {
     "cell_type": "heading",
     "level": 2,
     "metadata": {},
     "source": [
      "Example 8.20 Page no 274"
     ]
    },
    {
     "cell_type": "code",
     "collapsed": false,
     "input": [
      "#Given\n",
      "Rb=10                      #K ohm\n",
      "hie=10.0\n",
      "Rs=5.0                       #K ohm\n",
      "hfe=100\n",
      "Rc=12                       #K ohm\n",
      "\n",
      "#Calculation\n",
      "X=Rb*hie/(Rb+hie)\n",
      "V0=-hfe*(Rc/hie)*X/(Rs+X)\n",
      "Ri=Rb*hie/(Rb+hie)\n",
      "\n",
      "#Result\n",
      "print\"The value of V0/Vs is \", V0\n",
      "print\"The value of Ri=\", Ri,\"K ohm\""
     ],
     "language": "python",
     "metadata": {},
     "outputs": [
      {
       "output_type": "stream",
       "stream": "stdout",
       "text": [
        "The value of V0/Vs is  -60.0\n",
        "The value of Ri= 5.0 K ohm\n"
       ]
      }
     ],
     "prompt_number": 67
    },
    {
     "cell_type": "heading",
     "level": 2,
     "metadata": {},
     "source": [
      "Example 8.21 Page no 277"
     ]
    },
    {
     "cell_type": "code",
     "collapsed": false,
     "input": [
      "#Given\n",
      "hie=2.0\n",
      "hfe=50.0\n",
      "Rl=5.0\n",
      "\n",
      "#Calculation\n",
      "Ri2=-hie+(1+hfe)*Rl\n",
      "Ri21=1-hie/Ri2\n",
      "Rl1=Rl*Ri2/(Rl+Ri2)\n",
      "Av1=hfe*Rl1/hie\n",
      "R02=((hie+Rl)/(1+hfe))*10**3\n",
      "R021=(R02*5000/(R02+5000))\n",
      "Av=Av1*Ri21\n",
      "Al=-hfe*(hfe+1)*(Rl/(Rl+Ri2))\n",
      "Av11=Al*Rl/hie\n",
      "\n",
      "#Result\n",
      "print\"Ri2=\",Ri2,\"K ohm\",\"\\nAv1=\",round(Av1,1),\"\\nAv=\",round(Av,1),\"\\nAl=\",round(Al,1),\"\\nAv11=\", round(Av11,1)"
     ],
     "language": "python",
     "metadata": {},
     "outputs": [
      {
       "output_type": "stream",
       "stream": "stdout",
       "text": [
        "Ri2= 253.0 K ohm \n",
        "Av1= 122.6 \n",
        "Av= 121.6 \n",
        "Al= -49.4 \n",
        "Av11= -123.5\n"
       ]
      }
     ],
     "prompt_number": 29
    }
   ],
   "metadata": {}
  }
 ]
}