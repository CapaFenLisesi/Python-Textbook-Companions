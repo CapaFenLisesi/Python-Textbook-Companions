{
 "metadata": {
  "name": "",
  "signature": "sha256:42d30125d9e8ce36559ab7e71d18474b24d65823519de50bc0921149b2c6f03f"
 },
 "nbformat": 3,
 "nbformat_minor": 0,
 "worksheets": [
  {
   "cells": [
    {
     "cell_type": "heading",
     "level": 1,
     "metadata": {},
     "source": [
      "Chapter 15 Operational amplifiers"
     ]
    },
    {
     "cell_type": "heading",
     "level": 2,
     "metadata": {},
     "source": [
      "Example 15.2 Page no 570 "
     ]
    },
    {
     "cell_type": "code",
     "collapsed": false,
     "input": [
      "#Given\n",
      "A=10.1\n",
      "b=10\n",
      "Y=9.09\n",
      "\n",
      "#Calculation\n",
      "Z=1/Y\n",
      "\n",
      "#Result\n",
      "print\"Maximum value of Z is \", round(Z,2),\"ohm\""
     ],
     "language": "python",
     "metadata": {},
     "outputs": [
      {
       "output_type": "stream",
       "stream": "stdout",
       "text": [
        "Maximum value of Z is  0.11 ohm\n"
       ]
      }
     ],
     "prompt_number": 4
    },
    {
     "cell_type": "heading",
     "level": 2,
     "metadata": {},
     "source": [
      "Example 15.3 Page no 572"
     ]
    },
    {
     "cell_type": "code",
     "collapsed": false,
     "input": [
      "#Given\n",
      "a=100.0\n",
      "b=10\n",
      "vd=1\n",
      "Ad=1\n",
      "p=100\n",
      "\n",
      "#Calculation\n",
      "v0=(100*vd*(1+(b/a))-10)\n",
      "V0=(a*Ad*(vd+b/p))/10.0\n",
      "\n",
      "#Result\n",
      "print\"(a) These two measurements differ by\", V0,\"%\"\n",
      "print\"(b) The first set of signal gives an output\", v0,\"Ad micro V\""
     ],
     "language": "python",
     "metadata": {},
     "outputs": [
      {
       "output_type": "stream",
       "stream": "stdout",
       "text": [
        "(a) These two measurements differ by 10.0 %\n",
        "(b) The first set of signal gives an output 100.0 Ad micro V\n"
       ]
      }
     ],
     "prompt_number": 20
    },
    {
     "cell_type": "heading",
     "level": 2,
     "metadata": {},
     "source": [
      "Example 15.4 Page no 575"
     ]
    },
    {
     "cell_type": "code",
     "collapsed": false,
     "input": [
      "#Given\n",
      "Vee=4.3                #Volts\n",
      "Vcm=-2                #Volts\n",
      "Vcm1=0                    #Volts\n",
      "Vcm2=2                  #Volts\n",
      "V=25                     #mV\n",
      "\n",
      "#Calculation\n",
      "Ad=((Vcm+Vee)/(4.0*V))*10**3\n",
      "Ad1=((Vcm1+Vee)/(4.0*V))*10**3\n",
      "Ad2=((Vcm2+Vee)/(4.0*V))*10**3\n",
      "\n",
      "#Result\n",
      "print\"The differential gain Ad for Dc common mode voltage=-2 V is \",Ad\n",
      "print\"The differential gain Ad for Dc common mode voltage=0 V is \",Ad1\n",
      "print\"The differential gain Ad for Dc common mode voltage=2 is \",Ad2"
     ],
     "language": "python",
     "metadata": {},
     "outputs": [
      {
       "output_type": "stream",
       "stream": "stdout",
       "text": [
        "The differential gain Ad for Dc common mode voltage=-2 V is  23.0\n",
        "The differential gain Ad for Dc common mode voltage=0 V is  43.0\n",
        "The differential gain Ad for Dc common mode voltage=2 is  63.0\n"
       ]
      }
     ],
     "prompt_number": 33
    },
    {
     "cell_type": "heading",
     "level": 2,
     "metadata": {},
     "source": [
      "Example 15.5 Page no 575"
     ]
    },
    {
     "cell_type": "code",
     "collapsed": false,
     "input": [
      "#Given\n",
      "Ic=2.5                  #mA\n",
      "Rc=1                    #K\n",
      "Vt=25                  #mV\n",
      "Vee=4.3                 #Volts\n",
      "R1=1.5                  #K\n",
      "R2=1                   #k\n",
      "R3=400                 #ohm\n",
      "\n",
      "#Calculation\n",
      "I0=Vee*R2/(R3*(R1+R2))\n",
      "Ad=(Ic*Rc/(2*Vt))*10**3\n",
      "\n",
      "#Result\n",
      "print\"The value of current is \", I0*10**3,\"mA\"\n",
      "print\"The value of voltage gain is \",Ad"
     ],
     "language": "python",
     "metadata": {},
     "outputs": [
      {
       "output_type": "stream",
       "stream": "stdout",
       "text": [
        "The value of current is  4.3 mA\n",
        "The value of voltage gain is  50.0\n"
       ]
      }
     ],
     "prompt_number": 41
    },
    {
     "cell_type": "heading",
     "level": 2,
     "metadata": {},
     "source": [
      "Example 15.6 Page no 576"
     ]
    },
    {
     "cell_type": "code",
     "collapsed": false,
     "input": [
      "#Given\n",
      "Vcm=0.7                #volts\n",
      "Vbe1=-0.2              #v\n",
      "I3=5                 #mA\n",
      "R3=0.4                #K\n",
      "Vee=5                  #V\n",
      "Ic1=2.5                     #mA\n",
      "Rc=1                       #K\n",
      "\n",
      "#Calculation\n",
      "Vcm1=Vcm-Vbe1+I3*R3-Vee\n",
      "Vcm2=Vee-Ic1*Rc+0.6\n",
      "\n",
      "#Result\n",
      "print\"Vcm can vary from\", Vcm1, \"V to\",Vcm2,\"V\""
     ],
     "language": "python",
     "metadata": {},
     "outputs": [
      {
       "output_type": "stream",
       "stream": "stdout",
       "text": [
        "Vcm can vary from -2.1 V to 3.1 V\n"
       ]
      }
     ],
     "prompt_number": 50
    },
    {
     "cell_type": "heading",
     "level": 2,
     "metadata": {},
     "source": [
      "Example 15.7 Page no 577"
     ]
    },
    {
     "cell_type": "code",
     "collapsed": false,
     "input": [
      "#Given\n",
      "Vee=5                        #Volts\n",
      "Vd=0.7                      #Volts\n",
      "R2=1                        #Kohm\n",
      "Rc=1                        #Kohm\n",
      "Vt=25                       #mV\n",
      "R3=0.4                       #Kohm\n",
      "R1=1.5                       #Kohm\n",
      "Va=1\n",
      "\n",
      "#Calculation\n",
      "Ad=((Va+Vee-Vd)*R2*Rc/(4.0*Vt*R3*(R1+1)))*10**3\n",
      "\n",
      "#Result\n",
      "print\"Hence Va varying from -2V to 2V\" \n",
      "print\"Ad=\",Ad"
     ],
     "language": "python",
     "metadata": {},
     "outputs": [
      {
       "output_type": "stream",
       "stream": "stdout",
       "text": [
        "Hence Va varying from -2V to 2V\n",
        "Ad= 53.0\n"
       ]
      }
     ],
     "prompt_number": 56
    },
    {
     "cell_type": "heading",
     "level": 2,
     "metadata": {},
     "source": [
      "Example 15.8 Page no 583"
     ]
    },
    {
     "cell_type": "code",
     "collapsed": false,
     "input": [
      "#Given\n",
      "Vbe2=0.7               #Volts\n",
      "Vce1=0.2               #Volts\n",
      "I1=0.99               #A\n",
      "R1=2.2                #K\n",
      "Vee=6                  #Volts\n",
      "Ic2=0.495             #A\n",
      "R2=7.75               #K\n",
      "Vbc2=0.6              #Volts\n",
      "\n",
      "#Calculation\n",
      "Vcm=Vbe2+Vce1+I1*R1-Vee\n",
      "Vcm1=Vee-Ic2*R2+Vbc2\n",
      "\n",
      "#Result\n",
      "print\"ICMR is \",round(Vcm,1),\"V to\", round(Vcm1,2),\"V\""
     ],
     "language": "python",
     "metadata": {},
     "outputs": [
      {
       "output_type": "stream",
       "stream": "stdout",
       "text": [
        "ICMR is  -2.9 V to 2.76 V\n"
       ]
      }
     ],
     "prompt_number": 62
    },
    {
     "cell_type": "heading",
     "level": 2,
     "metadata": {},
     "source": [
      "Example 15.11 Page no 592"
     ]
    },
    {
     "cell_type": "code",
     "collapsed": false,
     "input": [
      "#Given\n",
      "C1=28.9                             #pF\n",
      "C=900                           #pf\n",
      "\n",
      "#Calculation\n",
      "Cc=C/(1+C1)\n",
      "\n",
      "#Result\n",
      "print\"The value of Cc=\",round(Cc,1),\"pF\""
     ],
     "language": "python",
     "metadata": {},
     "outputs": [
      {
       "output_type": "stream",
       "stream": "stdout",
       "text": [
        "The value of Cc= 30.1 pF\n"
       ]
      }
     ],
     "prompt_number": 64
    }
   ],
   "metadata": {}
  }
 ]
}