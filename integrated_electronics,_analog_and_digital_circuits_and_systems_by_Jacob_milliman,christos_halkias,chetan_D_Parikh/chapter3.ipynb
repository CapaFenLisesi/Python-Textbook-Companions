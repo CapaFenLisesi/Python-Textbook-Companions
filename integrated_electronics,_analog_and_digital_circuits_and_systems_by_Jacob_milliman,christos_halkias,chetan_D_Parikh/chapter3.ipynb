{
 "metadata": {
  "name": "",
  "signature": "sha256:2f6013cd86f54cad9f75a3e5821b693a0ffe252838b7ce15186bbed855e802ac"
 },
 "nbformat": 3,
 "nbformat_minor": 0,
 "worksheets": [
  {
   "cells": [
    {
     "cell_type": "heading",
     "level": 1,
     "metadata": {},
     "source": [
      "Chapter 3 Junction-Diode Characteristics"
     ]
    },
    {
     "cell_type": "heading",
     "level": 2,
     "metadata": {},
     "source": [
      "Example 3.1 Page no 58"
     ]
    },
    {
     "cell_type": "code",
     "collapsed": false,
     "input": [
      "#Given\n",
      "I0=10**-12                       #A\n",
      "R=0.5                #ohm\n",
      "I=10*10**-6            #A\n",
      "I1=1*10**-3            #A\n",
      "I2=10*10**-3           #A\n",
      "I3=1                     #A\n",
      "n=1.5\n",
      "a=0.026  \n",
      "\n",
      "#Calculation\n",
      "import math\n",
      "Vr=0.5*I\n",
      "Vr1=0.5*I1\n",
      "Vr2=0.5*I2\n",
      "Vr3=0.5*I3\n",
      "Vd=a*math.log(1+I/I0)\n",
      "Vd1=a*math.log(1+I1/I0)\n",
      "Vd2=a*math.log(1+I2/I0)\n",
      "Vd3=a*math.log(1+I3/I0)\n",
      "Fr=(Vr/(Vr+Vd))*100\n",
      "Fr1=(Vr1/(Vr1+Vd1))*100\n",
      "Fr2=(Vr2/(Vr2+Vd2))*100\n",
      "Fr3=(Vr3/(Vr3+Vd3))*100\n",
      "#Result\n",
      "print\"Fractions of the applied voltage is \" \n",
      "print round(Fr,3),\"\\n\",round(Fr1,2),\"\\n\",round(Fr2,1),\"\\n\",round(Fr3,0)"
     ],
     "language": "python",
     "metadata": {},
     "outputs": [
      {
       "output_type": "stream",
       "stream": "stdout",
       "text": [
        "Fractions of the applied voltage is \n",
        "0.001 \n",
        "0.09 \n",
        "0.8 \n",
        "41.0\n"
       ]
      }
     ],
     "prompt_number": 42
    },
    {
     "cell_type": "heading",
     "level": 2,
     "metadata": {},
     "source": [
      "Example 3.2 Page no 59"
     ]
    },
    {
     "cell_type": "code",
     "collapsed": false,
     "input": [
      "#Given\n",
      "a=2.5\n",
      "T1=-50                   #degree\n",
      "T2=125                   #degree\n",
      "\n",
      "#Caculation\n",
      "V=a*(T2-T1)\n",
      "\n",
      "#Result\n",
      "print\"The diode voltage is \", round(V*10**-3,2),\"Volts\""
     ],
     "language": "python",
     "metadata": {},
     "outputs": [
      {
       "output_type": "stream",
       "stream": "stdout",
       "text": [
        "The diode voltage is  0.44 Volts\n"
       ]
      }
     ],
     "prompt_number": 22
    },
    {
     "cell_type": "heading",
     "level": 2,
     "metadata": {},
     "source": [
      "Example 3.3 Page no 62"
     ]
    },
    {
     "cell_type": "code",
     "collapsed": false,
     "input": [
      "#Given\n",
      "Na=10**19                     #/cm**3\n",
      "Nd=10**17                     #/cm**3\n",
      "A=9.6*10**-6                  #m**2\n",
      "ni=1.45*10**10\n",
      "a=0.026\n",
      "e=11.9*8.85*10**-14\n",
      "q=1.6*10**-19\n",
      "\n",
      "#Calculation\n",
      "import math\n",
      "Vj=a*(math.log((Na*Nd)/ni**2))\n",
      "W=math.sqrt((2*e*Vj)/(q*Nd))\n",
      "C=(e*A*math.sqrt(q*Nd))/math.sqrt(2*e*Vj)\n",
      "\n",
      "#Result\n",
      "print\"The transition capacitance with no applied bias is \", round(C*10**13,2),\"fF\""
     ],
     "language": "python",
     "metadata": {},
     "outputs": [
      {
       "output_type": "stream",
       "stream": "stdout",
       "text": [
        "The transition capacitance with no applied bias is  9.1 fF\n"
       ]
      }
     ],
     "prompt_number": 58
    },
    {
     "cell_type": "heading",
     "level": 2,
     "metadata": {},
     "source": [
      "Example 3.4 Page no 64"
     ]
    },
    {
     "cell_type": "code",
     "collapsed": false,
     "input": [
      "#Given\n",
      "A=8.9\n",
      "Vj1=1                     #Volts\n",
      "Vj2=2                     #Volts\n",
      "Vj3=3                     #Volts\n",
      "Vj4=4                     #Volts\n",
      "\n",
      "#Calculation\n",
      "import math\n",
      "Ct=A/math.sqrt(Vj1)\n",
      "Ct1=A/math.sqrt(Vj2)\n",
      "Ct2=A/math.sqrt(Vj3)\n",
      "Ct3=A/math.sqrt(Vj4)\n",
      "\n",
      "#Result\n",
      "print\"Transition capacitance is \" \n",
      "print Ct,\"fF \\n\",round(Ct1,2),\"fF \\n\",round(Ct2,2),\"fF \\n\",round(Ct3,0),\"fF\""
     ],
     "language": "python",
     "metadata": {},
     "outputs": [
      {
       "output_type": "stream",
       "stream": "stdout",
       "text": [
        "Transition capacitance is \n",
        "8.9 fF \n",
        "6.29 fF \n",
        "5.14 fF \n",
        "4.0 fF\n"
       ]
      }
     ],
     "prompt_number": 2
    },
    {
     "cell_type": "heading",
     "level": 2,
     "metadata": {},
     "source": [
      "Example 3.5 Page no 67"
     ]
    },
    {
     "cell_type": "code",
     "collapsed": false,
     "input": [
      "#Given\n",
      "t=10*10**-9                       #Second\n",
      "I=0.1*10**-3                      #A\n",
      "n=1\n",
      "Vt=0.026                          #Volts\n",
      "\n",
      "#Calculation\n",
      "Cd=(t*I)/(n*Vt)\n",
      "\n",
      "#Result\n",
      "print\"Diffusion capacitance is \", round(Cd*10**12,1),\"pF\""
     ],
     "language": "python",
     "metadata": {},
     "outputs": [
      {
       "output_type": "stream",
       "stream": "stdout",
       "text": [
        "Diffusion capacitance is  38.5 pF\n"
       ]
      }
     ],
     "prompt_number": 83
    },
    {
     "cell_type": "heading",
     "level": 2,
     "metadata": {},
     "source": [
      "Example 3.6 Page no 70"
     ]
    },
    {
     "cell_type": "code",
     "collapsed": false,
     "input": [
      "#Given\n",
      "R=100*10**-3                  #K\n",
      "V=10                          #Volts\n",
      "Rl=9.0                             #K\n",
      "Vz2=6                          #V\n",
      "\n",
      "#Calculation\n",
      "Vz=R/(1+R)*V\n",
      "Vz1=Rl/(1+Rl)*V\n",
      "Iz=(V-Vz2)-(Vz2/Rl)\n",
      "\n",
      "#Result\n",
      "print\"(a) Vz=\",round(Vz,2),\"V is less than the diode breakdown voltage and the diode current is zero\"\n",
      "print\"(b) Diode current is \",round(Iz,2),\"mA\""
     ],
     "language": "python",
     "metadata": {},
     "outputs": [
      {
       "output_type": "stream",
       "stream": "stdout",
       "text": [
        "(a) Vz= 0.91 V is less than the diode breakdown voltage and the diode current is zero\n",
        "(b) Diode current is  3.33 mA\n"
       ]
      }
     ],
     "prompt_number": 11
    },
    {
     "cell_type": "heading",
     "level": 2,
     "metadata": {},
     "source": [
      "Example 3.7 Page no 78"
     ]
    },
    {
     "cell_type": "code",
     "collapsed": false,
     "input": [
      "#Given\n",
      "a=0.1\n",
      "b=10**-9\n",
      "\n",
      "#Calculation\n",
      "#V/5.0=a+b*(1-exp(V/Vt))\n",
      "#solve it by trail and error\n",
      "\n",
      "#Result\n",
      "print\"V=0.47 V and I=94 micro A\""
     ],
     "language": "python",
     "metadata": {},
     "outputs": [
      {
       "output_type": "stream",
       "stream": "stdout",
       "text": [
        "V=0.47 V and I=94 micro A\n"
       ]
      }
     ],
     "prompt_number": 12
    }
   ],
   "metadata": {}
  }
 ]
}