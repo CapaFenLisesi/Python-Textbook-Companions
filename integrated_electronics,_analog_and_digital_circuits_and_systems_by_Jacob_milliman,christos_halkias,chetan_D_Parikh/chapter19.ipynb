{
 "metadata": {
  "name": "",
  "signature": "sha256:7d9817672c3151d68c0bcdbcdffc95ff827da861db130bb128a39492c5b4ed1e"
 },
 "nbformat": 3,
 "nbformat_minor": 0,
 "worksheets": [
  {
   "cells": [
    {
     "cell_type": "heading",
     "level": 1,
     "metadata": {},
     "source": [
      "Chapter 19 Semiconductor-Device Physics"
     ]
    },
    {
     "cell_type": "heading",
     "level": 2,
     "metadata": {},
     "source": [
      "Example 19.1 Page no 808"
     ]
    },
    {
     "cell_type": "code",
     "collapsed": false,
     "input": [
      "#Given\n",
      "g=0.971*10**3                        #Kg/cm**3\n",
      "w=22.99                    \n",
      "a=1.66*10**-27\n",
      "b=3.64*10**-19\n",
      "\n",
      "#Calculation\n",
      "n=(g/(w*a))*10**-28\n",
      "Ef=((b*(n)**0.6)/1.6*10**-19)*10**38\n",
      "\n",
      "#Result\n",
      "print\"The value of n=\", round(n,1)*10**28,\"/m**3\"\n",
      "print\"The value of Ef=\",round(Ef,2),\"ev\""
     ],
     "language": "python",
     "metadata": {},
     "outputs": [
      {
       "output_type": "stream",
       "stream": "stdout",
       "text": [
        "The value of n= 2.5e+28 /m**3\n",
        "The value of Ef= 3.98 ev\n"
       ]
      }
     ],
     "prompt_number": 33
    },
    {
     "cell_type": "heading",
     "level": 2,
     "metadata": {},
     "source": [
      "Example 19.2 Page no 808"
     ]
    },
    {
     "cell_type": "code",
     "collapsed": false,
     "input": [
      "#Given\n",
      "Kt=0.026                     #ev\n",
      "e=0.2                        #ev\n",
      "\n",
      "#Calculation\n",
      "import math\n",
      "f=1/(1+math.exp(e/Kt))\n",
      "\n",
      "#Result\n",
      "print\"Probability of finding an electron \", round(f,6)\n",
      "print\"So that this probability is very small.\""
     ],
     "language": "python",
     "metadata": {},
     "outputs": [
      {
       "output_type": "stream",
       "stream": "stdout",
       "text": [
        "Probability of finding an electron  0.000456\n",
        "So that this probability is very small.\n"
       ]
      }
     ],
     "prompt_number": 38
    },
    {
     "cell_type": "heading",
     "level": 2,
     "metadata": {},
     "source": [
      "Example 19.3 Page no 810"
     ]
    },
    {
     "cell_type": "code",
     "collapsed": false,
     "input": [
      "#Given\n",
      "E=0.05                      #ev\n",
      "a=6.82*10**27\n",
      "\n",
      "#Calculation\n",
      "import math\n",
      "N=(a*math.sqrt(E))*10**-27\n",
      "\n",
      "#Result\n",
      "print\"Density is \", round(N,2)*10**27,\"/m**3\""
     ],
     "language": "python",
     "metadata": {},
     "outputs": [
      {
       "output_type": "stream",
       "stream": "stdout",
       "text": [
        "Density is  1.52e+27 /m**3\n"
       ]
      }
     ],
     "prompt_number": 44
    },
    {
     "cell_type": "heading",
     "level": 2,
     "metadata": {},
     "source": [
      "Example 19.4 Page no 812"
     ]
    },
    {
     "cell_type": "code",
     "collapsed": false,
     "input": [
      "#Given\n",
      "e=0.26                              #ev\n",
      "q=1.6*10**-19                       #J\n",
      "a=9.1*10**-31\n",
      "\n",
      "#Calculation\n",
      "import math\n",
      "Vav=(math.sqrt(2*e*q/(a)))*10**-5\n",
      "\n",
      "#Result\n",
      "print\"Average velocity is \", round(Vav,2),\"*10**5 m/S\""
     ],
     "language": "python",
     "metadata": {},
     "outputs": [
      {
       "output_type": "stream",
       "stream": "stdout",
       "text": [
        "Average velocity is  3.02 *10**5 m/S\n"
       ]
      }
     ],
     "prompt_number": 52
    },
    {
     "cell_type": "heading",
     "level": 2,
     "metadata": {},
     "source": [
      "Example 19.5 Page no 815"
     ]
    },
    {
     "cell_type": "code",
     "collapsed": false,
     "input": [
      "#Given\n",
      "ni=1.5*10**10\n",
      "T2=873.0\n",
      "T1=300.0\n",
      "a=1.21\n",
      "K=8.625*10**-5\n",
      "\n",
      "#Calculation\n",
      "import math\n",
      "ni2=(math.sqrt(ni*(T2/T1)**3*math.exp((a/K)*(-1/T2+1/T1))))*10**-12\n",
      "\n",
      "#Result\n",
      "print\"Intrinsic carrier density is \", round(ni2,1)*10**17,\"/cm**3\""
     ],
     "language": "python",
     "metadata": {},
     "outputs": [
      {
       "output_type": "stream",
       "stream": "stdout",
       "text": [
        "Intrinsic carrier density is  2.8e+17 /cm**3\n"
       ]
      }
     ],
     "prompt_number": 67
    },
    {
     "cell_type": "heading",
     "level": 2,
     "metadata": {},
     "source": [
      "Example 19.7 Page no 817"
     ]
    },
    {
     "cell_type": "code",
     "collapsed": false,
     "input": [
      "#Given\n",
      "a=4.82*10**21\n",
      "h=1.1\n",
      "T=300\n",
      "Kt=0.026\n",
      "Nc=2.89*10**19\n",
      "Nd=10**16\n",
      "\n",
      "#Calculation\n",
      "import math\n",
      "Nc=(a*(h**1.5)*(T**1.5))*10**-6\n",
      "E=Kt*math.log(Nc/Nd)\n",
      "\n",
      "#Result\n",
      "print\"(Ec-Ef) in silicon at room temperature is \", round(E,3),\"ev\""
     ],
     "language": "python",
     "metadata": {},
     "outputs": [
      {
       "output_type": "stream",
       "stream": "stdout",
       "text": [
        "(Ec-Ef) in silicon at room temperature is  0.207 ev\n"
       ]
      }
     ],
     "prompt_number": 83
    },
    {
     "cell_type": "heading",
     "level": 2,
     "metadata": {},
     "source": [
      "Example 19.9 Page no 827"
     ]
    },
    {
     "cell_type": "code",
     "collapsed": false,
     "input": [
      "#Given\n",
      "q=1.6*10**-19                     #j\n",
      "a=100*10**-8\n",
      "b=13\n",
      "c=34\n",
      "d=5*10**17\n",
      "e=1.5*10**10\n",
      "#Calculation\n",
      "I0=((a*q*(b/(math.sqrt(a*10**-7)*d+c/(math.sqrt(c*10**-7)*d))))*e**2)*10**15\n",
      "\n",
      "#Result\n",
      "print\"The reverse saturation current is \", round(I0,2)*10**-18,\"A\""
     ],
     "language": "python",
     "metadata": {},
     "outputs": [
      {
       "output_type": "stream",
       "stream": "stdout",
       "text": [
        "The reverse saturation current is  2.96e-18 A\n"
       ]
      }
     ],
     "prompt_number": 95
    },
    {
     "cell_type": "heading",
     "level": 2,
     "metadata": {},
     "source": [
      "Example 19.10 Page no 830"
     ]
    },
    {
     "cell_type": "code",
     "collapsed": false,
     "input": [
      "#Given\n",
      "I1=1                     #mA\n",
      "Vt=26.0                   #mV\n",
      "t=10**-6\n",
      "\n",
      "#Calculation\n",
      "g=I1/Vt\n",
      "Cd=((g*t)/2.0)*10**9\n",
      "\n",
      "#Result\n",
      "print\"Diffusion capacitance is \", round(Cd,0),\"nF\"\n",
      "print\"Conductance is \",round(g*10**3,0),\"mA/V\""
     ],
     "language": "python",
     "metadata": {},
     "outputs": [
      {
       "output_type": "stream",
       "stream": "stdout",
       "text": [
        "Diffusion capacitance is  19.0 nF\n",
        "Conductance is  38.0 mA/V\n"
       ]
      }
     ],
     "prompt_number": 107
    },
    {
     "cell_type": "heading",
     "level": 2,
     "metadata": {},
     "source": [
      "Example 19.11 Page no 833"
     ]
    },
    {
     "cell_type": "code",
     "collapsed": false,
     "input": [
      "#Given\n",
      "w=50.0\n",
      "a=200*10**18\n",
      "L=100.0\n",
      "b=500\n",
      "c=5*10**19\n",
      "\n",
      "#Calculation\n",
      "x=1+(w*a/(L*b*c))\n",
      "A=1/x\n",
      "\n",
      "#Result\n",
      "print\"Current gain is \", round(A,3)"
     ],
     "language": "python",
     "metadata": {},
     "outputs": [
      {
       "output_type": "stream",
       "stream": "stdout",
       "text": [
        "Current gain is  0.996\n"
       ]
      }
     ],
     "prompt_number": 113
    }
   ],
   "metadata": {}
  }
 ]
}