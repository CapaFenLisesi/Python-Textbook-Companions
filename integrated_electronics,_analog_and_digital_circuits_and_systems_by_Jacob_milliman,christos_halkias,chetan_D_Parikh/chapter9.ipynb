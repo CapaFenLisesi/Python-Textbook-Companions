{
 "metadata": {
  "name": "",
  "signature": "sha256:520c095c911ca2183348811e36a1fece25eb5aed5a4cd966c082b1e767c51e0d"
 },
 "nbformat": 3,
 "nbformat_minor": 0,
 "worksheets": [
  {
   "cells": [
    {
     "cell_type": "heading",
     "level": 1,
     "metadata": {},
     "source": [
      "Chapter 9 Transistor biasing and Thermal stabilization"
     ]
    },
    {
     "cell_type": "heading",
     "level": 2,
     "metadata": {},
     "source": [
      "Example 9.1 Page no 303"
     ]
    },
    {
     "cell_type": "code",
     "collapsed": false,
     "input": [
      "#Given\n",
      "Vcc=5                       #Volts\n",
      "Vbe=0.7                     #Volts\n",
      "Rc=2.5*10**-2                    #ohm\n",
      "Rb=430.0*10**3                    #ohm\n",
      "B=100\n",
      "B1=150\n",
      "B2=200\n",
      "\n",
      "#Calculation\n",
      "Ib=(Vcc-Vbe)/Rb\n",
      "Ic=(B*Ib)*10**3\n",
      "Vc=Vcc-(Rc*B)\n",
      "Vc1=Vcc-(Rc*B1)\n",
      "Vc2=Vcc-(Rc*B2)\n",
      "\n",
      "#Result\n",
      "print\"DC voltage at collector mode is \", Vc,\"Volts\"\n",
      "print\"DC voltage at collector mode is \", Vc1,\"Volts\"\n",
      "print\"DC voltage at collector mode is \", Vc2,\"Volts\""
     ],
     "language": "python",
     "metadata": {},
     "outputs": [
      {
       "output_type": "stream",
       "stream": "stdout",
       "text": [
        "DC voltage at collector mode is  2.5 Volts\n",
        "DC voltage at collector mode is  1.25 Volts\n",
        "DC voltage at collector mode is  0.0 Volts\n"
       ]
      }
     ],
     "prompt_number": 14
    },
    {
     "cell_type": "heading",
     "level": 2,
     "metadata": {},
     "source": [
      "Example 9.2 Page no 306"
     ]
    },
    {
     "cell_type": "code",
     "collapsed": false,
     "input": [
      "#Given\n",
      "Vcc=22.5                    #Volts\n",
      "R2=10                           #K ohm\n",
      "B=55.0\n",
      "R1=90                          #K ohm\n",
      "a=100.0\n",
      "b=1.60\n",
      "c=0.025\n",
      "Vce=13.3                     #Volts\n",
      "d=11.9\n",
      "\n",
      "#Calculation\n",
      "V=(R2*Vcc)/a\n",
      "Rb=(R2*R1)/a\n",
      "Ib1=(Vce-d)/65.0\n",
      "Ic=b/(1+R2/B)\n",
      "Ib=Ic/B\n",
      "Vce=Vcc-6.6*Ic-c\n",
      "\n",
      "#Result\n",
      "print\"(a) The Value of current is \", round(Ib1*10**3,0),\"micro A\"\n",
      "print\"(b) The value of current is \",round(Ib*10**3,1),\"micro A\"\n",
      "print\"The value of Vce is\",round(Vce,1),\"Volts\""
     ],
     "language": "python",
     "metadata": {},
     "outputs": [
      {
       "output_type": "stream",
       "stream": "stdout",
       "text": [
        "(a) The Value of current is  22.0 micro A\n",
        "(b) The value of current is  24.6 micro A\n",
        "The value of Vce is 13.5 Volts\n"
       ]
      }
     ],
     "prompt_number": 17
    },
    {
     "cell_type": "heading",
     "level": 2,
     "metadata": {},
     "source": [
      "Example 9.3 Page no 307"
     ]
    },
    {
     "cell_type": "code",
     "collapsed": false,
     "input": [
      "#Given\n",
      "a=1.6\n",
      "n=10\n",
      "c=200.0\n",
      "B=500.0\n",
      "d=22.5\n",
      "e=6.6\n",
      "f=1.52\n",
      "g=0.0076\n",
      "\n",
      "#Calculation\n",
      "Ic=a/(1+n/c)\n",
      "Ib=Ic*B\n",
      "Vce=d-e*f-g\n",
      "\n",
      "#Result\n",
      "print\"Ic=\",round(Ic,2),\"mA\",\"\\nIb=\",round(Ib*10**-2,1),\"micro A\",\"\\nVce=\", round(Vce,1),\"Volts\""
     ],
     "language": "python",
     "metadata": {},
     "outputs": [
      {
       "output_type": "stream",
       "stream": "stdout",
       "text": [
        "Ic= 1.52 mA \n",
        "Ib= 7.6 micro A \n",
        "Vce= 12.5 Volts\n"
       ]
      }
     ],
     "prompt_number": 51
    },
    {
     "cell_type": "heading",
     "level": 2,
     "metadata": {},
     "source": [
      "Example 9.4 Page no 307"
     ]
    },
    {
     "cell_type": "code",
     "collapsed": false,
     "input": [
      "#Given\n",
      "Vcc=5                   #Volts\n",
      "Vc=2                     #Volts\n",
      "B=50\n",
      "a=4.3\n",
      "\n",
      "#Calculation\n",
      "Rc=(Vcc-Vc)/Vcc-Vc+a\n",
      "x=(Vcc-Vc-a)\n",
      "\n",
      "#Result\n",
      "print\"The value of Rc is \", Rc,\"K ohm\""
     ],
     "language": "python",
     "metadata": {},
     "outputs": [
      {
       "output_type": "stream",
       "stream": "stdout",
       "text": [
        "The value of Rc is  2.3 K ohm\n"
       ]
      }
     ],
     "prompt_number": 11
    },
    {
     "cell_type": "heading",
     "level": 2,
     "metadata": {},
     "source": [
      "Example 9.5 Page no 311"
     ]
    },
    {
     "cell_type": "code",
     "collapsed": false,
     "input": [
      "#Given\n",
      "Vcc=20                       #Volts\n",
      "Vce=10                       #Volts\n",
      "Ic=2.0                       #A\n",
      "I=2.25                         #mA\n",
      "I1=1.75                       #mA\n",
      "B1=36.0\n",
      "B2=90\n",
      "a=54\n",
      "Vbe=0.65                     #Volts\n",
      "Re=1                          #K ohm\n",
      "Rc=4                          #K ohm\n",
      "\n",
      "#Calculation\n",
      "R=(Vcc-Vce)/Ic\n",
      "Re=R-Rc\n",
      "Ic1=I-I1\n",
      "S2=Ic1*B1*(1+B2)/(a*I1)\n",
      "Rb=(S2*(B2+1)-(B2+1))/(B2+1-S2)\n",
      "V=(Vbe+(Rb+Re*(1+B1)))/B1*Ic\n",
      "R1=(Rb*Vcc)/V\n",
      "R2=R1*V/(Vcc-V)\n",
      "\n",
      "#Result\n",
      "print\"The value of Re=\", Re,\"K ohm\",\"\\nThe value of R1=\",round(R1,0),\"K ohm\",\"\\nThe value of R2=\",round(R2,1),\"K ohm\"\n"
     ],
     "language": "python",
     "metadata": {},
     "outputs": [
      {
       "output_type": "stream",
       "stream": "stdout",
       "text": [
        "The value of Re= 1.0 K ohm \n",
        "The value of R1= 126.0 K ohm \n",
        "The value of R2= 24.0 K ohm\n"
       ]
      }
     ],
     "prompt_number": 37
    },
    {
     "cell_type": "heading",
     "level": 2,
     "metadata": {},
     "source": [
      "Example 9.6 Page no 312"
     ]
    },
    {
     "cell_type": "code",
     "collapsed": false,
     "input": [
      "#Given\n",
      "Vcc=5                     #Volts\n",
      "B=50\n",
      "a=4.3\n",
      "b=53.3\n",
      "c=2.3\n",
      "\n",
      "#Calculation\n",
      "S=(a*(b+c*B)-a*B*c)/(b+c*B)**2\n",
      "\n",
      "#Result\n",
      "print\"The stability factor is \", round(S,3)"
     ],
     "language": "python",
     "metadata": {},
     "outputs": [
      {
       "output_type": "stream",
       "stream": "stdout",
       "text": [
        "The stability factor is  0.008\n"
       ]
      }
     ],
     "prompt_number": 31
    },
    {
     "cell_type": "heading",
     "level": 2,
     "metadata": {},
     "source": [
      "Example 9.7 Page no 312"
     ]
    },
    {
     "cell_type": "code",
     "collapsed": false,
     "input": [
      "#Given\n",
      "R2=50                 #K ohm\n",
      "Vcc=5                 #Volts\n",
      "R1=50.0                 #K ohm\n",
      "Rc=4                  #K ohm\n",
      "B=100.0\n",
      "Re=1                  #K ohm\n",
      "\n",
      "#Calculation\n",
      "S=(R2*Vcc-0.7*(R1+R2+Rc))*R2*(R1+Rc)/(B*(Re*(R1+R2+Rc)+R2*Rc)+R2*(R1+Rc))**2*10**4\n",
      "\n",
      "#Result\n",
      "print\"(b) The value of stability factor is \", round(S,1),\"*10**-3\"\n"
     ],
     "language": "python",
     "metadata": {},
     "outputs": [
      {
       "output_type": "stream",
       "stream": "stdout",
       "text": [
        "(b) The value of stability factor is  4.4 *10**-3\n"
       ]
      }
     ],
     "prompt_number": 40
    },
    {
     "cell_type": "heading",
     "level": 2,
     "metadata": {},
     "source": [
      "Example 9.8 Page no 313"
     ]
    },
    {
     "cell_type": "code",
     "collapsed": false,
     "input": [
      "#Given\n",
      "B=100.0\n",
      "I0=1*10**-3                       #A\n",
      "\n",
      "#Calculation\n",
      "S=(I0*(B*(3*B+4)/((B+1)**2*(B+2)**2)))*10**7\n",
      "\n",
      "#Result\n",
      "print\"The stability factor is \", round(S,1)*10**-7"
     ],
     "language": "python",
     "metadata": {},
     "outputs": [
      {
       "output_type": "stream",
       "stream": "stdout",
       "text": [
        "The stability factor is  2.9e-07\n"
       ]
      }
     ],
     "prompt_number": 49
    },
    {
     "cell_type": "heading",
     "level": 2,
     "metadata": {},
     "source": [
      "Example 9.12 Page no 316"
     ]
    },
    {
     "cell_type": "code",
     "collapsed": false,
     "input": [
      "#Given\n",
      "R=1.65               \n",
      "Rb=7.75                         #K ohm\n",
      "Re=4.7                          #K ohm\n",
      "B1=55.0\n",
      "a=0.087\n",
      "b=0.080\n",
      "c=0.032\n",
      "a1=0.082\n",
      "b1=0.021\n",
      "c1=0.028\n",
      "d1=0.003\n",
      "d=0.038\n",
      "\n",
      "#Calculation\n",
      "M1=1/(1+Rb/(B1*Re))\n",
      "#Collector current in the temperature range of 175 degree\n",
      "I1=a+b+c\n",
      "#Collector current in the temperature range of -65 degree\n",
      "I2=-d-b\n",
      "Ic1=a1+b1+c1\n",
      "Ic2=-d1-d+I2\n",
      "\n",
      "#Result\n",
      "print\"(a) The value of Ic in the temperature range of 175 degree is \", I1,\"mA\"\n",
      "print\"    The value of Ic in the temperature range of -65 degree is \", I2,\"mA\"\n",
      "print\"(b) The value of Ic in the temperature range of 175 degree is \", Ic1,\"mA\"\n",
      "print\"    The value of Ic in the temperature range of -65 degree is \", Ic2,\"mA\"\n"
     ],
     "language": "python",
     "metadata": {},
     "outputs": [
      {
       "output_type": "stream",
       "stream": "stdout",
       "text": [
        "(a) The value of Ic in the temperature range of 175 degree is  0.199 mA\n",
        "    The value of Ic in the temperature range of -65 degree is  -0.118 mA\n",
        "(b) The value of Ic in the temperature range of 175 degree is  0.131 mA\n",
        "    The value of Ic in the temperature range of -65 degree is  -0.159 mA\n"
       ]
      }
     ],
     "prompt_number": 64
    },
    {
     "cell_type": "heading",
     "level": 2,
     "metadata": {},
     "source": [
      "Example 9.13 Page no 318"
     ]
    },
    {
     "cell_type": "code",
     "collapsed": false,
     "input": [
      "#Given\n",
      "x=0.05\n",
      "B2=1200.0\n",
      "B1=150.0\n",
      "Ic0=3*10**-6                 #A\n",
      "I=2.5\n",
      "R1=40\n",
      "Ic=0.6                       #mA\n",
      "a=600\n",
      "Vcc=20\n",
      "\n",
      "#Calculation\n",
      "R=((x*B1*B2)/(B2-B1))-1\n",
      "M=1/(1+R/B1)\n",
      "Ic1=((1+R)*Ic0/x)*10**3\n",
      "Vbe=-I*R1\n",
      "Vbe1=(Vbe+Vbe)*10**-3\n",
      "Ic1Re=-Vbe1/x\n",
      "Re=Ic1Re/Ic\n",
      "Rb=R*Re\n",
      "B3=1/2.0*(B1+a)\n",
      "V=(Ic*Rb)/B3+Ic+Ic1Re\n",
      "R1=(Rb*Vcc)/V\n",
      "R2=R1*V/(Vcc-V)\n",
      "\n",
      "#Result\n",
      "print\"The value of V=\",round(V,2) ,\"Volts\",\"\\nR1=\",round(R1,0),\"K ohm\",\"\\nR2=\",round(R2,0),\"K ohm\""
     ],
     "language": "python",
     "metadata": {},
     "outputs": [
      {
       "output_type": "stream",
       "stream": "stdout",
       "text": [
        "The value of V= 4.68 Volts \n",
        "R1= 216.0 K ohm \n",
        "R2= 66.0 K ohm\n"
       ]
      }
     ],
     "prompt_number": 109
    },
    {
     "cell_type": "heading",
     "level": 2,
     "metadata": {},
     "source": [
      "Example 9.15 Page no 325"
     ]
    },
    {
     "cell_type": "code",
     "collapsed": false,
     "input": [
      "#Given\n",
      "Vcc=30                      #Volts\n",
      "Ic=1.5              #mA\n",
      "Re=4.7                #K ohm\n",
      "Rc=2                  #K ohm\n",
      "Ic1=0.131*10**-3             #A\n",
      "T1=25\n",
      "T2=75\n",
      "\n",
      "#Calculation\n",
      "P=Vcc-(Rc)*(Ic)*(Re+Rc)\n",
      "Ic=Ic1/(T2-T1)\n",
      "X=(1/(P*Ic))*10**-4\n",
      "\n",
      "#Result\n",
      "print\"The value of theta required for the Ge transistor is \", round(X,2),\"*10**4 degree/W\""
     ],
     "language": "python",
     "metadata": {},
     "outputs": [
      {
       "output_type": "stream",
       "stream": "stdout",
       "text": [
        "The value of theta required for the Ge transistor is  3.86 *10**4 degree/W\n"
       ]
      }
     ],
     "prompt_number": 130
    },
    {
     "cell_type": "heading",
     "level": 2,
     "metadata": {},
     "source": [
      "Example 9.16 Page no 326"
     ]
    },
    {
     "cell_type": "code",
     "collapsed": false,
     "input": [
      "#Given\n",
      "B=100.0\n",
      "I=5*10**-3                  #A\n",
      "a=40\n",
      "b=5.0\n",
      "c=15\n",
      "d=0.07\n",
      "\n",
      "#Calculation\n",
      "Ib=-(1-I*B)/B\n",
      "Rb=-(a-b)/Ib\n",
      "Vce=a-c\n",
      "S=((B+1)*(1+Rb/b))/((B+1)+Rb/b)\n",
      "theta=1/((a-(2*c))*S*d*I)\n",
      "\n",
      "print\"(a) The value of Rb is \", Rb,\"ohm\"\n",
      "print\"(b) The largest value of theta is \",round(theta,2),\"degree C/W\""
     ],
     "language": "python",
     "metadata": {},
     "outputs": [
      {
       "output_type": "stream",
       "stream": "stdout",
       "text": [
        "(a) The value of Rb is  7000.0 ohm\n",
        "(b) The largest value of theta is  3.03 degree C/W\n"
       ]
      }
     ],
     "prompt_number": 146
    }
   ],
   "metadata": {}
  }
 ]
}