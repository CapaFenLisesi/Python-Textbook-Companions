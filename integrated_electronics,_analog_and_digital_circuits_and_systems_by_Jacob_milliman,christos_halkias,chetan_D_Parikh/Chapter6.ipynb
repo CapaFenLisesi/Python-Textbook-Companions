{
 "metadata": {
  "name": "",
  "signature": "sha256:9761cd06e61ca3d757c11f7096e9a39c2ffd89cf4242f2c5704296ea52fb240f"
 },
 "nbformat": 3,
 "nbformat_minor": 0,
 "worksheets": [
  {
   "cells": [
    {
     "cell_type": "heading",
     "level": 1,
     "metadata": {},
     "source": [
      "Chapter 6 Digital circuits"
     ]
    },
    {
     "cell_type": "heading",
     "level": 2,
     "metadata": {},
     "source": [
      "Example 6.3 Page no 165"
     ]
    },
    {
     "cell_type": "code",
     "collapsed": false,
     "input": [
      "#Given\n",
      "V1=5                #Volts\n",
      "V2=5                #Volts\n",
      "Rs=0.5\n",
      "Vr=5\n",
      "R=10\n",
      "\n",
      "#Calculation\n",
      "V0=Rs/(Rs+R)*Vr\n",
      "V01=Rs/(2.0)/(Rs/2.0+R)*Vr\n",
      "\n",
      "#Result\n",
      "print\"(a) if V1=V2=5 V, then both diaodes are off , no current flows anywhere and V0=5 V\"\n",
      "print\"(b) The output voltage is \",round(V0,2),\"Volts\"\n",
      "print\"(c) The output voltage is \",round(V01,2),\"Volts\""
     ],
     "language": "python",
     "metadata": {},
     "outputs": [
      {
       "output_type": "stream",
       "stream": "stdout",
       "text": [
        "(a) if V1=V2=5 V, then both diaodes are off , no current flows anywhere and V0=5 V\n",
        "(b) The output voltage is  0.24 Volts\n",
        "(c) The output voltage is  0.12 Volts\n"
       ]
      }
     ],
     "prompt_number": 16
    },
    {
     "cell_type": "heading",
     "level": 2,
     "metadata": {},
     "source": [
      "Example 6.5 Page no 167"
     ]
    },
    {
     "cell_type": "code",
     "collapsed": false,
     "input": [
      "#Given\n",
      "V1=5                #Volts\n",
      "V2=5                #Volts\n",
      "Rs=0.5\n",
      "Vr=5\n",
      "R=10\n",
      "\n",
      "#Calculation\n",
      "V0=Rs/(Rs+R)*Vr\n",
      "V01=Rs/(2.0)/(Rs/2.0+R)*Vr\n",
      "\n",
      "#Result\n",
      "print\"(a) if V1=V2=5 V, then both diaodes are off , no current flows anywhere and V0=5 V\"\n",
      "print\"(b) The output voltage is \",round(V0,2),\"Volts\"\n",
      "print\"(c) The output voltage is \",round(V01,2),\"Volts\" "
     ],
     "language": "python",
     "metadata": {},
     "outputs": [
      {
       "output_type": "stream",
       "stream": "stdout",
       "text": [
        "(a) if V1=V2=5 V, then both diaodes are off , no current flows anywhere and V0=5 V\n",
        "(b) The output voltage is  0.24 Volts\n",
        "(c) The output voltage is  0.12 Volts\n"
       ]
      }
     ],
     "prompt_number": 1
    },
    {
     "cell_type": "heading",
     "level": 2,
     "metadata": {},
     "source": [
      "Example 6.6 Page no 169"
     ]
    },
    {
     "cell_type": "code",
     "collapsed": false,
     "input": [
      "#Given\n",
      "V=12                       #Volts\n",
      "Rs=15.0                      #ohm\n",
      "R=100.0                     #ohm\n",
      "hfe=30\n",
      "Vce=0.2                     #Volts\n",
      "a=2.2\n",
      "Vbe=0.8                    #Volts\n",
      "b=100\n",
      "\n",
      "#calculation\n",
      "Vb=-V*Rs/(R+Rs)\n",
      "Ic=(V-Vce)/a\n",
      "Ibmin=Ic/hfe\n",
      "I1=(V-Vbe)/Rs\n",
      "I2=(Vbe-(-V))/b\n",
      "Ib=I1-I2\n",
      "\n",
      "#Result\n",
      "print\"The transistor currents are \", round(Ic,2),\"mA (Ib)min=\",round(Ibmin,2),\"mA I1=\",round(I1,2),\"mA I2=\",round(I2,2),\"mA and Ib=\",round(Ib,2),\"mA\""
     ],
     "language": "python",
     "metadata": {},
     "outputs": [
      {
       "output_type": "stream",
       "stream": "stdout",
       "text": [
        "The transistor currents are  5.36 mA (Ib)min= 0.18 mA I1= 0.75 mA I2= 0.13 mA and Ib= 0.62 mA\n"
       ]
      }
     ],
     "prompt_number": 41
    },
    {
     "cell_type": "heading",
     "level": 2,
     "metadata": {},
     "source": [
      "Example 6.8 Page no 174"
     ]
    },
    {
     "cell_type": "code",
     "collapsed": false,
     "input": [
      "#Given\n",
      "V=12\n",
      "Vy=0.6                   #Volts\n",
      "R=15                #K ohm\n",
      "\n",
      "#Calculation\n",
      "I=(V-Vy)/R\n",
      "\n",
      "#Result\n",
      "print\"Current through diode D2 and D3 are\", I,\"mA\""
     ],
     "language": "python",
     "metadata": {},
     "outputs": [
      {
       "output_type": "stream",
       "stream": "stdout",
       "text": [
        "Current through diode D2 and D3 are 0.76 mA\n"
       ]
      }
     ],
     "prompt_number": 45
    },
    {
     "cell_type": "heading",
     "level": 2,
     "metadata": {},
     "source": [
      "Example 6.12 Page no 179"
     ]
    },
    {
     "cell_type": "code",
     "collapsed": false,
     "input": [
      "#Given\n",
      "V=12                   #volts\n",
      "R=2.2                   #K ohm\n",
      "R1=30.0                   #K ohm\n",
      "R2=100.0                  # K ohm\n",
      "a=15.9\n",
      "b=115.9\n",
      "A=16.0\n",
      "B=15\n",
      "k=115.0\n",
      "\n",
      "#Calculation\n",
      "Ic=V/R\n",
      "X=(V/R1)-(V/R2)\n",
      "H=Ic/X\n",
      "Y=V*(1/A)+0.7*(B/A)\n",
      "Vb=-V*(a/b)+Y*(100/b)\n",
      "A1=B/A\n",
      "Vb1=-V*(B/k)+A1*(100/k)\n",
      "\n",
      "#Result\n",
      "print\"(a) Q wil indeed be in saturation if hfe>=19, the output is at ground, This results confirms the last row of the truth table \"\n",
      "print\"(b) This voltage is more then adequate to reverse-bias q,and hence NAND/logic is satisfied.\"\n",
      "print\"(c) Vb1=\",Vb1,\"Volts which cuts off Q and Y=1, as it should.\" "
     ],
     "language": "python",
     "metadata": {},
     "outputs": [
      {
       "output_type": "stream",
       "stream": "stdout",
       "text": [
        "(a) Q wil indeed be in saturation if hfe>=19, the output is at ground, This results confirms the last row of the truth table \n",
        "(b) This voltage is more then adequate to reverse-bias q,and hence NAND/logic is satisfied.\n",
        "(c) Vb1= -0.75 Volts which cuts off Q and Y=1, as it should.\n"
       ]
      }
     ],
     "prompt_number": 2
    },
    {
     "cell_type": "heading",
     "level": 2,
     "metadata": {},
     "source": [
      "Example 6.15 Page no 182"
     ]
    },
    {
     "cell_type": "code",
     "collapsed": false,
     "input": [
      "#Given\n",
      "Vcc=5                         #Volts\n",
      "Vp=2.2                        #Volts\n",
      "Vbe=0.8                       #Volts\n",
      "Vce=0.2                       #Volts\n",
      "\n",
      "#Calculation\n",
      "I1=(Vcc-Vp)/5.0\n",
      "I2=Vbe/5.0\n",
      "Ib=I1-I2\n",
      "Ic=(Vcc-Vce)/Vp\n",
      "Hmin=Ic/Ib\n",
      "\n",
      "#Result\n",
      "print\"Hfe=\",round(Hmin,1)\n",
      "print\"(a) if Hfe > Hfemin the Y=V(0) for all inputs at V(1), thus varifying the last line in the truth table\""
     ],
     "language": "python",
     "metadata": {},
     "outputs": [
      {
       "output_type": "stream",
       "stream": "stdout",
       "text": [
        "Hfe= 5.5\n",
        "(a) if Hfe > Hfemin the Y=V(0) for all inputs at V(1), thus varifying the last line in the truth table\n"
       ]
      }
     ],
     "prompt_number": 11
    },
    {
     "cell_type": "heading",
     "level": 2,
     "metadata": {},
     "source": [
      "Example 6.16 Page no 184"
     ]
    },
    {
     "cell_type": "code",
     "collapsed": false,
     "input": [
      "#Given\n",
      "Vbe1=0.7\n",
      "Vd2=0.7\n",
      "Vbe2=0.8\n",
      "V=5                         #Volts\n",
      "a=1.75\n",
      "b=31\n",
      "c=0.2\n",
      "hfe=30\n",
      "\n",
      "#Calculation\n",
      "Vp=Vbe1+Vd2+Vbe2\n",
      "Ib1=(V-Vp)/(a*b+2)\n",
      "I1=b*Ib1\n",
      "I2=Vbe2/5\n",
      "Ib2=I1-I2\n",
      "I=(5-Vbe1-c)/(1.75+2)\n",
      "Q2=(5-c)/2.2\n",
      "Ic2=hfe*Ib2\n",
      "\n",
      "#Result\n",
      "print\"The collector current is \", round(Ic2,1),\"mA and N=36\""
     ],
     "language": "python",
     "metadata": {},
     "outputs": [
      {
       "output_type": "stream",
       "stream": "stdout",
       "text": [
        "The collector current is  41.5 mA and N=36\n"
       ]
      }
     ],
     "prompt_number": 24
    },
    {
     "cell_type": "heading",
     "level": 2,
     "metadata": {},
     "source": [
      "Example 6.17 Page no 187"
     ]
    },
    {
     "cell_type": "code",
     "collapsed": false,
     "input": [
      "#Given\n",
      "Vbc1=0.7\n",
      "Vbe2=0.8\n",
      "Vbe3=0.8\n",
      "V=5                                #ohm\n",
      "R=4                                #K ohm\n",
      "Vb3=0.7                            #Volts\n",
      "R1=1                              #K ohm\n",
      "a=0.2\n",
      "R2=1.4                            #K ohm\n",
      "R3=4.0                             #K ohm\n",
      "\n",
      "#Calculation\n",
      "Vp=Vbc1+Vbe2+Vbe3\n",
      "Ib1=(V-Vp)/R\n",
      "I1=Vb3/R1\n",
      "Vc2=I1+a\n",
      "Ic2=(V-Vc2)/R2\n",
      "Ie2=Ib1+Ic2\n",
      "Ib3=Ie2-I1\n",
      "Ic3=(V-a)/R3\n",
      "Ie3=Ib3+Ic3\n",
      "\n",
      "#Result\n",
      "print\"The Emitter current of Q3 is \", round(Ie3,3),\"mA\""
     ],
     "language": "python",
     "metadata": {},
     "outputs": [
      {
       "output_type": "stream",
       "stream": "stdout",
       "text": [
        "The Emitter current of Q3 is  4.104 mA\n"
       ]
      }
     ],
     "prompt_number": 40
    },
    {
     "cell_type": "heading",
     "level": 2,
     "metadata": {},
     "source": [
      "Example 6.18 Page no 190"
     ]
    },
    {
     "cell_type": "code",
     "collapsed": false,
     "input": [
      "#Given\n",
      "V=5                                #Volts\n",
      "a=1.4\n",
      "b=0.7\n",
      "c=4.2\n",
      "B=101\n",
      "\n",
      "#Calculation\n",
      "Ib5=(-b+V)/(a+c*B)\n",
      "Ve5=B*Ib5*c\n",
      "Ie5=B*Ib5\n",
      "v0=Ve5-0.6\n",
      "\n",
      "#Result\n",
      "print\"Current when the output is high is \", round(Ie5,2),\"mA\"\n",
      "print\"The value of V0=\",round(v0,1),\"V\""
     ],
     "language": "python",
     "metadata": {},
     "outputs": [
      {
       "output_type": "stream",
       "stream": "stdout",
       "text": [
        "Current when the output is high is  1.02 mA\n",
        "The value of V0= 3.7 V\n"
       ]
      }
     ],
     "prompt_number": 5
    }
   ],
   "metadata": {}
  }
 ]
}