{
 "metadata": {
  "name": "",
  "signature": "sha256:6c5aa6f6f728b4acc0ad12d720414c1d553e14667b9cb18f28881c8df67f92a7"
 },
 "nbformat": 3,
 "nbformat_minor": 0,
 "worksheets": [
  {
   "cells": [
    {
     "cell_type": "heading",
     "level": 1,
     "metadata": {},
     "source": [
      "Chapter 16 Integrated circuits as analog system Building blocks"
     ]
    },
    {
     "cell_type": "heading",
     "level": 2,
     "metadata": {},
     "source": [
      "Example 16.4 Page no 621"
     ]
    },
    {
     "cell_type": "code",
     "collapsed": false,
     "input": [
      "#Given\n",
      "V=3\n",
      "K=0.765\n",
      "K1=1.848\n",
      "R1=10                      #K\n",
      "f=1                           #K\n",
      "\n",
      "#Calculation\n",
      "Av1=V-K\n",
      "Av2=V-K1\n",
      "R11=(Av1*R1)-R1\n",
      "R12=(Av2*R1)-R1\n",
      "C=(1/(2.0*math.pi*R1*f))*10\n",
      "\n",
      "#Result\n",
      "print\"The value of Av1=\", Av1\n",
      "print\"The value of Av2=\", Av2\n",
      "print\"The value of R11=\", R11,\"K\"\n",
      "print\"The value of R12=\", R12,\"K\"\n",
      "print\"The value of capacitance=\", round(C,2),\"micro F\""
     ],
     "language": "python",
     "metadata": {},
     "outputs": [
      {
       "output_type": "stream",
       "stream": "stdout",
       "text": [
        "The value of Av1= 2.235\n",
        "The value of Av2= 1.152\n",
        "The value of R11= 12.35 K\n",
        "The value of R12= 1.52 K\n",
        "The value of capacitance= 0.16 micro F\n"
       ]
      }
     ],
     "prompt_number": 19
    },
    {
     "cell_type": "heading",
     "level": 2,
     "metadata": {},
     "source": [
      "Example 16.5 Page no 621"
     ]
    },
    {
     "cell_type": "code",
     "collapsed": false,
     "input": [
      "#Given\n",
      "R1=1                 #K\n",
      "R11=0.586            #K\n",
      "f=5             #KHz\n",
      "\n",
      "#Calculation\n",
      "Av=1+(R11/R1)\n",
      "w0=(2*math.pi*f)\n",
      "\n",
      "#Result\n",
      "print\"The value of voltage gain is \", Av\n",
      "print\"The value of w0=\",round(w0,1)"
     ],
     "language": "python",
     "metadata": {},
     "outputs": [
      {
       "output_type": "stream",
       "stream": "stdout",
       "text": [
        "The value of voltage gain is  1.586\n",
        "The value of w0= 31.4\n"
       ]
      }
     ],
     "prompt_number": 13
    },
    {
     "cell_type": "heading",
     "level": 2,
     "metadata": {},
     "source": [
      "Example 16.6 Page no 622"
     ]
    },
    {
     "cell_type": "code",
     "collapsed": false,
     "input": [
      "#Given\n",
      "A0=1.586\n",
      "f=10                        #KHz\n",
      "f1=1                          #KHz\n",
      "\n",
      "#Calculation\n",
      "RC=1/(2*math.pi*f)\n",
      "RC1=1/(2*math.pi*f1)\n",
      "\n",
      "#Result\n",
      "print\"value of RC=\", round(RC,3)\n",
      "print\"Value of Rc1=\",round(RC1,2)"
     ],
     "language": "python",
     "metadata": {},
     "outputs": [
      {
       "output_type": "stream",
       "stream": "stdout",
       "text": [
        "value of RC= 0.016\n",
        "Value of Rc1= 0.16\n"
       ]
      }
     ],
     "prompt_number": 20
    },
    {
     "cell_type": "heading",
     "level": 2,
     "metadata": {},
     "source": [
      "Example 16.7 Page no 626"
     ]
    },
    {
     "cell_type": "code",
     "collapsed": false,
     "input": [
      "#Given\n",
      "Q=10\n",
      "A=50.0\n",
      "w=10**3\n",
      "C1=0.1*10**-6              #F\n",
      "C2=0.1*10**-6             #F\n",
      "\n",
      "#Calculation\n",
      "R1=(Q/(A*w*C1))\n",
      "R3=(Q/(w*(C1*C2)/(C1+C2)))\n",
      "R11=(1/(w**2*R3*C1*C2))\n",
      "R2=(R1*R11)/(R1-R11)\n",
      "\n",
      "#Result\n",
      "print\"The value of R1=\", R1*10**-3,\"K\"\n",
      "print\"The value of R2=\",round(R2,0),\"ohm\"\n",
      "print\"The value of R3=\",R3*10**-3,\"K\"\n",
      "print\"The value of R11=\",R11,\"ohm\""
     ],
     "language": "python",
     "metadata": {},
     "outputs": [
      {
       "output_type": "stream",
       "stream": "stdout",
       "text": [
        "The value of R1= 2.0 K\n",
        "The value of R2= 667.0 ohm\n",
        "The value of R3= 200.0 K\n",
        "The value of R11= 500.0 ohm\n"
       ]
      }
     ],
     "prompt_number": 44
    },
    {
     "cell_type": "heading",
     "level": 2,
     "metadata": {},
     "source": [
      "Example 16.11 Page no 638"
     ]
    },
    {
     "cell_type": "code",
     "collapsed": false,
     "input": [
      "#Given\n",
      "Vt=52                #mV\n",
      "Ie3=1.0                 #mA\n",
      "Vt1=26.0\n",
      "hfe=50.0\n",
      "ft=900*10**-6\n",
      "Av=25\n",
      "C=10*10**-12                #F\n",
      "R=48                            #K\n",
      "R1=52.0                         #K\n",
      "Cs=5*10**-12                #F\n",
      "\n",
      "#Calculation\n",
      "import math\n",
      "re3=Vt/Ie3\n",
      "gm=Ie3/Vt1\n",
      "rbe=hfe/gm\n",
      "Ce=gm/(2*math.pi*ft)\n",
      "Rl=Av/(gm/(re3*hfe*(1/hfe)*1/re3))\n",
      "f1=1/(2.0*math.pi*Rl*C)\n",
      "f2=1/(2*math.pi*Ce*R)\n",
      "f3=1/(2*math.pi*Cs*R1)\n",
      "\n",
      "#Result\n",
      "print\"The value of f1=\",round(f1*10**-6,1),\"MHz\"\n",
      "print\"The value of f2=\",round(f2*10**6,0),\"MHz\"\n",
      "print\"The value of f3=\",round(f3*10**-6,0),\"MHz\""
     ],
     "language": "python",
     "metadata": {},
     "outputs": [
      {
       "output_type": "stream",
       "stream": "stdout",
       "text": [
        "The value of f1= 24.5 MHz\n",
        "The value of f2= 487.0 MHz\n",
        "The value of f3= 612.0 MHz\n"
       ]
      }
     ],
     "prompt_number": 3
    },
    {
     "cell_type": "heading",
     "level": 2,
     "metadata": {},
     "source": [
      "Example 16.12 Page no 643"
     ]
    },
    {
     "cell_type": "code",
     "collapsed": false,
     "input": [
      "#Given\n",
      "f=20.0*10**6                   #MHz\n",
      "C=5                            #pF\n",
      "a=0.01\n",
      "X=100.0                            #micro A/V^2\n",
      "\n",
      "#Calculation\n",
      "import math\n",
      "T=(1/(2.0*f))*10**9\n",
      "Rm=-T/(C*math.log(a))\n",
      "x=1/(X*(C-1)*Rm)\n",
      "\n",
      "#Result\n",
      "print\"W/L ratio is \", round(x*10**3,1)"
     ],
     "language": "python",
     "metadata": {},
     "outputs": [
      {
       "output_type": "stream",
       "stream": "stdout",
       "text": [
        "W/L ratio is  2.3\n"
       ]
      }
     ],
     "prompt_number": 37
    },
    {
     "cell_type": "heading",
     "level": 2,
     "metadata": {},
     "source": [
      "Example 16.13 Page no 656"
     ]
    },
    {
     "cell_type": "code",
     "collapsed": false,
     "input": [
      "#Given\n",
      "V0=-1.15                     #V\n",
      "V=-0.7                      #V\n",
      "a=5.20\n",
      "b=1.18\n",
      "c=0.3\n",
      "Vy=-0.75                      #V\n",
      "D=0.50                        \n",
      "\n",
      "#Calculation\n",
      "Ve=V0+V\n",
      "I=(Ve+a)/b\n",
      "vy=-c*I+V\n",
      "Vbe=vy-Ve\n",
      "Ve1=Vy+V\n",
      "Vbe4=V0-Ve1\n",
      "Vbe3=D-Vbe4\n",
      "Vc4=-Vbe4*I\n",
      "Vcb4=Vc4-V0\n",
      "Vc1=vy-V\n",
      "Vcb1=Vc1-Vy\n",
      "Vbe1=Vy+V\n",
      "I1=(Vbe1+a)/b\n",
      "R=-Vc4/I\n",
      "Iav=1/2.0*(I+I1)\n",
      "I2=(a+Vy)/1.50\n",
      "I3=(a+vy)/1.50\n",
      "I21=I2+Iav+I3\n",
      "P1=a*I21\n",
      "\n",
      "#Result\n",
      "print\"(a) Vbe4=\", Vbe4,\"Volts\"\n",
      "print\"(b) The noise margins is \", Vbe3,\"Volts\"\n",
      "print\"(c) Vcb1=\",round(Vcb1,2),\"Volts\",\"\\nMagnitude is less than the cutin voltage of 0.5 V. Therefore Q1 is in saturation\"\n",
      "print\"(d) The value of R=\", R*10**3,\"ohm\"\n",
      "print\"(e) Average power dissipated by the gate is \", round(P1,1),\"mW\""
     ],
     "language": "python",
     "metadata": {},
     "outputs": [
      {
       "output_type": "stream",
       "stream": "stdout",
       "text": [
        "(a) Vbe4= 0.3 Volts\n",
        "(b) The noise margins is  0.2 Volts\n",
        "(c) Vcb1= -0.1 Volts \n",
        "Magnitude is less than the cutin voltage of 0.5 V. Therefore Q1 is in saturation\n",
        "(d) The value of R= 300.0 ohm\n",
        "(e) Average power dissipated by the gate is  43.7 mW\n"
       ]
      }
     ],
     "prompt_number": 76
    },
    {
     "cell_type": "heading",
     "level": 2,
     "metadata": {},
     "source": [
      "Example 16.15 Page no 668"
     ]
    },
    {
     "cell_type": "code",
     "collapsed": false,
     "input": [
      "#Given\n",
      "Vcc=5                          #volts\n",
      "A=0.7\n",
      "D=100.0\n",
      "B=20\n",
      "C=50*10**-9\n",
      "\n",
      "#Calculation\n",
      "Ib=(Vcc-A)/D\n",
      "Ic=B*Ib\n",
      "T=(C*Vcc)/Ic\n",
      "\n",
      "#Result\n",
      "print\"The base current of the transistor will be\", Ib,\"A\"\n",
      "print\"The collector current will be\", Ic,\"A\"\n",
      "print\"The output after this very short time period of\", round(T*10**9,1),\"nS\""
     ],
     "language": "python",
     "metadata": {},
     "outputs": [
      {
       "output_type": "stream",
       "stream": "stdout",
       "text": [
        "The base current of the transistor will be 0.043 A\n",
        "The collector current will be 0.86 A\n",
        "The output after this very short time period of 290.7 nS\n"
       ]
      }
     ],
     "prompt_number": 77
    }
   ],
   "metadata": {}
  }
 ]
}