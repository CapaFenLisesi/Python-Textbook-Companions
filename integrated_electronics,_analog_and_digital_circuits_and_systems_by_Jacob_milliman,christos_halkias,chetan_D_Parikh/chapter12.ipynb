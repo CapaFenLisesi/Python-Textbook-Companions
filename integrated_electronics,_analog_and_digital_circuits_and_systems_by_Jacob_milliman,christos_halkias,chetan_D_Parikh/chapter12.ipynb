{
 "metadata": {
  "name": "",
  "signature": "sha256:b1b4abca47cd868680e0c8c16049e8774d67742396e2abe37c776427472b771b"
 },
 "nbformat": 3,
 "nbformat_minor": 0,
 "worksheets": [
  {
   "cells": [
    {
     "cell_type": "heading",
     "level": 1,
     "metadata": {},
     "source": [
      "Chapter 12 Multistage Amplifiers"
     ]
    },
    {
     "cell_type": "heading",
     "level": 2,
     "metadata": {},
     "source": [
      "Example 12.1 Page no 419"
     ]
    },
    {
     "cell_type": "code",
     "collapsed": false,
     "input": [
      "#Given\n",
      "f=0.1\n",
      "f1=1\n",
      "f2=10\n",
      "\n",
      "#Calculation\n",
      "a=tan(f)*180/3.14\n",
      "a1=tan(f1)*180/3.14\n",
      "a2=tan(f2)*180/3.14\n",
      "\n",
      "#Result\n",
      "print\"The phase lag angle at fequencies 0.1 is \", round(a,1) ,\"degree\"   \n",
      "print\"The phase lag angle at fequencies 1 is \", round(a2,1) ,\"degree\"   \n",
      "print\"The phase lag angle at fequencies 0.1 is \", round(a1,1) ,\"degree\"   "
     ],
     "language": "python",
     "metadata": {},
     "outputs": [
      {
       "output_type": "stream",
       "stream": "stdout",
       "text": [
        "The phase lag angle at fequencies 0.1 is  5.8 degree\n",
        "The phase lag angle at fequencies 1 is  37.2 degree\n",
        "The phase lag angle at fequencies 0.1 is  89.3 degree\n"
       ]
      }
     ],
     "prompt_number": 2
    },
    {
     "cell_type": "heading",
     "level": 2,
     "metadata": {},
     "source": [
      "Example 12.2 Page no 420"
     ]
    },
    {
     "cell_type": "code",
     "collapsed": false,
     "input": [
      "#Given\n",
      "a=100\n",
      "A=99.0\n",
      "b=0.1\n",
      "\n",
      "#Calculation\n",
      "f1=(math.sqrt(((a/A)**2-1)*a))*10**1\n",
      "f2=b/((math.sqrt(a/A)**2-1)*10**1)\n",
      "\n",
      "#Result\n",
      "print\"Frequency range is \", round(f1,1),\"Hz and \",f2,\"Hz\""
     ],
     "language": "python",
     "metadata": {},
     "outputs": [
      {
       "output_type": "stream",
       "stream": "stdout",
       "text": [
        "Frequency range is  14.2 Hz and  0.99 Hz\n"
       ]
      }
     ],
     "prompt_number": 37
    },
    {
     "cell_type": "heading",
     "level": 2,
     "metadata": {},
     "source": [
      "Example 12.4 Page no 425"
     ]
    },
    {
     "cell_type": "code",
     "collapsed": false,
     "input": [
      "#Given\n",
      "fp1=2\n",
      "x=0.7 \n",
      "\n",
      "#Calculation\n",
      "import math\n",
      "#eq for x=1+(5*x/4.0)+(x**2/4.0)=2\n",
      "f=math.sqrt(x)\n",
      "\n",
      "#Result\n",
      "print\"The 3-D frequency is \", round(f,2),\"fp1\""
     ],
     "language": "python",
     "metadata": {},
     "outputs": [
      {
       "output_type": "stream",
       "stream": "stdout",
       "text": [
        "The 3-D frequency is  0.84 fp1\n"
       ]
      }
     ],
     "prompt_number": 42
    },
    {
     "cell_type": "heading",
     "level": 2,
     "metadata": {},
     "source": [
      "Example 12.6 Page no 430"
     ]
    },
    {
     "cell_type": "code",
     "collapsed": false,
     "input": [
      "#Given\n",
      "V0=0.022                   #Volts\n",
      "V01=1                      #Volts\n",
      "\n",
      "#Calculation\n",
      "S=(V01-V0)/V01*100\n",
      "\n",
      "#Result\n",
      "print\"The percentage sag at the output is \", S,\"%\""
     ],
     "language": "python",
     "metadata": {},
     "outputs": [
      {
       "output_type": "stream",
       "stream": "stdout",
       "text": [
        "The percentage sag at the output is  97.8 %\n"
       ]
      }
     ],
     "prompt_number": 7
    },
    {
     "cell_type": "heading",
     "level": 2,
     "metadata": {},
     "source": [
      "Example 12.7 Page no 433"
     ]
    },
    {
     "cell_type": "code",
     "collapsed": false,
     "input": [
      "#Given\n",
      "R=1            #M \n",
      "R0=1            #M\n",
      "Ri=1            #M\n",
      "\n",
      "#Calculation\n",
      "cb=1/(62.8*R)\n",
      "cb1=(1/(62.8*(R0+Ri)))*10**3\n",
      "\n",
      "#Result\n",
      "print\"(a) Coupling capacitance is \", round(cb,3),\"micro F\"\n",
      "print\"(b) Coupling capacitance is \",round(cb1,0),\"micro F\""
     ],
     "language": "python",
     "metadata": {},
     "outputs": [
      {
       "output_type": "stream",
       "stream": "stdout",
       "text": [
        "(a) Coupling capacitance is  0.016 micro F\n",
        "(b) Coupling capacitance is  8.0 micro F\n"
       ]
      }
     ],
     "prompt_number": 66
    }
   ],
   "metadata": {}
  }
 ]
}