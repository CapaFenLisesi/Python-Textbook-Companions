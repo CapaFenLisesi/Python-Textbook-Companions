{
 "metadata": {
  "name": "",
  "signature": "sha256:2840b2816ddfecab176babe7cc71caef4b945641aa4202304f509d7235c98574"
 },
 "nbformat": 3,
 "nbformat_minor": 0,
 "worksheets": [
  {
   "cells": [
    {
     "cell_type": "heading",
     "level": 1,
     "metadata": {},
     "source": [
      "Chaptern 7 Integrated circuits: Fabrication and characteristics"
     ]
    },
    {
     "cell_type": "heading",
     "level": 2,
     "metadata": {},
     "source": [
      "Example 7.1 Page no 214"
     ]
    },
    {
     "cell_type": "code",
     "collapsed": false,
     "input": [
      "#Given\n",
      "c=5.0*10**22                           #/cm**3\n",
      "s=10**21                             #atoms/cm**3\n",
      "a=100\n",
      "\n",
      "#Calculation\n",
      "C=s/c*a\n",
      "\n",
      "#Result\n",
      "print\"The maximum concentration of phosphorus is \", C,\"%\""
     ],
     "language": "python",
     "metadata": {},
     "outputs": [
      {
       "output_type": "stream",
       "stream": "stdout",
       "text": [
        "The maximum concentration of phosphorus is  2.0 %\n"
       ]
      }
     ],
     "prompt_number": 4
    },
    {
     "cell_type": "heading",
     "level": 2,
     "metadata": {},
     "source": [
      "Example 7.2 Page no 215"
     ]
    },
    {
     "cell_type": "code",
     "collapsed": false,
     "input": [
      "#Given\n",
      "c=5*10**18                            #cm**-3\n",
      "a=1\n",
      "un=0.5*1300\n",
      "q=1.60*10**-19\n",
      "xi=2.7*10**-4\n",
      "\n",
      "#Calculation\n",
      "n=a/(un*q)\n",
      "y=n/c\n",
      "Dt=(xi/(2.2*2*math.sqrt(2*3600)))**2\n",
      "\n",
      "#Result\n",
      "print\"The value of diffusion constant is \", round(Dt*10**13,3)*10**-13,\"cm**2/second\""
     ],
     "language": "python",
     "metadata": {},
     "outputs": [
      {
       "output_type": "stream",
       "stream": "stdout",
       "text": [
        "The value of diffusion constant is  5.23e-13 cm**2/second\n"
       ]
      }
     ],
     "prompt_number": 16
    },
    {
     "cell_type": "heading",
     "level": 2,
     "metadata": {},
     "source": [
      "Example 7.3 Page no 215"
     ]
    },
    {
     "cell_type": "code",
     "collapsed": false,
     "input": [
      "#Given\n",
      "D=5.2*10**-13                         #cm**2/second\n",
      "a=1.7*10**-4\n",
      "b=2.5*10**17                           #/cm**3\n",
      "c=4*10**-13\n",
      "d=3420\n",
      "\n",
      "#Calculation\n",
      "y=a/(2.0*math.sqrt(D*2*3600))\n",
      "Q=b/(math.sqrt(math.pi*c*d)*math.exp(-a**2/4.0*c*d))\n",
      "\n",
      "#Result\n",
      "print\"The value of Q=\",round(Q*10**-21,1)*10**15,\"/cm**3\""
     ],
     "language": "python",
     "metadata": {},
     "outputs": [
      {
       "output_type": "stream",
       "stream": "stdout",
       "text": [
        "The value of Q= 3.8e+15 /cm**3\n"
       ]
      }
     ],
     "prompt_number": 24
    },
    {
     "cell_type": "heading",
     "level": 2,
     "metadata": {},
     "source": [
      "Example 7.4 Page no 222"
     ]
    },
    {
     "cell_type": "code",
     "collapsed": false,
     "input": [
      "#Given\n",
      "q=1.6*10**-19                         #C\n",
      "p=10.0**16                               #/cm**3\n",
      "m=500.0                                  #cm**2/V-s\n",
      "a=100.0*10**-4 \n",
      "\n",
      "#Calculation\n",
      "R=1/(q*p*m*a)\n",
      "\n",
      "#Result\n",
      "print\"The sheet resistance is \", R,\"ohm/square\""
     ],
     "language": "python",
     "metadata": {},
     "outputs": [
      {
       "output_type": "stream",
       "stream": "stdout",
       "text": [
        "The sheet resistance is  125.0 ohm/square\n"
       ]
      }
     ],
     "prompt_number": 27
    },
    {
     "cell_type": "heading",
     "level": 2,
     "metadata": {},
     "source": [
      "Example 7.5 Page no 223"
     ]
    },
    {
     "cell_type": "code",
     "collapsed": false,
     "input": [
      "#Given\n",
      "Rs=100\n",
      "l=50\n",
      "w=10.0\n",
      "\n",
      "#Calculation\n",
      "R=Rs*l/w\n",
      "\n",
      "#Result\n",
      "print\"The resistance of the diffused resistance is \", R,\"ohm\""
     ],
     "language": "python",
     "metadata": {},
     "outputs": [
      {
       "output_type": "stream",
       "stream": "stdout",
       "text": [
        "The resistance of the diffused resistance is  500.0 ohm\n"
       ]
      }
     ],
     "prompt_number": 30
    },
    {
     "cell_type": "heading",
     "level": 2,
     "metadata": {},
     "source": [
      "Example 7.6 Page no 225"
     ]
    },
    {
     "cell_type": "code",
     "collapsed": false,
     "input": [
      "#Given\n",
      "a=0.026\n",
      "Na=10**16\n",
      "Nd=10**18\n",
      "ni=1.5*10**10\n",
      "A=100*10**-8\n",
      "e=8.85*10**-14\n",
      "q=1.6*10**-19                  #c\n",
      "\n",
      "#Calculation\n",
      "import math\n",
      "Vj=a*math.log((Na*Nd)/ni**2)\n",
      "C=A*math.sqrt((q*Na*e*11.9)/(2.0*Vj))\n",
      "\n",
      "#Result\n",
      "print\"The capacitance is \", round(C*10**15,0),\"fF\""
     ],
     "language": "python",
     "metadata": {},
     "outputs": [
      {
       "output_type": "stream",
       "stream": "stdout",
       "text": [
        "The capacitance is  32.0 fF\n"
       ]
      }
     ],
     "prompt_number": 43
    },
    {
     "cell_type": "heading",
     "level": 2,
     "metadata": {},
     "source": [
      "Example 7.7 Page no 225"
     ]
    },
    {
     "cell_type": "code",
     "collapsed": false,
     "input": [
      "#Given\n",
      "a=1300\n",
      "b=0.01\n",
      "Na=10**19\n",
      "ni=1.5*10**10\n",
      "A=0.026\n",
      "B=100*10*10**-8\n",
      "\n",
      "#Calculation\n",
      "Nd=1/(q*a*b)\n",
      "Vj=A*math.log((Na*Nd)/ni**2)\n",
      "C=B*math.sqrt((q*Nd*e*11.9)/(2.0*Vj))\n",
      "\n",
      "#Result\n",
      "print\"Th capacitance of the junction is \", round(C*10**12,0),\"pF\""
     ],
     "language": "python",
     "metadata": {},
     "outputs": [
      {
       "output_type": "stream",
       "stream": "stdout",
       "text": [
        "Th capacitance of the junction is  2.0 pF\n"
       ]
      }
     ],
     "prompt_number": 52
    },
    {
     "cell_type": "heading",
     "level": 2,
     "metadata": {},
     "source": [
      "Example 7.8 Page no 226"
     ]
    },
    {
     "cell_type": "code",
     "collapsed": false,
     "input": [
      "#Given\n",
      "a=3.9\n",
      "e=8.85*10**-14\n",
      "d=20.0*10**-8\n",
      "\n",
      "#Calculation\n",
      "C=a*e/d\n",
      "print\"Capacitance is \", round(C*10**7,1),\"fF/um**2\""
     ],
     "language": "python",
     "metadata": {},
     "outputs": [
      {
       "output_type": "stream",
       "stream": "stdout",
       "text": [
        "Capacitance is  17.3 fF/um**2\n"
       ]
      }
     ],
     "prompt_number": 62
    }
   ],
   "metadata": {}
  }
 ]
}