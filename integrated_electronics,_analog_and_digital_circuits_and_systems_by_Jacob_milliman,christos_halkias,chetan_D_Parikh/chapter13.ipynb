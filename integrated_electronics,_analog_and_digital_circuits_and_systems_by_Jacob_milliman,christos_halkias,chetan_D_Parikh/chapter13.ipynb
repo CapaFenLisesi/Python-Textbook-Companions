{
 "metadata": {
  "name": "",
  "signature": "sha256:172ba3a5ef09246d169dd60c0f705db29e1fcab0a61d89b5ca44a972a5529bab"
 },
 "nbformat": 3,
 "nbformat_minor": 0,
 "worksheets": [
  {
   "cells": [
    {
     "cell_type": "heading",
     "level": 1,
     "metadata": {},
     "source": [
      "Chapter 13 Feedback amplifier"
     ]
    },
    {
     "cell_type": "heading",
     "level": 2,
     "metadata": {},
     "source": [
      "Example 13.4 Page no 468"
     ]
    },
    {
     "cell_type": "code",
     "collapsed": false,
     "input": [
      "#Given\n",
      "Af=0.05\n",
      "A=1000\n",
      "\n",
      "#Calculation\n",
      "A1=Af*A\n",
      "\n",
      "#Result\n",
      "print\"The maximum permissible variation in it is\", A1/10.0,\"%\""
     ],
     "language": "python",
     "metadata": {},
     "outputs": [
      {
       "output_type": "stream",
       "stream": "stdout",
       "text": [
        "The maximum permissible variation in it is 5.0 %\n"
       ]
      }
     ],
     "prompt_number": 6
    },
    {
     "cell_type": "heading",
     "level": 2,
     "metadata": {},
     "source": [
      "Example 13.5 Page no 469"
     ]
    },
    {
     "cell_type": "code",
     "collapsed": false,
     "input": [
      "#Given\n",
      "A2=10\n",
      "A1=100.0\n",
      "B=50\n",
      "Xs=1\n",
      "\n",
      "#Calculation\n",
      "X=(A2*Xs/(A1*(1+B)))*100\n",
      "\n",
      "#Result\n",
      "print\"The maximum percentage nonlinearity at the output of the amplifier is \", round(X,1),\"%\""
     ],
     "language": "python",
     "metadata": {},
     "outputs": [
      {
       "output_type": "stream",
       "stream": "stdout",
       "text": [
        "The maximum percentage nonlinearity at the output of the amplifier is  0.2 %\n"
       ]
      }
     ],
     "prompt_number": 12
    },
    {
     "cell_type": "heading",
     "level": 2,
     "metadata": {},
     "source": [
      "Example 13.7 Page no 481"
     ]
    },
    {
     "cell_type": "code",
     "collapsed": false,
     "input": [
      "#Given\n",
      "R1=10.0                         #K\n",
      "R2=47                         #K\n",
      "R3=33                         #K\n",
      "R4=1.1                        #K\n",
      "Rc2=4.7                       #K\n",
      "Rc1=4.8                        #K\n",
      "R11=0.1\n",
      "hfe=50\n",
      "hie=1.1\n",
      "\n",
      "#Calculation\n",
      "Rl0=R1*R2/(R1+R2)\n",
      "Rl01=Rl0*R3/(Rl0+R3)\n",
      "Rl1=(Rl01*R4/(Rl01+R4))\n",
      "Rl2=Rc2*Rc1/(Rc2+Rc1)\n",
      "Re=(R11*Rc2/(R11+Rc2))\n",
      "Av1=(-hfe*Rl1)/(hie+(1+hfe)*Re)\n",
      "Av2=-hfe*Rl2/hie\n",
      "Av=Av1*Av2\n",
      "B1=R11*10**3/(R11*10**3+Rc2*10**3)\n",
      "X=Av*B1\n",
      "D=1+X\n",
      "Avf=Av/D\n",
      "Ri=hie+(1+hfe)*Re\n",
      "Rif=Ri*D\n",
      "Rof=Rl2/D\n",
      "\n",
      "#Result\n",
      "print\"The value of Avf=\", round(Avf,1),\"\\nRof=\",round(Rof*10**3,0),\"ohm \\nRif=\",round(Rif,0),\"K\""
     ],
     "language": "python",
     "metadata": {},
     "outputs": [
      {
       "output_type": "stream",
       "stream": "stdout",
       "text": [
        "The value of Avf= 45.4 \n",
        "Rof= 129.0 ohm \n",
        "Rif= 112.0 K\n"
       ]
      }
     ],
     "prompt_number": 48
    },
    {
     "cell_type": "heading",
     "level": 2,
     "metadata": {},
     "source": [
      "Example 13.8 Page no 484"
     ]
    },
    {
     "cell_type": "code",
     "collapsed": false,
     "input": [
      "#Given\n",
      "Gmf=1.0                     #mA\n",
      "D=50\n",
      "B=50.0\n",
      "Avf=4\n",
      "Rs=1                          #K\n",
      "hfe=150\n",
      "Vt=0.026\n",
      "hie=1.0\n",
      "\n",
      "#Calculation\n",
      "Gm=-Gmf*D\n",
      "Re=(D-1)/B\n",
      "Rl=Avf/Gmf\n",
      "Ri=Rs+hie+Re\n",
      "Rif=Ri*D+1\n",
      "Ic=hfe*Vt/hie\n",
      "\n",
      "#Result\n",
      "print\"(a) The value of Re=\", round(Re,0),\"K\"\n",
      "print\"(b) The value of Rl=\", Rl,\"K\"\n",
      "print\"(c) The vlue of Rif=\",Rif,\"K\"\n",
      "print\"(d) The value of collector current Ic=\",Ic,\"mA\""
     ],
     "language": "python",
     "metadata": {},
     "outputs": [
      {
       "output_type": "stream",
       "stream": "stdout",
       "text": [
        "(a) The value of Re= 1.0 K\n",
        "(b) The value of Rl= 4.0 K\n",
        "(c) The vlue of Rif= 150.0 K\n",
        "(d) The value of collector current Ic= 3.9 mA\n"
       ]
      }
     ],
     "prompt_number": 1
    },
    {
     "cell_type": "heading",
     "level": 2,
     "metadata": {},
     "source": [
      "Example 13.12 Page no 494"
     ]
    },
    {
     "cell_type": "code",
     "collapsed": false,
     "input": [
      "#Given\n",
      "Rc=4.0                    #K\n",
      "R1=40.0                   #K\n",
      "Rs=10.0\n",
      "hie=1.1\n",
      "hfe=50\n",
      "\n",
      "#Calculation\n",
      "Rc1=Rc*R1/(Rc+R1)\n",
      "R=R1*Rs/(R1+Rs)\n",
      "Rm=(-hfe*Rc1*R)/(R+hie)\n",
      "B=1/R1\n",
      "D=1-B*Rm\n",
      "Rmf=Rm/D\n",
      "Avf=Rmf/Rs\n",
      "Ri=(R*hie/(R+hie))*10**3\n",
      "Rif=Ri/D\n",
      "Rm1=-hfe*R1*R/(R+hie)\n",
      "Rof=-R1*10**3/(1.0+(B*Rm1))\n",
      "Rof1=Rof*Rc*10**3/(Rof+Rc*10**3)\n",
      "Rof2=(Rc1/D)*10**3\n",
      "\n",
      "#Result\n",
      "print\"(a) The value of Avf=\",round(Avf,2)\n",
      "print\"(b) The value of Rif=\",round(Rif,0),\"ohm\"\n",
      "print\"(c) The value of R'of=\",round(Rof2,0),\"ohm\""
     ],
     "language": "python",
     "metadata": {},
     "outputs": [
      {
       "output_type": "stream",
       "stream": "stdout",
       "text": [
        "(a) The value of Avf= -3.2\n",
        "(b) The value of Rif= 194.0 ohm\n",
        "(c) The value of R'of= 728.0 ohm\n"
       ]
      }
     ],
     "prompt_number": 120
    }
   ],
   "metadata": {}
  }
 ]
}