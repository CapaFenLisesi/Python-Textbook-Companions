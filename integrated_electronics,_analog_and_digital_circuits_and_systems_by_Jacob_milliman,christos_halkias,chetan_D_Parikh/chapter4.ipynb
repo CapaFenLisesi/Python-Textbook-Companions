{
 "metadata": {
  "name": "",
  "signature": "sha256:9f289dda06b9ba7ed14472e4d57e629ebc17ee26a69b31bf50df83838eaa6bf3"
 },
 "nbformat": 3,
 "nbformat_minor": 0,
 "worksheets": [
  {
   "cells": [
    {
     "cell_type": "heading",
     "level": 1,
     "metadata": {},
     "source": [
      "Chapter 4 Diode circuits"
     ]
    },
    {
     "cell_type": "heading",
     "level": 2,
     "metadata": {},
     "source": [
      "Example 4.1 Page no 88"
     ]
    },
    {
     "cell_type": "code",
     "collapsed": false,
     "input": [
      "#Given\n",
      "Vt=0.062\n",
      "I0=10**-14                      #A\n",
      "Rl=2000.0\n",
      "\n",
      "#Calculation\n",
      "#0.026*ln*(1+i/I0)+i*Rl=1\n",
      "#By solving trial and error\n",
      "\n",
      "#Calculation\n",
      "print\"i=1.94 mA\""
     ],
     "language": "python",
     "metadata": {},
     "outputs": [
      {
       "output_type": "stream",
       "stream": "stdout",
       "text": [
        "i=1.94 mA\n"
       ]
      }
     ],
     "prompt_number": 2
    },
    {
     "cell_type": "heading",
     "level": 2,
     "metadata": {},
     "source": [
      "Example 4.3 Page no 91"
     ]
    },
    {
     "cell_type": "code",
     "collapsed": false,
     "input": [
      "#Given\n",
      "Vx=1                              #Volts\n",
      "Vy=0.6                            #Volts\n",
      "Rf=2.01*10**3\n",
      "\n",
      "#Calculation\n",
      "i=(Vx-Vy)/Rf\n",
      "\n",
      "#Result\n",
      "print\"The value of current is \", round(i*10**3,1),\"mA\""
     ],
     "language": "python",
     "metadata": {},
     "outputs": [
      {
       "output_type": "stream",
       "stream": "stdout",
       "text": [
        "The value of current is  0.2 mA\n"
       ]
      }
     ],
     "prompt_number": 6
    },
    {
     "cell_type": "heading",
     "level": 2,
     "metadata": {},
     "source": [
      "Example 4.4 Page no 92 "
     ]
    },
    {
     "cell_type": "code",
     "collapsed": false,
     "input": [
      "#Given\n",
      "Vx=-0.7                          #Volts\n",
      "Vy=1                             #Volts\n",
      "R=300                            #ohm\n",
      "I=3*10**-3\n",
      "\n",
      "#Calculation\n",
      "i=(Vx+Vy)/R\n",
      "I1=I-i\n",
      "V=-i*R/(Vy+Vx)\n",
      "\n",
      "#Result\n",
      "print\"The value of voltage is \", V,\"volts\""
     ],
     "language": "python",
     "metadata": {},
     "outputs": [
      {
       "output_type": "stream",
       "stream": "stdout",
       "text": [
        "The value of voltage is  -1.0 volts\n"
       ]
      }
     ],
     "prompt_number": 14
    },
    {
     "cell_type": "heading",
     "level": 2,
     "metadata": {},
     "source": [
      "Example 4.5 Page no 95"
     ]
    },
    {
     "cell_type": "code",
     "collapsed": false,
     "input": [
      "#Given\n",
      "Rl=9.0*10**3                      #ohm\n",
      "R=1.0*10**3                        #ohm\n",
      "Vr=1                              #Volts\n",
      "\n",
      "#Calculation\n",
      "V0=(Rl/(R+Rl))*Vr\n",
      "\n",
      "#Result\n",
      "print\"The output voltage for both the circuits is \", V0,\"Volts\""
     ],
     "language": "python",
     "metadata": {},
     "outputs": [
      {
       "output_type": "stream",
       "stream": "stdout",
       "text": [
        "The output voltage for both the circuits is  0.9 Volts\n"
       ]
      }
     ],
     "prompt_number": 20
    },
    {
     "cell_type": "heading",
     "level": 2,
     "metadata": {},
     "source": [
      "Example 4.8 Page no 101"
     ]
    },
    {
     "cell_type": "code",
     "collapsed": false,
     "input": [
      "#Given\n",
      "Vs=1                                #Volts\n",
      "Rc=100\n",
      "Rl=1000.0\n",
      "\n",
      "#Calculation\n",
      "V=Vs*(2+Rc/Rl)\n",
      "\n",
      "#Result\n",
      "print\"The minimum value of Vc required for the circuit is \", V,\"Volts\""
     ],
     "language": "python",
     "metadata": {},
     "outputs": [
      {
       "output_type": "stream",
       "stream": "stdout",
       "text": [
        "The minimum value of Vc required for the circuit is  2.1 Volts\n"
       ]
      }
     ],
     "prompt_number": 26
    },
    {
     "cell_type": "heading",
     "level": 2,
     "metadata": {},
     "source": [
      "Example 4.10 Page no 105"
     ]
    },
    {
     "cell_type": "code",
     "collapsed": false,
     "input": [
      "#Given\n",
      "Vrms=220                       #Volts\n",
      "Rf=10                           #ohm\n",
      "Rl=500.0                         #ohm\n",
      "\n",
      "#Calculation\n",
      "Im=math.sqrt(2)*Vrms/(Rf+Rl)\n",
      "Idc=Im/math.pi\n",
      "Irms=Im/2.0\n",
      "Vdc=-Im*Rl/math.pi\n",
      "P=Vrms*Irms\n",
      "R=(Rf/Rl)*100\n",
      "\n",
      "#Result\n",
      "print\"(a) The peak load current is \",round(Im,2),\"A\"\n",
      "print\"(b) The DC load current is \",round(Idc,2),\"A\"\n",
      "print\"(c) The rms load current is \", round(Irms,3),\"A\"\n",
      "print\"(d) The DC diode voltage is \",round(Vdc,1),\"Volts\"\n",
      "print\"(e) The total input power of the circuit is \",round(P,1),\"W\"\n",
      "print\"(f) Percentage Regulation is \",R,\"%\""
     ],
     "language": "python",
     "metadata": {},
     "outputs": [
      {
       "output_type": "stream",
       "stream": "stdout",
       "text": [
        "(a) The peak load current is  0.61 A\n",
        "(b) The DC load current is  0.19 A\n",
        "(c) The rms load current is  0.305 A\n",
        "(d) The DC diode voltage is  -97.1 Volts\n",
        "(e) The total input power of the circuit is  67.1 W\n",
        "(f) Percentage Regulation is  2.0 %\n"
       ]
      }
     ],
     "prompt_number": 53
    },
    {
     "cell_type": "heading",
     "level": 2,
     "metadata": {},
     "source": [
      "Example 4.11 Page no 107"
     ]
    },
    {
     "cell_type": "code",
     "collapsed": false,
     "input": [
      "#Given\n",
      "Vm=5                       #V\n",
      "Rl=100.0                              #ohm\n",
      "Rf=10.0                          #ohm\n",
      "Vy=0.6\n",
      "\n",
      "#Calculation\n",
      "import math\n",
      "Vdc=2*((Vm/math.pi)*(Rl/(Rl+Rf))-Vy)\n",
      "\n",
      "#Result\n",
      "print\"The DC output voltage is \",round(Vdc,2)"
     ],
     "language": "python",
     "metadata": {},
     "outputs": [
      {
       "output_type": "stream",
       "stream": "stdout",
       "text": [
        "The DC output voltage is  1.69\n"
       ]
      }
     ],
     "prompt_number": 60
    },
    {
     "cell_type": "heading",
     "level": 2,
     "metadata": {},
     "source": [
      "Example 4.12 Page no 107"
     ]
    },
    {
     "cell_type": "code",
     "collapsed": false,
     "input": [
      "#Result\n",
      "print\"For the clipped waveform to be symmeric Vr1 and Vr2 must be equal and opposite in sign. Therefore , for the waveform to be flat for 50 % of the time, the clipped voltage must be 50 % of peak voltge \"\n",
      "print\"Vr1=-Vr2=5V\""
     ],
     "language": "python",
     "metadata": {},
     "outputs": [
      {
       "output_type": "stream",
       "stream": "stdout",
       "text": [
        "For the clipped waveform to be symmeric Vr1 and Vr2 must be equal and opposite in sign. Therefore , for the waveform to be flat for 50 % of the time, the clipped voltage must be 50 % of peak voltge \n",
        "Vr1=-Vr2=5V\n"
       ]
      }
     ],
     "prompt_number": 62
    }
   ],
   "metadata": {}
  }
 ]
}