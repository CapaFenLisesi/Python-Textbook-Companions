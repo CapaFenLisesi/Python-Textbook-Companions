{
 "metadata": {
  "name": "",
  "signature": "sha256:38eb94b688b56d419121762763fcb72ead6f3d0c417d911e26521b906b0e946c"
 },
 "nbformat": 3,
 "nbformat_minor": 0,
 "worksheets": [
  {
   "cells": [
    {
     "cell_type": "heading",
     "level": 1,
     "metadata": {},
     "source": [
      "Chapter 10 Field-Effect Transistors"
     ]
    },
    {
     "cell_type": "heading",
     "level": 2,
     "metadata": {},
     "source": [
      "Example 10.1 Page no 337"
     ]
    },
    {
     "cell_type": "code",
     "collapsed": false,
     "input": [
      "#Given\n",
      "V=10                 #Volts\n",
      "I=3.0                   #mA\n",
      "Vgg=2.5                #Volts\n",
      "I1=2.0                  #mA\n",
      "Vcc=20               #Volts\n",
      "\n",
      "#Calculation\n",
      "Rd=V/I\n",
      "Rd1=(Vcc-Vgg)/I1\n",
      "\n",
      "#Result\n",
      "print\"(a) The value of Rd is \", round(Rd,2),\"K ohm\"\n",
      "print\"(b) The new value of Rd is \", Rd1,\"K ohm\""
     ],
     "language": "python",
     "metadata": {},
     "outputs": [
      {
       "output_type": "stream",
       "stream": "stdout",
       "text": [
        "(a) The value of Rd is  3.33 K ohm\n",
        "(b) The new value of Rd is  8.75 K ohm\n"
       ]
      }
     ],
     "prompt_number": 8
    },
    {
     "cell_type": "heading",
     "level": 2,
     "metadata": {},
     "source": [
      "Example 10.2 Page no 338"
     ]
    },
    {
     "cell_type": "code",
     "collapsed": false,
     "input": [
      "#Given\n",
      "a=3*10**-4               #cm\n",
      "q=1.60*10**-19\n",
      "c=10**21\n",
      "d=12\n",
      "e=10**9\n",
      "Vp1=2.0\n",
      "Vgs=1\n",
      "\n",
      "#Calculation\n",
      "import math\n",
      "Vp=(q*c*a**2)/(2.0*d*(36*math.pi*e)**-1)\n",
      "b=a*(1-math.sqrt(Vgs/Vp1))\n",
      "\n",
      "#Result\n",
      "print\"(a) The pitch off voltage is \", round(Vp*10**-4,1),\"Volts\"\n",
      "print\"(b) The channel half-width is \",round(b*10**4,2),\"*10**-4 cm\""
     ],
     "language": "python",
     "metadata": {},
     "outputs": [
      {
       "output_type": "stream",
       "stream": "stdout",
       "text": [
        "(a) The pitch off voltage is  6.8 Volts\n",
        "(b) The channel half-width is  0.88 *10**-4 cm\n"
       ]
      }
     ],
     "prompt_number": 27
    },
    {
     "cell_type": "heading",
     "level": 2,
     "metadata": {},
     "source": [
      "Example 10.3 Page no 348"
     ]
    },
    {
     "cell_type": "code",
     "collapsed": false,
     "input": [
      "#Given\n",
      "Vg=0.5                      #Volts\n",
      "Vdd=3.3                     #Volts\n",
      "Vg1=2                        #Volts\n",
      "Rd=1                      \n",
      "Rd1=10                       #Volts\n",
      "Id1=10                       #A\n",
      "a=11\n",
      "b=5.0\n",
      "\n",
      "#Calculation\n",
      "Id=1/2.0*(Vp1-1)**2\n",
      "V=Vg-1\n",
      "Vd=Vdd-Vg*1\n",
      "Vd1=Vg1-Rd\n",
      "Vd2=Vdd-Vg*Id1\n",
      "Vd3=Vdd*10**-1\n",
      "Id2=(Vdd-Vd3)/10.0\n",
      "\n",
      "#Result\n",
      "print\"(a) The drain current is 0 V is less than 0\",\",\", V,\"Volts\"\n",
      "print\"(b) Vd1<Vd, Hence the transistor in the saturation\",\",\",Vd,\"Volts\"\n",
      "print\"(c) The drain current is \", Id2,\"mA\""
     ],
     "language": "python",
     "metadata": {},
     "outputs": [
      {
       "output_type": "stream",
       "stream": "stdout",
       "text": [
        "(a) The drain current is 0 V is less than 0 , -0.5 Volts\n",
        "(b) Vd1<Vd, Hence the transistor in the saturation , 2.8 Volts\n",
        "(c) The drain current is  0.297 mA\n"
       ]
      }
     ],
     "prompt_number": 48
    },
    {
     "cell_type": "heading",
     "level": 2,
     "metadata": {},
     "source": [
      "Example 10.4 Page no 349"
     ]
    },
    {
     "cell_type": "code",
     "collapsed": false,
     "input": [
      "#Given\n",
      "X=2\n",
      "Vgs=1.8                         #Volts\n",
      "a=0.2\n",
      "b=3.4\n",
      "\n",
      "#Calculation\n",
      "import math\n",
      "Vs=(Vgs-1)\n",
      "#Vs**2-1.6*Vs+0.64\n",
      "#After solving the above equation\n",
      "Vs1=0+a\n",
      "Vs2=0+b\n",
      "Id=2*Vs1\n",
      "Vd=Vs2-1*(Id)\n",
      "Vd1=Vgs-a-1\n",
      "Vd2=Vd-a\n",
      "\n",
      "#Result\n",
      "print\"The value of Vd1 <= Vd2 ie.\", Vd1,\"<=\",Vd2,\"Hence the transistor is in saturation\"\n"
     ],
     "language": "python",
     "metadata": {},
     "outputs": [
      {
       "output_type": "stream",
       "stream": "stdout",
       "text": [
        "The value of Vd1 <= Vd2 ie. 0.6 <= 2.8 Hence the transistor is in saturation\n"
       ]
      }
     ],
     "prompt_number": 17
    },
    {
     "cell_type": "heading",
     "level": 2,
     "metadata": {},
     "source": [
      "Example 10.5 Page no 350"
     ]
    },
    {
     "cell_type": "code",
     "collapsed": false,
     "input": [
      "#Given\n",
      "Vs=0.2                         #Volts\n",
      "Id=0.4                         #mA\n",
      "Vgg=3.3                        #Volts\n",
      "Rd=10                          #K ohm\n",
      "X=2\n",
      "Vgs=1.8                        #Volts\n",
      "Id1=0.31                       #mA\n",
      "Id2=-1.52                      #mA\n",
      "Vgs=1.8                        #Volts\n",
      "\n",
      "#Calculation\n",
      "Vd=Vgg-(Rd*Id)\n",
      "Vs=0.5*Id1\n",
      "V=Vgs-Vs-1\n",
      "\n",
      "#Result\n",
      "print\"The value of Vs <= V ie.\", Vs,\"V <=\",V,\"V .Hence the transistor is in the triode region.\"\n",
      " "
     ],
     "language": "python",
     "metadata": {},
     "outputs": [
      {
       "output_type": "stream",
       "stream": "stdout",
       "text": [
        "The value of Vs <= V ie. 0.155 V <= 0.645 V .Hence the transistor is in the triode region.\n"
       ]
      }
     ],
     "prompt_number": 19
    },
    {
     "cell_type": "heading",
     "level": 2,
     "metadata": {},
     "source": [
      "Example 10.6 Page no 351"
     ]
    },
    {
     "cell_type": "code",
     "collapsed": false,
     "input": [
      "#Given\n",
      "X=2\n",
      "Vt=0.7\n",
      "Vgs1=1\n",
      "vgg=3.3                 #Volts\n",
      "Vg1=2.3                    #V\n",
      "\n",
      "#Calculation\n",
      "Id1=X/2.0*(Vgs1-Vt)**2\n",
      "Id2=X/2.0*(vgg-2-Vt)**2\n",
      "Vd1=Id1+2.1\n",
      "Vd2=vgg-Id1\n",
      "Id3=X/2.0*(vgg-Vg1-Vt)**2\n",
      "print\"(a) The drain current is \",Id1,\"mA and\",Id2,\"mA \\n    The drain voltage is \",Vd1,\"V and \",Vd2,\"V\"\n",
      "print\"(b) The drain voltage is \",Id3,\"mA\""
     ],
     "language": "python",
     "metadata": {},
     "outputs": [
      {
       "output_type": "stream",
       "stream": "stdout",
       "text": [
        "(a) The drain current is  0.09 mA and 0.36 mA \n",
        "    The drain voltage is  2.19 V and  3.21 V\n",
        "(b) The drain voltage is  0.09 mA\n"
       ]
      }
     ],
     "prompt_number": 16
    },
    {
     "cell_type": "heading",
     "level": 2,
     "metadata": {},
     "source": [
      "Example 10.16 Page no 363"
     ]
    },
    {
     "cell_type": "code",
     "collapsed": false,
     "input": [
      "#Given\n",
      "Id=1.65                     #mA\n",
      "Vp=2.0                      #V\n",
      "Id1=0.8                   #mA\n",
      "\n",
      "#Calculation\n",
      "Vgs=(math.sqrt(Id1/Id)-1)*2\n",
      "gm0=2*Id/Vp\n",
      "gm=gm0*(1+(Vgs/Vp))\n",
      "Rs=-Vgs/Id1\n",
      "Rd=10/gm\n",
      "\n",
      "#Result\n",
      "print\"(a) Vgs=\",round(Vgs,2),\"Volts\"\n",
      "print\"(b) gm=\",round(gm,2),\"mA/V\"\n",
      "print\"(c) Rs=\",round(Rs,2),\"K ohm\"\n",
      "print\"(d) Rd=\", round(Rd,2),\"K\""
     ],
     "language": "python",
     "metadata": {},
     "outputs": [
      {
       "output_type": "stream",
       "stream": "stdout",
       "text": [
        "(a) Vgs= -0.61 Volts\n",
        "(b) gm= 1.15 mA/V\n",
        "(c) Rs= 0.76 K ohm\n",
        "(d) Rd= 8.7 K\n"
       ]
      }
     ],
     "prompt_number": 41
    },
    {
     "cell_type": "heading",
     "level": 2,
     "metadata": {},
     "source": [
      "Example 10.17 Page no 365"
     ]
    },
    {
     "cell_type": "code",
     "collapsed": false,
     "input": [
      "#Given\n",
      "Vgs=-4                       #V\n",
      "Id=0.9             #mA\n",
      "Id1=1.1                #mA\n",
      "\n",
      "#Calculation\n",
      "Rs=(-Vgs-0)/(Id1-Id)\n",
      "Vgg=Id*Rs\n",
      "\n",
      "#Result\n",
      "print\"(a) Vgg=\", Vgg,\"V and Rs=\",Rs,\"K\"\n",
      "print\"(b) The minimum current is far below the specified  value of 0.8 mA\""
     ],
     "language": "python",
     "metadata": {},
     "outputs": [
      {
       "output_type": "stream",
       "stream": "stdout",
       "text": [
        "(a) Vgg= 18.0 V and Rs= 20.0 K\n",
        "(b) The minimum current is far below the specified  value of 0.8 mA\n"
       ]
      }
     ],
     "prompt_number": 47
    }
   ],
   "metadata": {}
  }
 ]
}