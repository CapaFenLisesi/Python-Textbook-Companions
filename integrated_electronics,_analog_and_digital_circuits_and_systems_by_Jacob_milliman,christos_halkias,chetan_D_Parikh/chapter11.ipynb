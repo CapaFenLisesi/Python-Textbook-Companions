{
 "metadata": {
  "name": "",
  "signature": "sha256:ebdec6cb495667df37ffaaeecbb774d37b652f4654074229d5a37ffac1c75e5b"
 },
 "nbformat": 3,
 "nbformat_minor": 0,
 "worksheets": [
  {
   "cells": [
    {
     "cell_type": "heading",
     "level": 1,
     "metadata": {},
     "source": [
      "Chapter 11 The Transistor at High Frequences"
     ]
    },
    {
     "cell_type": "heading",
     "level": 2,
     "metadata": {},
     "source": [
      "Example 11.1 Page no 391"
     ]
    },
    {
     "cell_type": "code",
     "collapsed": false,
     "input": [
      "#Given\n",
      "R=1                                        #K\n",
      "Ce=1                                       #pF\n",
      "Cc=0.2                                     #pF\n",
      "Gm=50                                      #mA/V\n",
      "\n",
      "#Calculation\n",
      "import math\n",
      "Fb=(1/(2.0*math.pi*R*(Cc+Ce)))*10**3\n",
      "Fr=Gm/(2.0*math.pi*(Cc+Ce) )\n",
      "\n",
      "#Result\n",
      "print\"The value of Fb=\", round(Fb,0),\"MHz\"\n",
      "print\"The value of Fr=\",round(Fr,1),\"GHz\""
     ],
     "language": "python",
     "metadata": {},
     "outputs": [
      {
       "output_type": "stream",
       "stream": "stdout",
       "text": [
        "The value of Fb= 133.0 MHz\n",
        "The value of Fr= 6.6 GHz\n"
       ]
      }
     ],
     "prompt_number": 22
    },
    {
     "cell_type": "heading",
     "level": 2,
     "metadata": {},
     "source": [
      "Example 11.2 Page no 393"
     ]
    },
    {
     "cell_type": "code",
     "collapsed": false,
     "input": [
      "#Given\n",
      "R=1                                       #K\n",
      "Ce=1                                      #pF\n",
      "Cc=0.2                                    #pF\n",
      "Gm=50                                     #mA/V\n",
      "Rl=2                                      #K\n",
      "\n",
      "#Calculation\n",
      "Fh=1/(2.0*math.pi*R*(Ce+Cc*(1+Gm*Rl)))\n",
      "\n",
      "#Result\n",
      "print\"The value of Fh=\", round(Fh*10**3,1),\"MHz\""
     ],
     "language": "python",
     "metadata": {},
     "outputs": [
      {
       "output_type": "stream",
       "stream": "stdout",
       "text": [
        "The value of Fh= 7.5 MHz\n"
       ]
      }
     ],
     "prompt_number": 26
    },
    {
     "cell_type": "heading",
     "level": 1,
     "metadata": {},
     "source": [
      "Example 11.3 Page no 397"
     ]
    },
    {
     "cell_type": "code",
     "collapsed": false,
     "input": [
      "#Given\n",
      "Ic=1                                     #mA\n",
      "Vt=26.0                                  #mV\n",
      "Hfe=100\n",
      "a=6.7*10**8\n",
      "\n",
      "#Calculation\n",
      "import math\n",
      "Gm=(Ic)/(Vt)\n",
      "R=(Hfe)/(Gm)\n",
      "f=a/(2*math.pi)\n",
      "\n",
      "#Result\n",
      "print\"The frequency domain is \", round(f*10**-6,0),\"MHz\""
     ],
     "language": "python",
     "metadata": {},
     "outputs": [
      {
       "output_type": "stream",
       "stream": "stdout",
       "text": [
        "The frequency domain is  107.0 MHz\n"
       ]
      }
     ],
     "prompt_number": 43
    },
    {
     "cell_type": "heading",
     "level": 2,
     "metadata": {},
     "source": [
      "Example 11.6 Page no 400"
     ]
    },
    {
     "cell_type": "code",
     "collapsed": false,
     "input": [
      "#Given\n",
      "R=2.5*10**3             #ohm\n",
      "Ce=5               #pF\n",
      "Cc=1                 #pF\n",
      "gm=40                #mA/V\n",
      "Rf=100*10**3             #ohm\n",
      "a=201.0\n",
      "Rs=1*10**3                #ohm\n",
      "Av=20\n",
      "\n",
      "#Calculation\n",
      "import math\n",
      "X=(Rs*Rf/a*R*Ce+Cc*Av)*10**-8\n",
      "f=1/(X*2*math.pi)\n",
      "\n",
      "#Result\n",
      "print\"The domain pole frequency is \", round(f*10**3,1),\"MHz\""
     ],
     "language": "python",
     "metadata": {},
     "outputs": [
      {
       "output_type": "stream",
       "stream": "stdout",
       "text": [
        "The domain pole frequency is  2.6 MHz\n"
       ]
      }
     ],
     "prompt_number": 64
    }
   ],
   "metadata": {}
  }
 ]
}