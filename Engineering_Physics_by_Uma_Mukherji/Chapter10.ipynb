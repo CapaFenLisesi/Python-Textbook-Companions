{
 "metadata": {
  "name": "",
  "signature": "sha256:38e4520c8655f11fdcb5696673580e95d36ab2ce43843aea287c93b1f1a0b257"
 },
 "nbformat": 3,
 "nbformat_minor": 0,
 "worksheets": [
  {
   "cells": [
    {
     "cell_type": "heading",
     "level": 1,
     "metadata": {},
     "source": [
      "10: Quantum Physics and Schrodinger wave equation"
     ]
    },
    {
     "cell_type": "heading",
     "level": 2,
     "metadata": {},
     "source": [
      "Example number 10.1, Page number 258"
     ]
    },
    {
     "cell_type": "code",
     "collapsed": false,
     "input": [
      "#importing modules\n",
      "import math\n",
      "from __future__ import division\n",
      "\n",
      "#Variable declaration\n",
      "me=9.1*10**-31;   #mass of electron(kg)\n",
      "h=6.625*10**-34;   #planck's constant(Jsec)\n",
      "deltax=10**-8;    #uncertainity in position(m)\n",
      "\n",
      "#Calculation\n",
      "deltap=(h/(2*math.pi*deltax));   #uncertainity principle(kgm/sec)\n",
      "deltav=(deltap/me);   #minimum uncertainity in velocity(m/sec)\n",
      "\n",
      "#Result\n",
      "print \"minimum uncertainity in velocity is\",round(deltav/10**5,3),\"*10**5 m/sec\""
     ],
     "language": "python",
     "metadata": {},
     "outputs": [
      {
       "output_type": "stream",
       "stream": "stdout",
       "text": [
        "minimum uncertainity in velocity is 0.116 *10**5 m/sec\n"
       ]
      }
     ],
     "prompt_number": 3
    },
    {
     "cell_type": "heading",
     "level": 2,
     "metadata": {},
     "source": [
      "Example number 10.2, Page number 259"
     ]
    },
    {
     "cell_type": "code",
     "collapsed": false,
     "input": [
      "#importing modules\n",
      "import math\n",
      "from __future__ import division\n",
      "\n",
      "#Variable declaration\n",
      "lamda=0.2865*10**-10;   #wavelength(m)\n",
      "mp=1.67*10**-27;   #mass of proton(kg)\n",
      "h=6.625*10**-34;   #planck's constant(Jsec)\n",
      "q=1.6*10**-19;     #charge of proton(C)\n",
      "\n",
      "#Calculation\n",
      "v=(h/(mp*lamda));    #velocity(m/sec)\n",
      "KE=0.5*mp*(v**2);    #kinetic energy of proton(J)\n",
      "KE=KE/q;     #kinetic energy of proton(eV)\n",
      "\n",
      "#Result\n",
      "print \"kinetic energy of proton is\",int(KE),\"eV\""
     ],
     "language": "python",
     "metadata": {},
     "outputs": [
      {
       "output_type": "stream",
       "stream": "stdout",
       "text": [
        "kinetic energy of proton is 1 eV\n"
       ]
      }
     ],
     "prompt_number": 5
    },
    {
     "cell_type": "heading",
     "level": 2,
     "metadata": {},
     "source": [
      "Example number 10.3, Page number 259"
     ]
    },
    {
     "cell_type": "code",
     "collapsed": false,
     "input": [
      "#importing modules\n",
      "import math\n",
      "from __future__ import division\n",
      "\n",
      "#Variable declaration\n",
      "KE=0.025;   #kinetic energy of neutron(eV)\n",
      "q=1.6*10**-19;     #charge of proton(C)\n",
      "mn=1.676*10**-27;  #mass of neutron(kg)\n",
      "h=6.625*10**-34;   #planck's constant(Jsec)\n",
      "me=9.1*10**-31;    #mass of electron(kg)\n",
      "c=3*10**8;    #velocity of light(m/s)\n",
      "\n",
      "#Calculation\n",
      "KE=KE*q;   #kinetic energy of neutron(J)\n",
      "v=math.sqrt((2*KE)/mn);   #velocity(m/s)\n",
      "lamdan=h/(mn*v);   #debroglie wavelength of neutron(m)\n",
      "p=(h/lamdan);   #momentum of electron and photon(kgm/s)\n",
      "ve=(p/me);   #velocity of electron(m/s)\n",
      "Ee=0.5*p*ve;  #energy of electron(J)\n",
      "Ee=Ee/q;    #energy of electron(eV)\n",
      "Ep=h*c/lamdan;  #energy of photon(J)\n",
      "Ep=Ep/q;       #energy of photon(eV)\n",
      "\n",
      "#Result\n",
      "print \"wavelength of beam of neutron is\",round(lamdan*10**10,3),\"angstrom\"\n",
      "print \"momentum of electron and photon is\",p,\"kgm/s\"\n",
      "print \"energy of electron is\",round(Ee,2),\"eV\"\n",
      "print \"energy of photon is\",round(Ep/10**3,2),\"*10**3 eV\"\n",
      "print \"answers in the book vary due to rounding off errors\""
     ],
     "language": "python",
     "metadata": {},
     "outputs": [
      {
       "output_type": "stream",
       "stream": "stdout",
       "text": [
        "wavelength of beam of neutron is 1.809 angstrom\n",
        "momentum of electron and photon is 3.66169359723e-24 kgm/s\n",
        "energy of electron is 46.04 eV\n",
        "energy of photon is 6.87 *10**3 eV\n",
        "answers in the book vary due to rounding off errors\n"
       ]
      }
     ],
     "prompt_number": 10
    },
    {
     "cell_type": "heading",
     "level": 2,
     "metadata": {},
     "source": [
      "Example number 10.4, Page number 260"
     ]
    },
    {
     "cell_type": "code",
     "collapsed": false,
     "input": [
      "#importing modules\n",
      "import math\n",
      "from __future__ import division\n",
      "\n",
      "#Variable declaration\n",
      "e=1.6*10**-19;    #charge of electron(C)\n",
      "V=200;    #potential difference(V)\n",
      "lamda=0.0202*10**-10;   #debroglie wavelength(m)\n",
      "h=6.625*10**-34;    #planck's constant(Jsec)\n",
      "\n",
      "#Calculation\n",
      "#eV=0.5*m*(v^2)\n",
      "#mv=sqrt(2*m*eV)\n",
      "m=((h**2)/(2*(lamda**2)*e*V));    #mass of particle(kg)\n",
      "\n",
      "#Result\n",
      "print \"mass of particle is\",m,\"kg\"\n",
      "print \"hence it is a proton\""
     ],
     "language": "python",
     "metadata": {},
     "outputs": [
      {
       "output_type": "stream",
       "stream": "stdout",
       "text": [
        "mass of particle is 1.68069555834e-27 kg\n",
        "hence it is a proton\n"
       ]
      }
     ],
     "prompt_number": 11
    },
    {
     "cell_type": "heading",
     "level": 2,
     "metadata": {},
     "source": [
      "Example number 10.5, Page number 260"
     ]
    },
    {
     "cell_type": "code",
     "collapsed": false,
     "input": [
      "#importing modules\n",
      "import math\n",
      "from __future__ import division\n",
      "\n",
      "#Variable declaration \n",
      "mn=1.676*10**-27;   #mass of neutron(kg)\n",
      "e=1.6*10**-19;    #charge of electron(C)\n",
      "h=6.622*10**-34;   #planck's constant(Jsec)\n",
      "\n",
      "#Calculation\n",
      "E=e;     #energy of neutron(J)\n",
      "v=math.sqrt((2*E)/mn);   #velocity of neutron(m/sec)\n",
      "lamda=(h/(mn*v));   #de-broglie wavelength(m)\n",
      "\n",
      "#Result\n",
      "print \"de-broglie wavelength of neutron is\",round(lamda*10**10,3),\"angstrom\""
     ],
     "language": "python",
     "metadata": {},
     "outputs": [
      {
       "output_type": "stream",
       "stream": "stdout",
       "text": [
        "de-broglie wavelength of neutron is 0.286 angstrom\n"
       ]
      }
     ],
     "prompt_number": 15
    },
    {
     "cell_type": "heading",
     "level": 2,
     "metadata": {},
     "source": [
      "Example number 10.6, Page number 261"
     ]
    },
    {
     "cell_type": "code",
     "collapsed": false,
     "input": [
      "#importing modules\n",
      "import math\n",
      "from __future__ import division\n",
      "\n",
      "#Variable declaration \n",
      "r=10**-14;    #radius(m)\n",
      "h=6.625*10**-34;    #planck's constant(Jsec)\n",
      "c=3*10**8;    #velocity of light(m/s)\n",
      "mo=9.1*10**-31;   #rest mass of particle(kg)\n",
      "q=1.6*10**-19;   #charge of electron(C)\n",
      "\n",
      "\n",
      "#Calculation\n",
      "#acc. to uncertainity principle delx*delp >= (h/2*%pi)\n",
      "deltax=2*r;   #uncertainity in position(m)\n",
      "deltap=(h/(2*math.pi*deltax));    ##uncertainity in momentum\n",
      "#from einstein's relavistic relation E=mc2=KE+rest mass energy=0.5mv2+moc2\n",
      "#when velocity of particle is very high\n",
      "#m=(mo/sqrt(1-((v/c)^2))) where m-mass of particle with velocity v,mo-rest mass of particle, c-velocity of particle\n",
      "p=deltap    #assume\n",
      "E=math.sqrt(((p*c)**2)+((mo*(c**2))**2));    #energy(J)\n",
      "E=E/q;      #energy(eV)\n",
      "\n",
      "#Result\n",
      "print \"energy is\",round(E/10**6),\"MeV\"\n",
      "print \"this value is much higher than experimentally obtained values of energy of electron of a radioactive nuclei i.e 4 Mev this proves that electron cannot reside within nucleus\""
     ],
     "language": "python",
     "metadata": {},
     "outputs": [
      {
       "output_type": "stream",
       "stream": "stdout",
       "text": [
        "energy is 10.0 MeV\n",
        "this value is much higher than experimentally obtained values of energy of electron of a radioactive nuclei i.e 4 Mev this proves that electron cannot reside within nucleus\n"
       ]
      }
     ],
     "prompt_number": 19
    }
   ],
   "metadata": {}
  }
 ]
}