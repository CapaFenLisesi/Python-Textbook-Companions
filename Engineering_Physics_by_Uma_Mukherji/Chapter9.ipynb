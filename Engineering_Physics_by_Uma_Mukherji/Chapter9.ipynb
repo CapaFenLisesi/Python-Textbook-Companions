{
 "metadata": {
  "name": "",
  "signature": "sha256:12b212fa69742f446e6918a565a72f52e2d9500de27031b4c21c41162a940ee1"
 },
 "nbformat": 3,
 "nbformat_minor": 0,
 "worksheets": [
  {
   "cells": [
    {
     "cell_type": "heading",
     "level": 1,
     "metadata": {},
     "source": [
      "9: Motion of the charged particle in electric and magnetic field"
     ]
    },
    {
     "cell_type": "heading",
     "level": 2,
     "metadata": {},
     "source": [
      "Example number 9.1, Page number 230"
     ]
    },
    {
     "cell_type": "code",
     "collapsed": false,
     "input": [
      "#importing modules\n",
      "import math\n",
      "from __future__ import division\n",
      "\n",
      "#Variable declaration\n",
      "L=1.33*10**-22;   #angular momentum(kg m**2/sec)\n",
      "B=0.025;    #magnetic field(Wb/m**2)\n",
      "m=6.68*10**-27;   #mass of alpha particle(kg)\n",
      "q=3.2*10**-19;   #charge of alpha particle(c)\n",
      "e=1.6*10**-19;   #charge of electron(c)\n",
      "\n",
      "#Calculation\n",
      "w=(B*q)/m;   #angular velocity\n",
      "E=0.5*L*w;   #KE of particle(J)\n",
      "E=E/e;     #KE of particle(eV)\n",
      "\n",
      "#Result\n",
      "print \"KE of particle is\",round(E,2),\"eV\""
     ],
     "language": "python",
     "metadata": {},
     "outputs": [
      {
       "output_type": "stream",
       "stream": "stdout",
       "text": [
        "KE of particle is 497.75 eV\n"
       ]
      }
     ],
     "prompt_number": 3
    },
    {
     "cell_type": "heading",
     "level": 2,
     "metadata": {},
     "source": [
      "Example number 9.2, Page number 230"
     ]
    },
    {
     "cell_type": "code",
     "collapsed": false,
     "input": [
      "#importing modules\n",
      "import math\n",
      "from __future__ import division\n",
      "\n",
      "#Variable declaration\n",
      "R=0.35;   #radius of cyclotron(m)\n",
      "n=1.38*10**7;   #frequency(Hz)\n",
      "m=1.67*10**-27;  #mass of proton(kg)\n",
      "q=1.6*10**-19;   #charge of proton(c)\n",
      "\n",
      "#Calculation\n",
      "B=(2*math.pi*n*m)/q;   #magnetic field induction(Wb/m**2)\n",
      "E=((B**2)*(q**2)*(R**2))/(2*m);   #maximum energy of proton(J)\n",
      "E=E/q;    #maximum energy of proton(eV)\n",
      "\n",
      "#Result\n",
      "print \"magnetic field induction is\",round(B,3),\"Wb/m**2\"\n",
      "print \"maximum energy of proton is\",round(E/10**6,1),\"MeV\""
     ],
     "language": "python",
     "metadata": {},
     "outputs": [
      {
       "output_type": "stream",
       "stream": "stdout",
       "text": [
        "magnetic field induction is 0.905 Wb/m**2\n",
        "maximum energy of proton is 4.8 MeV\n"
       ]
      }
     ],
     "prompt_number": 7
    },
    {
     "cell_type": "heading",
     "level": 2,
     "metadata": {},
     "source": [
      "Example number 9.3, Page number 231"
     ]
    },
    {
     "cell_type": "code",
     "collapsed": false,
     "input": [
      "#importing modules\n",
      "import math\n",
      "from __future__ import division\n",
      "\n",
      "#Variable declaration\n",
      "m=9.1*10**-31;   #mass of electron(kg)\n",
      "e=1.6*10**-19;   #charge of electron(c)\n",
      "V=1000;   #potential difference(V)\n",
      "B=1.19*10**-3;   #magnetic field of induction(Wb/m**2)\n",
      "\n",
      "#Calculation\n",
      "#due to potential difference V, electron is accelerated\n",
      "#eV=0.5*m*(v^2)\n",
      "#due to transverse magnetic field B electron moves in circular path of radius R\n",
      "#(m*(v^2))/R=BeV\n",
      "v=math.sqrt((2*e*V)/m);   #velocity(m/sec)\n",
      "R=(m*v)/(B*e);   #radius of electron trajectory(m)\n",
      "L=m*v*R;    #angular momentum(kg m**2/sec)\n",
      "\n",
      "#Result\n",
      "print \"radius of electron trajectory is\",round(R*100,3),\"cm\"\n",
      "print \"angular momentum of electron is\",round(L/10**-28,2),\"*10**-28 kg m**2/sec\"\n",
      "print \"answer for angular momentum varies due to rounding off errors\""
     ],
     "language": "python",
     "metadata": {},
     "outputs": [
      {
       "output_type": "stream",
       "stream": "stdout",
       "text": [
        "radius of electron trajectory is 8.962 cm\n",
        "angular momentum of electron is 15294.12 *10**-28 kg m**2/sec\n",
        "answer for angular momentum varies due to rounding off errors\n"
       ]
      }
     ],
     "prompt_number": 16
    },
    {
     "cell_type": "heading",
     "level": 2,
     "metadata": {},
     "source": [
      "Example number 9.4, Page number 231"
     ]
    },
    {
     "cell_type": "code",
     "collapsed": false,
     "input": [
      "#importing modules\n",
      "import math\n",
      "from __future__ import division\n",
      "\n",
      "#Variable declaration\n",
      "vx=1.7*10**7;   #horizontal velociy(m/sec)\n",
      "Ey=3.4*10**4;   #electric field(V/m)\n",
      "x=3*10**-2;     #horizontal displacement(m)\n",
      "m=9.1*10**-31;   #mass of electron(kg)\n",
      "e=1.6*10**-19;   #charge of electron(c)\n",
      "\n",
      "#Calculation\n",
      "t=x/vx;   #time(sec)\n",
      "#y=0.5*ay*(t^2)\n",
      "ay=(e*Ey)/m;    #acceleration(m/sec**2)\n",
      "y=0.5*ay*(t**2);   #vertical displacement(m)\n",
      "Bz=Ey/vx;   #magnitude of magnetic field(Wb/m**2) \n",
      "\n",
      "#Result\n",
      "print \"vertical displacement of electron is\",round(y*100,4),\"cm\"\n",
      "print \"answer varies due to rounding off errors\"\n",
      "print \"magnitude of magnetic field is\",Bz,\"Wb/m**2\"\n",
      "print \"direction of field is upward as Ey is downward\""
     ],
     "language": "python",
     "metadata": {},
     "outputs": [
      {
       "output_type": "stream",
       "stream": "stdout",
       "text": [
        "vertical displacement of electron is 0.9308 cm\n",
        "answer varies due to rounding off errors\n",
        "magnitude of magnetic field is 0.002 Wb/m**2\n",
        "direction of field is upward as Ey is downward\n"
       ]
      }
     ],
     "prompt_number": 23
    },
    {
     "cell_type": "heading",
     "level": 2,
     "metadata": {},
     "source": [
      "Example number 9.5, Page number 232"
     ]
    },
    {
     "cell_type": "code",
     "collapsed": false,
     "input": [
      "#importing modules\n",
      "import math\n",
      "from __future__ import division\n",
      "\n",
      "#Variable declaration\n",
      "m=1.67*10**-27;      #mass of proton(kg)\n",
      "q=1.6*10**-19;    #charge of proton(c)\n",
      "B=0.5;     #magnetic field(Wb/m**2)\n",
      "R=1;     #radius of cyclotron(m)\n",
      "\n",
      "\n",
      "#Calculation\n",
      "n=((B*q)/(2*math.pi*m));   #frequency of oscillation voltage(Hz)\n",
      "E=((B**2)*(q**2)*(R**2))/(2*m);    #maximum energy of proton(J)\n",
      "E=E/q;    #maximum energy of proton(eV)\n",
      "\n",
      "#Result\n",
      "print \"frequency of oscillation voltage is\",round(n/10**6,3),\"MHz\"\n",
      "print \"maximum energy of proton is\",round(E/10**6,3),\"MeV\""
     ],
     "language": "python",
     "metadata": {},
     "outputs": [
      {
       "output_type": "stream",
       "stream": "stdout",
       "text": [
        "frequency of oscillation voltage is 7.624 MHz\n",
        "maximum energy of proton is 11.976 MeV\n"
       ]
      }
     ],
     "prompt_number": 31
    },
    {
     "cell_type": "heading",
     "level": 2,
     "metadata": {},
     "source": [
      "Example number 9.6, Page number 232"
     ]
    },
    {
     "cell_type": "code",
     "collapsed": false,
     "input": [
      "#importing modules\n",
      "import math\n",
      "from __future__ import division\n",
      "\n",
      "#Variable declaration\n",
      "q=3.2*10**-19  #charge of a9lpha particle(c)\n",
      "m=6.68*10**-27;  #mass(kg) \n",
      "B=1.5;   #magnetic field(Wb/m**2)\n",
      "v=7.263*10**6;   #velocity(m/s) \n",
      "\n",
      "#Calculation\n",
      "F=B*q*v;    #force on particle(N)\n",
      "T=(2*math.pi*m)/(B*q);   #periodic time(sec)\n",
      "n=1/T;    #resonance frequency(Hz)\n",
      "\n",
      "#Result\n",
      "print \"force on particle is\",round(F*10**13,2),\"*10**-13 N\"\n",
      "print \"periodic time is\",round(T*10**8,3),\"*10**-8 sec\"\n",
      "print \"answer for periodic time varies due to rounding off errors\"\n",
      "print \"resonance frequency is\",round(n/10**6,2),\"MHz\""
     ],
     "language": "python",
     "metadata": {},
     "outputs": [
      {
       "output_type": "stream",
       "stream": "stdout",
       "text": [
        "force on particle is 34.86 *10**-13 N\n",
        "periodic time is 8.744 *10**-8 sec\n",
        "answer for periodic time varies due to rounding off errors\n",
        "resonance frequency is 11.44 MHz\n"
       ]
      }
     ],
     "prompt_number": 4
    },
    {
     "cell_type": "heading",
     "level": 2,
     "metadata": {},
     "source": [
      "Example number 9.7, Page number 233"
     ]
    },
    {
     "cell_type": "code",
     "collapsed": false,
     "input": [
      "#importing modules\n",
      "import math\n",
      "from __future__ import division\n",
      "\n",
      "#Variable declaration\n",
      "n=1.2*10**7;   #frequency(Hz)\n",
      "mp=1.67*10**-27;   #mass of proton(kg)\n",
      "qp=1.6*10**-19;    #charge of proton(c)\n",
      "R=0.5;   #radius(m)\n",
      "malp=6.68*10**-27;   #mass of alpha particle(kg)\n",
      "\n",
      "#Calculation\n",
      "Bp=(2*math.pi*mp*n)/qp;   #flux density for proton(Wb/m**2)\n",
      "Ep=((Bp**2)*(qp**2)*(R**2))/(2*mp);   #energy of proton(J)\n",
      "Ep=Ep/qp;          #energy of proton(eV)\n",
      "qalp=2*qp;    #charge of alpha particle(c)\n",
      "Balp=(2*math.pi*malp*n)/qalp;    #flux density of alpha particle(Wb/m**2)\n",
      "Ealp=((Balp**2)*(qalp**2)*(R**2))/(2*malp);   #energy of alpha particle(J)\n",
      "Ealp=Ealp/qp;    #energy of alpha particle(eV)\n",
      "\n",
      "#Result\n",
      "print \"flux density for proton is\",round(Bp,5),\"Wb/m**2\"\n",
      "print \"flux density for alpha particle is\",round(Balp,4),\"Wb/m**2\"\n",
      "print \"energy of proton is\",round(Ep/10**6,2),\"MeV\"\n",
      "print \"energy of alpha particle is\",round(Ealp/10**6,2),\"MeV\""
     ],
     "language": "python",
     "metadata": {},
     "outputs": [
      {
       "output_type": "stream",
       "stream": "stdout",
       "text": [
        "flux density for proton is 0.78697 Wb/m**2\n",
        "flux density for alpha particle is 1.5739 Wb/m**2\n",
        "energy of proton is 7.42 MeV\n",
        "energy of alpha particle is 29.67 MeV\n"
       ]
      }
     ],
     "prompt_number": 42
    },
    {
     "cell_type": "heading",
     "level": 2,
     "metadata": {},
     "source": [
      "Example number 9.8, Page number 233"
     ]
    },
    {
     "cell_type": "code",
     "collapsed": false,
     "input": [
      "#importing modules\n",
      "import math\n",
      "from __future__ import division\n",
      "\n",
      "#Variable declaration\n",
      "e=1.6*10**-19;   #charge of electron(c) \n",
      "me=9.1*10**-31;  #mass of electron(kg)\n",
      "malp=6.68*10**-27;  #mass of alpha particle(kg)\n",
      "B=0.05;  #magnetic field(Wb/m**2)\n",
      "V=20*10**3;    #potential difference(V)\n",
      "\n",
      "#Calculation\n",
      "q=2*e;    #charge of alpha particle(c)\n",
      "#v=sqrt((2*q*V)/m)\n",
      "#R=(1/B)*sqrt((2*m*V)/q)\n",
      "Re=(1/B)*math.sqrt((2*me*V)/e);   #radius of electron(m)\n",
      "Ralp=(1/B)*math.sqrt((2*malp*V)/q);   #radius of alpha particle(m)\n",
      "S=2*Ralp-2*Re;  #linear separation between two particles(m)\n",
      "\n",
      "#Result\n",
      "print \"linear separation between two particles on common boundary wall is\",round(S*100,1),\"cm\""
     ],
     "language": "python",
     "metadata": {},
     "outputs": [
      {
       "output_type": "stream",
       "stream": "stdout",
       "text": [
        "linear separation between two particles on common boundary wall is 113.7 cm\n"
       ]
      }
     ],
     "prompt_number": 45
    },
    {
     "cell_type": "heading",
     "level": 2,
     "metadata": {},
     "source": [
      "Example number 9.9, Page number 234"
     ]
    },
    {
     "cell_type": "code",
     "collapsed": false,
     "input": [
      "#importing modules\n",
      "import math\n",
      "from __future__ import division\n",
      "\n",
      "#Variable declaration\n",
      "V1=200;    #potential difference(V)\n",
      "i=60;   #angle(degrees)\n",
      "r=45;   #angle(degrees)\n",
      "\n",
      "#Calculation\n",
      "#electrostatic focusing condition (sini/sinr)=(v2/v1)=sqrt(V2/V1)\n",
      "#0.5mv2=eV\n",
      "i=i*(math.pi/180);  #angle(radian)\n",
      "r=r*(math.pi/180);  #angle(radian)\n",
      "V2=V1*((math.sin(i)/math.sin(r))**2);   #potential difference(V)\n",
      "pd=V2-V1;   #potential difference(V)\n",
      "\n",
      "#Result\n",
      "print \"potential difference between two regions is\",pd,\"V\""
     ],
     "language": "python",
     "metadata": {},
     "outputs": [
      {
       "output_type": "stream",
       "stream": "stdout",
       "text": [
        "potential difference between two regions is 100.0 V\n"
       ]
      }
     ],
     "prompt_number": 46
    },
    {
     "cell_type": "heading",
     "level": 2,
     "metadata": {},
     "source": [
      "Example number 9.10, Page number 235"
     ]
    },
    {
     "cell_type": "code",
     "collapsed": false,
     "input": [
      "#importing modules\n",
      "import math\n",
      "from __future__ import division\n",
      "\n",
      "#Variable declaration\n",
      "E=250;    #electric field(V/m)\n",
      "R=10**-8;  #radius of drop(m)\n",
      "rho=10**3;   #density of water(kg/m**3)\n",
      "\n",
      "#Calculation\n",
      "#F=mg=qE\n",
      "m=(4/3)*math.pi*(R**3)*rho;    #mass of water drop(kg)\n",
      "W=m*9.8;   #weight of drop\n",
      "q=W/E;     #charge on water drop(C)\n",
      "\n",
      "#Result\n",
      "print \"charge on water drop is\",round(q*10**21,3),\"*10**-21 C\""
     ],
     "language": "python",
     "metadata": {},
     "outputs": [
      {
       "output_type": "stream",
       "stream": "stdout",
       "text": [
        "charge on water drop is 0.164 *10**-21 C\n"
       ]
      }
     ],
     "prompt_number": 7
    },
    {
     "cell_type": "heading",
     "level": 2,
     "metadata": {},
     "source": [
      "Example number 9.11, Page number 235"
     ]
    },
    {
     "cell_type": "code",
     "collapsed": false,
     "input": [
      "#importing modules\n",
      "import math\n",
      "from __future__ import division\n",
      "\n",
      "#Variable declaration\n",
      "e=1.6*10**-19;   #charge of electron(c)\n",
      "v=5*10**5;   #velocity(m/s)\n",
      "B=0.3;    #flux density(Wb/m**2)\n",
      "N=6.025*10**26;   #avagadro number\n",
      "M72=72/N;    #mass(kg)\n",
      "M74=74;    #mass(kg)\n",
      "\n",
      "#Calculation\n",
      "R72=(M72*v)/(B*e);    #radius(m)\n",
      "R74=(R72/72)*M74;    #radius(m)\n",
      "S=2*(R74-R72);   #linear separation of two lines(m)\n",
      "\n",
      "#Result\n",
      "print \"linear separation of two lines is\",round(S,3),\"m\"\n",
      "print \"answer given in the book is wrong\""
     ],
     "language": "python",
     "metadata": {},
     "outputs": [
      {
       "output_type": "stream",
       "stream": "stdout",
       "text": [
        "linear separation of two lines is 0.069 m\n",
        "answer given in the book is wrong\n"
       ]
      }
     ],
     "prompt_number": 58
    },
    {
     "cell_type": "heading",
     "level": 2,
     "metadata": {},
     "source": [
      "Example number 9.12, Page number 236"
     ]
    },
    {
     "cell_type": "code",
     "collapsed": false,
     "input": [
      "#importing modules\n",
      "import math\n",
      "from __future__ import division\n",
      "\n",
      "#Variable declaration\n",
      "l=5*10**-2;  #length(m)\n",
      "d=0.3;   #distance of screen from end of magnetic field(m)\n",
      "y=0.01;   #deflection on screen(m)\n",
      "m=9.1*10**-31;  #mass of electron(kg)\n",
      "e=1.6*10**-19;  #charge of electron(C)\n",
      "Va=1000;   #anode voltage(V)\n",
      "\n",
      "#Calculation\n",
      "D=d+(l/2);   #distance(m)\n",
      "B=(y/(D*l))*math.sqrt((2*m*Va)/e);   #flux density(Wb/m**2)\n",
      "\n",
      "#Result\n",
      "print \"flux density is\",round(B*10**6,1),\"*10**-6 Wb/m**2\""
     ],
     "language": "python",
     "metadata": {},
     "outputs": [
      {
       "output_type": "stream",
       "stream": "stdout",
       "text": [
        "flux density is 65.6 *10**-6 Wb/m**2\n"
       ]
      }
     ],
     "prompt_number": 8
    },
    {
     "cell_type": "heading",
     "level": 2,
     "metadata": {},
     "source": [
      "Example number 9.13, Page number 236"
     ]
    },
    {
     "cell_type": "code",
     "collapsed": false,
     "input": [
      "#importing modules\n",
      "import math\n",
      "from __future__ import division\n",
      "\n",
      "#Variable declaration\n",
      "e=1.6*10**-19;     #charge of electron(C)\n",
      "Va=150;    #potential difference(V)\n",
      "m=9.1*10**-31;  #mass of electron(kg)\n",
      "V=20;     #potential(V)\n",
      "D=1/2;\n",
      "d=10**-2;   #distance of seperation(m)\n",
      "l=10*10**-2;    #length(m)\n",
      "\n",
      "#Calculation\n",
      "vx=math.sqrt((2*e*Va)/m);    #velocity of electron reacting the field(m/s)\n",
      "ay=(e/m)*(V/d);    #acceleration due to deflecting field(m/s**2)\n",
      "vy=ay*(l/vx);    #final velocity attained by deflecting field(m/s)\n",
      "theta=math.atan(vy/vx);    #angle of deflection(radian)\n",
      "thetaD=theta*(180/math.pi);   #angle of deflection(degrees)\n",
      "Y=D*math.tan(theta);     #deflection on screen(m)\n",
      "S=(Y/V);     #deflection senstivity(m/V)\n",
      "\n",
      "\n",
      "#Result\n",
      "print \"velocity of electron reacting the field is\",round(vx/10**6,2),\"*10**6 m/s\"\n",
      "print \"acceleration due to deflecting field is\",round(ay*10**-14,3),\"*10**14 m/s**2\"\n",
      "print \"final velocity attained by deflecting field is\",round(vy/10**6,1),\"*10**6 m/s\"\n",
      "print \"angle of deflection is\",round(thetaD,2),\"degrees\"\n",
      "print \"answer varies due to rounding off errors\"\n",
      "print \"deflection on screen is\",round(Y,2),\"m\"\n",
      "print \"deflection senstivity is\",round(S,4),\"m/V\"\n",
      "print \"answer varies due to rounding off errors\""
     ],
     "language": "python",
     "metadata": {},
     "outputs": [
      {
       "output_type": "stream",
       "stream": "stdout",
       "text": [
        "velocity of electron reacting the field is 7.26 *10**6 m/s\n",
        "acceleration due to deflecting field is 3.516 *10**14 m/s**2\n",
        "final velocity attained by deflecting field is 4.8 *10**6 m/s\n",
        "angle of deflection is 33.69 degrees\n",
        "answer varies due to rounding off errors\n",
        "deflection on screen is 0.33 m\n",
        "deflection senstivity is 0.0167 m/V\n"
       ]
      }
     ],
     "prompt_number": 11
    }
   ],
   "metadata": {}
  }
 ]
}