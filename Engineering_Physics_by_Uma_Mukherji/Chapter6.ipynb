{
 "metadata": {
  "name": "",
  "signature": "sha256:c7dc6b3d9590410d93237c02edc71fc080a2b941482564691379213f8d71b12e"
 },
 "nbformat": 3,
 "nbformat_minor": 0,
 "worksheets": [
  {
   "cells": [
    {
     "cell_type": "heading",
     "level": 1,
     "metadata": {},
     "source": [
      "6: Semiconductors"
     ]
    },
    {
     "cell_type": "heading",
     "level": 2,
     "metadata": {},
     "source": [
      "Example number 6.1, Page number 133"
     ]
    },
    {
     "cell_type": "code",
     "collapsed": false,
     "input": [
      "#importing modules\n",
      "import math\n",
      "from __future__ import division\n",
      "\n",
      "#Variable declaration\n",
      "V1=1.4;       #voltage1(V)\n",
      "V2=1.5;       #voltage2(V)\n",
      "I1=60;        #forward current for 1.4V(mA)\n",
      "I2=85;        #forward current for 1.5V(mA)\n",
      "\n",
      "#Calculation\n",
      "I1=I1*10**-3;      #forward current for 1.4V(A)\n",
      "I2=I2*10**-3;      #forward current for 1.5V(A)\n",
      "Rs1=V1/I1;         #static resistance for 1.4V(ohm)\n",
      "Rs2=V2/I2;         #static resistance for 1.5V(ohm) \n",
      "dV=V2-V1;          #change in voltage(V)\n",
      "dI=I2-I1;          #change in current(A)\n",
      "Rd=dV/dI;          #dynamic resistance(ohm)\n",
      "\n",
      "#Result\n",
      "print \"static resistance for 1.4V is\",round(Rs1,1),\"ohm\"\n",
      "print \"static resistance for 1.5V is\",round(Rs2,1),\"ohm\"\n",
      "print \"dynamic resistance is\",Rd,\"ohm\"\n",
      "print \"answer for dynamic resistance given in the book is wrong\""
     ],
     "language": "python",
     "metadata": {},
     "outputs": [
      {
       "output_type": "stream",
       "stream": "stdout",
       "text": [
        "static resistance for 1.4V is 23.3 ohm\n",
        "static resistance for 1.5V is 17.6 ohm\n",
        "dynamic resistance is 4.0 ohm\n",
        "answer for dynamic resistance given in the book is wrong\n"
       ]
      }
     ],
     "prompt_number": 4
    },
    {
     "cell_type": "heading",
     "level": 2,
     "metadata": {},
     "source": [
      "Example number 6.2, Page number 134"
     ]
    },
    {
     "cell_type": "code",
     "collapsed": false,
     "input": [
      "#importing modules\n",
      "import math\n",
      "from __future__ import division\n",
      "\n",
      "#Variable declaration\n",
      "IE=1;       #emitter current(mA)\n",
      "IB=0.02;     #base current(mA)\n",
      "\n",
      "#Calculation\n",
      "IC=IE-IB;      #collector current(mA)\n",
      "beta=IC/IB;       #value of beta\n",
      "alpha=IC/IE;      #value of alpha\n",
      "\n",
      "#Result\n",
      "print \"value of beta is\",beta\n",
      "print \"value of alpha is\",alpha"
     ],
     "language": "python",
     "metadata": {},
     "outputs": [
      {
       "output_type": "stream",
       "stream": "stdout",
       "text": [
        "value of beta is 49.0\n",
        "value of alpha is 0.98\n"
       ]
      }
     ],
     "prompt_number": 1
    },
    {
     "cell_type": "heading",
     "level": 2,
     "metadata": {},
     "source": [
      "Example number 6.3, Page number 134"
     ]
    },
    {
     "cell_type": "code",
     "collapsed": false,
     "input": [
      "#importing modules\n",
      "import math\n",
      "from __future__ import division\n",
      "\n",
      "#Variable declaration\n",
      "alpha=0.99;        #value of alpha\n",
      "I_CBO=0.5;         #value of ICBO(micro A)\n",
      "\n",
      "#Calculation\n",
      "beta=alpha/(1-alpha);         #value of beta\n",
      "ICEO=1/(1-alpha)*I_CBO;      #value of ICEO(micro A)\n",
      "\n",
      "#Result\n",
      "print \"value of beta is\",beta\n",
      "print \"value of ICEO is\",ICEO,\"micro A\""
     ],
     "language": "python",
     "metadata": {},
     "outputs": [
      {
       "output_type": "stream",
       "stream": "stdout",
       "text": [
        "value of beta is 99.0\n",
        "value of ICEO is 50.0 micro A\n"
       ]
      }
     ],
     "prompt_number": 2
    },
    {
     "cell_type": "heading",
     "level": 2,
     "metadata": {},
     "source": [
      "Example number 6.4, Page number 134"
     ]
    },
    {
     "cell_type": "code",
     "collapsed": false,
     "input": [
      "#importing modules\n",
      "import math\n",
      "from __future__ import division\n",
      "\n",
      "#Variable declaration\n",
      "delta_Ic=4.5-2;         #change in collector current(mA)\n",
      "delta_Ib=80-40;         #change in base current(microA)\n",
      "\n",
      "#Calculation\n",
      "delta_Ic=delta_Ic*10**-3;        #change in collector current(A)\n",
      "delta_Ib=delta_Ib*10**-6;        #change in base current(A)\n",
      "beta_AC=delta_Ic/delta_Ib;       #value of beta\n",
      "alpha_AC=beta_AC/(1+beta_AC);    #value of alpha\n",
      "\n",
      "#Result\n",
      "print \"value of beta is\",beta_AC\n",
      "print \"value of alpha is\",round(alpha_AC,4)"
     ],
     "language": "python",
     "metadata": {},
     "outputs": [
      {
       "output_type": "stream",
       "stream": "stdout",
       "text": [
        "value of beta is 62.5\n",
        "value of alpha is 0.9843\n"
       ]
      }
     ],
     "prompt_number": 3
    },
    {
     "cell_type": "heading",
     "level": 2,
     "metadata": {},
     "source": [
      "Example number 6.5, Page number 134"
     ]
    },
    {
     "cell_type": "code",
     "collapsed": false,
     "input": [
      "#importing modules\n",
      "import math\n",
      "from __future__ import division\n",
      "\n",
      "#Variable declaration\n",
      "IE=1;          #emitter current(mA)\n",
      "Oc=0.04;       #output current(mA)\n",
      "\n",
      "#Calculation\n",
      "IC=1-Oc;       #collector current(mA)\n",
      "alpha=IC/IE;      #value of alpha\n",
      "\n",
      "#Result\n",
      "print \"current gain is\",alpha"
     ],
     "language": "python",
     "metadata": {},
     "outputs": [
      {
       "output_type": "stream",
       "stream": "stdout",
       "text": [
        "current gain is 0.96\n"
       ]
      }
     ],
     "prompt_number": 4
    },
    {
     "cell_type": "heading",
     "level": 2,
     "metadata": {},
     "source": [
      "Example number 6.6, Page number 134"
     ]
    },
    {
     "cell_type": "code",
     "collapsed": false,
     "input": [
      "#importing modules\n",
      "import math\n",
      "from __future__ import division\n",
      "\n",
      "#Variable declaration\n",
      "alpha=0.96;         #current gain\n",
      "R=1;          #resistance(K ohm)\n",
      "V=1.5;              #voltage drop(V)\n",
      "\n",
      "#Calculation\n",
      "IC=V/R;        #collector current(mA)\n",
      "IE=IC/alpha;      #emitter current(mA)\n",
      "IB=IE-IC;         #base current(mA)\n",
      "\n",
      "#Result\n",
      "print \"base current is\",IB,\"mA\""
     ],
     "language": "python",
     "metadata": {},
     "outputs": [
      {
       "output_type": "stream",
       "stream": "stdout",
       "text": [
        "base current is 0.0625 mA\n"
       ]
      }
     ],
     "prompt_number": 5
    }
   ],
   "metadata": {}
  }
 ]
}