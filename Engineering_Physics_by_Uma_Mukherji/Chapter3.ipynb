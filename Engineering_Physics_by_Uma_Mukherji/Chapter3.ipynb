{
 "metadata": {
  "name": "",
  "signature": "sha256:5501457babf7cd881ef81ebc39845c677f30b7398a16e9160a7f32cf8c277a73"
 },
 "nbformat": 3,
 "nbformat_minor": 0,
 "worksheets": [
  {
   "cells": [
    {
     "cell_type": "heading",
     "level": 1,
     "metadata": {},
     "source": [
      "3: Thermionic Emission"
     ]
    },
    {
     "cell_type": "heading",
     "level": 2,
     "metadata": {},
     "source": [
      "Example number 3.1, Page number 67"
     ]
    },
    {
     "cell_type": "code",
     "collapsed": false,
     "input": [
      "#importing modules\n",
      "import math\n",
      "from __future__ import division\n",
      "\n",
      "#Variable declaration\n",
      "S=2*10**-6;      #tungsten filament(m**2)\n",
      "T=2000;      #temperature(K)\n",
      "A=60.2*10**4;   #value of A(amp/m**2 K)     \n",
      "b=52400;       #value of b \n",
      "e=1.6*10**-19;   #electron charge(c)\n",
      "\n",
      "#Calculation\n",
      "I=A*S*(T**2)*(math.exp(-(b/T)));   #electronic emission current(amp)\n",
      "J=A*(T**2)*(math.exp(-b/T));      #emission current density(A/m**2)\n",
      "no=J/e;          #no. of electrons emitted per unit area per sec(per m**2 sec)\n",
      "\n",
      "#Result\n",
      "print \"maximum obtainable electronic emission current is\",round(I*10**6,3),\"micro amp\"\n",
      "print \"emission current density is\",round(J,5),\"A/m**2\"\n",
      "print \"no. of electrons emitted per unit area per sec is\",round(no/10**19,3),\"*10**19 per m**2 sec\""
     ],
     "language": "python",
     "metadata": {},
     "outputs": [
      {
       "output_type": "stream",
       "stream": "stdout",
       "text": [
        "maximum obtainable electronic emission current is 20.145 micro amp\n",
        "emission current density is 10.07259 A/m**2\n",
        "no. of electrons emitted per unit area per sec is 6.295 *10**19 per m**2 sec\n"
       ]
      }
     ],
     "prompt_number": 1
    },
    {
     "cell_type": "heading",
     "level": 2,
     "metadata": {},
     "source": [
      "Example number 3.2, Page number 67"
     ]
    },
    {
     "cell_type": "code",
     "collapsed": false,
     "input": [
      "#importing modules\n",
      "import math\n",
      "from __future__ import division\n",
      "\n",
      "#Variable declaration\n",
      "Ip1=20;       #plate current(mA)\n",
      "Ip2=30;       #changed plate current(mA) \n",
      "Vp1=80;       #plate voltage(V)\n",
      "\n",
      "#Calculation\n",
      "#Ip=K*(Vp^(3/2))\n",
      "Vp2=((((Vp1)**(3/2))*Ip2)/Ip1)**(2/3);       #changed plate voltage(V)\n",
      "\n",
      "#Result\n",
      "print \"plate voltage for 30mA current is\",round(Vp2,2),\"V\""
     ],
     "language": "python",
     "metadata": {},
     "outputs": [
      {
       "output_type": "stream",
       "stream": "stdout",
       "text": [
        "plate voltage for 30mA current is 104.83 V\n"
       ]
      }
     ],
     "prompt_number": 2
    }
   ],
   "metadata": {}
  }
 ]
}