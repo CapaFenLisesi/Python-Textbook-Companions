{
 "metadata": {
  "name": "",
  "signature": "sha256:57dd400e6a371fc942ebeb713efb17a63987abe7cc9d200458344eee3c619616"
 },
 "nbformat": 3,
 "nbformat_minor": 0,
 "worksheets": [
  {
   "cells": [
    {
     "cell_type": "heading",
     "level": 1,
     "metadata": {},
     "source": [
      "Ch-6 Optical Receiver Systems"
     ]
    },
    {
     "cell_type": "heading",
     "level": 2,
     "metadata": {},
     "source": [
      "Example 6.31 Page no 489"
     ]
    },
    {
     "cell_type": "code",
     "collapsed": false,
     "input": [
      "from __future__ import division\n",
      "from math import sqrt, pi\n",
      "\n",
      "\n",
      "# Calculation of a)peak photocurrent , b)shot noise and c)mean square shot noise current\n",
      "\n",
      "#Given data\n",
      "n=0.7#                               # Efficiency\n",
      "lamda=0.9*10**-6#                    # Wavelength\n",
      "R=5*10**3#                           # Load resistance\n",
      "I=2*10**-9#                          # Dark current\n",
      "P=300*10**-6#                        # Incident power\n",
      "B=15*10**6#                          # Bandwidth\n",
      "T=298#                             # Room temperature\n",
      "h=6.62*10**-34#\n",
      "c=3*10**8#\n",
      "e=1.602*10**-19#                    # Charge of an electron\n",
      "k=1.381*10**-23#                    # Boltzman constant\n",
      "\n",
      "# a)Peak photocurrent\n",
      "I=(n*P*e*lamda)/(h*c)#\n",
      "I=I*10**6#\n",
      "\n",
      "#b) Shot noise and mean square shot noise current\n",
      "s=2*e*B*(2+I)#\n",
      "s=s*10**11#\n",
      "\n",
      "#c) mean square shot noise current\n",
      "t=(4*k*T*B)/R#\n",
      "t=t*10**17#\n",
      "            \n",
      "print\"Peak photocurrent = %0.3f nA \"%(I)#\n",
      "print\"Shot noise = %0.1f 10**-20 A \"%(s)#\n",
      "print\"Mean square shot noise current = %0.2f*10**-17 A  \"%(t)#\n",
      "\n",
      "# The answers vary due to round off error"
     ],
     "language": "python",
     "metadata": {},
     "outputs": [
      {
       "output_type": "stream",
       "stream": "stdout",
       "text": [
        "Peak photocurrent = 152.456 nA \n",
        "Shot noise = 74.2 10**-20 A \n",
        "Mean square shot noise current = 4.94*10**-17 A  \n"
       ]
      }
     ],
     "prompt_number": 24
    },
    {
     "cell_type": "heading",
     "level": 2,
     "metadata": {},
     "source": [
      "Example 6.32 Page no 495"
     ]
    },
    {
     "cell_type": "code",
     "collapsed": false,
     "input": [
      "from math import log10\n",
      "# Calculation of signal to noise ratio\n",
      "\n",
      "#Given data\n",
      "I=152.3*10**-9#                     # Peak photocurrent\n",
      "s=74.15*10**-20#                    # Shot noise \n",
      "t=4.94*10**-17#                    # Mean square shot noise current\n",
      "F=10*log10(3)#                    # Noise figure\n",
      "B=15*10**6#                        # Bandwidth\n",
      "T=298#                            # Room temperature\n",
      "k=1.381*10**-23#                   # Boltzman constant\n",
      "R=5*10**3#                         # Load resistance\n",
      "e=1.602*10**-19#                  # Charge of an electron\n",
      "\n",
      "\n",
      "# Signal to noise ratio\n",
      "S=(I**2)/((2*e*B*(2+I))+(4*k*T*B*F)/R)#\n",
      "S=S*10**3#\n",
      "            \n",
      "print\"Signal to noise ratio = %0.2f  \"%(S)#\n",
      "\n",
      "\n",
      "# The answers vary due to round off error"
     ],
     "language": "python",
     "metadata": {},
     "outputs": [
      {
       "output_type": "stream",
       "stream": "stdout",
       "text": [
        "Signal to noise ratio = 2.41  \n"
       ]
      }
     ],
     "prompt_number": 25
    },
    {
     "cell_type": "heading",
     "level": 2,
     "metadata": {},
     "source": [
      "Example 6.33 Page no 495"
     ]
    },
    {
     "cell_type": "code",
     "collapsed": false,
     "input": [
      "# Calculation of a)load resistance and b)bandwidth\n",
      "\n",
      "#Given data\n",
      "Cd=5*10**-12                         # Capacitance of pin photodiode\n",
      "B=10*10**6#                         # Bandwidth\n",
      "Ca=10*10**-12#                      # Input capacitance\n",
      "\n",
      "\n",
      "# a)Load resistance\n",
      "R=1/(2*pi*B*Cd)#\n",
      "R=R*10**-3#\n",
      "# b)Bandwidth\n",
      "Bm=1/(2*pi*(Cd+Ca)*R)#\n",
      "Bm=Bm*10**-9#\n",
      "            \n",
      "print\"Wavelength of photodiode = %0.2f kohm \"%(R)#\n",
      "print\"Bandwidth = %0.3f MHz \"%(Bm)#\n",
      "\n",
      "# The answers vary due to round off error"
     ],
     "language": "python",
     "metadata": {},
     "outputs": [
      {
       "output_type": "stream",
       "stream": "stdout",
       "text": [
        "Wavelength of photodiode = 3.18 kohm \n",
        "Bandwidth = 3.333 MHz \n"
       ]
      }
     ],
     "prompt_number": 26
    },
    {
     "cell_type": "heading",
     "level": 2,
     "metadata": {},
     "source": [
      "Example 6.34 Page no 491"
     ]
    },
    {
     "cell_type": "code",
     "collapsed": false,
     "input": [
      "# Calculation of signal to noise ratio.\n",
      "\n",
      "#Given data\n",
      "\n",
      "h=6.62*10**-34#                       # Planck constant\n",
      "c=5*10**-12#                          # capacitor\n",
      "lamda=1.55*10**-6#                  # Wavelength\n",
      "B=50*10**6#                         # Speed of communication\n",
      "s=2*10**-9#\n",
      "I=10**-7#\n",
      "k=1.381*10**-23#\n",
      "T=291#\n",
      "x=0.3#\n",
      "e=1.602*10**-19#\n",
      "\n",
      "# Maximum load resistance is\n",
      "R=1/(2*pi*c*B)#\n",
      "\n",
      "S=I**2/((2*e*B*I)+(4*k*T*B/R))#\n",
      "M=((4*k*T)/(e*x*R*I))**(0.435)#\n",
      "S1=((((M**2)*(I**2))/(2*e*B*I*M**2.3))+((4*k*T*B)/R))#\n",
      "S1=10*log10(S1)#\n",
      "            \n",
      "print\"Load resistor = %0.1f ohm \"%(R)#\n",
      "print\"S/N = %0.2f dB \"%(S)#\n",
      "print\"M  = %0.2f  \"%(M)#\n",
      "print\"S/N = %0.2f dB \"%(S1)#\n",
      "\n",
      "# The answers vary due to round off error"
     ],
     "language": "python",
     "metadata": {},
     "outputs": [
      {
       "output_type": "stream",
       "stream": "stdout",
       "text": [
        "Load resistor = 636.6 ohm \n",
        "S/N = 7.91 dB \n",
        "M  = 41.53  \n",
        "S/N = 33.10 dB \n"
       ]
      }
     ],
     "prompt_number": 27
    },
    {
     "cell_type": "heading",
     "level": 2,
     "metadata": {},
     "source": [
      "Example 6.35 Page no 493"
     ]
    },
    {
     "cell_type": "code",
     "collapsed": false,
     "input": [
      "# Calculation of a) responsivity b)incident optical power\n",
      "\n",
      "#Given data\n",
      "n=0.6#                         # Quantum efficiency\n",
      "e=1.602*10**-19#                # Charge of electron\n",
      "lamda=0.9*10**-6#              # Wavelength \n",
      "h=6.626*10**-34#                # Planck constant \n",
      "c=3*10**8#                      # Velocity of light\n",
      "I=2*10**-6#                     # Photocurrent\n",
      "\n",
      "# a)Responsivity\n",
      "R= (n*e*lamda)/(h*c)#\n",
      "\n",
      "# b)Incident power\n",
      "P=I/R#\n",
      "P=P*10**6#\n",
      "\n",
      "print\"Responsivity = %0.3f A/W \"%(R)#\n",
      "print\"Incident power = %0.3f microwatt \"%(P)#\n",
      "\n",
      "# The answers vary due to round off error"
     ],
     "language": "python",
     "metadata": {},
     "outputs": [
      {
       "output_type": "stream",
       "stream": "stdout",
       "text": [
        "Responsivity = 0.435 A/W \n",
        "Incident power = 4.596 microwatt \n"
       ]
      }
     ],
     "prompt_number": 28
    },
    {
     "cell_type": "heading",
     "level": 2,
     "metadata": {},
     "source": [
      "Example 6.36 Page no 493"
     ]
    },
    {
     "cell_type": "code",
     "collapsed": false,
     "input": [
      "# Calculation of a) responsivity b)Multiplication factor\n",
      "\n",
      "#Given data\n",
      "n=0.8#                            # Quantum efficiency\n",
      "e=1.602*10**-19#                   # Charge of an electron\n",
      "lamda=0.9*10**-6#                 # Wavelength \n",
      "h=6.626*10**-34#                   # Planck constant \n",
      "c=3*10**8#                        # Velocity of light\n",
      "I=15*10**-6#                      # Photocurrent\n",
      "P=0.6*10**-6#\n",
      "\n",
      "# a)Responsivity\n",
      "R= (n*e*lamda)/(h*c)#\n",
      "# b)Multiplication factor\n",
      "Ip=P*R#\n",
      "M=I/Ip#\n",
      "            \n",
      "print\"Responsivity = %0.3f A/W \"%(R)#\n",
      "print\"Multiplication factor = %0.2f  \"%(M)#\n",
      "\n",
      "# The answers vary due to round off error"
     ],
     "language": "python",
     "metadata": {},
     "outputs": [
      {
       "output_type": "stream",
       "stream": "stdout",
       "text": [
        "Responsivity = 0.580 A/W \n",
        "Multiplication factor = 43.08  \n"
       ]
      }
     ],
     "prompt_number": 29
    },
    {
     "cell_type": "heading",
     "level": 2,
     "metadata": {},
     "source": [
      "Example 6.37 Page no 494"
     ]
    },
    {
     "cell_type": "code",
     "collapsed": false,
     "input": [
      "# Calculation of a) quantum efficiency b) responsivity \n",
      "\n",
      "#Given data\n",
      "e5=500#                            # No of incident photons\n",
      "e8=800#                            # No of incident electrons\n",
      "e=1.602*10**-19#                    # Charge of an electron\n",
      "lamda=1.3*10**-6#                  # Wavelength \n",
      "h=6.626*10**-34#                    # Planck constant \n",
      "c=3*10**8#                         # Velocity of light\n",
      "I=15*10**-6#                       # Photocurrent\n",
      "P=0.6*10**-6#\n",
      "\n",
      "# a)Quantum efficiency\n",
      "n=e5/e8#\n",
      "# b)Responsivity\n",
      "R=(n*e*lamda)/(h*c)#\n",
      "\n",
      "print\"Quantum efficiency = %0.1f %% \"%(n*100)#\n",
      "print\"Responsivity = %0.3f A/W \"%(R)#\n",
      "\n",
      "# The answers vary due to round off error"
     ],
     "language": "python",
     "metadata": {},
     "outputs": [
      {
       "output_type": "stream",
       "stream": "stdout",
       "text": [
        "Quantum efficiency = 62.5 % \n",
        "Responsivity = 0.655 A/W \n"
       ]
      }
     ],
     "prompt_number": 30
    },
    {
     "cell_type": "heading",
     "level": 2,
     "metadata": {},
     "source": [
      "Example 6.38 Page no 494"
     ]
    },
    {
     "cell_type": "code",
     "collapsed": false,
     "input": [
      "# Calculation of a) quantum efficiency b) responsivity\n",
      "\n",
      "#Given data\n",
      "e5=1.2*10**11#                            # No of electrons collected\n",
      "e8=3.6*10**11#                            # No of incident photon\n",
      "e=1.602*10**-19#                         # Charge of an electron\n",
      "lamda=0.85*10**-6#                      # Wavelength \n",
      "h=6.626*10**-34#                        # Planck constant \n",
      "c=3*10**8#                              # Velocity of light\n",
      "I=15*10**-6#                            # Photocurrent\n",
      "P=0.6*10**-6# \n",
      "\n",
      "# a)Quantum efficiency\n",
      "n=e5/e8#\n",
      "# b)Responsivity\n",
      "R=(n*e*lamda)/(h*c)#\n",
      "            \n",
      "print\"Quantum efficiency = %0.2f  \"%(n)#\n",
      "print\"Responsivity = %0.3f A/W\"%(R)#\n",
      "\n",
      "# The answers vary due to round off error"
     ],
     "language": "python",
     "metadata": {},
     "outputs": [
      {
       "output_type": "stream",
       "stream": "stdout",
       "text": [
        "Quantum efficiency = 0.33  \n",
        "Responsivity = 0.228 A/W\n"
       ]
      }
     ],
     "prompt_number": 31
    },
    {
     "cell_type": "heading",
     "level": 2,
     "metadata": {},
     "source": [
      "Example 6.39 Page no 495"
     ]
    },
    {
     "cell_type": "code",
     "collapsed": false,
     "input": [
      "# Calculation of a) operating wavelength b) incidence optical power\n",
      "\n",
      "#Given data\n",
      "n=0.60                            # Quantum efficiency\n",
      "E=1.5*10**-19#                    # Photons of energy\n",
      "e=1.602*10**-19#                  # Charge of an electron\n",
      "h=6.626*10**-34#                  # Planck constant \n",
      "c=3*10**8#                        # Velocity of light\n",
      "I=2*10**-6#                      # Photocurrent\n",
      "\n",
      "\n",
      "# a)Operating wavelength\n",
      "lamda=(h*c)/E#\n",
      "lamda=lamda*10**6#\n",
      "\n",
      "# b)Incident optical power\n",
      "R=(n*e)/E#\n",
      "P=I/R#\n",
      "P=P*10**6#\n",
      "            \n",
      "print\"Wavelength of photodiode = %0.2f micrometer \"%(lamda)#\n",
      "print\"Incident optical power = %0.2f microWatt \"%(P)#\n",
      "\n",
      "# The answers vary due to round off error"
     ],
     "language": "python",
     "metadata": {},
     "outputs": [
      {
       "output_type": "stream",
       "stream": "stdout",
       "text": [
        "Wavelength of photodiode = 1.33 micrometer \n",
        "Incident optical power = 3.12 microWatt \n"
       ]
      }
     ],
     "prompt_number": 32
    },
    {
     "cell_type": "heading",
     "level": 2,
     "metadata": {},
     "source": [
      "Example 6.40 Page no 495"
     ]
    },
    {
     "cell_type": "code",
     "collapsed": false,
     "input": [
      "# Calculation of load resistance and bandwidth\n",
      "\n",
      "\n",
      "\n",
      "#Given data\n",
      "Cd=6*10**-12                         # Capacitance of pin photodiode\n",
      "B=20*10**6#                         # Bandwidth\n",
      "Ca=6*10**-12#                      # Input capacitance\n",
      "\n",
      "\n",
      "# a)Load resistance\n",
      "R=1/(2*pi*B*Cd)#\n",
      "R=R*10**-3#\n",
      "# b)Bandwidth\n",
      "Bm=1/(2*pi*(Ca+Ca)*R)#\n",
      "Bm=Bm*10**-9#\n",
      "\n",
      "            \n",
      "print\"Load resistance = %0.2f kohm \"%(R)#\n",
      "print\"Bandwidth = %0.0f MHz \"%(Bm)#\n",
      "\n",
      "# The answers vary due to round off error"
     ],
     "language": "python",
     "metadata": {},
     "outputs": [
      {
       "output_type": "stream",
       "stream": "stdout",
       "text": [
        "Load resistance = 1.33 kohm \n",
        "Bandwidth = 10 MHz \n"
       ]
      }
     ],
     "prompt_number": 33
    },
    {
     "cell_type": "heading",
     "level": 2,
     "metadata": {},
     "source": [
      "Example 6.41 Page no 496"
     ]
    },
    {
     "cell_type": "code",
     "collapsed": false,
     "input": [
      "# Calculation of maximum bandwidth\n",
      "\n",
      "#Given data\n",
      "t=5*10**-12                         # Electron transit time\n",
      "G=70#                              # Gain of the device\n",
      "\n",
      "# Maximum bandwidth\n",
      "Bm=1/(2*pi*t*G)#\n",
      "Bm=Bm*10**-6#\n",
      "            \n",
      "print\"Bandwidth = %0.1f MHz \"%(Bm)#\n",
      "\n",
      "# The answers vary due to round off error"
     ],
     "language": "python",
     "metadata": {},
     "outputs": [
      {
       "output_type": "stream",
       "stream": "stdout",
       "text": [
        "Bandwidth = 454.7 MHz \n"
       ]
      }
     ],
     "prompt_number": 34
    }
   ],
   "metadata": {}
  }
 ]
}