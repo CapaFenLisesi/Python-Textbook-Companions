{
 "metadata": {
  "name": "",
  "signature": "sha256:cb1d3e018e4d7d09647d7c5ade60c15ce847002c6fe7d7460044d34deec7819c"
 },
 "nbformat": 3,
 "nbformat_minor": 0,
 "worksheets": [
  {
   "cells": [
    {
     "cell_type": "heading",
     "level": 1,
     "metadata": {},
     "source": [
      "Ch-2 Optical Fibers & Fiber Cables"
     ]
    },
    {
     "cell_type": "heading",
     "level": 2,
     "metadata": {},
     "source": [
      "Example 2.1 Page no 31"
     ]
    },
    {
     "cell_type": "code",
     "collapsed": false,
     "input": [
      "from __future__ import division\n",
      "from math import sqrt, pi\n",
      "# Calculation of core diameter\n",
      "# Given data\n",
      "n1=1.5#               # Refractive index of core\n",
      "n2=1.48#              # Refractive index of cladding\n",
      "N=1000#               # No of modes\n",
      "lamda=1.3#           # Light wavelength\n",
      "V=sqrt(2*N)#          # Mode parameter\n",
      "\n",
      "#core diameter\n",
      "d=(lamda*V)/(2*pi*sqrt(n1**2-n2**2))#   \n",
      "\n",
      "print\"Mode parameter = %0.2f  \"%(V)#\n",
      "print\"Core diameter = %0.0f micrometer \"%(d)#\n",
      "\n",
      "# Answer is wrong in the book."
     ],
     "language": "python",
     "metadata": {},
     "outputs": [
      {
       "output_type": "stream",
       "stream": "stdout",
       "text": [
        "Mode parameter = 44.72  \n",
        "Core diameter = 38 micrometer \n"
       ]
      }
     ],
     "prompt_number": 67
    },
    {
     "cell_type": "heading",
     "level": 2,
     "metadata": {},
     "source": [
      "Example 2.2 Page no 35"
     ]
    },
    {
     "cell_type": "code",
     "collapsed": false,
     "input": [
      "from math import asin, sin, degrees\n",
      "# Calculation of (a) critical angle (b) acceptance angle and oblique angle (c) numerical aperature \n",
      "# (d) percentage of light collected by the fiber and (e) diameter of fiber\n",
      "\n",
      "# Given data\n",
      "n1=1.5#                           # Refractive index of core\n",
      "n2=1.45#                          # Refractive index of cladding\n",
      "V=2.405#                          # Mode parameter\n",
      "lamda=1.55                       # Wavelength of fiber\n",
      "\n",
      "# (a) Critical angle of the\n",
      "theatha=degrees(asin(n2/n1))#             \n",
      "\n",
      "# (b) Oblique angle\n",
      "oa=90-theatha#                       \n",
      " #Acceptance angle   \n",
      "t1=n1*sin(oa*pi/180)#  \n",
      "th1=degrees(asin(t1))# \n",
      "\n",
      "# (c) Numerical aperature                      \n",
      "NA=sqrt(n1**2-n2**2)#                   \n",
      "\n",
      "# (d) Percentage of light collected in fiber\n",
      "P=(NA)**2*100#                        \n",
      "\n",
      "#(e) Diameter of fiber\n",
      "d=V*lamda/pi*(1/sqrt(n1**2-n2**2))#  \n",
      "\n",
      "\n",
      "print\"Critical angle = %0.0f degrees \"%(theatha)#\n",
      "print\"Oblique angle = %0.0f degrees \"%(oa)#\n",
      "print\"Acceptance angle = %0.0f degrees \"%(th1)#\n",
      "print\"Numerical aperature = %0.4f  \"%(NA)#\n",
      "print\"Percentage of light collected in fiber = %0.1f  \"%(P)#\n",
      "print\"Diameter of fiber = %0.2f micrometer \"%(d)#"
     ],
     "language": "python",
     "metadata": {},
     "outputs": [
      {
       "output_type": "stream",
       "stream": "stdout",
       "text": [
        "Critical angle = 75 degrees \n",
        "Oblique angle = 15 degrees \n",
        "Acceptance angle = 23 degrees \n",
        "Numerical aperature = 0.3841  \n",
        "Percentage of light collected in fiber = 14.7  \n",
        "Diameter of fiber = 3.09 micrometer \n"
       ]
      }
     ],
     "prompt_number": 68
    },
    {
     "cell_type": "heading",
     "level": 2,
     "metadata": {},
     "source": [
      "Example 2.3 Page no 38"
     ]
    },
    {
     "cell_type": "code",
     "collapsed": false,
     "input": [
      "#  Calculation of (a) critical angle (b) numerical aperature and (c) acceptance angle\n",
      "\n",
      "# Given data\n",
      "n1=1.5#                           # Refractive index of core\n",
      "n2=1.47#                          # Refractive index of cladding)\n",
      "\n",
      "# (a) Critical angle\n",
      "theatha=degrees(asin(n2/n1))#            \n",
      "# (b) Numerical aperature\n",
      "NA=sqrt(n1**2-n2**2)#               \n",
      "# (c) Acceptance angle\n",
      "theatha1=degrees(asin(NA))#                     \n",
      "\n",
      "\n",
      "print\"Critical angle = %0.1f degrees \"%(theatha)#\n",
      "print\"Numerical aperature = %0.2f  \"%(NA)#\n",
      "print\"Acceptance angle = %0.1f degrees \"%(theatha1)#"
     ],
     "language": "python",
     "metadata": {},
     "outputs": [
      {
       "output_type": "stream",
       "stream": "stdout",
       "text": [
        "Critical angle = 78.5 degrees \n",
        "Numerical aperature = 0.30  \n",
        "Acceptance angle = 17.4 degrees \n"
       ]
      }
     ],
     "prompt_number": 69
    },
    {
     "cell_type": "heading",
     "level": 2,
     "metadata": {},
     "source": [
      "Example 2.4 Page no 46"
     ]
    },
    {
     "cell_type": "code",
     "collapsed": false,
     "input": [
      "# Calculation of output power\n",
      "\n",
      "# Given data\n",
      "Pi=1#                                       # Input power\n",
      "A=0.5#                                     # Atteuation\n",
      "L=15#                                     # Fiber link length\n",
      "\n",
      "# Output Power\n",
      "Po=Pi*10**((-A*L)/10)#                     \n",
      "\n",
      "\n",
      "print\"Output Power = %0.3f mW \"%(Po)#"
     ],
     "language": "python",
     "metadata": {},
     "outputs": [
      {
       "output_type": "stream",
       "stream": "stdout",
       "text": [
        "Output Power = 0.178 mW \n"
       ]
      }
     ],
     "prompt_number": 70
    },
    {
     "cell_type": "heading",
     "level": 2,
     "metadata": {},
     "source": [
      "Example 2.5 Page no 47"
     ]
    },
    {
     "cell_type": "code",
     "collapsed": false,
     "input": [
      "from math import log10\n",
      "# Calculation of maximum transmission distance\n",
      "\n",
      "\n",
      "# Given data\n",
      "Pi=1*10**-3#                   # Input power\n",
      "A=0.5#                        # Atteuation\n",
      "Po=50*10**-6#                  # Output Power\n",
      "\n",
      "# Maximum transmission distance\n",
      "L=(10/A)*log10(Pi/Po)#         \n",
      "\n",
      "\n",
      "print\"Maximum transmission distance = %0.0f km \"%(L)#"
     ],
     "language": "python",
     "metadata": {},
     "outputs": [
      {
       "output_type": "stream",
       "stream": "stdout",
       "text": [
        "Maximum transmission distance = 26 km \n"
       ]
      }
     ],
     "prompt_number": 71
    },
    {
     "cell_type": "heading",
     "level": 2,
     "metadata": {},
     "source": [
      "Example 2.6 Page no 48"
     ]
    },
    {
     "cell_type": "code",
     "collapsed": false,
     "input": [
      "# Calculation of output power\n",
      "\n",
      "# Given data\n",
      "Pin=1*10**-3#                  # Input power\n",
      "AL1=10#                       # Attenuation 1\n",
      "AL2=20#                       # Attenuation 2          \n",
      "#Output power 1 and 2\n",
      "Po1=Pin/10#                      \n",
      "Po2=Pin/20#                          \n",
      "Po1=Po1*10**3#\n",
      "Po2=Po2*10**6#\n",
      "\n",
      "print\"Output power = %0.1f mW\"%(Po1)#\n",
      "print\"Output power = %0.0f uW\"%(Po2)#"
     ],
     "language": "python",
     "metadata": {},
     "outputs": [
      {
       "output_type": "stream",
       "stream": "stdout",
       "text": [
        "Output power = 0.1 mW\n",
        "Output power = 50 uW\n"
       ]
      }
     ],
     "prompt_number": 72
    },
    {
     "cell_type": "heading",
     "level": 2,
     "metadata": {},
     "source": [
      "Example 2.7 Page no 50"
     ]
    },
    {
     "cell_type": "code",
     "collapsed": false,
     "input": [
      "from math import exp\n",
      "\n",
      "# Calculation of attenuation and Rayleigh scattering coefficient for fiber\n",
      "\n",
      "\n",
      "# Given data\n",
      "n=1.46#                                      # Refractive index\n",
      "p=0.286#                                     # Average photoelastic coefficient\n",
      "B=7.25*10**-11#                               # Isothermal compressibility\n",
      "k=1.38*10**-23#                               # Boltzmann's constant\n",
      "T=1350#                                      # Fictive temperature\n",
      "l1=1*10**-6#                                  # Wavelength 1\n",
      "l2=1.3*10**-6#                                # Wavelength 2\n",
      "L=10**3#                                      # Length\n",
      "\n",
      "# Rayleigh scattering coefficient for length 1\n",
      "y1=8*(pi)**3*(n)**8*(p)**2*B*k*T/(3*(l1)**4)#   \n",
      "# Rayleigh scattering coefficient for length 2\n",
      "y2=8*(pi)**3*(n)**8*(p)**2*B*k*T/(3*(l2)**4)#   \n",
      "y1=y1#\n",
      "y2=y2#\n",
      "#Attenuation 1\n",
      "T1=exp(-(y1*L))#                               \n",
      "#Attenuation 2\n",
      "T2=exp(-(y2*L))#                               \n",
      "\n",
      "\n",
      "print\"First Rayleigh scattering coefficient = %0.6f m**-1 \"%(y1)#\n",
      "print\"Second Rayleigh scattering coefficient = %0.6f m**-1 \"%(y2)#\n",
      "\n",
      "print\"Attenuation (@ Length 1) = %0.2f dB/km\"%(T1)#\n",
      "print\"Attenuation (@ Length 2) = %0.2f dB/km\"%(T2)#"
     ],
     "language": "python",
     "metadata": {},
     "outputs": [
      {
       "output_type": "stream",
       "stream": "stdout",
       "text": [
        "First Rayleigh scattering coefficient = 0.000189 m**-1 \n",
        "Second Rayleigh scattering coefficient = 0.000066 m**-1 \n",
        "Attenuation (@ Length 1) = 0.83 dB/km\n",
        "Attenuation (@ Length 2) = 0.94 dB/km\n"
       ]
      }
     ],
     "prompt_number": 73
    },
    {
     "cell_type": "heading",
     "level": 2,
     "metadata": {},
     "source": [
      "Example 2.8 Page no 52"
     ]
    },
    {
     "cell_type": "code",
     "collapsed": false,
     "input": [
      "# Calculation of threshold power of stimulated Brillouin scattering and Raman Scattering\n",
      "\n",
      "\n",
      "\n",
      "# Given data\n",
      "A=0.5#                       # Attenuation\n",
      "d=5#                         # Core diameter\n",
      "lamda=1.3#                  # Operating wavelength\n",
      "v=0.7#                       # Bandwith of laser diode\n",
      "\n",
      "# Threshold power of stimulated Brillouin scattering\n",
      "Pb=4.4*10**-3*d**2*lamda**2*A*v#\n",
      "Pb=Pb*10**3#\n",
      "\n",
      "#Threshold power stimulated Raman Scattering\n",
      "Pr=5.9*10**-2*d**2*lamda*A# \n",
      "\n",
      "\n",
      "print\"Threshold power of stimulated Brillouin scattering = %0.2f mW\"%(Pb)#\n",
      "print\"Threshold power stimulated Raman Scattering = %0.2f W\"%(Pr)#"
     ],
     "language": "python",
     "metadata": {},
     "outputs": [
      {
       "output_type": "stream",
       "stream": "stdout",
       "text": [
        "Threshold power of stimulated Brillouin scattering = 65.06 mW\n",
        "Threshold power stimulated Raman Scattering = 0.96 W\n"
       ]
      }
     ],
     "prompt_number": 74
    },
    {
     "cell_type": "heading",
     "level": 2,
     "metadata": {},
     "source": [
      "Example 2.1 Page no. 479"
     ]
    },
    {
     "cell_type": "code",
     "collapsed": false,
     "input": [
      "# Compuatation of mode parameter\n",
      "\n",
      "\n",
      "\n",
      "#Given data\n",
      "n1=1.503# # refractive index of core\n",
      "n2=1.50# # refractive index of cladding\n",
      "a=4*10**-6# # core radius\n",
      "lamda=1*10**-6# # light wavelength\n",
      "\n",
      "# Mode parameter computation\n",
      "V=(2*pi*a*sqrt(n1**2-n2**2))/(lamda)#\n",
      "\n",
      "#Displaying the result in command window\n",
      "print\"Mode parameter is = %0.3f \"%(V)#\n",
      "\n",
      "# The answer vary due to round off error"
     ],
     "language": "python",
     "metadata": {},
     "outputs": [
      {
       "output_type": "stream",
       "stream": "stdout",
       "text": [
        "Mode parameter is = 2.385 \n"
       ]
      }
     ],
     "prompt_number": 75
    },
    {
     "cell_type": "heading",
     "level": 2,
     "metadata": {},
     "source": [
      "Example 2.2 Page no. 479"
     ]
    },
    {
     "cell_type": "code",
     "collapsed": false,
     "input": [
      "# Calculation of numerical aperature\n",
      "\n",
      "\n",
      "\n",
      "#Given data\n",
      "v=2.111#                  # Mode parameter\n",
      "a=4.01*10**-6#             # Core radius in m\n",
      "lamda=1.3*10**-6#         # Wavelength of laser light m\n",
      "\n",
      "#Numerical aperture computation\n",
      "NA=(v*lamda)/(2*pi*a)# \n",
      "\n",
      "#Displaying the result in command window\n",
      "print\"Numerical aperature = %0.2f\"%(NA)#"
     ],
     "language": "python",
     "metadata": {},
     "outputs": [
      {
       "output_type": "stream",
       "stream": "stdout",
       "text": [
        "Numerical aperature = 0.11\n"
       ]
      }
     ],
     "prompt_number": 76
    },
    {
     "cell_type": "heading",
     "level": 2,
     "metadata": {},
     "source": [
      "Example 2.3 Page no 480"
     ]
    },
    {
     "cell_type": "code",
     "collapsed": false,
     "input": [
      "from math import log\n",
      "# Calculation of potential difference\n",
      "\n",
      "\n",
      "\n",
      "# Given data\n",
      "na=10**24#                     # Accepter impurity level\n",
      "nd=10**22#                     # Donor impurity level\n",
      "ni=2.4*10**19#                 # Intrinsic electron \n",
      "T=290#                        # Room temperature\n",
      "e=1.602*10**-19#               # Electric charge\n",
      "K=1.38*10**-23#                # Boltzmann constant\n",
      "\n",
      "\n",
      "#Potential difference\n",
      "V=(K*T)/e*(log(na*nd/(ni)**2))#\n",
      "\n",
      "\n",
      "print\"Potential difference = %0.2f V \"%(V)#\n",
      "# The potential difference varies with the variation of Na, Nd and ni"
     ],
     "language": "python",
     "metadata": {},
     "outputs": [
      {
       "output_type": "stream",
       "stream": "stdout",
       "text": [
        "Potential difference = 0.42 V \n"
       ]
      }
     ],
     "prompt_number": 77
    },
    {
     "cell_type": "heading",
     "level": 2,
     "metadata": {},
     "source": [
      "Example 2.4 Page no 480"
     ]
    },
    {
     "cell_type": "code",
     "collapsed": false,
     "input": [
      "# Calculation of (a) Numerical aperature and (b) critical angle\n",
      "\n",
      "\n",
      "\n",
      "# Given data\n",
      "n1=1.5#                   # Refractive index of core\n",
      "n2=1.47#                  # Refractive index of cladding\n",
      "\n",
      "# (a) Numerical aperature\n",
      "NA= sqrt(n1**2-n2**2)#                \n",
      "\n",
      "# (b) Critical angle\n",
      "theatha=degrees(asin(n2/n1))#               \n",
      "\n",
      "\n",
      "print\"Numerical aperature = %0.2f \"%(NA)#\n",
      "print\"Critical angle = %0.1f degrees \"%(theatha)#"
     ],
     "language": "python",
     "metadata": {},
     "outputs": [
      {
       "output_type": "stream",
       "stream": "stdout",
       "text": [
        "Numerical aperature = 0.30 \n",
        "Critical angle = 78.5 degrees \n"
       ]
      }
     ],
     "prompt_number": 78
    },
    {
     "cell_type": "heading",
     "level": 2,
     "metadata": {},
     "source": [
      "Example 2.5 Page no 480"
     ]
    },
    {
     "cell_type": "code",
     "collapsed": false,
     "input": [
      "import math\n",
      "# Computation of (a) normalized frequency and (b) no. of guided modes\n",
      "\n",
      "\n",
      "\n",
      "#Given data\n",
      "lamda=0.85*10**-6#      # wavelength of fiber\n",
      "a=40*10**-6#             # core diameter of fiber\n",
      "delta=0.015#            # relative refractive index \n",
      "n1=1.48#                # refractive index of core\n",
      "\n",
      "# (a) Normalized frequency \n",
      "v=(2*pi*a*n1*(2*delta)**(1/2))/lamda# \n",
      "#(b) Number of guided modes\n",
      "m=v**2/2#       \n",
      "m=math.ceil(m)#\n",
      "#Displaying results in the command window            \n",
      "print\"Normalized frequency is = %0.1f  \"%(v)#\n",
      "print\"Number of guided modes = %0.0f  \"%(m)#"
     ],
     "language": "python",
     "metadata": {},
     "outputs": [
      {
       "output_type": "stream",
       "stream": "stdout",
       "text": [
        "Normalized frequency is = 75.8  \n",
        "Number of guided modes = 2873  \n"
       ]
      }
     ],
     "prompt_number": 79
    },
    {
     "cell_type": "heading",
     "level": 2,
     "metadata": {},
     "source": [
      "Example 2.6 Page no 480"
     ]
    },
    {
     "cell_type": "code",
     "collapsed": false,
     "input": [
      "# Computation of normalized frequency and no of guided modes\n",
      "\n",
      "\n",
      "#Given data\n",
      "lamda=1.30*10**-6#        # Wavelength of fiber\n",
      "a=25*10**-6#               # Core diameter of fiber\n",
      "delta=0.01#               # Relative refractive index \n",
      "n1=1.50#                  # Refractive index of core\n",
      "\n",
      "# (a) Normalized frequency \n",
      "v=((2*pi*a*n1)/(lamda))*((2*delta)**(1/2))# \n",
      "#(b) Number of guided modes\n",
      "m=v**2/2#                    \n",
      "#m=ceil(m)#\n",
      "\n",
      "#Displaying results in the command window            \n",
      "print\"Normalized frequency = %0.2f  \"%(v)#\n",
      "print\"Number of guided modes = %0.0f  \"%(m)#\n",
      "\n",
      "#Answer varies due to round off error"
     ],
     "language": "python",
     "metadata": {},
     "outputs": [
      {
       "output_type": "stream",
       "stream": "stdout",
       "text": [
        "Normalized frequency = 25.63  \n",
        "Number of guided modes = 329  \n"
       ]
      }
     ],
     "prompt_number": 80
    },
    {
     "cell_type": "heading",
     "level": 2,
     "metadata": {},
     "source": [
      "Example 2.7 Page no 481"
     ]
    },
    {
     "cell_type": "code",
     "collapsed": false,
     "input": [
      "# Calculation of normalized frequency and no of guided modes\n",
      "\n",
      "\n",
      "\n",
      "#Given data\n",
      "lamda=1.55*10**-6#      # Wavelength of fiber\n",
      "a=30*10**-6#             # Core diameter of fiber\n",
      "delta=0.015#            # Relative refractive index \n",
      "n1=1.48#                # Refractive index of core\n",
      "\n",
      "# (a) Normalized frequency \n",
      "v=(2*pi*a*n1*(2*delta)**(1/2))/lamda# \n",
      "#(b) Number of guided modes\n",
      "m=v**2/2#                               \n",
      "\n",
      "#Displaying results in the command window            \n",
      "print\"Normalized frequency = %0.2f  \"%(v)#\n",
      "print\"Number of guided modes = %0.0f  \"%(m)#\n",
      "# The answers vary due to round off error"
     ],
     "language": "python",
     "metadata": {},
     "outputs": [
      {
       "output_type": "stream",
       "stream": "stdout",
       "text": [
        "Normalized frequency = 31.17  \n",
        "Number of guided modes = 486  \n"
       ]
      }
     ],
     "prompt_number": 81
    },
    {
     "cell_type": "heading",
     "level": 2,
     "metadata": {},
     "source": [
      "Example 2.8 Page no 481"
     ]
    },
    {
     "cell_type": "code",
     "collapsed": false,
     "input": [
      "# Calculation of normalized frequency and no of guided modes\n",
      "\n",
      "\n",
      "#Given data\n",
      "lamda=1.55*10**-6#         # Wavelength of fiber\n",
      "a=4*10**-6#                 # Core diameter of fiber\n",
      "delta=0.01#                # Relative refractive index \n",
      "n1=1.48#                   # Refractive index of core\n",
      "# (a) Normalized frequency \n",
      "v=(2*pi*a*n1*(2*delta)**(1/2))/lamda# \n",
      "#(b) Number of guided modes\n",
      "m=v**2/2#                               \n",
      "\n",
      "#Displaying results in the command window            \n",
      "print\"Normalized frequency = %0.3f  \"%(v)#\n",
      "print\"Number of guided modes = %0.0f  \"%(m)#\n",
      "# The answers vary due to round off error"
     ],
     "language": "python",
     "metadata": {},
     "outputs": [
      {
       "output_type": "stream",
       "stream": "stdout",
       "text": [
        "Normalized frequency = 3.394  \n",
        "Number of guided modes = 6  \n"
       ]
      }
     ],
     "prompt_number": 82
    },
    {
     "cell_type": "heading",
     "level": 2,
     "metadata": {},
     "source": [
      "Example 2.9 Page no 481"
     ]
    },
    {
     "cell_type": "code",
     "collapsed": false,
     "input": [
      "# Calculation of Core radius\n",
      "\n",
      "#Given data\n",
      "lamda=0.85*10**-6#           # Wavelength of fiber\n",
      "delta=0.015#                 # Relative refractive index \n",
      "n1=1.48#                     # Refractive index of core\n",
      "v=2.403#                     # Normalized frequency for single mode fiber\n",
      "# Computation of core radius\n",
      "a=v*lamda/(2*pi*n1*sqrt(2*delta))#\n",
      "a=a*10**6#\n",
      "\n",
      "print\"Radius of core = %0.1f micrometer \"%(a)#"
     ],
     "language": "python",
     "metadata": {},
     "outputs": [
      {
       "output_type": "stream",
       "stream": "stdout",
       "text": [
        "Radius of core = 1.3 micrometer \n"
       ]
      }
     ],
     "prompt_number": 83
    },
    {
     "cell_type": "heading",
     "level": 2,
     "metadata": {},
     "source": [
      "Example 2.10 Page no 482"
     ]
    },
    {
     "cell_type": "code",
     "collapsed": false,
     "input": [
      "# Calculation of Cut off wavelength\n",
      "\n",
      "# Given data\n",
      "V=2.403#              # Normalized frequency\n",
      "delta=0.25#           # Refractive index of core\n",
      "n1=1.46#              # Relative refractive index\n",
      "a=4.5*10**-6#          # Radius of core\n",
      "\n",
      "# Cut off wavelenth\n",
      "lamda=(2*pi*a*n1*(sqrt(2*delta)))/V#       \n",
      "\n",
      "\n",
      "print\"Cut off wavelenth = %0.0f nm \"%(lamda*10**8)#\n",
      "\n",
      "# The answers vary due to round off error"
     ],
     "language": "python",
     "metadata": {},
     "outputs": [
      {
       "output_type": "stream",
       "stream": "stdout",
       "text": [
        "Cut off wavelenth = 1215 nm \n"
       ]
      }
     ],
     "prompt_number": 84
    },
    {
     "cell_type": "heading",
     "level": 2,
     "metadata": {},
     "source": [
      "Example 2.11 Page no 482"
     ]
    },
    {
     "cell_type": "code",
     "collapsed": false,
     "input": [
      "#Calculation of (a) reflection and (b) loss of light signal at joint areas.\n",
      "\n",
      "\n",
      "\n",
      "# Given data\n",
      "n1=1.5#                  # Refractive index of core\n",
      "n=1#                     # Refractive index of air\n",
      "\n",
      "# (a) Reflection at the fiber air interface \n",
      "R=((n1-n)/(n1+n))**2#     \n",
      "\n",
      "# (b) Light loss due to fiber air interface\n",
      "l= -10*log10(1-R)#\n",
      "\n",
      "\n",
      "print\"Reflection at the fiber air interface = %0.2f  \"%(R)#\n",
      "print\"Light loss due to fiber air interface = %0.2f dB \"%(l)#"
     ],
     "language": "python",
     "metadata": {},
     "outputs": [
      {
       "output_type": "stream",
       "stream": "stdout",
       "text": [
        "Reflection at the fiber air interface = 0.04  \n",
        "Light loss due to fiber air interface = 0.18 dB \n"
       ]
      }
     ],
     "prompt_number": 85
    },
    {
     "cell_type": "heading",
     "level": 2,
     "metadata": {},
     "source": [
      "Example 2.12 Page no 482"
     ]
    },
    {
     "cell_type": "code",
     "collapsed": false,
     "input": [
      "# Computation of (a) numerical aperature and (b) maximum angle of entrance\n",
      "\n",
      "#Given data\n",
      "n1=1.48#             # Refractive index of core\n",
      "n2=1.46#             # Refractive index of cladding\n",
      "\n",
      "# (a) Numerical Aperture \n",
      "NA=sqrt(n1**2-n2**2)#\n",
      "\n",
      "#(b) Maximum angle of entrance\n",
      "theata=degrees(asin(NA))\n",
      "\n",
      "#Displaying result in the command window            \n",
      "print\"Numerical Aperture  = %0.3f  \"%(NA)#\n",
      "print\"Maximum angle of entrance = %0.0f degress \"%(theata)#\n",
      "\n",
      "# Final answer in the book is wrong. Please refer example 2.11 of \n",
      "# Fiber Optic Communication by Gerd Keiser book.\n",
      "\n",
      " "
     ],
     "language": "python",
     "metadata": {},
     "outputs": [
      {
       "output_type": "stream",
       "stream": "stdout",
       "text": [
        "Numerical Aperture  = 0.242  \n",
        "Maximum angle of entrance = 14 degress \n"
       ]
      }
     ],
     "prompt_number": 86
    },
    {
     "cell_type": "heading",
     "level": 2,
     "metadata": {},
     "source": [
      "Example 2.13 Page no 483"
     ]
    },
    {
     "cell_type": "code",
     "collapsed": false,
     "input": [
      "# Calculation of (a) core radius and (b) maximum value of angle of acceptance of the fiber\n",
      "\n",
      "#Given data\n",
      "lamda=1320*10**-9#          # Wavelength of fiber\n",
      "delta=0.077#                # Relative refractive index \n",
      "n1=1.48#                    # Refractive index of core\n",
      "n2=1.478#                   # Refractive index of cladding\n",
      "v=2.403#                    # Normalized frequency\n",
      "\n",
      "# (a) Core radius\n",
      "a=v*lamda/(2*pi*delta)#\n",
      "a=a*10**6#\n",
      "\n",
      "#Numerical Aperture\n",
      "NA=sqrt(n1**2-n2**2)#\n",
      "\n",
      "# (b) Angle of acceptance\n",
      "theata = degrees(asin(NA))\n",
      "\n",
      "\n",
      "print\"Radius of core = %0.1f micrometer \"%(a)#\n",
      "print\"Numerical aperture = %0.5f  \"%(NA)#\n",
      "print\"Angle of acceptance = %0.0f degrees \"%(theata)#\n",
      "\n",
      "# The answers vary due to round off error"
     ],
     "language": "python",
     "metadata": {},
     "outputs": [
      {
       "output_type": "stream",
       "stream": "stdout",
       "text": [
        "Radius of core = 6.6 micrometer \n",
        "Numerical aperture = 0.07692  \n",
        "Angle of acceptance = 4 degrees \n"
       ]
      }
     ],
     "prompt_number": 87
    },
    {
     "cell_type": "heading",
     "level": 2,
     "metadata": {},
     "source": [
      "Example 2.14 Page no 483"
     ]
    },
    {
     "cell_type": "code",
     "collapsed": false,
     "input": [
      "# Calculation of critical wavelength\n",
      "\n",
      "\n",
      "\n",
      "#Given data\n",
      "a=3*10**-6#            # Core diameter of fiber\n",
      "delta=0.15#           # Relative refractive index \n",
      "v=2.405#              # Normalized frequency\n",
      "\n",
      "# Critical wavelength\n",
      "lamda=(2*pi*a*delta)/v#\n",
      "lamda*=10**9#\n",
      "\n",
      "\n",
      "print\"Critical wavelength = %0.0f nm \"%(lamda)#\n",
      "\n",
      "# The answers vary due to round off error"
     ],
     "language": "python",
     "metadata": {},
     "outputs": [
      {
       "output_type": "stream",
       "stream": "stdout",
       "text": [
        "Critical wavelength = 1176 nm \n"
       ]
      }
     ],
     "prompt_number": 88
    }
   ],
   "metadata": {}
  }
 ]
}