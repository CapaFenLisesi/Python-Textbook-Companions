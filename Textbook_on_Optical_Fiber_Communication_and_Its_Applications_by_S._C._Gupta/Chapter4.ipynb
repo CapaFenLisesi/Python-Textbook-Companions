{
 "metadata": {
  "name": "",
  "signature": "sha256:ff9656e3741890c1b84f87cd6c76097007b957d4fa78f0c44f653f7087be4952"
 },
 "nbformat": 3,
 "nbformat_minor": 0,
 "worksheets": [
  {
   "cells": [
    {
     "cell_type": "heading",
     "level": 1,
     "metadata": {},
     "source": [
      "Ch-4 Optical Fiber Transmitter"
     ]
    },
    {
     "cell_type": "heading",
     "level": 2,
     "metadata": {},
     "source": [
      "Example 4.21 Page no 486"
     ]
    },
    {
     "cell_type": "code",
     "collapsed": false,
     "input": [
      "from __future__ import division\n",
      "from math import sqrt, pi\n",
      "\n",
      "# Calculation of wavelength seperation between longitudinal modes.\n",
      "\n",
      "\n",
      "#Given data\n",
      "lamda=0.85#                   # Wavelength\n",
      "n1=3.6#                        # Refractive index of GaAs\n",
      "L=200*10**-6#                   # Length of cavity\n",
      "\n",
      "# Wavelength seperation between longitudinal modes.\n",
      "lambda1=((lamda)**2)*(10**-12)/(2*n1*L)#   \n",
      "lambda1=lambda1*10**9#\n",
      "\n",
      "#Displaying results in the command window\n",
      "print\"Wavelength seperation = %0.1f nm**2\"%(lambda1)#"
     ],
     "language": "python",
     "metadata": {},
     "outputs": [
      {
       "output_type": "stream",
       "stream": "stdout",
       "text": [
        "Wavelength seperation = 0.5 nm**2\n"
       ]
      }
     ],
     "prompt_number": 6
    },
    {
     "cell_type": "heading",
     "level": 2,
     "metadata": {},
     "source": [
      "Example 4.22 Page no 486"
     ]
    },
    {
     "cell_type": "code",
     "collapsed": false,
     "input": [
      "# Computation of overall external efficiency\n",
      "\n",
      "#Given data\n",
      "eg=1.43#            # Bandgap energy\n",
      "v=2.5#              # Electrical supply Voltage\n",
      "nd=0.18#            # Optical efficiency of laser diode\n",
      "\n",
      "# Computation of overall external efficiency\n",
      "ne=(nd*eg/v)*100#           \n",
      "\n",
      "\n",
      "print\"Overall external efficiency = %0.0f %%\"%(ne)#"
     ],
     "language": "python",
     "metadata": {},
     "outputs": [
      {
       "output_type": "stream",
       "stream": "stdout",
       "text": [
        "Overall external efficiency = 10 %\n"
       ]
      }
     ],
     "prompt_number": 7
    },
    {
     "cell_type": "heading",
     "level": 2,
     "metadata": {},
     "source": [
      "Example 4.23 Page no 486"
     ]
    },
    {
     "cell_type": "code",
     "collapsed": false,
     "input": [
      "# Calculation of overall external efficiency of a Laser diode\n",
      "\n",
      "#Given data\n",
      "eg=1.43#            # Bandgap energy\n",
      "v=2.5#              # Voltage applied\n",
      "nd=0.30#            # Optical efficiency of laser diode\n",
      "\n",
      "## Overall external efficiency \n",
      "ne=(nd*eg/v)*100#   \n",
      "\n",
      "\n",
      "print\"Overall external efficiency = %0.0f %%\"%(ne)#"
     ],
     "language": "python",
     "metadata": {},
     "outputs": [
      {
       "output_type": "stream",
       "stream": "stdout",
       "text": [
        "Overall external efficiency = 17 %\n"
       ]
      }
     ],
     "prompt_number": 8
    }
   ],
   "metadata": {}
  }
 ]
}