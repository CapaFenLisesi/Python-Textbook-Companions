{
 "metadata": {
  "name": "",
  "signature": "sha256:7068b67aec0a119c755333859d80660f2c60ab073f69ac71a3d86fb3e6c35f75"
 },
 "nbformat": 3,
 "nbformat_minor": 0,
 "worksheets": [
  {
   "cells": [
    {
     "cell_type": "heading",
     "level": 1,
     "metadata": {},
     "source": [
      "Ch-8 Telecommunication Application"
     ]
    },
    {
     "cell_type": "heading",
     "level": 2,
     "metadata": {},
     "source": [
      "Example 8.45 Page no 499"
     ]
    },
    {
     "cell_type": "code",
     "collapsed": false,
     "input": [
      "from __future__ import division\n",
      "from math import sqrt, pi, log10\n",
      "\n",
      "# Calculation of incident optical power.\n",
      "\n",
      "#Given data\n",
      "lamda=1.3*10**-6#                      # Wavelength\n",
      "B=6*10**6#                             # Bandwidth\n",
      "S=10**5#                               # Total system margin\n",
      "n=1#                                 # Efficiency\n",
      "v=3*10**14#\n",
      "h=6.62*10**-34#                       # Planck constant\n",
      "\n",
      "\n",
      "\n",
      "# Incident optical power\n",
      "P=(2*S*v*h*B)/n#  \n",
      "\n",
      "P1=10*log10(P/10**-3)#\n",
      "\n",
      "\n",
      "print\"Incident optical power = %0.1f nW \"%(P1)#\n",
      "\n",
      "\n",
      "# The answers vary due to round off error"
     ],
     "language": "python",
     "metadata": {},
     "outputs": [
      {
       "output_type": "stream",
       "stream": "stdout",
       "text": [
        "Incident optical power = -36.2 nW \n"
       ]
      }
     ],
     "prompt_number": 10
    },
    {
     "cell_type": "heading",
     "level": 2,
     "metadata": {},
     "source": [
      "Example 8.46 Page no 500"
     ]
    },
    {
     "cell_type": "code",
     "collapsed": false,
     "input": [
      "# Calculation of maximum repeater spacing of a)ASK hetrodyne b)PSK homodyne  \n",
      "\n",
      "#Given data\n",
      "\n",
      "S=0.2#                             # Split loss\n",
      "c=3*10**8#                          # velocity of light\n",
      "lamda=1.55*10**-6#                 # Wavelength\n",
      "B1=50*10**6#                        # Speed of communication\n",
      "h=6.63*10**-34                      # Planck constant\n",
      "B2=1*10**9#                         # Speed of communication\n",
      "\n",
      "\n",
      "# a)Maximum repeater spacing for ASK hetrodyne\n",
      "P1=(36*h*c*B1)/lamda# \n",
      "P1=10*log10(P1/10**-3)#\n",
      "s1=4-P1#\n",
      "R1=s1/S#\n",
      "P2= (36*h*c*B2)/lamda#\n",
      "P2=10*log10(P2/10**-3)#\n",
      "s2=4-P2#\n",
      "R2=s2/S#\n",
      "#b)Maximum repeater spacing for PSK homodyne\n",
      "K1= (9*h*c*B1)/lamda#\n",
      "K1=10*log10(K1/10**-3)#\n",
      "K1=4-K1#\n",
      "R3=K1/S#\n",
      "K2= (9*h*c*B2)/lamda#\n",
      "K2=10*log10(K2/10**-3)#\n",
      "K2=4-K2#\n",
      "R4=K2/S#\n",
      "\n",
      "\n",
      "print\"Maximum repeater spacing = %0.3f km \"%(R1)#\n",
      "print\"Maximum repeater spacing = %0.3f km \"%(R2)#\n",
      "print\"Maximum repeater spacing = %0.3f km \"%(R3)#\n",
      "print\"Maximum repeater spacing = %0.3f km \"%(R4)#\n",
      "# The answers vary due to round off error"
     ],
     "language": "python",
     "metadata": {},
     "outputs": [
      {
       "output_type": "stream",
       "stream": "stdout",
       "text": [
        "Maximum repeater spacing = 351.821 km \n",
        "Maximum repeater spacing = 286.770 km \n",
        "Maximum repeater spacing = 381.924 km \n",
        "Maximum repeater spacing = 316.873 km \n"
       ]
      }
     ],
     "prompt_number": 11
    },
    {
     "cell_type": "heading",
     "level": 2,
     "metadata": {},
     "source": [
      "Example 8.47 Page no 499"
     ]
    },
    {
     "cell_type": "code",
     "collapsed": false,
     "input": [
      "# Calculation of incident optical power.\n",
      "\n",
      "#Given data\n",
      "\n",
      "h=6.62*10**-34#                       # Planck constant\n",
      "c=3*10**8#                           # velocity of light\n",
      "lamda=1.55*10**-6#                 # Wavelength\n",
      "B=400*10**6#                        # Speed of communication\n",
      "\n",
      "# Maximum repeater spacing\n",
      "P=(36*h*c*B)/lamda# \n",
      "P=10*log10(P/10**-3)#\n",
      "\n",
      "print\"Incident optical power = %0.3f nW \"%(P)#\n",
      "\n",
      "\n",
      "# The answers vary due to round off error"
     ],
     "language": "python",
     "metadata": {},
     "outputs": [
      {
       "output_type": "stream",
       "stream": "stdout",
       "text": [
        "Incident optical power = -57.340 nW \n"
       ]
      }
     ],
     "prompt_number": 12
    },
    {
     "cell_type": "heading",
     "level": 2,
     "metadata": {},
     "source": [
      "Example 8.48 Page no 502"
     ]
    },
    {
     "cell_type": "code",
     "collapsed": false,
     "input": [
      "# Calculation of optical power budget.\n",
      "\n",
      "#Given data\n",
      "M=-10#                      # Mean optical power\n",
      "S=-25#                      # Split loss\n",
      "TS=7#                       # Total system margin\n",
      "SP=1.4#                     # Split loss\n",
      "C=1.6#                     # Connector loss\n",
      "SM=4#                      # Safety margin\n",
      "\n",
      "\n",
      "# Net margin between LED and receiver\n",
      "N=M-S#  \n",
      "\n",
      "# Total system loss\n",
      "T=TS+SP+C+SM#\n",
      "# Excess power margin\n",
      "E=N-T#\n",
      "\n",
      "print\"Excess power margin = %0.0f dB \"%(E)#\n",
      "\n",
      "\n",
      "# The answers vary due to round off error"
     ],
     "language": "python",
     "metadata": {},
     "outputs": [
      {
       "output_type": "stream",
       "stream": "stdout",
       "text": [
        "Excess power margin = 1 dB \n"
       ]
      }
     ],
     "prompt_number": 13
    },
    {
     "cell_type": "heading",
     "level": 2,
     "metadata": {},
     "source": [
      "Example 8.49 Page no 503"
     ]
    },
    {
     "cell_type": "code",
     "collapsed": false,
     "input": [
      "# Calculation of viability of digital link.\n",
      "\n",
      "#Given data\n",
      "M=-10#                      # Mean optical power\n",
      "S=-41#                      # Receiver sensitivity\n",
      "TS=18.2#                    # Total system margin\n",
      "SP=3#                       # Split loss\n",
      "C=1.5#                     # Connector loss\n",
      "SM=6#                       # Safety margin\n",
      "\n",
      "\n",
      "# Net margin between LED and receiver\n",
      "N=M-S#  \n",
      "\n",
      "# Total system loss\n",
      "T=TS+SP+C+SM#\n",
      "# Excess power margin\n",
      "E=N-T#\n",
      "\n",
      "\n",
      "\n",
      "\n",
      "\n",
      "print\"Excess power margin = %0.1f dB \"%(E)#\n",
      "\n",
      "\n",
      "# The answers vary due to round off error"
     ],
     "language": "python",
     "metadata": {},
     "outputs": [
      {
       "output_type": "stream",
       "stream": "stdout",
       "text": [
        "Excess power margin = 2.3 dB \n"
       ]
      }
     ],
     "prompt_number": 14
    },
    {
     "cell_type": "heading",
     "level": 2,
     "metadata": {},
     "source": [
      "Example 8.50 Page no 499"
     ]
    },
    {
     "cell_type": "code",
     "collapsed": false,
     "input": [
      "# Calculation of signal to noise ratio.\n",
      "\n",
      "#Given data\n",
      "\n",
      "h=6.62*10**-34#                       # Planck constant\n",
      "c=3*10**8#                           # velocity of light\n",
      "lamda=1.55*10**-6#                 # Wavelength\n",
      "B=400*10**6#                        # Speed of communication\n",
      "s=2#\n",
      "# S/N ratio\n",
      "\n",
      "sn=(s*4.24)/(2**(1/2))#\n",
      "i=(sn)**2#\n",
      "\n",
      "\n",
      "print\"Incident optical power = %0.2f nW \"%(i)#\n",
      "\n",
      "\n",
      "# The answer is wrong in the book"
     ],
     "language": "python",
     "metadata": {},
     "outputs": [
      {
       "output_type": "stream",
       "stream": "stdout",
       "text": [
        "Incident optical power = 35.96 nW \n"
       ]
      }
     ],
     "prompt_number": 15
    },
    {
     "cell_type": "heading",
     "level": 2,
     "metadata": {},
     "source": [
      "Example 8.52 Page no 504"
     ]
    },
    {
     "cell_type": "code",
     "collapsed": false,
     "input": [
      "# Calculation of a)Bit rate of communication system  b)Bit duration c)Time period\n",
      "\n",
      "#Given data\n",
      "f=8*10**3#                    # Power launched in port 1\n",
      "P2=0.082*10**-6#              # Power launched in port 2\n",
      "P3=47*10**-6#                # Power launched in port 3 \n",
      "P4=52*10**-6#                # Power launched in port 4\n",
      "\n",
      "# a)Bit rate of communication system\n",
      "c=32*8#\n",
      "B=f*c# \n",
      "B=B*10**-6#\n",
      "# b)Bit duration\n",
      "D=1/B#\n",
      "D=D*10*10**2#\n",
      "P=8*D#\n",
      "\n",
      "\n",
      "# c)Time period\n",
      "T=32*P#\n",
      "T=T*10**-3#\n",
      "\n",
      "print\"Bit rate of communication system = %0.3f Mb/s \"%(B)#\n",
      "print\"Bit duration = %0.0f ns \"%(D)#\n",
      "print\"Time period = %0.0f micro sec \"%(T)#\n",
      "\n",
      "# The answers vary due to round off error"
     ],
     "language": "python",
     "metadata": {},
     "outputs": [
      {
       "output_type": "stream",
       "stream": "stdout",
       "text": [
        "Bit rate of communication system = 2.048 Mb/s \n",
        "Bit duration = 488 ns \n",
        "Time period = 125 micro sec \n"
       ]
      }
     ],
     "prompt_number": 16
    }
   ],
   "metadata": {}
  }
 ]
}