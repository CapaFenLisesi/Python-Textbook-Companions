{
 "metadata": {
  "name": "",
  "signature": "sha256:e4b22987004f66ce05a1748c9336b9665c2c2c84b03bd5f7cd9eb7faf9ca353a"
 },
 "nbformat": 3,
 "nbformat_minor": 0,
 "worksheets": [
  {
   "cells": [
    {
     "cell_type": "heading",
     "level": 1,
     "metadata": {},
     "source": [
      "Ch-7 Optical Fiber Connectors & Optical Amplification"
     ]
    },
    {
     "cell_type": "heading",
     "level": 2,
     "metadata": {},
     "source": [
      "Example 7.42 Page no 496"
     ]
    },
    {
     "cell_type": "code",
     "collapsed": false,
     "input": [
      "from __future__ import division\n",
      "from math import sqrt, pi, log10\n",
      "\n",
      "# Calculation of a)excess loss,b)insertion loss,c)crosstalk and d)split ratio for the device.\n",
      "\n",
      "#Given data\n",
      "P1=60*10**-6#                 # Power launched in port 1\n",
      "P2=0.004*10**-6#              # Power launched in port 2\n",
      "P3=26*10**-6#                # Power launched in port 3 \n",
      "P4=27.5*10**-6#              # Power launched in port 4\n",
      "\n",
      "# a)Excess loss\n",
      "E=10*log10(P1/(P3+P4))# \n",
      "\n",
      "#b)Insertion loss\n",
      "I1=10*log10(P1/P3)#\n",
      "I2=10*log10(P1/P4)#\n",
      "\n",
      "#c)Crosstalk\n",
      "C=10*log10(P2/P1)#\n",
      "\n",
      "#d)Split ratio\n",
      "S=(P3/(P3+P4))*100#\n",
      "\n",
      "\n",
      "\n",
      "print\"Excess loss = %0.1f dB \"%(E)#\n",
      "print\"Insertion loss = %0.2f dB \"%(I1)#\n",
      "print\"Insertion loss = %0.2f dB \"%(I2)#\n",
      "print\"Crosstalk = %0.1f dB \"%(C)#\n",
      "print\"Split ratio = %0.1f %% \"%(S)#"
     ],
     "language": "python",
     "metadata": {},
     "outputs": [
      {
       "output_type": "stream",
       "stream": "stdout",
       "text": [
        "Excess loss = 0.5 dB \n",
        "Insertion loss = 3.63 dB \n",
        "Insertion loss = 3.39 dB \n",
        "Crosstalk = -41.8 dB \n",
        "Split ratio = 48.6 % \n"
       ]
      }
     ],
     "prompt_number": 5
    },
    {
     "cell_type": "heading",
     "level": 2,
     "metadata": {},
     "source": [
      "Example 7.43 Page no 497"
     ]
    },
    {
     "cell_type": "code",
     "collapsed": false,
     "input": [
      "# Calculation of a)excess loss,b)insertion loss,c)crosstalk and d)split ratio for the device.\n",
      "\n",
      "#Given data\n",
      "P1=100*10**-6#                 # Power launched in port 1\n",
      "P2=0.005*10**-6#              # Power launched in port 2\n",
      "P3=30*10**-6#                # Power launched in port 3 \n",
      "P4=35*10**-6#              # Power launched in port 4\n",
      "\n",
      "# a)Excess loss\n",
      "E=10*log10(P1/(P3+P4))# \n",
      "# b)Insertion loss\n",
      "I1=10*log10(P1/P3)#\n",
      "I2=10*log10(P1/P4)#\n",
      "\n",
      "#c)Crosstalk\n",
      "C=10*log10(P2/P1)#\n",
      "\n",
      "#d)Split ratio\n",
      "S=(P3/(P3+P4))*100#\n",
      "\n",
      "print\"Excess loss = %0.2f dB \"%(E)#\n",
      "print\"Insertion loss = %0.3f dB \"%(I1)#\n",
      "print\"Insertion loss = %0.2f dB \"%(I2)#\n",
      "print\"Crosstalk = %0.1f dB \"%(C)#\n",
      "print\"Split ratio = %0.2f %% \"%(S)#\n",
      "# The cross talk answer computation is wrong in the book"
     ],
     "language": "python",
     "metadata": {},
     "outputs": [
      {
       "output_type": "stream",
       "stream": "stdout",
       "text": [
        "Excess loss = 1.87 dB \n",
        "Insertion loss = 5.229 dB \n",
        "Insertion loss = 4.56 dB \n",
        "Crosstalk = -43.0 dB \n",
        "Split ratio = 46.15 % \n"
       ]
      }
     ],
     "prompt_number": 6
    },
    {
     "cell_type": "heading",
     "level": 2,
     "metadata": {},
     "source": [
      "Example 7.44 Page no 498"
     ]
    },
    {
     "cell_type": "code",
     "collapsed": false,
     "input": [
      "# Calculation of a)excess loss,b)insertion loss,c)crosstalk and d)split ratio for the device.\n",
      "\n",
      "#Given data\n",
      "P1=116.3*10**-6#                 # Power launched in port 1\n",
      "P2=0.082*10**-6#              # Power launched in port 2\n",
      "P3=47*10**-6#                # Power launched in port 3 \n",
      "P4=52*10**-6#              # Power launched in port 4\n",
      "\n",
      "# a)Excess loss\n",
      "E=10*log10(P1/(P3+P4))# \n",
      "#b)Insertion loss\n",
      "I1=10*log10(P1/P3)#\n",
      "I2=10*log10(P1/P4)#\n",
      "\n",
      "#c)Crosstalk\n",
      "C=10*log10(P2/P1)#\n",
      "\n",
      "#d)Split ratio\n",
      "S=(P3/(P3+P4))*100#\n",
      "\n",
      "print\"Excess loss = %0.1f dB \"%(E)#\n",
      "print\"Insertion loss = %0.3f dB \"%(I1)#\n",
      "print\"Insertion loss = %0.2f dB \"%(I2)#\n",
      "print\"Crosstalk = %0.2f  \"%(C)#\n",
      "print\"Split ratio = %0.2f %% \"%(S)#\n",
      "# The answers vary due to round off error"
     ],
     "language": "python",
     "metadata": {},
     "outputs": [
      {
       "output_type": "stream",
       "stream": "stdout",
       "text": [
        "Excess loss = 0.7 dB \n",
        "Insertion loss = 3.935 dB \n",
        "Insertion loss = 3.50 dB \n",
        "Crosstalk = -31.52  \n",
        "Split ratio = 47.47 % \n"
       ]
      }
     ],
     "prompt_number": 7
    }
   ],
   "metadata": {}
  }
 ]
}