{
 "metadata": {
  "name": "",
  "signature": "sha256:55496805e1c8c4093a6f120824db813e444ecbc634f90cfa8cb9e3e10e547069"
 },
 "nbformat": 3,
 "nbformat_minor": 0,
 "worksheets": [
  {
   "cells": [
    {
     "cell_type": "heading",
     "level": 1,
     "metadata": {},
     "source": [
      "Ch-5 Optical Detector"
     ]
    },
    {
     "cell_type": "heading",
     "level": 2,
     "metadata": {},
     "source": [
      "Example 5.24 Page no 487"
     ]
    },
    {
     "cell_type": "code",
     "collapsed": false,
     "input": [
      "from __future__ import division\n",
      "from math import sqrt, pi\n",
      "\n",
      "# Calculation of (a) wavelength (b) resposivity and (c) incident power\n",
      "\n",
      "#Given data\n",
      "e=0.7#                      # Efficiency\n",
      "c=3*10**8#                   # Speed   of light\n",
      "h=6.62*10**-34               # Planck constant\n",
      "E=2.2*10**-19#               # Energy of photons\n",
      "e1=1.6*10**-19#              # Electron charge \n",
      "# (a) Wavelength computation\n",
      "lamda=h*c/E                # Wavelength of laser source\n",
      "f=c/lamda#                      \n",
      "\n",
      "# (b) Responsivity\n",
      "R=e*(lamda*e1)/(h*c)#                       \n",
      "\n",
      "# (c) Incident power\n",
      "Ip=2*10**-6#                  # Photocurrent\n",
      "P=Ip/R#\n",
      "\n",
      "\n",
      "print\"Wavelength of operation = %0.1f micrometer \"%(lamda*10**6)#\n",
      "print\"Responsivity R = %0.2f A/W \"%(R)#\n",
      "print\"output power P = %0.2f microwWatt \"%(P*10**6)#"
     ],
     "language": "python",
     "metadata": {},
     "outputs": [
      {
       "output_type": "stream",
       "stream": "stdout",
       "text": [
        "Wavelength of operation = 0.9 micrometer \n",
        "Responsivity R = 0.51 A/W \n",
        "output power P = 3.93 microwWatt \n"
       ]
      }
     ],
     "prompt_number": 16
    },
    {
     "cell_type": "heading",
     "level": 2,
     "metadata": {},
     "source": [
      "Example 5.25 Page no 487"
     ]
    },
    {
     "cell_type": "code",
     "collapsed": false,
     "input": [
      "# Computation of (a) quantum efficiency and (b) resposivity\n",
      "\n",
      "#Given data\n",
      "nh=1.5*10**12#                 # No. of hole pairs generated\n",
      "np=2.5*10**12#                 # No. of incident photons\n",
      "lamda=0.85*10**-6#            # Wavelength of laser source \n",
      "c=3*10**8#                     # Speed of light\n",
      "h=6.62*10**-34                 # Planck constant\n",
      "e1=1.6*10**-19#                # Electronic charge\n",
      "\n",
      "# (a)  Quantum efficiency\n",
      "e=nh/np#                            \n",
      "\n",
      "# (b) Responsivity\n",
      "R=e*(lamda*e1)/(h*c)#                       #\n",
      "\n",
      "\n",
      "print\"Quantum efficiency = %0.1f  \"%(e)#\n",
      "print\"Responsivity R = %0.3f A/W \"%(R)#"
     ],
     "language": "python",
     "metadata": {},
     "outputs": [
      {
       "output_type": "stream",
       "stream": "stdout",
       "text": [
        "Quantum efficiency = 0.6  \n",
        "Responsivity R = 0.411 A/W \n"
       ]
      }
     ],
     "prompt_number": 17
    },
    {
     "cell_type": "heading",
     "level": 2,
     "metadata": {},
     "source": [
      "Example 5.26 Page no 488"
     ]
    },
    {
     "cell_type": "code",
     "collapsed": false,
     "input": [
      "# Computation of (a) wavelength (b) power and (c) resposivity\n",
      "\n",
      "#Given data\n",
      "e=0.7#                     # Quantum efficiency\n",
      "c=3*10**8#                  # Speed of light\n",
      "h=6.62*10**-34              # Planck constant\n",
      "E=1.5*10**-19#              # Energy of photons\n",
      "e1=1.6*10**-19#             # Electronic charge\n",
      "I=4*10**-6#                 # Diode photocurrent\n",
      "# (a) Wavelength of operation\n",
      "lamda=h*c/E#                    \n",
      "\n",
      "# (b) Responsivity\n",
      "R=e*(lamda*e1)/(h*c)#                       #\n",
      "\n",
      "# (c) Incident optical power \n",
      "p=I/R#                                #power\n",
      "\n",
      "\n",
      "print\"Wavelength of operation = %0.3f micrometer \"%(lamda*10**6)#\n",
      "print\"Responsivity R = %0.3f A/W \"%(R)#\n",
      "print\"output power P = %0.3f microwWatt \"%(p*10**6)#"
     ],
     "language": "python",
     "metadata": {},
     "outputs": [
      {
       "output_type": "stream",
       "stream": "stdout",
       "text": [
        "Wavelength of operation = 1.324 micrometer \n",
        "Responsivity R = 0.747 A/W \n",
        "output power P = 5.357 microwWatt \n"
       ]
      }
     ],
     "prompt_number": 18
    },
    {
     "cell_type": "heading",
     "level": 2,
     "metadata": {},
     "source": [
      "Example 5.27 Page no 488"
     ]
    },
    {
     "cell_type": "code",
     "collapsed": false,
     "input": [
      "# Computation of (a)resposivity (b)output current and (c)multiplication factor\n",
      "\n",
      "\n",
      "\n",
      "#Given data\n",
      "e=0.7#                  # Quantum efficiency\n",
      "c=3*10**8#               # Speed of light\n",
      "h=6.62*10**-34           # Planck constant\n",
      "E=1.5*10**-19#           # Energy of photons\n",
      "lamda=0.85*10**-6       # Wavelength of laser source\n",
      "P=0.6*10**-6#            # Incident light power\n",
      "e1=1.6*10**-19#          # Electronic charge\n",
      "I=10*10**-6#             # Output current of the device                \n",
      "\n",
      "# (a) Responsivity\n",
      "R=e*(lamda*e1)/(h*c)#                       \n",
      "\n",
      "# (b) Photocurrent\n",
      "Ip=R*P#\n",
      "\n",
      "# (c) Multiplication factor\n",
      "M=I/Ip\n",
      "\n",
      "\n",
      "print\"Responsivity R = %0.3f A/W \"%(R)#\n",
      "print\"Output current Ip = %0.3f microA \"%(Ip*10**6)#\n",
      "print\"Multiplication factor M = %0.0f  \"%(M)#\n",
      "\n",
      "#Calculation mistake in (b)Phtocurrent in the book"
     ],
     "language": "python",
     "metadata": {},
     "outputs": [
      {
       "output_type": "stream",
       "stream": "stdout",
       "text": [
        "Responsivity R = 0.479 A/W \n",
        "Output current Ip = 0.288 microA \n",
        "Multiplication factor M = 35  \n"
       ]
      }
     ],
     "prompt_number": 19
    },
    {
     "cell_type": "heading",
     "level": 2,
     "metadata": {},
     "source": [
      "Example 5.28 Page no 488"
     ]
    },
    {
     "cell_type": "code",
     "collapsed": false,
     "input": [
      "# Computation of  cut off wavelength\n",
      "\n",
      "# Given data\n",
      "h=6.626*10**-34#          # Planck constant.\n",
      "c=3*10**8#                # Speed of light\n",
      "Eg= 1.43*1.602*10**-19#   # Bandgap energy\n",
      "\n",
      "# Cut off wavelength \n",
      "lamda= h*c/Eg# \n",
      "\n",
      "\n",
      "print\"Cut off wavelength = %0.3f micrometer \"%(lamda*10**6)#"
     ],
     "language": "python",
     "metadata": {},
     "outputs": [
      {
       "output_type": "stream",
       "stream": "stdout",
       "text": [
        "Cut off wavelength = 0.868 micrometer \n"
       ]
      }
     ],
     "prompt_number": 20
    },
    {
     "cell_type": "heading",
     "level": 2,
     "metadata": {},
     "source": [
      "Example 5.29 Page no 489"
     ]
    },
    {
     "cell_type": "code",
     "collapsed": false,
     "input": [
      "# Computation of cut off wavelength\n",
      "\n",
      "\n",
      "\n",
      "# Given data\n",
      "h=6.626*10**-34#            # Planck constant\n",
      "c=3*10**8#                  # Speed of light\n",
      "Eg= 0.7*1.602*10**-19#      # Bandgap energy\n",
      "\n",
      "# Cut off wavelength \n",
      "lamda= h*c/Eg#                    \n",
      "\n",
      "print\"Cut off wavelength = %0.2f micrometer \"%(lamda*10**6)#"
     ],
     "language": "python",
     "metadata": {},
     "outputs": [
      {
       "output_type": "stream",
       "stream": "stdout",
       "text": [
        "Cut off wavelength = 1.77 micrometer \n"
       ]
      }
     ],
     "prompt_number": 21
    },
    {
     "cell_type": "heading",
     "level": 2,
     "metadata": {},
     "source": [
      "Example 5.30 Page no 489"
     ]
    },
    {
     "cell_type": "code",
     "collapsed": false,
     "input": [
      "# Computation of value of reflectance \n",
      "\n",
      "# Given data\n",
      "n1=3.5#                  # Refractive index of silicon\n",
      "n2=1#                    # Refractive index of photodiode\n",
      "\n",
      "#Value of reflectance\n",
      "R=((n1-n2)/(n1+n2))**2#\n",
      "   \n",
      "\n",
      "print\"Value of reflectance, R = %0.2f  \"%(R)#"
     ],
     "language": "python",
     "metadata": {},
     "outputs": [
      {
       "output_type": "stream",
       "stream": "stdout",
       "text": [
        "Value of reflectance, R = 0.31  \n"
       ]
      }
     ],
     "prompt_number": 22
    }
   ],
   "metadata": {}
  }
 ]
}