{
 "metadata": {
  "name": "",
  "signature": "sha256:5d41e84969ad0d553e20f8c382a4e66b5d40a08c263504221ff91368c27885dd"
 },
 "nbformat": 3,
 "nbformat_minor": 0,
 "worksheets": [
  {
   "cells": [
    {
     "cell_type": "heading",
     "level": 1,
     "metadata": {},
     "source": [
      "Chapter 7 : Heat transfer by free convection"
     ]
    },
    {
     "cell_type": "heading",
     "level": 2,
     "metadata": {},
     "source": [
      "Example 7.1 page : 129"
     ]
    },
    {
     "cell_type": "code",
     "collapsed": false,
     "input": [
      "# Variables\n",
      "tp = 200.;                                   # Temperature of heated plate in degF\n",
      "ta = 60.;                                    # Temperature of air in degF\n",
      "tf = (tp+ta)/2;                             # Temperature of film in degF\n",
      "delt = tp-ta;                               # Temperature difference in degF\n",
      "Z = 950000.;                                 # As referred from the chart for corresponding temperature \n",
      "L = 18/12.;                                  # Height of vertical plate in ft \n",
      "\n",
      "# Calculations \n",
      "X = L**3*(delt)*Z;\n",
      "# This value shows that it is laminar range so formula is as follows\n",
      "h = 0.29*(delt/L)**.25;                      # Heat transfer coeeficient in Btu/hr-ft**2-degF\n",
      "\n",
      "# Results\n",
      "print \"The film coefficient for free convetion for the heated plate is %.1f Btu/hr-ft**2/degF\"%(h)\n",
      "\n"
     ],
     "language": "python",
     "metadata": {},
     "outputs": [
      {
       "output_type": "stream",
       "stream": "stdout",
       "text": [
        "The film coefficient for free convetion for the heated plate is 0.9 Btu/hr-ft**2/degF\n"
       ]
      }
     ],
     "prompt_number": 1
    },
    {
     "cell_type": "heading",
     "level": 2,
     "metadata": {},
     "source": [
      "Example 7.2 page : 131"
     ]
    },
    {
     "cell_type": "code",
     "collapsed": false,
     "input": [
      "\n",
      "# Variables\n",
      "tp = 300.;                                    # Temperature of heated plate in degF\n",
      "ta = 80.;                                     # Temperature of air in degF\n",
      "tf = (tp+ta)/2;                              # Temperature of film in degF\n",
      "delt = tp-ta;                                # Temperature difference in degF\n",
      "Z = 610000.;                                  # As referred from the chart for corresponding temperature \n",
      "L = 7./12;                                    # Height of vertical plate in ft \n",
      "\n",
      "# Calculations \n",
      "A = L*L;                                     # Area of square plate in ft**2\n",
      "X = L**3*(delt)*Z;\n",
      "\n",
      "# This value shows that it is turbulent range , so formula for heat transfer coefficient is as follow \n",
      "h = 0.22*delt**(1./3);                         # Temperature coeeficient in Btu/hr-ft**2-degF\n",
      "q = h*A*delt;                                # Heat loss in Btu/hr\n",
      "\n",
      "# Results\n",
      "print \"The film coefficient for free convetion for the heated plate is %.2f Btu/hr-ft**2-degF\"%(h);\n",
      "print \" The heat loss by natural convection from the square plate is %.2f Btu/hr\"%(q);\n",
      "\n",
      "# book answer is wrong."
     ],
     "language": "python",
     "metadata": {},
     "outputs": [
      {
       "output_type": "stream",
       "stream": "stdout",
       "text": [
        "The film coefficient for free convetion for the heated plate is 1.33 Btu/hr-ft**2-degF\n",
        " The heat loss by natural convection from the square plate is 99.42 Btu/hr\n"
       ]
      }
     ],
     "prompt_number": 3
    },
    {
     "cell_type": "heading",
     "level": 2,
     "metadata": {},
     "source": [
      "Example 7.3 page : 132"
     ]
    },
    {
     "cell_type": "code",
     "collapsed": false,
     "input": [
      "import math\n",
      "\n",
      "# Variables\n",
      "D = 0.375;                                   # Outer diameter in ft\n",
      "T1 = 200.;                                    # Pipe surface temperature in degF\n",
      "T2 = 70.;                                     # Air temperature in degF\n",
      "Tf = (T1+T2)/2;                              # Film temperature at whih physical properties is to be measured\n",
      "delT = T1-T2;\n",
      "rho = 0.0667/32.2;                           # Density in slug/ft**3\n",
      "u = 0.0482/32.2;                             # Vismath.cosity in slug/ft-hr\n",
      "b = 1./(460+T2 );\n",
      "Cp = 0.241*32.2;                             # Heat capacity in Btu/slug-ft\n",
      "\n",
      "# Calculations \n",
      "# The value of specific heat is related to 1 lb mass so it must be multiplied to 32.2 to convert it into slugs\n",
      "k = 0.0164;                                  # Thermal conductivity in Btu/hr-ft-degF\n",
      "g = 32.2*3600;\n",
      "# Unit of time used is hour so it must be converted to sec. Hence 3600 is multiplied  \n",
      "Ngr = D**3*rho**2*b*g*delT/(u**3);              # Grasshops number\n",
      "Npr = u*Cp/k;                                # Prandtls number\n",
      "A = math.log(Ngr*Npr);\n",
      "\n",
      "# Tha value of A is 6.866\n",
      "# Now seeing the value of nusselt number from the table\n",
      "Nnu = 25.2;                                  # Nusselt number\n",
      "h = Nnu*k/D;                                 # Heat transfer coefficient \n",
      "q = h*delT;                                  # Heat loss per unit area in Btu/hr\n",
      "\n",
      "# Results\n",
      "print \"Heat loss per unit square foot is %d Btu/hr-ft**2\"%(q);\n"
     ],
     "language": "python",
     "metadata": {},
     "outputs": [
      {
       "output_type": "stream",
       "stream": "stdout",
       "text": [
        "Heat loss per unit square foot is 143 Btu/hr-ft**2\n"
       ]
      }
     ],
     "prompt_number": 4
    },
    {
     "cell_type": "heading",
     "level": 2,
     "metadata": {},
     "source": [
      "Example 7.4 page : 134"
     ]
    },
    {
     "cell_type": "code",
     "collapsed": false,
     "input": [
      "\n",
      "# Variables\n",
      "tp = 200.;                                    # Temperature of heated plate in degF\n",
      "ta = 70.;                                     # Temperature of air in degF\n",
      "tf = (tp+ta)/2;                              # Temperature of film in degF\n",
      "delt = tp-ta;                                # Temperature difference in degF\n",
      "Z = 910000.;                                  # As referred from the chart for corresponding temperature \n",
      "D = 4.5/12;                                  # Diameter of pipe in ft\n",
      "\n",
      "# Calculations \n",
      "X = D**3*(delt)*Z;\n",
      "# This value lies between X = 1000 to X = 10**9 , so formula for heat transfer coefficient is as follow \n",
      "\n",
      "h = 0.27*(delt/D)**(1./4);                      # Temperature coeeficient in Btu/hr-ft**2-degF\n",
      "q = h*delt;                                   # Heat loss in Btu/hr\n",
      "\n",
      "# Results\n",
      "print \"The film coefficient for free convetion for the heated plate is %.2f Btu/hr-ft**2-degF\"%(h);\n",
      "print \" The heat loss by natural convection from the square plateis %d Btu/hr\"%(q);\n"
     ],
     "language": "python",
     "metadata": {},
     "outputs": [
      {
       "output_type": "stream",
       "stream": "stdout",
       "text": [
        "The film coefficient for free convetion for the heated plate is 1.17 Btu/hr-ft**2-degF\n",
        " The heat loss by natural convection from the square plateis 151 Btu/hr\n"
       ]
      }
     ],
     "prompt_number": 5
    }
   ],
   "metadata": {}
  }
 ]
}