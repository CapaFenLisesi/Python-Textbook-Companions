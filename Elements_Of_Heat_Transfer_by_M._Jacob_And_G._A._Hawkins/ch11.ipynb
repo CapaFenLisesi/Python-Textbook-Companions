{
 "metadata": {
  "name": "",
  "signature": "sha256:ea51998c9ed8fc31d28e8820c364744f5d4a29678b776aceb60dcd5d71257d27"
 },
 "nbformat": 3,
 "nbformat_minor": 0,
 "worksheets": [
  {
   "cells": [
    {
     "cell_type": "heading",
     "level": 1,
     "metadata": {},
     "source": [
      "Chapter 11 : Heat transfer by radiation"
     ]
    },
    {
     "cell_type": "heading",
     "level": 2,
     "metadata": {},
     "source": [
      "Example 11.1 page : 222"
     ]
    },
    {
     "cell_type": "code",
     "collapsed": false,
     "input": [
      "\n",
      "\n",
      "# Variables\n",
      "T1 = 1660./100;                             # Temperature of first black plane in degR\n",
      "T2 = 1260./100;                             # Temperature of second black plane in degR\n",
      "s = 0.174;                                 # Stephan Boltzman's consmath.tant\n",
      "\n",
      "# Calculations \n",
      "q = s*(T1**4-T2**4);\n",
      "\n",
      "# Results\n",
      "print \"The net radiant interchange between two bodies of unit area is %d Btu/hr-ft**2\"%(q);\n",
      "\n",
      "# book answer is rounded off."
     ],
     "language": "python",
     "metadata": {},
     "outputs": [
      {
       "output_type": "stream",
       "stream": "stdout",
       "text": [
        "The net radiant interchange between two bodies of unit area is 8826 Btu/hr-ft**2\n"
       ]
      }
     ],
     "prompt_number": 2
    },
    {
     "cell_type": "heading",
     "level": 2,
     "metadata": {},
     "source": [
      "Example 11.2 page : 224"
     ]
    },
    {
     "cell_type": "code",
     "collapsed": false,
     "input": [
      "# Variables\n",
      "A1 = 15.*15;                                # Area of floor in ft**2\n",
      "A2 = A1;                                   # Area of roof in ft**2\n",
      "T1 = 2460./100;                             # Temperature of floor in degR\n",
      "T2 = 1060./100;                             # temperature of roof in degR\n",
      "s = 0.174;                                 # Stephan Boltzman's consmath.tant\n",
      "# S/L = 1.5, So considering graph F12 = 0.31 \n",
      "\n",
      "# Calculations \n",
      "F12 = 0.31;\n",
      "q = s*F12*A1*(T1**4-T2**4);\n",
      "\n",
      "# Results\n",
      "print \"The net radiant interchange between two bodies of unit area is %d Btu/hr-ft**2\"%(q);\n",
      "\n",
      "# note : book answer is rounded off."
     ],
     "language": "python",
     "metadata": {},
     "outputs": [
      {
       "output_type": "stream",
       "stream": "stdout",
       "text": [
        "The net radiant interchange between two bodies of unit area is 4291391 Btu/hr-ft**2\n"
       ]
      }
     ],
     "prompt_number": 5
    },
    {
     "cell_type": "heading",
     "level": 2,
     "metadata": {},
     "source": [
      "Example 11.3 page : 225"
     ]
    },
    {
     "cell_type": "code",
     "collapsed": false,
     "input": [
      "# Variables\n",
      "x = 6.;                                    # length of wall in ft\n",
      "y = 12.;                                   # breadth of wall in ft\n",
      "z = 18.;                                   # height of wall in ft\n",
      "A1 = x*y;\n",
      "s = 0.174;                                # Stephan Boltzman's consmath.tant\n",
      "T1 = 1000.;                                # Temperature of floor in degF\n",
      "T2 = 500.;                                 # Temperature of wall in degF\n",
      "Y = y/x;                                  # Ratios\n",
      "Z = z/x;                                  \n",
      "\n",
      "# Calculations \n",
      "# Seeing the graph, F12 could be found out\n",
      "F12 = 0.165;\n",
      "q12 = s*F12*A1*((((T1+460)/100)**4)-((T2+460)/100)**4);  # Radiant interchange\n",
      "\n",
      "# Results\n",
      "print \"The net radiant interchange between two bodies of unit area is %d Btu/hr-ft**2\"%(q12);\n",
      "\n",
      "# note : book answer is rounded off."
     ],
     "language": "python",
     "metadata": {},
     "outputs": [
      {
       "output_type": "stream",
       "stream": "stdout",
       "text": [
        "The net radiant interchange between two bodies of unit area is 76367 Btu/hr-ft**2\n"
       ]
      }
     ],
     "prompt_number": 7
    },
    {
     "cell_type": "heading",
     "level": 2,
     "metadata": {},
     "source": [
      "Example 11.4 page : 227"
     ]
    },
    {
     "cell_type": "code",
     "collapsed": false,
     "input": [
      "import math \n",
      "\n",
      "# Variables\n",
      "D = 10./12;                                   # Diameter of black disc\n",
      "L = 5./12;                                    # distance between two discs\n",
      "T1 = (1500.+460)/100;                         # Temperature of disc 1 in degR\n",
      "T2 = (1000.+460)/100;                         # Temperature of disc 2 in degR\n",
      "# From the ratio of S/L, the value of F1r2 can be found out\n",
      "F1r2 = 0.669;                                # Shape factor\n",
      "\n",
      "# Calculations \n",
      "A1 = math.pi*D*D/4;                              # Area of disc 1 in ft**2\n",
      "A2 = math.pi*D*D/4;                              # Area of disc 2 in ft**2\n",
      "s = 0.174;                                   # Stephan Boltzman's consmath.tant\n",
      "q12 = s*F1r2*A1*((T1**4)-(T2**4));            # Radiant interchange in Btu/hr\n",
      "\n",
      "# Results\n",
      "print \"The net radiant interchange between two parallel black discs is %d Btu/hr\"%(q12);\n",
      "\n",
      "# note : book answer is rounded off "
     ],
     "language": "python",
     "metadata": {},
     "outputs": [
      {
       "output_type": "stream",
       "stream": "stdout",
       "text": [
        "The net radiant interchange between two parallel black discs is 6484 Btu/hr\n"
       ]
      }
     ],
     "prompt_number": 9
    },
    {
     "cell_type": "heading",
     "level": 2,
     "metadata": {},
     "source": [
      "Example 11.5 page : 228"
     ]
    },
    {
     "cell_type": "code",
     "collapsed": false,
     "input": [
      "import math \n",
      "\n",
      "# Variables\n",
      "T1 = (1500.+460)/100;                         # Temperature of plane 1 in degR\n",
      "T2 = (1000.+460)/100;                         # Temperature of plane 2 in degR\n",
      "e1 = 0.8;                                    # Emmisivity for higher temperature\n",
      "e2 = 0.6;                                    # Emmisivity for lower temperature\n",
      "s = 0.174;                                   # Stephan Boltzman's consmath.tant\n",
      "D = 10./12;                                   # Diameter of disc in ft\n",
      "\n",
      "# Calculations \n",
      "A = math.pi/4*D**2;                               # Area of disc in ft**2\n",
      "F1r2 = 0.669;\n",
      "F1r2g = 1/((1/F1r2)+(1/e1)+(1/e2)-2);        # Shape factor\n",
      "q12 = s*F1r2g*A*((T1**4)-(T2**4));             # Radiant interchange in Btu/hr\n",
      "\n",
      "# Results\n",
      "print \"The net radiant interchange between two parallel very large planes per square foot is %d Btu/hr\"%(q12);\n",
      "\n",
      "# book answer is rounded off."
     ],
     "language": "python",
     "metadata": {},
     "outputs": [
      {
       "output_type": "stream",
       "stream": "stdout",
       "text": [
        "The net radiant interchange between two parallel very large planes per square foot is 4019 Btu/hr\n"
       ]
      }
     ],
     "prompt_number": 11
    },
    {
     "cell_type": "heading",
     "level": 2,
     "metadata": {},
     "source": [
      "Example 11.6 page : 230"
     ]
    },
    {
     "cell_type": "code",
     "collapsed": false,
     "input": [
      "\n",
      "# Variables\n",
      "T1 = 1460./100;                            # Temperature of first black plane in degK\n",
      "T2 = 1060./100;                            # temperature of second black plane in degK\n",
      "s = 0.174;                                # Stephan Boltzman's consmath.tant\n",
      "e1 = 0.9;                                 # Emmisivity for higher temperature\n",
      "e2 = 0.7;                                 # Emmisivity for higher temperature\n",
      "\n",
      "# Calculations \n",
      "F1r2 = 1./((1/e1)+(1/e2)-1);               # Shape factor\n",
      "\n",
      "q = s*F1r2*(T1**4-T2**4);\n",
      "\n",
      "# Results\n",
      "print \"The net radiant interchange between two bodies of unit area is %d Btu/hr-ft**2\"%(round(q,-1));\n"
     ],
     "language": "python",
     "metadata": {},
     "outputs": [
      {
       "output_type": "stream",
       "stream": "stdout",
       "text": [
        "The net radiant interchange between two bodies of unit area is 3710 Btu/hr-ft**2\n"
       ]
      }
     ],
     "prompt_number": 13
    },
    {
     "cell_type": "heading",
     "level": 2,
     "metadata": {},
     "source": [
      "Example 11.7 page : 231"
     ]
    },
    {
     "cell_type": "code",
     "collapsed": false,
     "input": [
      "import math \n",
      "\n",
      "# Variables\n",
      "e = 0.8;                                   # emmisivity of pipe metal\n",
      "D = 2.375/12;                              # Diameter of pipe in ft\n",
      "s = 0.174;                                 # Stephans Boltzman's consmath.tant\n",
      "T1 = (300.+460)/100;                        # Temperature of disc 1 in degF\n",
      "T2 = (80.+460)/100;                         # Temperature of disc 2 in degF\n",
      "\n",
      "# Calculations \n",
      "A1 = math.pi*D;                                # Area of one foot of pipe in ft**2\n",
      "q12 = s*e*A1*((T1**4)-(T2**4));              # Radiant interchange in Btu/hr\n",
      "\n",
      "# Results\n",
      "print \"The net radiant interchange per foot length of pipe is %.1f Btu/hr-ft\"%(q12);\n"
     ],
     "language": "python",
     "metadata": {},
     "outputs": [
      {
       "output_type": "stream",
       "stream": "stdout",
       "text": [
        "The net radiant interchange per foot length of pipe is 215.2 Btu/hr-ft\n"
       ]
      }
     ],
     "prompt_number": 14
    }
   ],
   "metadata": {}
  }
 ]
}