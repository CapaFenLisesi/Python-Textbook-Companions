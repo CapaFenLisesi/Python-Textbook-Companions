{
 "metadata": {
  "name": "",
  "signature": "sha256:90b86c74c02a5cfd535e4124a528b3b6a3a7b98a6c61d92af77cd6f9cfc20248"
 },
 "nbformat": 3,
 "nbformat_minor": 0,
 "worksheets": [
  {
   "cells": [
    {
     "cell_type": "heading",
     "level": 1,
     "metadata": {},
     "source": [
      "Chapter 10 : Heat transfer in condensing and boiling"
     ]
    },
    {
     "cell_type": "heading",
     "level": 2,
     "metadata": {},
     "source": [
      "Example 10.1 page : 206"
     ]
    },
    {
     "cell_type": "code",
     "collapsed": false,
     "input": [
      "\n",
      "# Variables\n",
      "y = 1.9;                                      # Density in slug/ft**-2\n",
      "u = 0.0354;                                   # Vismath.cosity in slug/ft-hr\n",
      "k = 0.376;                                    # Thermal conductivity in Btu/hr-ft-degF\n",
      "l = 32600.;                                    # Heat of condensation in Btu/slug\n",
      "Tg = 142.;                                     # Temperature of steam in degF\n",
      "Tw = 138.;                                     # Temperature of wall in degF\n",
      "\n",
      "# Calculations \n",
      "delT = Tg-Tw;                                 # Temperature driving force in degF\n",
      "g = 418*10**6;                                 # Gravity in ft/sec**2\n",
      "L = 1./12;                                     # Outside diameter of horizontal tube in ft\n",
      "C = 0.725;                                    # For horizontal tube\n",
      "h = C*(g*y**2*l*k**3/(L*u*delT))**0.25;          # Heat transfer coefficient in Btu/hr-ft**2-degF\n",
      "\n",
      "# Results\n",
      "print \"The heat transfer coefficient for steam condensing on a horizontal tube is %d Btu/hr-ft**2-degF\"%(h);\n",
      "\n",
      "# note: rounding off error."
     ],
     "language": "python",
     "metadata": {},
     "outputs": [
      {
       "output_type": "stream",
       "stream": "stdout",
       "text": [
        "The heat transfer coefficient for steam condensing on a horizontal tube is 2797 Btu/hr-ft**2-degF\n"
       ]
      }
     ],
     "prompt_number": 2
    }
   ],
   "metadata": {}
  }
 ]
}