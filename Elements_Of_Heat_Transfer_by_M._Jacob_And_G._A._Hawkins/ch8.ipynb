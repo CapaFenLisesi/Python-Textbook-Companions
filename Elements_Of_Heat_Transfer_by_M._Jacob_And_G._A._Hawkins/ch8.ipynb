{
 "metadata": {
  "name": "",
  "signature": "sha256:03a60b955bd5b845faaf3c52cc11def91eec2fb940a1e39ca9c6a713b78f373f"
 },
 "nbformat": 3,
 "nbformat_minor": 0,
 "worksheets": [
  {
   "cells": [
    {
     "cell_type": "heading",
     "level": 1,
     "metadata": {},
     "source": [
      "Chapter 8 : Heat transfer by forced convection"
     ]
    },
    {
     "cell_type": "heading",
     "level": 2,
     "metadata": {},
     "source": [
      "Example 8.1 page : 139"
     ]
    },
    {
     "cell_type": "code",
     "collapsed": false,
     "input": [
      "\n",
      "# Variables\n",
      "D = 0.0752;                               # Outer diameter in ft\n",
      "T1 = 61.4;                                # Pipe surface temperature in degF\n",
      "T2 = 69.9;                                # Air temperature in degF\n",
      "Tf = (T1+T2)/2;                           # Film temperature at whih physical properties is to be measured\n",
      "delT = T1-T2;\n",
      "rho = 1.94;                               # Density in slug/ft**3 , 62.3/32.2\n",
      "u = 0.0780;                               # vismath.cosity in slug/ft-hr , 2.51/32.2\n",
      "Cp = 1*32.2;                              # heat capacity in Btu/slug-ft\n",
      "k = 0.340;                                # thermal conductivity in Btu/hr-ft-degF\n",
      "v = 7*3600;                               # velocity in ft/sec\n",
      "\n",
      "# Calculations \n",
      "Nre = D*v*rho/u;                          # Reynolds number\n",
      "Npr = u*Cp/k;                             # Prandtls number\n",
      "Nnu = 0.023*Nre**.8*Npr**.4;\n",
      "h = Nnu*k/D;                              # heat transfer coefficient \n",
      "\n",
      "# Results\n",
      "print \"The average film coefficient of heat transfer is %.d Btu/hr-ft**2-degF\"%(h);\n"
     ],
     "language": "python",
     "metadata": {},
     "outputs": [
      {
       "output_type": "stream",
       "stream": "stdout",
       "text": [
        "The average film coefficient of heat transfer is 1267 Btu/hr-ft**2-degF\n"
       ]
      }
     ],
     "prompt_number": 1
    },
    {
     "cell_type": "heading",
     "level": 2,
     "metadata": {},
     "source": [
      "Example 8.3 page : 141"
     ]
    },
    {
     "cell_type": "code",
     "collapsed": false,
     "input": [
      "\n",
      "# Variables\n",
      "D = 1./12;                                    # Inner diameter of pipe in ft\n",
      "k = 0.0174;                                  # Thermal conductivity in btu/hr-ft-degF\n",
      "Nre = 8000.;                                  # Reynolds number\n",
      "\n",
      "# Calculations \n",
      "# From table we can find out nusselt number\n",
      "Nnu = 0.3*Nre**0.57;                           # Nusselt number\n",
      "h = round(Nnu)*k/D;                           # Heat transfer coefficient in btu/hr-ft**2-degF\n",
      "\n",
      "# Results\n",
      "print \"heat transfer coefficient for air flowing is %.1f Btu/hr-ft**2-degF\"%(h);\n",
      "\n"
     ],
     "language": "python",
     "metadata": {},
     "outputs": [
      {
       "output_type": "stream",
       "stream": "stdout",
       "text": [
        "heat transfer coefficient for air flowing is 10.4 Btu/hr-ft**2-degF\n"
       ]
      }
     ],
     "prompt_number": 2
    }
   ],
   "metadata": {}
  }
 ]
}