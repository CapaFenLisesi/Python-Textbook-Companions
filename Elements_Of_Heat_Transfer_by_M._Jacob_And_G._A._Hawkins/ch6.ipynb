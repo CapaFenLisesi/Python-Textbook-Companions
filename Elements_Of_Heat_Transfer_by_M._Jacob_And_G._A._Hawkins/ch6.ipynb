{
 "metadata": {
  "name": "",
  "signature": "sha256:18c228d58d470b34fe9051b63d44f3937080680555b2c8754edba1efb886ef0e"
 },
 "nbformat": 3,
 "nbformat_minor": 0,
 "worksheets": [
  {
   "cells": [
    {
     "cell_type": "heading",
     "level": 1,
     "metadata": {},
     "source": [
      "Chapter 6 : Introduction to the dimensional analysis of convection"
     ]
    },
    {
     "cell_type": "heading",
     "level": 2,
     "metadata": {},
     "source": [
      "Example 6.1 page : 116"
     ]
    },
    {
     "cell_type": "code",
     "collapsed": false,
     "input": [
      "\n",
      "# Variables\n",
      "u = 2.08/32.2;                             # vismath.cosity of water at 80degF in slug/ft-hr\n",
      "rho = 62.4/32.2;                           # density of water in slug/ft**3\n",
      "d = 2./12;                                  # inner diameter of tube in ft\n",
      "v = 10.;                                    # average water velocity in ft/sec\n",
      "\n",
      "# Calculations \n",
      "V = 0.0648/1.94\n",
      "Nre = d*v*3600/V;                      # reynolds number\n",
      "# 3600 is multiplies to convert sec into hrs\n",
      "\n",
      "# Results\n",
      "print \"Reynolds Number is %d\"%(Nre);\n",
      "\n",
      "# rounding off error."
     ],
     "language": "python",
     "metadata": {},
     "outputs": [
      {
       "output_type": "stream",
       "stream": "stdout",
       "text": [
        "Reynolds Number is 179629\n"
       ]
      }
     ],
     "prompt_number": 5
    },
    {
     "cell_type": "heading",
     "level": 2,
     "metadata": {},
     "source": [
      "Example 6.2 page : 116"
     ]
    },
    {
     "cell_type": "code",
     "collapsed": false,
     "input": [
      "# Variables\n",
      "u = 2.08/32.16;                             # vismath.cosity of water at 80 degF in slug/ft-hr\n",
      "m = 965000/32.16;                           # mass velocity of water in slug/hr-ft\n",
      "\n",
      "# Calculations \n",
      "d = 1./12;                                   # inner diameter of tube in ft\n",
      "Nre = m*d/u;                                # reynolds number\n",
      "\n",
      "# Results\n",
      "# 3600 is multiplies to convert sec into hrs\n",
      "print \"Reynolds Number is %d\"%(Nre);\n",
      "\n",
      "# book answer is rounded off."
     ],
     "language": "python",
     "metadata": {},
     "outputs": [
      {
       "output_type": "stream",
       "stream": "stdout",
       "text": [
        "Reynolds Number is 38661\n"
       ]
      }
     ],
     "prompt_number": 7
    }
   ],
   "metadata": {}
  }
 ]
}