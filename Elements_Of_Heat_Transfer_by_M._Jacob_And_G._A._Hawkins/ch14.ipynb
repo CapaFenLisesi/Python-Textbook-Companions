{
 "metadata": {
  "name": "",
  "signature": "sha256:416e096697d823a7b0f0b132a663e9d4b0bf5d87790da5d7bb8fd3f672fe0580"
 },
 "nbformat": 3,
 "nbformat_minor": 0,
 "worksheets": [
  {
   "cells": [
    {
     "cell_type": "heading",
     "level": 1,
     "metadata": {},
     "source": [
      "Chapter 14 : Heat transfer in temperature measurements"
     ]
    },
    {
     "cell_type": "heading",
     "level": 2,
     "metadata": {},
     "source": [
      "Example 14.1 page : 233"
     ]
    },
    {
     "cell_type": "code",
     "collapsed": false,
     "input": [
      "\n",
      "# Variables\n",
      "D1 = 36./12;                                    # diameter of circular duct in ft\n",
      "D2 = 5./96;                                     # diameter of tube in ft\n",
      "Tl = 800.;                                      # Temperature of tube in degF\n",
      "To = 500.;                                      # Temperature of duct in degF\n",
      "k = 0.02;                                      # Thermal conductivity in lb/ft**-2-hr\n",
      "u = 0.18*(10**-9)*(3600**2);                     # Vismath.cosity in slug/ft-hr\n",
      "p = 0.04/32.2;                                 # Density in slug/ft**3\n",
      "n = u/p;                                       # Kinematic vismath.cosity in ft**2/hr\n",
      "v = 15.*3600;                                   # Velocity in ft/hr\n",
      "e = 0.8;                                       # Emmisivity \n",
      "\n",
      "# Calculations \n",
      "Nre = v*D2/n;                                  # Reynolds number\n",
      "Nnu = 0.3*(Nre**0.57);                          # Nusselt number\n",
      "h = Nnu*k/D2;                                  # Heat transfer coefficient\n",
      "Tg = Tl+0.174*e*((((Tl+460)/100)**4)-((To+460)/100)**4)/h;   # Gas temperature in degF\n",
      "\n",
      "# Results\n",
      "print \"The temperature of gas is %.f degF\"%(Tg);\n"
     ],
     "language": "python",
     "metadata": {},
     "outputs": [
      {
       "output_type": "stream",
       "stream": "stdout",
       "text": [
        "The temperature of gas is 1113 degF\n"
       ]
      }
     ],
     "prompt_number": 2
    }
   ],
   "metadata": {}
  }
 ]
}