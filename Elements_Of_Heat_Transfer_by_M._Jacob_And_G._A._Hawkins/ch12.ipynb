{
 "metadata": {
  "name": "",
  "signature": "sha256:17761ba512bc0b023540f9905054102a15b8bb79b2b864b5b4b96b8c4e380b86"
 },
 "nbformat": 3,
 "nbformat_minor": 0,
 "worksheets": [
  {
   "cells": [
    {
     "cell_type": "heading",
     "level": 1,
     "metadata": {},
     "source": [
      "Chapter 12 : Heat transfer by the combined effect of conduction, convection and radiation"
     ]
    },
    {
     "cell_type": "heading",
     "level": 2,
     "metadata": {},
     "source": [
      "Example 12.1 page : 240"
     ]
    },
    {
     "cell_type": "code",
     "collapsed": false,
     "input": [
      "import math \n",
      "\n",
      "# Variables\n",
      "D = 4.5/12;                                     # Outer diameter of pipe in ft\n",
      "D2 = 6.5/12;                                    # Outer diameter of insulation in ft\n",
      "k = 0.035;                                      # Thermal conductivity in Btu/hr-ft-degF\n",
      "T1 = 400.;                                       # Temperature of pipe in degF\n",
      "T3 = 70.;                                        # Temperature of air in degF\n",
      "T2 = 120.;                                       # Assumed temperature in degF \n",
      "\n",
      "# Calculations and Results\n",
      "h = 2*k*(T1-T2)/(D2*(T2-T3)*math.log(D2/D));         # Sum of coefficient of convection and radiation\n",
      "delT = T2-T3;                                   # Temperature differnce in degF\n",
      "T2 = 120.;                                       # Assumed temperature in degF \n",
      "print \"The assumption of T2 = 120 comes out to be satisfactory and hc+hr = %.2f  \"%(h);\n",
      "q = h*math.pi*D2*delT;                              # Heat loss in Btu/hr\n",
      "print \"The heat loss per unit foot of pipe is %d Btu/hr-ft\"%(q);\n",
      "\n",
      "# book answer is wrong."
     ],
     "language": "python",
     "metadata": {},
     "outputs": [
      {
       "output_type": "stream",
       "stream": "stdout",
       "text": [
        "The assumption of T2 = 120 comes out to be satisfactory and hc+hr = 1.97  \n",
        "The heat loss per unit foot of pipe is 167 Btu/hr-ft\n"
       ]
      }
     ],
     "prompt_number": 3
    },
    {
     "cell_type": "heading",
     "level": 2,
     "metadata": {},
     "source": [
      "Example 12.2 page : 241"
     ]
    },
    {
     "cell_type": "code",
     "collapsed": false,
     "input": [
      "\n",
      "# Variables\n",
      "D = 2.375/12;                                     # Outer diameter of pipe in ft\n",
      "k = 0.035;                                      # Thermal conductivity in Btu/hr-ft-degF\n",
      "T1 = 400.;                                       # Temperature of pipe in degF\n",
      "T2 = 70.;                                        # Temperature of air in degF\n",
      "\n",
      "# Calculations \n",
      "delT = T1-T2;                                   # Temperature differnce in degF\n",
      "T2 = 120;                                       # Assumed temperature in degF \n",
      "h = 3.67;                                    \n",
      "# As seen from the table , for delT = 330. the value of hc+hr = 3.67\n",
      "q = h*delT;                                     # Heat loss in Btu/hr\n",
      "\n",
      "# Results\n",
      "print \"The heat loss per square foot of pipe is %d Btu/hr-ft\"%(round(q,-1));\n"
     ],
     "language": "python",
     "metadata": {},
     "outputs": [
      {
       "output_type": "stream",
       "stream": "stdout",
       "text": [
        "The heat loss per square foot of pipe is 1210 Btu/hr-ft\n"
       ]
      }
     ],
     "prompt_number": 5
    }
   ],
   "metadata": {}
  }
 ]
}