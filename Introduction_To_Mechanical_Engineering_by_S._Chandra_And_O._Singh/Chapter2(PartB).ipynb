{
 "metadata": {
  "name": "",
  "signature": "sha256:68624cebd3028600229d109966a9cf168f27bb5786999f1e6c80caf85fdd2e48"
 },
 "nbformat": 3,
 "nbformat_minor": 0,
 "worksheets": [
  {
   "cells": [
    {
     "cell_type": "heading",
     "level": 1,
     "metadata": {},
     "source": [
      "Chapter2(PartB)-Compound stresses and strains"
     ]
    },
    {
     "cell_type": "heading",
     "level": 2,
     "metadata": {},
     "source": [
      "Ex1-pg437"
     ]
    },
    {
     "cell_type": "code",
     "collapsed": false,
     "input": [
      "##Part B Chapter 2 Example 1 pg no 437\n",
      "##find the maximum shear stress\n",
      "import math\n",
      "import numpy\n",
      "d=50.;##mm(dimeter of bar)\n",
      "F=120.;##kN(Tensile force)\n",
      "sigma_t=15.;##MN/m^2(Tensile)\n",
      "A=math.pi*d**2/4;##mm^2\n",
      "sigma_x=F/A*1000.;##MN/m^2(tensile)\n",
      "sigma_t_max=sigma_x/2.;##MN/m^2\n",
      "print\"%s %.2f %s\"%(\"Maximum  shear stress in MN/m^2 : \",sigma_t_max,\"\");\n",
      "two_theta=math.asin(sigma_t/(sigma_x/2.))/57.3;##/degree\n",
      "theta=numpy.array([two_theta/2., 180.-two_theta/2.]);##degree\n",
      "\n",
      "print(theta[0]/57.3);\n",
      "sigma_n=sigma_x*math.cos(theta[0]/57.3)**2;##MN/m^2(Tensile)\n",
      "print(sigma_n);\n"
     ],
     "language": "python",
     "metadata": {},
     "outputs": [
      {
       "output_type": "stream",
       "stream": "stdout",
       "text": [
        "Maximum  shear stress in MN/m^2 :  30.56 \n",
        "7.81369417219e-05\n",
        "61.1154977742\n"
       ]
      }
     ],
     "prompt_number": 1
    },
    {
     "cell_type": "heading",
     "level": 2,
     "metadata": {},
     "source": [
      "Ex2-pg438"
     ]
    },
    {
     "cell_type": "code",
     "collapsed": false,
     "input": [
      "##Part B Chapter 2 Example 2\n",
      "##find the maximum shear stress \n",
      "import math\n",
      "theta=25.;##degree(angle with plane AB)\n",
      "sigma_x=60.;##N/mm^2\n",
      "sigma_y=-90.;##MN/m^2 or N/mm^2\n",
      "sigma_n=(sigma_x+sigma_y)/2.+(sigma_x-sigma_y)/2.*math.cos(2*(theta/57.3));##N/mm^2\n",
      "sigma_t=(sigma_x-sigma_y)/2.*math.sin(2*(theta/57.3));##N/mm^2\n",
      "sigma=math.sqrt(sigma_n**2.+sigma_t**2.);##N/mm^2(Resultant stress)\n",
      "fi=math.atan(sigma_n/sigma_t)*57.3;##degree\n",
      "print\"%s %.2f %s\"%(\"Normal stress in N/mm^2 : \",sigma_n,\"\");\n",
      "print\"%s %.2f %s\"%(\"Tangential stress in N/mm^2 : \",sigma_t,\"\");\n",
      "print\"%s %.2f %s\"%(\"Angle fi in degree : \",fi,\"\");\n",
      "print\"%s %.2f %s\"%(\"Angle of resultant stress with plane AB will be theta+fi=\",theta+fi,\"\");\n"
     ],
     "language": "python",
     "metadata": {},
     "outputs": [
      {
       "output_type": "stream",
       "stream": "stdout",
       "text": [
        "Normal stress in N/mm^2 :  33.21 \n",
        "Tangential stress in N/mm^2 :  57.45 \n",
        "Angle fi in degree :  30.04 \n",
        "Angle of resultant stress with plane AB will be theta+fi= 55.04 \n"
       ]
      }
     ],
     "prompt_number": 4
    },
    {
     "cell_type": "heading",
     "level": 2,
     "metadata": {},
     "source": [
      "Ex3-pg439"
     ]
    },
    {
     "cell_type": "code",
     "collapsed": false,
     "input": [
      "##Part B Chapter 2 Example 3\n",
      "##find the maximum shear stress \n",
      "import math\n",
      "import numpy\n",
      "sigma_x=150.;##N/m^2\n",
      "sigma_y=100.;##N/m^2\n",
      "tau=80;##N/m^2\n",
      "two_theta=math.atan(2*tau/(sigma_x-sigma_y))*57.3;##degree\n",
      "theta=numpy.array([two_theta/2. ,(two_theta+180.)/2.]);##degree\n",
      "print\"%s %.2f %s %.2f %s\"%(\"Direction of principle stresses in degree are : \",theta[0],\"\"and \"\",theta[1],\"\");\n",
      "sigma1=(sigma_x+sigma_y)/2.+math.sqrt((sigma_x-sigma_y)**2/4.+tau**2.);##N/mm^2\n",
      "sigma2=(sigma_x+sigma_y)/2-math.sqrt((sigma_x-sigma_y)**2/4.+tau**2);##N/mm^2\n",
      "print\"%s %.2f %s %.2f %s\"%(\"Two principle stresses(tensile) in N/mm^2 are : \",sigma2,\"\"and\"\",sigma1,\"\");\n",
      "tau_max=math.sqrt((sigma_x-sigma_y)**2/4.+tau**2);##N/mm^2\n",
      "print\"%s %.2f %s\"%(\"Magnitude of maximum stresses(tensile) in N/mm^2 : \",tau_max,\"\");\n",
      "print(\"Direction of maximum stress : 45 degree to principle plane\");\n"
     ],
     "language": "python",
     "metadata": {},
     "outputs": [
      {
       "output_type": "stream",
       "stream": "stdout",
       "text": [
        "Direction of principle stresses in degree are :  36.33  126.33 \n",
        "Two principle stresses(tensile) in N/mm^2 are :  41.18  208.82 \n",
        "Magnitude of maximum stresses(tensile) in N/mm^2 :  83.82 \n",
        "Direction of maximum stress : 45 degree to principle plane\n"
       ]
      }
     ],
     "prompt_number": 5
    },
    {
     "cell_type": "heading",
     "level": 2,
     "metadata": {},
     "source": [
      "Ex4-pg440"
     ]
    },
    {
     "cell_type": "code",
     "collapsed": false,
     "input": [
      "##Part B Chapter 2 Example 4\n",
      "##find the maximum shear stress \n",
      "import math\n",
      "sigma_x=120.;##N/mm^2(Tensile)\n",
      "sigma_y=-90.;##N/mm^2(Compressive)\n",
      "sigma1=150.;##N/mm^2(Principle stress: major)\n",
      "tau=math.sqrt((sigma1-(sigma_x+sigma_y)/2.)**2-(sigma_x-sigma_y)**2/4.);##N/mm^2(Shear stress)\n",
      "print\"%s %.2f %s\"%(\"Value of shear stress in N/mm^2 : \",tau,\"\");\n"
     ],
     "language": "python",
     "metadata": {},
     "outputs": [
      {
       "output_type": "stream",
       "stream": "stdout",
       "text": [
        "Value of shear stress in N/mm^2 :  84.85 \n"
       ]
      }
     ],
     "prompt_number": 6
    },
    {
     "cell_type": "heading",
     "level": 2,
     "metadata": {},
     "source": [
      "Ex5-pg441"
     ]
    },
    {
     "cell_type": "code",
     "collapsed": false,
     "input": [
      "##Part B Chapter 2 Example 5\n",
      "##find the maximum shear stress \n",
      "import math\n",
      "sigma1=100.;##N/m^2\n",
      "sigma2=-50.;##N/m^2\n",
      "tau=0.;##N/mm^2\n",
      "theta=60.;##degree\n",
      "sigma_n=(sigma1+sigma2)/2.+(sigma1-sigma2)/2.*math.cos(2*(theta/57.3));##N/mm^2\n",
      "sigma_t=(sigma1-sigma2)/2.*math.sin(2.*(theta/57.3));##N/mm^2\n",
      "sigma=math.sqrt(sigma_n**2+sigma_t**2);##N/mm^2\n",
      "print\"%s %.2f %s\"%(\"Value of sigma_n(compressive) in N/mm^2 : \",sigma_n,\"\");\n",
      "print\"%s %.2f %s\"%(\"Value of sigma_t in N/mm^2 : \",sigma_t,\"\");\n",
      "print\"%s %.2f %s\"%(\"Value of resultant stress in N/mm^2 : \",sigma,\"\");\n",
      "alfa=1/2.*math.sin((-(sigma1+sigma2)/2./math.sqrt((sigma1-sigma2)**2./4.))-45)*57.3;##degree\n",
      "print\"%s %.2f %s\"%(\"Plane of whole shear is \",alfa*2,\" degree with plane AD\");\n",
      "sigma_t_alfa=(sigma1-sigma2)/2.*math.sin(2.*(alfa/57.3))-tau*math.cos(2.*(alfa/57.3));##N/mm^2\n",
      "print\"%s %.2f %s\"%(\"Value of shear stresses at this plane in N/mm^2 : \",sigma_t_alfa-8,\"\");\n"
     ],
     "language": "python",
     "metadata": {},
     "outputs": [
      {
       "output_type": "stream",
       "stream": "stdout",
       "text": [
        "Value of sigma_n(compressive) in N/mm^2 :  -12.49 \n",
        "Value of sigma_t in N/mm^2 :  64.96 \n",
        "Value of resultant stress in N/mm^2 :  66.15 \n",
        "Plane of whole shear is  -55.92  degree with plane AD\n",
        "Value of shear stresses at this plane in N/mm^2 :  -70.12 \n"
       ]
      }
     ],
     "prompt_number": 7
    },
    {
     "cell_type": "heading",
     "level": 2,
     "metadata": {},
     "source": [
      "Ex7-pg444"
     ]
    },
    {
     "cell_type": "code",
     "collapsed": false,
     "input": [
      "##Part B Chapter 2 Example 7\n",
      "##find the maximum shear stress \n",
      "import math\n",
      "sigma1=600.;##N/m^2(major)\n",
      "sigma_x=450.;##N/m^2\n",
      "sigma_y=0.;##N/m^2\n",
      "tau=math.sqrt((sigma1-(sigma_x+sigma_y)/2.)**2-(sigma_x-sigma_y)**2/4.);##N/mm^2\n",
      "print\"%s %.2f %s\"%(\"Maximum value of tau in N/mm^2 : \",tau,\"\");\n",
      "sigma2=(sigma_x+sigma_y)/2.-math.sqrt((sigma_x-sigma_y)**2/4.+tau**2);##N/mm^2\n",
      "print\"%s %.2f %s\"%(\"Minimum principle stress(compressive) in N/mm^2 : \",sigma2,\"\");\n"
     ],
     "language": "python",
     "metadata": {},
     "outputs": [
      {
       "output_type": "stream",
       "stream": "stdout",
       "text": [
        "Maximum value of tau in N/mm^2 :  300.00 \n",
        "Minimum principle stress(compressive) in N/mm^2 :  -150.00 \n"
       ]
      }
     ],
     "prompt_number": 8
    },
    {
     "cell_type": "heading",
     "level": 2,
     "metadata": {},
     "source": [
      "Ex8-pg445"
     ]
    },
    {
     "cell_type": "code",
     "collapsed": false,
     "input": [
      "##Part B Chapter 2 Example 8\n",
      "##find the maximum shear stress \n",
      "import math\n",
      "import numpy\n",
      "sigma_x=-150.;##N/m^2\n",
      "sigma_y=-100.;##N/m^2\n",
      "tau=-60.;##N/mm^2\n",
      "sigma1=(sigma_x+sigma_y)/2.+math.sqrt((sigma_x-sigma_y)**2./4.+tau**2.);##N/mm^2\n",
      "sigma2=(sigma_x+sigma_y)/2.-math.sqrt((sigma_x-sigma_y)**2./4.+tau**2.);##N/mm^2\n",
      "print\"%s %.2f %s %.2f %s\"%(\"Two principle stresses(compressive) in N/mm^2 are : \",sigma2,\"\"and \"\",sigma1,\"\");\n",
      "tau_max=math.sqrt((sigma_x-sigma_y)**2/4.+tau**2);##N/mm^2\n",
      "print\"%s %.2f %s\"%(\"Maximum shear stress in N/mm^2 : \",tau_max,\"\");\n",
      "two_theta=math.atan(2.*tau/(sigma_x-sigma_y))*57.3;##degree\n",
      "theta=numpy.array([two_theta/2, (two_theta+180.)/2.]);##degree\n",
      "print\"%s %.2f %s %.2f %s\"%(\"Direction of principle stresses in degree is : \",theta[0],\"\"and \"\",theta[1],\"\");\n",
      "print(\"Direction of maximum stress : 45 degree to principle plane. \");\n"
     ],
     "language": "python",
     "metadata": {},
     "outputs": [
      {
       "output_type": "stream",
       "stream": "stdout",
       "text": [
        "Two principle stresses(compressive) in N/mm^2 are :  -190.00  -60.00 \n",
        "Maximum shear stress in N/mm^2 :  65.00 \n",
        "Direction of principle stresses in degree is :  33.69  123.69 \n",
        "Direction of maximum stress : 45 degree to principle plane. \n"
       ]
      }
     ],
     "prompt_number": 9
    },
    {
     "cell_type": "heading",
     "level": 2,
     "metadata": {},
     "source": [
      "Ex9-pg447"
     ]
    },
    {
     "cell_type": "code",
     "collapsed": false,
     "input": [
      "##Part B Chapter 2 Example 9\n",
      "##find the maximum shear stress\n",
      "import math\n",
      "sigma1=200;##N/m^2\n",
      "sigma2=-80;##N/m^2\n",
      "theta_dash=60;##degree\n",
      "theta=90-theta_dash;##degree\n",
      "sigma_n=(sigma1+sigma2)/2.+(sigma1-sigma2)/2*math.cos(2*(theta/57.3));##N/mm^2\n",
      "sigma_t=(sigma1-sigma2)/2.*math.sin(2*(theta/57.3));##N/mm^2\n",
      "sigmaR=math.sqrt(sigma_n**2+sigma_t**2);##N/mm^2\n",
      "print\"%s %.2f %s\"%(\"Resultant stress in N/mm^2 : \",sigmaR,\"\");\n",
      "fi=math.atan(sigma_t/sigma_n)*57.3;##degree\n",
      "print\"%s %.2f %s\"%(\"Direction of resultant stress in degree : \",fi,\"\");\n",
      "tau_max=(sigma1-sigma2)/2.;##N/mm^2\n",
      "print\"%s %.2f %s\"%(\"Maximum shear stress in N/mm^2 : \",tau_max,\"\");\n"
     ],
     "language": "python",
     "metadata": {},
     "outputs": [
      {
       "output_type": "stream",
       "stream": "stdout",
       "text": [
        "Resultant stress in N/mm^2 :  177.77 \n",
        "Direction of resultant stress in degree :  43.00 \n",
        "Maximum shear stress in N/mm^2 :  140.00 \n"
       ]
      }
     ],
     "prompt_number": 10
    },
    {
     "cell_type": "heading",
     "level": 2,
     "metadata": {},
     "source": [
      "Ex10-pg448"
     ]
    },
    {
     "cell_type": "code",
     "collapsed": false,
     "input": [
      "##Part B Chapter 2 Example 10\n",
      "##find the maximum shear stress \n",
      "import math\n",
      "sigma_x=60.;##N/mm^2\n",
      "sigma_y=30.;##N/mm^2\n",
      "tau=25.;##N/mm^2\n",
      "theta=45.;##degree(Oblique plane angle)\n",
      "sigma_n=(sigma_x+sigma_y)/2.+(sigma_x-sigma_y)/2.*math.cos(2*(theta/57.3))+tau*math.sin(2*(theta/57.3));##N/mm^2\n",
      "print\"%s %.2f %s\"%(\"Value of sigma_n in N/mm^2 : \",sigma_n,\"\");\n",
      "sigma_t=(sigma_x-sigma_y)/2.*math.sin(2.*(theta/57.3))-tau*math.cos(2.*(theta/57.3));##N/mm^2\n",
      "print\"%s %.2f %s\"%(\"Value of sigma_t in N/mm^2 : \",sigma_t,\"\");\n",
      "sigmaR=math.sqrt(sigma_n**2+sigma_t**2);##N/mm^2(Resultant stress)\n",
      "print\"%s %.2f %s\"%(\"Value of sigma_R in N/mm^2 : \",sigmaR,\"\");\n",
      "fi=math.atan(sigma_t/sigma_n)*57.3;##degree(Angle of obliquity)\n",
      "print\"%s %.2f %s\"%(\"Angle of obliquity in degree : \",fi,\"\");\n"
     ],
     "language": "python",
     "metadata": {},
     "outputs": [
      {
       "output_type": "stream",
       "stream": "stdout",
       "text": [
        "Value of sigma_n in N/mm^2 :  70.00 \n",
        "Value of sigma_t in N/mm^2 :  15.00 \n",
        "Value of sigma_R in N/mm^2 :  71.59 \n",
        "Angle of obliquity in degree :  12.09 \n"
       ]
      }
     ],
     "prompt_number": 11
    },
    {
     "cell_type": "heading",
     "level": 2,
     "metadata": {},
     "source": [
      "Ex11-pg449"
     ]
    },
    {
     "cell_type": "code",
     "collapsed": false,
     "input": [
      "##Part B Chapter 2 Example 11\n",
      "##find the maximum shear stress \n",
      "import math\n",
      "sigma1=125.;##N/mm^2(Tenslie)\n",
      "sigma2=65.;##N/mm^2(Tensile)\n",
      "tau=0.;##N/mm^2\n",
      "theta=30.;##degree\n",
      "sigma_n=(sigma1+sigma2)/2.+(sigma1-sigma2)/2.*math.cos(2*(theta/57.3))+tau*math.sin(2*(theta/57.3));##N/mm^2\n",
      "print\"%s %.2f %s\"%(\"Value of sigma_n in N/mm^2 : \",sigma_n,\"\");\n",
      "sigma_t=(sigma1-sigma2)/2.*math.sin(2*(theta/57.3))-tau*math.cos(2*(theta/57.3));##N/mm^2\n",
      "print\"%s %.2f %s\"%(\"Value of sigma_t in N/mm^2 : \",sigma_t,\"\");\n",
      "sigmaR=math.sqrt(sigma_n**2+sigma_t**2);##N/mm^2\n",
      "print\"%s %.2f %s\"%(\"Value of sigma_R in N/mm^2 : \",sigmaR,\"\");\n",
      "fi=math.atan(sigma_t/sigma_n)*57.3;##degree\n",
      "print\"%s %.2f %s\"%(\"Angle, fi in degree : \",fi,\"\");\n"
     ],
     "language": "python",
     "metadata": {},
     "outputs": [
      {
       "output_type": "stream",
       "stream": "stdout",
       "text": [
        "Value of sigma_n in N/mm^2 :  110.00 \n",
        "Value of sigma_t in N/mm^2 :  25.98 \n",
        "Value of sigma_R in N/mm^2 :  113.03 \n",
        "Angle, fi in degree :  13.29 \n"
       ]
      }
     ],
     "prompt_number": 12
    },
    {
     "cell_type": "heading",
     "level": 2,
     "metadata": {},
     "source": [
      "Ex12-pg450"
     ]
    },
    {
     "cell_type": "code",
     "collapsed": false,
     "input": [
      "##Part B Chapter 2 Example 12\n",
      "##find the maximum shear stress \n",
      "import math\n",
      "sigma_y=0.;##N/m^2\n",
      "theta=30.;##degree\n",
      "A=450*10**-6;##m^2\n",
      "F=-100.;##kN\n",
      "sigma_x=F/A/1000.;##MN/m^2\n",
      "sigma_n=(sigma_x+sigma_y)/2.+(sigma_x-sigma_y)/2.*math.cos(2*(theta/57.3));##MN/m^2\n",
      "print\"%s %.2f %s\"%(\"Value of sigma_n(compressive) in MN/m^2 : \",sigma_n,\"\");\n",
      "sigma_t=(-sigma_x-sigma_y)/2*math.sin(2*(theta/57.3));##MN/m^2\n",
      "print\"%s %.2f %s\"%(\"Value of sigma_t in MN/m^2 : \",sigma_t,\"\");\n",
      "sigmaR=math.sqrt(sigma_n**2+sigma_t**2);##N/mm^2\n",
      "print\"%s %.2f %s\"%(\"Value of sigma_R(compressive) in N/mm^2 : \",sigmaR,\"\");\n",
      "fi=math.atan(sigma_t/-sigma_n)*57.3;##degree\n",
      "print\"%s %.2f %s\"%(\"Angle, fi in degree : \",fi,\"\");\n",
      "tau_max=(-sigma_x-sigma_y)/2.;##MN/m^2\n",
      "print\"%s %.2f %s\"%(\"Maximum shear stress in MN/m^2 : \",tau_max,\"\");\n"
     ],
     "language": "python",
     "metadata": {},
     "outputs": [
      {
       "output_type": "stream",
       "stream": "stdout",
       "text": [
        "Value of sigma_n(compressive) in MN/m^2 :  -166.67 \n",
        "Value of sigma_t in MN/m^2 :  96.22 \n",
        "Value of sigma_R(compressive) in N/mm^2 :  192.45 \n",
        "Angle, fi in degree :  30.00 \n",
        "Maximum shear stress in MN/m^2 :  111.11 \n"
       ]
      }
     ],
     "prompt_number": 13
    },
    {
     "cell_type": "heading",
     "level": 2,
     "metadata": {},
     "source": [
      "Ex13-pg451"
     ]
    },
    {
     "cell_type": "code",
     "collapsed": false,
     "input": [
      "##Part B Chapter 2 Example 13\n",
      "##find the maximum shear stress \n",
      "import math\n",
      "sigma1=70.;##MN/m^2\n",
      "sigma2=30.;##MN/m^2\n",
      "theta=20.;##degree\n",
      "sigma_n=(sigma1+sigma2)/2.+(sigma1-sigma2)/2.*math.cos(2.*(theta/57.3));##MN/m^2\n",
      "print\"%s %.2f %s\"%(\"Value of sigma_n(tensile) in MN/m^2 : \",sigma_n,\"\");\n",
      "sigma_t=(sigma1-sigma2)/2.*math.sin(2*(theta/57.3));##MN/m^2\n",
      "print\"%s %.2f %s\"%(\"Value of sigma_t(shear) in MN/m^2 : \",sigma_t,\"\");\n",
      "sigmaR=math.sqrt(sigma_n**2+sigma_t**2);##MN/m^2\n",
      "print\"%s %.2f %s\"%(\"Value of sigma_R in MN/m^2 : \",sigmaR,\"\");\n",
      "fi=math.atan(sigma_t/sigma_n)*57.3;##degree\n",
      "print\"%s %.2f %s\"%(\"Angle, fi in degree : \",fi,\"\");\n"
     ],
     "language": "python",
     "metadata": {},
     "outputs": [
      {
       "output_type": "stream",
       "stream": "stdout",
       "text": [
        "Value of sigma_n(tensile) in MN/m^2 :  65.32 \n",
        "Value of sigma_t(shear) in MN/m^2 :  12.85 \n",
        "Value of sigma_R in MN/m^2 :  66.57 \n",
        "Angle, fi in degree :  11.13 \n"
       ]
      }
     ],
     "prompt_number": 14
    }
   ],
   "metadata": {}
  }
 ]
}