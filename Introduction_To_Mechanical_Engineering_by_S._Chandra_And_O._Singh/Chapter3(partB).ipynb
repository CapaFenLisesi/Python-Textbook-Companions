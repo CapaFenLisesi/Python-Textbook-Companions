{
 "metadata": {
  "name": "",
  "signature": "sha256:d28e88d3f0bfe2411af598f46d39dd761efe39dae18d47459ff0aec9d9bc3be2"
 },
 "nbformat": 3,
 "nbformat_minor": 0,
 "worksheets": [
  {
   "cells": [
    {
     "cell_type": "heading",
     "level": 1,
     "metadata": {},
     "source": [
      "Chapter3(partB)-Bending stresses and strains"
     ]
    },
    {
     "cell_type": "heading",
     "level": 2,
     "metadata": {},
     "source": [
      "Ex1-pg496"
     ]
    },
    {
     "cell_type": "code",
     "collapsed": false,
     "input": [
      "##Part B Chapter 3 Example 1 pg no 496\n",
      "##find the  Distance of G from AB \n",
      "import math\n",
      "AB=160.;##mm\n",
      "AC=200.;##mm\n",
      "BF=25.;##mm\n",
      "CD=25.;##mm\n",
      "A=AB*BF+CD*(AC-BF);##mm^2\n",
      "##Distance of G from AB\n",
      "ybar=(AB*BF*CD/2.+CD*(AC-BF)*((AC-BF)/2.+CD))/A;##mm\n",
      "print\"%s %.2f %s\"%(\"Distance of G from AB(mm)\",ybar,\"\");\n",
      "##Distance of G from CD\n",
      "CG=AC-ybar;##mm\n",
      "print\"%s %.2f %s\"%(\"Distance of G from CD(mm) :   \",CG,\"\");\n"
     ],
     "language": "python",
     "metadata": {},
     "outputs": [
      {
       "output_type": "stream",
       "stream": "stdout",
       "text": [
        "Distance of G from AB(mm) 64.74 \n",
        "Distance of G from CD(mm) :    135.26 \n"
       ]
      }
     ],
     "prompt_number": 6
    },
    {
     "cell_type": "heading",
     "level": 2,
     "metadata": {},
     "source": [
      "Ex2-pg496"
     ]
    },
    {
     "cell_type": "code",
     "collapsed": false,
     "input": [
      "##Part B Chapter 3 Example 2 pg no 496 \n",
      "##find the  From reference axes AF, centroid\n",
      "import math\n",
      "BC=25.;##mm\n",
      "AB=125.;##mm\n",
      "AF=85.;##mm\n",
      "EF=25.;##mm\n",
      "A_GBCD=BC*(AB-EF);##mm^2\n",
      "A_GEFA=AF*EF;##mm^2\n",
      "##Distance of CG from AF\n",
      "ybar=((A_GBCD*(AB-2.*EF)+A_GEFA*EF/2.)/(A_GBCD+A_GEFA));##mm\n",
      "##Distance of CG from AB\n",
      "xbar=((A_GBCD*(BC/2.)+A_GEFA*AF/2.)/(A_GBCD+A_GEFA));##mm\n",
      "print\"%s %.2f %s\"%(\"From reference axes AF, centroid is(mm) :   \",ybar,\"\");\n",
      "print\"%s %.2f %s\"%(\"From reference axes AB, centroid is(mm) :   \",xbar,\"\");\n"
     ],
     "language": "python",
     "metadata": {},
     "outputs": [
      {
       "output_type": "stream",
       "stream": "stdout",
       "text": [
        "From reference axes AF, centroid is(mm) :    46.28 \n",
        "From reference axes AB, centroid is(mm) :    26.28 \n"
       ]
      }
     ],
     "prompt_number": 7
    },
    {
     "cell_type": "heading",
     "level": 2,
     "metadata": {},
     "source": [
      "Ex3-pg497"
     ]
    },
    {
     "cell_type": "code",
     "collapsed": false,
     "input": [
      "##Part B Chapter 3 Example 3 pg no 497\n",
      "##find the From reference axes AF, centroid\n",
      "##find the From reference axes AF, centroid\n",
      "import math\n",
      "AB=200.;##mm\n",
      "BC=300.;##mm\n",
      "CD=260.;##mm\n",
      "a1=1/2.*AB*CD;##mm^2(Area of ABE)\n",
      "a2=math.pi*(BC/2.)**2./2.;##mm^2(Area of semicircle)\n",
      "a3=BC*CD;##mm^2(Area of BECD)\n",
      "x1bar=1/3.*CD;##mm\n",
      "y1bar=BC+1/3.*AB;##mm\n",
      "x2bar=4/3.*(BC/2.)/math.pi;##mm\n",
      "y2bar=BC/2.;##mm\n",
      "x3bar=1/2.*CD;##mm\n",
      "y3bar=BC/2.;##mm\n",
      "##Distance of CG from AC\n",
      "xbar=(a1*x1bar-a2*x2bar+a3*x3bar)/(a1-a2+a3);##mm\n",
      "##Distance of CG from CD\n",
      "ybar=(a1*y1bar-a2*y2bar+a3*y3bar)/(a1-a2+a3);##mm\n",
      "print\"%s %.2f %s\"%(\"From reference axes CD, centroid ybar is(mm) :   \",ybar,\"\");\n",
      "print\"%s %.2f %s\"%(\"from reference axes AC, centroid xbar is(mm) :   \",xbar,\"\");\n"
     ],
     "language": "python",
     "metadata": {},
     "outputs": [
      {
       "output_type": "stream",
       "stream": "stdout",
       "text": [
        "From reference axes CD, centroid ybar is(mm) :    232.05 \n",
        "from reference axes AC, centroid xbar is(mm) :    147.74 \n"
       ]
      }
     ],
     "prompt_number": 8
    },
    {
     "cell_type": "heading",
     "level": 2,
     "metadata": {},
     "source": [
      "Ex4-pg499"
     ]
    },
    {
     "cell_type": "code",
     "collapsed": false,
     "input": [
      "##Part B Chapter 3 Example 4 pg no 499\n",
      "##find the From reference axes AF, centroid\n",
      "\n",
      "AB=160.;##mm\n",
      "BC=40.;##mm\n",
      "EF=100.;##mm\n",
      "FH=40.;##mm\n",
      "CH=120.;##mm\n",
      "a1=EF*FH;##mm^2\n",
      "a2=20.*CH;##mm^2\n",
      "a3=AB*BC;##mm^2\n",
      "y1bar=20.+CH+FH;##mm\n",
      "y2bar=CH/2.+BC;##mm\n",
      "y3bar=BC/2.;##mm\n",
      "##Distance of CG from AB\n",
      "ybar=(a1*y1bar+a2*y2bar+a3*y3bar)/(a1+a2+a3);##mm\n",
      "print\"%s %.2f %s\"%(\"From reference axes AB, centroid ybar is(mm) :   \",ybar,\"\");\n"
     ],
     "language": "python",
     "metadata": {},
     "outputs": [
      {
       "output_type": "stream",
       "stream": "stdout",
       "text": [
        "From reference axes AB, centroid ybar is(mm) :    85.00 \n"
       ]
      }
     ],
     "prompt_number": 9
    },
    {
     "cell_type": "heading",
     "level": 2,
     "metadata": {},
     "source": [
      "Ex5-pg500"
     ]
    },
    {
     "cell_type": "code",
     "collapsed": false,
     "input": [
      "##Part B Chapter 3 Example 5 pg no 500\n",
      "##find the  From reference axes AB, centroid ybar\n",
      "import math\n",
      "EF=150.;##mm\n",
      "GH=150.;##mm\n",
      "CD=150.;##mm\n",
      "AB=250.;##mm\n",
      "AE=10.;##mm\n",
      "DH=10.;##mm\n",
      "CH=120.;##mm\n",
      "CD_t=10.;##mm(thickness of CD section)\n",
      "a1=AB*AE;##mm^2\n",
      "a2=180.*AE;##mm^2\n",
      "a4=180.*AE;##mm^2\n",
      "a3=450.*10.;##mm^2\n",
      "a5=CD*AE;##mm^2\n",
      "y1bar=5.;y2bar=15.;y3bar=225.+20.;y4bar=475.;y5bar=485.;##mm\n",
      "##Distance of CG from AB\n",
      "ybar=(a1*y1bar+a2*y2bar+a3*y3bar+a4*y4bar+a5*y5bar)/(a1+a2+a3+a4+a5);##mm\n",
      "print\"%s %.2f %s\"%(\"From reference axes AB, centroid ybar is(mm) : \",ybar,\"\");\n"
     ],
     "language": "python",
     "metadata": {},
     "outputs": [
      {
       "output_type": "stream",
       "stream": "stdout",
       "text": [
        "From reference axes AB, centroid ybar is(mm) :  225.17 \n"
       ]
      }
     ],
     "prompt_number": 10
    }
   ],
   "metadata": {}
  }
 ]
}