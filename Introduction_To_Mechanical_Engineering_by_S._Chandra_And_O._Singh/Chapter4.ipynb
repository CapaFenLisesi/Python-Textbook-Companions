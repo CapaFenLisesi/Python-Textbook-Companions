{
 "metadata": {
  "name": "",
  "signature": "sha256:860aa0eb2edd864367221f8c6fd567e387e660c0135d92f4fb44dff1f23d298f"
 },
 "nbformat": 3,
 "nbformat_minor": 0,
 "worksheets": [
  {
   "cells": [
    {
     "cell_type": "heading",
     "level": 1,
     "metadata": {},
     "source": [
      "Chapter4-Torsion"
     ]
    },
    {
     "cell_type": "heading",
     "level": 2,
     "metadata": {},
     "source": [
      "Ex1-pg104"
     ]
    },
    {
     "cell_type": "code",
     "collapsed": false,
     "input": [
      "##Part A Chapter 4 Example 1 pg no 104\n",
      "##find the work\n",
      "P=689*1000;##Pa\n",
      "V1=0.04;##m^3\n",
      "V2=0.045;##m^3\n",
      "Wpaddle=-4.88;##kJ\n",
      "Wpiston=3.445##kJ\n",
      "print\"%s %.2f %s\"%(\"Work done on piston = \",Wpiston,\" kJ\");\n",
      "Wnet=Wpiston+Wpaddle;##kJ\n",
      "print\"%s %.2f %s\"%(\"Work done on system = \",abs(Wnet),\" kJ\");\n"
     ],
     "language": "python",
     "metadata": {},
     "outputs": [
      {
       "output_type": "stream",
       "stream": "stdout",
       "text": [
        "Work done on piston =  3.44  kJ\n",
        "Work done on system =  1.44  kJ\n"
       ]
      }
     ],
     "prompt_number": 1
    },
    {
     "cell_type": "heading",
     "level": 2,
     "metadata": {},
     "source": [
      "Ex2-pg105"
     ]
    },
    {
     "cell_type": "code",
     "collapsed": false,
     "input": [
      "##Part A Chapter 4 Example 2 pg no 105\n",
      "##find the heat required\n",
      "m=0.5;##kg\n",
      "u1=26.6;##kJ/kg\n",
      "u2=37.8;##kJ/kg\n",
      "W=0;##as vessel is rigid\n",
      "U1=m*u1;##kJ\n",
      "U2=m*u2;##kJ\n",
      "##Heat required\n",
      "Q=U2-U1+W;##kJ\n",
      "print\"%s %.2f %s\"%(\"Heat required = \",Q,\" kJ\");\n"
     ],
     "language": "python",
     "metadata": {},
     "outputs": [
      {
       "output_type": "stream",
       "stream": "stdout",
       "text": [
        "Heat required =  5.60  kJ\n"
       ]
      }
     ],
     "prompt_number": 1
    },
    {
     "cell_type": "heading",
     "level": 2,
     "metadata": {},
     "source": [
      "Ex3-pg105"
     ]
    },
    {
     "cell_type": "code",
     "collapsed": false,
     "input": [
      "##Part A Chapter 4 Example 3 pgno 105\n",
      "##find the heat\n",
      "m=50.;##kg/hr\n",
      "T1=800.;##degree C\n",
      "T2=50.;##degree C\n",
      "Cp=1.08;##kJ/kgK\n",
      "Q=m*Cp*(T1-T2);##kJ/hr\n",
      "print\"%s %.2f %s\"%(\"Heat should be removed at the rate of  \",Q,\" kJ/hr\");\n"
     ],
     "language": "python",
     "metadata": {},
     "outputs": [
      {
       "output_type": "stream",
       "stream": "stdout",
       "text": [
        "Heat should be removed at the rate of   40500.00  kJ/hr\n"
       ]
      }
     ],
     "prompt_number": 3
    },
    {
     "cell_type": "heading",
     "level": 2,
     "metadata": {},
     "source": [
      "Ex4-pg106"
     ]
    },
    {
     "cell_type": "code",
     "collapsed": false,
     "input": [
      "##Part A Chapter 4 Example 4 pg no 106\n",
      "##find the work donw air\n",
      "V=0.78\n",
      "Patm=101.325;##kPa\n",
      "##W=work done by Patm\n",
      "W=Patm*V;##kJ\n",
      "print\"%s %.2f %s\"%(\"Work done by air = \",W,\" kJ\");\n"
     ],
     "language": "python",
     "metadata": {},
     "outputs": [
      {
       "output_type": "stream",
       "stream": "stdout",
       "text": [
        "Work done by air =  79.03  kJ\n"
       ]
      }
     ],
     "prompt_number": 3
    },
    {
     "cell_type": "heading",
     "level": 2,
     "metadata": {},
     "source": [
      "Ex5-pg106"
     ]
    },
    {
     "cell_type": "code",
     "collapsed": false,
     "input": [
      "##Part A Chapter 4 Example 5 pg no 106\n",
      "##find the heat work and change internal energy\n",
      "m=5.;##kg\n",
      "p1=1.;##MPa\n",
      "V1=0.5;##m^3\n",
      "p2=0.5;##MPa\n",
      "##u=1.8*p*v+85;##kJ/kg\n",
      "n=1.3;##constant\n",
      "##p1*V1^n=p2*V2^n\n",
      "V2=(p1/p2*V1**n)**(1./n);##m^3\n",
      "W=(p2*V2-p1*V1)*10**3/(1.-n);##kJ\n",
      "delU=(p2*V2-p1*V1)*10**3;##kJ\n",
      "delTheta=delU+W;##kJ\n",
      "print\"%s %.2f %s\"%(\"Heat Interaction = \",delTheta,\" kJ\");\n",
      "print\"%s %.2f %s\"%(\"Work Interaction = \",W,\" kJ\");\n",
      "print\"%s %.2f %s\"%(\"Change in Internal Energy = \",delU,\" kJ\");\n"
     ],
     "language": "python",
     "metadata": {},
     "outputs": [
      {
       "output_type": "stream",
       "stream": "stdout",
       "text": [
        "Heat Interaction =  172.46  kJ\n",
        "Work Interaction =  246.37  kJ\n",
        "Change in Internal Energy =  -73.91  kJ\n"
       ]
      }
     ],
     "prompt_number": 4
    },
    {
     "cell_type": "heading",
     "level": 2,
     "metadata": {},
     "source": [
      "Ex6-pg107"
     ]
    },
    {
     "cell_type": "code",
     "collapsed": false,
     "input": [
      "##Part A Chapter 4 Example 6 pg no 107\n",
      "##find the work\n",
      "p1=1.;##MPa\n",
      "p2=2.;##MPa\n",
      "V1=0.05;##m^3\n",
      "n=1.4;##constant\n",
      "##U=7.5*p*v-425;##kJ/kg\n",
      "delQ=180.;##kJ\n",
      "##p1*V1^n=p2*V2^n\n",
      "V2=(p1/p2)**(1/n)*V1;##m^3\n",
      "delU=7.5*10**3*(p2*V2-p1*V1);##kJ\n",
      "W=(p2*V2-p1*V1)*10**3/(1.-n);##kJ\n",
      "delTheta=delU+W;##kJ\n",
      "print\"%s %.2f %s\"%(\"Heat = \",delTheta,\" kJ\");\n",
      "print\"%s %.2f %s\"%(\"Work = \",W,\" kJ\");\n",
      "print\"%s %.2f %s\"%(\"Change in Internal Energy = \",delU,\" kJ\");\n",
      "##If heat transfer is 180 kJ\n",
      "W=delQ-delU;##kJ\n",
      "print\"%s %.2f %s\"%(\"Work = \",W,\" kJ\");\n"
     ],
     "language": "python",
     "metadata": {},
     "outputs": [
      {
       "output_type": "stream",
       "stream": "stdout",
       "text": [
        "Heat =  54.75  kJ\n",
        "Work =  -27.38  kJ\n",
        "Change in Internal Energy =  82.13  kJ\n",
        "Work =  97.87  kJ\n"
       ]
      }
     ],
     "prompt_number": 7
    },
    {
     "cell_type": "heading",
     "level": 2,
     "metadata": {},
     "source": [
      "Ex7-pg109"
     ]
    },
    {
     "cell_type": "code",
     "collapsed": false,
     "input": [
      "##Part A Chapter 4 Example 7 pg 109\n",
      "##find the heat\n",
      "M=16.;##molecular weight\n",
      "\n",
      "p1=101.3;##KPa\n",
      "p2=600.;##MPa\n",
      "T1=20.+273.;##K\n",
      "n=1.3;##constant\n",
      "Cp=1.7;##KJ/KgK\n",
      "UGC=8.3143*10**3;##Universal Gas constant\n",
      "R=UGC/M/1000.;##KJ/KgK\n",
      "Cv=Cp-R;##KJ/KgK\n",
      "Gamma=Cp/Cv;##constant\n",
      "T2=T1*(p2/p1)**((n-1)/n);##K\n",
      "W=R*(T2-T1)/(n-1);##\n",
      "Q=W*(Gamma-n)/(Gamma-1);##Kj/Kg\n",
      "print\"%s %.2f %s\"%(\"Heat = \",Q,\" KJ\");\n"
     ],
     "language": "python",
     "metadata": {},
     "outputs": [
      {
       "output_type": "stream",
       "stream": "stdout",
       "text": [
        "Heat =  82.06  KJ\n"
       ]
      }
     ],
     "prompt_number": 8
    }
   ],
   "metadata": {}
  }
 ]
}