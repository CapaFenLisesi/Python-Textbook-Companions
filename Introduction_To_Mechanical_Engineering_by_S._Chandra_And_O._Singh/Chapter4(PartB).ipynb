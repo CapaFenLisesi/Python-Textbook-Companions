{
 "metadata": {
  "name": "",
  "signature": "sha256:6e988f279f529bb5ac41e4e786e9cfe7ef18c2e50b0acda8a2e7510d2f702f91"
 },
 "nbformat": 3,
 "nbformat_minor": 0,
 "worksheets": [
  {
   "cells": [
    {
     "cell_type": "heading",
     "level": 1,
     "metadata": {},
     "source": [
      "Chapter4(PartB)-Torsion"
     ]
    },
    {
     "cell_type": "heading",
     "level": 2,
     "metadata": {},
     "source": [
      "Ex1-pg578"
     ]
    },
    {
     "cell_type": "code",
     "collapsed": false,
     "input": [
      "##Part B Chapter 4 Example 1 pg no 578\n",
      "##find the  Angle of twist and Shear stress at inside surface\n",
      "import math\n",
      "R=75.;##mm\n",
      "G=75.;##GN/m^2\n",
      "L=3.;##m\n",
      "tau_s=75.;##MN/m^2\n",
      "theta=tau_s*L/R/G*180./math.pi;##degree\n",
      "print\"%s %.2f %s\"%(\"Angle of twist is \",theta,\" degree.\");\n",
      "r=50.;##mm\n",
      "tau=tau_s*r/R;##MN/m^2\n",
      "print\"%s %.2f %s\"%(\"Shear stress at inside surface is \",tau,\" MN/m^2\");\n"
     ],
     "language": "python",
     "metadata": {},
     "outputs": [
      {
       "output_type": "stream",
       "stream": "stdout",
       "text": [
        "Angle of twist is  2.29  degree.\n",
        "Shear stress at inside surface is  50.00  MN/m^2\n"
       ]
      }
     ],
     "prompt_number": 1
    },
    {
     "cell_type": "heading",
     "level": 2,
     "metadata": {},
     "source": [
      "Ex2-pg579"
     ]
    },
    {
     "cell_type": "code",
     "collapsed": false,
     "input": [
      "##Part B Chapter 4 Example 2 pg no 579\n",
      "##find the Shear stress at inside surface and power\n",
      "import math\n",
      "R=125.;##mm\n",
      "D=250./1000.;##m\n",
      "d=160./1000.;##m\n",
      "tau_s=70.;##MN/m^2\n",
      "IP=math.pi/32.*(D**4-d**4);##m^4\n",
      "Tmax=tau_s*10**6*IP/(R/1000.);##Nm\n",
      "Tmin=Tmax/1.40;##Nm\n",
      "N=60.;##RPM\n",
      "P=2.*math.pi*N*Tmin/60.;##W\n",
      "print\"%s %.2f %s\"%(\"Power transmitted by the shaft is \",P/1000,\" kW\");\n",
      "L=5.;##m\n",
      "G=80.;##GN/m^2\n",
      "theta=tau_s*L/R/G*180./math.pi;##degree\n",
      "print\"%s %.2f %s\"%(\"Angle of twist is \",theta,\" degree.\");\n",
      "##Solution is not complete in the book.\n"
     ],
     "language": "python",
     "metadata": {},
     "outputs": [
      {
       "output_type": "stream",
       "stream": "stdout",
       "text": [
        "Power transmitted by the shaft is  802.12  kW\n",
        "Angle of twist is  2.01  degree.\n"
       ]
      }
     ],
     "prompt_number": 2
    },
    {
     "cell_type": "heading",
     "level": 2,
     "metadata": {},
     "source": [
      "Ex3-pg580"
     ]
    },
    {
     "cell_type": "code",
     "collapsed": false,
     "input": [
      "##Part B Chapter 4 Example 3 pg no 580\n",
      "##find the find the Shear stress at inside surface and power \n",
      "import math\n",
      "n=12.;##bolts\n",
      "PCD=300.;##mm\n",
      "D=50.;##mm\n",
      "Ddash=90.;##mm\n",
      "tau_s=60.;##MN/m^2\n",
      "T=tau_s*10**6*math.pi*(D/1000.)**4/(D/2.*10**-3*32.);##Nm\n",
      "R=Ddash/2.;##mm\n",
      "d=(Ddash**4-T*1000.*R*32./60./math.pi)**(1./4.);##mm\n",
      "print\"%s %.2f %s\"%(\"Internal diameter of hollow shaft is \",d,\" mm\");\n",
      "Tb=T/n;##Nm per bolt\n",
      "PCrad=150.;##/mm\n",
      "Fb=Tb/(PCrad/1000.);##N(Force on bolt)\n",
      "tau_sb=20.;##MN/m^2\n",
      "Ab=Fb/tau_sb/10**6;##m^2(Area of bolt)\n",
      "db=math.sqrt(Ab/(math.pi/4.));##m\n",
      "print\"%s %.2f %s\"%(\"Bolt diameter is \",db*1000,\" mm\");\n"
     ],
     "language": "python",
     "metadata": {},
     "outputs": [
      {
       "output_type": "stream",
       "stream": "stdout",
       "text": [
        "Internal diameter of hollow shaft is  85.87  mm\n",
        "Bolt diameter is  7.22  mm\n"
       ]
      }
     ],
     "prompt_number": 3
    },
    {
     "cell_type": "heading",
     "level": 2,
     "metadata": {},
     "source": [
      "Ex4-pg581"
     ]
    },
    {
     "cell_type": "code",
     "collapsed": false,
     "input": [
      "##Part B Chapter 4 Example 4 pg no 581\n",
      "##find the find the Shear stress at inside surface and power \n",
      "import math\n",
      "D=50.;##mm\n",
      "l=3.;##m\n",
      "P=60.;##hp\n",
      "N=250.;##rpm\n",
      "G=90.;##GN/m^2\n",
      "Pl=20.;##hp(assumed)\n",
      "Tl=Pl*746./2./math.pi/N;##Nm\n",
      "Pr=Pl*2.;##hp(Pr:Pl=1:2)\n",
      "Tr=Pr*746./2./math.pi/N;##Nm\n",
      "tau_max=Tr*(D/2.)*10**-3*32./(math.pi*(D/1000.)**4);##MN/m^2\n",
      "print\"%s %.2f %s\"%(\"Maximum shear stress is \",tau_max/10**6,\" MN/m^2.\");\n",
      "theta_l=Tl*1.5*32./(G*10**9*math.pi*(D/1000.)**4);##radian\n",
      "theta_r=Tr*1.5*32./(G*10**9*math.pi*(D/1000.)**4);##radian\n",
      "theta=theta_r-theta_l;##radian\n",
      "print\"%s %.4f %s\"%(\"Angle of twist is \",theta,\" radian.\");\n"
     ],
     "language": "python",
     "metadata": {},
     "outputs": [
      {
       "output_type": "stream",
       "stream": "stdout",
       "text": [
        "Maximum shear stress is  0.77  MN/m^2.\n",
        "Angle of twist is  0.0003  radian.\n"
       ]
      }
     ],
     "prompt_number": 4
    },
    {
     "cell_type": "heading",
     "level": 2,
     "metadata": {},
     "source": [
      "Ex5-pg582"
     ]
    },
    {
     "cell_type": "code",
     "collapsed": false,
     "input": [
      "##Part B Chapter 4 Example 5 pg no 582\n",
      "##find the find the Shear stress at inside surface and power \n",
      "import math\n",
      "D=25.;##mm\n",
      "L=250.;##mm\n",
      "d=0.120;##mm(stretch)\n",
      "F=60.;##kN\n",
      "theta=0.030;##radian\n",
      "T=0.5;##kNm\n",
      "epsilon=d/L;\n",
      "sigma=F*1000.*4./(math.pi*(D/1000.)**2.);##GN/m^2\n",
      "E=sigma/epsilon/10**9;##GN/m^2\n",
      "print\"%s %.2f %s\"%(\"Value of E is \",E,\" GN/m^2\");\n",
      "G=T*1000*32*L/1000/(theta*math.pi*(D/1000.)**4)/10**9;##GN/m^2\n",
      "print\"%s %.2f %s\"%(\"Value of G is \",G,\" GN/m^2\");\n",
      "m=2*G/E/(1-2*G/E);\n",
      "print\"%s %.2f %s\"%(\"Poisson ratio is \",1/m,\"\");\n",
      "K=m*E/3/(m-1);##GN/m^2\n",
      "print\"%s %.2f %s\"%(\"Bulk Modulus, K is \",K,\" GN/m^2\");\n"
     ],
     "language": "python",
     "metadata": {},
     "outputs": [
      {
       "output_type": "stream",
       "stream": "stdout",
       "text": [
        "Value of E is  254.65  GN/m^2\n",
        "Value of G is  108.65  GN/m^2\n",
        "Poisson ratio is  0.17 \n",
        "Bulk Modulus, K is  102.50  GN/m^2\n"
       ]
      }
     ],
     "prompt_number": 5
    },
    {
     "cell_type": "heading",
     "level": 2,
     "metadata": {},
     "source": [
      "Ex6-pg583"
     ]
    },
    {
     "cell_type": "code",
     "collapsed": false,
     "input": [
      "##Part B Chapter 4 Example 6 pg 583\n",
      "##find the find the Shear stress at inside surface and power \n",
      "import math\n",
      "L=2.5;##m\n",
      "P=70*1000.;##W\n",
      "N=250.;##rpm\n",
      "tau_max=55.*10**6;##N/m^2\n",
      "theta=1;##degree\n",
      "theta=theta*math.pi/180.;##radian\n",
      "G=100.;##GN/m^2\n",
      "T=P*60./2./math.pi/N;##Nm\n",
      "d1=(T*16./math.pi/(tau_max))**(1/3.);##m\n",
      "d2=(T*32./math.pi/(G*10**9*theta/L))**(1/4.);##m(Condidering twist 1 degree)\n",
      "d=max(d1,d2)*1000;##mm\n",
      "print\"%s %.2f %s\"%(\"Suitable diameter is \",d,\" mm\");\n"
     ],
     "language": "python",
     "metadata": {},
     "outputs": [
      {
       "output_type": "stream",
       "stream": "stdout",
       "text": [
        "Suitable diameter is  79.03  mm\n"
       ]
      }
     ],
     "prompt_number": 6
    },
    {
     "cell_type": "heading",
     "level": 2,
     "metadata": {},
     "source": [
      "Ex7-pg584"
     ]
    },
    {
     "cell_type": "code",
     "collapsed": false,
     "input": [
      "##Part B Chapter 4 Example 7 pg no 584\n",
      "##find the  Suitable diameter\n",
      "import math\n",
      "M=2.5*1000.;##Nm\n",
      "T=3.5*1000.;##Nm\n",
      "Te=math.sqrt(M**2+T**2)##Nm\n",
      "Me=(M+math.sqrt(M**2+T**2))/2.##Nm\n",
      "tau_max=400.*10**6;##N/m^2\n",
      "d1=(Te*16./math.pi/tau_max)**(1/3.)*1000.;##mm\n",
      "sigma=750.*10**6;##N/m^2\n",
      "d2=(Me*32./math.pi/sigma)**(1/3.)*1000.;##mm\n",
      "d=max(d1,d2);##mm\n",
      "print\"%s %.2f %s\"%(\"Suitable diameter is \",round(d),\" mm\");\n"
     ],
     "language": "python",
     "metadata": {},
     "outputs": [
      {
       "output_type": "stream",
       "stream": "stdout",
       "text": [
        "Suitable diameter is  38.00  mm\n"
       ]
      }
     ],
     "prompt_number": 7
    },
    {
     "cell_type": "heading",
     "level": 2,
     "metadata": {},
     "source": [
      "Ex8-pg585"
     ]
    },
    {
     "cell_type": "code",
     "collapsed": false,
     "input": [
      "##Part B Chapter 4 Example 8 pg no 585\n",
      "##find the  Maximum torque  and Rotation of free end \n",
      "import math\n",
      "db=100.;##m\n",
      "ds=75.;##mm\n",
      "Lb=1.2*1000.;##mm\n",
      "Ls=1.2*1000.;##mm\n",
      "Gb=40.;##kN/mm^2\n",
      "Gs=80.;##kN/mm^2\n",
      "tau_s_AB=100.;##N/m^2\n",
      "T_AB=tau_s_AB*math.pi*db**4./32./(db/2.);##Nmm\n",
      "tau_s_BC=120.;##N/m^2\n",
      "T_BC=tau_s_BC*math.pi*ds**4./32./(ds/2.);##Nmm\n",
      "T=min(T_AB,T_BC);##Nmm(For safety minimum value choosen)\n",
      "print\"%s %.2f %s\"%(\"Maximum torque can be applied is \",T,\" Nmm\");\n",
      "theta=T*(Lb/(Gb*1000.)/(math.pi/32.*db**4)+Ls/(Gs*1000.)/(math.pi/32.*ds**4));##radian\n",
      "print\"%s %.2f %s\"%(\"Rotation of free end is \",theta,\" radian\");\n",
      "##ANSWER IN THE BOOK IS WRONG.\n"
     ],
     "language": "python",
     "metadata": {},
     "outputs": [
      {
       "output_type": "stream",
       "stream": "stdout",
       "text": [
        "Maximum torque can be applied is  9940195.51  Nmm\n",
        "Rotation of free end is  0.08  radian\n"
       ]
      }
     ],
     "prompt_number": 1
    },
    {
     "cell_type": "heading",
     "level": 2,
     "metadata": {},
     "source": [
      "Ex9-pg586"
     ]
    },
    {
     "cell_type": "code",
     "collapsed": false,
     "input": [
      "##Part B Chapter 4 Example 9  pg no 586\n",
      "##find the Strength ratio and   Weight ratio\n",
      "import math\n",
      "d=120.;##mm\n",
      "D1=120.;##mm\n",
      "D2=60.;##mm\n",
      "ThBYTs=(D1**4-D2**4)/d**4;\n",
      "WhBYWs=math.pi/4.*((D1**2-D2**2)/(math.pi/4.)/d**2);\n",
      "print\"%s %.2f %s\"%(\"Strength ratio, Th/Ts is \",ThBYTs,\"\");\n",
      "print\"%s %.2f %s\"%(\"Weight ratio, Wh/Ws is \",WhBYWs,\" \");\n",
      "\n"
     ],
     "language": "python",
     "metadata": {},
     "outputs": [
      {
       "output_type": "stream",
       "stream": "stdout",
       "text": [
        "Strength ratio, Th/Ts is  0.94 \n",
        "Weight ratio, Wh/Ws is  0.75  \n"
       ]
      }
     ],
     "prompt_number": 9
    },
    {
     "cell_type": "heading",
     "level": 2,
     "metadata": {},
     "source": [
      "Ex10-pg587"
     ]
    },
    {
     "cell_type": "code",
     "collapsed": false,
     "input": [
      "##Part B Chapter 4 Example 10 pg no 587\n",
      "##calculate the  Shear Stress in Solid shaft \n",
      "import math\n",
      "d=50.;##mm\n",
      "D1=110.;##mm\n",
      "D2=70.;##mm\n",
      "L=1*1000.;##mm\n",
      "T=1.5*10**6.;##kNmm\n",
      "G=10**5.;##MPa\n",
      "tauH_BY_tauS=D1/2./(d/2.);\n",
      "##tauS=T/(tauH_BY_tauS*%pi*(D1^4-D2^4)/32/D1+%pi*d^4/d/32);##N/mm^2\n",
      "tauS=T/(tauH_BY_tauS*math.pi*(D1**4.-D2**4.)/(D1*32.)+math.pi*d**4/(32.*d))\n",
      "tauH=tauH_BY_tauS*tauS;##N/mm^2\n",
      "print\"%s %.2f %s\"%(\"Shear Stress in Solid shaft is \",tauS,\" N/mm^2\");\n",
      "print\"%s %.2f %s\"%(\"Shear Stress in hollow shaft is \",tauH,\" N/mm^2\");\n",
      "thetaH=tauS/G/(d/2.);##radian\n",
      "thetaS=thetaH;##radian\n",
      "print\"%s %.6f %s\"%(\"Angle of twist oh both shaft is equal and it is \",thetaS,\" radian.\");\n",
      "##ANSWER IN THE BOOK IS WRONG.\n"
     ],
     "language": "python",
     "metadata": {},
     "outputs": [
      {
       "output_type": "stream",
       "stream": "stdout",
       "text": [
        "Shear Stress in Solid shaft is  5.94  N/mm^2\n",
        "Shear Stress in hollow shaft is  13.06  N/mm^2\n",
        "Angle of twist oh both shaft is equal and it is  0.000002  radian.\n"
       ]
      }
     ],
     "prompt_number": 10
    },
    {
     "cell_type": "heading",
     "level": 2,
     "metadata": {},
     "source": [
      "Ex11-pg588"
     ]
    },
    {
     "cell_type": "code",
     "collapsed": false,
     "input": [
      "##Part B Chapter 4 Example 11pg 588\n",
      "##calculate the  Shear Stress for shaft \n",
      "import math\n",
      "b=25.;##mm\n",
      "L=120.;##mm\n",
      "d=60;##mm\n",
      "P=100.*1000.;##W\n",
      "N=120.;##rpm\n",
      "T=P*60./2./math.pi/N;##Nm\n",
      "tauS=(T*16./math.pi/d**3)*1000.;##N/mm^2\n",
      "tauK=(T*2./b/d/L)*1000.;##N/mm^2\n",
      "print\"%s %.2f %s\"%(\"Shear Stress for shaft is \",tauS,\" N/mm^2\");\n",
      "print\"%s %.2f %s\"%(\"Shear Stress for key is \",tauK,\" N/mm^2\");\n"
     ],
     "language": "python",
     "metadata": {},
     "outputs": [
      {
       "output_type": "stream",
       "stream": "stdout",
       "text": [
        "Shear Stress for shaft is  187.63  N/mm^2\n",
        "Shear Stress for key is  88.42  N/mm^2\n"
       ]
      }
     ],
     "prompt_number": 11
    },
    {
     "cell_type": "heading",
     "level": 2,
     "metadata": {},
     "source": [
      "Ex12-pg589"
     ]
    },
    {
     "cell_type": "code",
     "collapsed": false,
     "input": [
      "##Part B Chapter 4 Example 12 pg 589 \n",
      "##calculate the suitable bolt\n",
      "import math\n",
      "n=8.;##no. of bolts\n",
      "d=160.;##mm\n",
      "F=450.;##kN\n",
      "T=20.;##kNm\n",
      "tau_t=120.;##N/mm^2(For tensile load)\n",
      "tau_s=60.;##N/mm^2(For shear load)\n",
      "db1=math.sqrt(F*1000./n/(math.pi/4)/tau_t);##mm\n",
      "db2=math.sqrt(T*10**6/(n*tau_s*math.pi/4.*(d/2.)));##mm\n",
      "db=max(db1,db2);##mm\n",
      "print\"%s %.2f %s\"%(\"Suitable bolt diameter is \",db,\" mm\");\n",
      "                                                \n"
     ],
     "language": "python",
     "metadata": {},
     "outputs": [
      {
       "output_type": "stream",
       "stream": "stdout",
       "text": [
        "Suitable bolt diameter is  25.75  mm\n"
       ]
      }
     ],
     "prompt_number": 12
    },
    {
     "cell_type": "heading",
     "level": 2,
     "metadata": {},
     "source": [
      "Ex13-pg590"
     ]
    },
    {
     "cell_type": "code",
     "collapsed": false,
     "input": [
      "##Part B Chapter 4 Example 13 pg no 590\n",
      "##calculate the maximu power\n",
      "import math\n",
      "b=30.;##mm(thickness)\n",
      "l=8.;##m\n",
      "d=260.;##mm\n",
      "D=d+2.*b;##mm\n",
      "N=300.;##rpm\n",
      "tau_s=16.;##N/mm^2\n",
      "Gs=8.5*10**4;##N/mm^2\n",
      "Gb=4.5*10**4;##N/mm^2\n",
      "Ips=math.pi/32.*d**4;##mm^4\n",
      "Ipb=math.pi/32.*(D**4-d**4);##mm^4\n",
      "TsByTb=Ips/Ipb*Gs/Gb;\n",
      "Ts=math.pi/16.*d**3*tau_s;##Nmm\n",
      "Tb=Ts/TsByTb;##Nmm\n",
      "T=Ts+Tb;##Nmm\n",
      "P=2*math.pi*N*T/60./1000.;##W\n",
      "print\"%s %.2f %s\"%(\"Maximum power is \",P/1000,\" kW\");\n"
     ],
     "language": "python",
     "metadata": {},
     "outputs": [
      {
       "output_type": "stream",
       "stream": "stdout",
       "text": [
        "Maximum power is  2923.59  kW\n"
       ]
      }
     ],
     "prompt_number": 13
    },
    {
     "cell_type": "heading",
     "level": 2,
     "metadata": {},
     "source": [
      "Ex14-pg590"
     ]
    },
    {
     "cell_type": "code",
     "collapsed": false,
     "input": [
      "##Part B Chapter 4 Example 14 pg no 590\n",
      "##calculate the Safe diameter of shaft \n",
      "import math\n",
      "tau_s=60.;##N/mm^2\n",
      "##Forces on pulley A, B & C\n",
      "A1=3000.;##N\n",
      "A2=1000.;##N\n",
      "B1=1200.;##N\n",
      "B2=2200.;##N\n",
      "C1=1000.;##N\n",
      "C2=2250.;##N\n",
      "dA=250.;##mm\n",
      "dB=250.;##mm\n",
      "dC=200.;##mm\n",
      "TA=(A1-A2)*dA/2.;##Nmm\n",
      "TB=(B2-B1)*dB/2.;##Nmm\n",
      "TC=(C2-C1)*dC/2.;##Nmm\n",
      "T=max(TA,TB,TC);##Nmm(Max. Torque)\n",
      "d=(T/tau_s/(math.pi/16.))**(1/3.);##mm\n",
      "print\"%s %.2f %s\"%(\"Safe diameter of shaft is \",d,\" mm\");\n"
     ],
     "language": "python",
     "metadata": {},
     "outputs": [
      {
       "output_type": "stream",
       "stream": "stdout",
       "text": [
        "Safe diameter of shaft is  27.69  mm\n"
       ]
      }
     ],
     "prompt_number": 14
    },
    {
     "cell_type": "heading",
     "level": 2,
     "metadata": {},
     "source": [
      "Ex15-pg592"
     ]
    },
    {
     "cell_type": "code",
     "collapsed": false,
     "input": [
      "##Part B Chapter 4 Example 15 pg no 592\n",
      "##calculate the Maximum bending stress \n",
      "import math\n",
      "l=3.;##m\n",
      "d1=85.;##mm\n",
      "d2=65.;##mm\n",
      "A=1*0.5;##m^2\n",
      "Pw=2200.;##N/mm^2\n",
      "LG=Pw*A##N(Total Wind load at G)\n",
      "M=LG*(3.+0.25)##Nm(Max BM on pipe)\n",
      "T=LG*(0.5+0.5);##Nm\n",
      "I=math.pi/64.*(d1**4.-d2**4.);##mm^4\n",
      "Z=I/42.5;##mm^3\n",
      "Zp=2.*Z;##mm^3\n",
      "sigma_b=M*1000./Z;##N/mm^2\n",
      "tau_s=T*1000./Zp;##N/mm^2\n",
      "print\"%s %.2f %s\"%(\"Maximum bending stress is \",sigma_b,\" N/mm^2\");\n",
      "print\"%s %.2f %s\"%(\"Maximum shear stress is \",tau_s,\" N/mm^2\");\n"
     ],
     "language": "python",
     "metadata": {},
     "outputs": [
      {
       "output_type": "stream",
       "stream": "stdout",
       "text": [
        "Maximum bending stress is  90.11  N/mm^2\n",
        "Maximum shear stress is  13.86  N/mm^2\n"
       ]
      }
     ],
     "prompt_number": 15
    },
    {
     "cell_type": "heading",
     "level": 2,
     "metadata": {},
     "source": [
      "Ex16-pg592"
     ]
    },
    {
     "cell_type": "code",
     "collapsed": false,
     "input": [
      "##Part B Chapter 4 Example 16 pg no 592\n",
      "##calculate the  Angular twist  \n",
      "import math\n",
      "d1=80.;##mm\n",
      "b=1.75;##mm\n",
      "l=1.6;##m\n",
      "T=80.;##Nm\n",
      "G=82.;##GN/m^2\n",
      "d2=d1-2.*b;##mm\n",
      "Ip=math.pi/32.*(d1**4-d2**4)*10**-12;##m^4\n",
      "theta=T*l/Ip/(G*10**9.);##radian\n",
      "print\"%s %.4f %s\"%(\"Angular twist is \",theta,\" radian.\");\n"
     ],
     "language": "python",
     "metadata": {},
     "outputs": [
      {
       "output_type": "stream",
       "stream": "stdout",
       "text": [
        "Angular twist is  0.0024  radian.\n"
       ]
      }
     ],
     "prompt_number": 16
    },
    {
     "cell_type": "heading",
     "level": 2,
     "metadata": {},
     "source": [
      "Ex17-pg593"
     ]
    },
    {
     "cell_type": "code",
     "collapsed": false,
     "input": [
      "##Part B Chapter 4 Example 17 pg no 593\n",
      "##calculate the \"Torque required \n",
      "import math\n",
      "l=25.;##m\n",
      "d=0.5;##mm\n",
      "n=10.;##no. of rounds\n",
      "G=82.;##GN/m^2\n",
      "Ip=math.pi/32*d**4*10**-12.;##m^4\n",
      "theta=2.*math.pi*n;##radian\n",
      "T=G*10**9.*Ip*theta/l;##Nm\n",
      "print\"%s %.4f %s\"%(\"Torque required is \",T,\" Nm.\");\n"
     ],
     "language": "python",
     "metadata": {},
     "outputs": [
      {
       "output_type": "stream",
       "stream": "stdout",
       "text": [
        "Torque required is  0.0013  Nm.\n"
       ]
      }
     ],
     "prompt_number": 17
    },
    {
     "cell_type": "heading",
     "level": 2,
     "metadata": {},
     "source": [
      "Ex18-pg593"
     ]
    },
    {
     "cell_type": "code",
     "collapsed": false,
     "input": [
      "##Part B Chapter 4 Example 18 pg no 593\n",
      "##calculate the Maximum torque transmitted \n",
      "import math\n",
      "d=3.5/1000.;##m\n",
      "tau_s=240.*10**6;##N/m^2\n",
      "Ip=math.pi/32.*d**4;##m^4\n",
      "T=tau_s*Ip/(d/2.);##Nm\n",
      "print\"%s %.2f %s\"%(\"Maximum torque transmitted is \",T,\" Nm.\");\n"
     ],
     "language": "python",
     "metadata": {},
     "outputs": [
      {
       "output_type": "stream",
       "stream": "stdout",
       "text": [
        "Maximum torque transmitted is  2.02  Nm.\n"
       ]
      }
     ],
     "prompt_number": 18
    },
    {
     "cell_type": "heading",
     "level": 2,
     "metadata": {},
     "source": [
      "Ex19-pg593"
     ]
    },
    {
     "cell_type": "code",
     "collapsed": false,
     "input": [
      "##Part B Chapter 4 Example 19 pg no 593\n",
      "##calculate the  Outer diameter of hollow shaft\n",
      "import numpy\n",
      "import math\n",
      "d=16.;##cm\n",
      "As=math.pi/4.*d**2;##cm\n",
      "\n",
      "deltaD=As/(math.pi/4.);##(let deltaD=D1^2-D2^2)\n",
      "##USS=1.2*USH\n",
      "##USS=(D1^2+D2^2)/D1^2*USH\n",
      "D2BYD1=math.sqrt(0.2);\n",
      "D1=math.sqrt(deltaD/(1.-D2BYD1**2));##cm\n",
      "D2=D2BYD1*D1;##cm\n",
      "D1=17.888544 \n",
      "D2=8\n",
      "print\"%s %.2f %s\"%(\"Outer diameter of hollow shaft is \",D1,\" cm.\");\n",
      "print\"%s %.2f %s\"%(\"Inner diameter of hollow shaft is \",D2,\" cm.\");\n"
     ],
     "language": "python",
     "metadata": {},
     "outputs": [
      {
       "output_type": "stream",
       "stream": "stdout",
       "text": [
        "Outer diameter of hollow shaft is  17.89  cm.\n",
        "Inner diameter of hollow shaft is  8.00  cm.\n"
       ]
      }
     ],
     "prompt_number": 19
    },
    {
     "cell_type": "heading",
     "level": 2,
     "metadata": {},
     "source": [
      "Ex20-pg595"
     ]
    },
    {
     "cell_type": "code",
     "collapsed": false,
     "input": [
      "##Part B Chapter 4 Example 20 pg no 595\n",
      "##calculate the uter diameter \n",
      "import math\n",
      "tau=82.;##N/mm^2\n",
      "M=3.5/1000.;##Nm\n",
      "T=4.5/1000.;##Nm\n",
      "DoBYDi=2.;\n",
      "Do=(16.*math.sqrt(M**2.+T**2)/math.pi/tau*16./15.)**(1./3.);##mm\n",
      "Di=Do/DoBYDi;##mm\n",
      "print\"%s %.2f %s\"%(\"Outer diameter is \",Do*1000,\" m.\");\n",
      "print\"%s %.2f %s\"%(\"Inner diameter is \",Di*1000,\" m.\");\n"
     ],
     "language": "python",
     "metadata": {},
     "outputs": [
      {
       "output_type": "stream",
       "stream": "stdout",
       "text": [
        "Outer diameter is  72.28  m.\n",
        "Inner diameter is  36.14  m.\n"
       ]
      }
     ],
     "prompt_number": 20
    }
   ],
   "metadata": {}
  }
 ]
}