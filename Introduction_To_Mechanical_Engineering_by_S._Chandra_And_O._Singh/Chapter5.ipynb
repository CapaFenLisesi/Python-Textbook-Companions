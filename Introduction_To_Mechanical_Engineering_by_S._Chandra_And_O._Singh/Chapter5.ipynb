{
 "metadata": {
  "name": "",
  "signature": "sha256:bc95fe6b7a6ed6b9a0ac91893f29fd1c559553eccc58f7210e793c448941a057"
 },
 "nbformat": 3,
 "nbformat_minor": 0,
 "worksheets": [
  {
   "cells": [
    {
     "cell_type": "heading",
     "level": 1,
     "metadata": {},
     "source": [
      "Chapter5-Second law of thermodynamics"
     ]
    },
    {
     "cell_type": "heading",
     "level": 2,
     "metadata": {},
     "source": [
      "Ex2-pg154"
     ]
    },
    {
     "cell_type": "code",
     "collapsed": false,
     "input": [
      "##Part A Chapter 5 Example 2 pg 154\n",
      "##find the heat be supplied\n",
      "T1=400.+273.;##K\n",
      "T2=15.+273.;##K\n",
      "Q12=200.;##kJ(Q1-Q2=200)\n",
      "Q1BYQ2=T1/T2;\n",
      "Q2=Q12/(Q1BYQ2-1.);##kJ\n",
      "Q1=Q1BYQ2*Q2;##kJ\n",
      "print\"%s %.2f %s\"%(\"Heat to be supplied = \",Q1,\" kJ\");\n"
     ],
     "language": "python",
     "metadata": {},
     "outputs": [
      {
       "output_type": "stream",
       "stream": "stdout",
       "text": [
        "Heat to be supplied =  349.61  kJ\n"
       ]
      }
     ],
     "prompt_number": 1
    },
    {
     "cell_type": "heading",
     "level": 2,
     "metadata": {},
     "source": [
      "Ex3-pg154"
     ]
    },
    {
     "cell_type": "code",
     "collapsed": false,
     "input": [
      "##Part A Chapter 5 Example 3 pg no 154\n",
      "import math\n",
      "T1=42.+273.;##K\n",
      "T2=4.+273.;##K\n",
      "Q2=2.;##kJ/s\n",
      "Q1=T1/T2*Q2;##kJ/s\n",
      "Pin=Q1-Q2;##kJ/s\n",
      "print\"%s %.2f %s\"%(\"Power required = \",Pin,\" kJ/s\");\n"
     ],
     "language": "python",
     "metadata": {},
     "outputs": [
      {
       "output_type": "stream",
       "stream": "stdout",
       "text": [
        "Power required =  0.27  kJ/s\n"
       ]
      }
     ],
     "prompt_number": 1
    },
    {
     "cell_type": "heading",
     "level": 2,
     "metadata": {},
     "source": [
      "Ex4-pg155"
     ]
    },
    {
     "cell_type": "code",
     "collapsed": false,
     "input": [
      "##Part A Chapter 5 Example 4 pg no 155\n",
      "##find the heat and total heat \n",
      "T1=827.+273.;##K\n",
      "T2=27.+273.;##K\n",
      "T3=-13.+273.;##K\n",
      "Q1=2000.;##kJ\n",
      "Q2=545.45;##kJ\n",
      "WE=Q1-Q2;##kJ\n",
      "Q3BYQ4=T3/T2;\n",
      "WE_sub_WR=300.;##kJ\n",
      "WR=WE-WE_sub_WR;##kJ\n",
      "Q43=WR;##kJ(Q4-Q3=WR)\n",
      "Q4=WR/(1.-Q3BYQ4);##kJ\n",
      "Q3=Q4-Q43;##kJ\n",
      "Qt=Q2+Q4;##kJ\n",
      "print\"%s %.2f %s\"%(\"Heat transfered to refrigerant = \",Q3,\" kJ\");\n",
      "print\"%s %.2f %s\"%(\"Total heat transfered to low temperaturereservoir = \",Qt,\" kJ\");\n",
      "##Answer is not accurate in the book.\n"
     ],
     "language": "python",
     "metadata": {},
     "outputs": [
      {
       "output_type": "stream",
       "stream": "stdout",
       "text": [
        "Heat transfered to refrigerant =  7504.58  kJ\n",
        "Total heat transfered to low temperaturereservoir =  9204.58  kJ\n"
       ]
      }
     ],
     "prompt_number": 2
    },
    {
     "cell_type": "heading",
     "level": 2,
     "metadata": {},
     "source": [
      "Ex5-pg157"
     ]
    },
    {
     "cell_type": "code",
     "collapsed": false,
     "input": [
      "##Part A Chapter 5 Example 5 pg 157\n",
      "##find the minimum power required\n",
      "T1=25.+273.;##K\n",
      "T2=-1.+273.;##K\n",
      "Q2=125.;##MJ/h\n",
      "Q1BYQ2=T1/T2;\n",
      "COP_HP=1./(Q1BYQ2-1.);\n",
      "W=Q2/COP_HP;##MJ/h\n",
      "W=W*10**3/3600.;##kW\n",
      "print\"%s %.2f %s\"%(\"Minimum power required = \",W,\" kW\");\n"
     ],
     "language": "python",
     "metadata": {},
     "outputs": [
      {
       "output_type": "stream",
       "stream": "stdout",
       "text": [
        "Minimum power required =  3.32  kW\n"
       ]
      }
     ],
     "prompt_number": 4
    },
    {
     "cell_type": "heading",
     "level": 2,
     "metadata": {},
     "source": [
      "Ex6-pg157"
     ]
    },
    {
     "cell_type": "code",
     "collapsed": false,
     "input": [
      "##Part A Chapter 5 Example 6 pg no 157\n",
      "##find the power required\n",
      "T1=35.+273.;##K\n",
      "T2=-15.+273.;##K\n",
      "Q2=140.8;##kW\n",
      "Q1BYQ2=T1/T2;\n",
      "Carnot_COP=1./(Q1BYQ2-1.);\n",
      "Actual_COP=Carnot_COP/4.;\n",
      "W=Q2/Actual_COP;##kW\n",
      "print\"%s %.2f %s\"%(\"Power required = \",W,\" kW\");\n",
      "##Answer is not accurate in the book.\n"
     ],
     "language": "python",
     "metadata": {},
     "outputs": [
      {
       "output_type": "stream",
       "stream": "stdout",
       "text": [
        "Power required =  109.15  kW\n"
       ]
      }
     ],
     "prompt_number": 3
    }
   ],
   "metadata": {}
  }
 ]
}