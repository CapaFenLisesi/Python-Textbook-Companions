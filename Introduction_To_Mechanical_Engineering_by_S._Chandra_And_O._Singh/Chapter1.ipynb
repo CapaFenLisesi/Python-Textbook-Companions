{
 "metadata": {
  "name": "",
  "signature": "sha256:1c6426191a92bdd3eab454bc8bf6f3af9279dd30c62ae4caccf67b5e72708702"
 },
 "nbformat": 3,
 "nbformat_minor": 0,
 "worksheets": [
  {
   "cells": [
    {
     "cell_type": "heading",
     "level": 1,
     "metadata": {},
     "source": [
      "Chapter1-Fundamental concepts and\n",
      "definitions\n"
     ]
    },
    {
     "cell_type": "heading",
     "level": 2,
     "metadata": {},
     "source": [
      "Ex1-pg19"
     ]
    },
    {
     "cell_type": "code",
     "collapsed": false,
     "input": [
      "##Part A Chapter 1 Example 1 pg no 19\n",
      "#find the pressure difference\n",
      "import math\n",
      "rho=13550;##kg/m^3\n",
      "g=9.78;##m/s^2\n",
      "h=30*10**-2;##m\n",
      "##Pressure Difference\n",
      "P_diff=rho*g*h;##Pa\n",
      "print\"%s %.2f %s\"%(\"Pressure difference = \",P_diff,\" pa\");\n",
      "\n"
     ],
     "language": "python",
     "metadata": {},
     "outputs": [
      {
       "output_type": "stream",
       "stream": "stdout",
       "text": [
        "Pressure difference =  39755.70  pa\n"
       ]
      }
     ],
     "prompt_number": 1
    },
    {
     "cell_type": "heading",
     "level": 2,
     "metadata": {},
     "source": [
      "Ex2-pg19"
     ]
    },
    {
     "cell_type": "code",
     "collapsed": false,
     "input": [
      "##Part A Chapter 1 Example 2 pg no 19\n",
      "##find effort required\n",
      "rho=13550.;##kg/m^3\n",
      "g=9.78;##m/s^2\n",
      "h=76*10**-2;##m\n",
      "d=30*10**-2;##m\n",
      "##Effort required\n",
      "Effort_req=rho*g*h*3.14*d**2./4.;##N\n",
      "print\"%s %.2f %s\"%(\"Effort required = \",Effort_req,\" N\");\n",
      "\n"
     ],
     "language": "python",
     "metadata": {},
     "outputs": [
      {
       "output_type": "stream",
       "stream": "stdout",
       "text": [
        "Effort required =  7115.48  N\n"
       ]
      }
     ],
     "prompt_number": 3
    },
    {
     "cell_type": "heading",
     "level": 2,
     "metadata": {},
     "source": [
      "Ex3-pg20"
     ]
    },
    {
     "cell_type": "code",
     "collapsed": false,
     "input": [
      "##Part A Chapter 1 Example 3 pg no 20\n",
      "##find the Pactual\n",
      "Patm=101.;##kPa\n",
      "rho=13550.;##kg/m^3\n",
      "g=9.78;##m/s^2\n",
      "h=30*10**-2;##m\n",
      "##Gauge pressure\n",
      "Pgauge=rho*g*h/1000.;##kPa\n",
      "##Actual Pressure\n",
      "Pactual=Pgauge+Patm;##kPa\n",
      "print\"%s %.2f %s\"%(\"Actual pressure of air = \",Pactual,\" kPa\");\n",
      "\n"
     ],
     "language": "python",
     "metadata": {},
     "outputs": [
      {
       "output_type": "stream",
       "stream": "stdout",
       "text": [
        "Actual pressure of air =  140.76  kPa\n"
       ]
      }
     ],
     "prompt_number": 4
    }
   ],
   "metadata": {}
  }
 ]
}