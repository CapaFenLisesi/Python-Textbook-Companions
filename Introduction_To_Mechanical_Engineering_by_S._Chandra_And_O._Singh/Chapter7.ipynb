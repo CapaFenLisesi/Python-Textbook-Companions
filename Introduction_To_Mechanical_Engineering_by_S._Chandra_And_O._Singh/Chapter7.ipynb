{
 "metadata": {
  "name": "",
  "signature": "sha256:9cf175c804f8e33a4f14f7bf59b5fa4ea750fa28b482d872325749da2baf0906"
 },
 "nbformat": 3,
 "nbformat_minor": 0,
 "worksheets": [
  {
   "cells": [
    {
     "cell_type": "heading",
     "level": 1,
     "metadata": {},
     "source": [
      "CHapter7-Thermodynamic properties of\n",
      "pure substance"
     ]
    },
    {
     "cell_type": "heading",
     "level": 2,
     "metadata": {},
     "source": [
      "Ex2-pg237"
     ]
    },
    {
     "cell_type": "code",
     "collapsed": false,
     "input": [
      "##Part A Chapter 7 Example 2 pg no 237\n",
      "##find the dryness fraction\n",
      "h2=2682.5;##kJ/kg(For 0.05 MPa & 100 degree C)\n",
      "h1=h2;##kJ/kg(for throttling)\n",
      "hf=1407.56;##kJ/kg(For 10 MPa)\n",
      "hfg=1317.1;##kJ/kg(For 10 MPa)\n",
      "x1=(h1-hf)/hfg;##dryness fraction\n",
      "print\"%s %.2f %s\"%(\"Dryness fraction = \",x1,\"\");\n"
     ],
     "language": "python",
     "metadata": {},
     "outputs": [
      {
       "output_type": "stream",
       "stream": "stdout",
       "text": [
        "Dryness fraction =  0.97 \n"
       ]
      }
     ],
     "prompt_number": 1
    },
    {
     "cell_type": "heading",
     "level": 2,
     "metadata": {},
     "source": [
      "Ex3-pg238"
     ]
    },
    {
     "cell_type": "code",
     "collapsed": false,
     "input": [
      "##Part A Chapter 7 Example 3 pg no 238\n",
      "##find the entropy change \n",
      "import math\n",
      "m=5.;##kg\n",
      "cp_super_heat=2.1;##kJ/kgK\n",
      "cp_water=4.18;##kJ/kgK\n",
      "Tsuper_heat=300.+273.15;##K\n",
      "Tsat=212.42;##degreeC(at 2 MPa)\n",
      "Tsat=Tsat+273.15;##K\n",
      "hfg=1890.7;##kJ/kg(For 2 MPa & Tsat)\\\n",
      "S=cp_water*math.log(Tsat/273.15)+hfg/Tsat+cp_super_heat*math.log(Tsuper_heat/Tsat);##kJ/kgK\n",
      "S_5kg=S*5;##kJ/K\n",
      "print\"%s %.2f %s\"%(\"Entropy of 5 kg steam = \",S_5kg,\" kJ/K\");\n"
     ],
     "language": "python",
     "metadata": {},
     "outputs": [
      {
       "output_type": "stream",
       "stream": "stdout",
       "text": [
        "Entropy of 5 kg steam =  33.23  kJ/K\n"
       ]
      }
     ],
     "prompt_number": 3
    },
    {
     "cell_type": "heading",
     "level": 2,
     "metadata": {},
     "source": [
      "Ex4-pg238"
     ]
    },
    {
     "cell_type": "code",
     "collapsed": false,
     "input": [
      "##Part A Chapter 7 Example 4 pg no 238\n",
      "##find the pressure \n",
      "T=110.+273.15;##K\n",
      "h=50.;##cm\n",
      "p=143.47;##kPa(at 110 degree C)\n",
      "g=9.81;##ravity constant\n",
      "p_dash=p-(1000.*g*h/100.)/1000.;##kPa(pressure at 50 cm depth)\n",
      "Tsat=108.866;##degree C(for pdash=138.365 kPa);\n",
      "print\"%s %.2f %s %.2f %s \"%(\"Pressure at 50 cm depth is \",p_dash,\" kPa\"and \" From steam table, Boiling point = \",Tsat,\" degree C\");\n",
      "\n"
     ],
     "language": "python",
     "metadata": {},
     "outputs": [
      {
       "output_type": "stream",
       "stream": "stdout",
       "text": [
        "Pressure at 50 cm depth is  138.56  From steam table, Boiling point =  108.87  degree C \n"
       ]
      }
     ],
     "prompt_number": 4
    },
    {
     "cell_type": "heading",
     "level": 2,
     "metadata": {},
     "source": [
      "Ex5-pg239"
     ]
    },
    {
     "cell_type": "code",
     "collapsed": false,
     "input": [
      "##Part A Chapter 7 Example 5 pg no 239\n",
      "##find the mass and volume of water\n",
      "V=0.5;##m^3\n",
      "T=100.+273.15;##K\n",
      "v2=0.003155;##m^3/kg(at critical state)\n",
      "v1=v2;##constant volume process\n",
      "vf=0.001044;##m^3/kg(at 100 degree C)\n",
      "vg=1.6729;##m^3/kg(at 100 degree C)\n",
      "x1=(v1-vf)/vg;##dryness fraction\n",
      "m=V/v2;##kg\n",
      "mw=m*(1.-x1);##kg\n",
      "Vw=mw*vf;##m^3\n",
      "print\"%s %.2f %s\"%(\"Mass of water is \",mw,\" kg.\");\n",
      "print\"%s %.2f %s\"%(\"Volume of water is \",Vw,\" m^3.\");\n"
     ],
     "language": "python",
     "metadata": {},
     "outputs": [
      {
       "output_type": "stream",
       "stream": "stdout",
       "text": [
        "Mass of water is  158.28  kg.\n",
        "Volume of water is  0.17  m^3.\n"
       ]
      }
     ],
     "prompt_number": 5
    },
    {
     "cell_type": "heading",
     "level": 2,
     "metadata": {},
     "source": [
      "Ex6-pg239"
     ]
    },
    {
     "cell_type": "code",
     "collapsed": false,
     "input": [
      "##Part A Chapter 7 Example 6\n",
      "##find the slope of an isobar\n",
      "p=2.;##MPa\n",
      "T=500.+273.15;##K\n",
      "dh_by_ds=T;##for constant pressure\n",
      "print\"%s %.2f %s\"%(\"Slope of an isobar is \",dh_by_ds,\"\");\n"
     ],
     "language": "python",
     "metadata": {},
     "outputs": [
      {
       "output_type": "stream",
       "stream": "stdout",
       "text": [
        "Slope of an isobar is  773.15 \n"
       ]
      }
     ],
     "prompt_number": 6
    },
    {
     "cell_type": "heading",
     "level": 2,
     "metadata": {},
     "source": [
      "Ex7-pg240"
     ]
    },
    {
     "cell_type": "code",
     "collapsed": false,
     "input": [
      "##Part A Chapter 7 Example 7\n",
      "##find the enthalpy and specific volume and entropy\n",
      "p=0.15;##MPa\n",
      "x=10./100.;##quality\n",
      "hf=467.11;##kJ/kg##at 0.15 MPa\n",
      "hg=2693.6;##kJ/kg##at 0.15 MPa\n",
      "vf=0.001053;##m^3/kg##at 0.15 MPa\n",
      "vg=1.1593;##m^3/kg##at 0.15 MPa\n",
      "sf=1.4336;##kJ/kg.K##at 0.15 MPa\n",
      "sg=7.2233;##kJ/kg.K##at 0.15 MPa\n",
      "hfg=hg-hf;##kJ/kg##\n",
      "h=hf+x*hfg;##kJ/kg\n",
      "print\"%s %.2f %s\"%(\"Enthalpy is \",h,\" kJ/kg\");\n",
      "vfg=vg-vf;##m^3/kg##\n",
      "v=vf+x*vfg;##m^3/kg\n",
      "print\"%s %.2f %s\"%(\"Specific volume is \",v,\" m^3/kg\");\n",
      "sfg=sg-sf;##kJ/kg.K\n",
      "s=sf+x*sfg;##kJ/kg.K\n",
      "print\"%s %.2f %s\"%(\"Entropy is \",s,\" kJ/kg.K\");\n"
     ],
     "language": "python",
     "metadata": {},
     "outputs": [
      {
       "output_type": "stream",
       "stream": "stdout",
       "text": [
        "Enthalpy is  689.76  kJ/kg\n",
        "Specific volume is  0.12  m^3/kg\n",
        "Entropy is  2.01  kJ/kg.K\n"
       ]
      }
     ],
     "prompt_number": 7
    },
    {
     "cell_type": "heading",
     "level": 2,
     "metadata": {},
     "source": [
      "Ex8-pg240"
     ]
    },
    {
     "cell_type": "code",
     "collapsed": false,
     "input": [
      "##Part A Chapter 7 Example 8 pg no 240\n",
      "##find the heat added volume\n",
      "P1=1;##MPa\n",
      "V1=0.05;##m^3\n",
      "x1=80/100;##dryness fraction\n",
      "P2=1;##MPa\n",
      "V2=0.2;##m^3\n",
      "W=P1*1000*(V2-V1);##kJ\n",
      "vf=0.001127;##m^3/kg##at 1 MPa\n",
      "vg=0.19444;##m^3/kg##at 1 MPa\n",
      "uf=761.68;##kJ/kg##at 1 MPa\n",
      "ufg=1822;##kJ/kg##at 1 MPa\n",
      "vfg=vg-vf;##m^3/kg\n",
      "v1=vf+x1*vfg;##m^3/kg\n",
      "ms=V1/v1;##kg(mass of steam)\n",
      "v2=V2/ms;##m^3/kg\n",
      "T1=1000;T2=1100;##degree C(as v2>vg(1MPa))\n",
      "T=T1+(T2-T1)*(v2-0.5871)/(0.6355-0.5871);##degree C\n",
      "u2=4209.6;##kJ/kg(at 1MPa & T degree C)\n",
      "u1=uf+x1*ufg;##kJ/kg\n",
      "Q=W+ms*(u2-u1);##kJ\n",
      "print\"%s %.2f %s\"%(\"Heat added is \",Q,\" kJ\");\n"
     ],
     "language": "python",
     "metadata": {},
     "outputs": [
      {
       "output_type": "stream",
       "stream": "stdout",
       "text": [
        "Heat added is  153118.94  kJ\n"
       ]
      }
     ],
     "prompt_number": 2
    },
    {
     "cell_type": "heading",
     "level": 2,
     "metadata": {},
     "source": [
      "Ex9-pg241"
     ]
    },
    {
     "cell_type": "code",
     "collapsed": false,
     "input": [
      "##Part A Chapter 7 Example 9 pg no 241\n",
      "##find the pressure and temparature \n",
      "p=800;##kPa\n",
      "T=200##degree C\n",
      "Tsat=170.43;##degree C(at 800kPa)\n",
      "v1=0.2404;##m^3/kg(at 800kPa)\n",
      "v2=0.2404;##m^3/kg(at 800kPa)\n",
      "vg=v2;##m^3/kg##(at 800kPa)\n",
      "T1=175;T2=170;##degree C(vg=0.2404;##m^3/kg)\n",
      "vg1=0.2168;##m^3/kg\n",
      "vg2=0.2428;##m^3/kg\n",
      "T2_begin=T1-(T1-T2)*(v1-vg1)/(vg2-vg1);##degree C\n",
      "p1=892;p2=791.7;##kPa(vg=0.2404;##m^3/kg)\n",
      "p2_begin=p1-(p1-p2)*(v1-vg1)/(vg2-vg1);##degree C\n",
      "print\"%s %.2f %s %.2f %s \"%(\"Pressure and temperature at condensation is \",p2_begin,\" kPa & \"and \"\",T2_begin,\" degree C\");\n"
     ],
     "language": "python",
     "metadata": {},
     "outputs": [
      {
       "output_type": "stream",
       "stream": "stdout",
       "text": [
        "Pressure and temperature at condensation is  800.96  170.46  degree C \n"
       ]
      }
     ],
     "prompt_number": 3
    },
    {
     "cell_type": "heading",
     "level": 2,
     "metadata": {},
     "source": [
      "Ex10-pg242"
     ]
    },
    {
     "cell_type": "code",
     "collapsed": false,
     "input": [
      "##Part A Chapter 7 Example 10 pg 242\n",
      "##find the enthalpy change\n",
      "p2=200.;##kPa\n",
      "T=30.##degree C\n",
      "ds=0.;##for isentropic process\n",
      "##for saturated liquid at 30 degree C\n",
      "p1=4.25;##kPa\n",
      "vf=0.001004;##m^3/kg\n",
      "v1=vf;##m^3/kg\n",
      "h21=v1*(p2-p1);##kJ/kg(h21=h2-h1)\n",
      "print\"%s %.2f %s\"%(\"Enthalpy change is \",h21,\" kJ/kg\");\n"
     ],
     "language": "python",
     "metadata": {},
     "outputs": [
      {
       "output_type": "stream",
       "stream": "stdout",
       "text": [
        "Enthalpy change is  0.20  kJ/kg\n"
       ]
      }
     ],
     "prompt_number": 10
    },
    {
     "cell_type": "heading",
     "level": 2,
     "metadata": {},
     "source": [
      "Ex11-pg243"
     ]
    },
    {
     "cell_type": "code",
     "collapsed": false,
     "input": [
      "##Part A Chapter 7 Example 11 pg 243\n",
      "##find the total mass\n",
      "V=2.;##m^3(Volume of vessel)\n",
      "T=150.##degree C\n",
      "vf=0.001091;##m^3/kg##at 150 degree C\n",
      "vg=0.3928;##m^3/kg##at 150 degree C\n",
      "v_water=V*3./5.##m^3\n",
      "v_steam=V*2./5.##m^3\n",
      "mf=v_water/vf;##kg\n",
      "mg=v_steam/vg;##kg\n",
      "m=mf+mg;##kg##Total mass\n",
      "x=mg/m;##dryness fraction\n",
      "print\"%s %.2f %s %.4f %s \"%(\"Total mass is \",m,\" kg & Quality is \",x,\"\")\n",
      "##Answer is wrong in the book.\n"
     ],
     "language": "python",
     "metadata": {},
     "outputs": [
      {
       "output_type": "stream",
       "stream": "stdout",
       "text": [
        "Total mass is  1101.95  kg & Quality is  0.0018  \n"
       ]
      }
     ],
     "prompt_number": 4
    },
    {
     "cell_type": "heading",
     "level": 2,
     "metadata": {},
     "source": [
      "Ex12-pg243"
     ]
    },
    {
     "cell_type": "code",
     "collapsed": false,
     "input": [
      "##Part A Chapter 7 Example 12 pg 243\n",
      "##find the stream work\n",
      "p=4.;##MPa\n",
      "T1=300.##degree C\n",
      "T2=50.##degree C\n",
      "h1=2886.2;##kJ/kg(at 4 MPa & 300 degree C)\n",
      "s1=6.2285;##kJ/kg.K(at 4 MPa & 300 degree C)\n",
      "hf=209.33;##kJ/kg(at 50 degree C)\n",
      "sf=0.7038;##kJ/kg.K(at 50 degree C)\n",
      "hfg=2382.7;##kJ/kg(at 50 degree C)\n",
      "sfg=7.3725;##kJ/kg.K(at 50 degree C)\n",
      "x2=(s1-sf)/sfg;##dryness fraction\n",
      "h2=hf+x2*hfg;##kJ/kg\n",
      "W=h1-h2;##kJ/kg\n",
      "print\"%s %.2f %s\"%(\"Steam turbine work is \",W,\" kJ/kg\");\n"
     ],
     "language": "python",
     "metadata": {},
     "outputs": [
      {
       "output_type": "stream",
       "stream": "stdout",
       "text": [
        "Steam turbine work is  891.36  kJ/kg\n"
       ]
      }
     ],
     "prompt_number": 12
    },
    {
     "cell_type": "heading",
     "level": 2,
     "metadata": {},
     "source": [
      "Ex13-pg244"
     ]
    },
    {
     "cell_type": "code",
     "collapsed": false,
     "input": [
      "##Part A Chapter 7 Example 13 pg 244\n",
      "##find the mass of dry stream\n",
      "mg=100.;##kg\n",
      "pg=100.;##kPa\n",
      "x1=0.5;##dryness at 1000kPa\n",
      "##At 100 kPa\n",
      "hf=417.46;##kJ/kg\n",
      "uf=417.46;##kJ/kg\n",
      "vf=0.001043;##m^3/kg\n",
      "hfg=2258.;##kJ/kg\n",
      "ufg=2088.7;##kJ/kg\n",
      "vfg=1.6940;##m^3/kg\n",
      "\n",
      "v1=vf+x1*vfg;##m^3/kg\n",
      "h1=hf+x1*hfg;##kJ/kg\n",
      "V=mg*x1*v1;##m^3\n",
      "U1=mg*(hf+x1*ufg);##kJ\n",
      "\n",
      "##At 2000 kPa\n",
      "vg=0.09963;##m^3/kg\n",
      "ug=2600.3;##m^3/kg\n",
      "hg=2799.5;##kJ/kg\n",
      "v2=1./(1./vg+1./v1);##m^3/kg\n",
      "\n",
      "##At 1000 kPa\n",
      "hf=762.81;##kJ/kg\n",
      "hfg=2015.3;##kJ/kg\n",
      "vf=0.001127;##m^3/kg\n",
      "vg=0.19444;##m^3/kg\n",
      "\n",
      "x2=(v2-vf)/(vg-vf);##dryness at 1000 ka\n",
      "h2=hf+x2*hfg;##kJ/kg\n",
      "m=(mg*h1-mg*h2)/(h2-hg);##kg\n",
      "print\"%s %.2f %s\"%(\"Mass of dry steam at 2000 kPa to be added is \",m,\" kg\");\n",
      "print\"%s %.2f %s\"%(\"Quality of final mixture is \",x2,\"\");\n"
     ],
     "language": "python",
     "metadata": {},
     "outputs": [
      {
       "output_type": "stream",
       "stream": "stdout",
       "text": [
        "Mass of dry steam at 2000 kPa to be added is  11.98  kg\n",
        "Quality of final mixture is  0.46 \n"
       ]
      }
     ],
     "prompt_number": 13
    },
    {
     "cell_type": "heading",
     "level": 2,
     "metadata": {},
     "source": [
      "Ex14-pg245"
     ]
    },
    {
     "cell_type": "code",
     "collapsed": false,
     "input": [
      "##Part A Chapter 7 Example 14 pg 245\n",
      "##find the dryness fraction\n",
      "rcv=71.5;##cm of Hg(Recorded condenser vaccum)\n",
      "br=76.8;##cm of Hg(Barometer reading)\n",
      "Tc=35;##degree C(Temperature of condensation)\n",
      "Tw=27.6;##degree C(Temperature of hot well)\n",
      "mc=1930;##kg(Mass of condensate/hour)\n",
      "mw=62000;##kg(Mass of cooling water/hour)\n",
      "T1=8.51;##degree C(Inlet temperature)\n",
      "T2=26.24;##degree C(Outlet temperature)\n",
      "pc=(br-rcv)/73.55*101.325;##kPa(condenser pressure)\n",
      "p_partial=5.628;##kPa(at 35 degree C)\n",
      "hf=146.68;##kJ/kg\n",
      "hfg=2418.6;##kJ/kg\n",
      "x=(mw*(T2-T1)*4.18/mc+4.18*Tw-hf)/hfg;##dryness fraction\n",
      "print\"%s %.2f %s\"%(\"State of steam(Dryness fraction) entering condenser is \",x,\"\");\n"
     ],
     "language": "python",
     "metadata": {},
     "outputs": [
      {
       "output_type": "stream",
       "stream": "stdout",
       "text": [
        "State of steam(Dryness fraction) entering condenser is  0.97 \n"
       ]
      }
     ],
     "prompt_number": 14
    },
    {
     "cell_type": "heading",
     "level": 2,
     "metadata": {},
     "source": [
      "Ex15-pg247"
     ]
    },
    {
     "cell_type": "code",
     "collapsed": false,
     "input": [
      "##Part A Chapter 7 Example 15 pg 247\n",
      "##find the workdone\n",
      "import math\n",
      "d=20./100.;##m\n",
      "h=2.;##cm\n",
      "T=150.;##degree C\n",
      "F=10.;##kN\n",
      "Q=600.;##kJ\n",
      "Patm=101.3;##kPa\n",
      "P=F/(math.pi/4.*d**2.)+Patm;##kPa\n",
      "V1=math.pi/4.*d**2*h/100.;##m^3\n",
      "m=V1*1000.;##kg\n",
      "hf=612.1;##kJ/kg(at Pressure P)\n",
      "hfg=2128.7;##kJ/kg(at Pressure P)\n",
      "h2=1582.8;##kJ/kg\n",
      "x=(Q/m+4.18*T-hf)/hfg;##dryness factor\n",
      "print\"%s %.2f %s\"%(\"Dryness fraction of steam produced is \",x,\"\");\n",
      "U1=m*4.18*T-P*V1;##kJ\n",
      "vg=0.4435;##m^3/kg at Pressure P\n",
      "V2=m*x*vg;##m^3\n",
      "U2=m*h2-P*V2;##kJ\n",
      "U21=U2-U1;##kJ(U2-U1)\n",
      "print\"%s %.2f %s\"%(\"Change in internal energy is \",U21,\" kJ.\");\n",
      "W=P*(V2-V1);##kJ\n",
      "print\"%s %.2f %s\"%(\"Workdone is \",W,\" kJ.\");\n"
     ],
     "language": "python",
     "metadata": {},
     "outputs": [
      {
       "output_type": "stream",
       "stream": "stdout",
       "text": [
        "Dryness fraction of steam produced is  0.46 \n",
        "Change in internal energy is  547.54  kJ.\n",
        "Workdone is  53.01  kJ.\n"
       ]
      }
     ],
     "prompt_number": 15
    },
    {
     "cell_type": "heading",
     "level": 2,
     "metadata": {},
     "source": [
      "Ex16-pg248"
     ]
    },
    {
     "cell_type": "code",
     "collapsed": false,
     "input": [
      "##Part A Chapter 7 Example 16 pg 248\n",
      "##find the dryness fraction\n",
      "mg=40.;##kg\n",
      "mf=2.2;##kg\n",
      "p1=1.47;##MPa\n",
      "T=120;##degree C\n",
      "p2=107.88;##kPa\n",
      "cv=2.09;##kJ/kg.K\n",
      "Td=T-101.8;##degree C(DegreeSuperHeat)\n",
      "hf=2673.95;##kJ/kg\n",
      "h=hf+Td*cv;##kJ/kg\n",
      "hf2=918.926;##kJ/kg\n",
      "hfg2=1864.28;##kJ/kg\n",
      "x2=(h-hf2)/hfg2;##dryness fraction\n",
      "x1=(mg-mf)/mg;##dryness fraction\n",
      "x=x1*x2;##overall dryness fraction\n",
      "print\"%s %.2f %s\"%(\"Dryness fraction is \",x,\"\");\n"
     ],
     "language": "python",
     "metadata": {},
     "outputs": [
      {
       "output_type": "stream",
       "stream": "stdout",
       "text": [
        "Dryness fraction is  0.91 \n"
       ]
      }
     ],
     "prompt_number": 16
    }
   ],
   "metadata": {}
  }
 ]
}