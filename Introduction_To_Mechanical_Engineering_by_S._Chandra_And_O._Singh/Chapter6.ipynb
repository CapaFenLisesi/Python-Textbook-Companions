{
 "metadata": {
  "name": "",
  "signature": "sha256:d4ce20e9df868a59c15088f1d33558442ddfbd60bda423dfe97e30d8e4ac8b50"
 },
 "nbformat": 3,
 "nbformat_minor": 0,
 "worksheets": [
  {
   "cells": [
    {
     "cell_type": "heading",
     "level": 1,
     "metadata": {},
     "source": [
      "Chapter6-Entropy"
     ]
    },
    {
     "cell_type": "heading",
     "level": 2,
     "metadata": {},
     "source": [
      "Ex1-pg192"
     ]
    },
    {
     "cell_type": "code",
     "collapsed": false,
     "input": [
      "##Part A Chapter 6 Example 1 pg no 192\n",
      "##find the change in entropy\n",
      "import math\n",
      "p1=5.;##bar\n",
      "T1=27.+273.;##K\n",
      "p2=2.;##bar\n",
      "cp_air=1.004;##kJ/kgK\n",
      "R=0.287;##kJ/kgK\n",
      "T2=T1;##K(as cp*T1=cp*T2)\n",
      "delta_s=cp_air*math.log(T2/T1)-R*math.log(p2/p1);##kJ/kgK\n",
      "print\"%s %.2f %s\"%(\"Change in entropy = \",delta_s,\" kJ/kgK\");\n"
     ],
     "language": "python",
     "metadata": {},
     "outputs": [
      {
       "output_type": "stream",
       "stream": "stdout",
       "text": [
        "Change in entropy =  0.26  kJ/kgK\n"
       ]
      }
     ],
     "prompt_number": 1
    },
    {
     "cell_type": "heading",
     "level": 2,
     "metadata": {},
     "source": [
      "Ex2-pg192"
     ]
    },
    {
     "cell_type": "code",
     "collapsed": false,
     "input": [
      "##Part A Chapter 6 Example 2 pg no 192\n",
      "##find the  total change in entropy\n",
      "import math\n",
      "import scipy\n",
      "from scipy import integrate\n",
      "T1=27.+273.;##K\n",
      "T2=100.+273.;##K\n",
      "T3=400.+273.;##K\n",
      "m=5.;##kg\n",
      "cp=4.2;##kJ/kgK\n",
      "cp2=2260.;##kJ/kg\n",
      "delta_T=100.-27.;##degree C\n",
      "Q1=m*cp*delta_T;##kJ/K\n",
      "delta_S1=Q1/T1##kJ/K\n",
      "Q2=m*cp2;##kJ/K\n",
      "delta_S2=Q2/T2##kJ/K\n",
      "R=8.314/34.;##kJ/kgK\n",
      "##cp_steam=R*(3.5+1.2*T+0.14*T^2)*10^-3;##kJ/kgK\n",
      "##delta_S3=m*cp_steam/T*dT\n",
      "def fun(T):\n",
      "\ty=m*R*(((3.5/T)+1.2+0.14*T)*10**-3)\n",
      "\treturn y;\n",
      "\n",
      "delta_S3=scipy.integrate.quad(fun,373,673);##kJ/K\n",
      "delta_s3=delta_S3[0]\n",
      "delta_S=delta_S1+delta_S2+delta_s3;##kJ/K\n",
      "print\"%s %.2f %s\"%(\"Total entropy change = \",delta_S,\" kJ/K\");\n",
      "##Answer in the book is not accurate.\n"
     ],
     "language": "python",
     "metadata": {},
     "outputs": [
      {
       "output_type": "stream",
       "stream": "stdout",
       "text": [
        "Total entropy change =  62.70  kJ/K\n"
       ]
      }
     ],
     "prompt_number": 3
    },
    {
     "cell_type": "heading",
     "level": 2,
     "metadata": {},
     "source": [
      "Ex3-pg194"
     ]
    },
    {
     "cell_type": "code",
     "collapsed": false,
     "input": [
      "##Part A Chapter 6 Example 3 pg no 194\n",
      "##find the change in entropy\n",
      "import math\n",
      "R=8.314/32.;##kJ/kgK\n",
      "p1=125.;##kPa\n",
      "p2=375.;##kPa\n",
      "T1=27.+273.;##K\n",
      "T2=T1;##K\n",
      "delta_S=-R*math.log(p2/p1);##kJ/K;##kJ/kgK\n",
      "print\"%s %.2f %s\"%(\"Change in entropy = \",delta_S,\" kJ/K\");\n"
     ],
     "language": "python",
     "metadata": {},
     "outputs": [
      {
       "output_type": "stream",
       "stream": "stdout",
       "text": [
        "Change in entropy =  -0.29  kJ/K\n"
       ]
      }
     ],
     "prompt_number": 2
    },
    {
     "cell_type": "heading",
     "level": 2,
     "metadata": {},
     "source": [
      "Ex4-pg194"
     ]
    },
    {
     "cell_type": "code",
     "collapsed": false,
     "input": [
      "##Part A Chapter 6 Example 4 pg no 194\n",
      "##find the change in entropy universe\n",
      "T1=150.+273.;##K\n",
      "T2=25.+273.;##K\n",
      "m=1;##kg\n",
      "cp=0.393;##kJ/kgK\n",
      "import math\n",
      "deltaS_block=-m*cp*math.log(T1/T2);##kJ/kgK\n",
      "HeatLost_block=-m*cp*(T1-T2);##kJ\n",
      "deltaS_water=-HeatLost_block/T2;##kJ/K\n",
      "deltaS_universe=deltaS_block+deltaS_water;##kJ/K\n",
      "deltaS_universe=deltaS_universe*1000.;##J/K\n",
      "print\"%s %.2f %s\"%(\"Change in entropy of universe = \",deltaS_universe,\" J/K\");\n",
      "##unit of answer is wrong in the book.\n"
     ],
     "language": "python",
     "metadata": {},
     "outputs": [
      {
       "output_type": "stream",
       "stream": "stdout",
       "text": [
        "Change in entropy of universe =  27.19  J/K\n"
       ]
      }
     ],
     "prompt_number": 6
    },
    {
     "cell_type": "heading",
     "level": 2,
     "metadata": {},
     "source": [
      "Ex5-pg195"
     ]
    },
    {
     "cell_type": "code",
     "collapsed": false,
     "input": [
      "##Part A Chapter 6 Example 5 pg no 195\n",
      "##find the change in entropy\n",
      "m=1.;##kg\n",
      "g=9.81;##gravity constant\n",
      "h=200.;##m\n",
      "T1=27.+273.;##K\n",
      "cp=0.393;##kJ/kgK\n",
      "deltaPE=m*g*h;##J\n",
      "Q=deltaPE;##J\n",
      "deltaS_SeaWater=Q/T1;##J/kgK\n",
      "deltaS_universe=deltaS_SeaWater;##J/kgK(because of same temperature)\n",
      "print\"%s %.2f %s\"%(\"Change in entropy of universe = \",deltaS_universe,\" J/kgK\");\n"
     ],
     "language": "python",
     "metadata": {},
     "outputs": [
      {
       "output_type": "stream",
       "stream": "stdout",
       "text": [
        "Change in entropy of universe =  6.54  J/kgK\n"
       ]
      }
     ],
     "prompt_number": 7
    },
    {
     "cell_type": "heading",
     "level": 2,
     "metadata": {},
     "source": [
      "Ex6-pg195"
     ]
    },
    {
     "cell_type": "code",
     "collapsed": false,
     "input": [
      "##Part A Chapter 6 Example 6 pg no 195\n",
      "##find the change in entropy\n",
      "import math\n",
      "m1=1.;##kg\n",
      "m2=0.5;##kg\n",
      "T1=150.+273.;##K\n",
      "T2=0.+273.;##K\n",
      "cp1=0.393;##kJ/kgK\n",
      "cp2=0.381;##kJ/kgK\n",
      "##m1*cp1*(T1-Tf)=m2*cp2*(Tf-T2);\n",
      "Tf=(m1*cp1*T1+m2*cp2*T2)/(m2*cp2+m1*cp1);##K\n",
      "delta_S1=m1*cp1*math.log(Tf/T1);##kJ/K\n",
      "delta_S2=m2*cp2*math.log(Tf/T2);##kJ/K\n",
      "deltaS_universe=delta_S1+delta_S2;##kJ/K\n",
      "print\"%s %.2f %s\"%(\"Change in entropy of universe = \",deltaS_universe,\" kJ/K\");\n"
     ],
     "language": "python",
     "metadata": {},
     "outputs": [
      {
       "output_type": "stream",
       "stream": "stdout",
       "text": [
        "Change in entropy of universe =  0.01  kJ/K\n"
       ]
      }
     ],
     "prompt_number": 8
    },
    {
     "cell_type": "heading",
     "level": 2,
     "metadata": {},
     "source": [
      "Ex8-pg197"
     ]
    },
    {
     "cell_type": "code",
     "collapsed": false,
     "input": [
      "##Part A Chapter 6 Example 8 pg no 197\n",
      "##find the work lost\n",
      "T1=1800.;##K\n",
      "T2=300.;##K\n",
      "W=2.;##MW\n",
      "Q1=5.;##MW\n",
      "Q2=Q1-W;##MW\n",
      "deltaS=(-Q1/T1+Q2/T2);##MW/K\n",
      "W_lost=T2*deltaS;##MW\n",
      "print\"%s %.2f %s\"%(\"Work lost = \",W_lost,\" MW\");\n"
     ],
     "language": "python",
     "metadata": {},
     "outputs": [
      {
       "output_type": "stream",
       "stream": "stdout",
       "text": [
        "Work lost =  2.17  MW\n"
       ]
      }
     ],
     "prompt_number": 9
    },
    {
     "cell_type": "heading",
     "level": 2,
     "metadata": {},
     "source": [
      "Ex9-pg198"
     ]
    },
    {
     "cell_type": "code",
     "collapsed": false,
     "input": [
      "##Part A Chapter 6 Example 9 pg no 198\n",
      "##find the change entropy\n",
      "import math\n",
      "import scipy\n",
      "from scipy import integrate\n",
      "T1_HE=2000.;##K\n",
      "T2_HE=300.;##K\n",
      "T1=500.;##K\n",
      "T2=300.;##K\n",
      "def fun(T):\n",
      "\ty=0.05*T**2+0.10*T+0.085\n",
      "\treturn y\n",
      "\n",
      "Q1=scipy.integrate.quad(fun,500,300);##J\n",
      "Q11=Q1[0]\n",
      "def fun(T):\n",
      "\ty=0.05*T+0.10+0.085/T\n",
      "\treturn y\n",
      "\n",
      "deltaS_system=scipy.integrate.quad(fun,500,300);##J/K\n",
      "deltaS_system1=deltaS_system[0]\n",
      "##Putting deltaS_system+deltaS_reservoir>=0\n",
      "##deltaS_reservoir=(Q1-W)/T2\n",
      "W=deltaS_system1*T2-Q11;##J\n",
      "print\"%s %.2f %s\"%(\"Maximum Work = \",W/1000,\" kJ\");\n"
     ],
     "language": "python",
     "metadata": {},
     "outputs": [
      {
       "output_type": "stream",
       "stream": "stdout",
       "text": [
        "Maximum Work =  435.34  kJ\n"
       ]
      }
     ],
     "prompt_number": 3
    },
    {
     "cell_type": "heading",
     "level": 2,
     "metadata": {},
     "source": [
      "Ex10-pg199"
     ]
    },
    {
     "cell_type": "code",
     "collapsed": false,
     "input": [
      "##Part A Chapter 6 Example 10 pg 199\n",
      "##find the entropy change\n",
      "import math\n",
      "import scipy\n",
      "from scipy import integrate\n",
      "p1=3.;##MPa\n",
      "V1=0.05;##m^3\n",
      "V2=0.3;##m^3\n",
      "p2=p1*V1**1.4/V2**1.4;##Mpa\n",
      "deltaS=0;##for reversible process\n",
      "def fun(P):\n",
      "\ty=(p1*V1**1.4/P)**(1/1.4)\n",
      "\treturn y\n",
      "\n",
      "deltaH=scipy.integrate.quad(fun,p2,p1);##MJ\n",
      "deltaH1=deltaH[0]\n",
      "print\"%s %.2f %s\"%(\"Enthalpy change = \",deltaH1*1000,\" kJ\");\n",
      "print\"%s %.f %s\"%(\"Entropy change = \",deltaS,\"\");\n"
     ],
     "language": "python",
     "metadata": {},
     "outputs": [
      {
       "output_type": "stream",
       "stream": "stdout",
       "text": [
        "Enthalpy change =  268.61  kJ\n",
        "Entropy change =  0 \n"
       ]
      }
     ],
     "prompt_number": 5
    },
    {
     "cell_type": "heading",
     "level": 2,
     "metadata": {},
     "source": [
      "Ex11-pg200"
     ]
    },
    {
     "cell_type": "code",
     "collapsed": false,
     "input": [
      "##Part A Chapter 6 Example 11 pg no 200\n",
      "##find the entropy change\n",
      "import math\n",
      "m=2.;##kg\n",
      "V1=1.;##m^3\n",
      "V2=10.;##m^3\n",
      "R=287.;##consant\n",
      "deltaS_air=m*R*math.log(V2/V1);##J/K\n",
      "print\"%s %.2f %s\"%(\"Entropy change of air = \",deltaS_air,\" J/K\");\n",
      "deltaS_surr=0;##for free expansion\n",
      "print\"%s %.2f %s\"%(\"Entropy change of surrounding = \",deltaS_surr,\"\");\n",
      "deltaS_uni=deltaS_air+deltaS_surr;##J/K\n",
      "print\"%s %.2f %s\"%(\"Entropy change of universe = \",deltaS_uni,\" J/K\");\n"
     ],
     "language": "python",
     "metadata": {},
     "outputs": [
      {
       "output_type": "stream",
       "stream": "stdout",
       "text": [
        "Entropy change of air =  1321.68  J/K\n",
        "Entropy change of surrounding =  0.00 \n",
        "Entropy change of universe =  1321.68  J/K\n"
       ]
      }
     ],
     "prompt_number": 7
    }
   ],
   "metadata": {}
  }
 ]
}