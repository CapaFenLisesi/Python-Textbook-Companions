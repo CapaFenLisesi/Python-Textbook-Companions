{
 "metadata": {
  "name": "",
  "signature": "sha256:ffcbdd079376519567b7e404113ed5b9efb867eb2301df26fce85c509d22e91c"
 },
 "nbformat": 3,
 "nbformat_minor": 0,
 "worksheets": [
  {
   "cells": [
    {
     "cell_type": "heading",
     "level": 1,
     "metadata": {},
     "source": [
      "Chapter3-Zeroth law of thermodynamics"
     ]
    },
    {
     "cell_type": "heading",
     "level": 2,
     "metadata": {},
     "source": [
      "Ex1-pg63"
     ]
    },
    {
     "cell_type": "code",
     "collapsed": false,
     "input": [
      "##Part A Chapter 3 Example 1 pg no 63\n",
      "##find the temperature in degree\n",
      "T_F=98.6;##degree F\n",
      "T_C=(T_F-32.)/1.8;##degree C\n",
      "print\"%s %.2f %s\"%(\"Temperature in degree celsius = \",T_C,\" degree C\");\n"
     ],
     "language": "python",
     "metadata": {},
     "outputs": [
      {
       "output_type": "stream",
       "stream": "stdout",
       "text": [
        "Temperature in degree celsius =  37.00  degree C\n"
       ]
      }
     ],
     "prompt_number": 2
    },
    {
     "cell_type": "heading",
     "level": 2,
     "metadata": {},
     "source": [
      "Ex2-pg63"
     ]
    },
    {
     "cell_type": "code",
     "collapsed": false,
     "input": [
      "##Part A Chapter 3 Example 2 pg no 63\n",
      "import math\n",
      "import numpy\n",
      "##find the celsius temperature\n",
      "t_ice=0.;##degree C\n",
      "p_ice=3.;##thermometric property\n",
      "t_steam=100.;##degree C\n",
      "p_steam=8.;##thermometric property\n",
      "##t=a*log(p)+b/2\n",
      "##solving by matrix multiplication for a and b\n",
      "A=numpy.matrix([[math.log(p_ice), (1/2.)],[math.log(p_steam), (1/2.)]]);\n",
      "B=numpy.matrix([[t_ice],[t_steam]]);\n",
      "X=A**-1*B;\n",
      "a=X[0];##constant\n",
      "b=abs(X[1]);##constant\n",
      "p=6.5;##thermometric property\n",
      "t=a*math.log(p)+b/2.;##degree C\n",
      "print\"%s %.2f %s\"%(\"Celsius temperature corresponding to thermometric property = \",t,\" degree C\");\n"
     ],
     "language": "python",
     "metadata": {},
     "outputs": [
      {
       "output_type": "stream",
       "stream": "stdout",
       "text": [
        "Celsius temperature corresponding to thermometric property =  302.85  degree C\n"
       ]
      }
     ],
     "prompt_number": 3
    },
    {
     "cell_type": "heading",
     "level": 2,
     "metadata": {},
     "source": [
      "Ex3-pg64"
     ]
    },
    {
     "cell_type": "code",
     "collapsed": false,
     "input": [
      "##Part A Chapter 3 Example 3 pg no 64\n",
      "##find the temperature\n",
      "t_ice=0;##degree C\n",
      "E0=0.003*t_ice-5*10**-7*t_ice**2+0.5*10**-3;##V\n",
      "t_steam=100.;##degree C\n",
      "E100=0.003*t_steam-5*10**-7*t_steam**2+0.5*10**-3;##V\n",
      "t=30.;##degree C\n",
      "E30=0.003*t-5*10**-7*t**2+0.5*10**-3;##V\n",
      "t=((E30-E0)/(E100-E0))*(t_steam-t_ice);##degree C\n",
      "print\"%s %.2f %s\"%(\"Temperature shown by thermometer = \",t,\" degree C\");\n",
      "##Answer given in the book is wrong.\n"
     ],
     "language": "python",
     "metadata": {},
     "outputs": [
      {
       "output_type": "stream",
       "stream": "stdout",
       "text": [
        "Temperature shown by thermometer =  30.36  degree C\n"
       ]
      }
     ],
     "prompt_number": 4
    }
   ],
   "metadata": {}
  }
 ]
}