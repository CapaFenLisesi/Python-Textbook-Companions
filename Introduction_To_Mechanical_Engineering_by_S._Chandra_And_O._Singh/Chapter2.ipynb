{
 "metadata": {
  "name": "",
  "signature": "sha256:9ffbaa8fae940ecf9907740966be231b7ddfc9bcd131736fdabbf32951064014"
 },
 "nbformat": 3,
 "nbformat_minor": 0,
 "worksheets": [
  {
   "cells": [
    {
     "cell_type": "heading",
     "level": 1,
     "metadata": {},
     "source": [
      "Chapter2-Ideal and real gases\n"
     ]
    },
    {
     "cell_type": "heading",
     "level": 2,
     "metadata": {},
     "source": [
      "Ex1-pg36"
     ]
    },
    {
     "cell_type": "code",
     "collapsed": false,
     "input": [
      "##Part A Chapter 2 Example 1 pg no 36\n",
      "##find the molecular weight of gas\n",
      "cp=2.286;##kJ/kgK\n",
      "cv=1.768;##kJ/kgK\n",
      "Rbar=8.3143;##universal gas constant\n",
      "R=cp-cv;##kJ/kgK\n",
      "M=Rbar/R;##kg/kg.mol.(Molecular weight)\n",
      "print\"%s %.2f %s\"%(\"Molecular weight of gas = \",M,\" kg/kg.mol.\");\n"
     ],
     "language": "python",
     "metadata": {},
     "outputs": [
      {
       "output_type": "stream",
       "stream": "stdout",
       "text": [
        "Molecular weight of gas =  16.05  kg/kg.mol.\n"
       ]
      }
     ],
     "prompt_number": 2
    }
   ],
   "metadata": {}
  }
 ]
}