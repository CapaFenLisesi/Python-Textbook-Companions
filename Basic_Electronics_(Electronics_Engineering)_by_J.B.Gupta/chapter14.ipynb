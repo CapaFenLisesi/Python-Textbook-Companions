{
 "cells": [
  {
   "cell_type": "markdown",
   "metadata": {},
   "source": [
    "#Chapter 14 , Electronics Instruments"
   ]
  },
  {
   "cell_type": "markdown",
   "metadata": {},
   "source": [
    "##Example 14.1 , Page Number 516"
   ]
  },
  {
   "cell_type": "code",
   "execution_count": 2,
   "metadata": {
    "collapsed": false
   },
   "outputs": [
    {
     "name": "stdout",
     "output_type": "stream",
     "text": [
      "Value of shunt resistance required for the instrument :  0.0500025 ohm.\n"
     ]
    }
   ],
   "source": [
    "#Variables\n",
    "\n",
    "Im = 50.0 * 10**-6                     #Full scale deflection current (in Ampere) \n",
    "Rm = 1.0 * 10**3                       #Instrument resistance (in ohm)\n",
    "I = 1.0                                #Total current to be measured (in Ampere)\n",
    "\n",
    "#Calculation\n",
    "\n",
    "RS = Rm/(1/Im - 1)                     #Resistance of ammeter shunt required (in ohm)\n",
    "\n",
    "#Result\n",
    "\n",
    "print \"Value of shunt resistance required for the instrument : \",round(RS,7),\"ohm.\""
   ]
  },
  {
   "cell_type": "markdown",
   "metadata": {},
   "source": [
    "##Example 14.2 , Page Number 518"
   ]
  },
  {
   "cell_type": "code",
   "execution_count": 4,
   "metadata": {
    "collapsed": false
   },
   "outputs": [
    {
     "name": "stdout",
     "output_type": "stream",
     "text": [
      "Required series resistance  99900.0 ohm.\n"
     ]
    }
   ],
   "source": [
    "#Variables\n",
    "\n",
    "Im = 1.0 * 10**-3                      #Full scale deflection current (in Ampere) \n",
    "Rm = 1.0 * 10**2                       #Instrument resistance (in ohm)\n",
    "V = 100.0                              #Voltage to be measured (in volts)\n",
    "\n",
    "#Calculation\n",
    "\n",
    "R = V/Im - Rm                          #Required series resistance (in ohm) \n",
    "\n",
    "#Result\n",
    "\n",
    "print \"Required series resistance \",R,\"ohm.\""
   ]
  },
  {
   "cell_type": "markdown",
   "metadata": {},
   "source": [
    "##Example 14.3 , Page Number 528"
   ]
  },
  {
   "cell_type": "code",
   "execution_count": 8,
   "metadata": {
    "collapsed": false
   },
   "outputs": [
    {
     "name": "stdout",
     "output_type": "stream",
     "text": [
      "Resolution for full scale of range 1 V : 0.001 V.\n",
      "Resolution for full scale of range 10 V :  0.01 V.\n",
      "Total possible error :  0.015 V.\n"
     ]
    }
   ],
   "source": [
    "#Variables\n",
    "\n",
    "num = 3.0                   #Number of full digits on display\n",
    "\n",
    "#Calculation\n",
    "\n",
    "R = 1/10**num               #Resolution\n",
    "V1 = 1 * R                  #Resolution for full scale of range 1 V (in volts) \n",
    "V10 = 10 * R                #Resolution for full scale of range 10 V (in volts)\n",
    "dig = 5.0 * 1/10**3         #Least significant digit\n",
    "toterror = 0.5/100 * 2 + dig #total possible error (in volts)\n",
    "\n",
    "#Result\n",
    "\n",
    "print \"Resolution for full scale of range 1 V :\",V1,\"V.\"\n",
    "print \"Resolution for full scale of range 10 V : \",V10,\"V.\"\n",
    "print \"Total possible error : \",round(toterror,3),\"V.\""
   ]
  },
  {
   "cell_type": "markdown",
   "metadata": {},
   "source": [
    "##Example 14.4 , Page Number 528"
   ]
  },
  {
   "cell_type": "code",
   "execution_count": 9,
   "metadata": {
    "collapsed": false
   },
   "outputs": [
    {
     "name": "stdout",
     "output_type": "stream",
     "text": [
      "Resolution of 1 V range is  0.0001 V.\n",
      "Any reading upto 4th decimal can be displayed.\n",
      "Hence 0.5243 will be displayed as 0.5243.\n",
      "Resolution of 10 V range is  0.001 V.\n",
      "Any reading upto 3rd decimal can be displayed.\n",
      "Hence 0.5243 will be displayed as 0.524 instead of 0.5243.\n"
     ]
    }
   ],
   "source": [
    "#Variables\n",
    "\n",
    "num = 4.0                   #Number of full digits on display\n",
    "\n",
    "#Calculation\n",
    "\n",
    "R = 1/10**num               #Resolution\n",
    "V1 = 1 * R                  #Resolution for full scale of range 1 V (in volts) \n",
    "V10 = 10 * R                #Resolution for full scale of range 10 V (in volts)\n",
    "\n",
    "#Result\n",
    "\n",
    "print \"Resolution of 1 V range is \",V1,\"V.\\nAny reading upto 4th decimal can be displayed.\\nHence 0.5243 will be displayed as 0.5243.\"\n",
    "print \"Resolution of 10 V range is \",V10,\"V.\\nAny reading upto 3rd decimal can be displayed.\\nHence 0.5243 will be displayed as 0.524 instead of 0.5243.\""
   ]
  }
 ],
 "metadata": {
  "kernelspec": {
   "display_name": "Python 2",
   "language": "python",
   "name": "python2"
  },
  "language_info": {
   "codemirror_mode": {
    "name": "ipython",
    "version": 2
   },
   "file_extension": ".py",
   "mimetype": "text/x-python",
   "name": "python",
   "nbconvert_exporter": "python",
   "pygments_lexer": "ipython2",
   "version": "2.7.10"
  }
 },
 "nbformat": 4,
 "nbformat_minor": 0
}
