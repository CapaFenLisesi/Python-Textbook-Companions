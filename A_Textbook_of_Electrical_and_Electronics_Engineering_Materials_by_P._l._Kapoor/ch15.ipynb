{
 "metadata": {
  "name": "",
  "signature": "sha256:2bfefcadaa718507ffce320b2a9e88c48f532d56e63330baf14689d9ab6650e6"
 },
 "nbformat": 3,
 "nbformat_minor": 0,
 "worksheets": [
  {
   "cells": [
    {
     "cell_type": "heading",
     "level": 1,
     "metadata": {},
     "source": [
      "Chapter 15 : Miscellaneous Solved Numerical Problems"
     ]
    },
    {
     "cell_type": "heading",
     "level": 2,
     "metadata": {},
     "source": [
      "Example 15.1  Page No : 392"
     ]
    },
    {
     "cell_type": "code",
     "collapsed": false,
     "input": [
      "\n",
      "# Variables\n",
      "R = 0.2     #total resistance of cable in ohms\n",
      "I = 200.     #current in A\n",
      "t = 100.     #time in hours\n",
      "V = 240.     #voltage in volts\n",
      "c = 0.8     #math.cost of electrical energy in Rs per unit\n",
      "\n",
      "# Calculations\n",
      "V1 = I*R     #voltage drop in the cable\n",
      "#(i)consumer voltage\n",
      "Vc = V-V1\n",
      "#(ii)Power loss in the cable\n",
      "P = I*I*R     #in watts\n",
      "E = P*t/1000     #energy loss in kWh\n",
      "C = E*c     #math.cost of energy loss in Rs.\n",
      "\n",
      "# Results\n",
      "print 'i)Consumer voltage is %3.1f Volts '%(Vc)\n",
      "print 'ii)cost of energy loss is Rs %3.2f '%(C)\n"
     ],
     "language": "python",
     "metadata": {},
     "outputs": [
      {
       "output_type": "stream",
       "stream": "stdout",
       "text": [
        "i)Consumer voltage is 200.0 Volts \n",
        "ii)cost of energy loss is Rs 640.00 \n"
       ]
      }
     ],
     "prompt_number": 1
    },
    {
     "cell_type": "heading",
     "level": 2,
     "metadata": {},
     "source": [
      "Example 15.2  Page No : 393"
     ]
    },
    {
     "cell_type": "code",
     "collapsed": false,
     "input": [
      "\n",
      "# Variables\n",
      "Vi = 220.     #voltage in volts supplied by dynamo\n",
      "Vo = 200.     #voltage in volts required for lighting\n",
      "I = 40.     #current in Amperes\n",
      "\n",
      "# Calculations\n",
      "Pi = Vi*I     #power output of dynamo\n",
      "Po = Vo*I     #power consumed for lighting\n",
      "L = Pi-Po     #line losses\n",
      "R = L/(I**2)     #resistance of lines math.since line losses = I**2*R\n",
      "t = 10     #time in hrs\n",
      "N = (Po*t)/1000     #no of units of consumed in B.O.T units\n",
      "Nw = (L*t)/1000     #No of units wasted in B.O.T units\n",
      "\n",
      "# Results\n",
      "print 'i)Resistance of lines is  %3.1f Ohms '%(R)\n",
      "print 'ii)No. of B.O.T units consumed in 10hrs is %3.2f B.O.T units'%(N)\n",
      "print 'iii)No. of B.O.T units wasted in 10hrs is %3.2f B.O.T units'%(Nw)\n"
     ],
     "language": "python",
     "metadata": {},
     "outputs": [
      {
       "output_type": "stream",
       "stream": "stdout",
       "text": [
        "i)Resistance of lines is  0.5 Ohms \n",
        "ii)No. of B.O.T units consumed in 10hrs is 80.00 B.O.T units\n",
        "iii)No. of B.O.T units wasted in 10hrs is 8.00 B.O.T units\n"
       ]
      }
     ],
     "prompt_number": 2
    },
    {
     "cell_type": "heading",
     "level": 2,
     "metadata": {},
     "source": [
      "Example 15.3  Page No : 393"
     ]
    },
    {
     "cell_type": "code",
     "collapsed": false,
     "input": [
      "\n",
      "# Variables\n",
      "M = 250000.     #weight of water lifted per hr in kg\n",
      "h = 50.     #height in metres\n",
      "g = 9.81     #gravitational const.\n",
      "WD = M*h*g     #work done by pump per hr in watt-sec\n",
      "P = WD/3600     #Power output of pump per sec in watts\n",
      "V = 500.     #supply voltage in volts\n",
      "Ep = 0.8     #efficiency of pump\n",
      "Em = 0.9     #efficiency of motor\n",
      "\n",
      "# Calculations\n",
      "E = Em*Ep     #overall efficiency\n",
      "I = P/(V*E)     #current in amperes\n",
      "\n",
      "# Results\n",
      "print 'Current drawn by the motor is %3.2f Amperes'%(I)\n"
     ],
     "language": "python",
     "metadata": {},
     "outputs": [
      {
       "output_type": "stream",
       "stream": "stdout",
       "text": [
        "Current drawn by the motor is 94.62 Amperes\n"
       ]
      }
     ],
     "prompt_number": 3
    },
    {
     "cell_type": "heading",
     "level": 2,
     "metadata": {},
     "source": [
      "Example 15.4  Page No : 394"
     ]
    },
    {
     "cell_type": "code",
     "collapsed": false,
     "input": [
      "import math\n",
      "\n",
      "# Variables\n",
      "P = 10.     #Power developed by motor in H.P\n",
      "N = 600.     #Speed of motor in rpm\n",
      "#1HP = 735.5Nw-m/sec = 75kgm/sec\n",
      "a = 75.\n",
      "b = 735.5\n",
      "\n",
      "# Calculations\n",
      "#Torque in kg-m\n",
      "Tkgm = (P*a*60)/(2*math.pi*N)     #math.since P = 2*pi*NT/60\n",
      "#Torque in Nw-m\n",
      "TNwm = (P*b*60)/(2*math.pi*N)     #math.since P = 2*pi*NT/60\n",
      "\n",
      "# Results\n",
      "print 'i)Torque in kg.meter is %3.2f kg-m '%(Tkgm)\n",
      "print 'ii)Torque in Newton.meter is %3.2f Nw-m'%(TNwm)\n"
     ],
     "language": "python",
     "metadata": {},
     "outputs": [
      {
       "output_type": "stream",
       "stream": "stdout",
       "text": [
        "i)Torque in kg.meter is 11.94 kg-m \n",
        "ii)Torque in Newton.meter is 117.06 Nw-m\n"
       ]
      }
     ],
     "prompt_number": 4
    },
    {
     "cell_type": "heading",
     "level": 2,
     "metadata": {},
     "source": [
      "Example 15.5  Page No : 395"
     ]
    },
    {
     "cell_type": "code",
     "collapsed": false,
     "input": [
      "\n",
      "# Variables\n",
      "P = 25.     #Output of diesel engine in kW\n",
      "s = 12500.     #calorific value of fuel oil in k-cal/kgm\n",
      "e = 0.35     #overall efficiency of diesel set\n",
      "P1 = P/e     #input energy required in 1 hour in kWh\n",
      "\n",
      "# Calculations\n",
      "P2 = P1*860     #input energy in kcal\n",
      "m = P2/s     #mass of oil needed per hr in kgm\n",
      "w = 1000     #weight of 1 ton of oil in kgm\n",
      "Eg = (P*w)/m     #Energy generated by 1ton of oil in kWh\n",
      "\n",
      "# Results\n",
      "print 'i)Mass of oil required per hr is %3.3f kgm '%(m)\n",
      "print 'ii)Eletrical energy generated per ton of fuel is %4.1f Kwh'%(Eg)\n"
     ],
     "language": "python",
     "metadata": {},
     "outputs": [
      {
       "output_type": "stream",
       "stream": "stdout",
       "text": [
        "i)Mass of oil required per hr is 4.914 kgm \n",
        "ii)Eletrical energy generated per ton of fuel is 5087.2 Kwh\n"
       ]
      }
     ],
     "prompt_number": 5
    },
    {
     "cell_type": "heading",
     "level": 2,
     "metadata": {},
     "source": [
      "Example 15.10  Page No : 398"
     ]
    },
    {
     "cell_type": "code",
     "collapsed": false,
     "input": [
      "import math\n",
      "\n",
      "# Variables\n",
      "rho = 1.7*(10**-6)     #resistivity of copper in ohm-cm\n",
      "l = 5     #length in metres\n",
      "t = 0.005     #thickness in m\n",
      "D = 0.08     #external diameter in m\n",
      "\n",
      "# Calculations\n",
      "d = D-(2*t)     #internal diameter in m\n",
      "a = math.pi*(D**2-d**2)/4     #cross section area in cm**2\n",
      "R = rho*l/a     #resistance of copper tube in ohm\n",
      "R1 = R/(10**-4)     #resistance in micro-ohm\n",
      "\n",
      "# Results\n",
      "print 'Thus the resistance of copper tube is %3.2f micro-ohm'%(R1)\n"
     ],
     "language": "python",
     "metadata": {},
     "outputs": [
      {
       "output_type": "stream",
       "stream": "stdout",
       "text": [
        "Thus the resistance of copper tube is 72.15 micro-ohm\n"
       ]
      }
     ],
     "prompt_number": 7
    },
    {
     "cell_type": "heading",
     "level": 2,
     "metadata": {},
     "source": [
      "Example 15.11  Page No : 399"
     ]
    },
    {
     "cell_type": "code",
     "collapsed": false,
     "input": [
      "\n",
      "# Variables\n",
      "rho = 1.7*(10**-8)     #resistivity in ohm-m\n",
      "K = 1/rho     #conductivity in mho/m\n",
      "\n",
      "# Calculations\n",
      "a = 0.125*(10**-4)     #cross sectional area of cable in m**2\n",
      "l = 2000.     #length of cable in meters\n",
      "G = K*a/l     #conducmath.tance\n",
      "\n",
      "# Results\n",
      "print 'Thus conductivity of cable is %e mho/metres '%(K)\n",
      "print 'and conducmath.tance of cable is %3f mho'%(G)\n"
     ],
     "language": "python",
     "metadata": {},
     "outputs": [
      {
       "output_type": "stream",
       "stream": "stdout",
       "text": [
        "Thus conductivity of cable is 5.882353e+07 mho/metres \n",
        "and conducmath.tance of cable is 0.367647 mho\n"
       ]
      }
     ],
     "prompt_number": 8
    },
    {
     "cell_type": "heading",
     "level": 2,
     "metadata": {},
     "source": [
      "Example 15.12  Page No : 399"
     ]
    },
    {
     "cell_type": "code",
     "collapsed": false,
     "input": [
      "\n",
      "# Variables\n",
      "V = 0.05     #volume in m**3\n",
      "l = 300     #length in m\n",
      "R = 0.0306     #resistance of conductor in ohm\n",
      "\n",
      "# Calculations\n",
      "rho = R*V/(l**2)     #resistivity of conducting material\n",
      "\n",
      "# Results\n",
      "print 'Thus resistivity of conducting material is %e ohm-m'%(rho)\n"
     ],
     "language": "python",
     "metadata": {},
     "outputs": [
      {
       "output_type": "stream",
       "stream": "stdout",
       "text": [
        "Thus resistivity of conducting material is 1.700000e-08 ohm-m\n"
       ]
      }
     ],
     "prompt_number": 9
    },
    {
     "cell_type": "heading",
     "level": 2,
     "metadata": {},
     "source": [
      "Example 15.13  Page No : 399"
     ]
    },
    {
     "cell_type": "code",
     "collapsed": false,
     "input": [
      "\n",
      "# Variables\n",
      "rho = 0.67*(10**-6)     #resistivity in ohm-inch\n",
      "m = 39.4     #1meter  =  39.4inch\n",
      "m2 = 1525.     #1 meter2 = 1525 square inch\n",
      "\n",
      "# Calculations\n",
      "rhoc = rho*m/m2     #resistivity of copper in ohm/m**3\n",
      "rho1 = rhoc/(10**-6)\n",
      "\n",
      "# Results\n",
      "print 'Thus resistivity of copper is %e ohm/m**3'%(rhoc)\n",
      "print 'which is equal to %2.4f micro-ohm/m**3'%(rho1)\n"
     ],
     "language": "python",
     "metadata": {},
     "outputs": [
      {
       "output_type": "stream",
       "stream": "stdout",
       "text": [
        "Thus resistivity of copper is 1.731016e-08 ohm/m**3\n",
        "which is equal to 0.0173 micro-ohm/m**3\n"
       ]
      }
     ],
     "prompt_number": 10
    },
    {
     "cell_type": "heading",
     "level": 2,
     "metadata": {},
     "source": [
      "Example 15.14  Page No : 400"
     ]
    },
    {
     "cell_type": "code",
     "collapsed": false,
     "input": [
      "import math\n",
      "\n",
      "# Variables\n",
      "R1 = 0.12     #old conductor resistance in ohm\n",
      "d1 = 15.     #diameter of old conductor in cm\n",
      "d2 = 0.4*d1     #diameter of new conductor in cm\n",
      "\n",
      "# Calculations\n",
      "a1 = math.pi*(d1**2)/4     #area of cross section of old conductor\n",
      "a2 = math.pi*(d2**2)/4     #area of cross section of new conductor\n",
      "#R = rho*l/a = rho*V/a**2\n",
      "#Henec R is proportional to 1/a**2\n",
      "R2 = R1*((a1/a2)**2)     #resistance of new conductor\n",
      "\n",
      "# Results\n",
      "print 'Thus resistance of new conductor is %2.4f ohm'%(R2)\n"
     ],
     "language": "python",
     "metadata": {},
     "outputs": [
      {
       "output_type": "stream",
       "stream": "stdout",
       "text": [
        "Thus resistance of new conductor is 4.6875 ohm\n"
       ]
      }
     ],
     "prompt_number": 11
    },
    {
     "cell_type": "heading",
     "level": 2,
     "metadata": {},
     "source": [
      "Example 15.15  Page No : 401"
     ]
    },
    {
     "cell_type": "code",
     "collapsed": false,
     "input": [
      "\n",
      "# Variables\n",
      "lab = 10.     #la = 10*lb ratio of length of A to length of B.\n",
      "Aab = 1./2     #Aa = 1/2*Ab ratio of area of A to area of B\n",
      "RHOab = 1./2     #RHOa = 2*RHOb ratio of resistivity of A to resistivity of B\n",
      "Ra = 2.     #resistance of A in ohm\n",
      "\n",
      "# Calculations\n",
      "Rb = (Ra*Aab)/(lab*RHOab)     #resistance of B in ohm\n",
      "#Since Ra = RHOa*la/Aa and Rb = RHOb*lb/Ab so from ratio of two we get Rb\n",
      "\n",
      "# Results\n",
      "print 'Thus resistance of resistor B is %2.2f ohm'%(Rb)\n"
     ],
     "language": "python",
     "metadata": {},
     "outputs": [
      {
       "output_type": "stream",
       "stream": "stdout",
       "text": [
        "Thus resistance of resistor B is 0.20 ohm\n"
       ]
      }
     ],
     "prompt_number": 12
    },
    {
     "cell_type": "heading",
     "level": 2,
     "metadata": {},
     "source": [
      "Example 15.16  Page No : 402"
     ]
    },
    {
     "cell_type": "code",
     "collapsed": false,
     "input": [
      "import math\n",
      "\n",
      "# Variables\n",
      "RHOo = 10.3*(10**-6)     #resistivity of platinum wire at 0 degree in ohm-cm\n",
      "d = 0.0074     #diameter of platinum wire\n",
      "a = math.pi*(d**2)/4     #area of cross section of platinum wire in sq cm\n",
      "Ro = 4.     #resistance of wire in ohm\n",
      "\n",
      "# Calculations\n",
      "l = Ro*a/RHOo     #length of wire in cm\n",
      "alphao = 0.0038\n",
      "t = 100     #temp in degree C\n",
      "R100 = Ro*(1+(alphao*t))\n",
      "\n",
      "# Results\n",
      "print 'Thus length of wire required is %3.2f cms'%(l)\n",
      "print 'and Resistance of wire at 100 degreeC is %2.2f ohms'%(R100)\n"
     ],
     "language": "python",
     "metadata": {},
     "outputs": [
      {
       "output_type": "stream",
       "stream": "stdout",
       "text": [
        "Thus length of wire required is 16.70 cms\n",
        "and Resistance of wire at 100 degreeC is 5.52 ohms\n"
       ]
      }
     ],
     "prompt_number": 13
    },
    {
     "cell_type": "heading",
     "level": 2,
     "metadata": {},
     "source": [
      "Example 15.17  Page No : 403"
     ]
    },
    {
     "cell_type": "code",
     "collapsed": false,
     "input": [
      "\n",
      "# Variables\n",
      "Ra = 1.     #resistance of A in ohm\n",
      "lab = 20.     #ratio of length of A to length of B\n",
      "Aab = 1./3     #ratio of area of A to area of B\n",
      "\n",
      "# Calculations\n",
      "#resistivity is same for both wires\n",
      "Rb = Ra*(Aab/lab)     #resistance of wire B in ohm\n",
      "#math.since Ra = rho*la/Aa and Rb = rho*lb/Ab so from ratio of both we get Rb\n",
      "\n",
      "# Results\n",
      "print 'Thus resistance of wire B is %2.4f omhs'%(Rb)\n"
     ],
     "language": "python",
     "metadata": {},
     "outputs": [
      {
       "output_type": "stream",
       "stream": "stdout",
       "text": [
        "Thus resistance of wire B is 0.0167 omhs\n"
       ]
      }
     ],
     "prompt_number": 14
    },
    {
     "cell_type": "heading",
     "level": 2,
     "metadata": {},
     "source": [
      "Example 15.19  Page No : 405"
     ]
    },
    {
     "cell_type": "code",
     "collapsed": false,
     "input": [
      "\n",
      "# Variables\n",
      "I1 = 2./(2+3)     #current across 2V battery in circuit EBD in A\n",
      "Vbe = 3*I1     #voltage dropp across BE in V\n",
      "I2 = 4./(5+3)     #current across 4V battery in circuit AFC in A\n",
      "\n",
      "# Calculations\n",
      "Vaf = 3*I2     #voltage dropp across AF in V\n",
      "V = Vbe+4-Vaf     #sum of potential drops starting from E and ending at F\n",
      "\n",
      "# Results\n",
      "#V is the P.D. between E and F\n",
      "print 'Thus the P.D. between E and F is %2.1f Volts'%(V)\n"
     ],
     "language": "python",
     "metadata": {},
     "outputs": [
      {
       "output_type": "stream",
       "stream": "stdout",
       "text": [
        "Thus the P.D. between E and F is 3.7 Volts\n"
       ]
      }
     ],
     "prompt_number": 15
    },
    {
     "cell_type": "heading",
     "level": 2,
     "metadata": {},
     "source": [
      "Example 15.20  Page No : 405"
     ]
    },
    {
     "cell_type": "code",
     "collapsed": false,
     "input": [
      "\n",
      "# Calculations\n",
      "#Let current in XA = I, in XY = I1, in AY = I-40, in YB = I-40+I1-60, in BX = I+I1-150.\n",
      "#By Kirchhoff's second law, in circuit XAYA I-I1 = 20\n",
      "# and in circuit XAYBX 25I+15I1 = 1950\n",
      "I1 = (1950-500.)/(15.+25)     #in Amperes\n",
      "\n",
      "# Results\n",
      "print 'Thus the current in branch XY is I1 = %2.2f Amps'%(I1)\n"
     ],
     "language": "python",
     "metadata": {},
     "outputs": [
      {
       "output_type": "stream",
       "stream": "stdout",
       "text": [
        "Thus the current in branch XY is I1 = 36.25 Amps\n"
       ]
      }
     ],
     "prompt_number": 16
    },
    {
     "cell_type": "heading",
     "level": 2,
     "metadata": {},
     "source": [
      "Example 15.21  Page No : 407"
     ]
    },
    {
     "cell_type": "code",
     "collapsed": false,
     "input": [
      "\n",
      "# Variables\n",
      "A = 30.     #area of hysteresis material in cm**2\n",
      "s1 = 0.4     #scale is 1cm = 0.4Wb/m**2\n",
      "s2 = 400.     # and 1cm = 400AT/m\n",
      "\n",
      "# Calculations\n",
      "V = 1.2*(10**-3)\n",
      "f = 50     #frequency in Hz\n",
      "H = A*s1*s2     #hysteresis loss/m**3/cycle in joules\n",
      "Hp = H*V*f     #hysteresis power loss in Watts\n",
      "\n",
      "# Results\n",
      "print 'Thus hysteresis power loss is %3.2f Watts'%(Hp)\n"
     ],
     "language": "python",
     "metadata": {},
     "outputs": [
      {
       "output_type": "stream",
       "stream": "stdout",
       "text": [
        "Thus hysteresis power loss is 288.00 Watts\n"
       ]
      }
     ],
     "prompt_number": 17
    },
    {
     "cell_type": "heading",
     "level": 2,
     "metadata": {},
     "source": [
      "Example 15.22  Page No : 407"
     ]
    },
    {
     "cell_type": "code",
     "collapsed": false,
     "input": [
      "\n",
      "# Variables\n",
      "d = 7500.     #density of iron in kg/m**3\n",
      "w = 12.     #weight of iron in kgm\n",
      "\n",
      "# Calculations\n",
      "V = w/d     #volume of iron in m**3\n",
      "f = 25.     #frequency in Hz\n",
      "N = 3600.*f     #number of cycle per hour\n",
      "A = 300     #area in joules/m**3\n",
      "E = A*V*N     #Total energy loss per hour in joules\n",
      "\n",
      "# Results\n",
      "print 'Thus total energy loss per hour is %5.2f Joules'%(E)\n"
     ],
     "language": "python",
     "metadata": {},
     "outputs": [
      {
       "output_type": "stream",
       "stream": "stdout",
       "text": [
        "Thus total energy loss per hour is 43200.00 Joules\n"
       ]
      }
     ],
     "prompt_number": 18
    },
    {
     "cell_type": "heading",
     "level": 2,
     "metadata": {},
     "source": [
      "Example 15.23  Page No : 407"
     ]
    },
    {
     "cell_type": "code",
     "collapsed": false,
     "input": [
      "\n",
      "# Variables\n",
      "l = 0.5     #length of coil in meters\n",
      "d = 0.1     #diameter of coil\n",
      "N = 1500.     #no of turns of coil\n",
      "\n",
      "# Calculations\n",
      "a = math.pi*(d**2)/4     #cross sectional area of coil in m**2\n",
      "Ur = 1     #relative permeability\n",
      "Uo = 4*math.pi*(10**-7)     #permeability\n",
      "I = 8     #current in A\n",
      "L = ((N**2)*a*Uo*Ur)/l     #self inducmath.tance of coil in H\n",
      "E = (1./2)*L*(I**2)     #Energy stored in Joules\n",
      "\n",
      "# Results\n",
      "print 'Thus Self Inducmath.tance of coil is %2.3f H'%(L)\n",
      "print 'and Energy stored is %1.2f Joules'%(E)\n"
     ],
     "language": "python",
     "metadata": {},
     "outputs": [
      {
       "output_type": "stream",
       "stream": "stdout",
       "text": [
        "Thus Self Inducmath.tance of coil is 0.044 H\n",
        "and Energy stored is 1.42 Joules\n"
       ]
      }
     ],
     "prompt_number": 19
    },
    {
     "cell_type": "heading",
     "level": 2,
     "metadata": {},
     "source": [
      "Example 15.24  Page No : 408"
     ]
    },
    {
     "cell_type": "code",
     "collapsed": false,
     "input": [
      "\n",
      "# Variables\n",
      "N = 600.     #number of turns on the coil\n",
      "I = 2.     #current pasmath.sing through solenoid in A\n",
      "l = 0.6     #length of solenoid in meter\n",
      "H = N*I/l     #magnetic field at the centre in AT/m\n",
      "Ur = 1.     #relative permeability\n",
      "\n",
      "# Calculations\n",
      "Uo = 4*math.pi*(10**-7)     #permeability\n",
      "d = 0.025     #diameter in meters\n",
      "a = math.pi*(d**2)/4     #cross sectional area of coil in m**2\n",
      "phi = Uo*Ur*H*a     #flux in Wb\n",
      "\n",
      "# Results\n",
      "print 'Thus Magenetic field at centre is %3.2f AT/m'%(H)\n",
      "print ' and Flux is %e Wb'%(phi)\n"
     ],
     "language": "python",
     "metadata": {},
     "outputs": [
      {
       "output_type": "stream",
       "stream": "stdout",
       "text": [
        "Thus Magenetic field at centre is 2000.00 AT/m\n",
        " and Flux is 1.233701e-06 Wb\n"
       ]
      }
     ],
     "prompt_number": 20
    },
    {
     "cell_type": "heading",
     "level": 2,
     "metadata": {},
     "source": [
      "Example 15.25  Page No : 408"
     ]
    },
    {
     "cell_type": "code",
     "collapsed": false,
     "input": [
      "\n",
      "# Variables\n",
      "Ur = 1.     #relative permeability\n",
      "B = 1.257     #flux density in Wb/m**2\n",
      "\n",
      "# Calculations\n",
      "Uo = 4*math.pi*(10**-7)     #permeability\n",
      "H = B/(Uo*Ur)     #magnetimath.sing force in AT/m\n",
      "l = 0.004     #length of air gap in meter\n",
      "AT = H*l     #AT required for the air gap\n",
      "\n",
      "# Results\n",
      "print 'Thus AT required for the air gap is %3.1f '%(AT)\n"
     ],
     "language": "python",
     "metadata": {},
     "outputs": [
      {
       "output_type": "stream",
       "stream": "stdout",
       "text": [
        "Thus AT required for the air gap is 4001.2 \n"
       ]
      }
     ],
     "prompt_number": 21
    },
    {
     "cell_type": "heading",
     "level": 2,
     "metadata": {},
     "source": [
      "Example 15.26  Page No : 409"
     ]
    },
    {
     "cell_type": "code",
     "collapsed": false,
     "input": [
      "\n",
      "# Variables\n",
      "D = 0.3     #diameter of anchor ring in m\n",
      "l = math.pi*D     #length of iron ring in m\n",
      "N = 400.     #number of turns on the iron ring\n",
      "a = 0.0012     #area of cross section of iron path in m**2\n",
      "Ur = 1000.     #relative permeability\n",
      "\n",
      "# Calculations\n",
      "Uo = 4*math.pi*(10**-7)     #permeability\n",
      "I = 2     #current in A\n",
      "phi = (N*I)/(l/(Uo*Ur*a))     #flux through iron path in WB\n",
      "phi1 = phi/(10**-3)     #flux in mWb\n",
      "\n",
      "# Results\n",
      "print 'Thus flux through iron path is %2.2f mWb'%(phi1)\n"
     ],
     "language": "python",
     "metadata": {},
     "outputs": [
      {
       "output_type": "stream",
       "stream": "stdout",
       "text": [
        "Thus flux through iron path is 1.28 mWb\n"
       ]
      }
     ],
     "prompt_number": 22
    },
    {
     "cell_type": "heading",
     "level": 2,
     "metadata": {},
     "source": [
      "Example 15.27  Page No : 409"
     ]
    },
    {
     "cell_type": "code",
     "collapsed": false,
     "input": [
      "\n",
      "# Variables\n",
      "a = 0.01     #crosssectional area of ring in m**2\n",
      "Uo = 4*(math.pi)*(10**-7)     #absolute permeability\n",
      "lf = 1.25     #leakage factor\n",
      "Ur = 400.     #permeability\n",
      "N = 175.     #no of turns\n",
      "\n",
      "# Calculations\n",
      "phig = 0.8*(10**-3)     #flux through air gap in Wb\n",
      "Bg = phig/a     #Flux density in air gap in Wb/m**2\n",
      "Hg = Bg/Uo     #magnetimath.sing force in air gap in AT/m\n",
      "Lg = 0.004     #length of air gap in m\n",
      "ATg = Hg*Lg     #AT required for air gap in AT\n",
      "phii = phig*lf     #flux through iron path in Wb\n",
      "Bi = phii/a     #Flux density in iron path in Wb/m**2\n",
      "Hi = Bi/(Uo*Ur)     #magnetimath.sing force in iron path in AT/m\n",
      "Li = 1.5     #length of iron path in m\n",
      "ATi = Hi*Li     #At required for iron path in AT\n",
      "AT = ATi+ATg     #total AT required \n",
      "I = ATg/N     #Magnetimath.sing current required in A\n",
      "\n",
      "# Results\n",
      "print 'Thus the magnetimath.sing current required is %2.2f Amps'%(I)\n"
     ],
     "language": "python",
     "metadata": {},
     "outputs": [
      {
       "output_type": "stream",
       "stream": "stdout",
       "text": [
        "Thus the magnetimath.sing current required is 1.46 Amps\n"
       ]
      }
     ],
     "prompt_number": 23
    },
    {
     "cell_type": "heading",
     "level": 2,
     "metadata": {},
     "source": [
      "Example 15.28  Page No : 411"
     ]
    },
    {
     "cell_type": "code",
     "collapsed": false,
     "input": [
      "\n",
      "# Variables\n",
      "SI = 0.2     #steady current in A\n",
      "t = 0.2     #time in sec\n",
      "Q = SI*t     #charge given to condenser in Coulomb\n",
      "V = 220.     #PD across condenser in Volts\n",
      "\n",
      "# Calculations\n",
      "C = Q/V     #Capacitance of condenser in F\n",
      "C1 = C*(10**6)     #Capacitance in mircoF\n",
      "\n",
      "# Results\n",
      "print 'Thus the Charge of condenser is %2.2f Coulomb'%(Q)\n",
      "print 'And the Capacitance of condenser is %3.2f microF'%(C1)\n"
     ],
     "language": "python",
     "metadata": {},
     "outputs": [
      {
       "output_type": "stream",
       "stream": "stdout",
       "text": [
        "Thus the Charge of condenser is 0.04 Coulomb\n",
        "And the Capacitance of condenser is 181.82 microF\n"
       ]
      }
     ],
     "prompt_number": 24
    },
    {
     "cell_type": "heading",
     "level": 2,
     "metadata": {},
     "source": [
      "Example 15.29  Page No : 411"
     ]
    },
    {
     "cell_type": "code",
     "collapsed": false,
     "input": [
      "\n",
      "# Variables\n",
      "C = 2*(10**-6)     #capacitance of condenser in F\n",
      "V = 10000     #PD across condenser in Volts\n",
      "\n",
      "# Calculations\n",
      "E = (1./2)*C*(V**2)     #energy stored in condenser in Joules\n",
      "H = E/4.2     #heat produced in the wire in calories\n",
      "\n",
      "# Results\n",
      "print 'Thus heat produced in the wire is %2.2f calories'%(H)\n"
     ],
     "language": "python",
     "metadata": {},
     "outputs": [
      {
       "output_type": "stream",
       "stream": "stdout",
       "text": [
        "Thus heat produced in the wire is 23.81 calories\n"
       ]
      }
     ],
     "prompt_number": 25
    },
    {
     "cell_type": "heading",
     "level": 2,
     "metadata": {},
     "source": [
      "Example 15.30  Page No : 411"
     ]
    },
    {
     "cell_type": "code",
     "collapsed": false,
     "input": [
      "\n",
      "# Variables\n",
      "V = 15*(10**3)     #potential difference applied in V\n",
      "A = 0.02     #surface area of plate in m**2\n",
      "d = 0.001     #dismath.tance between plates in m\n",
      "C = 4.5*(10**-10)     #Capacitance of capacitor in F\n",
      "Ko = 8.854*(10**-12)     #consmath.tant\n",
      "\n",
      "# Calculations\n",
      "K = (C*d)/(Ko*A)     #dielectric consmath.tant\n",
      "q = C*V     #charge on condenser in C\n",
      "D = q/A     #Electric flux density in C/m**2\n",
      "\n",
      "# Results\n",
      "print 'Thus the Charge of condenser is %e Coulomb'%(q)\n",
      "print 'And the electric flux density of condenser is %e microF'%(D)\n"
     ],
     "language": "python",
     "metadata": {},
     "outputs": [
      {
       "output_type": "stream",
       "stream": "stdout",
       "text": [
        "Thus the Charge of condenser is 6.750000e-06 Coulomb\n",
        "And the electric flux density of condenser is 3.375000e-04 microF\n"
       ]
      }
     ],
     "prompt_number": 26
    },
    {
     "cell_type": "heading",
     "level": 2,
     "metadata": {},
     "source": [
      "Example 15.31  Page No : 412"
     ]
    },
    {
     "cell_type": "code",
     "collapsed": false,
     "input": [
      "\n",
      "# Variables\n",
      "m = 0.6     #mass of water in kgm\n",
      "S = 4200.     #specific heat of water\n",
      "T1 = 100.     #temperature in degreeC\n",
      "T2 = 10.     #temperature in degreeC\n",
      "t = 5*60.     #time in sec\n",
      "V = 230.     #Supply voltage in Volts\n",
      "\n",
      "# Calculations\n",
      "H = m*S*(T1-T2)     #Heat required to raise the temp of water from 0 to 100 degree. in J\n",
      "e = 0.78     #efficiency of kettle\n",
      "Ei = H/e     #Energy input in Joules\n",
      "Ei1 = Ei/(100*3600)     #Energy input in kWh\n",
      "W = Ei/t     #Rating of kettle in watts\n",
      "R = (V*V)/W     #Resistance of heating element in ohms\n",
      "\n",
      "# Results\n",
      "print 'Thus Resistance of heating element is %2.1f ohms'%(R)\n"
     ],
     "language": "python",
     "metadata": {},
     "outputs": [
      {
       "output_type": "stream",
       "stream": "stdout",
       "text": [
        "Thus Resistance of heating element is 54.6 ohms\n"
       ]
      }
     ],
     "prompt_number": 27
    },
    {
     "cell_type": "heading",
     "level": 2,
     "metadata": {},
     "source": [
      "Example 15.32  Page No : 413"
     ]
    },
    {
     "cell_type": "code",
     "collapsed": false,
     "input": [
      "\n",
      "# Variables\n",
      "m1 = 120.     #mass of water to be heated in kg\n",
      "m2 = 20.     #mass of copper math.tank in kg\n",
      "S1 = 1.     #specific heat of water\n",
      "S2 = 0.095     #specific heat of copper\n",
      "T1 = 10.     #temp in degreeC\n",
      "T2 = 60.     #temp in degreeC\n",
      "\n",
      "# Calculations\n",
      "H = (m1*S1*(T2-T1))+(m2*S2*(T2-T1))     #heat required to raise the temp of water  and math.tank in kcal\n",
      "H1 = H*4200     #heat required in Joules\n",
      "e = 0.8     #thermal efficiency\n",
      "E = H1/e     #Energy input in joules\n",
      "E1 = E/(1000*3600)     #energy input in kWh\n",
      "r = 3     #rating of heater in kW\n",
      "t = E1/r     #time taken in hours\n",
      "\n",
      "# Results\n",
      "print 'Thus the time taken to raise the temp is %2.3f hours'%(t)\n"
     ],
     "language": "python",
     "metadata": {},
     "outputs": [
      {
       "output_type": "stream",
       "stream": "stdout",
       "text": [
        "Thus the time taken to raise the temp is 2.963 hours\n"
       ]
      }
     ],
     "prompt_number": 28
    },
    {
     "cell_type": "heading",
     "level": 2,
     "metadata": {},
     "source": [
      "Example 15.33  Page No : 414"
     ]
    },
    {
     "cell_type": "code",
     "collapsed": false,
     "input": [
      "import math\n",
      "\n",
      "# Variables\n",
      "rho = 5*(10**-5)     #specific resistance for steel in ohm-cm\n",
      "U = 1.     #relative permeability\n",
      "d = 0.15     #depth of penetration in cm\n",
      "\n",
      "# Calculations\n",
      "f = (rho*(10**9))/(U*d*d*4*(math.pi**2))     #frequency required in cycles per sec\n",
      "f1 = f/1000     #frquency in k.cycles/sec\n",
      "\n",
      "# Results\n",
      "print 'Thus the frequency required is %3.3f k.cycles/sec'%(f1)\n"
     ],
     "language": "python",
     "metadata": {},
     "outputs": [
      {
       "output_type": "stream",
       "stream": "stdout",
       "text": [
        "Thus the frequency required is 56.290 k.cycles/sec\n"
       ]
      }
     ],
     "prompt_number": 29
    },
    {
     "cell_type": "heading",
     "level": 2,
     "metadata": {},
     "source": [
      "Example 15.34  Page No : 414"
     ]
    },
    {
     "cell_type": "code",
     "collapsed": false,
     "input": [
      "import math\n",
      "\n",
      "# Variables\n",
      "v = 50.*20*2     #Volume of board to be heated in cm**3\n",
      "Mw = 0.56     #weight of wood in gm/cm**3\n",
      "m = Mw*v/1000     #mass of wood in kgm\n",
      "S = 0.35     #specific heat of wood\n",
      "t = 15./60     #time in hrs\n",
      "f = 30*(10**6)     #frequency in cycles/sec\n",
      "t2 = 150.;t1 = 30.     #temp in degreeC\n",
      "H = m*S*(t2-t1)     #heat required to raise the temp in kcal\n",
      "Hw = H*1000/860     #heat required in kW\n",
      "\n",
      "# Calculations\n",
      "P = Hw/t     #power required in Watts\n",
      "e = 0.5     #efficiency of dielectric heating process\n",
      "Pi = P/e     #power input required in Watts\n",
      "Ko = 8.854*(10**-12)     #absolute permittivity\n",
      "K = 5     #relative permittivity\n",
      "A = 0.5*0.2     #area in m\n",
      "i = 0.02\n",
      "C = Ko*K*A/i     #capacitance of parallel plate capacitor in F\n",
      "Xc = 1/(2*math.pi*f*C)     #capacitive reacmath.tance in ohms\n",
      "cosx = 0.05\n",
      "tanx = 19.97\n",
      "R = Xc*tanx     #resistance\n",
      "V = math.sqrt(Pi*R)     #voltage in volts\n",
      "Ic = V/Xc     #current through the board in Amps\n",
      "\n",
      "# Results\n",
      "print 'Thus the power required is %2.1f Watts'%(Pi)\n",
      "print 'And Voltage across the board is %3.2f volts'%(V)\n",
      "print 'And the current through the board is %2.3f Amps'%(Ic)\n"
     ],
     "language": "python",
     "metadata": {},
     "outputs": [
      {
       "output_type": "stream",
       "stream": "stdout",
       "text": [
        "Thus the power required is 437.6 Watts\n",
        "And Voltage across the board is 457.64 volts\n",
        "And the current through the board is 19.095 Amps\n"
       ]
      }
     ],
     "prompt_number": 30
    },
    {
     "cell_type": "heading",
     "level": 2,
     "metadata": {},
     "source": [
      "Example 15.35  Page No : 416"
     ]
    },
    {
     "cell_type": "code",
     "collapsed": false,
     "input": [
      "\n",
      "# Variables\n",
      "m = 2.     #quantity of aluminium to be melted in kg\n",
      "t1 = 15.\n",
      "t2 = 660.     #temp in degreeC\n",
      "S = 0.212     #specific heat of aluminium\n",
      "L = 78.8     #latent heat of aluminium in kcal/kg\n",
      "\n",
      "# Calculations\n",
      "H = (m*S*(t2-t1))+(m*L)     #total heat required to melt Al in kcal\n",
      "i = 5     #input to furnace in kW\n",
      "E = i*(1000*10*60)     #Energy input to furnace in watt-sec\n",
      "E1 = E/4180     #energy input in kcal\n",
      "e = H*100/E1     #efficiency of furnace\n",
      "\n",
      "# Results\n",
      "print 'Thus the efficiency of furnace is %2.3f percent'%(e)\n"
     ],
     "language": "python",
     "metadata": {},
     "outputs": [
      {
       "output_type": "stream",
       "stream": "stdout",
       "text": [
        "Thus the efficiency of furnace is 60.123 percent\n"
       ]
      }
     ],
     "prompt_number": 31
    },
    {
     "cell_type": "heading",
     "level": 2,
     "metadata": {},
     "source": [
      "Example 15.36  Page No : 417"
     ]
    },
    {
     "cell_type": "code",
     "collapsed": false,
     "input": [
      "\n",
      "# Variables\n",
      "O = 5*735.5     #output of motor in W\n",
      "e = 0.85     #efficiency of motor\n",
      "c = 2.     #math.cost of energy per unit in Rs\n",
      "\n",
      "# Calculations\n",
      "I = O/e     #input of motor in Watts\n",
      "t = 4     #time in hrs\n",
      "E = I*t/1000     #energy consumed in kWh\n",
      "C = c*E     #math.cost of umath.sing the motor in Rs\n",
      "\n",
      "# Results\n",
      "print 'Thus the math.cost of umath.sing the motor is %2.3f Rs'%(C)\n"
     ],
     "language": "python",
     "metadata": {},
     "outputs": [
      {
       "output_type": "stream",
       "stream": "stdout",
       "text": [
        "Thus the math.cost of umath.sing the motor is 34.612 Rs\n"
       ]
      }
     ],
     "prompt_number": 32
    },
    {
     "cell_type": "heading",
     "level": 2,
     "metadata": {},
     "source": [
      "Example 15.37  Page No : 417"
     ]
    },
    {
     "cell_type": "code",
     "collapsed": false,
     "input": [
      "\n",
      "# Variables\n",
      "I = 2.5*(10**-3)     #current in Amp\n",
      "t = 30*(10**-3)     #time in sec\n",
      "Q = I*t     #charge pasmath.sing through the person in Coulumbs\n",
      "\n",
      "# Calculations\n",
      "e = 1.602*(10**-19)     #charge of 1 electron in C\n",
      "N = Q/e     #no of electrons pasmath.sing through the person \n",
      "\n",
      "# Results\n",
      "print 'Thus the no of electrons pasmath.sing through the person is %e electrons'%(N)\n"
     ],
     "language": "python",
     "metadata": {},
     "outputs": [
      {
       "output_type": "stream",
       "stream": "stdout",
       "text": [
        "Thus the no of electrons pasmath.sing through the person is 4.681648e+14 electrons\n"
       ]
      }
     ],
     "prompt_number": 33
    },
    {
     "cell_type": "heading",
     "level": 2,
     "metadata": {},
     "source": [
      "Example 15.38  Page No : 417"
     ]
    },
    {
     "cell_type": "code",
     "collapsed": false,
     "input": [
      "\n",
      "# Variables\n",
      "#(a)Finding resistance between 2 ends\n",
      "l = 1     #length in m\n",
      "a = 2.5*(10**-2)*0.05*(10**-2)     #area of cross section in m**2\n",
      "rho = 1.724*(10**-8)     #specific resistance of copper in ohm-m\n",
      "\n",
      "\n",
      "# Calculations\n",
      "R = rho*l/a     #resistance of the strip in ohm\n",
      "#(b) Finding resistance between 2 faces\n",
      "l1 = 0.05*(10**-2)     #length in m\n",
      "a1 = 2.5*(10**-2)*1     #area of cross section in m**2\n",
      "R1 = rho*l1/a1     #resistance in ohm\n",
      "\n",
      "# Results\n",
      "print 'Thus the resistance of the strip is %e ohms '%(R)\n",
      "print 'And the resistance between the faces is %e ohms'%(R1)\n"
     ],
     "language": "python",
     "metadata": {},
     "outputs": [
      {
       "output_type": "stream",
       "stream": "stdout",
       "text": [
        "Thus the resistance of the strip is 1.379200e-03 ohms \n",
        "And the resistance between the faces is 3.448000e-10 ohms\n"
       ]
      }
     ],
     "prompt_number": 34
    },
    {
     "cell_type": "heading",
     "level": 2,
     "metadata": {},
     "source": [
      "Example 15.39  Page No : 418"
     ]
    },
    {
     "cell_type": "code",
     "collapsed": false,
     "input": [
      "\n",
      "# Variables\n",
      "m = 2.     #weight of water to be heated in kg\n",
      "t2 = 98.\n",
      "t1 = 15.     #temp in degreeC\n",
      "s = 1.     #specific heat of water\n",
      "V = 200.     #voltage in volts\n",
      "\n",
      "# Calculations\n",
      "H = m*s*(t2-t1)     #energy required to raise the temp of water in kcal\n",
      "H1 = H*4200     #energy in Watt-sec or Joules\n",
      "e = 0.85     #efficiency of kettle\n",
      "E = H1/e     #energy input required in watt-sec\n",
      "E1 = E/(1000*3600)     #energy input in kWh\n",
      "c = 35.     #math.cost per unit in paise\n",
      "C = c*E1     #ocst of energy used in paise\n",
      "t = 10./60     #time in hrs\n",
      "W = E1*1000/t     #wattage of kettle in watts\n",
      "R = V*V/W     #resistance of heating element in ohms\n",
      "\n",
      "# Results\n",
      "print 'Thus the resistance of heating element is %2.0f ohms'%(R)\n",
      "print 'And the math.cost of energy used is %2.0f paisa'%(C)\n"
     ],
     "language": "python",
     "metadata": {},
     "outputs": [
      {
       "output_type": "stream",
       "stream": "stdout",
       "text": [
        "Thus the resistance of heating element is 29 ohms\n",
        "And the math.cost of energy used is  8 paisa\n"
       ]
      }
     ],
     "prompt_number": 35
    },
    {
     "cell_type": "heading",
     "level": 2,
     "metadata": {},
     "source": [
      "Example 15.40  Page No : 418"
     ]
    },
    {
     "cell_type": "code",
     "collapsed": false,
     "input": [
      "import math\n",
      "\n",
      "# Variables\n",
      "phi = 70000./(10**8)     #flux to be set up in Wb math.since 10**8lines  = 1Wb\n",
      "d = 0.03     #diameter in m\n",
      "a = math.pi*d*d/4     #area of cross section in m**2\n",
      "B = phi/a     #flux density in Wb/m**2\n",
      "Lg = 0.002     #length of air gap in m\n",
      "Ls = (math.pi*0.2)-Lg     #length of steel path\n",
      "Uo = 4*math.pi*(10**-7)     #absolute permitivity\n",
      "Ur = 800.     #relative permitivity of steel\n",
      "\n",
      "# Calculations\n",
      "Hg = B/Uo\n",
      "Hs = B/(Uo*Ur)\n",
      "AT = (Hg*Lg)+(Hs*Ls)     #total ampere turns required \n",
      "N = 500.     # no of turns\n",
      "I = AT/N     #exciting current in amps\n",
      "\n",
      "# Results\n",
      "print 'Thus the value of exciting current is %2.3f A'%(I)\n"
     ],
     "language": "python",
     "metadata": {},
     "outputs": [
      {
       "output_type": "stream",
       "stream": "stdout",
       "text": [
        "Thus the value of exciting current is 4.386 A\n"
       ]
      }
     ],
     "prompt_number": 1
    }
   ],
   "metadata": {}
  }
 ]
}