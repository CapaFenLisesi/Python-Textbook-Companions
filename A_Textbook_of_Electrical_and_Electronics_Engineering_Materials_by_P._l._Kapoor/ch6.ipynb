{
 "metadata": {
  "name": "",
  "signature": "sha256:e8768002e32a88c23e6fb12d42cae3515e4c448edb9dc1564d92a41d1c4ab1d4"
 },
 "nbformat": 3,
 "nbformat_minor": 0,
 "worksheets": [
  {
   "cells": [
    {
     "cell_type": "heading",
     "level": 1,
     "metadata": {},
     "source": [
      "Chapter 6 : Magnetic Materials"
     ]
    },
    {
     "cell_type": "heading",
     "level": 2,
     "metadata": {},
     "source": [
      "Example 6.1  Page No : 212"
     ]
    },
    {
     "cell_type": "code",
     "collapsed": false,
     "input": [
      "import math\n",
      "\n",
      "# Variables\n",
      "f = 0.01     #flux in Wb\n",
      "l = 1.     #mean circumference in m\n",
      "N = 1000.     #tunrs\n",
      "Ur = 1000.     #relative permeability\n",
      "\n",
      "# Calculations\n",
      "Uo = 4*math.pi*(10**-7)     #permeability of free space in H/m\n",
      "a = 0.001     # cross section area in m**2\n",
      "I = (f*l)/(N*Uo*Ur*a)     # current in Amp. math.since f = A*T/(l/Uo*Ur*a)\n",
      "\n",
      "# Results\n",
      "print 'Thus Current required is %3.3f Amp'%(I)\n"
     ],
     "language": "python",
     "metadata": {},
     "outputs": [
      {
       "output_type": "stream",
       "stream": "stdout",
       "text": [
        "Thus Current required is 7.958 Amp\n"
       ]
      }
     ],
     "prompt_number": 1
    },
    {
     "cell_type": "heading",
     "level": 2,
     "metadata": {},
     "source": [
      "Example 6.2  Page No : 212"
     ]
    },
    {
     "cell_type": "code",
     "collapsed": false,
     "input": [
      "import math\n",
      "\n",
      "# Variables\n",
      "f = 1.2*(10**-3)     #flux in Wb\n",
      "l = 1.4     #mean circumference in m\n",
      "N = 500.     #tunrs\n",
      "\n",
      "# Calculations\n",
      "Uo = 4*math.pi*(10**-7)     #permeability of free space in H/m\n",
      "a = 0.0012     # cross section area in m**2\n",
      "I = 2     #current in Amp\n",
      "Ur = (f*l)/(N*I*Uo*a)     #relative permeability\n",
      "\n",
      "# Results\n",
      "print 'Thus the relative permeability of iron is %3.2f '%(Ur)\n"
     ],
     "language": "python",
     "metadata": {},
     "outputs": [
      {
       "output_type": "stream",
       "stream": "stdout",
       "text": [
        "Thus the relative permeability of iron is 1114.08 \n"
       ]
      }
     ],
     "prompt_number": 2
    },
    {
     "cell_type": "heading",
     "level": 2,
     "metadata": {},
     "source": [
      "Example 6.3  Page No : 213"
     ]
    },
    {
     "cell_type": "code",
     "collapsed": false,
     "input": [
      "import math\n",
      "\n",
      "# Variables\n",
      "l = 0.4     #mean circumference in m\n",
      "N = 200.     #tunrs\n",
      "Uo = 4*math.pi*(10**-7)     #permeability of free space in H/m\n",
      "a = 5*(10**-4)     # cross section area in m**2\n",
      "I = 6.4     #current in Amp\n",
      "f = 0.8*(10**-3)     #flux in Wb\n",
      "\n",
      "# Calculations\n",
      "fd = f/a     #flux density in Wb/m**2\n",
      "fi = I*N/l     #Field intensity in AT/m\n",
      "Ur = (f*l)/(N*I*Uo*a)     #relative permeability\n",
      "\n",
      "# Results\n",
      "print 'i) The Flux density is %3.2f Wb/m**2 '%(fd)\n",
      "print 'ii) The Field intensity is %3.2f AT/m '%(fi)\n",
      "print 'iii) The Relative permeability of steel is %3.2f '%(Ur)\n",
      "#The answer to part(iii) has a calculation error in the textbook, hence it doesn't match the answer here.\n"
     ],
     "language": "python",
     "metadata": {},
     "outputs": [
      {
       "output_type": "stream",
       "stream": "stdout",
       "text": [
        "i) The Flux density is 1.60 Wb/m**2 \n",
        "ii) The Field intensity is 3200.00 AT/m \n",
        "iii) The Relative permeability of steel is 397.89 \n"
       ]
      }
     ],
     "prompt_number": 3
    },
    {
     "cell_type": "heading",
     "level": 2,
     "metadata": {},
     "source": [
      "Example 6.4  Page No : 214"
     ]
    },
    {
     "cell_type": "code",
     "collapsed": false,
     "input": [
      "\n",
      "# Variables\n",
      "Hl = 250.     #Hysteresis loss per m**3 in J/cycle\n",
      "V = 1./150     #Volume of specimen in m**3\n",
      "N = 50.     #No of cycles/sec\n",
      "\n",
      "# Calculations\n",
      "E = Hl*V*N     #Energy loss per sec in J\n",
      "Eh = (E*3600)/1000     #Energy loss per hour in kWh\n",
      "\n",
      "# Results\n",
      "print 'Thus Energy loss per hour is %3.2f kWh'%(Eh)\n"
     ],
     "language": "python",
     "metadata": {},
     "outputs": [
      {
       "output_type": "stream",
       "stream": "stdout",
       "text": [
        "Thus Energy loss per hour is 300.00 kWh\n"
       ]
      }
     ],
     "prompt_number": 4
    },
    {
     "cell_type": "heading",
     "level": 2,
     "metadata": {},
     "source": [
      "Example 6.5  Page No : 214"
     ]
    },
    {
     "cell_type": "code",
     "collapsed": false,
     "input": [
      "\n",
      "# Variables\n",
      "P = 4.     #no of poles\n",
      "N = 1600.     # Speed in rpm\n",
      "f = P*N/120     #Frequency of magnetic reversal\n",
      "V = 5400.     #volume\n",
      "d = 7.5     #density\n",
      "\n",
      "# Calculations\n",
      "m = (V*d)/1000     #Mass of armature in kg\n",
      "L = 1.76     #Loss in W/kg\n",
      "Cl = L*m     #Core loss in Watts\n",
      "\n",
      "# Results\n",
      "print 'Thus Frequency of magnetic reversal is %3.2f c/s'%(f)\n",
      "print ' and Core loss is %3.2f Watts'%(Cl)\n"
     ],
     "language": "python",
     "metadata": {},
     "outputs": [
      {
       "output_type": "stream",
       "stream": "stdout",
       "text": [
        "Thus Frequency of magnetic reversal is 53.33 c/s\n",
        " and Core loss is 71.28 Watts\n"
       ]
      }
     ],
     "prompt_number": 5
    },
    {
     "cell_type": "heading",
     "level": 2,
     "metadata": {},
     "source": [
      "Example 6.6  Page No : 214"
     ]
    },
    {
     "cell_type": "code",
     "collapsed": false,
     "input": [
      "\n",
      "# Variables\n",
      "v = 76300.     #volume in c.c\n",
      "P = 8.     # no of poles\n",
      "N = 375.     #rpm\n",
      "f = P*N/120     #freqency in c/s\n",
      "Bmax = 12000.     #max. flux density in lines/cm**2\n",
      "n = 0.002     #(assumed)\n",
      "d = 7.8     #densityin gm/c.c\n",
      "l = 1.7     #loss in watts per kg\n",
      "\n",
      "# Calculations\n",
      "Hl = n*v*f*(Bmax**1.6)*(10**-7)     #Hysteresis loss in Watts\n",
      "Al = v*d*l/1000     #Additional loss under particular running conditions\n",
      "Tl = Hl+Al     #total core loss\n",
      "\n",
      "# Results\n",
      "print 'Thus the total core loss is %4.0f Watts'%(Tl)\n"
     ],
     "language": "python",
     "metadata": {},
     "outputs": [
      {
       "output_type": "stream",
       "stream": "stdout",
       "text": [
        "Thus the total core loss is 2295 Watts\n"
       ]
      }
     ],
     "prompt_number": 6
    },
    {
     "cell_type": "heading",
     "level": 2,
     "metadata": {},
     "source": [
      "Example 6.7  Page No : 215"
     ]
    },
    {
     "cell_type": "code",
     "collapsed": false,
     "input": [
      "\n",
      "# Variables\n",
      "m = 12000.     #mass in gm\n",
      "d = 7.5     #density of iron in gm/c.c\n",
      "Hl = 3000.     #Hysteresis loss per cc in ergs/cycle\n",
      "N = 50.     #No of cycles per sec\n",
      "\n",
      "# Calculations\n",
      "v = m/d     #volume of specimen\n",
      "E = v*Hl*N     #Energy loss per cc in ergs\n",
      "Eh = E/(10**10)     #Energy loss per hour in kWh\n",
      "\n",
      "# Results\n",
      "print 'Thus the Loss in energy is %3.3f kWh'%(Eh)\n"
     ],
     "language": "python",
     "metadata": {},
     "outputs": [
      {
       "output_type": "stream",
       "stream": "stdout",
       "text": [
        "Thus the Loss in energy is 0.024 kWh\n"
       ]
      }
     ],
     "prompt_number": 7
    },
    {
     "cell_type": "heading",
     "level": 2,
     "metadata": {},
     "source": [
      "Example 6.8  Page No : 215"
     ]
    },
    {
     "cell_type": "code",
     "collapsed": false,
     "input": [
      "\n",
      "# Variables\n",
      "m = 10.     #mass in kg\n",
      "T1 = 20.     #total loss in watts\n",
      "f1 = 50.     #frequency in c/s\n",
      "T2 = 35.     #total loss in watts\n",
      "f2 = 75.     #frequency in c/s\n",
      "\n",
      "# Calculations\n",
      "#both have same peak flux density\n",
      "#total loss = hysteresis loss+ Eddy current loss\n",
      "#all quantities except frequency are consmath.tant\n",
      "#so Total loss = Af+Bf**2\n",
      "#let c1 and c2 be consmath.tants such that total loss = c1*f + c2*f**2\n",
      "c2 = (T2-(T1*f2/f1))/(f2**2-f1*f2)\n",
      "c1 = (T1-c2*f1**2)/f1\n",
      "k = c1/c2     #hysteresis loss/eddy current loss\n",
      "H50 = T1*k/101     #hysteresis loss at 50 c/s\n",
      "E50 = T1-H50     #eddy current loss at 50 c/s\n",
      "\n",
      "# Results\n",
      "print 'Thus hysteresis loss at 50 c/s is %3.1f Watts '%(H50)\n",
      "print 'And Eddy current loss at 50c/s is %3.1f Watts'%(E50)\n"
     ],
     "language": "python",
     "metadata": {},
     "outputs": [
      {
       "output_type": "stream",
       "stream": "stdout",
       "text": [
        "Thus hysteresis loss at 50 c/s is 19.8 Watts \n",
        "And Eddy current loss at 50c/s is 0.2 Watts\n"
       ]
      }
     ],
     "prompt_number": 8
    }
   ],
   "metadata": {}
  }
 ]
}