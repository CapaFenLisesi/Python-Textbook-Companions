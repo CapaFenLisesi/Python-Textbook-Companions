{
 "metadata": {
  "name": "",
  "signature": "sha256:14361654d3eb0fdc573f3a185ad8fc5594553acceea3084af85fe819b8a76399"
 },
 "nbformat": 3,
 "nbformat_minor": 0,
 "worksheets": [
  {
   "cells": [
    {
     "cell_type": "heading",
     "level": 1,
     "metadata": {},
     "source": [
      "Chapter 2 : Conducting Materials"
     ]
    },
    {
     "cell_type": "heading",
     "level": 2,
     "metadata": {},
     "source": [
      "Example 2.1  Page No : 21"
     ]
    },
    {
     "cell_type": "code",
     "collapsed": false,
     "input": [
      "\n",
      "# Variables\n",
      "l = 300     #in meters\n",
      "a = 25*(10**-6)     #in meter square\n",
      "d15 = 2.7     #density at 15 degree C in ohm-meter\n",
      "k0 = 0.004     #temp coefficient in ohm/degree C at 0 degree C\n",
      "t = 15.;T = 50.     #in degree C\n",
      "\n",
      "# Calculations\n",
      "R15 = d15*(l/a)\n",
      "k15 = k0/(1+(k0*t))\n",
      "R50 = R15*(1+k15*(T-t))\n",
      "\n",
      "# Results\n",
      "print 'The value of Resistance at 15 degree C is %3.2f.ohms '%(R15)\n",
      "print 'The value of Resistance at 50 degree C is %3.2f.ohms'%(R50)\n",
      "\n"
     ],
     "language": "python",
     "metadata": {},
     "outputs": [
      {
       "output_type": "stream",
       "stream": "stdout",
       "text": [
        "The value of Resistance at 15 degree C is 32400000.00.ohms \n",
        "The value of Resistance at 50 degree C is 36679245.28.ohms\n"
       ]
      }
     ],
     "prompt_number": 1
    },
    {
     "cell_type": "heading",
     "level": 2,
     "metadata": {},
     "source": [
      "Example 2.2  Page No : 21"
     ]
    },
    {
     "cell_type": "code",
     "collapsed": false,
     "input": [
      "\n",
      "# Variables     \n",
      "R20 = 400.     # in ohms\n",
      "k0 = 0.0038\n",
      "t = 20.;T = 80.     #degree C\n",
      "\n",
      "# Calculations\n",
      "k1 = k0/(1+(k0*t))\n",
      "R80 = R20*(1+k1*(T-t))\n",
      "\n",
      "# Results\n",
      "print 'The value of Resistance at 80 degree C is %3.4f ohms'%(R80)\n"
     ],
     "language": "python",
     "metadata": {},
     "outputs": [
      {
       "output_type": "stream",
       "stream": "stdout",
       "text": [
        "The value of Resistance at 80 degree C is 484.7584 ohms\n"
       ]
      }
     ],
     "prompt_number": 3
    },
    {
     "cell_type": "heading",
     "level": 2,
     "metadata": {},
     "source": [
      "Example 2.3  Page No : 22"
     ]
    },
    {
     "cell_type": "code",
     "collapsed": false,
     "input": [
      "\n",
      "# Variables\n",
      "t = 15.     #degree C\n",
      "R15 = 250.;RT = 300.     #ohms\n",
      "k0 = 0.0038     #ohm/degree C\n",
      "\n",
      "# Calculations\n",
      "k1 = k0/(1+(k0*t))\n",
      "T = (((RT/R15)-1)/k1)+t     #math.since RT = R15{1+k1*(T-t)}\n",
      "\n",
      "# Results\n",
      "print 'The value of Temperature at 300 ohm resistance is %3.1f degree C'%(T)\n"
     ],
     "language": "python",
     "metadata": {},
     "outputs": [
      {
       "output_type": "stream",
       "stream": "stdout",
       "text": [
        "The value of Temperature at 300 ohm resistance is 70.6 degree C\n"
       ]
      }
     ],
     "prompt_number": 4
    },
    {
     "cell_type": "heading",
     "level": 2,
     "metadata": {},
     "source": [
      "Example 2.4  Page No : 22"
     ]
    },
    {
     "cell_type": "code",
     "collapsed": false,
     "input": [
      "import math\n",
      "\n",
      "# Variables\n",
      "#Part (a)\n",
      "d = 0.4*(10**-3)     #diameter in meter\n",
      "a = math.pi*(d**2)/4     #area in meter square\n",
      "p1 = 100*(10**-8)     #resistivity of nichrome in ohm-meter\n",
      "R = 40     #resistance in ohms\n",
      "\n",
      "#Part(b)\n",
      "d = 0.4*(10**-3)     #diameter in meter\n",
      "a = 12.6*(10**-8)     #area in meter square\n",
      "p2 = 1.72*(10**-8)     #resistance of copper wire in ohm-meter\n",
      "R = 40     #resistance in ohms\n",
      "\n",
      "# Calculations\n",
      "l1 = R*a/p1\n",
      "l2 = R*a/p2\n",
      "\n",
      "# Results\n",
      "print 'Thus the length of heater element with nichrome wire is %2.1f meter '%(l1)\n",
      "print 'Thus the length of heater element with copper wire is %2.1f meter'%(l2)\n",
      "\n"
     ],
     "language": "python",
     "metadata": {},
     "outputs": [
      {
       "output_type": "stream",
       "stream": "stdout",
       "text": [
        "Thus the length of heater element with nichrome wire is 5.0 meter \n",
        "Thus the length of heater element with copper wire is 293.0 meter\n"
       ]
      }
     ],
     "prompt_number": 6
    },
    {
     "cell_type": "heading",
     "level": 2,
     "metadata": {},
     "source": [
      "Example 2.5  Page No : 23"
     ]
    },
    {
     "cell_type": "code",
     "collapsed": false,
     "input": [
      "\n",
      "# Variables\n",
      "R0 = 80     #in ohms\n",
      "t = 40     # in degree C\n",
      "k0 = 0.0043\n",
      "\n",
      "# Calculations\n",
      "R40 = R0*(1+(k0*t))\n",
      "\n",
      "# Results\n",
      "print 'The value of Resistance at 40 degree C is %3.2f ohms'%(R40)\n"
     ],
     "language": "python",
     "metadata": {},
     "outputs": [
      {
       "output_type": "stream",
       "stream": "stdout",
       "text": [
        "The value of Resistance at 40 degree C is 93.76 ohms\n"
       ]
      }
     ],
     "prompt_number": 7
    },
    {
     "cell_type": "heading",
     "level": 2,
     "metadata": {},
     "source": [
      "Example 2.6  Page No : 23"
     ]
    },
    {
     "cell_type": "code",
     "collapsed": false,
     "input": [
      "\n",
      "# Variables\n",
      "R80 = 50.;R28 = 40.     # resistance in ohms\n",
      "t = 28.;T = 80.     # temp in degrees\n",
      "\n",
      "# Calculations\n",
      "k28 = ((R80/R28)-1)/(T-t)     #math.since RT = Rt{1+k*(T-t)}\n",
      "k0 = k28/(1-k28*t)     # math.since k28 = k0/(1+k0*t)\n",
      "\n",
      "# Results\n",
      "print 'The value of Temperature coefficient  at 28 degree C is %3.4f ohms per degree C '%(k28)\n",
      "print 'The value of Temperature coefficient  at 0 degree C is %3.4f ohms per degree C'%(k0)\n"
     ],
     "language": "python",
     "metadata": {},
     "outputs": [
      {
       "output_type": "stream",
       "stream": "stdout",
       "text": [
        "The value of Temperature coefficient  at 28 degree C is 0.0048 ohms per degree C \n",
        "The value of Temperature coefficient  at 0 degree C is 0.0056 ohms per degree C\n"
       ]
      }
     ],
     "prompt_number": 9
    },
    {
     "cell_type": "heading",
     "level": 2,
     "metadata": {},
     "source": [
      "Example 2.7  Page No : 24"
     ]
    },
    {
     "cell_type": "code",
     "collapsed": false,
     "input": [
      "import math\n",
      "\n",
      "\n",
      "# Variables\n",
      "l = 1000     # length in meters\n",
      "d = 0.09/100     # diameter in meters\n",
      "p = 1.724*(10**-8)     # specific resistance in ohm meter\n",
      "\n",
      "# Calculations\n",
      "a = math.pi*(d**2)/4     # area in meter square\n",
      "R = p*l/a     #resistance in ohms\n",
      "\n",
      "# Results\n",
      "print 'The value of Resistance is %3.2f ohms'%(R)\n"
     ],
     "language": "python",
     "metadata": {},
     "outputs": [
      {
       "output_type": "stream",
       "stream": "stdout",
       "text": [
        "The value of Resistance is 27.10 ohms\n"
       ]
      }
     ],
     "prompt_number": 10
    },
    {
     "cell_type": "heading",
     "level": 2,
     "metadata": {},
     "source": [
      "Example 2.8  Page No : 24"
     ]
    },
    {
     "cell_type": "code",
     "collapsed": false,
     "input": [
      "\n",
      "# Variables\n",
      "R20 = 50.     # resistance in ohms\n",
      "T = 60.;t = 20.     # temp in degree C\n",
      "k0 = 0.00427     #temp coefficient at zero degreeC\n",
      "\n",
      "# Calculations\n",
      "R0 = R20/(1+(k0*t))\n",
      "R60 = R0*(1+(k0*T))\n",
      "\n",
      "# Results\n",
      "print 'The value of Resistance at 0 degree C is %3.2f ohms '%(R0)\n",
      "print 'The value of Resistance at 60 degree C is %3.2f ohms'%(R60)\n"
     ],
     "language": "python",
     "metadata": {},
     "outputs": [
      {
       "output_type": "stream",
       "stream": "stdout",
       "text": [
        "The value of Resistance at 0 degree C is 46.07 ohms \n",
        "The value of Resistance at 60 degree C is 57.87 ohms\n"
       ]
      }
     ],
     "prompt_number": 11
    },
    {
     "cell_type": "heading",
     "level": 2,
     "metadata": {},
     "source": [
      "Example 2.9  Page No : 24"
     ]
    },
    {
     "cell_type": "code",
     "collapsed": false,
     "input": [
      "\n",
      "# Variables\n",
      "k20 = 1/254.5     # temperature coefficient at 20 degreeC\n",
      "p0 = 1.6*(10**-6)     # resistivity at 0 degree C in ohm-cm\n",
      "t = 20\n",
      "T = 50     #temp in degree C\n",
      "\n",
      "# Calculations\n",
      "k0 = k20/(1-(t*k20))     #temperature coefficient at 0 degreeC\n",
      "p50 = p0*(1+(T*k0))     # resistivity at 50 degree C in ohm-cm\n",
      "k50 = 1/(T+(1/k0))     #temperature coefficient at 50 degreeC\n",
      "\n",
      "# Results\n",
      "print 'Thus the temperature coefficient at 50 degree C is %3.4f '%(k0)\n",
      "print 'Thus the resistivity at 50 degree C is %e in ohm-cm'%(p50)\n"
     ],
     "language": "python",
     "metadata": {},
     "outputs": [
      {
       "output_type": "stream",
       "stream": "stdout",
       "text": [
        "Thus the temperature coefficient at 50 degree C is 0.0043 \n",
        "Thus the resistivity at 50 degree C is 1.941151e-06 in ohm-cm\n"
       ]
      }
     ],
     "prompt_number": 12
    },
    {
     "cell_type": "heading",
     "level": 2,
     "metadata": {},
     "source": [
      "Example 2.10  Page No : 25"
     ]
    },
    {
     "cell_type": "code",
     "collapsed": false,
     "input": [
      "\n",
      "# Variables\n",
      "R15 = 50\n",
      "RT = 58     # resistance in ohms\n",
      "t = 15     # te mp in degree C\n",
      "k0 = 0.00425     # temp coefficient at 0 degree C\n",
      "\n",
      "# Calculations\n",
      "R0 = R15/(1+(k0*t))     # resistance at 0 degree C in ohms\n",
      "T = ((RT/R0)-1)/k0     # temp in degree C\n",
      "\n",
      "# Results\n",
      "print 'The value of Resistance at 0 degree C is %3.1f ohms '%(R0)\n",
      "print 'The value of Temperature at 58 ohm resistance is %3.4f degree C'%(T)\n"
     ],
     "language": "python",
     "metadata": {},
     "outputs": [
      {
       "output_type": "stream",
       "stream": "stdout",
       "text": [
        "The value of Resistance at 0 degree C is 47.0 ohms \n",
        "The value of Temperature at 58 ohm resistance is 55.0471 degree C\n"
       ]
      }
     ],
     "prompt_number": 15
    },
    {
     "cell_type": "heading",
     "level": 2,
     "metadata": {},
     "source": [
      "Example 2.11  Page No : 25"
     ]
    },
    {
     "cell_type": "code",
     "collapsed": false,
     "input": [
      "\n",
      "# Variables\n",
      "R25 = 50.\n",
      "R70 = 57.2     # resistance in ohms\n",
      "t = 25.\n",
      "T = 70     # temp in degree C\n",
      "\n",
      "# Calculations\n",
      "#math.since Rt = R0(1+(k0*t))\n",
      "k0 = (R70-R25)/((R25*T)-(R70*t))\n",
      "\n",
      "# Results\n",
      "print 'The temp coefficient at 0 degree C is %3.3f'%(k0 )\n"
     ],
     "language": "python",
     "metadata": {},
     "outputs": [
      {
       "output_type": "stream",
       "stream": "stdout",
       "text": [
        "The temp coefficient at 0 degree C is 0.003\n"
       ]
      }
     ],
     "prompt_number": 16
    },
    {
     "cell_type": "heading",
     "level": 2,
     "metadata": {},
     "source": [
      "Example 2.12  Page No : 26"
     ]
    },
    {
     "cell_type": "code",
     "collapsed": false,
     "input": [
      "\n",
      "# Variables\n",
      "R0 = 15.5     # resistance in ohms\n",
      "t = 16     #in degree C\n",
      "k0 = 0.00428     #temp coefficient\n",
      "\n",
      "# Calculations\n",
      "R16 = R0*(1+(k0*t))\n",
      "G = (R0/R16)*100     # math.since conducmath.tance = reciprocal of esismath.tance\n",
      "\n",
      "# Results\n",
      "print 'The value of Resistance at 16 degree C is %3.4f ohms '%(R16)\n",
      "print 'The value of percentage conductivity at 16 degree C is %3.2f percent'%(G)\n"
     ],
     "language": "python",
     "metadata": {},
     "outputs": [
      {
       "output_type": "stream",
       "stream": "stdout",
       "text": [
        "The value of Resistance at 16 degree C is 16.5614 ohms \n",
        "The value of percentage conductivity at 16 degree C is 93.59 percent\n"
       ]
      }
     ],
     "prompt_number": 17
    },
    {
     "cell_type": "heading",
     "level": 2,
     "metadata": {},
     "source": [
      "Example 2.13  Page No : 26"
     ]
    },
    {
     "cell_type": "code",
     "collapsed": false,
     "input": [
      "# Variables\n",
      "RT = 144.\n",
      "R20 = 10.     # in ohms\n",
      "t = 20.     # in degree C\n",
      "\n",
      "# Calculations\n",
      "k20 = 5*(10**-3)     #temp coefficient at 20 degree C\n",
      "T = (((RT/R20)-1)/k20)+t\n",
      "\n",
      "# Results\n",
      "print 'The value of temp required for tungsten bulb is %4.2f degree C'%(T)\n"
     ],
     "language": "python",
     "metadata": {},
     "outputs": [
      {
       "output_type": "stream",
       "stream": "stdout",
       "text": [
        "The value of temp required for tungsten bulb is 2700.00 degree C\n"
       ]
      }
     ],
     "prompt_number": 18
    },
    {
     "cell_type": "heading",
     "level": 2,
     "metadata": {},
     "source": [
      "Example 2.14  Page No : 27"
     ]
    },
    {
     "cell_type": "code",
     "collapsed": false,
     "input": [
      "\n",
      "# Variables\n",
      "V15 = 250\n",
      "Vt = 250     #voltage in volts\n",
      "I15 = 5\n",
      "It = 4     #current in amperes\n",
      "T = 15     #temp in degree C\n",
      "\n",
      "# Calculations\n",
      "R15 = V15/I15     #resistance in ohms at 15 degreeC\n",
      "Rt = Vt/It     #resistance at t degreeC\n",
      "k0 = 0.0038\n",
      "R0 = R15/(1+(k0*T))\n",
      "t = ((Rt/R0)-1)/k0\n",
      "\n",
      "# Results\n",
      "print 'Resistance at 15 degree C is %3.1f ohms '%(R15)\n",
      "print 'Resistance at t degree C is %3.1f ohms '%(Rt)\n",
      "print 'Resistance at 0 degree C is %3.2f ohms '%(R0)\n",
      "print 'Temperature t is %3.2f degree C'%(t)\n"
     ],
     "language": "python",
     "metadata": {},
     "outputs": [
      {
       "output_type": "stream",
       "stream": "stdout",
       "text": [
        "Resistance at 15 degree C is 50.0 ohms \n",
        "Resistance at t degree C is 62.0 ohms \n",
        "Resistance at 0 degree C is 47.30 ohms \n",
        "Temperature t is 81.76 degree C\n"
       ]
      }
     ],
     "prompt_number": 19
    },
    {
     "cell_type": "heading",
     "level": 2,
     "metadata": {},
     "source": [
      "Example 2.15  Page No : 28"
     ]
    },
    {
     "cell_type": "code",
     "collapsed": false,
     "input": [
      "\n",
      "# Variables\n",
      "n = 100     #no of slots\n",
      "c = 12     #conductors per slot\n",
      "Lm = 300     # mean length of turn in cm\n",
      "a = 1.5*0.2     #cross section of each conductor in cm**2\n",
      "s = 1.72*(10**-6)     #specific resistance of copper at 20 degreeC\n",
      "p = 4     # poles\n",
      "t = 20\n",
      "T = 75     #temp in degreeC\n",
      "k0 = 0.00427     #temp coefficient of resistivity for copper\n",
      "\n",
      "# Calculations\n",
      "L = n*c*Lm     #total length of conductors\n",
      "Ls = L/p     #length of conductors in each parallel path\n",
      "s0 = s*(1-(k0*t))\n",
      "RT = (s0*Ls)/a\n",
      "\n",
      "# Results\n",
      "print 'Thus specific resistance at 0 degree C is %e ohm-cm '%(s0)\n",
      "print 'Thus resistance at working temp of 75 degree C is %3.4f ohm'%(RT)\n"
     ],
     "language": "python",
     "metadata": {},
     "outputs": [
      {
       "output_type": "stream",
       "stream": "stdout",
       "text": [
        "Thus specific resistance at 0 degree C is 1.573112e-06 ohm-cm \n",
        "Thus resistance at working temp of 75 degree C is 0.4719 ohm\n"
       ]
      }
     ],
     "prompt_number": 20
    },
    {
     "cell_type": "heading",
     "level": 2,
     "metadata": {},
     "source": [
      "Example 2.16  Page No : 28"
     ]
    },
    {
     "cell_type": "code",
     "collapsed": false,
     "input": [
      "# Variables\n",
      "a = 15.     #cross section area in cm**2\n",
      "l = 100000     #length in cm\n",
      "p0 = 7.6*(10**-6)     #specific resistance at 0 degree C in ohm-cm\n",
      "k0 = 0.005     #temp coefficient at 0 degree C\n",
      "t = 50     #temp in degree C\n",
      "\n",
      "# Calculations\n",
      "p50 = p0*(1+(t*k0))     #resistivity at 50 degree C\n",
      "R50 = p50*(l/a)\n",
      "\n",
      "# Results\n",
      "print 'Thus resistance at 50 degree C is %3.5f ohms '%(R50)\n"
     ],
     "language": "python",
     "metadata": {},
     "outputs": [
      {
       "output_type": "stream",
       "stream": "stdout",
       "text": [
        "Thus resistance at 50 degree C is 0.06333 ohms \n"
       ]
      }
     ],
     "prompt_number": 22
    },
    {
     "cell_type": "heading",
     "level": 2,
     "metadata": {},
     "source": [
      "Example 2.17  Page No : 29"
     ]
    },
    {
     "cell_type": "code",
     "collapsed": false,
     "input": [
      "\n",
      "# Variables\n",
      "I2 = 27.5     #current of No.25 wire in Amperes\n",
      "d = 1./2     #math.since I1/I2 = 1/2\n",
      "\n",
      "# Calculations\n",
      "I1 = I2*(d**(3./2))\n",
      "\n",
      "# Results\n",
      "print 'Thus fusing current of No.33 wire is %3.3f amperes '%(I1)\n"
     ],
     "language": "python",
     "metadata": {},
     "outputs": [
      {
       "output_type": "stream",
       "stream": "stdout",
       "text": [
        "Thus fusing current of No.33 wire is 9.723 amperes \n"
       ]
      }
     ],
     "prompt_number": 23
    },
    {
     "cell_type": "heading",
     "level": 2,
     "metadata": {},
     "source": [
      "Example 2.18  Page No : 30"
     ]
    },
    {
     "cell_type": "code",
     "collapsed": false,
     "input": [
      "import math\n",
      "\n",
      "\n",
      "# Variables\n",
      "sAl = 2.85*(10**-6)\n",
      "sCu = 1.7*(10**-6)     #specific resistance in ohm-cm\n",
      "gAl = 2.71\n",
      "gCu = 8.89     #specific gravity \n",
      "cAl = 5000.\n",
      "cCu = 10000.     #math.cost per tonne\n",
      "\n",
      "# Calculations\n",
      "#P = V**2/R, power is same for both so resistance must also be same\n",
      "#so R = (p*l)/(pi*d**2) = (p*l)/(pi*d'**2)\n",
      "Kd = math.sqrt(sAl/sCu)     #Kd = d/d'\n",
      "Km = (Kd**2)*(gAl/gCu)\n",
      "Kc = Km*(cAl/cCu)\n",
      "\n",
      "# Results\n",
      "print 'Thus the ratio of diameters is %3.3f '%(Kd)\n",
      "print 'Thus the ratio of weights is %3.4f '%(Km)\n",
      "print 'Thus the ratio of math.costs is %3.4f'%(Kc)\n"
     ],
     "language": "python",
     "metadata": {},
     "outputs": [
      {
       "output_type": "stream",
       "stream": "stdout",
       "text": [
        "Thus the ratio of diameters is 1.295 \n",
        "Thus the ratio of weights is 0.5111 \n",
        "Thus the ratio of math.costs is 0.2555\n"
       ]
      }
     ],
     "prompt_number": 26
    },
    {
     "cell_type": "heading",
     "level": 2,
     "metadata": {},
     "source": [
      "Example 2.19  Page No : 33"
     ]
    },
    {
     "cell_type": "code",
     "collapsed": false,
     "input": [
      "\n",
      "# Variables\n",
      "R1 = 18.6     #resistacne in ohms\n",
      "Kl = 5.     #math.since l2 = 5*l1\n",
      "Ka = 3     # math.since a2 = 3*a1\n",
      "\n",
      "# Calculations\n",
      "R2 = R1*Kl/Ka\n",
      "# resistivity is same because wires are of same material\n",
      "\n",
      "# Results\n",
      "print 'Thus the resistance of another conductor is %3.1f ohms'%(R2)\n"
     ],
     "language": "python",
     "metadata": {},
     "outputs": [
      {
       "output_type": "stream",
       "stream": "stdout",
       "text": [
        "Thus the resistance of another conductor is 31.0 ohms\n"
       ]
      }
     ],
     "prompt_number": 27
    },
    {
     "cell_type": "heading",
     "level": 2,
     "metadata": {},
     "source": [
      "Example 2.20  Page No : 57"
     ]
    },
    {
     "cell_type": "code",
     "collapsed": false,
     "input": [
      "\n",
      "# Variables\n",
      "m = 1.     #mass in kg\n",
      "S = 4200.     #specific heat of water\n",
      "T2 = 100.;T1 = 15.     # temp in degree C\n",
      "W = 500     #wattage rating of kettle in volts\n",
      "t = 15*60     # time in sec\n",
      "\n",
      "# Calculations\n",
      "H = m*S*(T2-T1)     #heat utilised in J\n",
      "Hd = W*t     #heat developed in J\n",
      "He = (H/Hd)*100     #Heat efficiency\n",
      "\n",
      "# Results\n",
      "print 'Heat utilised is %6.2f Joules '%(H)\n",
      "print 'Heat developed is %6.2f Joules '%(Hd)\n",
      "print 'Thus heat efficiency is %3.2f percent'%(He)\n"
     ],
     "language": "python",
     "metadata": {},
     "outputs": [
      {
       "output_type": "stream",
       "stream": "stdout",
       "text": [
        "Heat utilised is 357000.00 Joules \n",
        "Heat developed is 450000.00 Joules \n",
        "Thus heat efficiency is 79.33 percent\n"
       ]
      }
     ],
     "prompt_number": 28
    },
    {
     "cell_type": "heading",
     "level": 2,
     "metadata": {},
     "source": [
      "Example 2.21  Page No : 58"
     ]
    },
    {
     "cell_type": "code",
     "collapsed": false,
     "input": [
      "\n",
      "# Variables\n",
      "m = 3.6     #mass in kg\n",
      "S = 4200.     #specific heat of water\n",
      "T2 = 95.;T1 = 15.     # temp in degree C\n",
      "e = 0.84     #efficiency of kettle\n",
      "Ei = H/e     #Energy input in J\n",
      "W = 1000     #rating of kettle in watts\n",
      "\n",
      "# Calculations\n",
      "H = m*S*(T2-T1)     #heat utilised in J\n",
      "t = (Ei/W)/60     #time taken in min\n",
      "\n",
      "# Results\n",
      "print 'Heat utilised is %7.2f Joules '%(H)\n",
      "print 'Energy input is %8.2f Joules '%(Ei)\n",
      "print 'Thus time taken is %2.1f min '%(t)\n"
     ],
     "language": "python",
     "metadata": {},
     "outputs": [
      {
       "output_type": "stream",
       "stream": "stdout",
       "text": [
        "Heat utilised is 1209600.00 Joules \n",
        "Energy input is 425000.00 Joules \n",
        "Thus time taken is 7.1 min \n"
       ]
      }
     ],
     "prompt_number": 29
    }
   ],
   "metadata": {}
  }
 ]
}