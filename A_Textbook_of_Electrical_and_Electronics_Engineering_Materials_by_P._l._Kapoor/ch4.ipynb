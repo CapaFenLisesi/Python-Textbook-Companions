{
 "metadata": {
  "name": "",
  "signature": "sha256:ba6f1d3cb7a99561709c7e5c6ea07ce342428fdb3c43ae9d65ae12aba516bc88"
 },
 "nbformat": 3,
 "nbformat_minor": 0,
 "worksheets": [
  {
   "cells": [
    {
     "cell_type": "heading",
     "level": 1,
     "metadata": {},
     "source": [
      "Chapter 4 : Insulating Materials"
     ]
    },
    {
     "cell_type": "heading",
     "level": 2,
     "metadata": {},
     "source": [
      "Example 4.1  Page No : 110"
     ]
    },
    {
     "cell_type": "code",
     "collapsed": false,
     "input": [
      "\n",
      "from sympy import Symbol,solve\n",
      "# Let C1 and C2 be unknown capacities\n",
      "#C1+C2 = 0.16\n",
      "#(C1*C2)/(C1 + C2) = 0.03\n",
      "# from the above 2 equations we get the following polynomial\n",
      "s = Symbol(\"s\");\n",
      "p = s**2 -0.16*s +0.0048\n",
      "\n",
      "# Calculations\n",
      "c1 = solve(p)[0]\n",
      "c2 = 0.16-c1\n",
      "\n",
      "# Results\n",
      "print 'Thus the capacitance of condensers is  %3.2f microF  '%(c1)\n"
     ],
     "language": "python",
     "metadata": {},
     "outputs": [
      {
       "output_type": "stream",
       "stream": "stdout",
       "text": [
        "Thus the capacitance of condensers is  0.04 microF  \n"
       ]
      }
     ],
     "prompt_number": 1
    },
    {
     "cell_type": "heading",
     "level": 2,
     "metadata": {},
     "source": [
      "Example 4.2  Page No : 110"
     ]
    },
    {
     "cell_type": "code",
     "collapsed": false,
     "input": [
      "\n",
      "# Variables\n",
      "n = 9;\n",
      "Ko = 8.854*10**-12;\n",
      "K = 5.;\n",
      "A = 12.*10**-4;\n",
      "d = 2.*10**-4;\n",
      "\n",
      "# Calculations\n",
      "C = (n-1)*Ko*K*A/d\n",
      "\n",
      "# Results\n",
      "print 'Thus the capacitance is %e F'%(C);\n",
      "#The Answer in the Textbook has a calculation error, hence it doesn't match the answer here.\n"
     ],
     "language": "python",
     "metadata": {},
     "outputs": [
      {
       "output_type": "stream",
       "stream": "stdout",
       "text": [
        "Thus the capacitance is 2.124960e-09 F\n"
       ]
      }
     ],
     "prompt_number": 2
    },
    {
     "cell_type": "heading",
     "level": 2,
     "metadata": {},
     "source": [
      "Example 4.3  Page No : 110"
     ]
    },
    {
     "cell_type": "code",
     "collapsed": false,
     "input": [
      "\n",
      "# Variables\n",
      "C = 10**-6\n",
      "V = 10000.\n",
      "\n",
      "# Calculations\n",
      "#here C is capacitance and V voltage\n",
      "E = 1./2*C*V**2\n",
      "#E is the energy stored in the capacitor\n",
      "# when the capacitor is discharged all this energy is dissipated as heat in the wire\n",
      "H = E/4.2\n",
      "\n",
      "# Results\n",
      "#H is heat produced in calories math.since 4.2 Joules = 1 calorie\n",
      "print 'Thus the heat produced is %3.4f calories'%(H)\n"
     ],
     "language": "python",
     "metadata": {},
     "outputs": [
      {
       "output_type": "stream",
       "stream": "stdout",
       "text": [
        "Thus the heat produced is 11.9048 calories\n"
       ]
      }
     ],
     "prompt_number": 3
    },
    {
     "cell_type": "heading",
     "level": 2,
     "metadata": {},
     "source": [
      "Example 4.4  Page No : 111"
     ]
    },
    {
     "cell_type": "code",
     "collapsed": false,
     "input": [
      "\n",
      "# Variables\n",
      "A = 0.02;     #surface area of plates in meter square\n",
      "d = 0.001;     #dismath.tance between the plates in meter\n",
      "C = 4.5*10**-10;     #capacitance of the capacitor in farad\n",
      "#for paralel plate condenser C = KoKA/d\n",
      "Ko = 8.854*10**-12;\n",
      "\n",
      "# Calculations\n",
      "#dielectric consmath.tant K is given by\n",
      "K = (C*d)/(Ko*A)\n",
      "V = 15000.;     #volatage in volts\n",
      "Q = C*V     # charge on condenser in columb\n",
      "D = Q/A     # electric flux density in columb per meter square\n",
      "\n",
      "# Results\n",
      "print 'Thus the electric flux density is %e C/m**2)'%(D)\n"
     ],
     "language": "python",
     "metadata": {},
     "outputs": [
      {
       "output_type": "stream",
       "stream": "stdout",
       "text": [
        "Thus the electric flux density is 3.375000e-04 C/m**2)\n"
       ]
      }
     ],
     "prompt_number": 4
    },
    {
     "cell_type": "heading",
     "level": 2,
     "metadata": {},
     "source": [
      "Example 4.5  Page No : 111"
     ]
    },
    {
     "cell_type": "code",
     "collapsed": false,
     "input": [
      "\n",
      "# Variables\n",
      "#before inserting the second sheet\n",
      "d = 0.003;     #distacne between plates in m**2\n",
      "K1 = 6.;     # relative permittivity of air\n",
      "Ko = 8.854*10**-12;\n",
      "# capacitance C1 = Ko*K1*A/d in Farad\n",
      "#after inserting the second sheet\n",
      "d1 = 0.003;     #thickness of first sheet in meter\n",
      "d2 = 0.005;     #thickness of second sheet in meter\n",
      "\n",
      "# Calculations\n",
      "#K2 is unknown\n",
      "#C2 = Ko*A/(d1/K1 + d2/K2)\n",
      "# but given that C2 = (1/3)*C1\n",
      "#from equations 1,2,3\n",
      "K2 =  (d2*K1)/(3*d-d1)\n",
      "# math.since Ko*A/(d1/K1 + d2/K2) = Ko*K1*A/3*d\n",
      "\n",
      "# Results\n",
      "print 'Thus K2 is %3.4f'%(K2)\n"
     ],
     "language": "python",
     "metadata": {},
     "outputs": [
      {
       "output_type": "stream",
       "stream": "stdout",
       "text": [
        "Thus K2 is 5.0000\n"
       ]
      }
     ],
     "prompt_number": 5
    },
    {
     "cell_type": "heading",
     "level": 2,
     "metadata": {},
     "source": [
      "Example 4.6  Page No : 113"
     ]
    },
    {
     "cell_type": "code",
     "collapsed": false,
     "input": [
      "\n",
      "# Variables\n",
      "q1 = 1.;     # in coulomb\n",
      "q2 = 1.;     # in coulomb\n",
      "Eo = 8.854*10**-12;     # in Farad per meter\n",
      "Er = 1.;\n",
      "d = 1.     # in meter\n",
      "pi = 3.14;\n",
      "\n",
      "# Calculations\n",
      "# F is the force between 2 charges in NEWTONS\n",
      "F = (q1*q2)/(4*pi*Eo*Er*d**2)\n",
      "\n",
      "# Results\n",
      "print 'Thus the force between 2 charges is %e'%(F)\n"
     ],
     "language": "python",
     "metadata": {},
     "outputs": [
      {
       "output_type": "stream",
       "stream": "stdout",
       "text": [
        "Thus the force between 2 charges is 8.992301e+09\n"
       ]
      }
     ],
     "prompt_number": 6
    },
    {
     "cell_type": "heading",
     "level": 2,
     "metadata": {},
     "source": [
      "Example 4.7  Page No : 114"
     ]
    },
    {
     "cell_type": "code",
     "collapsed": false,
     "input": [
      "import math\n",
      "\n",
      "# Variables\n",
      "#q1 = q2 = q\n",
      "pi = 3.14;\n",
      "d = 0.2;     # in meters\n",
      "K = 9*10**9;     # here K = 1/4*pi*Eo*Er consmath.tant\n",
      "F = 9.81*10**-1;     # in newtons or 10**-1 kgm\n",
      "\n",
      "# Calculations\n",
      "q = math.sqrt((F*(d**2))/K)\n",
      "\n",
      "# Results\n",
      "print 'Thus charge is %e in coulomb'%(q)\n"
     ],
     "language": "python",
     "metadata": {},
     "outputs": [
      {
       "output_type": "stream",
       "stream": "stdout",
       "text": [
        "Thus charge is 2.088061e-06 in coulomb\n"
       ]
      }
     ],
     "prompt_number": 7
    }
   ],
   "metadata": {}
  }
 ]
}