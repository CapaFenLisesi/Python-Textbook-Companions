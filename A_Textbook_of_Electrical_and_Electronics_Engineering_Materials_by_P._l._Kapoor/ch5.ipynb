{
 "metadata": {
  "name": "",
  "signature": "sha256:d56b71d3ece6063cd7435898d62b9a23553160e5448af11850fa2517ad7f9e87"
 },
 "nbformat": 3,
 "nbformat_minor": 0,
 "worksheets": [
  {
   "cells": [
    {
     "cell_type": "heading",
     "level": 1,
     "metadata": {},
     "source": [
      "Chapter 5 : Dielectric Materials"
     ]
    },
    {
     "cell_type": "heading",
     "level": 2,
     "metadata": {},
     "source": [
      "Example 5.1  Page No : 193"
     ]
    },
    {
     "cell_type": "code",
     "collapsed": false,
     "input": [
      "\n",
      "# Variables\n",
      "t = 0.25     #time in sec\n",
      "I = 0.22     #Current in A\n",
      "V = 220.     #voltage in V\n",
      "\n",
      "# Calculations\n",
      "Q = I*t     #charge given to condenser\n",
      "C = Q/V     #capacitance of condenser\n",
      "C1 = C*(10**6)\n",
      "\n",
      "# Results\n",
      "print 'Charge given to condenser is %3.3f Coulombs '%(Q)\n",
      "print 'Capacitance of condenser is %3.4f F'%(C)\n",
      "print 'or %3.0f microF'%(C1)"
     ],
     "language": "python",
     "metadata": {},
     "outputs": [
      {
       "output_type": "stream",
       "stream": "stdout",
       "text": [
        "Charge given to condenser is 0.055 Coulombs \n",
        "Capacitance of condenser is 0.0003 F\n",
        "or 250 microF\n"
       ]
      }
     ],
     "prompt_number": 1
    },
    {
     "cell_type": "heading",
     "level": 2,
     "metadata": {},
     "source": [
      "Example 5.2  Page No : 193"
     ]
    },
    {
     "cell_type": "code",
     "collapsed": false,
     "input": [
      "\n",
      "# Variables\n",
      "C = 0.0002*(10**-6)     #capacitance in F\n",
      "V = 20000.     #P.D across condenser in V\n",
      "t = 2     #thickness in mm\n",
      "\n",
      "# Calculations\n",
      "Q = C*V     #charge on each plate in coulomb\n",
      "g = (V/t)*(1./1000)     # potential gradient in kV/mm\n",
      "\n",
      "# Results\n",
      "print 'Charge given to condenser is %e Coulombs '%(Q)\n",
      "print 'Potential gradient of condenser is %3.0f kV/mm'%(g)\n"
     ],
     "language": "python",
     "metadata": {},
     "outputs": [
      {
       "output_type": "stream",
       "stream": "stdout",
       "text": [
        "Charge given to condenser is 4.000000e-06 Coulombs \n",
        "Potential gradient of condenser is  10 kV/mm\n"
       ]
      }
     ],
     "prompt_number": 2
    },
    {
     "cell_type": "heading",
     "level": 2,
     "metadata": {},
     "source": [
      "Example 5.3  Page No : 194"
     ]
    },
    {
     "cell_type": "code",
     "collapsed": false,
     "input": [
      "\n",
      "# Variables\n",
      "#Before immersion of oil\n",
      "C = 0.005*(10**-6)\n",
      "V = 500.\n",
      "#After immersion of oil\n",
      "K = 2.5\n",
      "\n",
      "# Calculations\n",
      "q = C*V\n",
      "q1 = q     # math.since no loss of charge\n",
      "E = (1./2)*(C*V*V)\n",
      "C1 = K*C     #capacity of condenser\n",
      "E1 = (q1**2)/(2*C1)     # energy stored in condenser\n",
      "\n",
      "# Results\n",
      "print 'Charge of condenser is %e coulomb '%(q)\n",
      "print 'Energy stored in condenser before immersion of oil is %e Joules '%(E)\n",
      "print 'Energy stored in condenser after immersion of oil is %e Joules'%(E1)\n"
     ],
     "language": "python",
     "metadata": {},
     "outputs": [
      {
       "output_type": "stream",
       "stream": "stdout",
       "text": [
        "Charge of condenser is 2.500000e-06 coulomb \n",
        "Energy stored in condenser before immersion of oil is 6.250000e-04 Joules \n",
        "Energy stored in condenser after immersion of oil is 2.500000e-04 Joules\n"
       ]
      }
     ],
     "prompt_number": 4
    },
    {
     "cell_type": "heading",
     "level": 2,
     "metadata": {},
     "source": [
      "Example 5.4  Page No : 194"
     ]
    },
    {
     "cell_type": "code",
     "collapsed": false,
     "input": [
      "\n",
      "# Variables\n",
      "A = 0.02     #surface area of plate in m**2\n",
      "d = 0.001     #dismath.tance between plates in m\n",
      "C = 4.5*(10**-10)     #capacitance in F\n",
      "V = 15000.     #voltage in volts\n",
      "\n",
      "# Calculations\n",
      "K0 = 8.854*(10**-12)\n",
      "K = (C*d)/(K0*A)\n",
      "q = C*V     # charge on condenser in coulombs\n",
      "D = q/A     #Electric flux density in Coulomb/m**2\n",
      "\n",
      "# Results\n",
      "print 'Thus dielectric consmath.tant is %3.2f '%(K)\n",
      "print 'Thus Electric flux density is %e Coulombs/m**2'%(D)\n"
     ],
     "language": "python",
     "metadata": {},
     "outputs": [
      {
       "output_type": "stream",
       "stream": "stdout",
       "text": [
        "Thus dielectric consmath.tant is 2.54 \n",
        "Thus Electric flux density is 3.375000e-04 Coulombs/m**2\n"
       ]
      }
     ],
     "prompt_number": 5
    },
    {
     "cell_type": "heading",
     "level": 2,
     "metadata": {},
     "source": [
      "Example 5.5  Page No : 195"
     ]
    },
    {
     "cell_type": "code",
     "collapsed": false,
     "input": [
      "\n",
      "# Variables\n",
      "A = 0.2     #surface area of plate in m**2\n",
      "t = 2.5*(10**-5)     #thickness of dielectric in m\n",
      "\n",
      "# Calculations\n",
      "K0 = 8.854*(10**-12)     #permittivity of air  in F/m\n",
      "K = 5     #relative permittivity of dielectric\n",
      "C = (K*K0*A*(10**6))/t     #capacitance of condenser in microF\n",
      "\n",
      "# Results\n",
      "print 'Thus the Capacitance of condenser is %3.3f microF'%(C)\n"
     ],
     "language": "python",
     "metadata": {},
     "outputs": [
      {
       "output_type": "stream",
       "stream": "stdout",
       "text": [
        "Thus the Capacitance of condenser is 0.354 microF\n"
       ]
      }
     ],
     "prompt_number": 6
    }
   ],
   "metadata": {}
  }
 ]
}